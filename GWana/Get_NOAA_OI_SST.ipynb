{
 "cells": [
  {
   "cell_type": "code",
   "execution_count": null,
   "id": "86d65d46-a7ea-40de-8052-8cac02d088e4",
   "metadata": {},
   "outputs": [],
   "source": [
    "import os\n",
    "import subprocess\n",
    "import numpy as np\n",
    "\n",
    "\n",
    "\n",
    "\n",
    "# https://downloads.psl.noaa.gov/Datasets/noaa.oisst.v2.highres/sst.day.mean.ltm.1991-2020.nc\n",
    "# https://downloads.psl.noaa.gov/Datasets/noaa.oisst.v2.highres/icec.day.mean.ltm.1991-2020.nc\n",
    "\n",
    "# Base URL\n",
    "base_url = \"https://downloads.psl.noaa.gov/Datasets/noaa.oisst.v2.highres/\"\n",
    "\n",
    "# Example file names to download\n",
    "files = [\n",
    "    \"sst.day.mean.ltm.1991-2020.nc\", \"icec.day.mean.ltm.1991-2020.nc\",\n",
    "    # Add more file names here\n",
    "]\n",
    "\n",
    "# Directory to save downloaded files\n",
    "save_dir = \"/glade/campaign/cgd/amp/juliob/NOAA_OI_SST/\"\n",
    "\n",
    "# Create the directory if it doesn't exist\n",
    "os.makedirs(save_dir, exist_ok=True)\n",
    "\n",
    "\"\"\"\n",
    "# Loop through the files and download each one\n",
    "for file in files:\n",
    "    file_url = base_url + file\n",
    "    subprocess.run([\"wget\", \"-q\",\"-P\", save_dir, file_url])\n",
    "\"\"\"\n",
    "# Loop through the files and download each one\n",
    "for year in np.arange(start=2005,stop=2020):\n",
    "    file = f\"sst.day.mean.{year:04}.nc\"\n",
    "    file_url = base_url + file\n",
    "    subprocess.run([\"wget\", \"-q\",\"-P\", save_dir, file_url])\n",
    "    print(file_url)\n",
    "# Loop through the files and download each one\n",
    "for year in np.arange(start=2005,stop=2020):\n",
    "    file = f\"icec.day.mean.{year:04}.nc\"\n",
    "    file_url = base_url + file\n",
    "    subprocess.run([\"wget\", \"-q\",\"-P\", save_dir, file_url])\n",
    "    print(file_url)\n"
   ]
  },
  {
   "cell_type": "code",
   "execution_count": null,
   "id": "fc8627ff-c105-42f4-8b67-aa0a81e47e7e",
   "metadata": {},
   "outputs": [],
   "source": []
  },
  {
   "cell_type": "code",
   "execution_count": null,
   "id": "a1b5c481-35a1-4ee6-9758-edfc45b3580a",
   "metadata": {},
   "outputs": [],
   "source": []
  }
 ],
 "metadata": {
  "kernelspec": {
   "display_name": "NPL 2023b",
   "language": "python",
   "name": "npl-2023b"
  },
  "language_info": {
   "codemirror_mode": {
    "name": "ipython",
    "version": 3
   },
   "file_extension": ".py",
   "mimetype": "text/x-python",
   "name": "python",
   "nbconvert_exporter": "python",
   "pygments_lexer": "ipython3",
   "version": "3.10.12"
  }
 },
 "nbformat": 4,
 "nbformat_minor": 5
}
