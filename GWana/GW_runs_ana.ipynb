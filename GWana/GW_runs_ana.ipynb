{
 "cells": [
  {
   "cell_type": "code",
   "execution_count": null,
   "id": "9d271227-c053-41bb-b608-994673260d97",
   "metadata": {},
   "outputs": [],
   "source": [
    "#workdir_ = '/glade/work/juliob/'\n",
    "import sys\n",
    "#######################################\n",
    "# Leave this for now. But it should change to better\n",
    "# method as here:\n",
    "import os\n",
    "This_module_path = os.getcwd()  #os.path.dirname(os.path.abspath(__file__))\n",
    "workdir_ = os.path.join(This_module_path, '../../' )\n",
    "# sys.path.append(utils_path)\n",
    "# print( f\" a path added in {__name__} {utils_path} \")\n",
    "\n",
    "print( f\" In {__name__} we have This_module_path={This_module_path} \" )\n",
    "print( f\" In {__name__} we have workdir_={workdir_} \" )\n",
    "\n",
    "# The usual\n",
    "from datetime import date\n",
    "import numpy as np\n",
    "import xarray as xr\n",
    "import matplotlib.pyplot as plt\n",
    "import matplotlib.tri as tri\n",
    "\n",
    "# Cartopy for pretty maps\n",
    "import cartopy\n",
    "import cartopy.crs as ccrs\n",
    "import cartopy.feature as cfeature\n",
    "\n",
    "# Some other useful packages \n",
    "import importlib\n",
    "import copy\n",
    "import time\n",
    "import cftime\n",
    "\n",
    "\n",
    "\n",
    "########################################\n",
    "# Now import your own stuff\n",
    "########################################\n",
    "\n",
    "#From in here\n",
    "import gw_common as GWc\n",
    "import gw_movmtn as GWmm\n",
    "\n",
    "sys.path.append(workdir_ + 'myPythonTools/Utils/')\n",
    "import AveragingUtils as Av\n",
    "import PlotUtil as Pu\n",
    "import utils as uti\n",
    "import validation_data as Val\n",
    "import shr_const\n",
    "from shr_const import ShrConst as Cs\n",
    "\n",
    "sys.path.append(workdir_ + 'myPythonTools/Plotting/')\n",
    "import LatLonMaps as LL\n",
    "\n",
    "\n",
    "sys.path.append(workdir_ + 'PyRegridding/Regridder/')\n",
    "import var_A_x_B as vAB\n",
    "\n",
    "sys.path.append(workdir_ + 'PyRegridding/Utils/')\n",
    "import MakePressures as MkP\n",
    "import GridUtils as GrU\n",
    "\n",
    "\n",
    "\n",
    "importlib.reload( GWmm )\n",
    "importlib.reload( GWc )\n",
    "importlib.reload( LL )\n",
    "importlib.reload( uti )\n",
    "importlib.reload( Pu )\n",
    "importlib.reload(Av)\n",
    "importlib.reload(Val)\n",
    "importlib.reload(vAB)\n",
    "importlib.reload(MkP)\n"
   ]
  },
  {
   "cell_type": "code",
   "execution_count": null,
   "id": "6c340e55-490d-4ff1-aafd-6ece0ad6979c",
   "metadata": {},
   "outputs": [],
   "source": [
    "from datetime import datetime, timedelta\n",
    "import calendar\n",
    "\n",
    "def day_of_year_to_date(year, day_of_year):\n",
    "    # Create a date object for January 1st of the given year\n",
    "    jan_first = datetime(year, 1, 1)\n",
    "    # Add the day_of_year to this date (subtract 1 because day_of_year is 1-based)\n",
    "    target_date = jan_first + timedelta(days=day_of_year - 1)\n",
    "    return target_date\n"
   ]
  },
  {
   "cell_type": "code",
   "execution_count": null,
   "id": "e6b2c0bd-d3bf-425d-ba07-7169946f81ac",
   "metadata": {},
   "outputs": [],
   "source": [
    "\n",
    "year=2010\n",
    "month=10\n",
    "\n",
    "#timetag = [ f'{year:04d}-{month:02d}-*', f'{year:04d}-{month+1:02d}-*', ]\n",
    "timetag = [ f'{year:04d}-{month:02d}-*', ] \n",
    "\n",
    "expA = \"c160mm_ne30pg3_FMTndg_cciasi_x05\"\n",
    "C1 = uti.MakeDict4Exp( exp=expA ,\n",
    "                     user='juliob',\n",
    "                     subd='hist',  #cfg[x_]['grid'] , \n",
    "                     hsPat='cam.h1i',\n",
    "                     ymdPat= timetag ,\n",
    "                     verbose=True, open_dataset=True )\n",
    "\n",
    "C2 = uti.MakeDict4Exp( exp=expA ,\n",
    "                     user='juliob',\n",
    "                     subd='hist',  #cfg[x_]['grid'] , \n",
    "                     hsPat='cam.h1i.TAU_xpwp_SV_b',\n",
    "                     ymdPat= timetag ,\n",
    "                     verbose=True, open_dataset=True )\n"
   ]
  },
  {
   "cell_type": "code",
   "execution_count": null,
   "id": "b5a8c3c9-054f-4138-b6ec-0d9a96599062",
   "metadata": {},
   "outputs": [],
   "source": [
    "print(list(C1.X.variables))\n",
    "print(list(C2.X.variables))\n"
   ]
  },
  {
   "cell_type": "code",
   "execution_count": null,
   "id": "b452eb76-59d3-470a-a8d0-fa232323eb9d",
   "metadata": {},
   "outputs": [],
   "source": [
    "#####################################################################\n",
    "# Subselecting SH high-lats\n",
    "#####################################################################\n",
    "latitude_range = (-90, -45)  # Example latitude range\n",
    "\n",
    "latitude_mask = np.where(\n",
    "    (C1.X['lat'].values >= latitude_range[0]) & (C1.X['lat'].values <= latitude_range[1]) )\n",
    "\n",
    "\n",
    "print( len(latitude_mask[0]))\n",
    "# Select data using these indices\n",
    "#selected_data = ds.isel(ncol=latitude_indices)\n",
    "\n",
    "latitude_indices=latitude_mask[0]\n",
    "\n",
    "X1 = C1.X.isel(ncol=latitude_indices )\n",
    "X2 = C2.X.isel(ncol=latitude_indices )\n",
    "\n",
    "\n"
   ]
  },
  {
   "cell_type": "code",
   "execution_count": null,
   "id": "91fdebde-1833-4879-b0b2-b0c942745afe",
   "metadata": {},
   "outputs": [],
   "source": [
    "#plt.plot( C1.X.TAU_MOVMTN.values[10,:,:].flatten())\n",
    "#plt.plot( C1.X.TAU_MOVMTN.values[10,80,:].flatten() - C2.X.TAU_redo.values[10,80,:].flatten()     )\n",
    "#plt.plot( X2.TAU_redo.values[10,50,:]    )\n",
    "plt.scatter( X2.TAU_redo.values[10,30,:] , X1.TAU_MOVMTN.values[10,30,:]    )\n"
   ]
  },
  {
   "cell_type": "code",
   "execution_count": null,
   "id": "181fd0e8-5b9b-40c0-9f0b-4499671fd26d",
   "metadata": {},
   "outputs": [],
   "source": [
    "import glob\n",
    "\n",
    "# Generate the list of actual file paths for each pattern\n",
    "file_paths_nov = glob.glob('/glade/derecho/scratch/juliob/archive/c160mm_ne30pg3_FMTndg_cciasi_x05/atm/hist/c160mm_ne30pg3_FMTndg_cciasi_x05.cam.h1i.2010-11-*.nc')\n",
    "file_paths_dec = glob.glob('/glade/derecho/scratch/juliob/archive/c160mm_ne30pg3_FMTndg_cciasi_x05/atm/hist/c160mm_ne30pg3_FMTndg_cciasi_x05.cam.h1i.2010-12-*.nc')\n",
    "\n",
    "# Combine the lists of file paths\n",
    "all_file_paths = file_paths_nov + file_paths_dec\n",
    "\n",
    "# Open multiple files into a single xarray dataset\n",
    "BooBoo = xr.open_mfdataset(all_file_paths, combine='by_coords')\n",
    "\n",
    "# Check the dataset\n",
    "print(BooBoo)\n"
   ]
  },
  {
   "cell_type": "code",
   "execution_count": null,
   "id": "c45de954-c75e-4d75-a73c-99be0436f1a3",
   "metadata": {},
   "outputs": [],
   "source": [
    "BooBoo.time"
   ]
  },
  {
   "cell_type": "code",
   "execution_count": null,
   "id": "366a1d3c-f157-425e-af5d-39c71e73c9ff",
   "metadata": {},
   "outputs": [],
   "source": [
    "CC=xr.open_dataset('/glade/campaign/cgd/amp/juliob/amwg_dev/Concordiasi/cciasi_flux_6h.nc')\n",
    "\n",
    "ntimes = len( CC.time )\n",
    "print(ntimes)\n",
    "\n",
    "CCdates = ['']*ntimes\n",
    "for n in np.arange( ntimes ):\n",
    "    date=day_of_year_to_date(2010, CC.time[n].values)\n",
    "    seconds = date.hour * 3600 \n",
    "    CCdates[n] = date.strftime(\"%Y-%m-%d\")+f\"-{seconds:05}\"\n"
   ]
  },
  {
   "cell_type": "code",
   "execution_count": null,
   "id": "0aee1965-8a31-4607-9521-c831a3454f21",
   "metadata": {},
   "outputs": [],
   "source": [
    "\n",
    "\n",
    "days_in_month = calendar.monthrange(year, month)[1]\n",
    "days_in_month = days_in_month + calendar.monthrange(year, month+1)[1]\n",
    "\n",
    "toot = timetag[0].replace('*', f\"01-00000\")\n",
    "try:\n",
    "    start_index = CCdates.index(toot)\n",
    "    stop_index = start_index + 4*days_in_month\n",
    "except ValueError:\n",
    "    print(f\"'{toot}' is not in the data.\")\n",
    "\n",
    "print(start_index,CCdates[start_index],days_in_month,stop_index )"
   ]
  },
  {
   "cell_type": "code",
   "execution_count": null,
   "id": "90f50f40-f1d3-4311-9f88-eaddfaff0362",
   "metadata": {},
   "outputs": [],
   "source": [
    "CC=CC.isel(nt=np.arange(start=start_index ,stop=stop_index ) )\n",
    "CC=CC.isel(nlat=np.arange(start=1,stop=20) )\n",
    "CC= CC.assign_coords(longitude=((CC.longitude + 360) % 360)).sortby('longitude')"
   ]
  },
  {
   "cell_type": "code",
   "execution_count": null,
   "id": "009acd06-c110-4a82-9d9a-cf375bd7a1c5",
   "metadata": {},
   "outputs": [],
   "source": [
    "CX = C1.X   #.isel(time=np.arange(609))\n",
    "CXv = C1v.X   #.isel(time=np.arange(609))\n",
    "CXu = C1u.X   #.isel(time=np.arange(609))\n"
   ]
  },
  {
   "cell_type": "code",
   "execution_count": null,
   "id": "10d5c549-dec8-48e4-bf81-a0e432e9e733",
   "metadata": {},
   "outputs": [],
   "source": [
    "nobs = CC.number_of_observations.values\n",
    "amf =CC.absolute_momentum_flux.values\n",
    "mmf = CX.TAU_MOVMTN.values\n",
    "mmfv = CXv.TAU_redo.values\n",
    "mmfu = CXu.TAU_redo.values\n",
    "ogmmf=np.sqrt( CX.TAUARDGBETAX.values**2 + CX.TAUARDGBETAY.values**2 )\n",
    "print(amf.shape)"
   ]
  },
  {
   "cell_type": "code",
   "execution_count": null,
   "id": "2c2c5463-aa52-4fe9-8881-b3b7f757eb85",
   "metadata": {},
   "outputs": [],
   "source": [
    "zlev=  -7.0 * np.log( CX.lev.values / 1_000. )\n",
    "print(CX.lev[42].values)\n",
    "print(zlev[42])"
   ]
  },
  {
   "cell_type": "code",
   "execution_count": null,
   "id": "c68f9646-6306-40cd-b181-112a35a46fef",
   "metadata": {},
   "outputs": [],
   "source": [
    "nobo=np.where( nobs>10, 1., 0.)\n"
   ]
  },
  {
   "cell_type": "code",
   "execution_count": null,
   "id": "4f3fd1ae-0d34-4a25-ae71-fe73b26dc3af",
   "metadata": {},
   "outputs": [],
   "source": [
    "kk=42\n",
    "mmf18=mmf[:,kk,:,:]\n",
    "mmfv18=mmfv[:,kk,:,:]\n",
    "mmfu18=mmfu[:,kk,:,:]\n",
    "ogmmf18=ogmmf[:,kk,:,:]\n",
    "mmf18.shape\n"
   ]
  },
  {
   "cell_type": "code",
   "execution_count": null,
   "id": "7fc4692f-cf4a-4edf-aa53-89dae5eed393",
   "metadata": {},
   "outputs": [],
   "source": [
    "bobo = np.where( ( (amf*nobo>0.1)&(1000*(mmfv18+mmf18)*nobo<0.1 )), 1., 0. )"
   ]
  },
  {
   "cell_type": "code",
   "execution_count": null,
   "id": "dc4389d1-7a85-49a1-8288-44fb5a9c5b50",
   "metadata": {},
   "outputs": [],
   "source": [
    "#plt.contourf( CCor.longitude, CCor.latitude, np.average( amf*nobo,axis=0),levels = np.linspace(0.,.5,num=21) )\n",
    "\n",
    "\n",
    "fields=[  np.sum( amf*nobo,axis=0)/(np.sum(nobo,axis=0)+1e-6)   , 1000.*np.sum( nobo*(mmfv18),axis=0) /(np.sum(nobo,axis=0)+1e-6)  , 1000.*np.sum( nobo*(mmf18),axis=0) /(np.sum(nobo,axis=0)+1e-6)   ,np.sum( nobo,axis=0) ] \n",
    "clevs= [np.linspace(0.,10,num=21) , np.linspace(0.,10,num=21) , np.linspace(0.,10,num=21) , np.linspace(0.,30,num=31) ]\n",
    "titles=['CONCORDIASI abs mom flux (AMF) at 18km', '500hPa Vorticity source AMF, 18km ', 'PBL CLUBB mom-flux source AMF, 18km', 'CONCORDIASI # Obs']\n",
    "LL.Maps (  fields=fields,lats=[CC.latitude],lons=[CC.longitude],clevs= clevs ,titles=titles)\n"
   ]
  },
  {
   "cell_type": "code",
   "execution_count": null,
   "id": "585eea7c-6e0d-439a-8f4d-fb1a4fcc530a",
   "metadata": {},
   "outputs": [],
   "source": [
    "#plt.contourf( CCor.longitude, CCor.latitude, np.average( amf*nobo,axis=0),levels = np.linspace(0.,.5,num=21) )\n",
    "\n",
    "\n",
    "fields=[  np.sum( amf*bobo,axis=0)/(np.sum(bobo,axis=0)+1e-6)   , 1000.*np.sum( bobo*(mmfu18),axis=0) /(np.sum(bobo,axis=0)+1e-6)  , 1000.*np.sum( bobo*(mmf18),axis=0) /(np.sum(bobo,axis=0)+1e-6)   ,np.sum( bobo,axis=0) ] \n",
    "clevs= [np.linspace(0.,10,num=21) , np.linspace(0.,10,num=21) , np.linspace(0.,10,num=21) , np.linspace(0.,15,num=31) ]\n",
    "titles=['CONCORDIASI abs mom flux', 'OGW abs momflux', 'Moving mtn flux', 'CONCORDIASI # Obs']\n",
    "LL.Maps (  fields=fields,lats=[CC.latitude],lons=[CC.longitude],clevs= clevs ,titles=titles)\n"
   ]
  },
  {
   "cell_type": "code",
   "execution_count": null,
   "id": "8d7c47d9-0b36-495b-81af-fbd4f87cbb71",
   "metadata": {},
   "outputs": [],
   "source": [
    "print( np.shape(amf) )\n",
    "print(CX.lon[108].values,CX.lat[14].values,CX.lat[9].values)\n",
    "plt.scatter(   (amf*nobo)[ :,9:14, 0:108 ].flatten() , 1000*( (mmfv18+mmf18 )*nobo)[ :,9:14,0:108].flatten()    )\n",
    "plt.xlim(0,50)"
   ]
  },
  {
   "cell_type": "code",
   "execution_count": null,
   "id": "320f5ac4-7bf0-4434-ad32-4910adaadd5c",
   "metadata": {},
   "outputs": [],
   "source": [
    "print( np.shape(amf) )\n",
    "print(CX.lon[108].values,CX.lat[14].values,CX.lat[9].values)\n",
    "xdat=  (amf*nobo)[ :,9:14, 0:108 ].flatten() \n",
    "ydat=  1000*( (mmfv18+mmf18 )*nobo)[ :,9:14,0:108].flatten()    \n",
    "xbe=np.linspace( 1., 50., num=51 )\n",
    "ybe=np.linspace( 1., 20., num=21 )\n",
    "\n",
    "H, x_edges, y_edges = np.histogram2d(xdat, ydat, bins=[xbe, ybe])\n",
    "\n",
    "plt.imshow(H.T, origin='lower', aspect='auto', \n",
    "           extent=[x_edges[0], x_edges[-1], y_edges[0], y_edges[-1]],\n",
    "           cmap='viridis')\n",
    "plt.colorbar(label='Counts')\n",
    "plt.xlabel('X axis')\n",
    "plt.ylabel('Y axis')\n",
    "plt.title('2D Joint Histogram')\n"
   ]
  },
  {
   "cell_type": "code",
   "execution_count": null,
   "id": "db97ff0c-bc27-489d-b7a8-051a2b22b3fa",
   "metadata": {},
   "outputs": [],
   "source": [
    "print( np.shape(amf) )\n",
    "\n",
    "plt.scatter(   (amf*bobo)[ :,9:14, 0:120 ].flatten() , 1000*( (mmfv18+mmf18 )*bobo)[ :,9:14,0:120].flatten()    )\n",
    "plt.xlim(0,50)"
   ]
  },
  {
   "cell_type": "code",
   "execution_count": null,
   "id": "1cd222a9-0918-4a83-ace5-0ddcc5f0c272",
   "metadata": {},
   "outputs": [],
   "source": [
    "levels=np.linspace(0,30,num=31)\n",
    "fig,ax=plt.subplots(1,2 , figsize=(14,7) )\n",
    "ax[0].contourf( np.sum(nobo,axis=0) ,levels=levels/2)\n",
    "ax[1].contourf( np.sum(bobo,axis=0) ,levels=levels/5)\n"
   ]
  },
  {
   "cell_type": "code",
   "execution_count": null,
   "id": "1bc85190-1695-4b9f-9f42-c6d99fb3990b",
   "metadata": {},
   "outputs": [],
   "source": [
    "levels=np.linspace(0,10,num=11)\n",
    "fig,ax=plt.subplots(1,2 , figsize=(14,7) )\n",
    "ax[0].contourf( 1000.*np.sum( bobo*(mmf18),axis=0) /(np.sum(bobo,axis=0)+1e-6) ,levels=levels )\n",
    "ax[0].set_xlim(70,100)\n",
    "#plt.contourf( 1000.*np.sum( nobo*(ogmmf18),axis=0) /(np.sum(nobo,axis=0)+1e-6) )\n",
    "ax[1].contourf( 1.*np.sum( bobo*(amf),axis=0) /(np.sum(bobo,axis=0)+1e-6) ,levels=levels )\n",
    "ax[1].set_xlim(70,100)\n"
   ]
  },
  {
   "cell_type": "code",
   "execution_count": null,
   "id": "e480590c-5c1e-4896-9872-31bffc41affa",
   "metadata": {},
   "outputs": [],
   "source": [
    "plt.plot( (bobo*amf)[:,17,82] )\n",
    "plt.xlim(180,220)\n",
    "\n"
   ]
  },
  {
   "cell_type": "code",
   "execution_count": null,
   "id": "3b993b4b-9912-423f-aeed-747b4f49c4b6",
   "metadata": {},
   "outputs": [],
   "source": [
    "print(CX.date[199].values)\n",
    "print(CX.time[199].values)\n"
   ]
  },
  {
   "cell_type": "raw",
   "id": "f856fe9c-79bb-4656-bc7a-dfb994e47170",
   "metadata": {},
   "source": [
    "This date has the inetersting case of clear 18km AMF near (east of)  NZ but no AMF in scheme\n",
    "    \n",
    "20101220\n",
    "2010-12-20 18:00:00"
   ]
  },
  {
   "cell_type": "code",
   "execution_count": null,
   "id": "b8e30ebf-cac2-4930-9f43-363c4e7d6679",
   "metadata": {},
   "outputs": [],
   "source": [
    "#plt.contourf( CCor.longitude, CCor.latitude, np.average( amf*nobo,axis=0),levels = np.linspace(0.,.5,num=21) )\n",
    "\n",
    "Xplo=CXu\n",
    "#fields=[  (amf*nobo)[199,:,:]  , 1000.*( nobo*mmfu18)[199,:,:]  ] \n",
    "fields=[  (amf*nobo)[199,:,:]  , 1000.*( Xplo.TAU_redo[:,90,:,:].values)[199,:,:], 1000.*( Xplo.TAU_redo[:,80,:,:].values)[199,:,:], 1000.*( Xplo.TAU_redo[:,70,:,:].values)[199,:,:] ,1000.*( Xplo.TAU_redo[:,60,:,:].values)[199,:,:] ,1000.*( Xplo.TAU_redo[:,40,:,:].values)[199,:,:]  ] \n",
    "\n",
    "clevs= [np.linspace(0.,10,num=21) , np.linspace(0.,10,num=21) , np.linspace(0.,10,num=21) , np.linspace(0.,30,num=31) ]\n",
    "titles=['CONCORDIASI abs mom flux (AMF) at 18km', '500hPa Vorticity source AMF, 18km ', 'PBL CLUBB mom-flux source AMF, 18km', 'CONCORDIASI # Obs']\n",
    "LL.Maps (  fields=fields,lats=[CC.latitude],lons=[CC.longitude],clevs= clevs ,titles=titles)\n"
   ]
  },
  {
   "cell_type": "code",
   "execution_count": null,
   "id": "469e06e8-7de7-4821-857a-b60504ea4f6b",
   "metadata": {},
   "outputs": [],
   "source": [
    "CC"
   ]
  },
  {
   "cell_type": "code",
   "execution_count": null,
   "id": "8451bb39-da19-4390-b4f8-f839c41dd367",
   "metadata": {},
   "outputs": [],
   "source": [
    "#plt.contourf( CCor.longitude, CCor.latitude, np.average( amf*nobo,axis=0),levels = np.linspace(0.,.5,num=21) )\n",
    "\n",
    "\n",
    "#fields=[  (amf*nobo)[199,:,:]  , 1000.*( nobo*CXu.TAU_redo[:,90,:,:].values)[199,:,:]  ] \n",
    "fields=[  (amf*nobo)[199,:,:]  , 1000.*( CXu.TAU_redo[:,40,:,:].values)[199,:,:]  ] \n",
    "clevs= [np.linspace(0.,10,num=21) , np.linspace(0.,10,num=21) , np.linspace(0.,10,num=21) , np.linspace(0.,30,num=31) ]\n",
    "titles=['CONCORDIASI abs mom flux (AMF) at 18km', '500hPa Vorticity source AMF, 18km ', 'PBL CLUBB mom-flux source AMF, 18km', 'CONCORDIASI # Obs']\n",
    "#LL.Maps_NoProj (  fields=fields,lats=[np.arange(19) ],lons=[np.arange(144) ],clevs= clevs ,titles=titles)\n",
    "LL.Maps_NoProj (  fields=fields,lats=[CC.latitude],lons=[CC.longitude],clevs= clevs ,titles=titles)\n"
   ]
  },
  {
   "cell_type": "code",
   "execution_count": null,
   "id": "151d435a-b0c3-4cca-a81f-ef04ae5263b5",
   "metadata": {},
   "outputs": [],
   "source": []
  }
 ],
 "metadata": {
  "kernelspec": {
   "display_name": "NPL 2023b",
   "language": "python",
   "name": "npl-2023b"
  },
  "language_info": {
   "codemirror_mode": {
    "name": "ipython",
    "version": 3
   },
   "file_extension": ".py",
   "mimetype": "text/x-python",
   "name": "python",
   "nbconvert_exporter": "python",
   "pygments_lexer": "ipython3",
   "version": "3.10.12"
  }
 },
 "nbformat": 4,
 "nbformat_minor": 5
}
