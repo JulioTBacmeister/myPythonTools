{
 "cells": [
  {
   "cell_type": "code",
   "execution_count": null,
   "id": "baafd8b0-7ebf-427c-98fa-a325e3b95f6c",
   "metadata": {},
   "outputs": [],
   "source": [
    "import subprocess as sp\n",
    "import sys\n",
    "import os\n",
    "import glob"
   ]
  },
  {
   "cell_type": "raw",
   "id": "15031130-2921-4055-8edf-13098ea74435",
   "metadata": {},
   "source": [
    "\n",
    "I found these files on CS:\n",
    "\n",
    "/glade/campaign/cgd/ccr/nanr/HPSS/tokeep/TIMESLICE/atm/proc/tseries/hourly3_regrid/PRECT\n",
    "/glade/campaign/cgd/ccr/nanr/HPSS/tokeep/TIMESLICE/atm/proc/tseries/hourly3/PRECT\n",
    "\n",
    "\n",
    "Inof for renaming var in tracfile\n",
    "/glade/campaign/cgd/amp/juliob/TC-cesm1/10mWinds_tracfiles\n",
    "\n",
    "ncrename -v time,timevar f.e13.FAMIPC5.ne120_ne120.RCP85_2070_2099_sst6.001.2070-2099_tracfile.nc\n"
   ]
  },
  {
   "cell_type": "code",
   "execution_count": null,
   "id": "5c04a1b1-15f1-4776-bf84-d8c2aa97bd9e",
   "metadata": {},
   "outputs": [],
   "source": [
    "#Nudge_Path=sorted(glob.glob('/glade/scratch/wchapman/inputdata/nudging/ERAI_fv09/L32/*.nc'))\n",
    "\n",
    "\n",
    "foos=glob.glob( '/glade/campaign/cgd/amp/juliob/TC-cesm1/10mWinds_tracfiles/*/*_tracfile.nc' )"
   ]
  },
  {
   "cell_type": "code",
   "execution_count": null,
   "id": "7f4fbf66-be95-4c74-bf27-80b21ae0726c",
   "metadata": {},
   "outputs": [],
   "source": [
    "print(foos[0:2])"
   ]
  },
  {
   "cell_type": "raw",
   "id": "c69ad6f4-a937-4a98-83d7-dea52db65b87",
   "metadata": {},
   "source": [
    "Note sure how or why but 'sp.Popen' command is a million X faster than 'sp.run'\n",
    "Seems to work. Was able to read files wth xarray .... ????? ....?????? ??????"
   ]
  },
  {
   "cell_type": "code",
   "execution_count": null,
   "id": "d10166fd-6ecf-4788-94c7-9097506558b2",
   "metadata": {},
   "outputs": [],
   "source": [
    "# Rename time variable in tracfiles\n",
    "\n",
    "for foo in foos:\n",
    "    commi = 'ncrename -v .time,timevar '+foo\n",
    "    print(commi)\n",
    "    #sp.run( commi , shell=True )\n",
    "    args = ['ncrename', '-v', '.time,timevar', foo]\n",
    "    p = sp.Popen(args ) #, stdin=PIPE, stdout=PIPE)\n",
    "    \n",
    "#sp.run(\"mkdir -p \"+ odir,shell=True)\n"
   ]
  },
  {
   "cell_type": "code",
   "execution_count": null,
   "id": "74d223a8-a4f6-4a91-881b-758886dc0f5b",
   "metadata": {},
   "outputs": [],
   "source": []
  }
 ],
 "metadata": {
  "kernelspec": {
   "display_name": "NPL 2022b",
   "language": "python",
   "name": "npl-2022b"
  },
  "language_info": {
   "codemirror_mode": {
    "name": "ipython",
    "version": 3
   },
   "file_extension": ".py",
   "mimetype": "text/x-python",
   "name": "python",
   "nbconvert_exporter": "python",
   "pygments_lexer": "ipython3",
   "version": "3.8.13"
  }
 },
 "nbformat": 4,
 "nbformat_minor": 5
}
