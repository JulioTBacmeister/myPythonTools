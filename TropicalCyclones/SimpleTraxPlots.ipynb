{
 "cells": [
  {
   "cell_type": "code",
   "execution_count": null,
   "id": "c70883b3-c601-4ac8-ab8a-52787f0f8b8e",
   "metadata": {},
   "outputs": [],
   "source": [
    "import xarray as xr\n",
    "import numpy as np\n",
    "import matplotlib.pyplot as plt\n",
    "import pandas as pd\n",
    "\n",
    "import importlib\n",
    "\n",
    "\n",
    "import cartopy\n",
    "import cartopy.crs as ccrs\n",
    "import cartopy.feature as cfeature\n",
    "\n"
   ]
  },
  {
   "cell_type": "code",
   "execution_count": null,
   "id": "38316fab-b82f-44e1-b917-8a66a745b170",
   "metadata": {},
   "outputs": [],
   "source": [
    "#filN ='/gpfs/fs1/p/cgd/ccr/people/nanr/cyclone_tracking/10mWinds_tracfiles/rcp85/\\\n",
    "#f.e13.FAMIPC5.ne120_ne120.RCP85_2070_2099_sst6.001.2070-2099_tracfile.nc'\n",
    "\n",
    "#filN ='/glade/scratch/juliob/\\\n",
    "#f.e13.FAMIPC5.ne120_ne120.RCP85_2070_2099_sst6.001.2070-2099_tracfile.nc'\n",
    "\n",
    "filN ='/glade/campaign/cgd/amp/juliob/TC-cesm1/10mWinds_tracfiles/rcp85/\\\n",
    "f.e13.FAMIPC5.ne120_ne120.RCP85_2070_2099_sst5.001.2070-2099_tracfile.nc'\n"
   ]
  },
  {
   "cell_type": "code",
   "execution_count": null,
   "id": "e7a7ef46-8ec6-4254-a8b9-e6bcfc26c626",
   "metadata": {},
   "outputs": [],
   "source": [
    "print(filN)\n"
   ]
  },
  {
   "cell_type": "code",
   "execution_count": null,
   "id": "4325d507-aabf-4f25-b6b3-552665b7e2d9",
   "metadata": {},
   "outputs": [],
   "source": [
    "ds=xr.open_dataset( filN )"
   ]
  },
  {
   "cell_type": "code",
   "execution_count": null,
   "id": "7d3ac223-b0a7-4d2c-9773-617f85b45dab",
   "metadata": {},
   "outputs": [],
   "source": [
    "print(list(ds.variables))"
   ]
  },
  {
   "cell_type": "code",
   "execution_count": null,
   "id": "2ad7d654-83f7-42bc-9a0b-aed8786d169b",
   "metadata": {},
   "outputs": [],
   "source": [
    "#projPC =ccrs.PlateCarree(central_longitude=-180.)\n",
    "#projPC = ccrs.InterruptedGoodeHomolosine()\n",
    "projPC = ccrs.Mollweide(central_longitude=180.)\n",
    "data_crs = ccrs.PlateCarree()\n",
    "lon=ds['lon'].values\n",
    "lat=ds['lat'].values\n",
    "basin=ds['basin'].values\n",
    "\n",
    "fig = plt.figure(figsize=(12, 9))\n",
    "levs=[29,26,20,10]\n",
    "    \n",
    "#ax1 = fig.add_subplot(1, 1, 1 , projection=projPC)\n",
    "ax1 = plt.axes(projection=projPC)\n",
    "ax1.set_global()\n",
    "ax1.coastlines(resolution='110m')\n",
    "\n",
    "po=ax1.scatter(lon[:,0],lat[:,0],transform=data_crs,c=basin[:,0],cmap='Set2')\n",
    "plt.colorbar(po,ax=ax1)\n",
    "#ax1.scatter(lon[0,:],lat[0,:],transform=data_crs,marker='+')\n",
    "#ax1.set_extent([1, 359, -70, 70], crs=projPC)"
   ]
  },
  {
   "cell_type": "code",
   "execution_count": null,
   "id": "850d5057-1498-497d-9cef-4d42831482f6",
   "metadata": {},
   "outputs": [],
   "source": [
    "wind=ds['wind'].values\n",
    "basin=ds['basin'].values"
   ]
  },
  {
   "cell_type": "code",
   "execution_count": null,
   "id": "93974d13-e6f9-4d29-9c32-0597788c7351",
   "metadata": {},
   "outputs": [],
   "source": [
    "print(lon[0,0],lat[0,0],basin[0])\n",
    "print(np.shape(wind))"
   ]
  },
  {
   "cell_type": "code",
   "execution_count": null,
   "id": "53bbeaa8-eeef-438d-bd29-4fb8fc443406",
   "metadata": {},
   "outputs": [],
   "source": [
    "plt.plot( basin[:,:].flatten(),'o')"
   ]
  },
  {
   "cell_type": "code",
   "execution_count": null,
   "id": "e70ebcdc-cfea-4bb1-a470-cfcd88f07a4b",
   "metadata": {},
   "outputs": [],
   "source": []
  }
 ],
 "metadata": {
  "kernelspec": {
   "display_name": "NPL 2022b",
   "language": "python",
   "name": "npl-2022b"
  },
  "language_info": {
   "codemirror_mode": {
    "name": "ipython",
    "version": 3
   },
   "file_extension": ".py",
   "mimetype": "text/x-python",
   "name": "python",
   "nbconvert_exporter": "python",
   "pygments_lexer": "ipython3",
   "version": "3.8.13"
  }
 },
 "nbformat": 4,
 "nbformat_minor": 5
}
