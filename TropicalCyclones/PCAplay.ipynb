{
 "cells": [
  {
   "cell_type": "code",
   "execution_count": null,
   "id": "1ddab4e1-2833-4896-9549-aa318226c971",
   "metadata": {},
   "outputs": [],
   "source": [
    "import xarray as xr\n",
    "import numpy as np\n",
    "import matplotlib.pyplot as plt\n",
    "import pandas as pd\n"
   ]
  },
  {
   "cell_type": "code",
   "execution_count": null,
   "id": "377d1ce4-1b40-445d-a236-1b7bfcc25d96",
   "metadata": {},
   "outputs": [],
   "source": [
    "nx=101\n",
    "nt=201\n",
    "\n",
    "x=np.linspace(-1,1,num=nx)\n",
    "\n",
    "modes=np.zeros((3,nx))\n",
    "ampts=np.zeros((3,nt))\n",
    "lams=[2.,.5,.2]\n",
    "for m in np.arange(3):\n",
    "    modes[m,:] = np.sin( 2*np.pi * x / lams[m] )\n",
    "    \n",
    "\"\"\"\n",
    "from numpy.random import default_rng\n",
    "rng = default_rng()\n",
    "vals = rng.standard_normal(10)\n",
    "more_vals = rng.standard_normal(10)\n",
    "\"\"\"\n",
    "\n",
    "plt.plot( np.random.default_rng(nt))\n",
    "    \n",
    "#for m in np.arange(3):\n",
    "#    ampts[m,:]=np.random.default_rng(nt)\n",
    "    "
   ]
  },
  {
   "cell_type": "code",
   "execution_count": null,
   "id": "cefdc4f6-108d-4016-9ac9-211aad1f3440",
   "metadata": {},
   "outputs": [],
   "source": [
    "plt.plot( modes[0,:] )\n",
    "plt.plot( modes[1,:] )\n",
    "plt.plot( modes[2,:] )\n"
   ]
  },
  {
   "cell_type": "code",
   "execution_count": null,
   "id": "4062f805-a256-4584-8b0c-67bc68ecb062",
   "metadata": {},
   "outputs": [],
   "source": []
  }
 ],
 "metadata": {
  "kernelspec": {
   "display_name": "Python [conda env:npl-XTND]",
   "language": "python",
   "name": "conda-env-npl-XTND-py"
  },
  "language_info": {
   "codemirror_mode": {
    "name": "ipython",
    "version": 3
   },
   "file_extension": ".py",
   "mimetype": "text/x-python",
   "name": "python",
   "nbconvert_exporter": "python",
   "pygments_lexer": "ipython3",
   "version": "3.8.13"
  }
 },
 "nbformat": 4,
 "nbformat_minor": 5
}
