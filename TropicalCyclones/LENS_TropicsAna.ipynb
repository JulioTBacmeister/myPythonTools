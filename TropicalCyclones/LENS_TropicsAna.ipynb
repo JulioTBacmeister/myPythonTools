{
 "cells": [
  {
   "cell_type": "code",
   "execution_count": null,
   "id": "ee390e9c-7741-4205-843d-6ad2469ab794",
   "metadata": {},
   "outputs": [],
   "source": [
    "import xarray as xr\n",
    "import numpy as np\n",
    "import matplotlib.pyplot as plt\n",
    "import pandas as pd\n",
    "\n",
    "\n",
    "import cartopy\n",
    "import cartopy.crs as ccrs\n",
    "import cartopy.feature as cfeature\n",
    "\n",
    "import copy\n",
    "import importlib\n",
    "import get_lens1_rcp85 as lens1\n",
    "import sst_biases_2018pub as sstbias\n",
    "importlib.reload( sstbias )\n",
    "importlib.reload( lens1 )"
   ]
  },
  {
   "cell_type": "code",
   "execution_count": null,
   "id": "4fd6612a-2a28-4eff-ad71-0b77e465d605",
   "metadata": {},
   "outputs": [],
   "source": [
    "monthly_mean_bias,lat_sst,lon_sst = sstbias.original()"
   ]
  },
  {
   "cell_type": "code",
   "execution_count": null,
   "id": "2205fcd8-c9a3-4502-bb64-69842ab574bf",
   "metadata": {},
   "outputs": [],
   "source": [
    "ts,landf,lat,lon = lens1.FullTS()\n",
    "#ts=ts[0:30,:,:,:]\n",
    "tsC=copy.deepcopy( ts )"
   ]
  },
  {
   "cell_type": "code",
   "execution_count": null,
   "id": "f765f200-d950-4810-99ba-aa3e155f887d",
   "metadata": {},
   "outputs": [],
   "source": [
    "tsPD,landfPD,latPD,lonPD = lens1.PresentDayTS()\n",
    "#ts=ts[0:30,:,:,:]\n",
    "tsPDC=copy.deepcopy( tsPD )"
   ]
  },
  {
   "cell_type": "code",
   "execution_count": null,
   "id": "67a1bc95-eb21-4b0f-a821-17e91d885921",
   "metadata": {},
   "outputs": [],
   "source": [
    "pub_ens_x=[0,8,11,21,24,29,-1]\n",
    "SSTlab = ['SST1' , 'SST2' , 'SST3' , 'SST4' , 'SST5' , 'SST6' , 'SST7' ]"
   ]
  },
  {
   "cell_type": "code",
   "execution_count": null,
   "id": "ae4b46bc-dff3-4893-b9a6-bd8f9e15d987",
   "metadata": {},
   "outputs": [],
   "source": [
    "nens,nt,ny,nx = np.shape( ts )\n",
    "nYr =  nt//12 \n",
    "print(nens,nYr,ny,nx)\n",
    "\n",
    "tsC = tsC.reshape( nens ,nYr, 12, ny, nx )\n",
    "tsR = np.zeros( (nens ,nYr, 12, ny, nx ) )\n",
    "\n",
    "for nen in np.arange( nens ):\n",
    "    for iy in np.arange( nYr ):\n",
    "        for im in np.arange( 12 ):\n",
    "            tsR[nen,iy,im,:,:] = tsC[nen,iy,im,:,:] - monthly_mean_bias[im,:,:]"
   ]
  },
  {
   "cell_type": "code",
   "execution_count": null,
   "id": "4b09f020-fa36-428b-9693-9144afcf8b5b",
   "metadata": {},
   "outputs": [],
   "source": [
    "nensPD,ntPD,ny,nx = np.shape( tsPD )\n",
    "nYrPD =  ntPD//12 \n",
    "print(nensPD,nYrPD,ny,nx)\n",
    "\n",
    "tsPDC = tsPDC.reshape( nensPD ,nYrPD, 12, ny, nx )\n",
    "tsPDR = np.zeros( (nensPD ,nYrPD, 12, ny, nx ) )\n",
    "\n",
    "for nen in np.arange( nensPD ):\n",
    "    for iy in np.arange( nYrPD ):\n",
    "        for im in np.arange( 12 ):\n",
    "            tsPDR[nen,iy,im,:,:] = tsPDC[nen,iy,im,:,:] - monthly_mean_bias[im,:,:]"
   ]
  },
  {
   "cell_type": "markdown",
   "id": "cdd66828-c2e9-4c1f-8088-d6becb133f1d",
   "metadata": {},
   "source": [
    "## AT this point you've read in the LENS TS data for 2070-2099 with pre-pended TS from an ealrier CESM1 coupled run - in ts and tsC\n",
    "## Also have present day LENS in tsPD and tsPDC \n",
    "## And aslo have bias corrected TS's in tsR and tsPDR"
   ]
  },
  {
   "cell_type": "code",
   "execution_count": null,
   "id": "31a7daa6-5c1b-46df-a54e-87bcf96c2350",
   "metadata": {},
   "outputs": [],
   "source": [
    "# ooooohhhh "
   ]
  },
  {
   "cell_type": "markdown",
   "id": "42bd321f-73eb-4659-bd4b-6d41218ab6bc",
   "metadata": {},
   "source": [
    "# 'Center' the data"
   ]
  },
  {
   "cell_type": "code",
   "execution_count": null,
   "id": "72acfc62-f1ee-44d7-b8ca-abdd85e66b7f",
   "metadata": {},
   "outputs": [],
   "source": [
    "tsCpub=tsC[pub_ens_x,:,:,:]"
   ]
  },
  {
   "cell_type": "code",
   "execution_count": null,
   "id": "2fad0978-7299-48e5-93bc-e31f02b61ae7",
   "metadata": {},
   "outputs": [],
   "source": [
    "print(np.shape(tsCpub))\n",
    "nens,nYr,nmo,ny,nx = np.shape(tsCpub)\n"
   ]
  },
  {
   "cell_type": "code",
   "execution_count": null,
   "id": "69f2ae4b-f099-4b7d-ab2a-1740047f89ca",
   "metadata": {},
   "outputs": [],
   "source": [
    "ts_1=tsCpub[0,:,:,:,:].reshape((nYr*nmo,ny,nx))\n",
    "#ts_1a=ts_1.mean( axis=1 )\n",
    "print( )"
   ]
  },
  {
   "cell_type": "code",
   "execution_count": null,
   "id": "0c0cb47a-f822-4096-8df9-209e61bd869c",
   "metadata": {},
   "outputs": [],
   "source": [
    "# Don't be bothered by apparent dimension mismatch.\n",
    "# This line 'broadcasts' the mean taken for axis=0\n",
    "# to the other dimensions, i.e., this line is equivalent \n",
    "# to subtracting 2 3D arrays where the mean array is \n",
    "# a stack of identical 2D arrays. Thanks ChatGPT.\n",
    "#-----------------------------------------------------\n",
    "ts_1x = ts_1 - ts_1.mean(axis=0)\n"
   ]
  },
  {
   "cell_type": "code",
   "execution_count": null,
   "id": "c7096a61-5cf5-4dd4-bf63-316b381f5672",
   "metadata": {},
   "outputs": [],
   "source": [
    "nt,ny,nx=np.shape(ts_1)\n",
    "for t in np.arange( nt ):\n",
    "    ts_1x[t, :,:] = np.where( landf < 0.05 , ts_1x[t,:,:], 0. )"
   ]
  },
  {
   "cell_type": "code",
   "execution_count": null,
   "id": "570af8a8-472a-4f4a-b131-ab523189bbfd",
   "metadata": {},
   "outputs": [],
   "source": [
    "# Scale with SQRT(cos(lat))\n",
    "Lon,Lat=np.meshgrid(lon,lat) \n",
    "CosScale=np.sqrt( np.cos( (np.pi/180.)*Lat ) )\n",
    "print(np.shape(CosScale))\n",
    "plt.contour( CosScale )"
   ]
  },
  {
   "cell_type": "code",
   "execution_count": null,
   "id": "09e2c87e-d8a1-4445-875b-c206f010832a",
   "metadata": {},
   "outputs": [],
   "source": [
    "# More \"broadcasting\"\n",
    "ts_1xC = ts_1x * CosScale"
   ]
  },
  {
   "cell_type": "code",
   "execution_count": null,
   "id": "3a2a6a06-2ce8-4f48-b414-b3e08d62209b",
   "metadata": {},
   "outputs": [],
   "source": [
    "#plt.plot( tsoo[:,90,90]-304.)\n",
    "plt.contour( ts_1xC[0,:,:],levels=31)\n",
    "plt.colorbar()\n"
   ]
  },
  {
   "cell_type": "code",
   "execution_count": null,
   "id": "d819f3a9-c1fa-4af5-88ed-81703576746a",
   "metadata": {},
   "outputs": [],
   "source": []
  },
  {
   "cell_type": "code",
   "execution_count": null,
   "id": "90f9f721-7b5c-4f5b-9e49-d2b8503a0426",
   "metadata": {},
   "outputs": [],
   "source": [
    "ts_1xC=np.reshape( ts_1xC , (nt, ny*nx) )"
   ]
  },
  {
   "cell_type": "code",
   "execution_count": null,
   "id": "2fb0a9a4-b9e8-419b-9b8f-e1b52d5b572d",
   "metadata": {},
   "outputs": [],
   "source": [
    "u,s,vt=np.linalg.svd( ts_1xC, full_matrices=False )"
   ]
  },
  {
   "cell_type": "code",
   "execution_count": null,
   "id": "0be2675a-d79b-4ca2-8b8a-70807120d84f",
   "metadata": {},
   "outputs": [],
   "source": [
    "print(np.shape(u))\n",
    "print(np.shape(s))\n",
    "print(np.shape(vt))\n",
    "#plt.plot(np.average(u,axis=1))\n",
    "#plt.plot( u.flatten() )"
   ]
  },
  {
   "cell_type": "code",
   "execution_count": null,
   "id": "cfb29f21-628c-4bfc-8219-14846a2cd076",
   "metadata": {},
   "outputs": [],
   "source": [
    "#print( np.shape(vt))\n",
    "fig=plt.figure(figsize=(20,10))\n",
    "\n",
    "lv=31 #np.linspace( -.03,.03,num=31)\n",
    "\n",
    "for n in np.arange(12):\n",
    "    ax1 = fig.add_subplot(3, 4, n+1 ) # , projection=projPC )\n",
    "    co=ax1.contourf( vt[n,:].reshape(ny,nx) , levels=lv)\n",
    "    plt.colorbar(co ) #,cax=cax,orientation='horizontal')\n"
   ]
  },
  {
   "cell_type": "code",
   "execution_count": null,
   "id": "c97dc568-bf93-4a78-b13d-8cbf93f4768b",
   "metadata": {},
   "outputs": [],
   "source": [
    "## \n",
    "#plt.plot(u[0,:])\n",
    "plt.plot(u[:,6])"
   ]
  },
  {
   "cell_type": "code",
   "execution_count": null,
   "id": "de6ea79e-ea0f-44f7-95e2-ac9ce8833fd9",
   "metadata": {},
   "outputs": [],
   "source": [
    "from scipy.signal import convolve\n"
   ]
  },
  {
   "cell_type": "code",
   "execution_count": null,
   "id": "ded74a63-39ab-4f23-9ef8-4026f7524531",
   "metadata": {},
   "outputs": [],
   "source": [
    "wsiz=12\n",
    "kernel = np.ones((wsiz,1)) / wsiz\n",
    "smoop = convolve(u, kernel, mode='same')"
   ]
  },
  {
   "cell_type": "code",
   "execution_count": null,
   "id": "0f8a93cc-3bd2-4bcc-93c4-916b46576d88",
   "metadata": {},
   "outputs": [],
   "source": [
    "i=8\n",
    "plt.plot( u[:,i])\n",
    "plt.plot( smoop[:,i])"
   ]
  },
  {
   "cell_type": "code",
   "execution_count": null,
   "id": "66fc95d8-57a6-4b49-9e2f-74d23839de04",
   "metadata": {},
   "outputs": [],
   "source": [
    "from scipy.signal import detrend\n",
    "\n",
    "# Assume `data` is your 3D (time, lat, lon) numpy array\n",
    "# data.shape might be something like (1000, 180, 360) for 1000 time steps, 180 latitude steps, and 360 longitude steps\n",
    "\n",
    "# Initialize an array to hold detrended data\n",
    "detrended_data = np.empty_like(data)\n",
    "\n",
    "# Iterate over lat and lon\n",
    "for i in range(data.shape[1]):\n",
    "    for j in range(data.shape[2]):\n",
    "        detrended_data[:, i, j] = detrend(data[:, i, j])\n",
    "\n"
   ]
  },
  {
   "cell_type": "code",
   "execution_count": null,
   "id": "b51176e4-84b2-4d35-bea8-033fb0c315d7",
   "metadata": {},
   "outputs": [],
   "source": [
    "from sklearn.decomposition import PCA "
   ]
  },
  {
   "cell_type": "code",
   "execution_count": null,
   "id": "ac6c9344-4909-4d8b-bf64-2d5a17df46c5",
   "metadata": {},
   "outputs": [],
   "source": [
    "pca=PCA(n_components=20)"
   ]
  },
  {
   "cell_type": "code",
   "execution_count": null,
   "id": "492affea-ebed-48ec-b3d3-3c7c4841cc2a",
   "metadata": {},
   "outputs": [],
   "source": [
    "tsoov=pca.fit_transform(tsoop)"
   ]
  },
  {
   "cell_type": "code",
   "execution_count": null,
   "id": "5ecbc190-443b-410d-990f-a88b591dc2a8",
   "metadata": {},
   "outputs": [],
   "source": [
    "print(np.shape(pca.components_))"
   ]
  },
  {
   "cell_type": "code",
   "execution_count": null,
   "id": "326f4855-a758-4975-954a-6a95a1c603ee",
   "metadata": {},
   "outputs": [],
   "source": [
    "plt.plot( pca.components_[0,:])\n",
    "plt.plot( vt[0,:])\n"
   ]
  },
  {
   "cell_type": "code",
   "execution_count": null,
   "id": "f46996fa-bed6-47fd-8484-b0b5fc64c66e",
   "metadata": {},
   "outputs": [],
   "source": [
    "print(192*288)"
   ]
  },
  {
   "cell_type": "code",
   "execution_count": null,
   "id": "aa573a51-de0d-475d-9185-5e26889a239a",
   "metadata": {},
   "outputs": [],
   "source": [
    "skoov=np.reshape( pca.components_ , (20,192,288) )"
   ]
  },
  {
   "cell_type": "code",
   "execution_count": null,
   "id": "9da923ee-e7c8-4f9e-a58f-bfef5b068bf7",
   "metadata": {},
   "outputs": [],
   "source": [
    "plt.contour(skoov[14,:,:])"
   ]
  },
  {
   "cell_type": "code",
   "execution_count": null,
   "id": "bb92cde3-29c5-48ec-a4d6-cd4a892e17f1",
   "metadata": {},
   "outputs": [],
   "source": []
  }
 ],
 "metadata": {
  "kernelspec": {
   "display_name": "NPL 2022b",
   "language": "python",
   "name": "npl-2022b"
  },
  "language_info": {
   "codemirror_mode": {
    "name": "ipython",
    "version": 3
   },
   "file_extension": ".py",
   "mimetype": "text/x-python",
   "name": "python",
   "nbconvert_exporter": "python",
   "pygments_lexer": "ipython3",
   "version": "3.8.13"
  }
 },
 "nbformat": 4,
 "nbformat_minor": 5
}
