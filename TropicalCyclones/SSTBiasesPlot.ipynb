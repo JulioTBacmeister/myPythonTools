{
 "cells": [
  {
   "cell_type": "code",
   "execution_count": null,
   "id": "ee390e9c-7741-4205-843d-6ad2469ab794",
   "metadata": {},
   "outputs": [],
   "source": [
    "import xarray as xr\n",
    "import numpy as np\n",
    "import matplotlib.pyplot as plt\n",
    "import pandas as pd\n",
    "\n",
    "import importlib\n",
    "\n",
    "\n",
    "import cartopy\n",
    "import cartopy.crs as ccrs\n",
    "import cartopy.feature as cfeature\n",
    "\n",
    "import sst_biases_2018pub as sstbias\n",
    "importlib.reload( sstbias )"
   ]
  },
  {
   "cell_type": "code",
   "execution_count": null,
   "id": "1fe9ba50-033a-4671-82db-1f00282525c3",
   "metadata": {},
   "outputs": [],
   "source": [
    "monthly_mean_bias,lat,lon = sstbias.original()"
   ]
  },
  {
   "cell_type": "code",
   "execution_count": null,
   "id": "0c4646aa-e006-4b26-b541-54a431016d41",
   "metadata": {},
   "outputs": [],
   "source": [
    "fig=plt.figure(figsize=(20,10))\n",
    "projPC = ccrs.PlateCarree(central_longitude=180.) #ccrs.Robinson(central_longitude=180.)\n",
    "data_crs = ccrs.PlateCarree()\n",
    "\n",
    "mons=['Jan','Feb','Mar','Apr','May','Jun','Jul','Aug','Sep','Oct','Nov','Dec']\n",
    "\n",
    "for ip in np.arange(12):\n",
    "    dlv=np.linspace(-4,4,num=17)\n",
    "    d01= monthly_mean_bias[ip,:,:]\n",
    "    ax1 = fig.add_subplot(3, 4, ip+1 , projection=projPC )\n",
    "    co = ax1.add_feature(cartopy.feature.LAND, zorder=100, edgecolor='black')  \n",
    "    #co = ax1.coastlines(resolution='110m',color='black')\n",
    "    po=ax1.contourf(lon,lat,d01,levels=dlv,cmap='bwr',  transform=data_crs )\n",
    "    #plt.colorbar()\n",
    "    #plt.plot(subsst_Had[0,:,:,:].flatten())\n",
    "    ax1.set_title( mons[ip] )\n",
    "\n",
    "cax = plt.axes([0.25, 0.05, 0.5, 0.02])\n",
    "plt.colorbar(po,cax=cax,orientation='horizontal')\n"
   ]
  },
  {
   "cell_type": "code",
   "execution_count": null,
   "id": "df5b06ba-f401-4f8b-b866-eca1a821e739",
   "metadata": {},
   "outputs": [],
   "source": [
    "print(np.shape( monthly_mean_bias) )"
   ]
  },
  {
   "cell_type": "code",
   "execution_count": null,
   "id": "fa191fb2-64f9-47f9-88da-b5662572f9b4",
   "metadata": {},
   "outputs": [],
   "source": []
  }
 ],
 "metadata": {
  "kernelspec": {
   "display_name": "NPL 2022b",
   "language": "python",
   "name": "npl-2022b"
  },
  "language_info": {
   "codemirror_mode": {
    "name": "ipython",
    "version": 3
   },
   "file_extension": ".py",
   "mimetype": "text/x-python",
   "name": "python",
   "nbconvert_exporter": "python",
   "pygments_lexer": "ipython3",
   "version": "3.8.13"
  }
 },
 "nbformat": 4,
 "nbformat_minor": 5
}
