{
 "cells": [
  {
   "cell_type": "code",
   "execution_count": null,
   "id": "31ce8aea-9bb7-4f2e-86e6-48eb08a4c000",
   "metadata": {},
   "outputs": [],
   "source": [
    "import subprocess as sp\n",
    "import sys\n",
    "import os\n",
    "import glob\n",
    "import json"
   ]
  },
  {
   "cell_type": "code",
   "execution_count": null,
   "id": "abb6f37f-460d-4817-80e1-dde62ac39db4",
   "metadata": {},
   "outputs": [],
   "source": [
    "foos=glob.glob('./*.ipynb')"
   ]
  },
  {
   "cell_type": "code",
   "execution_count": null,
   "id": "bb1a2d64-66f3-4fd1-a7cc-eaf8bbf97f32",
   "metadata": {},
   "outputs": [],
   "source": [
    "print(foos)"
   ]
  },
  {
   "cell_type": "code",
   "execution_count": null,
   "id": "8e9b9e32-d0ac-4204-afbd-2885bb3c3bcb",
   "metadata": {},
   "outputs": [],
   "source": [
    "for nbook in foos:\n",
    "    with open(nbook, 'r') as f:\n",
    "        notebook = json.load(f)\n",
    "\n",
    "    search_string = \"This creates figure\"\n",
    "\n",
    "    for i, cell in enumerate(notebook['cells']):\n",
    "        if cell['cell_type'] == 'code':\n",
    "            source = \"\".join(cell['source'])\n",
    "            if search_string in source:\n",
    "                print(f\"Found in notebook {nbook}\")\n",
    "                #print(f\"Found in cell {i}: \\n{source}\")"
   ]
  },
  {
   "cell_type": "code",
   "execution_count": null,
   "id": "1a2c60ed-4a7e-4264-920c-dbacc43c006c",
   "metadata": {},
   "outputs": [],
   "source": [
    "##\n",
    "for nbook in foos:\n",
    "    with open( nbook, 'r') as f:\n",
    "        notebook = json.load(f)\n",
    "\n",
    "    for i, cell in enumerate(notebook['cells']):\n",
    "        if cell['cell_type'] == 'code':\n",
    "            source_lines = cell['source']\n",
    "            source_joined = \"\".join(source_lines)\n",
    "\n",
    "            # Convert list to a single string, then split it back into lines\n",
    "            lines = source_joined.split(\"\\n\")\n",
    "\n",
    "            for j, line in enumerate(lines):\n",
    "                if search_string in line:\n",
    "                    #print(f\"Found in cell {i}, line {j + 1}:\")\n",
    "\n",
    "                    # Print the line where the string is found\n",
    "                    print(line.strip())\n",
    "\n",
    "                    # Optionally, print the two lines following the found string\n",
    "                    for k in range(1, 3):\n",
    "                        if j + k < len(lines):\n",
    "                            print(lines[j + k].strip())"
   ]
  },
  {
   "cell_type": "code",
   "execution_count": null,
   "id": "0a85fe33-2623-4179-91c6-670243c47805",
   "metadata": {},
   "outputs": [],
   "source": []
  }
 ],
 "metadata": {
  "kernelspec": {
   "display_name": "NPL 2022b",
   "language": "python",
   "name": "npl-2022b"
  },
  "language_info": {
   "codemirror_mode": {
    "name": "ipython",
    "version": 3
   },
   "file_extension": ".py",
   "mimetype": "text/x-python",
   "name": "python",
   "nbconvert_exporter": "python",
   "pygments_lexer": "ipython3",
   "version": "3.8.13"
  }
 },
 "nbformat": 4,
 "nbformat_minor": 5
}
