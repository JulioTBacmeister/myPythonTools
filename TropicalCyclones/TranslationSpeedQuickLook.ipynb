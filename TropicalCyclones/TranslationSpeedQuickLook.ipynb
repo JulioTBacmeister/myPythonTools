{
 "cells": [
  {
   "cell_type": "code",
   "execution_count": null,
   "id": "20e703ec-8dd4-40d9-a592-2125e8c4dbfe",
   "metadata": {},
   "outputs": [],
   "source": [
    "\n",
    "\n",
    "import sys\n",
    "# import modules in other directories\n",
    "sys.path.append('../Utils/')\n",
    "\n",
    "import xarray as xr\n",
    "import numpy as np\n",
    "import matplotlib.pyplot as plt\n",
    "import pandas as pd\n",
    "\n",
    "import cartopy\n",
    "import cartopy.crs as ccrs\n",
    "import cartopy.feature as cfeature\n",
    "\n",
    "\n",
    "\n",
    "import trax_util as trx\n",
    "import ibtracs as IBT\n",
    "import PlotUtil as Pu\n",
    "\n",
    "\n",
    "import importlib\n",
    "\n",
    "importlib.reload( trx )\n",
    "importlib.reload( IBT )\n",
    "\n",
    "importlib.reload( Pu )\n",
    "\n"
   ]
  },
  {
   "cell_type": "code",
   "execution_count": null,
   "id": "53b34906-fed8-415e-8268-48a1c67e072a",
   "metadata": {},
   "outputs": [],
   "source": [
    "power_wind=(1./6.)**(0.11)\n",
    "\n",
    "pd1=trx.readtrx( trx.pdfname(ens=1) , power_wind=power_wind )\n",
    "pd2=trx.readtrx( trx.pdfname(ens=2) , power_wind=power_wind )\n",
    "pd3=trx.readtrx( trx.pdfname(ens=3) , power_wind=power_wind )\n",
    "rc1=trx.readtrx( trx.rcp85fname(sst='sst1') , power_wind=power_wind )\n",
    "rc2=trx.readtrx( trx.rcp85fname(sst='sst2') , power_wind=power_wind )\n",
    "rc3=trx.readtrx( trx.rcp85fname(sst='sst3') , power_wind=power_wind )\n",
    "rc4=trx.readtrx( trx.rcp85fname(sst='sst4') , power_wind=power_wind )\n",
    "rc5=trx.readtrx( trx.rcp85fname(sst='sst5') , power_wind=power_wind )\n",
    "rc6=trx.readtrx( trx.rcp85fname(sst='sst6') , power_wind=power_wind )\n",
    "rc7=trx.readtrx( trx.rcp85fname(sst='sst7') , power_wind=power_wind )\n",
    "ibt=IBT.readtrx()"
   ]
  },
  {
   "cell_type": "code",
   "execution_count": null,
   "id": "92373b91-368d-4acc-b6d2-9d2393ee9520",
   "metadata": {},
   "outputs": [],
   "source": [
    "plt.plot(pd1.speed.flatten(),'.')\n",
    "plt.plot(rc1.speed.flatten(),'.')\n",
    "plt.ylim(0,50)\n",
    "#plt.xlim(0,100)\n",
    "print(pd1.speed.flatten()[0:10])"
   ]
  },
  {
   "cell_type": "code",
   "execution_count": null,
   "id": "a3739051-ace2-4ab9-b403-2c8c48647ba0",
   "metadata": {},
   "outputs": [],
   "source": [
    "nbins=2000\n",
    "Hp1,xp1=np.histogram(pd1.speed.flatten() , bins=nbins   ,range=(1.,51.) )\n",
    "Hp2,xp1=np.histogram(pd2.speed.flatten() , bins=nbins   ,range=(1.,51.) )\n",
    "Hp3,xp1=np.histogram(pd3.speed.flatten() , bins=nbins   ,range=(1.,51.) )\n",
    "Hr1,xr1=np.histogram(rc1.speed.flatten() , bins=nbins   ,range=(1.,51.) )\n",
    "Hr2,xr1=np.histogram(rc2.speed.flatten() , bins=nbins   ,range=(1.,51.) )\n",
    "Hr3,xr1=np.histogram(rc3.speed.flatten() , bins=nbins   ,range=(1.,51.) )\n",
    "Hr4,xr1=np.histogram(rc4.speed.flatten() , bins=nbins   ,range=(1.,51.) )\n",
    "Hr5,xr1=np.histogram(rc5.speed.flatten() , bins=nbins   ,range=(1.,51.) )\n",
    "Hr6,xr1=np.histogram(rc6.speed.flatten() , bins=nbins   ,range=(1.,51.) )\n",
    "Hr7,xr1=np.histogram(rc7.speed.flatten() , bins=nbins   ,range=(1.,51.) )\n",
    "Ho,xo=np.histogram(ibt.speed.flatten() , bins=nbins   ,range=(1.,51.) )"
   ]
  },
  {
   "cell_type": "code",
   "execution_count": null,
   "id": "b5977059-d8d9-4c8d-b211-cd84d045a7db",
   "metadata": {},
   "outputs": [],
   "source": [
    "plt.plot(xp1[1:],Hp1/np.sum(Hp1) ,color='black')\n",
    "plt.plot(xp1[1:],Hp2/np.sum(Hp2) ,color='black')\n",
    "plt.plot(xp1[1:],Hp3/np.sum(Hp3) ,color='black')\n",
    "plt.plot(xr1[1:],Hr1/np.sum(Hr1) ,color='red')\n",
    "plt.plot(xr1[1:],Hr2/np.sum(Hr2) ,color='red')\n",
    "plt.plot(xr1[1:],Hr3/np.sum(Hr3) ,color='red')\n",
    "plt.plot(xr1[1:],Hr4/np.sum(Hr4) ,color='red')\n",
    "plt.plot(xr1[1:],Hr5/np.sum(Hr5) ,color='red')\n",
    "plt.plot(xr1[1:],Hr6/np.sum(Hr6) ,color='red')\n",
    "plt.plot(xr1[1:],Hr7/np.sum(Hr7) ,color='red')\n",
    "plt.plot(xo[1:],Ho/np.sum(Ho) ,color='black',linestyle='--')\n",
    "\n"
   ]
  },
  {
   "cell_type": "code",
   "execution_count": null,
   "id": "f0c79e24-d1b9-47f3-a27b-a10836bede5e",
   "metadata": {},
   "outputs": [],
   "source": [
    "print( np.sum( xp1[1:]*Hp1 )/np.sum(Hp1) )\n",
    "print( np.sum( xr1[1:]*Hr1 )/np.sum(Hr1) )\n",
    "print( np.sum( xo[1:]*Ho )/np.sum(Ho) )"
   ]
  },
  {
   "cell_type": "code",
   "execution_count": null,
   "id": "8e47bd58-8d6f-456c-ab67-dcc33df759ff",
   "metadata": {},
   "outputs": [],
   "source": [
    "pd1"
   ]
  },
  {
   "cell_type": "code",
   "execution_count": null,
   "id": "4f24db84-5eb1-480a-87fb-1f64289fa1ac",
   "metadata": {},
   "outputs": [],
   "source": [
    "basi = IBT.basin_outlines(Mediterranean=False,xNEPacific=True)\n"
   ]
  },
  {
   "cell_type": "code",
   "execution_count": null,
   "id": "c8b252c6-bd57-4231-99d6-e112bf359cdd",
   "metadata": {},
   "outputs": [],
   "source": [
    "basi[8]"
   ]
  },
  {
   "cell_type": "code",
   "execution_count": null,
   "id": "834ddd35-ca54-4d0d-967f-0cea4c951678",
   "metadata": {},
   "outputs": [],
   "source": [
    "XY=np.array(basi[8].xy)"
   ]
  },
  {
   "cell_type": "code",
   "execution_count": null,
   "id": "f75b1995-a4d7-452f-b00e-ce368ea27284",
   "metadata": {},
   "outputs": [],
   "source": [
    "print(XY[:,0])"
   ]
  },
  {
   "cell_type": "code",
   "execution_count": null,
   "id": "7b5dc5e0-3541-4416-a801-0fd1c587ac9b",
   "metadata": {},
   "outputs": [],
   "source": [
    "pd1 = trx.add_sub_basin( pd1, XY[:,0], XY[:,1], sub_basin_number=1 )"
   ]
  },
  {
   "cell_type": "code",
   "execution_count": null,
   "id": "03cdf5c1-ea78-4e53-8d33-8ef59be572f2",
   "metadata": {},
   "outputs": [],
   "source": [
    "plt.plot( pd1.sub_basin.flatten(),'.' )"
   ]
  },
  {
   "cell_type": "code",
   "execution_count": null,
   "id": "6f8373c7-7a22-42d8-97d9-1eb0ace1e21d",
   "metadata": {},
   "outputs": [],
   "source": [
    "print(np.shape(pd1.sub_basin))"
   ]
  },
  {
   "cell_type": "code",
   "execution_count": null,
   "id": "e2b9a269-10bd-49c3-b0e3-eedfc23d5bd9",
   "metadata": {},
   "outputs": [],
   "source": [
    "foo=np.where( pd1.sub_basin.flatten()==1 )"
   ]
  },
  {
   "cell_type": "code",
   "execution_count": null,
   "id": "33bdb6e1-afe8-40ab-a054-46bd5d1a063d",
   "metadata": {},
   "outputs": [],
   "source": [
    "plt.plot( pd1.lon.flatten(),pd1.lat.flatten(),'.')\n",
    "plt.plot( pd1.lon.flatten()[foo[0][:]],pd1.lat.flatten()[foo[0][:]],'.')\n"
   ]
  },
  {
   "cell_type": "code",
   "execution_count": null,
   "id": "0afd14ad-f028-40fe-b93f-77e18bf0d230",
   "metadata": {},
   "outputs": [],
   "source": [
    "power_wind=1.0 # (1./6.)**(0.11)\n",
    "\n",
    "bace1,YY,MM =trx.basinACEmonth(wind=pd1.wind,basin=pd1.basin,year=pd1.year,month=pd1.month,power_wind=power_wind)\n",
    "sbace1,YY,MM=trx.basinACEmonth(wind=pd1.wind,basin=pd1.sub_basin,year=pd1.year,month=pd1.month,power_wind=power_wind)\n"
   ]
  },
  {
   "cell_type": "code",
   "execution_count": null,
   "id": "5198385f-9aa0-4a58-b1af-538931e7252a",
   "metadata": {},
   "outputs": [],
   "source": [
    "plt.scatter( bace1[1,:,:].flatten(),sbace1[1,:,:].flatten())\n"
   ]
  },
  {
   "cell_type": "code",
   "execution_count": null,
   "id": "bfb4839e-b6d6-4511-8d51-c73a70e06316",
   "metadata": {},
   "outputs": [],
   "source": []
  }
 ],
 "metadata": {
  "kernelspec": {
   "display_name": "NPL 2022b",
   "language": "python",
   "name": "npl-2022b"
  },
  "language_info": {
   "codemirror_mode": {
    "name": "ipython",
    "version": 3
   },
   "file_extension": ".py",
   "mimetype": "text/x-python",
   "name": "python",
   "nbconvert_exporter": "python",
   "pygments_lexer": "ipython3",
   "version": "3.8.13"
  }
 },
 "nbformat": 4,
 "nbformat_minor": 5
}
