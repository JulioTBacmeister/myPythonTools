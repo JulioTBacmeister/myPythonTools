{
 "cells": [
  {
   "cell_type": "code",
   "execution_count": null,
   "id": "ee390e9c-7741-4205-843d-6ad2469ab794",
   "metadata": {},
   "outputs": [],
   "source": [
    "#####################################\n",
    "# This creates figure(s)\n",
    "# LENS_fig{1,2}.png \n",
    "# in paper\n",
    "#####################################\n",
    "import xarray as xr\n",
    "import numpy as np\n",
    "import matplotlib.pyplot as plt\n",
    "import pandas as pd\n",
    "\n",
    "\n",
    "import cartopy\n",
    "import cartopy.crs as ccrs\n",
    "import cartopy.feature as cfeature\n",
    "\n",
    "import copy\n",
    "import importlib\n",
    "import get_lens1_rcp85 as lens1\n",
    "import sst_biases_2018pub as sstbias\n",
    "import get_hadley as Had\n",
    "import PlotUtil as Pu\n",
    "import ts_w_trx_joint as ttJ\n",
    "\n",
    "\n",
    "\n",
    "importlib.reload( sstbias )\n",
    "importlib.reload( lens1 )\n",
    "importlib.reload( Had )\n",
    "importlib.reload( Pu )\n",
    "importlib.reload( ttJ )\n"
   ]
  },
  {
   "cell_type": "code",
   "execution_count": null,
   "id": "574f9300-3d11-4637-a576-aef36a745b75",
   "metadata": {},
   "outputs": [],
   "source": [
    "###\n",
    "# Get Hadley SSTs\n",
    "###\n",
    "hadsst,lfrac_had,dates_had,lat_had,lon_had = Had.hadley1x1( limit_dates_for_pub=True)"
   ]
  },
  {
   "cell_type": "code",
   "execution_count": null,
   "id": "2b4c14b5-6a2d-4873-b2e3-546959f5331c",
   "metadata": {},
   "outputs": [],
   "source": [
    "print(np.shape(dates_had))\n",
    "print(dates_had[0,0],dates_had[-1,-1])"
   ]
  },
  {
   "cell_type": "code",
   "execution_count": null,
   "id": "4fd6612a-2a28-4eff-ad71-0b77e465d605",
   "metadata": {},
   "outputs": [],
   "source": [
    "monthly_mean_bias,lat_sst,lon_sst = sstbias.original()"
   ]
  },
  {
   "cell_type": "code",
   "execution_count": null,
   "id": "2205fcd8-c9a3-4502-bb64-69842ab574bf",
   "metadata": {},
   "outputs": [],
   "source": [
    "# Get Future SSTs from LENS\n",
    "# This also gets a CESM1 CMIP5 RCP8.5 run\n",
    "# which is \n",
    "tsFu,landf,lat,lon = lens1.FullTS()\n",
    "tsFuC=copy.deepcopy( tsFu )"
   ]
  },
  {
   "cell_type": "code",
   "execution_count": null,
   "id": "f765f200-d950-4810-99ba-aa3e155f887d",
   "metadata": {},
   "outputs": [],
   "source": [
    "tsPD,landfPD,latPD,lonPD = lens1.PresentDayTS()\n",
    "tsPDC=copy.deepcopy( tsPD )"
   ]
  },
  {
   "cell_type": "code",
   "execution_count": null,
   "id": "ae4b46bc-dff3-4893-b9a6-bd8f9e15d987",
   "metadata": {},
   "outputs": [],
   "source": [
    "###\n",
    "# Calculate bias corretced TS field using mean monthly biases\n",
    "\n",
    "nens,nt,ny,nx = np.shape( tsFu )\n",
    "nYr =  nt//12 \n",
    "\n",
    "tsFuC = tsFuC.reshape( nens ,nYr, 12, ny, nx )\n",
    "tsFuR = np.zeros( (nens ,nYr, 12, ny, nx ) )\n",
    "\n",
    "for nen in np.arange( nens ):\n",
    "    for iy in np.arange( nYr ):\n",
    "        for im in np.arange( 12 ):\n",
    "            tsFuR[nen,iy,im,:,:] = tsFuC[nen,iy,im,:,:] - monthly_mean_bias[im,:,:]"
   ]
  },
  {
   "cell_type": "code",
   "execution_count": null,
   "id": "8638ddb2-3584-42c2-be9d-d76510200376",
   "metadata": {
    "tags": []
   },
   "outputs": [],
   "source": [
    "###\n",
    "# Take time mean, i.e. over Year,Month '_aYM'.\n",
    "# Then find time-mean deviation of each ens member \n",
    "# from ensemable mean '_aYM_Ep'\n",
    "\n",
    "tsFuR_aYM    = np.average( np.average( tsFuR , axis= 1 ), axis= 1 )\n",
    "tsFuR_aYM_Ep = tsFuR_aYM - tsFuR_aYM.mean( axis=0 )\n",
    "tsFuC_aYM    = np.average( np.average( tsFuC , axis= 1 ), axis= 1 )\n",
    "tsFuC_aYM_Ep = tsFuC_aYM - tsFuC_aYM.mean( axis=0 )"
   ]
  },
  {
   "cell_type": "code",
   "execution_count": null,
   "id": "9444442a-8404-4c44-bfa2-0b197e94027c",
   "metadata": {},
   "outputs": [],
   "source": [
    "nens,nt,ny,nx = np.shape( tsPD )\n",
    "nYr =  nt//12 \n",
    "\n",
    "tsPDC = tsPDC.reshape( nens ,nYr, 12, ny, nx )\n",
    "tsPDR = np.zeros( (nens ,nYr, 12, ny, nx ) )\n",
    "\n",
    "for nen in np.arange( nens ):\n",
    "    for iy in np.arange( nYr ):\n",
    "        for im in np.arange( 12 ):\n",
    "            tsPDR[nen,iy,im,:,:] = tsPDC[nen,iy,im,:,:] - monthly_mean_bias[im,:,:]"
   ]
  },
  {
   "cell_type": "code",
   "execution_count": null,
   "id": "69b587f1-0356-4f89-a418-65a72feef4df",
   "metadata": {
    "tags": []
   },
   "outputs": [],
   "source": [
    "###\n",
    "# Take time mean, i.e. over Year,Month '_aYM'.\n",
    "# Then find time-mean deviation of each ens member \n",
    "# from ensemable mean '_aYM_Ep'\n",
    "\n",
    "tsPDR_aYM    = np.average( np.average( tsPDR , axis= 1 ), axis= 1 )\n",
    "tsPDR_aYM_Ep = tsPDR_aYM - tsPDR_aYM.mean( axis=0 )\n",
    "tsPDC_aYM    = np.average( np.average( tsPDC , axis= 1 ), axis= 1 )\n",
    "tsPDC_aYM_Ep = tsPDC_aYM - tsPDC_aYM.mean( axis=0 )"
   ]
  },
  {
   "cell_type": "code",
   "execution_count": null,
   "id": "f3c50f12-4f2a-422b-8c6f-3d1a1c8f115d",
   "metadata": {
    "tags": []
   },
   "outputs": [],
   "source": [
    "#projPC = ccrs.Robinson(central_longitude=180.)\n",
    "projPC = ccrs.PlateCarree(central_longitude=180.)\n",
    "data_crs = ccrs.PlateCarree()\n",
    "\n",
    "ensN=[0,-1]\n",
    "\n",
    "fig = plt.figure(figsize=(20, 12.5))\n",
    "sstlv=np.linspace(273,308,num=36)\n",
    "for nplo in np.arange(2):\n",
    "\n",
    "    nxplo=2 \n",
    "    nyplo=1\n",
    "    nen=ensN[nplo]\n",
    "    \n",
    "    Axes = Pu.axes_def(n=nplo+1,nxplo=nxplo,nyplo=nyplo ) \n",
    "\n",
    "    print( Axes )\n",
    "    ax = fig.add_axes( Axes , projection=projPC)\n",
    "    #ax=fig.add_subplot(6,5,nen  , projection=projPC )\n",
    "\n",
    "    co=ax.contourf(lon,lat, tsFuC_aYM[nen,:,:] ,levels=sstlv,cmap='jet' , transform=data_crs )\n",
    "    cl=ax.contour( lon,lat,tsFuC_aYM[nen,:,:] ,levels=sstlv,  transform=data_crs )\n",
    "    #ax.coastlines(resolution='110m',color='black')\n",
    "    ax.add_feature(cartopy.feature.LAND, zorder=100, edgecolor='black')    #ax.set_xlim(100,280)\n",
    "    #ax.set_ylim(60,130)\n",
    "    #ax.set_extent( \n",
    "    ax.set_extent( [180.-150,180+170, -40, 40] , crs=data_crs )\n",
    "    ax.set_title( '#'+str(nen) )\n",
    "\n",
    "cax = plt.axes([0.0, 0.8, 0.9, 0.02])\n",
    "plt.colorbar(co,cax=cax,orientation='horizontal')\n"
   ]
  },
  {
   "cell_type": "code",
   "execution_count": null,
   "id": "b39e40e1-511d-4da8-9922-47a894d30fe1",
   "metadata": {},
   "outputs": [],
   "source": [
    "\n",
    "#        j   f   m   a   m   j   j   a   s   o   n   d  \n",
    "monwgt=[31.,28.,31.,30.,31.,30.,31.,31.,30.,31.,30.,31.]\n",
    "latwgt=np.cos( lat*np.pi/180. )\n",
    "plt.plot(latwgt)\n",
    "print(np.shape(tsFuC))\n",
    "tsFuCa = np.average( tsFuC , axis=4 )\n",
    "print(np.shape(tsFuCa))\n",
    "tsFuCa = np.average( tsFuCa , weights=latwgt, axis=3 )\n",
    "print(np.shape(tsFuCa))\n",
    "tsFuCa = np.average( tsFuCa , weights=monwgt, axis=2 )\n",
    "print(np.shape(tsFuCa))\n"
   ]
  },
  {
   "cell_type": "code",
   "execution_count": null,
   "id": "eb275141-3714-4b7c-8a4f-cb4ebca10666",
   "metadata": {},
   "outputs": [],
   "source": [
    "print(np.shape(tsPDC))\n",
    "tsPDCa = np.average( tsPDC , axis=4 )\n",
    "print(np.shape(tsPDCa))\n",
    "tsPDCa = np.average( tsPDCa , weights=latwgt, axis=3 )\n",
    "print(np.shape(tsPDCa))\n",
    "tsPDCa = np.average( tsPDCa , weights=monwgt, axis=2 )\n",
    "print(np.shape(tsPDCa))\n"
   ]
  },
  {
   "cell_type": "code",
   "execution_count": null,
   "id": "d1d799c4-b1cf-484c-887e-c5a5c1883c6b",
   "metadata": {},
   "outputs": [],
   "source": [
    "pub_ens=[8,11,21,24,29]\n",
    "tsPD_avg =np.average(tsPDCa) \n",
    "\n",
    "FuYear = np.arange(31)+2070\n",
    "for e in np.arange( start=1,stop=nens ):\n",
    "    plt.plot( FuYear, tsFuCa[e,:] - tsPD_avg ,color='cyan')\n",
    "\n",
    "e=34\n",
    "plt.plot( FuYear, tsFuCa[e,:] - tsPD_avg,color='black' ,linewidth=2)\n",
    "e=0\n",
    "plt.plot( FuYear, tsFuCa[e,:] - tsPD_avg,color='red' )\n",
    "\n",
    "for e in pub_ens:\n",
    "    plt.plot( FuYear, tsFuCa[e,:] - tsPD_avg,color='green' )\n",
    "\n",
    "plt.ylabel( \"Warming ($^\\circ$C)\" )\n",
    "plt.title( \"Global mean warning in LENS1\" )\n",
    "#for e in np.arange( start=0,stop=nensPD ):\n",
    "#    plt.plot( tsPDCa[e,:] ,color='cyan')\n",
    "    \n"
   ]
  },
  {
   "cell_type": "code",
   "execution_count": null,
   "id": "47388583-84db-4710-b948-45ab264bc902",
   "metadata": {},
   "outputs": [],
   "source": [
    "#############################\n",
    "# Above Figure used in paper\n",
    "#############################"
   ]
  },
  {
   "cell_type": "code",
   "execution_count": null,
   "id": "2cce63bd-f331-455e-aecc-b18c334dee4a",
   "metadata": {},
   "outputs": [],
   "source": [
    "### STOP HERE FOR FIRST LOOK\n"
   ]
  },
  {
   "cell_type": "code",
   "execution_count": null,
   "id": "e0b18723-d55e-4fce-a762-ae3c618c717b",
   "metadata": {},
   "outputs": [],
   "source": [
    "### STOP HERE FOR FIRST LOOK\n"
   ]
  },
  {
   "cell_type": "code",
   "execution_count": null,
   "id": "79ec6572-e205-4c8a-ad1e-bdb711e1291a",
   "metadata": {},
   "outputs": [],
   "source": [
    "#### CONTINUE ???"
   ]
  },
  {
   "cell_type": "code",
   "execution_count": null,
   "id": "23e15480-1c16-446b-84e7-413c983c14ac",
   "metadata": {},
   "outputs": [],
   "source": [
    "print( hadsst.shape )\n",
    "hadmean = (hadsst.mean(axis=0)).mean(axis=0)\n",
    "print(hadmean.shape)"
   ]
  },
  {
   "cell_type": "code",
   "execution_count": null,
   "id": "2effece0-cd6d-43c6-a590-741df0e05492",
   "metadata": {
    "tags": []
   },
   "outputs": [],
   "source": [
    "#projPC = ccrs.Robinson(central_longitude=180.)\n",
    "projPC = ccrs.PlateCarree(central_longitude=180.)\n",
    "data_crs = ccrs.PlateCarree()\n",
    "\n",
    "ensN=[0,-1]\n",
    "\n",
    "fig = plt.figure(figsize=(30, 12.5))\n",
    "sstlv=np.linspace(273,308,num=36)\n",
    "wrmlv=np.linspace(-1,5,num=13)\n",
    "wrmlv=np.linspace(-10,10,num=21)\n",
    "\n",
    "nxplo=3 \n",
    "nyplo=1\n",
    "\n",
    "tsPDC_aYME = tsPDC_aYM.mean(axis=0)\n",
    "\n",
    "warming = tsFuC_aYM[-1,:,:] - tsPDC_aYME\n",
    "warming2 = tsFuR_aYM[-1,:,:] - hadmean\n",
    "\n",
    "nplo=1\n",
    "Axes = Pu.axes_def(n=3,nxplo=nxplo,nyplo=nyplo ) \n",
    "\n",
    "ax = fig.add_axes( Axes , projection=projPC)\n",
    "co=ax.contourf(lon,lat, warming2 ,levels=wrmlv,cmap='bwr' , transform=data_crs )\n",
    "cl=ax.contour( lon,lat,warming2 ,levels=wrmlv,  transform=data_crs )\n",
    "#ax.coastlines(resolution='110m',color='black')\n",
    "ax.add_feature(cartopy.feature.LAND, zorder=100, edgecolor='black')    #ax.set_xlim(100,280)\n",
    "#ax.set_ylim(60,130)\n",
    "#ax.set_extent( \n",
    "ax.set_extent( [180.-150,180+170, -40, 40] , crs=data_crs )\n",
    "#ax.set_title( '#'+str(nen) )\n",
    "plt.colorbar( co ,shrink=.15)\n",
    "\n",
    "\n",
    "Axes = Pu.axes_def(n=2,nxplo=nxplo,nyplo=nyplo ) \n",
    "\n",
    "ax = fig.add_axes( Axes , projection=projPC)\n",
    "#ax=fig.add_subplot(6,5,nen  , projection=projPC )\n",
    "\n",
    "#co=ax.contourf(lon,lat, tsPDav ,levels=sstlv,cmap='jet' , transform=data_crs )\n",
    "#cl=ax.contour( lon,lat,tsPDav ,levels=sstlv,  transform=data_crs )\n",
    "co=ax.contourf(lon,lat, warming ,levels=wrmlv,cmap='bwr' , transform=data_crs )\n",
    "cl=ax.contour( lon,lat,warming ,levels=wrmlv,  transform=data_crs )\n",
    "#ax.coastlines(resolution='110m',color='black')\n",
    "ax.add_feature(cartopy.feature.LAND, zorder=100, edgecolor='black')    #ax.set_xlim(100,280)\n",
    "#ax.set_ylim(60,130)\n",
    "#ax.set_extent( \n",
    "ax.set_extent( [180.-150,180+170, -40, 40] , crs=data_crs )\n",
    "#ax.set_title( '#'+str(nen) )\n",
    "plt.colorbar( co ,shrink=.15)\n",
    "\n",
    "\n",
    "\n",
    "\n",
    "\n",
    "Axes = Pu.axes_def(n=1,nxplo=nxplo,nyplo=nyplo ) \n",
    "ax = fig.add_axes( Axes , projection=projPC)\n",
    "\n",
    "co=ax.contourf(lon,lat, tsFuR_aYM[-1,:,:] ,levels=sstlv,cmap='jet' , transform=data_crs )\n",
    "cl=ax.contour( lon,lat,tsFuR_aYM[-1,:,:] ,levels=sstlv,  transform=data_crs )\n",
    "#ax.coastlines(resolution='110m',color='black')\n",
    "ax.add_feature(cartopy.feature.LAND, zorder=100, edgecolor='black')    #ax.set_xlim(100,280)\n",
    "#ax.set_ylim(60,130)\n",
    "#ax.set_extent( \n",
    "ax.set_extent( [180.-150,180+170, -40, 40] , crs=data_crs )\n",
    "#ax.set_title( '#'+str(nen) )\n",
    "plt.colorbar( co ,shrink=.15)\n",
    "\n",
    "\n",
    "#cax = plt.axes([0.0, 0.8, 0.9, 0.02])\n",
    "#plt.colorbar(co,cax=cax,orientation='horizontal')\n"
   ]
  },
  {
   "cell_type": "raw",
   "id": "030958fc-c356-43cf-9174-b5116c7a37cd",
   "metadata": {},
   "source": [
    "projPC = ccrs.PlateCarree(central_longitude=180.)\n",
    "data_crs = ccrs.PlateCarree()\n",
    "\n",
    "fig = plt.figure(figsize=(30, 25))\n",
    "sstlv=np.linspace(-.5,.5,num=16)\n",
    "for nen in np.arange(start=0,stop=30):\n",
    "    ax=fig.add_subplot(6,5,nen+1 )\n",
    "    co=ax.contourf(tsFuR_aYM_Ep[nen,:,:] ,levels=sstlv,cmap='jet')\n",
    "    cl=ax.contour( tsFuR_aYM_Ep[nen,:,:] ,levels=sstlv )\n",
    "    #ax.coastlines(resolution='110m',color='black')\n",
    "    #ax.add_feature(cartopy.feature.LAND, zorder=100, edgecolor='black')    #ax.set_xlim(100,280)\n",
    "    ax.set_ylim(60,130)\n",
    "    #ax.set_extent( \n",
    "    #ax.set_extent( [180.-150,180+170, -40, 40] , crs=data_crs )\n",
    "    ax.set_title( '#'+str(nen) )\n"
   ]
  },
  {
   "cell_type": "code",
   "execution_count": null,
   "id": "f44071a5-1549-4585-b1a7-e55dbd55861c",
   "metadata": {},
   "outputs": [],
   "source": [
    "warming2 = tsFuR_aYM[-1,:,:] - hadmean\n",
    "latwgt=np.cos( lat*np.pi/180. )\n",
    "latwgt=np.where(np.abs(lat)<30,latwgt,0)\n",
    "plt.plot(lat,latwgt)\n",
    "warming_av=np.average( np.average(warming2,axis=1), weights=latwgt, axis=0)\n",
    "print(warming_av)\n",
    "warming=warming2-warming_av"
   ]
  },
  {
   "cell_type": "code",
   "execution_count": null,
   "id": "24e59009-cd68-4a9b-9e40-137511b093ed",
   "metadata": {},
   "outputs": [],
   "source": [
    "###\n",
    "\"\"\"\n",
    "Note, below when adding panel labels with ax.text:\n",
    "f\"{chr(97 + n)})\"\n",
    "gets lower case letters starting with 'a' at chr(97).\n",
    "Uppercase starts at chr(65)\n",
    "\"\"\"\n",
    "pub_ens_x=[0,8,11,21,24,29,-1]\n",
    "SSTlab = ['SST1' , 'SST2' , 'SST3' , 'SST4' , 'SST5' , 'SST6' , 'SST7 (bias corrected LENS1 ens. mean - Hadley SSTs)' ]\n",
    "#panlab = [ \n",
    "projMap  = ccrs.PlateCarree(central_longitude=180.)\n",
    "projData = ccrs.PlateCarree()\n",
    "\n",
    "fig = plt.figure(figsize=(20, 8))\n",
    "cmap='bwr'\n",
    "nxplo,nyplo=3,3\n",
    "for n in np.arange(start=0,stop=7):\n",
    "    nen=pub_ens_x[n]\n",
    "    if (nen != -1):\n",
    "        Axes = Pu.axes_def(n=n+4,nxplo=nxplo,nyplo=nyplo ) \n",
    "        print(Axes)\n",
    "        ax = fig.add_axes( Axes , projection=projMap)\n",
    "        sstlv=np.linspace(-.5,.5,num=11)\n",
    "        co=ax.contourf(lon,lat,tsFuR_aYM_Ep[nen,:,:] ,levels=sstlv,cmap=cmap,transform=projData,extend='both')\n",
    "        cl=ax.contour( lon,lat,tsFuR_aYM_Ep[nen,:,:] ,levels=sstlv ,transform=projData, colors='black')\n",
    "        ax.add_feature(cartopy.feature.LAND, zorder=100, edgecolor='black')    #ax.set_xlim(100,280)\n",
    "        ax.text(-0.1, 1.1, f\"{chr(97 +n+1)})\", transform=ax.transAxes,\n",
    "            fontsize=20, fontweight='bold', va='top')\n",
    "        #fig.text(Axes[0], Axes[1]+Axes[3], \"Z)\",\n",
    "        #    fontsize=20, fontweight='bold', va='top')\n",
    "        ax.set_title( SSTlab[n]+' - SST7'  )\n",
    "    else:\n",
    "        #sstlv=np.linspace(272,308,num=19)\n",
    "\n",
    "        Axes = Pu.axes_def(n=1,nxplo=nxplo,nyplo=nyplo ) \n",
    "        ax = fig.add_axes( Axes , projection=projMap)\n",
    "        sstlv=np.linspace(-2,2,num=11)+warming_av\n",
    "        co=ax.contourf(lon,lat,warming2 ,levels=sstlv,cmap=cmap,transform=projData ,extend='both')\n",
    "        cl=ax.contour( lon,lat,warming2 ,levels=sstlv ,transform=projData, colors='black')\n",
    "        ax.add_feature(cartopy.feature.LAND, zorder=100, edgecolor='black')    #ax.set_xlim(100,280)\n",
    "        ax.text(-0.1, 1.1, f\"{chr(97 +0)})\", transform=ax.transAxes,\n",
    "            fontsize=20, fontweight='bold', va='top')\n",
    "        ax.set_title( SSTlab[n]  )\n",
    "\n",
    "    cbar = plt.colorbar(co,ax=ax,shrink=0.65)\n",
    "    cbar.set_label( 'K' )\n",
    "    #ax.set_ylim(60,130)\n",
    "    #ax.set_extent( \n",
    "    ax.set_extent( [180.-140,180+170, -50, 50] , crs=projData)\n",
    "    #ax.set_title( SSTlab[n]+ ' (LENS#'+str(nen)+')' )\n"
   ]
  },
  {
   "cell_type": "code",
   "execution_count": null,
   "id": "5bcbb917-da0e-45ed-9b97-efe53023aaac",
   "metadata": {},
   "outputs": [],
   "source": [
    "#############################\n",
    "# Above Figure used in paper\n",
    "#############################"
   ]
  },
  {
   "cell_type": "code",
   "execution_count": null,
   "id": "34b466a0-5694-4c91-9f93-e5f1044da6cb",
   "metadata": {},
   "outputs": [],
   "source": [
    "#############################\n",
    "# stop\n",
    "#############################"
   ]
  },
  {
   "cell_type": "code",
   "execution_count": null,
   "id": "7e9cb0d3-70e3-44e2-9d5f-50279615769d",
   "metadata": {},
   "outputs": [],
   "source": [
    "##################################\n",
    "# More analysis below, but nothing\n",
    "# for paper ....\n",
    "###################################"
   ]
  },
  {
   "cell_type": "code",
   "execution_count": null,
   "id": "8ce10e03-6fd7-4921-81c0-f877c2952418",
   "metadata": {},
   "outputs": [],
   "source": [
    "pub_ens_x=[0,8,11,21,24,29,-1]\n",
    "SSTlab = ['SST1' , 'SST2' , 'SST3' , 'SST4' , 'SST5' , 'SST6' , 'SST7' ]\n",
    "\n",
    "projMap  = ccrs.PlateCarree(central_longitude=180.)\n",
    "projData = ccrs.PlateCarree()\n",
    "\n",
    "tsZonA=np.zeros((35,192,288))\n",
    "for em in np.arange( 35):\n",
    "    for y in np.arange( 192 ):\n",
    "        tsZonA[em,y,:] = tsRoog[em,y,:] - tsRoog[em,y,:].mean(axis=0)"
   ]
  },
  {
   "cell_type": "code",
   "execution_count": null,
   "id": "f10cec71-381b-4acf-84ef-c10ecb74244b",
   "metadata": {},
   "outputs": [],
   "source": [
    "fig = plt.figure(figsize=(50, 10))\n",
    "sstlv=np.linspace(-.5,.5,num=11)\n",
    "for n in np.arange(start=0,stop=7):\n",
    "    ax=fig.add_subplot(2,4,n+1,projection=projMap )\n",
    "    nen=pub_ens_x[n]\n",
    "    co=ax.contourf(lon,lat,tsZonA[nen,:,:] ,levels=sstlv,cmap='bwr',transform=projData)\n",
    "    cl=ax.contour( lon,lat,tsZonA[nen,:,:] ,levels=sstlv ,transform=projData)\n",
    "    ax.add_feature(cartopy.feature.LAND, zorder=100, edgecolor='black')    #ax.set_xlim(100,280)\n",
    "    plt.colorbar(co,ax=ax,shrink=0.5)\n",
    "     #ax.set_ylim(60,130)\n",
    "    #ax.set_extent( \n",
    "    ax.set_extent( [180.-140,180+170, -50, 50] , crs=projData)\n",
    "    ax.set_title( SSTlab[n]+ ' (LENS#'+str(nen)+')' )"
   ]
  },
  {
   "cell_type": "code",
   "execution_count": null,
   "id": "32b919d1-6b34-4388-b280-55a2856c1deb",
   "metadata": {},
   "outputs": [],
   "source": [
    "fig = plt.figure(figsize=(8, 5))\n",
    "sstlv=np.linspace(-.5,.5,num=16)\n",
    "\n",
    "\"\"\"\n",
    "#d00=ts1[:,:,:].mean(axis=0)-tsCens.mean( axis=0 )\n",
    "plt.contourf( d00, levels=sstlv ,cmap='jet')\n",
    "plt.contour( d00, levels=sstlv )\n",
    "plt.xlim(100,288)\n",
    "plt.ylim(60,130)\n",
    "\"\"\"\n",
    "\n",
    "#projPC = ccrs.Robinson(central_longitude=180.)\n",
    "projPC = ccrs.PlateCarree(central_longitude=180.)\n",
    "data_crs = ccrs.PlateCarree()\n",
    "\n",
    "fig = plt.figure(figsize=(30, 25))\n",
    "sstlv=np.linspace(-.5,.5,num=16)\n",
    "for nen in np.arange(start=0,stop=31):\n",
    "\n",
    "    nxplo=5 \n",
    "    nyplo=6\n",
    "    dxplo=0.9/nxplo \n",
    "    dyplo=0.9/nyplo\n",
    "    dxcor=1./nxplo\n",
    "    dycor=0.5/nyplo\n",
    "    \n",
    "    jplo = (nen-1)//nxplo + 1\n",
    "    iplo = (nen-1)-jplo*nxplo\n",
    "    Axes = [ iplo*dxcor , 1.-jplo*dycor , dxplo , dyplo ] \n",
    "    \n",
    "    ax = fig.add_axes( Axes , projection=projPC)\n",
    "    #ax=fig.add_subplot(6,5,nen  , projection=projPC )\n",
    "\n",
    "    co=ax.contourf(lon,lat, tsRoog[nen,:,:] ,levels=sstlv,cmap='jet' , transform=data_crs )\n",
    "    cl=ax.contour( lon,lat,tsRoog[nen,:,:] ,levels=sstlv,  transform=data_crs )\n",
    "    #ax.coastlines(resolution='110m',color='black')\n",
    "    ax.add_feature(cartopy.feature.LAND, zorder=100, edgecolor='black')    #ax.set_xlim(100,280)\n",
    "    #ax.set_ylim(60,130)\n",
    "    #ax.set_extent( \n",
    "    ax.set_extent( [180.-150,180+170, -40, 40] , crs=data_crs )\n",
    "    ax.set_title( '#'+str(nen) )\n",
    "\n",
    "\n",
    "#projPC = ccrs.Robinson(central_longitude=180.)\n",
    "projPC = ccrs.PlateCarree(central_longitude=180.)\n",
    "data_crs = ccrs.PlateCarree()\n",
    "\n",
    "ensN = [0,-1]\n",
    "\n",
    "fig = plt.figure(figsize=(20, 12.5))\n",
    "sstlv=np.linspace(-.5,.5,num=16)\n",
    "for nplo in np.arange(2):\n",
    "\n",
    "    nxplo=2 \n",
    "    nyplo=1\n",
    "    dxplo=0.9/nxplo \n",
    "    dyplo=0.9/nyplo\n",
    "    dxcor=1./nxplo\n",
    "    dycor=0.5/nyplo\n",
    "    \n",
    "    nen=ensN[nplo]\n",
    "    \n",
    "    jplo = (nplo)//nxplo + 1\n",
    "    iplo = (nplo)-(jplo-1)*nxplo\n",
    "    Axes = [ iplo*dxcor , 1.-jplo*dycor , dxplo , dyplo ] \n",
    "    print( Axes )\n",
    "    ax = fig.add_axes( Axes , projection=projPC)\n",
    "    #ax=fig.add_subplot(6,5,nen  , projection=projPC )\n",
    "\n",
    "    co=ax.contourf(lon,lat, tsRoog[nen,:,:] ,levels=sstlv,cmap='jet' , transform=data_crs )\n",
    "    cl=ax.contour( lon,lat,tsRoog[nen,:,:] ,levels=sstlv,  transform=data_crs )\n",
    "    #ax.coastlines(resolution='110m',color='black')\n",
    "    ax.add_feature(cartopy.feature.LAND, zorder=100, edgecolor='black')    #ax.set_xlim(100,280)\n",
    "    #ax.set_ylim(60,130)\n",
    "    #ax.set_extent( \n",
    "    ax.set_extent( [180.-150,180+170, -40, 40] , crs=data_crs )\n",
    "    ax.set_title( '#'+str(nen) )\n",
    "\n",
    "cax = plt.axes([0.0, 0.8, 0.9, 0.02])\n",
    "plt.colorbar(co,cax=cax,orientation='horizontal')\n"
   ]
  },
  {
   "cell_type": "code",
   "execution_count": null,
   "id": "c0a983c7-c871-42c5-8598-f5ca19236b91",
   "metadata": {},
   "outputs": [],
   "source": [
    "pub_ens=[8,11,21,24,29]"
   ]
  },
  {
   "cell_type": "code",
   "execution_count": null,
   "id": "6fd9e945-b324-48e3-9c1e-ee245718b167",
   "metadata": {},
   "outputs": [],
   "source": [
    "tsRa = np.average(np.average(np.average(tsR,axis=0), axis=0), axis=0) \n",
    "tsCa = np.average(np.average(np.average(tsC,axis=0), axis=0), axis=0) \n",
    "\n",
    "\n"
   ]
  },
  {
   "cell_type": "code",
   "execution_count": null,
   "id": "a1f9b551-5d8f-4dea-8c45-d045c8d43b06",
   "metadata": {},
   "outputs": [],
   "source": [
    "fig = plt.figure(figsize=(20, 10))\n",
    "sstlv=np.linspace(270,310,num=41)\n",
    "ax=fig.add_subplot(2,1,1)\n",
    "co=ax.contourf( tsRa ,levels=sstlv)\n",
    "plt.colorbar( co )\n",
    "ax=fig.add_subplot(2,1,2)\n",
    "co=ax.contourf( tsCa ,levels=sstlv)\n",
    "plt.colorbar( co )\n",
    "\n",
    "\n"
   ]
  },
  {
   "cell_type": "code",
   "execution_count": null,
   "id": "371a0650-9006-4e72-b1d7-c63cad6a0d7f",
   "metadata": {},
   "outputs": [],
   "source": [
    "tsRjason = np.average( tsR[:,:,6:11,:,:] , axis= 2 )"
   ]
  },
  {
   "cell_type": "code",
   "execution_count": null,
   "id": "40c5df87-37ad-42ea-ac27-81bcc25196f5",
   "metadata": {},
   "outputs": [],
   "source": [
    "tsRjason_natl = np.average( np.average( tsRjason[:,:,100:140,235:250],axis=3),axis=2)\n",
    "tsRjason_npac = np.average( np.average( tsRjason[:,:,100:140,100:150],axis=3),axis=2)\n"
   ]
  },
  {
   "cell_type": "code",
   "execution_count": null,
   "id": "7df88652-0d44-456b-a0f0-04f91177b6e0",
   "metadata": {},
   "outputs": [],
   "source": [
    "plt.plot( (tsRjason_natl-tsRjason_npac).flatten())"
   ]
  },
  {
   "cell_type": "code",
   "execution_count": null,
   "id": "f0c2d5fc-0460-4c44-8f17-c0187c342335",
   "metadata": {},
   "outputs": [],
   "source": [
    "tsoo=np.average( ts, axis=1 )\n",
    "tsoo.shape\n"
   ]
  },
  {
   "cell_type": "code",
   "execution_count": null,
   "id": "31a7daa6-5c1b-46df-a54e-87bcf96c2350",
   "metadata": {},
   "outputs": [],
   "source": [
    "# ooooohhhh "
   ]
  },
  {
   "cell_type": "markdown",
   "id": "42bd321f-73eb-4659-bd4b-6d41218ab6bc",
   "metadata": {},
   "source": [
    "# 'Center' the data"
   ]
  },
  {
   "cell_type": "code",
   "execution_count": null,
   "id": "0c0cb47a-f822-4096-8df9-209e61bd869c",
   "metadata": {},
   "outputs": [],
   "source": [
    "# Don't be bothered by apparent dimension mismatch.\n",
    "# This line 'broadcasts' the mean taken for axis=0\n",
    "# to the other dimensions, i.e., this line is equivalent \n",
    "# to subtracting 2 3D arrays where the mean array is \n",
    "# a stack of identical 2D arrays. Thanks ChatGPT.\n",
    "#-----------------------------------------------------\n",
    "tsoop = tsoo - tsoo.mean(axis=0)\n"
   ]
  },
  {
   "cell_type": "code",
   "execution_count": null,
   "id": "c7096a61-5cf5-4dd4-bf63-316b381f5672",
   "metadata": {},
   "outputs": [],
   "source": [
    "for em in np.arange( nens ):\n",
    "    tsoop[em, :,:] = np.where( landf < 0.05 , tsoop[em,:,:], 0. )"
   ]
  },
  {
   "cell_type": "code",
   "execution_count": null,
   "id": "570af8a8-472a-4f4a-b131-ab523189bbfd",
   "metadata": {},
   "outputs": [],
   "source": [
    "# Scale with SQRT(cos(lat))\n",
    "Lon,Lat=np.meshgrid(lon,lat) \n",
    "CosScale=np.sqrt( np.cos( (np.pi/180.)*Lat ) )\n",
    "print(np.shape(CosScale))\n",
    "plt.contour( CosScale )"
   ]
  },
  {
   "cell_type": "code",
   "execution_count": null,
   "id": "09e2c87e-d8a1-4445-875b-c206f010832a",
   "metadata": {},
   "outputs": [],
   "source": [
    "# More \"broadcasting\"\n",
    "tsoog = tsoop * CosScale"
   ]
  },
  {
   "cell_type": "code",
   "execution_count": null,
   "id": "3a2a6a06-2ce8-4f48-b414-b3e08d62209b",
   "metadata": {},
   "outputs": [],
   "source": [
    "#plt.plot( tsoo[:,90,90]-304.)\n",
    "plt.contour( tsoog[0,:,:])\n"
   ]
  },
  {
   "cell_type": "code",
   "execution_count": null,
   "id": "d819f3a9-c1fa-4af5-88ed-81703576746a",
   "metadata": {},
   "outputs": [],
   "source": [
    "print(lat[[60,131]])\n",
    "tsoog=tsoog[:,60:132,:]\n",
    "nt,ny,nx = np.shape(tsoog)"
   ]
  },
  {
   "cell_type": "code",
   "execution_count": null,
   "id": "90f9f721-7b5c-4f5b-9e49-d2b8503a0426",
   "metadata": {},
   "outputs": [],
   "source": [
    "tsoog=np.reshape( tsoog, (nt, ny*nx) )"
   ]
  },
  {
   "cell_type": "code",
   "execution_count": null,
   "id": "2fb0a9a4-b9e8-419b-9b8f-e1b52d5b572d",
   "metadata": {},
   "outputs": [],
   "source": [
    "u,s,vt=np.linalg.svd( tsoog, full_matrices=False )"
   ]
  },
  {
   "cell_type": "code",
   "execution_count": null,
   "id": "0be2675a-d79b-4ca2-8b8a-70807120d84f",
   "metadata": {},
   "outputs": [],
   "source": [
    "print(np.shape(u))\n",
    "print(np.shape(s))\n",
    "#plt.plot(np.average(u,axis=1))\n",
    "plt.plot( u.flatten() )"
   ]
  },
  {
   "cell_type": "code",
   "execution_count": null,
   "id": "cfb29f21-628c-4bfc-8219-14846a2cd076",
   "metadata": {},
   "outputs": [],
   "source": [
    "#print( np.shape(vt))\n",
    "fig=plt.figure(figsize=(20,10))\n",
    "\n",
    "lv=np.linspace( -.03,.03,num=31)\n",
    "for n in np.arange(12):\n",
    "    ax1 = fig.add_subplot(3, 4, n+1 ) # , projection=projPC )\n",
    "    co=ax1.contourf( vt[n,:].reshape(ny,nx) , levels=lv)\n",
    "    plt.colorbar(co ) #,cax=cax,orientation='horizontal')\n"
   ]
  },
  {
   "cell_type": "code",
   "execution_count": null,
   "id": "c97dc568-bf93-4a78-b13d-8cbf93f4768b",
   "metadata": {},
   "outputs": [],
   "source": [
    "## "
   ]
  },
  {
   "cell_type": "code",
   "execution_count": null,
   "id": "b51176e4-84b2-4d35-bea8-033fb0c315d7",
   "metadata": {},
   "outputs": [],
   "source": [
    "from sklearn.decomposition import PCA "
   ]
  },
  {
   "cell_type": "code",
   "execution_count": null,
   "id": "ac6c9344-4909-4d8b-bf64-2d5a17df46c5",
   "metadata": {},
   "outputs": [],
   "source": [
    "pca=PCA(n_components=20)"
   ]
  },
  {
   "cell_type": "code",
   "execution_count": null,
   "id": "492affea-ebed-48ec-b3d3-3c7c4841cc2a",
   "metadata": {},
   "outputs": [],
   "source": [
    "tsoov=pca.fit_transform(tsoop)"
   ]
  },
  {
   "cell_type": "code",
   "execution_count": null,
   "id": "5ecbc190-443b-410d-990f-a88b591dc2a8",
   "metadata": {},
   "outputs": [],
   "source": [
    "print(np.shape(pca.components_))"
   ]
  },
  {
   "cell_type": "code",
   "execution_count": null,
   "id": "326f4855-a758-4975-954a-6a95a1c603ee",
   "metadata": {},
   "outputs": [],
   "source": [
    "plt.plot( pca.components_[0,:])\n",
    "plt.plot( vt[0,:])\n"
   ]
  },
  {
   "cell_type": "code",
   "execution_count": null,
   "id": "f46996fa-bed6-47fd-8484-b0b5fc64c66e",
   "metadata": {},
   "outputs": [],
   "source": [
    "print(192*288)"
   ]
  },
  {
   "cell_type": "code",
   "execution_count": null,
   "id": "aa573a51-de0d-475d-9185-5e26889a239a",
   "metadata": {},
   "outputs": [],
   "source": [
    "skoov=np.reshape( pca.components_ , (20,192,288) )"
   ]
  },
  {
   "cell_type": "code",
   "execution_count": null,
   "id": "9da923ee-e7c8-4f9e-a58f-bfef5b068bf7",
   "metadata": {},
   "outputs": [],
   "source": [
    "plt.contour(skoov[14,:,:])"
   ]
  },
  {
   "cell_type": "code",
   "execution_count": null,
   "id": "bb92cde3-29c5-48ec-a4d6-cd4a892e17f1",
   "metadata": {},
   "outputs": [],
   "source": []
  }
 ],
 "metadata": {
  "kernelspec": {
   "display_name": "NPL 2022b",
   "language": "python",
   "name": "npl-2022b"
  },
  "language_info": {
   "codemirror_mode": {
    "name": "ipython",
    "version": 3
   },
   "file_extension": ".py",
   "mimetype": "text/x-python",
   "name": "python",
   "nbconvert_exporter": "python",
   "pygments_lexer": "ipython3",
   "version": "3.8.13"
  }
 },
 "nbformat": 4,
 "nbformat_minor": 5
}
