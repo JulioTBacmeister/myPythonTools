{
 "cells": [
  {
   "cell_type": "code",
   "execution_count": null,
   "id": "bec5b33d-054c-473b-856f-6f2bcc77d9df",
   "metadata": {},
   "outputs": [],
   "source": [
    "import xarray as xr\n",
    "import numpy as np\n",
    "import matplotlib.pyplot as plt\n",
    "import pandas as pd\n",
    "\n",
    "import importlib\n",
    "\n",
    "import cftime\n",
    "import time as time\n",
    "import datetime\n",
    "\n",
    "import cartopy\n",
    "import cartopy.crs as ccrs\n",
    "import cartopy.feature as cfeature\n"
   ]
  },
  {
   "cell_type": "code",
   "execution_count": null,
   "id": "004c999e-e14a-4056-9bdb-d1a14c4cb5bd",
   "metadata": {},
   "outputs": [],
   "source": [
    "f=\"/glade/work/juliob/IBTrACS/IBTrACS.since1980.v04r00.nc\"\n",
    "dIB=xr.open_dataset( f )"
   ]
  },
  {
   "cell_type": "code",
   "execution_count": null,
   "id": "63b1e6db-8ddd-481e-8f59-5bdb87453cc7",
   "metadata": {},
   "outputs": [],
   "source": [
    "print( list(dIB.variables))"
   ]
  },
  {
   "cell_type": "code",
   "execution_count": null,
   "id": "90eaa6ac-0b0e-4026-b728-fcfc8ccba2a3",
   "metadata": {},
   "outputs": [],
   "source": [
    "wind=dIB.wmo_wind.values\n",
    "basin=dIB.basin.values\n",
    "timevar=dIB.time.values\n",
    "\n",
    "#dIB.wmo_wind\n",
    "plt.plot( wind.flatten())"
   ]
  },
  {
   "cell_type": "code",
   "execution_count": null,
   "id": "9f649c0e-687a-4581-a4ec-17f2384ce4e2",
   "metadata": {},
   "outputs": [],
   "source": [
    "\n",
    "# numpy datetime64 object\n",
    "np_dt64 = np.datetime64('2021-05-28T00:00:00')\n",
    "print(np_dt64)\n",
    "# convert numpy datetime64 to datetime\n",
    "dt = np_dt64.astype(datetime.datetime)\n",
    "\n",
    "# convert datetime to time.struct_time\n",
    "struct_time = time.gmtime(time.mktime(dt.timetuple()))\n",
    "\n",
    "print(struct_time)"
   ]
  },
  {
   "cell_type": "code",
   "execution_count": null,
   "id": "f9dab0be-f975-4f53-825b-25b9587d2938",
   "metadata": {},
   "outputs": [],
   "source": [
    "timevar_A = np.datetime_as_string( timevar )\n",
    "print( timevar_A[0,1])\n",
    "nstorm,nt=np.shape(timevar)\n",
    "tttt = np.zeros( (nstorm,nt) , dtype='datetime64[s]' )\n",
    "tttt = timevar.astype( 'datetime64[s]' )\n",
    "\n",
    "print(np.shape(tttt))"
   ]
  },
  {
   "cell_type": "code",
   "execution_count": null,
   "id": "4a6fe2de-1230-47f0-a746-835167ce9a03",
   "metadata": {},
   "outputs": [],
   "source": [
    "print(timevar_A[0,0:100])"
   ]
  },
  {
   "cell_type": "code",
   "execution_count": null,
   "id": "e9c8e389-5e05-4b1b-839f-e96404ce6d81",
   "metadata": {},
   "outputs": [],
   "source": [
    "nstorm,nt=np.shape(timevar_A)\n",
    "year,month,day,hour = np.zeros((nstorm,nt) , dtype='int'),\\\n",
    "                        np.zeros((nstorm,nt) , dtype='int'),\\\n",
    "                        np.zeros((nstorm,nt) , dtype='int'),\\\n",
    "                        np.zeros((nstorm,nt) , dtype='int')\n",
    "\n",
    "for s in np.arange(nstorm):\n",
    "    for t in np.arange( nt ):\n",
    "        if ( timevar_A[s,t] != 'NaT'):\n",
    "            year[s,t]  = int(timevar_A[s,t][0:4])\n",
    "            month[s,t] = int(timevar_A[s,t][5:7])\n",
    "            day[s,t]   = int(timevar_A[s,t][8:10])\n",
    "            hour[s,t]  = int(timevar_A[s,t][11:13])\n"
   ]
  },
  {
   "cell_type": "code",
   "execution_count": null,
   "id": "02089878-ac0f-43e5-9a4f-151c6f2f69f8",
   "metadata": {},
   "outputs": [],
   "source": [
    "print(hour[0,0:100])"
   ]
  },
  {
   "cell_type": "code",
   "execution_count": null,
   "id": "3d73e0db-8384-41c4-a7cc-23f79765cf08",
   "metadata": {},
   "outputs": [],
   "source": [
    "year = int(timevar_A[0,1][0:4])\n",
    "month = int(timevar_A[0,1][5:7])\n",
    "day = int(timevar_A[0,1][8:10])\n",
    "hour = int(timevar_A[0,1][11:13])\n",
    "print(year,month,day,hour)"
   ]
  },
  {
   "cell_type": "code",
   "execution_count": null,
   "id": "09930459-b455-471a-8940-fa1fc4315a65",
   "metadata": {},
   "outputs": [],
   "source": [
    "\n",
    "ttt=tttt.astype( datetime.datetime)\n",
    "stru = Time.gmtime(Time.mktime(ttt.timetuple()))\n",
    "\n",
    "gzzg = Time.strftime( \"%b%d%Y-%m-%d\", stru ) \n",
    "#print(gzzg)"
   ]
  },
  {
   "cell_type": "code",
   "execution_count": null,
   "id": "189e1bb1-ad78-461b-bc1d-4e24f35fb16f",
   "metadata": {},
   "outputs": [],
   "source": [
    "plt.plot(basin.flatten(),'o')"
   ]
  },
  {
   "cell_type": "code",
   "execution_count": null,
   "id": "df3d5131-a317-40ea-a239-81751b7bd3ba",
   "metadata": {},
   "outputs": [],
   "source": [
    "uu=np.unique(basin)"
   ]
  },
  {
   "cell_type": "code",
   "execution_count": null,
   "id": "08ecb62c-b255-48fc-a0cb-7ec86ec62630",
   "metadata": {},
   "outputs": [],
   "source": [
    "print(uu)"
   ]
  },
  {
   "cell_type": "code",
   "execution_count": null,
   "id": "712d218c-3711-4a14-8052-835b2340dca4",
   "metadata": {},
   "outputs": [],
   "source": [
    "lon=dIB.lon.values\n",
    "lat=dIB.lat.values\n",
    "lon=np.where( lon<0.,lon+360.,lon)\n",
    "\n",
    "ppoo=np.where( basin.flatten() == b'SI' )\n",
    "print(len(ppoo[0]))"
   ]
  },
  {
   "cell_type": "code",
   "execution_count": null,
   "id": "ec9794ae-713c-4ba5-bd2c-44a4081637d5",
   "metadata": {},
   "outputs": [],
   "source": [
    "plt.plot( lon.flatten()[ppoo[0]],lat.flatten()[ppoo[0]],'o')"
   ]
  },
  {
   "cell_type": "code",
   "execution_count": null,
   "id": "3439f52e-9e21-4f0c-be43-b7fe276165a4",
   "metadata": {},
   "outputs": [],
   "source": [
    "print( lon.flatten()[ppoo[0][0:10]],lat.flatten()[ppoo[0][0:10]] )"
   ]
  },
  {
   "cell_type": "code",
   "execution_count": null,
   "id": "b9c7a170-7657-4eab-a2b2-d957a9cbdf9a",
   "metadata": {},
   "outputs": [],
   "source": [
    "print(np.shape(wind))\n",
    "print(np.shape(basin))\n",
    "print(np.shape(time))\n",
    "#print( time[4000,0:10])\n",
    "Time.strftime( \"%b%d%Y\", Time.gmtime() ) #$ time[4000,0] ))\n",
    "#Time.strftime( \"%b%d%Y\", cftime.Datetime(time[4000,0]) ) \n",
    "print(time[4000,0])\n",
    "#tttt = np.datetime64( '2016-12-18T06:00:00.000039936'  )  # time[4000,0] )\n",
    "#tttt = np.datetime64(  time[4000,0] )\n",
    "tttt = time[1000,0] \n",
    "tttt = tttt.astype( 'datetime64[s]' )\n",
    "#tttt = np.datetime64( '2016-12-18T06:00:00.00'  ) # time[4000,0] )\n",
    "print(tttt)\n",
    "ttt=tttt.astype( datetime.datetime)\n",
    "#tttt = time[4000,0].astype( datetime.datetime)\n",
    "stru = Time.gmtime(Time.mktime(ttt.timetuple()))\n",
    "\n",
    "gzzg = Time.strftime( \"%b%d%Y-%m-%d\", stru ) \n",
    "print(gzzg)"
   ]
  }
 ],
 "metadata": {
  "kernelspec": {
   "display_name": "NPL 2022b",
   "language": "python",
   "name": "npl-2022b"
  },
  "language_info": {
   "codemirror_mode": {
    "name": "ipython",
    "version": 3
   },
   "file_extension": ".py",
   "mimetype": "text/x-python",
   "name": "python",
   "nbconvert_exporter": "python",
   "pygments_lexer": "ipython3",
   "version": "3.8.13"
  }
 },
 "nbformat": 4,
 "nbformat_minor": 5
}
