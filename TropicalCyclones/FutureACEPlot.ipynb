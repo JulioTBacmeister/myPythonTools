{
 "cells": [
  {
   "cell_type": "code",
   "execution_count": null,
   "id": "f220922d-99ea-48db-864e-f70bdb5ab406",
   "metadata": {},
   "outputs": [],
   "source": [
    "import xarray as xr\n",
    "import numpy as np\n",
    "import matplotlib.pyplot as plt\n",
    "import pandas as pd\n",
    "\n",
    "\n",
    "import trax_util as trx\n",
    "import ibtracs as IBT\n",
    "\n",
    "import importlib\n",
    "\n",
    "importlib.reload( trx )\n",
    "importlib.reload( IBT )\n"
   ]
  },
  {
   "cell_type": "code",
   "execution_count": null,
   "id": "098500bb-08b1-4f59-a727-ab41a8ba887c",
   "metadata": {},
   "outputs": [],
   "source": [
    "alpha_pw = 0.11 # power wind law exponent\n",
    "zbot = 60.\n",
    "z10m = 10.\n",
    "power_wind=(z10m /zbot )**(alpha_pw)\n",
    "\n",
    "pd1=trx.readtrx( trx.pdfname(ens=1) , power_wind=power_wind )\n",
    "pd2=trx.readtrx( trx.pdfname(ens=2) , power_wind=power_wind  )\n",
    "pd3=trx.readtrx( trx.pdfname(ens=3) , power_wind=power_wind  )\n",
    "#ibx=IBT.readtrx(Fill_NI_before_1990=False)\n",
    "ibx=IBT.readtrx()"
   ]
  },
  {
   "cell_type": "code",
   "execution_count": null,
   "id": "475dab2d-0aeb-40ba-b9f9-492467a786f6",
   "metadata": {},
   "outputs": [],
   "source": [
    "rc1=trx.readtrx( trx.rcp85fname(sst='sst1') , power_wind=power_wind  )\n",
    "rc2=trx.readtrx( trx.rcp85fname(sst='sst2') , power_wind=power_wind  )\n",
    "rc3=trx.readtrx( trx.rcp85fname(sst='sst3')  , power_wind=power_wind )\n",
    "rc4=trx.readtrx( trx.rcp85fname(sst='sst4') , power_wind=power_wind  )\n",
    "rc5=trx.readtrx( trx.rcp85fname(sst='sst5') , power_wind=power_wind  )\n",
    "rc6=trx.readtrx( trx.rcp85fname(sst='sst6') , power_wind=power_wind  )\n",
    "rc7=trx.readtrx( trx.rcp85fname(sst='sst7') , power_wind=power_wind  )\n",
    "#rc8=trx.readtrx( trx.rcp85fname(sst='sst8') )\n",
    "\n",
    "rc1_2=trx.readtrx( trx.rcp85fname(sst='sst1' , ens=2) , power_wind=power_wind  )\n",
    "rc1_3=trx.readtrx( trx.rcp85fname(sst='sst1' , ens=3) , power_wind=power_wind  )"
   ]
  },
  {
   "cell_type": "code",
   "execution_count": null,
   "id": "71b67a58-6590-4f12-9ce5-8789fd0c9d34",
   "metadata": {},
   "outputs": [],
   "source": [
    "plt.plot(rc4.year.flatten())\n",
    "plt.plot(rc6.year.flatten())\n",
    "plt.ylim(2070,2120)\n"
   ]
  },
  {
   "cell_type": "code",
   "execution_count": null,
   "id": "37bfe8f8-a132-40b7-bfeb-fe9b80c0e074",
   "metadata": {},
   "outputs": [],
   "source": [
    "rc4 = trx.Heal_rc4(rc4)\n",
    "rc6 = trx.Heal_rc6(rc6)"
   ]
  },
  {
   "cell_type": "code",
   "execution_count": null,
   "id": "d87a29b2-ee89-4466-a70b-95573802743e",
   "metadata": {},
   "outputs": [],
   "source": [
    "plt.plot(rc4.year.flatten())\n",
    "plt.plot(rc6.year.flatten())\n",
    "plt.ylim(2070,2120)\n"
   ]
  },
  {
   "cell_type": "code",
   "execution_count": null,
   "id": "c7ea0047-c7d1-46b1-aae6-fed69a8936d3",
   "metadata": {},
   "outputs": [],
   "source": [
    "x=np.linspace(0,360,num=360//2+1 )\n",
    "y=np.linspace(-90,90,num=180//2+1 )\n",
    "\n",
    "\n",
    "\n",
    "dnr1=trx.adensity( trx=rc1 ,x=x, y=y, alpha=2, byYear=True )"
   ]
  },
  {
   "cell_type": "code",
   "execution_count": null,
   "id": "b8cee6aa-9c3f-4e41-b510-d8abfc489aca",
   "metadata": {},
   "outputs": [],
   "source": [
    "print(np.shape(dnr1))\n"
   ]
  },
  {
   "cell_type": "code",
   "execution_count": null,
   "id": "cd33f245-d26e-495b-adfb-9647e0640c7b",
   "metadata": {},
   "outputs": [],
   "source": [
    "alpha_pw = 0.11 # power wind law exponent\n",
    "zbot = 60.\n",
    "z10m = 10."
   ]
  },
  {
   "cell_type": "code",
   "execution_count": null,
   "id": "4aa278ad-63a9-4400-8c5b-8d056324aa2f",
   "metadata": {},
   "outputs": [],
   "source": [
    "power_wind=(z10m /zbot )**(alpha_pw)\n",
    "print(power_wind)\n",
    "\n",
    "pdace = 1e-4 * (power_wind*1.944*pd1.wind)**2\n",
    "ibace = 1e-4 * (1.944*ibx.wind)**2\n",
    "pdace=np.nan_to_num( pdace )\n",
    "ibace=np.nan_to_num( ibace )\n",
    "\n",
    "\n",
    "ACE=np.sum(pdace,axis=1)\n",
    "IBACE=np.sum(ibace,axis=1)\n"
   ]
  },
  {
   "cell_type": "code",
   "execution_count": null,
   "id": "071fb164-17f1-4fb5-b1b2-00cba303f910",
   "metadata": {},
   "outputs": [],
   "source": [
    "power_wind=1.\n",
    "BacerYr1,Yr3 =trx.basinACEyearHemi(wind=rc1.wind,basin=rc1.basin,year=rc1.year,month=rc1.month,power_wind=power_wind)\n",
    "BacerYr2,Yr3 =trx.basinACEyearHemi(wind=rc2.wind,basin=rc2.basin,year=rc2.year,month=rc2.month,power_wind=power_wind)\n",
    "BacerYr3,Yr3 =trx.basinACEyearHemi(wind=rc3.wind,basin=rc3.basin,year=rc3.year,month=rc3.month,power_wind=power_wind)\n",
    "BacerYr4,Yr3 =trx.basinACEyearHemi(wind=rc4.wind,basin=rc4.basin,year=rc4.year,month=rc4.month,power_wind=power_wind)\n",
    "BacerYr5,Yr3 =trx.basinACEyearHemi(wind=rc5.wind,basin=rc5.basin,year=rc5.year,month=rc5.month,power_wind=power_wind)\n",
    "BacerYr6,Yr3 =trx.basinACEyearHemi(wind=rc6.wind,basin=rc6.basin,year=rc6.year,month=rc6.month,power_wind=power_wind)\n",
    "BacerYr7,Yr3 =trx.basinACEyearHemi(wind=rc7.wind,basin=rc7.basin,year=rc7.year,month=rc7.month,power_wind=power_wind)\n",
    "\n",
    "BacerYr1_2,Yr3 =trx.basinACEyearHemi(wind=rc1_2.wind,basin=rc1_2.basin,year=rc1_2.year,month=rc1_2.month,power_wind=power_wind)\n",
    "BacerYr1_3,Yr3 =trx.basinACEyearHemi(wind=rc1_3.wind,basin=rc1_3.basin,year=rc1_3.year,month=rc1_3.month,power_wind=power_wind)\n",
    "BacerYr1_A=(BacerYr1 + BacerYr1_2+BacerYr1_3 )/3."
   ]
  },
  {
   "cell_type": "code",
   "execution_count": null,
   "id": "b7928a2b-25ad-4ddc-9382-da0d32c5961c",
   "metadata": {},
   "outputs": [],
   "source": [
    "power_wind=1.\n",
    "BacepdYr1,Yrp =trx.basinACEyearHemi(wind=pd1.wind,basin=pd1.basin,year=pd1.year,month=pd1.month,power_wind=power_wind)\n",
    "BacepdYr2,Yrp =trx.basinACEyearHemi(wind=pd2.wind,basin=pd2.basin,year=pd2.year,month=pd2.month,power_wind=power_wind)\n",
    "BacepdYr3,Yrp =trx.basinACEyearHemi(wind=pd3.wind,basin=pd3.basin,year=pd3.year,month=pd3.month,power_wind=power_wind)\n",
    "BacepdYrA=(BacepdYr1 +BacepdYr2+BacepdYr3 )/3."
   ]
  },
  {
   "cell_type": "code",
   "execution_count": null,
   "id": "e2a7290a-a382-45f9-9d75-8266a0d1865f",
   "metadata": {},
   "outputs": [],
   "source": [
    "\n",
    "b=5\n",
    "plt.plot(BacerYr1[b,:])\n",
    "plt.plot(BacerYr1_2[b,:])\n",
    "plt.plot(BacerYr1_3[b,:])\n",
    "plt.plot(BacerYr1_A[b,:],color='black')\n",
    "\n",
    "\n",
    "#plt.plot(BacerYr1[b,:])\n",
    "xx=np.c_[ BacerYr1[b,:],BacerYr1_A[b,:] ]   \n",
    "Corr = np.corrcoef(x=xx.T )\n",
    "print(Corr[0,1])\n",
    "xx=np.c_[ BacerYr1_2[b,:],BacerYr1_A[b,:] ]   \n",
    "Corr = np.corrcoef(x=xx.T )\n",
    "print(Corr[0,1])\n",
    "xx=np.c_[ BacerYr1_3[b,:],BacerYr1_A[b,:] ]   \n",
    "Corr = np.corrcoef(x=xx.T )\n",
    "print(Corr[0,1])\n"
   ]
  },
  {
   "cell_type": "code",
   "execution_count": null,
   "id": "5f3a7500-5a74-4931-9a7b-7789d4fdf081",
   "metadata": {},
   "outputs": [],
   "source": [
    "bnames=['None','N \\nAtl','S \\n Atl' , 'NW \\n Pac', 'NE \\n Pac', 'SW \\n Pac','N \\n Indian','S \\nIndian']\n",
    "Bcolors = plt.cm.BuPu(np.linspace(0.2, 0.5, 3))\n",
    "Bcolors = plt.cm.OrRd(np.linspace(0.2, 0.5, 3))\n",
    "\n",
    "fig=plt.figure( figsize=(20,5))\n",
    "\n",
    "\n",
    "b=1\n",
    "xx=np.c_[ BacerYr1[b,:],BacerYr1_A[b,:] ]   \n",
    "Corr = np.corrcoef(x=xx.T )\n",
    "CorrA = f\"Ens#1/Ens. Mean: $r$={Corr[0,1]:0.2f}\"\n",
    "xx=np.c_[ BacerYr1_2[b,:],BacerYr1_A[b,:] ]   \n",
    "Corr = np.corrcoef(x=xx.T )\n",
    "CorrA = CorrA+f\"\\nEns#2/Ens. Mean: $r$={Corr[0,1]:0.2f}\"\n",
    "xx=np.c_[ BacerYr1_3[b,:],BacerYr1_A[b,:] ]   \n",
    "Corr = np.corrcoef(x=xx.T )\n",
    "CorrA = CorrA+f\"\\nEns#3/Ens. Mean: $r$={Corr[0,1]:0.2f}\"\n",
    "\n",
    "ax=fig.add_subplot(1,2,1)\n",
    "ax.plot(Yr3[:],BacerYr1_A[b,:],label='Ens. Mean',color='Orange',linewidth=4 )\n",
    "ax.plot(Yr3[:],BacerYr1[b,:],label='ensm #1',color=Bcolors[0] )\n",
    "ax.plot(Yr3[:],BacerYr1_2[b,:],label='ensm #2',color=Bcolors[1]  )\n",
    "ax.plot(Yr3[:],BacerYr1_3[b,:],label='ensm #3',color=Bcolors[2]  )\n",
    "ax.legend()\n",
    "ax.set_title(bnames[b])\n",
    "#ax.set_xlim(1980,2012)\n",
    "ax.text( .015, .90 , CorrA , fontsize=16 , transform=ax.transAxes, bbox=dict(facecolor='white'))\n",
    "ax.set_ylabel( \"ACE\" ,fontsize=14)\n",
    "\n",
    "\n",
    "b=4\n",
    "xx=np.c_[ BacerYr1[b,:],BacerYr1_A[b,:] ]   \n",
    "Corr = np.corrcoef(x=xx.T )\n",
    "CorrA = f\"Ens#1/Ens. Mean: $r$={Corr[0,1]:0.2f}\"\n",
    "xx=np.c_[ BacerYr1_2[b,:],BacerYr1_A[b,:] ]   \n",
    "Corr = np.corrcoef(x=xx.T )\n",
    "CorrA = CorrA+f\"\\nEns#2/Ens. Mean: $r$={Corr[0,1]:0.2f}\"\n",
    "xx=np.c_[ BacerYr1_3[b,:],BacerYr1_A[b,:] ]   \n",
    "Corr = np.corrcoef(x=xx.T )\n",
    "CorrA = CorrA+f\"\\nEns#3/Ens. Mean: $r$={Corr[0,1]:0.2f}\"\n",
    "\n",
    "ax=fig.add_subplot(1,2,2)\n",
    "ax.plot(Yr3[:],BacerYr1_A[b,:],label='Ens. Mean',color='Orange',linewidth=4 )\n",
    "ax.plot(Yr3[:],BacerYr1[b,:],label='ensm #1',color=Bcolors[0] )\n",
    "ax.plot(Yr3[:],BacerYr1_2[b,:],label='ensm #2',color=Bcolors[1]  )\n",
    "ax.plot(Yr3[:],BacerYr1_3[b,:],label='ensm #3',color=Bcolors[2]  )\n",
    "ax.legend()\n",
    "ax.set_title(bnames[b])\n",
    "#ax.set_xlim(1980,2012)\n",
    "ax.text( .015, .90 , CorrA , fontsize=16 , transform=ax.transAxes, bbox=dict(facecolor='white'))\n",
    "ax.set_ylabel( \"ACE\" ,fontsize=14)\n",
    "\n"
   ]
  },
  {
   "cell_type": "code",
   "execution_count": null,
   "id": "1606d2a2-caa2-462d-acd4-f5b134b9150c",
   "metadata": {},
   "outputs": [],
   "source": [
    "bnames=['None','N Atl','S Atl' , 'NW Pac', 'NE Pac', 'SW Pac','N Indian','S Indian']\n",
    "\n",
    "for b in np.arange(8):\n",
    "    CorrA=bnames[b]\n",
    "    xx=np.c_[ BacepdYr1[b,:],BacepdYrA[b,:] ]   \n",
    "    Corr = np.corrcoef(x=xx.T )\n",
    "    CorrA = CorrA+f\"\\nEns#1/Ens. Mean: $r$={Corr[0,1]:0.2f}\"\n",
    "    xx=np.c_[ BacepdYr2[b,:],BacepdYrA[b,:] ]   \n",
    "    Corr = np.corrcoef(x=xx.T )\n",
    "    CorrA = CorrA+f\"\\nEns#2/Ens. Mean: $r$={Corr[0,1]:0.2f}\"\n",
    "    xx=np.c_[ BacepdYr3[b,:],BacepdYrA[b,:] ]   \n",
    "    Corr = np.corrcoef(x=xx.T )\n",
    "    CorrA = CorrA+f\"\\nEns#3/Ens. Mean: $r$={Corr[0,1]:0.2f}\\n\"\n",
    "\n",
    "    print(CorrA)"
   ]
  },
  {
   "cell_type": "code",
   "execution_count": null,
   "id": "8be66174-49e9-448e-b672-44ddc912bb39",
   "metadata": {},
   "outputs": [],
   "source": [
    "bnames=['None','N Atl','S Atl' , 'NW Pac', 'NE Pac', 'SW Pac','N Indian','S Indian']\n",
    "\n",
    "for b in np.arange(8):\n",
    "    CorrA=bnames[b]\n",
    "    xx=np.c_[ BacerYr1[b,:],BacerYr1_A[b,:] ]   \n",
    "    Corr = np.corrcoef(x=xx.T )\n",
    "    CorrA = CorrA+f\"\\nEns#1/Ens. Mean: $r$={Corr[0,1]:0.2f}\"\n",
    "    xx=np.c_[ BacerYr1_2[b,:],BacerYr1_A[b,:] ]   \n",
    "    Corr = np.corrcoef(x=xx.T )\n",
    "    CorrA = CorrA+f\"\\nEns#2/Ens. Mean: $r$={Corr[0,1]:0.2f}\"\n",
    "    xx=np.c_[ BacerYr1_3[b,:],BacerYr1_A[b,:] ]   \n",
    "    Corr = np.corrcoef(x=xx.T )\n",
    "    CorrA = CorrA+f\"\\nEns#3/Ens. Mean: $r$={Corr[0,1]:0.2f}\\n\"\n",
    "\n",
    "    print(CorrA)"
   ]
  },
  {
   "cell_type": "code",
   "execution_count": null,
   "id": "c1c8cdfb-fda1-4ab0-a07e-719a91f54c07",
   "metadata": {},
   "outputs": [],
   "source": [
    "bnames=['None','N Atl','S Atl' , 'NW Pac', 'NE Pac', 'SW Pac','N Indian','S Indian']\n",
    "\n",
    "for b in np.arange(8):\n",
    "    CorrA=bnames[b]\n",
    "    xx=np.c_[ BacerYr1[b,:],BacerYr1_2[b,:] ]   \n",
    "    Corr = np.corrcoef(x=xx.T )\n",
    "    CorrA = CorrA+f\"\\nEns#1/Ens#2: $r$={Corr[0,1]:0.2f}\"\n",
    "    xx=np.c_[ BacerYr1_2[b,:],BacerYr1_3[b,:] ]   \n",
    "    Corr = np.corrcoef(x=xx.T )\n",
    "    CorrA = CorrA+f\"\\nEns#2/Ens#3: $r$={Corr[0,1]:0.2f}\"\n",
    "    xx=np.c_[ BacerYr1_3[b,:],BacerYr1[b,:] ]   \n",
    "    Corr = np.corrcoef(x=xx.T )\n",
    "    CorrA = CorrA+f\"\\nEns#1/Ens#3: $r$={Corr[0,1]:0.2f}\\n\"\n",
    "    \n",
    "    CorrA = CorrA+f\"signicant correlation is 0.37\\n\"\n",
    "\n",
    "    print(CorrA)"
   ]
  },
  {
   "cell_type": "code",
   "execution_count": null,
   "id": "e95d04d9-67e3-42c4-8200-fdcba82d3f8b",
   "metadata": {},
   "outputs": [],
   "source": [
    "lons = 0.5*( x[1:]+x[0:-1] )\n",
    "lats = 0.5*( y[1:]+y[0:-1] )\n",
    "plt.contourf(np.average(dnr1,axis=0),levels=31)\n",
    "#plt.xlim(90,130)\n",
    "#plt.ylim(50,60)\n",
    "plt.colorbar()"
   ]
  },
  {
   "cell_type": "code",
   "execution_count": null,
   "id": "f34fb864-638e-4249-9a8c-c26dce962f78",
   "metadata": {},
   "outputs": [],
   "source": [
    "poo=np.average( dnr1[:,50:61,90:131] , axis=(1,2) )\n",
    "plt.plot(poo)"
   ]
  },
  {
   "cell_type": "code",
   "execution_count": null,
   "id": "cf3ff9fb-b4a4-4f0a-919c-dcd766c84977",
   "metadata": {},
   "outputs": [],
   "source": [
    "##\n",
    "BacerYr1_A=(BacerYr1 + BacerYr1_2+BacerYr1_3 )/3.\n",
    "b=3\n",
    "plt.plot(BacerYr7[b,:])\n",
    "plt.plot(BacerYr6[b,:])\n"
   ]
  },
  {
   "cell_type": "code",
   "execution_count": null,
   "id": "6330e58b-c8a7-472e-8a5c-7473bf18504b",
   "metadata": {},
   "outputs": [],
   "source": [
    "##"
   ]
  },
  {
   "cell_type": "code",
   "execution_count": null,
   "id": "cb189d2f-3ec2-4b49-bde3-74cefe32f5cf",
   "metadata": {},
   "outputs": [],
   "source": [
    "poo=BacerYr1.mean(axis=1)\n",
    "print(poo.shape)\n",
    "plt.plot(poo)\n",
    "plt.plot(np.std(BacerYr1,axis=1))\n",
    "plt.plot(np.std(BacerYr1-BacerYr1_A,axis=1))"
   ]
  },
  {
   "cell_type": "code",
   "execution_count": null,
   "id": "0216363f-649f-4682-9703-8d6f4b8ef754",
   "metadata": {},
   "outputs": [],
   "source": [
    "poo=BacerYr1.mean(axis=1)\n",
    "print(poo.shape)\n",
    "plt.plot(  (np.std(BacerYr1-BacerYr1_A,axis=1)) / (np.std(BacerYr1,axis=1)+1) )"
   ]
  },
  {
   "cell_type": "code",
   "execution_count": null,
   "id": "210c6912-e792-4575-85fa-32dc1adf9692",
   "metadata": {},
   "outputs": [],
   "source": [
    "b=4\n",
    "\n",
    "plt.plot(BacerYr1[b,:])\n",
    "plt.plot(BacerYr2[b,:])\n",
    "plt.plot(BacerYr3[b,:])\n",
    "plt.plot(BacerYr4[b,:])\n",
    "plt.plot(BacerYr5[b,:])\n",
    "plt.plot(BacerYr6[b,:])\n",
    "plt.plot(BacerYr7[b,:])\n",
    "plt.xlim(10,15)"
   ]
  },
  {
   "cell_type": "code",
   "execution_count": null,
   "id": "af8c1c7d-5bf7-43d4-bd52-910a41516539",
   "metadata": {},
   "outputs": [],
   "source": [
    "bace1=trx.basinACE(wind=pd1.wind,basin=pd1.basin,power_wind=power_wind)\n",
    "bace1=bace1 / 34.\n",
    "bace2=trx.basinACE(wind=pd2.wind,basin=pd2.basin,power_wind=power_wind)\n",
    "bace2=bace2 / 34.\n",
    "bace3=trx.basinACE(wind=pd3.wind,basin=pd3.basin,power_wind=power_wind)\n",
    "bace3=bace3 / 34.\n",
    "Ibace=trx.basinACE(wind=ibx.wind,basin=ibx.basin)\n",
    "Ibace=Ibace / 44.\n",
    "bace_a = (bace1 + bace2 + bace3)/3.\n"
   ]
  },
  {
   "cell_type": "code",
   "execution_count": null,
   "id": "d951c7bf-3f10-48bd-973d-185ee72f4047",
   "metadata": {},
   "outputs": [],
   "source": [
    "bacer1=trx.basinACE(wind=rc1.wind,basin=rc1.basin,power_wind=power_wind)\n",
    "bacer1=bacer1 / 30.\n",
    "\n",
    "bacer2=trx.basinACE(wind=rc2.wind,basin=rc2.basin,power_wind=power_wind)\n",
    "bacer2=bacer2 / 30.\n",
    "\n",
    "bacer3=trx.basinACE(wind=rc3.wind,basin=rc3.basin,power_wind=power_wind)\n",
    "bacer3=bacer3 / 30.\n",
    "\n",
    "bacer4=trx.basinACE(wind=rc4.wind,basin=rc4.basin,power_wind=power_wind)\n",
    "bacer4=bacer4 / 30.\n",
    "\n",
    "bacer5=trx.basinACE(wind=rc5.wind,basin=rc5.basin,power_wind=power_wind)\n",
    "bacer5=bacer5 / 30.\n",
    "\n",
    "bacer6=trx.basinACE(wind=rc6.wind,basin=rc6.basin,power_wind=power_wind)\n",
    "bacer6=bacer6 / 30.\n",
    "\n",
    "bacer7=trx.basinACE(wind=rc7.wind,basin=rc7.basin,power_wind=power_wind)\n",
    "bacer7=bacer7 / 30.\n",
    "\n",
    "bacer1_2=trx.basinACE(wind=rc1_2.wind,basin=rc1_2.basin,power_wind=power_wind)\n",
    "bacer1_2=bacer1_2 / 30.\n",
    "\n",
    "bacer1_3=trx.basinACE(wind=rc1_3.wind,basin=rc1_3.basin,power_wind=power_wind)\n",
    "bacer1_3=bacer1_3 / 30.\n",
    "\n",
    "bacer1_a = (bacer1 + bacer1_2 + bacer1_3)/3.\n"
   ]
  },
  {
   "cell_type": "code",
   "execution_count": null,
   "id": "cadcd188-829e-4c65-80bf-e993cb55ce45",
   "metadata": {},
   "outputs": [],
   "source": [
    "# Get some pastel shades for the colors\n",
    "colors = plt.cm.BuPu(np.linspace(0.2, 0.5, 3))\n",
    "\n",
    "#boo=np.arange(8)\n",
    "boo=np.arange(8)\n",
    "bnames=['None','N \\nAtl','S \\n Atl' , 'NW \\n Pac', 'NE \\n Pac', 'SW \\n Pac','N \\n Indian','S \\nIndian']\n",
    "#bnames=['N \\nAtl','S \\n Atl' , 'NW \\n Pac', 'NE \\n Pac', 'SW \\n Pac','N \\n Indian','S \\nIndian']\n",
    "#plt.bar( boo,np.sum(bace,axis=1),tick_label=bnames,label=bnames)\n",
    "plt.bar( boo-.4,bace1,width=0.2,color=colors[0],label='CAM #1')\n",
    "plt.bar( boo-.2,bace2,width=0.2,color=colors[1],label='CAM #2')\n",
    "plt.bar( boo   ,bace3,width=0.2,color=colors[2] , tick_label=bnames,label='CAM #3')\n",
    "\n",
    "\n",
    "#plt.bar( boo+.2,Ibace,tick_label=bnames,label=bnames,width=0.2,color='orange')\n",
    "plt.bar( boo+.2,Ibace,width=0.2,color='red',label='IBTrACS')\n",
    "plt.legend()\n",
    "plt.xlim(.4,8)\n",
    "plt.ylabel(\"1980-2012 Accumulated Cyclone Energy\")\n"
   ]
  },
  {
   "cell_type": "code",
   "execution_count": null,
   "id": "93605be3-f345-4243-941b-020dc550b789",
   "metadata": {},
   "outputs": [],
   "source": [
    "\n",
    "fig=plt.figure( figsize=(9,7) )\n",
    "# Get some pastel shades for the colors\n",
    "colors = plt.cm.BuPu(np.linspace(0.2, 0.5, 3))\n",
    "Rcolors = plt.cm.OrRd(np.linspace(0.2, 0.5, 7))\n",
    "\n",
    "#boo=np.arange(8)\n",
    "boo=1.2*np.arange(8)\n",
    "bnames=['None','N \\nAtl','S \\n Atl' , 'NW \\n Pac', 'NE \\n Pac', 'SW \\n Pac','N \\n Indian','S \\nIndian']\n",
    "#bnames=['N \\nAtl','S \\n Atl' , 'NW \\n Pac', 'NE \\n Pac', 'SW \\n Pac','N \\n Indian','S \\nIndian']\n",
    "#plt.bar( boo,np.sum(bace,axis=1),tick_label=bnames,label=bnames)\n",
    "#plt.bar( boo-.4,bace1,width=0.1,color=colors[0],label='CAM #1')\n",
    "#plt.bar( boo-.3,bace2,width=0.1,color=colors[1],label='CAM #2')\n",
    "#plt.bar( boo-.2,bace3,width=0.1,color=colors[2],label='CAM #3')\n",
    "bar1=plt.bar( boo-.2,bace_a,width=0.12,color=colors[0],label='PD mean')\n",
    "\n",
    "bar2=plt.bar( boo-.1,bacer1_a,width=0.1,color=Rcolors[0],label='SST1 mean')\n",
    "bar3=plt.bar( boo-.0,bacer2,width=0.1,color=Rcolors[1],label='SST2')\n",
    "bar4=plt.bar( boo+.1,bacer3,width=0.1,color=Rcolors[2] , tick_label=bnames,label='SST3')\n",
    "bar5=plt.bar( boo+.2,bacer4,width=0.1,color=Rcolors[3] , label='SST4')\n",
    "bar6=plt.bar( boo+.3,bacer5,width=0.1,color=Rcolors[4] , label='SST5')\n",
    "bar7=plt.bar( boo+.4,bacer6,width=0.1,color=Rcolors[5] , label='SST6')\n",
    "bar8=plt.bar( boo+.5,bacer7,width=0.1,color=Rcolors[6] , label='SST7')\n",
    "\n",
    "sca2=plt.scatter( boo-.1,bacer1 , color=Rcolors[6] , marker='+', label='SST1 ens')\n",
    "plt.scatter( boo-.1,bacer1_2 , color=Rcolors[6] , marker='+')\n",
    "plt.scatter( boo-.1,bacer1_3 , color=Rcolors[6] , marker='+')\n",
    "\n",
    "sca1=plt.scatter( boo-.2,bace1 , color=colors[2] , marker='+', label='PD ens')\n",
    "plt.scatter( boo-.2,bace2 , color=colors[2] , marker='+')\n",
    "plt.scatter( boo-.2,bace3 , color=colors[2] , marker='+')\n",
    "\n",
    "plt.legend(fontsize=8, handles=[bar1,sca1,bar2,sca2,bar3,bar4,bar5,bar6,bar7,bar8])\n",
    "plt.xlim(.4,9.2)\n",
    "plt.ylim(0,370.)\n",
    "plt.ylabel(\"2070-2100 Accumulated Cyclone Energy\")\n"
   ]
  },
  {
   "cell_type": "code",
   "execution_count": null,
   "id": "3228871d-f06a-429c-8057-37698257461f",
   "metadata": {},
   "outputs": [],
   "source": [
    "BaceYr1,Yr1 =trx.basinACEyear(wind=pd1.wind,basin=pd1.basin,year=pd1.year,power_wind=power_wind)\n",
    "BaceYr2,Yr2 =trx.basinACEyear(wind=pd2.wind,basin=pd2.basin,year=pd2.year,power_wind=power_wind)\n",
    "BaceYr3,Yr3 =trx.basinACEyear(wind=pd3.wind,basin=pd3.basin,year=pd3.year,power_wind=power_wind)\n",
    "IBaceYr,IYr =trx.basinACEyear(wind=ibx.wind,basin=ibx.basin,year=ibx.year)\n",
    "#I2BaceYr,I2Yr =trx.basinACEyear(wind=ibx2.wind,basin=ibx2.basin,year=ibx2.year)"
   ]
  },
  {
   "cell_type": "code",
   "execution_count": null,
   "id": "533bad62-5871-45bc-a98f-3c483d3f6494",
   "metadata": {},
   "outputs": [],
   "source": [
    "plt.plot( ibx.month.flatten() )"
   ]
  },
  {
   "cell_type": "code",
   "execution_count": null,
   "id": "8b073b6a-5b09-49e8-94ad-a349076c8fb1",
   "metadata": {},
   "outputs": [],
   "source": [
    "print(IYr[0:33])\n",
    "print(Yr1[1:34])\n",
    "\n"
   ]
  },
  {
   "cell_type": "code",
   "execution_count": null,
   "id": "769e3c9c-0e83-4c46-a219-a65120559255",
   "metadata": {},
   "outputs": [],
   "source": [
    "BaceYrA = ( BaceYr1H + BaceYr2H + BaceYr3H )/3.\n",
    "for b in np.arange(8):\n",
    "    print(bnames[b])\n",
    "    \"\"\"\n",
    "    plt.plot( Yr1, BaceYr1[b,:],color=colors[0] )\n",
    "    plt.plot( Yr2, BaceYr2[b,:] ,color=colors[1] )\n",
    "    plt.plot( Yr3, BaceYr3[b,:] ,color=colors[2] )\n",
    "    plt.plot( IYr, IBaceYr[b,:] ,color='red')\n",
    "    #plt.plot( I2Yr, I2BaceYr[b,:] ,color='red')\n",
    "    plt.plot( Yr3, BaceYrA[b,:] ,color='green' )\n",
    "    \"\"\"\n",
    "\n",
    "    Boo = BaceYrA\n",
    "    xx=np.c_[ IBaceYrH[b,0:33],Boo[b,1:34] ]   \n",
    "    #print(np.shape(xx.T))\n",
    "    Corr = np.corrcoef(x=xx.T )\n",
    "    print(Corr[0,1])"
   ]
  },
  {
   "cell_type": "code",
   "execution_count": null,
   "id": "ef90c257-44f6-4fa9-879d-dee130fe5818",
   "metadata": {},
   "outputs": [],
   "source": [
    "#### LET'S SEE WHERE WE ARE ....\n",
    "\n"
   ]
  },
  {
   "cell_type": "code",
   "execution_count": null,
   "id": "7eeb1580-72bb-4094-ac78-5843c8809405",
   "metadata": {},
   "outputs": [],
   "source": [
    "#### LET'S SEE WHERE WE ARE ....\n",
    "\n"
   ]
  },
  {
   "cell_type": "code",
   "execution_count": null,
   "id": "2be6ff14-61c3-47be-b840-7827f83c08e7",
   "metadata": {},
   "outputs": [],
   "source": [
    "b=4\n",
    "#plt.scatter(IBaceYr[b,0:33],BaceYrA[b,1:34] )\n",
    "plt.plot(IYr[0:33],IBaceYr[b,0:33],label='IBTrACS',color='red')\n",
    "plt.plot(IYr[0:33],BaceYrA[b,1:34],label='CAM Ens. Mean',color=colors[2])\n",
    "plt.ylabel(\"Accumulated Cyclone Energy\")\n",
    "plt.legend()"
   ]
  },
  {
   "cell_type": "markdown",
   "id": "fb427f3e-3a7a-44e3-af4a-8a31a6d0187c",
   "metadata": {},
   "source": [
    "# plt.plot( np.sum(BaceYr1,axis=1)/33. )\n",
    "plt.plot( np.sum(IBaceYr,axis=1)/43. )"
   ]
  },
  {
   "cell_type": "code",
   "execution_count": null,
   "id": "30b5856c-af51-4c09-beea-36f2d3de53e8",
   "metadata": {},
   "outputs": [],
   "source": [
    "IBaceYr.shape\n"
   ]
  },
  {
   "cell_type": "code",
   "execution_count": null,
   "id": "97027389-f551-4900-8fb8-f32b9fd95bd0",
   "metadata": {},
   "outputs": [],
   "source": [
    "fig=plt.figure(figsize=(18,8))\n",
    "colors = ['black','red','yellow','cyan','gray','brown','blue','green']\n",
    "for b in np.arange(8):\n",
    "    fig.add_subplot(2,4,b+1)\n",
    "    plt.scatter( BaceYrA[b,1:34], IBaceYr[b,0:33], label=bnames[b] ,color=colors[b])\n",
    "    plt.xlim(0,500)\n",
    "    plt.ylim(0,500)\n",
    "    plt.legend()"
   ]
  },
  {
   "cell_type": "code",
   "execution_count": null,
   "id": "6e53d529-2b81-485f-bea9-2da03f6ccfd3",
   "metadata": {},
   "outputs": [],
   "source": [
    "category='TS+'\n",
    "category='Cat1+'\n",
    "NumYr1,Yr1 =trx.basinNUMyearHemi(wind=pd1.wind,basin=pd1.basin,year=pd1.year,month=pd1.month,power_wind=power_wind,category=category )\n",
    "NumYr2,Yr2 =trx.basinNUMyearHemi(wind=pd2.wind,basin=pd2.basin,year=pd2.year,month=pd2.month,power_wind=power_wind,category=category )\n",
    "NumYr3,Yr3 =trx.basinNUMyearHemi(wind=pd3.wind,basin=pd3.basin,year=pd3.year,month=pd3.month,power_wind=power_wind,category=category )\n",
    "INumYr,IYr =trx.basinNUMyearHemi(wind=ibx.wind,basin=ibx.basin,year=ibx.year,month=ibx.month,category=category )\n"
   ]
  },
  {
   "cell_type": "code",
   "execution_count": null,
   "id": "fd4b5566-b6ef-4b84-85b1-7c2baa00586f",
   "metadata": {},
   "outputs": [],
   "source": [
    "print(Yr1)\n",
    "NumYrA = ( NumYr1 + NumYr2 + NumYr3 )/3.\n"
   ]
  },
  {
   "cell_type": "code",
   "execution_count": null,
   "id": "e5244017-c831-445a-aedb-303a0e01095c",
   "metadata": {},
   "outputs": [],
   "source": [
    "Bcolors = plt.cm.BuPu(np.linspace(0.2, 0.5, 3))\n",
    "\n",
    "fig=plt.figure( figsize=(20,10))\n",
    "\n",
    "b=1\n",
    "xx=np.c_[ INumYr[b,0:33],NumYrA[b,1:34] ]   \n",
    "Corr = np.corrcoef(x=xx.T )\n",
    "CorrA = f\"IBTrACS/Ens. Mean: $r$={Corr[0,1]:0.2f}\"\n",
    "\n",
    "\n",
    "ax=fig.add_subplot(2,2,1)\n",
    "ax.plot(IYr,INumYr[b,0:],label='IBTrACS' ,color='black')\n",
    "ax.plot(Yr1[:],NumYrA[b,:],label='Ens. Mean',color='Blue',linewidth=2 )\n",
    "ax.plot(Yr1[:],NumYr1[b,:],label='ensm #1',color=Bcolors[0] )\n",
    "ax.plot(Yr2[:],NumYr2[b,:],label='ensm #2',color=Bcolors[1]  )\n",
    "ax.plot(Yr3[:],NumYr3[b,:],label='ensm #3',color=Bcolors[2]  )\n",
    "ax.legend()\n",
    "ax.set_title(bnames[b])\n",
    "ax.set_xlim(1980,2012)\n",
    "\n",
    "ax.text( .55, .04 , CorrA , fontsize=16 , transform=ax.transAxes, bbox=dict(facecolor='white'))\n",
    "ax.set_ylabel( \"Cat 1+ Number\" ,fontsize=14)\n",
    "\n",
    "\n",
    "b=4\n",
    "xx=np.c_[ INumYr[b,0:33],NumYrA[b,1:34] ]   \n",
    "Corr = np.corrcoef(x=xx.T )\n",
    "CorrA = f\"IBTrACS/Ens. Mean: $r$={Corr[0,1]:0.2f}\"\n",
    "\n",
    "ax=fig.add_subplot(2,2,2)\n",
    "ax.plot(IYr,INumYr[b,0:],label='IBTrACS' ,color='black')\n",
    "ax.plot(Yr1[:],NumYrA[b,:],label='Ens. Mean',color='Blue',linewidth=2 )\n",
    "ax.plot(Yr1[:],NumYr1[b,:],label='ensm #1',color=Bcolors[0] )\n",
    "ax.plot(Yr2[:],NumYr2[b,:],label='ensm #2',color=Bcolors[1]  )\n",
    "ax.plot(Yr3[:],NumYr3[b,:],label='ensm #3',color=Bcolors[2]  )\n",
    "ax.legend()\n",
    "ax.set_title(bnames[b])\n",
    "ax.set_xlim(1980,2012)\n",
    "ax.text( .55, .04 , CorrA , fontsize=16 , transform=ax.transAxes, bbox=dict(facecolor='white'))\n",
    "ax.set_ylabel( \"Cat 1+ Number\" ,fontsize=14)\n",
    "\n",
    "\n",
    "b=1\n",
    "xx=np.c_[ IBaceYr[b,0:33],BaceYrA[b,1:34] ]   \n",
    "Corr = np.corrcoef(x=xx.T )\n",
    "CorrA = f\"IBTrACS/Ens. Mean: $r$={Corr[0,1]:0.2f}\"\n",
    "\n",
    "ax=fig.add_subplot(2,2,3)\n",
    "ax.plot(IYr,IBaceYr[b,0:],label='IBTrACS' ,color='black')\n",
    "ax.plot(Yr1[:],BaceYrA[b,:],label='Ens. Mean',color='Blue',linewidth=2 )\n",
    "ax.plot(Yr1[:],BaceYr1[b,:],label='ensm #1',color=Bcolors[0] )\n",
    "ax.plot(Yr2[:],BaceYr2[b,:],label='ensm #2',color=Bcolors[1]  )\n",
    "ax.plot(Yr3[:],BaceYr3[b,:],label='ensm #3',color=Bcolors[2]  )\n",
    "ax.legend()\n",
    "#ax.set_title(bnames[b])\n",
    "ax.set_xlim(1980,2012)\n",
    "ax.text( .55, .04 , CorrA , fontsize=16 , transform=ax.transAxes, bbox=dict(facecolor='white'))\n",
    "ax.set_ylabel( \"ACE\" ,fontsize=14)\n",
    "\n",
    "b=4\n",
    "xx=np.c_[ IBaceYr[b,0:33],BaceYrA[b,1:34] ]   \n",
    "Corr = np.corrcoef(x=xx.T )\n",
    "CorrA = f\"IBTrACS/Ens. Mean: $r$={Corr[0,1]:0.2f}\"\n",
    "ax=fig.add_subplot(2,2,4)\n",
    "ax.plot(IYr,IBaceYr[b,0:],label='IBTrACS' ,color='black')\n",
    "ax.plot(Yr1[:],BaceYrA[b,:],label='Ens. Mean',color='Blue',linewidth=2 )\n",
    "ax.plot(Yr1[:],BaceYr1[b,:],label='ensm #1',color=Bcolors[0] )\n",
    "ax.plot(Yr2[:],BaceYr2[b,:],label='ensm #2',color=Bcolors[1]  )\n",
    "ax.plot(Yr3[:],BaceYr3[b,:],label='ensm #3',color=Bcolors[2]  )\n",
    "ax.legend()\n",
    "#ax.set_title(bnames[b])\n",
    "ax.set_xlim(1980,2012)\n",
    "ax.text( .55, .04 , CorrA , fontsize=16 , transform=ax.transAxes, bbox=dict(facecolor='white'))\n",
    "ax.set_ylabel( \"ACE\" ,fontsize=14)\n"
   ]
  },
  {
   "cell_type": "code",
   "execution_count": null,
   "id": "51bdeccc-d01c-4408-9ee8-ad493045b0e5",
   "metadata": {},
   "outputs": [],
   "source": [
    "for b in np.arange(8):\n",
    "    print(bnames[b])\n",
    "    xx=np.c_[ INumYr[b,0:33],NumYrA[b,1:34] ]   \n",
    "    #print(np.shape(xx.T))\n",
    "    Corr = np.corrcoef(x=xx.T )\n",
    "    print(Corr[0,1])\n",
    "    "
   ]
  },
  {
   "cell_type": "code",
   "execution_count": null,
   "id": "d3b8f186-7196-49da-aa12-dd46104a166b",
   "metadata": {},
   "outputs": [],
   "source": [
    "fig=plt.figure(figsize=(18,8))\n",
    "colors = ['black','red','yellow','cyan','gray','brown','blue','green']\n",
    "for b in np.arange(8):\n",
    "    fig.add_subplot(2,4,b+1)\n",
    "    plt.scatter( NumYrA[b,1:34], INumYr[b,0:33], label=bnames[b] ,color=colors[b])\n",
    "    plt.xlim(0,40)\n",
    "    plt.ylim(0,40)\n",
    "    plt.legend()"
   ]
  },
  {
   "cell_type": "code",
   "execution_count": null,
   "id": "bd00b01f-1d22-4e4b-b6ef-0818625151df",
   "metadata": {},
   "outputs": [],
   "source": []
  },
  {
   "cell_type": "code",
   "execution_count": null,
   "id": "bfdbe483-91ff-4b9b-910d-a8568b1aaea2",
   "metadata": {},
   "outputs": [],
   "source": []
  }
 ],
 "metadata": {
  "kernelspec": {
   "display_name": "NPL 2022b",
   "language": "python",
   "name": "npl-2022b"
  },
  "language_info": {
   "codemirror_mode": {
    "name": "ipython",
    "version": 3
   },
   "file_extension": ".py",
   "mimetype": "text/x-python",
   "name": "python",
   "nbconvert_exporter": "python",
   "pygments_lexer": "ipython3",
   "version": "3.8.13"
  }
 },
 "nbformat": 4,
 "nbformat_minor": 5
}
