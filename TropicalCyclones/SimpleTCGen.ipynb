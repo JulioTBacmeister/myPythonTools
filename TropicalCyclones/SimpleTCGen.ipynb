{
 "cells": [
  {
   "cell_type": "code",
   "execution_count": null,
   "id": "c70883b3-c601-4ac8-ab8a-52787f0f8b8e",
   "metadata": {},
   "outputs": [],
   "source": [
    "import xarray as xr\n",
    "import numpy as np\n",
    "import matplotlib.pyplot as plt\n",
    "import pandas as pd\n",
    "\n",
    "import cartopy\n",
    "import cartopy.crs as ccrs\n",
    "import cartopy.feature as cfeature\n",
    "\n",
    "\n",
    "import trax_util as trx\n",
    "import ibtracs as IBT\n",
    "\n",
    "import importlib\n",
    "\n",
    "importlib.reload( trx )\n",
    "importlib.reload( IBT )\n",
    "\n"
   ]
  },
  {
   "cell_type": "code",
   "execution_count": null,
   "id": "38316fab-b82f-44e1-b917-8a66a745b170",
   "metadata": {},
   "outputs": [],
   "source": [
    "fpd1=trx.pdfname(ens=1)\n",
    "frc1=trx.rcp85fname(ens=2)"
   ]
  },
  {
   "cell_type": "code",
   "execution_count": null,
   "id": "e7a7ef46-8ec6-4254-a8b9-e6bcfc26c626",
   "metadata": {},
   "outputs": [],
   "source": [
    "\n",
    "print(fpd1)\n",
    "poo=trx.readtrx(fpd1)\n",
    "print(poo.keys())\n",
    "print(np.shape(poo['year']))\n",
    "print(np.shape(poo.year))\n",
    "\n",
    "print(poo.year[0,0:100])"
   ]
  },
  {
   "cell_type": "code",
   "execution_count": null,
   "id": "4325d507-aabf-4f25-b6b3-552665b7e2d9",
   "metadata": {},
   "outputs": [],
   "source": [
    "dpd1=xr.open_dataset( fpd1 )\n",
    "drc1=xr.open_dataset( frc1 )"
   ]
  },
  {
   "cell_type": "code",
   "execution_count": null,
   "id": "cd18f8aa-c824-412d-8b8a-2fded40c20ae",
   "metadata": {},
   "outputs": [],
   "source": [
    "print(list(dpd1.variables))\n",
    "print(dpd1.date[0,0:100])"
   ]
  },
  {
   "cell_type": "code",
   "execution_count": null,
   "id": "f14f2666-84a1-4535-88af-32fe1125cf45",
   "metadata": {},
   "outputs": [],
   "source": [
    "date = dpd1['date'].values.astype(int)\n",
    "datesec = dpd1['datesec'].values.astype(int)\n",
    "\n",
    "print(date[0,0])"
   ]
  },
  {
   "cell_type": "code",
   "execution_count": null,
   "id": "7ef2b4e8-a801-4bec-988d-11bf89730ddc",
   "metadata": {},
   "outputs": [],
   "source": [
    "year = date/10000.\n",
    "year = year.astype(int)\n",
    "month = (date-10000*year)/100.\n",
    "month = month.astype(int)\n",
    "day = (date - 10000*year-100*month) \n",
    "day = day.astype(int)\n",
    "hour = datesec/3600\n",
    "hour=hour.astype(int)\n",
    "print(date[400,0] , year[400,0], month[400,0], day[400,0] )\n",
    "print(hour[400,0])"
   ]
  },
  {
   "cell_type": "code",
   "execution_count": null,
   "id": "51f12c5d-cc7f-4870-bcbf-ea7a1f999b26",
   "metadata": {},
   "outputs": [],
   "source": [
    "print( np.shape(year))\n",
    "oopd=np.where( (year[:,0] >= 1983) & (year[:,0] < 2012) )\n",
    "yugo = year[ oopd[0] , :]\n",
    "plt.plot(yugo[:,0])\n",
    "#plt.ylim(1980,2020)"
   ]
  },
  {
   "cell_type": "code",
   "execution_count": null,
   "id": "2ad7d654-83f7-42bc-9a0b-aed8786d169b",
   "metadata": {},
   "outputs": [],
   "source": [
    "#projPC =ccrs.PlateCarree(central_longitude=-180.)\n",
    "#projPC = ccrs.InterruptedGoodeHomolosine()\n",
    "projPC = ccrs.Mollweide(central_longitude=180.)\n",
    "data_crs = ccrs.PlateCarree()\n",
    "\n",
    "lon=dpd1['lon'].values[ oopd[0], : ]\n",
    "lat=dpd1['lat'].values[ oopd[0], : ]\n",
    "basin=dpd1['basin'].values[ oopd[0], : ]\n",
    "\n",
    "\n",
    "fig = plt.figure(figsize=(12, 9))\n",
    "levs=[29,26,20,10]\n",
    "    \n",
    "ax1 = fig.add_subplot(2, 1, 1 , projection=projPC)\n",
    "#ax1 = plt.axes(projection=projPC)\n",
    "ax1.set_global()\n",
    "ax1.coastlines(resolution='110m')\n",
    "po=ax1.scatter(lon[:,0],lat[:,0],transform=data_crs,c=basin[:,0],vmin=-1,vmax=6,cmap='Set2')\n",
    "\n",
    "plt.colorbar(po,ax=ax1)\n",
    "\n",
    "\n",
    "lon=drc1['lon'].values\n",
    "lat=drc1['lat'].values\n",
    "basin=drc1['basin'].values\n",
    "\n",
    "ax1 = fig.add_subplot(2, 1, 2 , projection=projPC)\n",
    "#ax1 = plt.axes(projection=projPC)\n",
    "ax1.set_global()\n",
    "ax1.coastlines(resolution='110m')\n",
    "po=ax1.scatter(lon[:,0],lat[:,0],transform=data_crs,c=basin[:,0],vmin=-1,vmax=6,cmap='Set2')\n",
    "\n",
    "\n",
    "plt.colorbar(po,ax=ax1)\n",
    "#ax1.scatter(lon[0,:],lat[0,:],transform=data_crs,marker='+')\n",
    "#ax1.set_extent([1, 359, -70, 70], crs=projPC)"
   ]
  },
  {
   "cell_type": "code",
   "execution_count": null,
   "id": "02e5825a-e9ed-4344-a33a-7b4373d61e49",
   "metadata": {},
   "outputs": [],
   "source": [
    "bnames=['None','N Atl','S Atl' , 'NW Pac', 'NE Pac', 'SW Pac','N Indian','S Indian']"
   ]
  },
  {
   "cell_type": "code",
   "execution_count": null,
   "id": "3e1f3eec-2186-4403-86b8-e9e77ddc635a",
   "metadata": {},
   "outputs": [],
   "source": [
    "rc1 = trx.readtrx( trx.rcp85fname(ens=1,sst='sst1') )\n",
    "rc2 = trx.readtrx( trx.rcp85fname(ens=1,sst='sst2') )\n",
    "rc3 = trx.readtrx( trx.rcp85fname(ens=1,sst='sst3') )\n",
    "rc4 = trx.readtrx( trx.rcp85fname(ens=1,sst='sst4') )\n",
    "rc5 = trx.readtrx( trx.rcp85fname(ens=1,sst='sst5') )\n",
    "rc6 = trx.readtrx( trx.rcp85fname(ens=1,sst='sst6') )\n",
    "rc7 = trx.readtrx( trx.rcp85fname(ens=1,sst='sst7') )\n",
    "\n",
    "pd1 = trx.readtrx( trx.pdfname(ens=1) )\n",
    "pd2 = trx.readtrx( trx.pdfname(ens=2) )\n",
    "pd3 = trx.readtrx( trx.pdfname(ens=3) )\n",
    "\n",
    "ibx = IBT.readtrx()\n"
   ]
  },
  {
   "cell_type": "code",
   "execution_count": null,
   "id": "0adc53a1-46d2-4245-81bd-1a150008654e",
   "metadata": {},
   "outputs": [],
   "source": [
    "\n",
    "fig = plt.figure(figsize=(20, 12))\n",
    "levs=[29,26,20,10]\n",
    "#projPC = ccrs.Mollweide(central_longitude=180.)\n",
    "projPC = ccrs.Robinson(central_longitude=180.)\n",
    "data_crs = ccrs.PlateCarree()\n",
    "\n",
    "ax1 = fig.add_subplot(3, 3, 1 , projection=projPC)\n",
    "ax1.set_global()\n",
    "ax1.coastlines(resolution='110m')\n",
    "po=ax1.scatter(rc1.lon[:,0],rc1.lat[:,0],transform=data_crs,c=rc1.basin[:,0],vmin=-1,vmax=6,cmap='Set2')\n",
    "\n",
    "ax1 = fig.add_subplot(3, 3, 2 , projection=projPC)\n",
    "ax1.set_global()\n",
    "ax1.coastlines(resolution='110m')\n",
    "po=ax1.scatter(rc2.lon[:,0],rc2.lat[:,0],transform=data_crs,c=rc2.basin[:,0],vmin=-1,vmax=6,cmap='Set2')\n",
    "\n",
    "ax1 = fig.add_subplot(3, 3, 3 , projection=projPC)\n",
    "ax1.set_global()\n",
    "ax1.coastlines(resolution='110m')\n",
    "po=ax1.scatter(rc3.lon[:,0],rc3.lat[:,0],transform=data_crs,c=rc3.basin[:,0],vmin=-1,vmax=6,cmap='Set2')\n",
    "\n",
    "ax1 = fig.add_subplot(3, 3, 4 , projection=projPC)\n",
    "ax1.set_global()\n",
    "ax1.coastlines(resolution='110m')\n",
    "po=ax1.scatter(rc4.lon[:,0],rc4.lat[:,0],transform=data_crs,c=rc4.basin[:,0],vmin=-1,vmax=6,cmap='Set2')\n",
    "\n",
    "\n",
    "ax1 = fig.add_subplot(3, 3, 5 , projection=projPC)\n",
    "ax1.set_global()\n",
    "ax1.coastlines(resolution='110m')\n",
    "po=ax1.scatter(rc5.lon[:,0],rc5.lat[:,0],transform=data_crs,c=rc5.basin[:,0],vmin=-1,vmax=6,cmap='Set2')\n",
    "\n",
    "\n",
    "ax1 = fig.add_subplot(3, 3, 6 , projection=projPC)\n",
    "ax1.set_global()\n",
    "ax1.coastlines(resolution='110m')\n",
    "po=ax1.scatter(rc6.lon[:,0],rc6.lat[:,0],transform=data_crs,c=rc6.basin[:,0],vmin=-1,vmax=6,cmap='Set2')\n",
    "\n",
    "ax1 = fig.add_subplot(3, 3, 7 , projection=projPC)\n",
    "ax1.set_global()\n",
    "ax1.coastlines(resolution='110m')\n",
    "po=ax1.scatter(rc7.lon[:,0],rc7.lat[:,0],transform=data_crs,c=rc7.basin[:,0],vmin=-1,vmax=6,cmap='Set2')\n",
    "plt.colorbar(po,ax=ax1)\n",
    "\n",
    "ax1 = fig.add_subplot(3, 3, 8 , projection=projPC)\n",
    "ax1.set_global()\n",
    "ax1.coastlines(resolution='110m')\n",
    "po=ax1.scatter(ibx.lon[:,0],ibx.lat[:,0],transform=data_crs,c=ibx.basin[:,0],vmin=-1,vmax=6,cmap='Set2')\n",
    "plt.colorbar(po,ax=ax1)\n"
   ]
  },
  {
   "cell_type": "code",
   "execution_count": null,
   "id": "c00ce72c-8c2d-4e53-be92-f9cb6568c692",
   "metadata": {},
   "outputs": [],
   "source": [
    "\n",
    "fig = plt.figure(figsize=(20, 12))\n",
    "levs=[29,26,20,10]\n",
    "#projPC = ccrs.Mollweide(central_longitude=180.)\n",
    "projPC = ccrs.Robinson(central_longitude=180.)\n",
    "data_crs = ccrs.PlateCarree()\n",
    "\n",
    "ax1 = fig.add_subplot(2, 2, 1 , projection=projPC)\n",
    "ax1.set_global()\n",
    "ax1.coastlines(resolution='110m')\n",
    "po=ax1.scatter(pd1.lon[:,0],pd1.lat[:,0],transform=data_crs,c=pd1.basin[:,0],vmin=-1,vmax=6,cmap='Set2')\n",
    "\n",
    "ax1 = fig.add_subplot(2, 2, 2 , projection=projPC)\n",
    "ax1.set_global()\n",
    "ax1.coastlines(resolution='110m')\n",
    "po=ax1.scatter(pd2.lon[:,0],pd2.lat[:,0],transform=data_crs,c=pd2.basin[:,0],vmin=-1,vmax=6,cmap='Set2')\n",
    "\n",
    "ax1 = fig.add_subplot(2, 2, 3 , projection=projPC)\n",
    "ax1.set_global()\n",
    "ax1.coastlines(resolution='110m')\n",
    "po=ax1.scatter(pd3.lon[:,0],pd3.lat[:,0],transform=data_crs,c=pd3.basin[:,0],vmin=-1,vmax=6,cmap='Set2')\n",
    "\n",
    "\n",
    "ax1 = fig.add_subplot(2, 2, 4 , projection=projPC)\n",
    "ax1.set_global()\n",
    "ax1.coastlines(resolution='110m')\n",
    "po=ax1.scatter(ibx.lon[:,0],ibx.lat[:,0],transform=data_crs,c=ibx.basin[:,0],vmin=-1,vmax=6,cmap='Set2')\n"
   ]
  },
  {
   "cell_type": "code",
   "execution_count": null,
   "id": "53bbeaa8-eeef-438d-bd29-4fb8fc443406",
   "metadata": {},
   "outputs": [],
   "source": [
    "plt.plot( basin[:,:].flatten(),'o')"
   ]
  },
  {
   "cell_type": "code",
   "execution_count": null,
   "id": "e70ebcdc-cfea-4bb1-a470-cfcd88f07a4b",
   "metadata": {},
   "outputs": [],
   "source": []
  }
 ],
 "metadata": {
  "kernelspec": {
   "display_name": "NPL 2022b",
   "language": "python",
   "name": "npl-2022b"
  },
  "language_info": {
   "codemirror_mode": {
    "name": "ipython",
    "version": 3
   },
   "file_extension": ".py",
   "mimetype": "text/x-python",
   "name": "python",
   "nbconvert_exporter": "python",
   "pygments_lexer": "ipython3",
   "version": "3.8.13"
  }
 },
 "nbformat": 4,
 "nbformat_minor": 5
}
