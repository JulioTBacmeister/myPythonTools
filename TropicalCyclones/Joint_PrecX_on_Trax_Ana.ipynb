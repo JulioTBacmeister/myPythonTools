{
 "cells": [
  {
   "cell_type": "code",
   "execution_count": null,
   "id": "78beeefa-42e2-44d7-81a1-3766716dc838",
   "metadata": {},
   "outputs": [],
   "source": [
    "import sys\n",
    "# import modules in other directories\n",
    "sys.path.append('../Utils/')\n",
    "\n",
    "import xarray as xr\n",
    "import numpy as np\n",
    "import matplotlib.pyplot as plt\n",
    "import pandas as pd\n",
    "\n",
    "import cartopy\n",
    "import cartopy.crs as ccrs\n",
    "import cartopy.feature as cfeature\n",
    "\n",
    "import trax_util as trx\n",
    "import ibtracs as IBT\n",
    "import TRMM_util as trmm\n",
    "import Precip_util as prc\n",
    "import PlotUtil as Pu\n",
    "\n",
    "import importlib\n",
    "\n",
    "import dask\n",
    "\n",
    "import time as TimeUtils\n",
    "\n",
    "importlib.reload ( Pu )\n",
    "importlib.reload ( prc )\n",
    "importlib.reload ( trmm )\n",
    "importlib.reload ( IBT )\n"
   ]
  },
  {
   "cell_type": "code",
   "execution_count": null,
   "id": "37a8d5fc-d6f8-47fc-8e6c-3688a2713299",
   "metadata": {},
   "outputs": [],
   "source": [
    "trk=IBT.readtrx(Add_Precip=True)\n",
    "ctrk=trx.readtrx(trx.pdfname(ens=1))\n",
    "SvF='/glade/work/juliob/NumPySaves/PrecTrax/f.e13.FAMIPC5.ne120_ne120.1979_2012.001.-prectrax-1979-2012.npz'\n",
    "SvD=np.load( SvF )\n",
    "ctrk['prectrk']=SvD['prectrk']"
   ]
  },
  {
   "cell_type": "code",
   "execution_count": null,
   "id": "f24f47f3-aa6e-480a-8336-46e60c052dd6",
   "metadata": {},
   "outputs": [],
   "source": [
    "ctrk.keys()\n"
   ]
  },
  {
   "cell_type": "code",
   "execution_count": null,
   "id": "4e6af2c7-bf2e-4384-8e3c-74053c82a1ac",
   "metadata": {},
   "outputs": [],
   "source": [
    "plt.scatter(ctrk.pres.flatten(),ctrk.prectrk.flatten())"
   ]
  },
  {
   "cell_type": "code",
   "execution_count": null,
   "id": "d0d0b4d3-61eb-4a32-8f11-7fecb890fa8e",
   "metadata": {},
   "outputs": [],
   "source": [
    "oo = np.where( trk.basin.flatten()==2 )\n",
    "x,y=trk.pres.flatten()[oo[0]],trk.prectrk.flatten()[oo[0]]*24.\n",
    "H,ye,xe=np.histogram2d(y, x, bins=30,range=[(2,120.),(880.,1020.)] )"
   ]
  },
  {
   "cell_type": "code",
   "execution_count": null,
   "id": "c61295f5-674f-47d7-a0bd-83238c1f68f3",
   "metadata": {},
   "outputs": [],
   "source": [
    "oo = np.where( ctrk.basin.flatten()==2 )\n",
    "x,y=ctrk.pres.flatten()[oo[0]],ctrk.prectrk.flatten()[oo[0]]*1000.*86400.\n",
    "cH,cye,cxe=np.histogram2d(y, x, bins=30,range=[(2,120.),(880.,1020.)] )\n",
    "print(np.sum(cH),np.sum(H))"
   ]
  },
  {
   "cell_type": "code",
   "execution_count": null,
   "id": "76fa551c-17ec-4df9-8372-968e03eb3865",
   "metadata": {},
   "outputs": [],
   "source": [
    "H  =  H/np.sum(H)\n",
    "cH = cH/np.sum(cH)\n"
   ]
  },
  {
   "cell_type": "code",
   "execution_count": null,
   "id": "ad60a531-12f7-48e9-b7bc-0184cf8e4b79",
   "metadata": {},
   "outputs": [],
   "source": [
    "levels=np.array([1,2,5,10,20,50,100,200,500,1000])*1.e-5\n",
    "cmap=Pu.step_cmap(levels=levels,cmapN='gist_ncar')\n",
    "plt.contourf(xe[1:],ye[1:],H,levels=levels,cmap=cmap)\n",
    "plt.colorbar()"
   ]
  },
  {
   "cell_type": "code",
   "execution_count": null,
   "id": "fdbcd73d-eeee-48b8-a542-ad3b9b25ced1",
   "metadata": {},
   "outputs": [],
   "source": [
    "levels=np.array([1,2,5,10,20,50,100,200,500,1000])*1.e-5\n",
    "cmap=Pu.step_cmap(levels=levels,cmapN='gist_ncar')\n",
    "plt.contourf(cxe[1:],cye[1:],cH,levels=levels,cmap=cmap)\n",
    "plt.colorbar()"
   ]
  },
  {
   "cell_type": "code",
   "execution_count": null,
   "id": "0f65b7f0-920f-4332-93c3-7e4ccd940ca7",
   "metadata": {},
   "outputs": [],
   "source": []
  }
 ],
 "metadata": {
  "kernelspec": {
   "display_name": "NPL 2022b",
   "language": "python",
   "name": "npl-2022b"
  },
  "language_info": {
   "codemirror_mode": {
    "name": "ipython",
    "version": 3
   },
   "file_extension": ".py",
   "mimetype": "text/x-python",
   "name": "python",
   "nbconvert_exporter": "python",
   "pygments_lexer": "ipython3",
   "version": "3.8.13"
  }
 },
 "nbformat": 4,
 "nbformat_minor": 5
}
