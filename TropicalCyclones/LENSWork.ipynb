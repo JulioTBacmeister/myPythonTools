{
 "cells": [
  {
   "cell_type": "code",
   "execution_count": null,
   "id": "ee390e9c-7741-4205-843d-6ad2469ab794",
   "metadata": {},
   "outputs": [],
   "source": [
    "import xarray as xr\n",
    "import numpy as np\n",
    "import matplotlib.pyplot as plt\n",
    "import pandas as pd\n",
    "\n",
    "import importlib\n",
    "\n",
    "\n",
    "import cartopy\n",
    "import cartopy.crs as ccrs\n",
    "import cartopy.feature as cfeature\n",
    "\n"
   ]
  },
  {
   "cell_type": "raw",
   "id": "c19f8ef7-7e0b-4994-b198-f86084a6c514",
   "metadata": {},
   "source": [
    "\n",
    "LENS2 data:\n",
    "/glade/campaign/cgd/cesm/CESM2-LE/atm/proc/tseries/month_1/SST\n",
    "e.g/:\n",
    "\n",
    "b.e21.BSSP370cmip6.f09_g17.LE2-1001.001.cam.h0.TS.201501-202412.nc\n",
    "                                ^^^ year of B1850 for IC\n",
    "\n",
    "LENS1 data:\n",
    "/glade/campaign/cesm/collections/cesmLE/CESM-CAM5-BGC-LE/atm/proc/tseries/monthly/TS/\n",
    "e.g.\n",
    "\n",
    "\n",
    "b.e11.BRCP85C5CNBDRD.f09_g16.001.cam.h0.TS.200601-208012.nc\n",
    "b.e11.BRCP85C5CNBDRD.f09_g16.033.cam.h0.TS.208101-210012.nc\n",
    "b.e11.B20TRLENS_RCP85.f09_g16.xaer.006.cam.h0.TS.200601-208012.nc\n",
    "\n",
    "\n",
    "RCP85 \"SST1\"\n",
    "/glade/p/cesmdata/cseg/inputdata/ocn/docn7/RCP8.5/sstice_RCP85_2006-2100_c131008.nc\n",
    "\n",
    "\n",
    "\n",
    "Hurrell SST:\n",
    "/glade/p/cesmdata/cseg/inputdata/ocn/docn7/SSTDATA/hurrell_sst_ifrac.1x1.050606.nc\n",
    "\n",
    "Hadley-OI SSTs\n",
    "/glade/p/cesmdata/cseg/inputdata/atm/cam/sst/sst_HadOIBl_bc_0.9x1.25_1850_2017_c180507.nc"
   ]
  },
  {
   "cell_type": "code",
   "execution_count": null,
   "id": "89026f57-f0bf-4db2-b218-d733b50e36a4",
   "metadata": {},
   "outputs": [],
   "source": [
    "sst_file = '/glade/p/cesmdata/cseg/inputdata/atm/cam/sst/sst_HadOIBl_bc_0.9x1.25_1850_2017_c180507.nc'\n",
    "dHSST = xr.open_dataset(sst_file ) \n",
    "sst=dHSST.SST_cpl\n",
    "sst.shape\n",
    "dates=dHSST.date\n",
    "print(dates.values[-1-1:-1])\n",
    "print(list(dHSST.variables))"
   ]
  },
  {
   "cell_type": "code",
   "execution_count": null,
   "id": "1032f39b-0915-426f-881e-0033ce23872a",
   "metadata": {},
   "outputs": [],
   "source": [
    "drc='/glade/campaign/cesm/collections/cesmLE/CESM-CAM5-BGC-LE/atm/proc/tseries/monthly/TS/'\n",
    "fils='b.e11.BRCP85C5CNBDRD.f09_g16.0**.cam.h0.TS.208101-210012.nc'\n",
    "dse=xr.open_mfdataset( drc+fils ,concat_dim='ensemble',combine='nested')\n",
    "lats=dse.lat.values\n",
    "lons=dse.lon.values\n",
    "\n",
    "fils='b.e11.BRCP85C5CNBDRD.f09_g16.0**.cam.h0.TS.200601-208012.nc'\n",
    "dse0=xr.open_mfdataset( drc+fils ,concat_dim='ensemble',combine='nested')\n",
    "\n",
    "drcLF='/glade/campaign/cesm/collections/cesmLE/CESM-CAM5-BGC-LE/atm/proc/tseries/monthly/LANDFRAC/'\n",
    "filLF='b.e11.BRCP85C5CNBDRD.f09_g16.001.cam.h0.LANDFRAC.208101-210012.nc'\n",
    "dsLF=xr.open_dataset( drcLF+filLF )\n",
    "landf=dsLF.LANDFRAC.values[0,:,:]\n"
   ]
  },
  {
   "cell_type": "code",
   "execution_count": null,
   "id": "3fe5c06e-d7ae-4d15-994f-ef5e70ff0728",
   "metadata": {},
   "outputs": [],
   "source": [
    "print(np.shape(landf))"
   ]
  },
  {
   "cell_type": "code",
   "execution_count": null,
   "id": "352dd767-e870-43aa-949b-96392305fc9b",
   "metadata": {},
   "outputs": [],
   "source": [
    "print(dse0.TS.shape)"
   ]
  },
  {
   "cell_type": "code",
   "execution_count": null,
   "id": "6a64d68d-ed6d-4729-971f-30f34a0baa08",
   "metadata": {},
   "outputs": [],
   "source": [
    "print( list( dse0.variables ))"
   ]
  },
  {
   "cell_type": "code",
   "execution_count": null,
   "id": "adc10e05-bca2-420d-ba00-b984c9fc3397",
   "metadata": {},
   "outputs": [],
   "source": [
    "print( dse0.time_bnds.values[0,900-132,:])"
   ]
  },
  {
   "cell_type": "code",
   "execution_count": null,
   "id": "ae4b46bc-dff3-4893-b9a6-bd8f9e15d987",
   "metadata": {},
   "outputs": [],
   "source": [
    "nens,nt,ny,nx = np.shape( dse.TS )"
   ]
  },
  {
   "cell_type": "code",
   "execution_count": null,
   "id": "b2f8be3d-ace3-489e-bcf7-0a7d529de7e6",
   "metadata": {},
   "outputs": [],
   "source": [
    "tsoo=dse.TS.mean(dim='time')"
   ]
  },
  {
   "cell_type": "code",
   "execution_count": null,
   "id": "371a0650-9006-4e72-b1d7-c63cad6a0d7f",
   "metadata": {},
   "outputs": [],
   "source": [
    "tsoo.shape\n"
   ]
  },
  {
   "cell_type": "code",
   "execution_count": null,
   "id": "ee6c4503-b454-4297-a635-af316af49cfd",
   "metadata": {},
   "outputs": [],
   "source": [
    "tsoo=tsoo.values\n"
   ]
  },
  {
   "cell_type": "markdown",
   "id": "42bd321f-73eb-4659-bd4b-6d41218ab6bc",
   "metadata": {},
   "source": [
    "# 'Center' the data"
   ]
  },
  {
   "cell_type": "code",
   "execution_count": null,
   "id": "0c0cb47a-f822-4096-8df9-209e61bd869c",
   "metadata": {},
   "outputs": [],
   "source": [
    "# Don't be bothered by apparent dimension mismatch.\n",
    "# This line 'broadcasts' the mean taken for axis=0\n",
    "# to the other dimensions, i.e., this line is equivalent \n",
    "# to subtracting 2 3D arrays where the mean array is \n",
    "# a stack of identical 2D arrays. Thanks ChatGPT.\n",
    "#-----------------------------------------------------\n",
    "tsoop = tsoo - tsoo.mean(axis=0)\n"
   ]
  },
  {
   "cell_type": "code",
   "execution_count": null,
   "id": "c7096a61-5cf5-4dd4-bf63-316b381f5672",
   "metadata": {},
   "outputs": [],
   "source": [
    "for em in np.arange( nens ):\n",
    "    tsoop[em, :,:] = np.where( landf < 0.05 , tsoop[em,:,:], 0. )"
   ]
  },
  {
   "cell_type": "code",
   "execution_count": null,
   "id": "570af8a8-472a-4f4a-b131-ab523189bbfd",
   "metadata": {},
   "outputs": [],
   "source": [
    "# Scale with SQRT(cos(lat))\n",
    "Lon,Lat=np.meshgrid(lons,lats) \n",
    "CosScale=np.sqrt( np.cos( (np.pi/180.)*Lat ) )\n",
    "print(np.shape(CosScale))\n",
    "plt.contour( CosScale )"
   ]
  },
  {
   "cell_type": "code",
   "execution_count": null,
   "id": "09e2c87e-d8a1-4445-875b-c206f010832a",
   "metadata": {},
   "outputs": [],
   "source": [
    "# More \"broadcasting\"\n",
    "tsoog = tsoop * CosScale"
   ]
  },
  {
   "cell_type": "code",
   "execution_count": null,
   "id": "3a2a6a06-2ce8-4f48-b414-b3e08d62209b",
   "metadata": {},
   "outputs": [],
   "source": [
    "#plt.plot( tsoo[:,90,90]-304.)\n",
    "plt.contour( tsoog[0,:,:])\n"
   ]
  },
  {
   "cell_type": "code",
   "execution_count": null,
   "id": "d819f3a9-c1fa-4af5-88ed-81703576746a",
   "metadata": {},
   "outputs": [],
   "source": [
    "print(lats[[60,131]])\n",
    "tsoog=tsoog[:,60:132,:]\n",
    "nt,ny,nx = np.shape(tsoog)"
   ]
  },
  {
   "cell_type": "code",
   "execution_count": null,
   "id": "90f9f721-7b5c-4f5b-9e49-d2b8503a0426",
   "metadata": {},
   "outputs": [],
   "source": [
    "tsoog=np.reshape( tsoog, (nt, ny*nx) )"
   ]
  },
  {
   "cell_type": "code",
   "execution_count": null,
   "id": "2fb0a9a4-b9e8-419b-9b8f-e1b52d5b572d",
   "metadata": {},
   "outputs": [],
   "source": [
    "u,s,vt=np.linalg.svd( tsoog, full_matrices=False )"
   ]
  },
  {
   "cell_type": "code",
   "execution_count": null,
   "id": "0be2675a-d79b-4ca2-8b8a-70807120d84f",
   "metadata": {},
   "outputs": [],
   "source": [
    "print(np.shape(u))\n",
    "print(np.shape(s))\n",
    "#plt.plot(np.average(u,axis=1))\n",
    "plt.plot( u.flatten() )"
   ]
  },
  {
   "cell_type": "code",
   "execution_count": null,
   "id": "cfb29f21-628c-4bfc-8219-14846a2cd076",
   "metadata": {},
   "outputs": [],
   "source": [
    "#print( np.shape(vt))\n",
    "fig=plt.figure(figsize=(20,10))\n",
    "\n",
    "lv=np.linspace( -.03,.03,num=31)\n",
    "for n in np.arange(12):\n",
    "    ax1 = fig.add_subplot(3, 4, n+1 ) # , projection=projPC )\n",
    "    co=ax1.contourf( vt[n,:].reshape(ny,nx) , levels=lv)\n",
    "    plt.colorbar(co ) #,cax=cax,orientation='horizontal')\n"
   ]
  },
  {
   "cell_type": "code",
   "execution_count": null,
   "id": "c97dc568-bf93-4a78-b13d-8cbf93f4768b",
   "metadata": {},
   "outputs": [],
   "source": [
    "## "
   ]
  },
  {
   "cell_type": "code",
   "execution_count": null,
   "id": "b51176e4-84b2-4d35-bea8-033fb0c315d7",
   "metadata": {},
   "outputs": [],
   "source": [
    "from sklearn.decomposition import PCA "
   ]
  },
  {
   "cell_type": "code",
   "execution_count": null,
   "id": "ac6c9344-4909-4d8b-bf64-2d5a17df46c5",
   "metadata": {},
   "outputs": [],
   "source": [
    "pca=PCA(n_components=20)"
   ]
  },
  {
   "cell_type": "code",
   "execution_count": null,
   "id": "492affea-ebed-48ec-b3d3-3c7c4841cc2a",
   "metadata": {},
   "outputs": [],
   "source": [
    "tsoov=pca.fit_transform(tsoop)"
   ]
  },
  {
   "cell_type": "code",
   "execution_count": null,
   "id": "5ecbc190-443b-410d-990f-a88b591dc2a8",
   "metadata": {},
   "outputs": [],
   "source": [
    "print(np.shape(pca.components_))"
   ]
  },
  {
   "cell_type": "code",
   "execution_count": null,
   "id": "326f4855-a758-4975-954a-6a95a1c603ee",
   "metadata": {},
   "outputs": [],
   "source": [
    "plt.plot( pca.components_[0,:])\n",
    "plt.plot( vt[0,:])\n"
   ]
  },
  {
   "cell_type": "code",
   "execution_count": null,
   "id": "f46996fa-bed6-47fd-8484-b0b5fc64c66e",
   "metadata": {},
   "outputs": [],
   "source": [
    "print(192*288)"
   ]
  },
  {
   "cell_type": "code",
   "execution_count": null,
   "id": "aa573a51-de0d-475d-9185-5e26889a239a",
   "metadata": {},
   "outputs": [],
   "source": [
    "skoov=np.reshape( pca.components_ , (20,192,288) )"
   ]
  },
  {
   "cell_type": "code",
   "execution_count": null,
   "id": "9da923ee-e7c8-4f9e-a58f-bfef5b068bf7",
   "metadata": {},
   "outputs": [],
   "source": [
    "plt.contour(skoov[14,:,:])"
   ]
  },
  {
   "cell_type": "code",
   "execution_count": null,
   "id": "bb92cde3-29c5-48ec-a4d6-cd4a892e17f1",
   "metadata": {},
   "outputs": [],
   "source": []
  }
 ],
 "metadata": {
  "kernelspec": {
   "display_name": "NPL 2022b",
   "language": "python",
   "name": "npl-2022b"
  },
  "language_info": {
   "codemirror_mode": {
    "name": "ipython",
    "version": 3
   },
   "file_extension": ".py",
   "mimetype": "text/x-python",
   "name": "python",
   "nbconvert_exporter": "python",
   "pygments_lexer": "ipython3",
   "version": "3.8.13"
  }
 },
 "nbformat": 4,
 "nbformat_minor": 5
}
