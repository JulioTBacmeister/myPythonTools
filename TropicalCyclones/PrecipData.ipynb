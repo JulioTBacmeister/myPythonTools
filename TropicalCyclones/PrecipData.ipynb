{
 "cells": [
  {
   "cell_type": "code",
   "execution_count": null,
   "id": "0ae3eaaf-c1ce-4fb5-8498-6e9dce0dc341",
   "metadata": {},
   "outputs": [],
   "source": [
    "import xarray as xr\n",
    "import numpy as np\n",
    "import matplotlib.pyplot as plt\n",
    "import pandas as pd\n",
    "\n",
    "import cartopy\n",
    "import cartopy.crs as ccrs\n",
    "import cartopy.feature as cfeature\n",
    "\n",
    "\n",
    "import trax_util as trx\n",
    "\n",
    "import importlib\n",
    "\n",
    "import glob\n",
    "\n",
    "importlib.reload( trx )\n"
   ]
  },
  {
   "cell_type": "code",
   "execution_count": null,
   "id": "296c2ebd-a945-429d-9992-143da4644d15",
   "metadata": {},
   "outputs": [],
   "source": [
    "dr8='/glade/p/cgd/amp/juliob/TRMM/3B42/2016/08/'\n",
    "dr9='/glade/p/cgd/amp/juliob/TRMM/3B42/2016/09/'\n",
    "\n",
    "#fl9 = '3B42.201009*.7A.nc'\n",
    "flx = '3B42.20160*.7.nc'\n",
    "\n",
    "foo8=sorted(glob.glob( dr8 + flx ))\n",
    "foo9=sorted(glob.glob( dr9 + flx ))\n",
    "\n",
    "\n",
    "trmm=xr.open_mfdataset( foo8+foo9 )\n",
    "print(list(trmm.variables))\n"
   ]
  },
  {
   "cell_type": "code",
   "execution_count": null,
   "id": "6e86d9d8-25d9-4d23-aaa3-d56cc7d5b504",
   "metadata": {},
   "outputs": [],
   "source": [
    "#print(np.shape(trmm.pcp))\n",
    "#poo=trmm.precip.mean(dim='time')\n",
    "#trmm.pcp"
   ]
  },
  {
   "cell_type": "code",
   "execution_count": null,
   "id": "35f90412-8665-4462-839b-b50b667088cd",
   "metadata": {},
   "outputs": [],
   "source": [
    "#print(np.shape(poo))\n",
    "#prec=trmm.precip.values  # 7A variables names change. What bullshit!!!\n",
    "prec=trmm.pcp.values\n"
   ]
  },
  {
   "cell_type": "code",
   "execution_count": null,
   "id": "1a4a9f64-cd89-4e4b-a853-c9f7e7546904",
   "metadata": {},
   "outputs": [],
   "source": [
    "prec=np.nan_to_num(prec)\n",
    "precav = np.average(prec[72:72+248,:,:],axis=0)"
   ]
  },
  {
   "cell_type": "code",
   "execution_count": null,
   "id": "ade985b6-cd21-4e3c-a94d-b349b38c254b",
   "metadata": {},
   "outputs": [],
   "source": [
    "#print(trmm.yyyymmddhh.values[72:72+2])\n",
    "\n",
    "#lats=trmm.lat.values # more 7 vs 7A bullshit.\n",
    "#lons=trmm.lon.values\n",
    "\n",
    "lats=trmm.latitude.values\n",
    "lons=trmm.longitude.values"
   ]
  },
  {
   "cell_type": "code",
   "execution_count": null,
   "id": "ffa0e061-a8d7-4133-b384-b020f79f6002",
   "metadata": {},
   "outputs": [],
   "source": [
    "projPC = ccrs.Robinson(central_longitude=0.)\n",
    "data_crs = ccrs.PlateCarree()\n",
    "preclv=np.linspace(0,32,num=16+1)\n",
    "\n",
    "fig = plt.figure(figsize=(24, 20), linewidth=4)\n",
    "levs=[29,26,20,10]\n",
    "\n",
    "#plt.rc('lines',linewidth=4)\n",
    "\n",
    "ax1 = fig.add_subplot(1, 1, 1 , projection=projPC)\n",
    "#ax1 = plt.axes(projection=projPC)\n",
    "ax1.set_global()\n",
    "ax1.coastlines(resolution='110m',color='black' ,linewidth=4)\n",
    "po=ax1.contourf(lons,lats,24*precav,transform=data_crs,levels=preclv,cmap='Blues')\n",
    "\n",
    "#ax1.outline_patch.set_linewidth(4)\n",
    "\n",
    "ax1.spines['geo'].set_linewidth(4)  # change as needed\n",
    "\n",
    "cax=plt.axes([.3,.2,.5,.02])\n",
    "cbar = plt.colorbar(po,cax=cax,orientation='horizontal')\n",
    "\n",
    "cbar.outline.set_linewidth(4) "
   ]
  },
  {
   "cell_type": "raw",
   "id": "a197e9cd-bb78-46f7-94bf-5ffb2f79a32d",
   "metadata": {},
   "source": [
    "This is a plot of TRMM precip Aug 10-Sep 10, 2016 for comparison with DYAMOND results from Falko Judt"
   ]
  }
 ],
 "metadata": {
  "kernelspec": {
   "display_name": "NPL 2022b",
   "language": "python",
   "name": "npl-2022b"
  },
  "language_info": {
   "codemirror_mode": {
    "name": "ipython",
    "version": 3
   },
   "file_extension": ".py",
   "mimetype": "text/x-python",
   "name": "python",
   "nbconvert_exporter": "python",
   "pygments_lexer": "ipython3",
   "version": "3.8.13"
  }
 },
 "nbformat": 4,
 "nbformat_minor": 5
}
