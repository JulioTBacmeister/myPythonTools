{
 "cells": [
  {
   "cell_type": "code",
   "execution_count": null,
   "id": "ca2ab8ed-2376-4d0d-bb6b-ee6241ebe057",
   "metadata": {},
   "outputs": [],
   "source": [
    "import xarray as xr\n",
    "import numpy as np\n",
    "import matplotlib.pyplot as plt\n",
    "import pandas as pd\n",
    "\n",
    "import cartopy\n",
    "import cartopy.crs as ccrs\n",
    "import cartopy.feature as cfeature\n",
    "\n",
    "\n",
    "import trax_util as trx\n",
    "\n",
    "import importlib\n",
    "\n",
    "importlib.reload( trx )\n"
   ]
  },
  {
   "cell_type": "code",
   "execution_count": null,
   "id": "71e8a620-9d5d-4eb2-9b02-00c876866e58",
   "metadata": {},
   "outputs": [],
   "source": [
    "#GPCP is here:\n",
    "\n",
    "drc='/glade/collections/rda/data/ds728.6/gpcp_v2.3_monthly/'\n",
    "\n",
    "#files aare\n",
    "files = 'gpcp_v02r03_monthly_d*.nc'"
   ]
  },
  {
   "cell_type": "code",
   "execution_count": null,
   "id": "a7bd6d13-356c-4ccd-95d6-a7c22d9242af",
   "metadata": {},
   "outputs": [],
   "source": [
    "#dsQd=xr.open_dataset(drcQd+fQd)\n",
    "dS=xr.open_mfdataset(drc+files)"
   ]
  },
  {
   "cell_type": "code",
   "execution_count": null,
   "id": "8422f8c5-a5d5-4938-b53d-9483566eb900",
   "metadata": {},
   "outputs": [],
   "source": [
    "print(list(dS.variables))"
   ]
  },
  {
   "cell_type": "code",
   "execution_count": null,
   "id": "56fe73f4-c12f-43fa-8810-828bcee5967e",
   "metadata": {},
   "outputs": [],
   "source": [
    "print(dS.precip.shape)\n",
    "#nmo,ny,nx = np.shape(ds1d.pr)\n",
    "\n",
    "#ds1d.pr\n",
    "\n",
    "print(dS.time[-1].values)\n",
    "\n",
    "lat=dS.latitude.values\n",
    "lon=dS.longitude.values\n",
    "\n",
    "prec=dS.precip.values\n",
    "\n",
    "nmos,ny,nx = np.shape(prec)\n",
    "Nyr=(nmos//12)\n",
    "print(Nyr)"
   ]
  },
  {
   "cell_type": "code",
   "execution_count": null,
   "id": "d0dfe3b7-6355-4b10-bd71-5b849ecdb2ae",
   "metadata": {},
   "outputs": [],
   "source": [
    "prec=prec[0:12*Nyr,:,:]\n",
    "prec=prec.reshape(Nyr,12,ny,nx)\n",
    "print(np.shape(prec))"
   ]
  },
  {
   "cell_type": "code",
   "execution_count": null,
   "id": "c82ee2f4-23cf-45fd-b9a7-63af23303da6",
   "metadata": {},
   "outputs": [],
   "source": [
    "prec_jas= prec[:,7:10,:,:]\n",
    "print( np.shape( prec_jas))\n",
    "prec_jas_av=np.average( np.average( prec_jas, axis=1 ) , axis=0 )\n",
    "print( np.shape( prec_jas_av))\n"
   ]
  },
  {
   "cell_type": "code",
   "execution_count": null,
   "id": "f4890b8c-a34a-4f0b-b25e-1ad854a9ba14",
   "metadata": {},
   "outputs": [],
   "source": [
    "dS.precip"
   ]
  },
  {
   "cell_type": "code",
   "execution_count": null,
   "id": "e0de00be-7af1-4f6a-868d-a634c6e54797",
   "metadata": {},
   "outputs": [],
   "source": [
    "preclv=np.linspace(0,24,num=16+1)\n",
    "projPC = ccrs.Robinson(central_longitude=180.)\n",
    "data_crs = ccrs.PlateCarree()\n",
    "fig=plt.figure(figsize=(20,12))\n",
    "\n",
    "d01=prec_jas_av\n",
    "ax1 = fig.add_subplot(1, 1, 1 , projection=projPC )\n",
    "ax1.coastlines(resolution='110m',color='black',linewidth=4)\n",
    "po=ax1.contourf( lon, lat, d01 ,levels=preclv,cmap='Blues',transform=data_crs )\n",
    "ax1.spines['geo'].set_linewidth(4)  # change as needed\n",
    "\n",
    "cax = plt.axes([0.93, 0.25, 0.01, 0.5])\n",
    "cbar=plt.colorbar(po,cax=cax,orientation='vertical')\n",
    "cbar.ax.tick_params(labelsize=20)\n",
    "ax1.set_title('GPCP Jul-Aug-Sep climo',fontsize=32)"
   ]
  },
  {
   "cell_type": "code",
   "execution_count": null,
   "id": "c0242cd7-4589-474e-914d-830b1f22456a",
   "metadata": {},
   "outputs": [],
   "source": [
    "## Should be done "
   ]
  }
 ],
 "metadata": {
  "kernelspec": {
   "display_name": "NPL 2022b",
   "language": "python",
   "name": "npl-2022b"
  },
  "language_info": {
   "codemirror_mode": {
    "name": "ipython",
    "version": 3
   },
   "file_extension": ".py",
   "mimetype": "text/x-python",
   "name": "python",
   "nbconvert_exporter": "python",
   "pygments_lexer": "ipython3",
   "version": "3.8.13"
  }
 },
 "nbformat": 4,
 "nbformat_minor": 5
}
