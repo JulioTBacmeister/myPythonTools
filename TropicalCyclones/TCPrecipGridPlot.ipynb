{
 "cells": [
  {
   "cell_type": "code",
   "execution_count": null,
   "id": "ca2ab8ed-2376-4d0d-bb6b-ee6241ebe057",
   "metadata": {},
   "outputs": [],
   "source": [
    "import xarray as xr\n",
    "import numpy as np\n",
    "import matplotlib.pyplot as plt\n",
    "import pandas as pd\n",
    "\n",
    "import cartopy\n",
    "import cartopy.crs as ccrs\n",
    "import cartopy.feature as cfeature\n",
    "\n",
    "\n",
    "import trax_util as trx\n",
    "\n",
    "import importlib\n",
    "\n",
    "import time as TimeUtils\n",
    "\n",
    "import sys\n",
    "# import modules in other directories\n",
    "sys.path.append('/glade/work/juliob/PyRegridding/Regridder/')\n",
    "\n",
    "import PlotUtil as Pu\n",
    "import esmfRegrid as erg\n",
    "\n",
    "\n",
    "importlib.reload( trx )\n"
   ]
  },
  {
   "cell_type": "code",
   "execution_count": null,
   "id": "01448c1e-7a53-4cc2-b8aa-7f77e7745cde",
   "metadata": {},
   "outputs": [],
   "source": [
    "Ret=6378.1"
   ]
  },
  {
   "cell_type": "markdown",
   "id": "844ccc21-ed65-4dea-956a-9109f521620a",
   "metadata": {},
   "source": [
    "## Read in a track file"
   ]
  },
  {
   "cell_type": "code",
   "execution_count": null,
   "id": "75050753-15ad-46ae-86b7-2a62c58eadff",
   "metadata": {},
   "outputs": [],
   "source": [
    "##################\n",
    "# Get track file\n",
    "###################\n",
    "power_wind=(1./6.)**(0.11)\n",
    "TrakFile = trx.rcp85fname(sst='sst1') \n",
    "trk=trx.readtrx( TrakFile  , power_wind=power_wind )\n",
    "\n",
    "##################\n",
    "# Get BaseName\n",
    "###################\n",
    "BaseName = trx.rcp85fname(sst='sst1',justBaseName=True) \n",
    "print( f\"BaseName is  {BaseName} \" )\n",
    "print( f\"TrakFile is  {TrakFile} \" )\n",
    "\n",
    "nstorms,ntraxtime = np.shape( trk.lat )\n"
   ]
  },
  {
   "cell_type": "code",
   "execution_count": null,
   "id": "690b2d2a-1220-4bd8-8443-e1474d39578e",
   "metadata": {},
   "outputs": [],
   "source": [
    "basename = BaseName + 'cam.h4.PRECT.'\n",
    "basename_o = BaseName + 'cam.h4.TCPRECT.'\n",
    "# input and output Directories\n",
    "drc='/glade/campaign/cgd/ccr/nanr/HPSS/tokeep/TIMESLICE/atm/proc/tseries/hourly3/PRECT/'\n",
    "drc_o='/glade/campaign/cgd/amp/juliob/TC-cesm1/precip/'\n",
    "\n",
    "y=2071\n",
    "yA=str(y).zfill(4)\n",
    "fname=drc+basename+yA+'010100Z-'+yA+'123121Z.nc'\n",
    "fname_o=drc_o+basename_o+yA+'010100Z-'+yA+'123121Z.nc'\n"
   ]
  },
  {
   "cell_type": "code",
   "execution_count": null,
   "id": "842cd5e0-7bcc-4208-af93-f1778175cfe3",
   "metadata": {},
   "outputs": [],
   "source": [
    "dU=xr.open_dataset( fname_o )\n",
    "print(list(dU.variables))\n",
    "nt,ny,nx = np.shape( dU.TCPRECT )\n",
    "lon=dU.lon.values\n",
    "lat=dU.lat.values"
   ]
  },
  {
   "cell_type": "code",
   "execution_count": null,
   "id": "daad1de3-760c-4c6e-a56b-4af5aa246896",
   "metadata": {},
   "outputs": [],
   "source": [
    "poo=np.zeros((ny,nx)) \n",
    "for t in np.arange( nt ):\n",
    "    poo=poo+dU.TCPRECT[t,:,:].values\n",
    "    if ((t % 100)==0):\n",
    "        print( nt, t )\n"
   ]
  },
  {
   "cell_type": "code",
   "execution_count": null,
   "id": "f6aed5dc-9edb-45fb-8093-750b5dfa0679",
   "metadata": {},
   "outputs": [],
   "source": [
    "TCprecav=1000.*86400.*poo/nt\n",
    "\n",
    "preclv=np.linspace(0.1,2.1,num=11) \n",
    "projPC = ccrs.Robinson(central_longitude=0.)\n",
    "data_crs = ccrs.PlateCarree()\n",
    "fig=plt.figure(figsize=(20,12))\n",
    "\n",
    "ax1 = fig.add_subplot(1, 1, 1 , projection=projPC )\n",
    "\n",
    "ax1.coastlines(resolution='110m',color='black',linewidth=4)\n",
    "ax1.contourf( lon, lat, TCprecav ,levels=preclv,cmap='Blues',transform=data_crs )\n",
    "for ns in np.arange( nstorms ):\n",
    "    if (trk.year[ns,0]==2071):\n",
    "        zoo=ax1.plot( trk.lon[ns,:], trk.lat[ns,:], transform=data_crs  )\n",
    "\n",
    "\n",
    "ax1.spines['geo'].set_linewidth(4)  # change as needed"
   ]
  },
  {
   "cell_type": "code",
   "execution_count": null,
   "id": "b1696cf4-616b-43c7-a3bc-bea3adca9438",
   "metadata": {},
   "outputs": [],
   "source": [
    "#### STOP HERE???"
   ]
  }
 ],
 "metadata": {
  "kernelspec": {
   "display_name": "NPL 2022b",
   "language": "python",
   "name": "npl-2022b"
  },
  "language_info": {
   "codemirror_mode": {
    "name": "ipython",
    "version": 3
   },
   "file_extension": ".py",
   "mimetype": "text/x-python",
   "name": "python",
   "nbconvert_exporter": "python",
   "pygments_lexer": "ipython3",
   "version": "3.8.13"
  }
 },
 "nbformat": 4,
 "nbformat_minor": 5
}
