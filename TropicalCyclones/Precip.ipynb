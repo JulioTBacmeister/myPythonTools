{
 "cells": [
  {
   "cell_type": "code",
   "execution_count": null,
   "id": "ca2ab8ed-2376-4d0d-bb6b-ee6241ebe057",
   "metadata": {},
   "outputs": [],
   "source": [
    "import xarray as xr\n",
    "import numpy as np\n",
    "import matplotlib.pyplot as plt\n",
    "import pandas as pd\n",
    "\n",
    "#import HDF5\n",
    "\n",
    "import cartopy\n",
    "import cartopy.crs as ccrs\n",
    "import cartopy.feature as cfeature\n",
    "\n",
    "\n",
    "import trax_util as trx\n",
    "import TRMM_util as trmm\n",
    "\n",
    "import importlib\n",
    "\n",
    "importlib.reload( trx )\n"
   ]
  },
  {
   "cell_type": "code",
   "execution_count": null,
   "id": "5a54211f-bcaf-4562-970d-99543b4063e9",
   "metadata": {},
   "outputs": [],
   "source": [
    "year=2006"
   ]
  },
  {
   "cell_type": "code",
   "execution_count": null,
   "id": "6b074da7-d1ac-4e01-b38b-6e89af60ae12",
   "metadata": {},
   "outputs": [],
   "source": [
    "yearA = str(year).zfill(4)\n",
    "file = '/glade/p/cgd/amp/juliob/TRMM/HDF/' + yearA + '/3B42_3hrly.' + yearA + '.nc'\n",
    "dS = xr.open_dataset( file )"
   ]
  },
  {
   "cell_type": "code",
   "execution_count": null,
   "id": "278fd86f-8045-4e97-bae8-f8df01753e37",
   "metadata": {},
   "outputs": [],
   "source": [
    "\n",
    "nt,ny,nx = np.shape( dS.precip )\n",
    "print( nt,ny,nx )"
   ]
  },
  {
   "cell_type": "code",
   "execution_count": null,
   "id": "6f6b435e-525a-4a61-b84d-266214650665",
   "metadata": {},
   "outputs": [],
   "source": [
    "precav = np.zeros( (ny,nx) )\n",
    "for t in np.arange( nt ):\n",
    "    precav = precav+dS.precip[t,:,:].fillna(0).values\n",
    "    if(t%200 ==0):\n",
    "        print(t,'/',nt)"
   ]
  },
  {
   "cell_type": "code",
   "execution_count": null,
   "id": "896b970f-c178-4e56-b80d-a360f85f031a",
   "metadata": {},
   "outputs": [],
   "source": [
    "lat=dS.lat.values\n",
    "lon=dS.lon.values\n",
    "dS.precip"
   ]
  },
  {
   "cell_type": "code",
   "execution_count": null,
   "id": "ccf2463d-2153-4a8e-80c6-bb1cc9b21609",
   "metadata": {},
   "outputs": [],
   "source": [
    "lon0,precav0 = trmm.shiftlon( lon, precav )"
   ]
  },
  {
   "cell_type": "code",
   "execution_count": null,
   "id": "fcf14251-8000-4a0f-afb9-086d9467de57",
   "metadata": {},
   "outputs": [],
   "source": [
    "lon0=np.roll(lon,shift=720,axis=0)\n",
    "precav0=np.roll(precav,shift=720,axis=1)\n",
    "print(lon0[0:3])\n",
    "oo=np.where(lon0<0)\n",
    "lon0[oo[0]]=lon0[oo[0]]+360."
   ]
  },
  {
   "cell_type": "code",
   "execution_count": null,
   "id": "a92e6142-5308-47c4-9e8d-3c0572fa7cb9",
   "metadata": {},
   "outputs": [],
   "source": [
    "plt.contourf( lon0,lat,24*precav0/nt )\n",
    "plt.colorbar()"
   ]
  },
  {
   "cell_type": "code",
   "execution_count": null,
   "id": "4d4d4d67-1235-4ae5-b9fb-05510e6399bb",
   "metadata": {},
   "outputs": [],
   "source": [
    "precav=24.*precav0/nt\n",
    "\n",
    "preclv=np.linspace(0.1,20.1,num=11) \n",
    "projPC = ccrs.Robinson(central_longitude=0.)\n",
    "data_crs = ccrs.PlateCarree()\n",
    "fig=plt.figure(figsize=(20,12))\n",
    "\n",
    "ax1 = fig.add_subplot(1, 1, 1 , projection=projPC )\n",
    "\n",
    "ax1.coastlines(resolution='110m',color='black',linewidth=4)\n",
    "ax1.contourf( lon0, lat, precav ,levels=preclv,cmap='Blues',transform=data_crs )\n"
   ]
  },
  {
   "cell_type": "code",
   "execution_count": null,
   "id": "ff2e61e4-666e-4ecf-bfac-97f0c5f092b0",
   "metadata": {},
   "outputs": [],
   "source": []
  }
 ],
 "metadata": {
  "kernelspec": {
   "display_name": "NPL 2022b",
   "language": "python",
   "name": "npl-2022b"
  },
  "language_info": {
   "codemirror_mode": {
    "name": "ipython",
    "version": 3
   },
   "file_extension": ".py",
   "mimetype": "text/x-python",
   "name": "python",
   "nbconvert_exporter": "python",
   "pygments_lexer": "ipython3",
   "version": "3.8.13"
  }
 },
 "nbformat": 4,
 "nbformat_minor": 5
}
