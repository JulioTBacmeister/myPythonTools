{
 "cells": [
  {
   "cell_type": "code",
   "execution_count": null,
   "id": "ca2ab8ed-2376-4d0d-bb6b-ee6241ebe057",
   "metadata": {},
   "outputs": [],
   "source": [
    "import xarray as xr\n",
    "import numpy as np\n",
    "import matplotlib.pyplot as plt\n",
    "import pandas as pd\n",
    "\n",
    "import cartopy\n",
    "import cartopy.crs as ccrs\n",
    "import cartopy.feature as cfeature\n",
    "\n",
    "\n",
    "import trax_util as trx\n",
    "\n",
    "import importlib\n",
    "\n",
    "\n",
    "\n",
    "import sys\n",
    "# import modules in other directories\n",
    "sys.path.append('/glade/work/juliob/PyRegridding/Regridder/')\n",
    "\n",
    "\n",
    "import esmfRegrid as erg\n",
    "\n",
    "\n",
    "importlib.reload( trx )\n"
   ]
  },
  {
   "cell_type": "markdown",
   "id": "1ceaecb0-9f91-4db4-a7d5-6d6cd80b3df1",
   "metadata": {},
   "source": [
    "## create ESMF regridding objects -- takes a while"
   ]
  },
  {
   "cell_type": "code",
   "execution_count": null,
   "id": "2eb7c264-15b5-4202-be9c-510e2c1bf094",
   "metadata": {},
   "outputs": [],
   "source": [
    "scrip_dir = '/glade/p/cesmdata/cseg/inputdata/share/scripgrids/'\n",
    "dst_scrip = scrip_dir + 'fv0.23x0.31_141008.nc'\n",
    "src_scrip = scrip_dir + 'ne120np4_pentagons_100310.nc'\n",
    "\n",
    "dst1d_scrip = scrip_dir + 'fv0.9x1.25_141008.nc'\n",
    "\n",
    "#ne120 ==> latlon 0.25 degree\n",
    "regrd, srcf, dstf = erg.Regrid(srcScrip = src_scrip , \n",
    "                                srcType  = 'mesh'  ,\n",
    "                                dstScrip = dst_scrip ,\n",
    "                                dstType  = 'grid'   )\n",
    "    \n",
    "#ne120 ==> latlon 1 degree\n",
    "regrd1d, srcf1d, dstf1d = erg.Regrid(srcScrip = src_scrip , \n",
    "                                srcType  = 'mesh'  ,\n",
    "                                dstScrip = dst1d_scrip ,\n",
    "                                dstType  = 'grid'   )\n",
    "    \n"
   ]
  },
  {
   "cell_type": "markdown",
   "id": "844ccc21-ed65-4dea-956a-9109f521620a",
   "metadata": {},
   "source": [
    "## Take JAS Mean of ne120 3hrly data .... TAKES FOREVER !!!"
   ]
  },
  {
   "cell_type": "code",
   "execution_count": null,
   "id": "15de7838-a121-487d-a8d4-a2465776f3ce",
   "metadata": {},
   "outputs": [],
   "source": [
    "drcQd='/glade/campaign/cgd/ccr/nanr/HPSS/tokeep/TIMESLICE/atm/proc/tseries/hourly3/PRECT/'\n",
    "prcQd=0.  # []\n",
    "#for y in np.arange( start=1980,stop=2013):\n",
    "Nyr=0\n",
    "for y in np.arange( start=1980,stop=2013):\n",
    "    yA = str(y).zfill(4)\n",
    "    fQd='f.e13.FAMIPC5.ne120_ne120.1979_2012.001.cam.h4.PRECT.'+yA+'010100Z-'+yA+'123121Z.nc'\n",
    "    print(fQd)\n",
    "    dsQd=xr.open_dataset(drcQd+fQd)\n",
    "    Iyyyymm=dsQd.date.values.astype(int)\n",
    "    oo=np.where( (Iyyyymm >= y*10_000+ 700 ) & (Iyyyymm < y*10_000+ 1000 ) )  # get Jun-Aug-Sep \n",
    "    print(np.shape(oo[0]))\n",
    "    print( Iyyyymm[oo[0][0]],Iyyyymm[oo[0][-1]])\n",
    "    #prcQd_0 = dsQd.PRECT.values\n",
    "    prcQd_0 = dsQd.PRECT[oo[0][:],:].values\n",
    "    prcQd = prcQd + np.average( prcQd_0 , axis=0 )      \n",
    "    Nyr=Nyr+1"
   ]
  },
  {
   "cell_type": "code",
   "execution_count": null,
   "id": "11c23ef1-e6ee-44e3-a3fc-5a8c4efdb021",
   "metadata": {},
   "outputs": [],
   "source": [
    "lonQd=dsQd.lon.values\n",
    "latQd=dsQd.lat.values\n",
    "prcQd = prcQd / Nyr"
   ]
  },
  {
   "cell_type": "code",
   "execution_count": null,
   "id": "d030f656-c66c-482e-ad0c-32f5bc510476",
   "metadata": {},
   "outputs": [],
   "source": [
    "prcQd_yx = erg.HorzRG(aSrc = prcQd , \n",
    "                regrd = regrd , \n",
    "                srcField=srcf , \n",
    "                dstField=dstf , \n",
    "                srcGridkey='c' ,\n",
    "                dstGridkey='yx' ) \n"
   ]
  },
  {
   "cell_type": "code",
   "execution_count": null,
   "id": "3df3a3ec-280c-451b-a9c5-ecfdcfa5af3a",
   "metadata": {},
   "outputs": [],
   "source": [
    "prc1d_yx = erg.HorzRG(aSrc = prcQd , \n",
    "                regrd = regrd1d , \n",
    "                srcField=srcf1d , \n",
    "                dstField=dstf1d , \n",
    "                srcGridkey='c' ,\n",
    "                dstGridkey='yx' ) \n"
   ]
  },
  {
   "cell_type": "code",
   "execution_count": null,
   "id": "46fd6865-b3ab-4fbd-a9c0-06eecc2534d2",
   "metadata": {},
   "outputs": [],
   "source": [
    "print(np.shape(prcQd_yx))\n",
    "Scr=xr.open_dataset( dst_scrip )\n",
    "latQd_yx = Scr.grid_center_lat.values.reshape( (768, 1152 ) )\n",
    "lonQd_yx = Scr.grid_center_lon.values.reshape( (768, 1152 ) )\n",
    "#plt.contour(latQd_yx)\n",
    "#plt.contour(lonQd_yx)\n"
   ]
  },
  {
   "cell_type": "code",
   "execution_count": null,
   "id": "0651ba0a-0da8-4f87-ad77-9f6f169a87bb",
   "metadata": {},
   "outputs": [],
   "source": [
    "print(np.shape(prc1d_yx))\n",
    "ny1d,nx1d = np.shape(prc1d_yx)\n",
    "Scr=xr.open_dataset( dst1d_scrip )\n",
    "lat1d_yx = Scr.grid_center_lat.values.reshape( (ny1d, nx1d ) )\n",
    "lon1d_yx = Scr.grid_center_lon.values.reshape( (ny1d, nx1d ) )\n",
    "#plt.contour(latQd_yx)\n",
    "#plt.contour(lonQd_yx)\n"
   ]
  },
  {
   "cell_type": "code",
   "execution_count": null,
   "id": "4c722c20-03d7-42e3-b15b-308f03272640",
   "metadata": {},
   "outputs": [],
   "source": [
    "preclv=np.linspace(0,32,num=16+1)\n",
    "projPC = ccrs.Robinson(central_longitude=0.)\n",
    "data_crs = ccrs.PlateCarree()\n",
    "fig=plt.figure(figsize=(20,12))\n",
    "\n",
    "d01=prcQd_yx*86400.*1000.\n",
    "ax1 = fig.add_subplot(1, 1, 1 , projection=projPC )\n",
    "ax1.coastlines(resolution='110m',color='black',linewidth=4)\n",
    "ax1.contourf( lonQd_yx, latQd_yx, d01 ,levels=preclv,cmap='Blues',transform=data_crs )\n",
    "ax1.spines['geo'].set_linewidth(4)  # change as needed\n"
   ]
  },
  {
   "cell_type": "code",
   "execution_count": null,
   "id": "fc7cd337-3bc9-496d-acf7-fc744a32b9e6",
   "metadata": {},
   "outputs": [],
   "source": [
    "preclv=np.linspace(0,24,num=16+1)\n",
    "projPC = ccrs.Robinson(central_longitude=180.)\n",
    "data_crs = ccrs.PlateCarree()\n",
    "fig=plt.figure(figsize=(20,12))\n",
    "\n",
    "d01=prc1d_yx*86400.*1000.\n",
    "ax1 = fig.add_subplot(1, 1, 1 , projection=projPC )\n",
    "ax1.coastlines(resolution='110m',color='black',linewidth=4)\n",
    "po=ax1.contourf( lon1d_yx, lat1d_yx, d01 ,levels=preclv,cmap='Blues',transform=data_crs )\n",
    "ax1.spines['geo'].set_linewidth(4)  # change as needed\n",
    "\n",
    "cax = plt.axes([0.93, 0.25, 0.01, 0.5])\n",
    "cbar=plt.colorbar(po,cax=cax,orientation='vertical')\n",
    "cbar.ax.tick_params(labelsize=20)\n",
    "ax1.set_title('CESM1 ne120 Jul-Aug-Sep climo',fontsize=32)"
   ]
  },
  {
   "cell_type": "code",
   "execution_count": null,
   "id": "ec2f1b5f-b665-49d2-bd37-9258a4d25d02",
   "metadata": {},
   "outputs": [],
   "source": []
  },
  {
   "cell_type": "code",
   "execution_count": null,
   "id": "c0242cd7-4589-474e-914d-830b1f22456a",
   "metadata": {},
   "outputs": [],
   "source": [
    "## Should be done \n",
    "## np.savez('arrays.npz', arr1=arr1, arr2=arr2, arr3=arr3)\n",
    "npSaveFile = '/glade/work/juliob/NumPySaves/ne120-JAS-e01-1980-2012.npz'\n",
    "np.savez( npSaveFile , prec=prcQd, lat=latQd, lon=lonQd )"
   ]
  }
 ],
 "metadata": {
  "kernelspec": {
   "display_name": "NPL 2022b",
   "language": "python",
   "name": "npl-2022b"
  },
  "language_info": {
   "codemirror_mode": {
    "name": "ipython",
    "version": 3
   },
   "file_extension": ".py",
   "mimetype": "text/x-python",
   "name": "python",
   "nbconvert_exporter": "python",
   "pygments_lexer": "ipython3",
   "version": "3.8.13"
  }
 },
 "nbformat": 4,
 "nbformat_minor": 5
}
