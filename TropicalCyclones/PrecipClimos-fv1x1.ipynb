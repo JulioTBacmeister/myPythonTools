{
 "cells": [
  {
   "cell_type": "code",
   "execution_count": null,
   "id": "ca2ab8ed-2376-4d0d-bb6b-ee6241ebe057",
   "metadata": {},
   "outputs": [],
   "source": [
    "import xarray as xr\n",
    "import numpy as np\n",
    "import matplotlib.pyplot as plt\n",
    "import pandas as pd\n",
    "\n",
    "import cartopy\n",
    "import cartopy.crs as ccrs\n",
    "import cartopy.feature as cfeature\n",
    "\n",
    "\n",
    "import trax_util as trx\n",
    "\n",
    "import importlib\n",
    "\n",
    "importlib.reload( trx )\n"
   ]
  },
  {
   "cell_type": "raw",
   "id": "2be0f856-ed2d-4c41-ad83-6c21198d19be",
   "metadata": {},
   "source": [
    "GPCP is here:\n",
    "\n",
    "/glade/collections/rda/data/ds728.6/gpcp_v2.3_monthly\n",
    "\n",
    "flies aare\n",
    "gpcp_v02r03_monthly_d198611.nc"
   ]
  },
  {
   "cell_type": "code",
   "execution_count": null,
   "id": "31c8703d-8f01-4f0d-a0a8-1895b2cf9a43",
   "metadata": {},
   "outputs": [],
   "source": [
    "drc1d ='/glade/collections/cdg/data/cmip5/output1/NSF-DOE-NCAR/CESM1-CAM5/amip/mon/atmos/Amon/r1i1p1/files/pr_20120521/'\n",
    "f1d = 'pr_Amon_CESM1-CAM5_amip_r1i1p1_197901-200512.nc'"
   ]
  },
  {
   "cell_type": "code",
   "execution_count": null,
   "id": "a7bd6d13-356c-4ccd-95d6-a7c22d9242af",
   "metadata": {},
   "outputs": [],
   "source": [
    "#dsQd=xr.open_dataset(drcQd+fQd)\n",
    "ds1d=xr.open_dataset(drc1d+f1d)"
   ]
  },
  {
   "cell_type": "code",
   "execution_count": null,
   "id": "5ead044e-0500-4991-af79-9d9085b2ee55",
   "metadata": {},
   "outputs": [],
   "source": [
    "#print(list(dsQd.variables))\n",
    "print(list(ds1d.variables))\n",
    "print(ds1d.pr.shape)\n",
    "nmo,ny,nx = np.shape(ds1d.pr)\n",
    "\n",
    "ds1d.pr"
   ]
  },
  {
   "cell_type": "code",
   "execution_count": null,
   "id": "d0dfe3b7-6355-4b10-bd71-5b849ecdb2ae",
   "metadata": {},
   "outputs": [],
   "source": [
    "print( nmo//12 )\n",
    "Nyr = nmo//12"
   ]
  },
  {
   "cell_type": "code",
   "execution_count": null,
   "id": "80edb379-5267-4e0f-ab5c-b41fe8fd1e27",
   "metadata": {},
   "outputs": [],
   "source": [
    "prec1d = ds1d.pr.values.reshape( Nyr, 12, ny, nx )\n",
    "print( np.shape( prec1d))\n",
    "\n",
    "lat=ds1d.lat\n",
    "lon=ds1d.lon"
   ]
  },
  {
   "cell_type": "code",
   "execution_count": null,
   "id": "51c05508-4f3e-49f7-b211-9ea45a19135e",
   "metadata": {},
   "outputs": [],
   "source": [
    "prec1d_jas= prec1d[:,7:10,:,:]\n",
    "print( np.shape( prec1d_jas))\n",
    "prec1d_jas_av=np.average( np.average( prec1d_jas, axis=1 ) , axis=0 )\n",
    "print( np.shape( prec1d_jas_av))\n"
   ]
  },
  {
   "cell_type": "code",
   "execution_count": null,
   "id": "14faeb5b-2157-467a-9500-b78c2d909230",
   "metadata": {},
   "outputs": [],
   "source": [
    "preclv=np.linspace(0,24,num=16+1)\n",
    "projPC = ccrs.Robinson(central_longitude=180.)\n",
    "data_crs = ccrs.PlateCarree()\n",
    "fig=plt.figure(figsize=(20,12))\n",
    "\n",
    "d01=prec1d_jas_av*86400.\n",
    "ax1 = fig.add_subplot(1, 1, 1 , projection=projPC )\n",
    "ax1.coastlines(resolution='110m',color='black',linewidth=4)\n",
    "po=ax1.contourf( lon, lat, d01 ,levels=preclv,cmap='Blues',transform=data_crs )\n",
    "ax1.spines['geo'].set_linewidth(4)  # change as needed\n",
    "\n",
    "cax = plt.axes([0.93, 0.25, 0.01, 0.5])\n",
    "cbar=plt.colorbar(po,cax=cax,orientation='vertical')\n",
    "cbar.ax.tick_params(labelsize=20)\n",
    "ax1.set_title('CESM1 1x1 Jul-Aug-Sep climo',fontsize=32)"
   ]
  },
  {
   "cell_type": "code",
   "execution_count": null,
   "id": "c0242cd7-4589-474e-914d-830b1f22456a",
   "metadata": {},
   "outputs": [],
   "source": [
    "## Should be done "
   ]
  }
 ],
 "metadata": {
  "kernelspec": {
   "display_name": "NPL 2022b",
   "language": "python",
   "name": "npl-2022b"
  },
  "language_info": {
   "codemirror_mode": {
    "name": "ipython",
    "version": 3
   },
   "file_extension": ".py",
   "mimetype": "text/x-python",
   "name": "python",
   "nbconvert_exporter": "python",
   "pygments_lexer": "ipython3",
   "version": "3.8.13"
  }
 },
 "nbformat": 4,
 "nbformat_minor": 5
}
