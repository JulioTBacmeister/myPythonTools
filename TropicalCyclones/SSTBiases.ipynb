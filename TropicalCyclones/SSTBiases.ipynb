{
 "cells": [
  {
   "cell_type": "code",
   "execution_count": null,
   "id": "ee390e9c-7741-4205-843d-6ad2469ab794",
   "metadata": {},
   "outputs": [],
   "source": [
    "import xarray as xr\n",
    "import numpy as np\n",
    "import matplotlib.pyplot as plt\n",
    "import pandas as pd\n",
    "\n",
    "import importlib\n",
    "\n",
    "\n",
    "import cartopy\n",
    "import cartopy.crs as ccrs\n",
    "import cartopy.feature as cfeature\n",
    "\n"
   ]
  },
  {
   "cell_type": "raw",
   "id": "c19f8ef7-7e0b-4994-b198-f86084a6c514",
   "metadata": {},
   "source": [
    "\n",
    "LENS2 data:\n",
    "/glade/campaign/cgd/cesm/CESM2-LE/atm/proc/tseries/month_1/SST\n",
    "e.g/:\n",
    "\n",
    "b.e21.BSSP370cmip6.f09_g17.LE2-1001.001.cam.h0.TS.201501-202412.nc\n",
    "                                ^^^ year of B1850 for IC\n",
    "\n",
    "LENS1 data:\n",
    "/glade/campaign/cesm/collections/cesmLE/CESM-CAM5-BGC-LE/atm/proc/tseries/monthly/TS/\n",
    "e.g.\n",
    "\n",
    "\n",
    "b.e11.BRCP85C5CNBDRD.f09_g16.001.cam.h0.TS.200601-208012.nc\n",
    "b.e11.BRCP85C5CNBDRD.f09_g16.033.cam.h0.TS.208101-210012.nc\n",
    "b.e11.B20TRLENS_RCP85.f09_g16.xaer.006.cam.h0.TS.200601-208012.nc\n",
    "\n",
    "\n",
    "RCP85 \"SST1\"\n",
    "/glade/p/cesmdata/cseg/inputdata/ocn/docn7/RCP8.5/sstice_RCP85_2006-2100_c131008.nc\n",
    "\n",
    "Original SST for \"SST1\"\n",
    "/glade/collections/cdg/data/cmip5/output1/NSF-DOE-NCAR/CESM1-CAM5/historical/mon/atmos/Amon/r3i1p1/files/20130302/\n",
    "ts_Amon_CESM1-CAM5_historical_r3i1p1_185001-200512.nc\n",
    "\n",
    "Hurrell SST:\n",
    "/glade/p/cesmdata/cseg/inputdata/ocn/docn7/SSTDATA/hurrell_sst_ifrac.1x1.050606.nc\n",
    "\n",
    "Hadley-OI SSTs\n",
    "/glade/p/cesmdata/cseg/inputdata/atm/cam/sst/sst_HadOIBl_bc_0.9x1.25_1850_2017_c180507.nc"
   ]
  },
  {
   "cell_type": "code",
   "execution_count": null,
   "id": "5a09519f-e046-4cf7-8572-757fbf3dac7c",
   "metadata": {},
   "outputs": [],
   "source": [
    "\n",
    "lnd_file = '/glade/p/cesmdata/cseg/inputdata/atm/cam/topo/fv0.9x1.25-gmted2010_modis-smooth_cam.nc'\n",
    "sst_file = '/glade/p/cesmdata/cseg/inputdata/atm/cam/sst/sst_HadOIBl_bc_0.9x1.25_1850_2017_c180507.nc'\n",
    "dLnd = xr.open_dataset(lnd_file) \n",
    "lfrac=dLnd.LANDFRAC.values\n",
    "\n",
    "dHSST = xr.open_dataset(sst_file ) \n",
    "sst=dHSST.SST_cpl.values\n",
    "print(sst.shape)\n",
    "print( list(dHSST.variables))\n",
    "dates=dHSST.date\n",
    "print(dates.values[-1-1:-1])\n",
    "dHSST.SST_cpl.attrs"
   ]
  },
  {
   "cell_type": "code",
   "execution_count": null,
   "id": "6811e4bb-2dd6-4145-9aa8-2586c478a6c3",
   "metadata": {},
   "outputs": [],
   "source": [
    "plt.contourf(lfrac[:,:])\n",
    "plt.colorbar()"
   ]
  },
  {
   "cell_type": "markdown",
   "id": "913a6e16-15d4-493f-8a22-68270abbadc7",
   "metadata": {},
   "source": [
    "# Presumablry the CESM1 run used to make errors for 2018 paper"
   ]
  },
  {
   "cell_type": "code",
   "execution_count": null,
   "id": "3e08716f-961e-4a3c-b3f8-2d383dd9a107",
   "metadata": {},
   "outputs": [],
   "source": [
    "b40sst='/glade/collections/cdg/data/cmip5/output1/NSF-DOE-NCAR/CESM1-CAM5/historical/mon/atmos/Amon/r3i1p1/files/ts_20130302/'\n",
    "b40sst=b40sst+'ts_Amon_CESM1-CAM5_historical_r3i1p1_185001-200512.nc'\n",
    "\n",
    "dB40 = xr.open_dataset(b40sst)\n"
   ]
  },
  {
   "cell_type": "code",
   "execution_count": null,
   "id": "a45c7c5c-2101-42b1-90a6-e4c398b1f706",
   "metadata": {},
   "outputs": [],
   "source": [
    "iiii=1584-12\n",
    "Ny=20\n",
    "print(dB40.time_bnds[iiii,:].values[0])\n",
    "print(dB40.time_bnds[iiii+Ny*12,:].values[0])\n",
    "\n",
    "print(dates[iiii].values)"
   ]
  },
  {
   "cell_type": "code",
   "execution_count": null,
   "id": "f281b122-29cb-4d5a-b566-f5e17d586f6f",
   "metadata": {},
   "outputs": [],
   "source": [
    "subsst_Had=sst[iiii:iiii+Ny*12,:,:].reshape(Ny,12,192,288) + 273.15\n",
    "subsst_Ce1=dB40.ts.values[iiii:iiii+Ny*12,:,:].reshape(Ny,12,192,288)\n",
    "print(np.shape(subsst_Ce1))\n",
    "\n",
    "lat=dB40.lat.values\n",
    "lon=dB40.lon.values"
   ]
  },
  {
   "cell_type": "code",
   "execution_count": null,
   "id": "0c4646aa-e006-4b26-b541-54a431016d41",
   "metadata": {},
   "outputs": [],
   "source": [
    "fig=plt.figure(figsize=(20,10))\n",
    "projPC = ccrs.PlateCarree(central_longitude=180.) #ccrs.Robinson(central_longitude=180.)\n",
    "data_crs = ccrs.PlateCarree()\n",
    "\n",
    "mons=['Jan','Feb','Mar','Apr','May','Jun','Jul','Aug','Sep','Oct','Nov','Dec']\n",
    "\n",
    "for ip in np.arange(12):\n",
    "    dlv=np.linspace(-4,4,num=17)\n",
    "    d01=np.average( subsst_Ce1[:,ip,:,:]-subsst_Had[:,ip,:,:], axis=0 )\n",
    "    ax1 = fig.add_subplot(3, 4, ip+1 , projection=projPC )\n",
    "    co = ax1.coastlines(resolution='110m',color='black')\n",
    "    po=ax1.contourf(lon,lat,d01,levels=dlv,cmap='bwr',  transform=data_crs )\n",
    "    #plt.colorbar()\n",
    "    #plt.plot(subsst_Had[0,:,:,:].flatten())\n",
    "    ax1.set_title( mons[ip] )\n",
    "\n",
    "cax = plt.axes([0.25, 0.05, 0.5, 0.02])\n",
    "plt.colorbar(po,cax=cax,orientation='horizontal')\n"
   ]
  },
  {
   "cell_type": "code",
   "execution_count": null,
   "id": "df5b06ba-f401-4f8b-b866-eca1a821e739",
   "metadata": {},
   "outputs": [],
   "source": []
  }
 ],
 "metadata": {
  "kernelspec": {
   "display_name": "NPL 2022b",
   "language": "python",
   "name": "npl-2022b"
  },
  "language_info": {
   "codemirror_mode": {
    "name": "ipython",
    "version": 3
   },
   "file_extension": ".py",
   "mimetype": "text/x-python",
   "name": "python",
   "nbconvert_exporter": "python",
   "pygments_lexer": "ipython3",
   "version": "3.8.13"
  }
 },
 "nbformat": 4,
 "nbformat_minor": 5
}
