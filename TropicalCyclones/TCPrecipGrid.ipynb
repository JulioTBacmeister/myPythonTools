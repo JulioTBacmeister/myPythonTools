{
 "cells": [
  {
   "cell_type": "code",
   "execution_count": null,
   "id": "ca2ab8ed-2376-4d0d-bb6b-ee6241ebe057",
   "metadata": {},
   "outputs": [],
   "source": [
    "import xarray as xr\n",
    "import numpy as np\n",
    "import matplotlib.pyplot as plt\n",
    "import pandas as pd\n",
    "\n",
    "import cartopy\n",
    "import cartopy.crs as ccrs\n",
    "import cartopy.feature as cfeature\n",
    "\n",
    "\n",
    "import trax_util as trx\n",
    "\n",
    "import importlib\n",
    "\n",
    "import time as TimeUtils\n",
    "\n",
    "import sys\n",
    "# import modules in other directories\n",
    "sys.path.append('/glade/work/juliob/PyRegridding/Regridder/')\n",
    "\n",
    "\n",
    "import esmfRegrid as erg\n",
    "\n",
    "\n",
    "importlib.reload( trx )\n"
   ]
  },
  {
   "cell_type": "code",
   "execution_count": null,
   "id": "01448c1e-7a53-4cc2-b8aa-7f77e7745cde",
   "metadata": {},
   "outputs": [],
   "source": [
    "Ret=6378.1"
   ]
  },
  {
   "cell_type": "code",
   "execution_count": null,
   "id": "e188af80-5758-4619-b077-ee57770ad574",
   "metadata": {},
   "outputs": [],
   "source": [
    "def write_netcdf(time,time_bnds,lat,lon,data,fname):\n",
    "    dims   = [\"nlon\",\"nlat\",\"ntime\",\"nbnd\"]\n",
    "    coords = dict( \n",
    "        lon  = ( [\"lon\"],lon ),\n",
    "        lat  = ( [\"lat\"],lat ),\n",
    "        time = ( [\"time\"], time ), \n",
    "            )\n",
    "    dS = xr.Dataset( coords=coords  )\n",
    "    dS[\"time_bnds\"]=time_bnds\n",
    "    Dar = xr.DataArray( data=data, dims=('time','lat','lon',),\n",
    "                        attrs=dict( description='TC-precipitation',units='ms-1',) ,) \n",
    "    dS[\"TCPRECT\"]=Dar\n",
    "    \n",
    "    dS.to_netcdf( fname )\n"
   ]
  },
  {
   "cell_type": "markdown",
   "id": "1ceaecb0-9f91-4db4-a7d5-6d6cd80b3df1",
   "metadata": {},
   "source": [
    "## create ESMF regridding objects -- takes a while"
   ]
  },
  {
   "cell_type": "code",
   "execution_count": null,
   "id": "2eb7c264-15b5-4202-be9c-510e2c1bf094",
   "metadata": {},
   "outputs": [],
   "source": [
    "scrip_dir = '/glade/p/cesmdata/cseg/inputdata/share/scripgrids/'\n",
    "dst_scrip = scrip_dir + 'fv0.23x0.31_141008.nc'\n",
    "src_scrip = scrip_dir + 'ne120np4_pentagons_100310.nc'\n",
    "\n",
    "dst1d_scrip = scrip_dir + 'fv0.9x1.25_141008.nc'\n",
    "\n",
    "#ne120 ==> latlon 0.25 degree\n",
    "regrd, srcf, dstf = erg.Regrid(srcScrip = src_scrip , \n",
    "                                srcType  = 'mesh'  ,\n",
    "                                dstScrip = dst_scrip ,\n",
    "                                dstType  = 'grid'   )\n"
   ]
  },
  {
   "cell_type": "code",
   "execution_count": null,
   "id": "13f37815-feb5-40b6-8709-fffdd14763c8",
   "metadata": {},
   "outputs": [],
   "source": [
    "DstFieldData = dstf.data\n",
    "nx,ny = np.shape( DstFieldData ) # Note ESMF objects are transposed \n",
    "print(nx,ny)"
   ]
  },
  {
   "cell_type": "code",
   "execution_count": null,
   "id": "7f6104b6-55d0-418f-981c-90991dc4a5d3",
   "metadata": {},
   "outputs": [],
   "source": [
    "Scr=xr.open_dataset( dst_scrip )\n",
    "latQd_yx = Scr.grid_center_lat.values.reshape( (ny, nx ) )\n",
    "lonQd_yx = Scr.grid_center_lon.values.reshape( (ny, nx ) )\n",
    "lonQd = lonQd_yx[0,:]\n",
    "latQd = latQd_yx[:,0]"
   ]
  },
  {
   "cell_type": "markdown",
   "id": "844ccc21-ed65-4dea-956a-9109f521620a",
   "metadata": {},
   "source": [
    "## Read in a track file"
   ]
  },
  {
   "cell_type": "code",
   "execution_count": null,
   "id": "51275871-01dc-4a4b-bd76-c744b62cc6c5",
   "metadata": {},
   "outputs": [],
   "source": [
    "power_wind=(1./6.)**(0.11)\n",
    "trk=trx.readtrx( trx.rcp85fname(sst='sst2') , power_wind=power_wind )"
   ]
  },
  {
   "cell_type": "code",
   "execution_count": null,
   "id": "fabafa2c-f6a6-4c1d-8895-485722ab38a1",
   "metadata": {},
   "outputs": [],
   "source": [
    "nstorms,ntraxtime = np.shape( trk.lat )\n",
    "print( trk.hour[0,0:2])\n",
    "prectrk=np.zeros((nstorms,ntraxtime) )"
   ]
  },
  {
   "cell_type": "markdown",
   "id": "60c124cf-63e6-436c-8828-e7fa32940519",
   "metadata": {},
   "source": [
    "## Reshape track stuff "
   ]
  },
  {
   "cell_type": "code",
   "execution_count": null,
   "id": "3175d14a-4065-43c5-b32f-9a6c8d7f0e0b",
   "metadata": {},
   "outputs": [],
   "source": [
    "lonR=trk.lon.reshape( nstorms*ntraxtime )\n",
    "latR=trk.lat.reshape( nstorms*ntraxtime )\n",
    "yearR=trk.year.reshape( nstorms*ntraxtime )\n",
    "monthR=trk.month.reshape( nstorms*ntraxtime )\n",
    "dayR=trk.day.reshape( nstorms*ntraxtime )\n",
    "hourR=trk.hour.reshape( nstorms*ntraxtime )\n",
    "\n",
    "prectrkR = np.zeros( (nstorms*ntraxtime ))"
   ]
  },
  {
   "cell_type": "code",
   "execution_count": null,
   "id": "4984aa1e-44c5-4b8e-a4a3-75cef8586c4d",
   "metadata": {},
   "outputs": [],
   "source": [
    "\"\"\"\n",
    "drc='/glade/campaign/cgd/ccr/nanr/HPSS/tokeep/TIMESLICE/atm/proc/tseries/hourly3/PRECT/'\n",
    "basename = 'f.e13.FAMIPC5.ne120_ne120.RCP85_2070_2099_sst2.001.cam.h4.PRECT.'\n",
    "y=2070\n",
    "yA=str(y).zfill(4)\n",
    "fname=drc+basename+yA+'010100Z-'+yA+'123121Z.nc'\n",
    "dQ=xr.open_dataset( fname )\n",
    "dQ\n",
    "\"\"\""
   ]
  },
  {
   "cell_type": "code",
   "execution_count": null,
   "id": "35c6fbe3-4f7c-47a2-9004-cf0d21f957ff",
   "metadata": {},
   "outputs": [],
   "source": [
    "#print(list(dQ.variables))\n",
    "yearm=trk.year+trk.month/12.\n",
    "oop=np.where( (yearm[:,0]>2069.9) & (yearm[:,0]<2071.) )\n",
    "#print(np.min(oop[0]),np.max(oop[0]) )\n",
    "#print( yearm[ oop[0],0] )\n",
    "loo=np.linspace(1.,501,num=5)\n",
    "tic_overall = TimeUtils.perf_counter()\n",
    "\n",
    "drc='/glade/campaign/cgd/ccr/nanr/HPSS/tokeep/TIMESLICE/atm/proc/tseries/hourly3/PRECT/'\n",
    "basename = 'f.e13.FAMIPC5.ne120_ne120.RCP85_2070_2099_sst2.001.cam.h4.PRECT.'\n",
    "drc_o='/glade/campaign/cgd/amp/juliob/TC-cesm1/precip/'\n",
    "basename_o = 'f.e13.FAMIPC5.ne120_ne120.RCP85_2070_2099_sst2.001.cam.h4.TCPRECT.'\n",
    "\n",
    "for y in np.arange(start=2071,stop=2073):\n",
    "    yA=str(y).zfill(4)\n",
    "    fname=drc+basename+yA+'010100Z-'+yA+'123121Z.nc'\n",
    "    fname_o=drc_o+basename_o+yA+'010100Z-'+yA+'123121Z.nc'\n",
    "    dQ=xr.open_dataset( fname )\n",
    "    nt = dQ.dims['time']\n",
    "    prec_TC = np.zeros( (nt , ny, nx ) )\n",
    "    \n",
    "    for t in np.arange(nt):\n",
    "        #for t in np.arange(110):\n",
    "        time=dQ.time[t].values.item()\n",
    "\n",
    "        prcQd = dQ.PRECT[t,:].values\n",
    "\n",
    "        prcQd_yx = erg.HorzRG(aSrc = prcQd , \n",
    "                    regrd = regrd , \n",
    "                    srcField=srcf , \n",
    "                    dstField=dstf , \n",
    "                    srcGridkey='c' ,\n",
    "                    dstGridkey='yx' ) \n",
    "\n",
    "        oop=np.where((yearR==time.year) &\n",
    "                     (monthR==time.month) &\n",
    "                     (dayR==time.day) &\n",
    "                     (hourR==time.hour) )\n",
    "    \n",
    "        for u in oop[0]:\n",
    "            if((yearR[u] == time.year) and\n",
    "                (monthR[u] == time.month) and \n",
    "                (dayR[u] == time.day) and\n",
    "                (hourR[u] == time.hour) ):\n",
    "                precTC,js,jn,iw,ie = trx.Prec500grid( lonR[u],latR[u],lonQd,latQd,prcQd_yx)\n",
    "                #print( np.shape(precTC),np.shape(prec_TC[t,js:jn,iw:ie]),js,jn,iw,ie )\n",
    "                prec_TC[t,js:jn,iw:ie] = prec_TC[t,js:jn,iw:ie] + precTC\n",
    "            \n",
    "                \n",
    "        if ((t % 100)==0):\n",
    "            print( nt, t, time.year,time.month,time.day,time.hour )\n",
    "            \n",
    "    write_netcdf(dQ.time.data,dQ.time_bnds,latQd,lonQd,prec_TC,fname_o)\n",
    "    print( \"wrote\",fname_o )\n",
    "    \n",
    "toc_overall = TimeUtils.perf_counter()\n",
    "pTime = f\"Overall time creating prec-500   {toc_overall - tic_overall:0.4f} seconds\"\n",
    "print(pTime)"
   ]
  },
  {
   "cell_type": "code",
   "execution_count": null,
   "id": "842cd5e0-7bcc-4208-af93-f1778175cfe3",
   "metadata": {},
   "outputs": [],
   "source": [
    "dU=xr.open_dataset( fname_o )\n",
    "print(list(dU.variables))"
   ]
  },
  {
   "cell_type": "code",
   "execution_count": null,
   "id": "daad1de3-760c-4c6e-a56b-4af5aa246896",
   "metadata": {},
   "outputs": [],
   "source": [
    "poo=np.zeros((ny,nx)) \n",
    "for t in np.arange( nt ):\n",
    "    poo=poo+dU.TCPRECT[t,:,:].values\n",
    "    if ((t % 100)==0):\n",
    "        print( nt, t )\n"
   ]
  },
  {
   "cell_type": "code",
   "execution_count": null,
   "id": "a2ddcc79-83ba-46cb-a3c7-2c882bb28a30",
   "metadata": {},
   "outputs": [],
   "source": [
    "print(np.shape(trk.lon))\n",
    "#plt.contourf( lonQd,latQd, 1000.*86400.*poo/nt,levels=np.linspace(0.1,2.1,num=11) )\n",
    "#plt.colorbar()"
   ]
  },
  {
   "cell_type": "code",
   "execution_count": null,
   "id": "f6aed5dc-9edb-45fb-8093-750b5dfa0679",
   "metadata": {},
   "outputs": [],
   "source": [
    "TCprecav=1000.*86400.*poo/nt\n",
    "\n",
    "preclv=np.linspace(0.1,2.1,num=11) \n",
    "projPC = ccrs.Robinson(central_longitude=0.)\n",
    "data_crs = ccrs.PlateCarree()\n",
    "fig=plt.figure(figsize=(20,12))\n",
    "\n",
    "d01=prcQd_yx*86400.*1000.\n",
    "ax1 = fig.add_subplot(1, 1, 1 , projection=projPC )\n",
    "\n",
    "ax1.coastlines(resolution='110m',color='black',linewidth=4)\n",
    "ax1.contourf( lonQd, latQd, TCprecav ,levels=preclv,cmap='Blues',transform=data_crs )\n",
    "for ns in np.arange( 1784 ):\n",
    "    if (trk.year[ns,0]==2072):\n",
    "        zoo=ax1.plot( trk.lon[ns,:], trk.lat[ns,:], transform=data_crs  )\n",
    "\n",
    "\n",
    "ax1.spines['geo'].set_linewidth(4)  # change as needed"
   ]
  },
  {
   "cell_type": "code",
   "execution_count": null,
   "id": "b1696cf4-616b-43c7-a3bc-bea3adca9438",
   "metadata": {},
   "outputs": [],
   "source": [
    "#### STOP HERE???"
   ]
  },
  {
   "cell_type": "code",
   "execution_count": null,
   "id": "1c88e3ab-9601-4572-90c6-9e24c433751d",
   "metadata": {},
   "outputs": [],
   "source": [
    "prectrk = np.reshape( prectrkR, (nstorms,ntraxtime))\n",
    "print(np.shape(prectrk))"
   ]
  },
  {
   "cell_type": "code",
   "execution_count": null,
   "id": "7e5547a2-8192-467f-a95c-7a05fe13afe0",
   "metadata": {},
   "outputs": [],
   "source": [
    "plt.scatter( trk.lon.flatten()[0:10_000] ,trk.lat.flatten()[0:10_000], c=1000.*86400*prectrk.flatten()[0:10_000],vmin=5,vmax=100)"
   ]
  },
  {
   "cell_type": "code",
   "execution_count": null,
   "id": "bfdb0a52-cf1d-4c96-a514-72115a0827dd",
   "metadata": {},
   "outputs": [],
   "source": [
    "plt.plot(prectrkR)"
   ]
  },
  {
   "cell_type": "code",
   "execution_count": null,
   "id": "8475a52e-1412-4ce8-b370-e19623dce0ea",
   "metadata": {},
   "outputs": [],
   "source": [
    "plt.plot(np.linspace(0,1))"
   ]
  },
  {
   "cell_type": "code",
   "execution_count": null,
   "id": "fed98dbf-28b0-4a5c-9429-53ce1c03f2f2",
   "metadata": {},
   "outputs": [],
   "source": []
  },
  {
   "cell_type": "code",
   "execution_count": null,
   "id": "ee7e23e4-81eb-4dbb-a355-cfbea7655e3a",
   "metadata": {},
   "outputs": [],
   "source": [
    " ,trk.lat.flatten()[0:20_000], c=1000.*86400*prectrk.flatten()[0:20_000],vmin=5,vmax=100)"
   ]
  },
  {
   "cell_type": "code",
   "execution_count": null,
   "id": "a7b5708a-64f3-4879-aa4d-955ae789ae2e",
   "metadata": {},
   "outputs": [],
   "source": [
    "plt.plot((1000./(21*21))*86400*prectrk[0:66,:].flatten())"
   ]
  },
  {
   "cell_type": "code",
   "execution_count": null,
   "id": "e3687a5f-f671-426d-9896-6197baa7c92b",
   "metadata": {},
   "outputs": [],
   "source": [
    "yearm=trk.year+trk.month/12.\n",
    "oop=np.where( (yearm[:,0]>2098.9) & (yearm[:,0]<2100.) )\n",
    "print(np.min(oop[0]),np.max(oop[0]) )\n",
    "print( yearm[ oop[0],0] )"
   ]
  },
  {
   "cell_type": "code",
   "execution_count": null,
   "id": "11c23ef1-e6ee-44e3-a3fc-5a8c4efdb021",
   "metadata": {},
   "outputs": [],
   "source": [
    "lonQd=dsQd.lon.values\n",
    "latQd=dsQd.lat.values\n",
    "prcQd = prcQd / Nyr"
   ]
  },
  {
   "cell_type": "code",
   "execution_count": null,
   "id": "d030f656-c66c-482e-ad0c-32f5bc510476",
   "metadata": {},
   "outputs": [],
   "source": [
    "prcQd_yx = erg.HorzRG(aSrc = prcQd , \n",
    "                regrd = regrd , \n",
    "                srcField=srcf , \n",
    "                dstField=dstf , \n",
    "                srcGridkey='c' ,\n",
    "                dstGridkey='yx' ) \n"
   ]
  },
  {
   "cell_type": "code",
   "execution_count": null,
   "id": "3df3a3ec-280c-451b-a9c5-ecfdcfa5af3a",
   "metadata": {},
   "outputs": [],
   "source": [
    "prc1d_yx = erg.HorzRG(aSrc = prcQd , \n",
    "                regrd = regrd1d , \n",
    "                srcField=srcf1d , \n",
    "                dstField=dstf1d , \n",
    "                srcGridkey='c' ,\n",
    "                dstGridkey='yx' ) \n"
   ]
  },
  {
   "cell_type": "code",
   "execution_count": null,
   "id": "46fd6865-b3ab-4fbd-a9c0-06eecc2534d2",
   "metadata": {},
   "outputs": [],
   "source": [
    "print(np.shape(prcQd_yx))\n",
    "Scr=xr.open_dataset( dst_scrip )\n",
    "latQd_yx = Scr.grid_center_lat.values.reshape( (768, 1152 ) )\n",
    "lonQd_yx = Scr.grid_center_lon.values.reshape( (768, 1152 ) )\n",
    "#plt.contour(latQd_yx)\n",
    "#plt.contour(lonQd_yx)\n"
   ]
  },
  {
   "cell_type": "code",
   "execution_count": null,
   "id": "0651ba0a-0da8-4f87-ad77-9f6f169a87bb",
   "metadata": {},
   "outputs": [],
   "source": [
    "print(np.shape(prc1d_yx))\n",
    "ny1d,nx1d = np.shape(prc1d_yx)\n",
    "Scr=xr.open_dataset( dst1d_scrip )\n",
    "lat1d_yx = Scr.grid_center_lat.values.reshape( (ny1d, nx1d ) )\n",
    "lon1d_yx = Scr.grid_center_lon.values.reshape( (ny1d, nx1d ) )\n",
    "#plt.contour(latQd_yx)\n",
    "#plt.contour(lonQd_yx)\n"
   ]
  },
  {
   "cell_type": "code",
   "execution_count": null,
   "id": "4c722c20-03d7-42e3-b15b-308f03272640",
   "metadata": {},
   "outputs": [],
   "source": [
    "preclv=np.linspace(0,32,num=16+1)\n",
    "projPC = ccrs.Robinson(central_longitude=0.)\n",
    "data_crs = ccrs.PlateCarree()\n",
    "fig=plt.figure(figsize=(20,12))\n",
    "\n",
    "d01=prcQd_yx*86400.*1000.\n",
    "ax1 = fig.add_subplot(1, 1, 1 , projection=projPC )\n",
    "ax1.coastlines(resolution='110m',color='black',linewidth=4)\n",
    "ax1.contourf( lonQd_yx, latQd_yx, d01 ,levels=preclv,cmap='Blues',transform=data_crs )\n",
    "ax1.spines['geo'].set_linewidth(4)  # change as needed\n"
   ]
  },
  {
   "cell_type": "code",
   "execution_count": null,
   "id": "fc7cd337-3bc9-496d-acf7-fc744a32b9e6",
   "metadata": {},
   "outputs": [],
   "source": [
    "preclv=np.linspace(0,24,num=16+1)\n",
    "projPC = ccrs.Robinson(central_longitude=180.)\n",
    "data_crs = ccrs.PlateCarree()\n",
    "fig=plt.figure(figsize=(20,12))\n",
    "\n",
    "d01=prc1d_yx*86400.*1000.\n",
    "ax1 = fig.add_subplot(1, 1, 1 , projection=projPC )\n",
    "ax1.coastlines(resolution='110m',color='black',linewidth=4)\n",
    "po=ax1.contourf( lon1d_yx, lat1d_yx, d01 ,levels=preclv,cmap='Blues',transform=data_crs )\n",
    "ax1.spines['geo'].set_linewidth(4)  # change as needed\n",
    "\n",
    "cax = plt.axes([0.93, 0.25, 0.01, 0.5])\n",
    "cbar=plt.colorbar(po,cax=cax,orientation='vertical')\n",
    "cbar.ax.tick_params(labelsize=20)\n",
    "ax1.set_title('CESM1 ne120 Jul-Aug-Sep climo',fontsize=32)"
   ]
  },
  {
   "cell_type": "code",
   "execution_count": null,
   "id": "ec2f1b5f-b665-49d2-bd37-9258a4d25d02",
   "metadata": {},
   "outputs": [],
   "source": []
  },
  {
   "cell_type": "code",
   "execution_count": null,
   "id": "c0242cd7-4589-474e-914d-830b1f22456a",
   "metadata": {},
   "outputs": [],
   "source": [
    "## Should be done \n",
    "## np.savez('arrays.npz', arr1=arr1, arr2=arr2, arr3=arr3)\n",
    "npSaveFile = '/glade/work/juliob/NumPySaves/ne120-JAS-e01-1980-2012.npz'\n",
    "np.savez( npSaveFile , prec=prcQd, lat=latQd, lon=lonQd )"
   ]
  }
 ],
 "metadata": {
  "kernelspec": {
   "display_name": "NPL 2022b",
   "language": "python",
   "name": "npl-2022b"
  },
  "language_info": {
   "codemirror_mode": {
    "name": "ipython",
    "version": 3
   },
   "file_extension": ".py",
   "mimetype": "text/x-python",
   "name": "python",
   "nbconvert_exporter": "python",
   "pygments_lexer": "ipython3",
   "version": "3.8.13"
  }
 },
 "nbformat": 4,
 "nbformat_minor": 5
}
