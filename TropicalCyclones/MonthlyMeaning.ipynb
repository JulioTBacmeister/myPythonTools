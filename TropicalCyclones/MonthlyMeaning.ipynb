{
 "cells": [
  {
   "cell_type": "code",
   "execution_count": null,
   "id": "e73322a4-a53b-45ff-a097-5aed866c3e9c",
   "metadata": {},
   "outputs": [],
   "source": [
    "import sys\n",
    "# import modules in other directories\n",
    "sys.path.append('../Utils')\n",
    "\n",
    "import xarray as xr\n",
    "import numpy as np\n",
    "import matplotlib.pyplot as plt\n",
    "import pandas as pd\n",
    "\n",
    "import trax_util as trx\n",
    "import ibtracs as IBT\n",
    "import TRMM_util as trmm\n",
    "import Precip_util as prc\n",
    "\n",
    "import importlib\n",
    "import time as TimeUtil\n",
    "\n",
    "import dask\n",
    "\n",
    "importlib.reload ( trmm )\n",
    "importlib.reload ( prc )\n",
    "\n",
    "\n",
    "##\n"
   ]
  },
  {
   "cell_type": "code",
   "execution_count": null,
   "id": "e8f5e209-53b3-4a32-ad38-c2d7585da5e2",
   "metadata": {},
   "outputs": [],
   "source": [
    "###\n",
    "drc_o='/glade/campaign/cgd/amp/juliob/TC-cesm1/precip/'\n",
    "drc_o='/glade/campaign/cgd/ccr/nanr/HPSS/tokeep/TIMESLICE/atm/proc/tseries/hourly3/PRECT/'\n",
    "\n",
    "year0,year1 = 1979,2012 #,2012\n",
    "for e in np.arange( start=2,stop=4 ):\n",
    "    nyrs = 0\n",
    "    prec_grand_av = 0.\n",
    "    BaseName = trx.pdfname(ens=e,justBaseName=True) \n",
    "    print( f\"BaseName is  {BaseName} \" )\n",
    "    basename_o = BaseName + 'cam.h4.PRECT.'\n",
    "    for Yr in np.arange( start=year0 , stop=year1+1 ):\n",
    "        yA = str( Yr ).zfill(4)\n",
    "        fname =drc_o+basename_o+yA+'010100Z-'+yA+'123121Z.nc'\n"
   ]
  },
  {
   "cell_type": "code",
   "execution_count": null,
   "id": "409cd973-2d4c-4d7c-870e-a836c7db25d1",
   "metadata": {},
   "outputs": [],
   "source": [
    "print(fname)"
   ]
  },
  {
   "cell_type": "code",
   "execution_count": null,
   "id": "761fd5e1-ceee-4374-9234-1f0e02492110",
   "metadata": {},
   "outputs": [],
   "source": [
    "ds=xr.open_dataset( fname )\n"
   ]
  },
  {
   "cell_type": "code",
   "execution_count": null,
   "id": "ee70334e-c193-4d31-b358-c2ece095acd8",
   "metadata": {},
   "outputs": [],
   "source": [
    "ds"
   ]
  },
  {
   "cell_type": "code",
   "execution_count": null,
   "id": "ca1b5308-116b-44ca-9350-b6dc48b168f3",
   "metadata": {},
   "outputs": [],
   "source": [
    "ds.time"
   ]
  },
  {
   "cell_type": "code",
   "execution_count": null,
   "id": "6d34a47b-d9d4-4603-9bf4-c27e0502b059",
   "metadata": {},
   "outputs": [],
   "source": [
    "da=ds.PRECT\n",
    "tic=TimeUtil.perf_counter()\n",
    "monthly_average = da.resample(time='1M').mean('time')\n",
    "toc=TimeUtil.perf_counter()\n",
    "print(f\"Overall time monthly precip via Xarray resmaple   {toc - tic:0.4f} seconds\")\n"
   ]
  },
  {
   "cell_type": "code",
   "execution_count": null,
   "id": "4325d830-a194-475f-8966-bc3b67420cee",
   "metadata": {},
   "outputs": [],
   "source": [
    "tic=TimeUtil.perf_counter()\n",
    "for m in np.arange(start=1,stop=13):\n",
    "    poo=prc.monthlymean( precip=ds.PRECT, time=ds.time,month=m ,Gridkey='tc',verby=True)\n",
    "toc=TimeUtil.perf_counter()\n",
    "print(f\"Overall time monthly precip via numpy arrays   {toc - tic:0.4f} seconds\")\n",
    "\n"
   ]
  },
  {
   "cell_type": "code",
   "execution_count": null,
   "id": "f9fe8883-6130-44ff-ba7e-e0eaf7c12024",
   "metadata": {},
   "outputs": [],
   "source": [
    "print(np.shape(monthly_average))"
   ]
  },
  {
   "cell_type": "code",
   "execution_count": null,
   "id": "24966600-302f-4a84-b355-f0d250d9a509",
   "metadata": {},
   "outputs": [],
   "source": [
    "monthly_average.dims"
   ]
  },
  {
   "cell_type": "code",
   "execution_count": null,
   "id": "ce10c2da-c170-45ef-aadc-ebf201ef6e10",
   "metadata": {},
   "outputs": [],
   "source": [
    "poo=monthly_average.to_dataset(name='PRECT')"
   ]
  },
  {
   "cell_type": "code",
   "execution_count": null,
   "id": "77118db2-542e-46d7-871c-dd99eebfbd19",
   "metadata": {},
   "outputs": [],
   "source": [
    "poo"
   ]
  },
  {
   "cell_type": "code",
   "execution_count": null,
   "id": "1dbaf640-0ae7-479e-b83d-6a2771a7610c",
   "metadata": {},
   "outputs": [],
   "source": []
  }
 ],
 "metadata": {
  "kernelspec": {
   "display_name": "NPL 2022b",
   "language": "python",
   "name": "npl-2022b"
  },
  "language_info": {
   "codemirror_mode": {
    "name": "ipython",
    "version": 3
   },
   "file_extension": ".py",
   "mimetype": "text/x-python",
   "name": "python",
   "nbconvert_exporter": "python",
   "pygments_lexer": "ipython3",
   "version": "3.8.13"
  }
 },
 "nbformat": 4,
 "nbformat_minor": 5
}
