{
 "cells": [
  {
   "cell_type": "code",
   "execution_count": null,
   "id": "f220922d-99ea-48db-864e-f70bdb5ab406",
   "metadata": {},
   "outputs": [],
   "source": [
    "#####################################\n",
    "# This creates figures\n",
    "#   RCP_ACE_Bars.png \n",
    "#   PD-Yearly-timeser.png\n",
    "# in paper\n",
    "#####################################\n",
    "import sys\n",
    "# import modules in other directories\n",
    "sys.path.append('../Utils/')\n",
    "\n",
    "import xarray as xr\n",
    "import numpy as np\n",
    "import matplotlib.pyplot as plt\n",
    "import pandas as pd\n",
    "\n",
    "\n",
    "import trax_util as trx\n",
    "import ibtracs as IBT\n",
    "import PlotUtil as Pu\n",
    "\n",
    "\n",
    "import importlib\n",
    "\n",
    "importlib.reload( Pu )\n",
    "importlib.reload( trx )\n",
    "importlib.reload( IBT )\n"
   ]
  },
  {
   "cell_type": "code",
   "execution_count": null,
   "id": "098500bb-08b1-4f59-a727-ab41a8ba887c",
   "metadata": {},
   "outputs": [],
   "source": [
    "#####\n",
    "ibx=IBT.readtrx()\n",
    "pd1=trx.readtrx( trx.pdfname(ens=1) )\n",
    "pd2=trx.readtrx( trx.pdfname(ens=2) )\n",
    "pd3=trx.readtrx( trx.pdfname(ens=3) )\n",
    "#ibx=IBT.readtrx(Fill_NI_before_1990=False)\n"
   ]
  },
  {
   "cell_type": "code",
   "execution_count": null,
   "id": "d99e49c1-725d-4196-a3ac-23e5dd2242f0",
   "metadata": {},
   "outputs": [],
   "source": [
    "rc1=trx.readtrx( trx.rcp85fname(sst='sst1') )\n",
    "rc2=trx.readtrx( trx.rcp85fname(sst='sst2') )\n",
    "rc3=trx.readtrx( trx.rcp85fname(sst='sst3') )\n",
    "rc4=trx.readtrx( trx.rcp85fname(sst='sst4') )\n",
    "rc5=trx.readtrx( trx.rcp85fname(sst='sst5') )\n",
    "rc6=trx.readtrx( trx.rcp85fname(sst='sst6') )\n",
    "rc7=trx.readtrx( trx.rcp85fname(sst='sst7') )\n",
    "#rc8=trx.readtrx( trx.rcp85fname(sst='sst8') )\n",
    "\n",
    "rc1_2=trx.readtrx( trx.rcp85fname(sst='sst1' , ens=2) )\n",
    "rc1_3=trx.readtrx( trx.rcp85fname(sst='sst1' , ens=3) )\n"
   ]
  },
  {
   "cell_type": "code",
   "execution_count": null,
   "id": "65b0615c-9b8e-4335-b344-ba01096cd148",
   "metadata": {},
   "outputs": [],
   "source": [
    "##\n",
    "rc4=trx.HealZeroWind_rc4( rc4 )\n",
    "rc6=trx.HealZeroWind_rc4( rc6 )\n"
   ]
  },
  {
   "cell_type": "code",
   "execution_count": null,
   "id": "8cf8461e-8c23-41f9-a366-98e4b4910e2a",
   "metadata": {},
   "outputs": [],
   "source": [
    "plt.plot(rc6.year.flatten(),'+')\n",
    "plt.ylim(2070,2120)"
   ]
  },
  {
   "cell_type": "code",
   "execution_count": null,
   "id": "cd33f245-d26e-495b-adfb-9647e0640c7b",
   "metadata": {},
   "outputs": [],
   "source": [
    "alpha_pw = 0.11 # power wind law exponent\n",
    "zbot = 60.\n",
    "z10m = 10.\n",
    "power_wind=(z10m /zbot )**(alpha_pw)"
   ]
  },
  {
   "cell_type": "code",
   "execution_count": null,
   "id": "4aa278ad-63a9-4400-8c5b-8d056324aa2f",
   "metadata": {},
   "outputs": [],
   "source": [
    "power_wind=(z10m /zbot )**(alpha_pw)\n",
    "print(power_wind)\n",
    "\n",
    "pdace = 1e-4 * (power_wind*1.944*pd1.wind)**2\n",
    "ibace = 1e-4 * (1.944*ibx.wind)**2\n",
    "pdace=np.nan_to_num( pdace )\n",
    "ibace=np.nan_to_num( ibace )\n",
    "\n",
    "\n",
    "ACE=np.sum(pdace,axis=1)\n",
    "IBACE=np.sum(ibace,axis=1)\n",
    "plt.plot(IBACE)\n",
    "plt.plot(ACE)\n",
    "plt.xlim(0,100)\n",
    "print(ACE[0:10])"
   ]
  },
  {
   "cell_type": "code",
   "execution_count": null,
   "id": "af8c1c7d-5bf7-43d4-bd52-910a41516539",
   "metadata": {},
   "outputs": [],
   "source": [
    "bace1=trx.basinACE(wind=pd1.wind,basin=pd1.basin,power_wind=power_wind)\n",
    "bace1=bace1 / 34.\n",
    "bace2=trx.basinACE(wind=pd2.wind,basin=pd2.basin,power_wind=power_wind)\n",
    "bace2=bace2 / 34.\n",
    "bace3=trx.basinACE(wind=pd3.wind,basin=pd3.basin,power_wind=power_wind)\n",
    "bace3=bace3 / 34.\n",
    "Ibace=trx.basinACE(wind=ibx.wind,basin=ibx.basin)\n",
    "Ibace=Ibace / 44.\n",
    "bace_a = (bace1 + bace2 + bace3)/3.\n"
   ]
  },
  {
   "cell_type": "code",
   "execution_count": null,
   "id": "d951c7bf-3f10-48bd-973d-185ee72f4047",
   "metadata": {},
   "outputs": [],
   "source": [
    "bacer1=trx.basinACE(wind=rc1.wind,basin=rc1.basin,power_wind=power_wind)\n",
    "bacer1=bacer1 / 30.\n",
    "\n",
    "bacer2=trx.basinACE(wind=rc2.wind,basin=rc2.basin,power_wind=power_wind)\n",
    "bacer2=bacer2 / 30.\n",
    "\n",
    "bacer3=trx.basinACE(wind=rc3.wind,basin=rc3.basin,power_wind=power_wind)\n",
    "bacer3=bacer3 / 30.\n",
    "\n",
    "bacer4=trx.basinACE(wind=rc4.wind,basin=rc4.basin,power_wind=power_wind)\n",
    "bacer4=bacer4 / 29.3\n",
    "\n",
    "bacer5=trx.basinACE(wind=rc5.wind,basin=rc5.basin,power_wind=power_wind)\n",
    "bacer5=bacer5 / 30.\n",
    "\n",
    "bacer6=trx.basinACE(wind=rc6.wind,basin=rc6.basin,power_wind=power_wind)\n",
    "bacer6=bacer6 / 29.3\n",
    "\n",
    "bacer7=trx.basinACE(wind=rc7.wind,basin=rc7.basin,power_wind=power_wind)\n",
    "bacer7=bacer7 / 30.\n",
    "\n",
    "bacer1_2=trx.basinACE(wind=rc1_2.wind,basin=rc1_2.basin,power_wind=power_wind)\n",
    "bacer1_2=bacer1_2 / 30.\n",
    "\n",
    "bacer1_3=trx.basinACE(wind=rc1_3.wind,basin=rc1_3.basin,power_wind=power_wind)\n",
    "bacer1_3=bacer1_3 / 30.\n",
    "\n",
    "bacer1_a = (bacer1 + bacer1_2 + bacer1_3)/3.\n"
   ]
  },
  {
   "cell_type": "code",
   "execution_count": null,
   "id": "ae25c779-d490-486b-aae8-ed9148e02bae",
   "metadata": {},
   "outputs": [],
   "source": [
    "print(np.sum(bacer1))\n",
    "print(np.sum(bacer2))\n",
    "print(np.sum(bacer3))\n",
    "print(np.sum(bacer4))\n",
    "print(np.sum(bacer5))\n",
    "print(np.sum(bacer6))\n",
    "print(np.sum(bacer7))\n",
    "print(np.sum(bace1))\n",
    "print(np.sum(bace2))\n",
    "print(np.sum(bace3))\n"
   ]
  },
  {
   "cell_type": "code",
   "execution_count": null,
   "id": "cadcd188-829e-4c65-80bf-e993cb55ce45",
   "metadata": {},
   "outputs": [],
   "source": [
    "# Get some pastel shades for the colors\n",
    "colors = plt.cm.BuPu(np.linspace(0.2, 0.5, 3))\n",
    "\n",
    "#boo=np.arange(8)\n",
    "boo=np.arange(8)\n",
    "bnames=['None','N \\nAtl','S \\n Atl' , 'NW \\n Pac', 'NE \\n Pac', 'SW \\n Pac','N \\n Indian','S \\nIndian']\n",
    "#bnames=['N \\nAtl','S \\n Atl' , 'NW \\n Pac', 'NE \\n Pac', 'SW \\n Pac','N \\n Indian','S \\nIndian']\n",
    "#plt.bar( boo,np.sum(bace,axis=1),tick_label=bnames,label=bnames)\n",
    "plt.bar( boo-.4,bace1,width=0.2,color=colors[0],label='CAM #1')\n",
    "plt.bar( boo-.2,bace2,width=0.2,color=colors[1],label='CAM #2')\n",
    "plt.bar( boo   ,bace3,width=0.2,color=colors[2] , tick_label=bnames,label='CAM #3')\n",
    "\n",
    "\n",
    "#plt.bar( boo+.2,Ibace,tick_label=bnames,label=bnames,width=0.2,color='orange')\n",
    "plt.bar( boo+.2,Ibace,width=0.2,color='red',label='IBTrACS')\n",
    "plt.legend()\n",
    "plt.xlim(.4,8)\n",
    "plt.ylabel(\"1980-2012 Accumulated Cyclone Energy\")\n"
   ]
  },
  {
   "cell_type": "code",
   "execution_count": null,
   "id": "7256ec48-9791-48aa-aef7-b22838ed103f",
   "metadata": {},
   "outputs": [],
   "source": [
    "tbace_pd = np.sum( bace_a )\n",
    "tbacer1 = np.sum( bacer1_a )\n",
    "tbacer2 = np.sum( bacer2 )\n",
    "tbacer3 = np.sum( bacer3)\n",
    "tbacer4 = np.sum( bacer4 )\n",
    "tbacer5 = np.sum( bacer5 )\n",
    "tbacer6 = np.sum( bacer6)\n",
    "tbacer7 = np.sum( bacer7)\n",
    "\n",
    "tbacerX = [ tbace_pd,tbacer1, tbacer2, tbacer3, tbacer4, tbacer5, tbacer6, tbacer7 ]\n"
   ]
  },
  {
   "cell_type": "code",
   "execution_count": null,
   "id": "93605be3-f345-4243-941b-020dc550b789",
   "metadata": {},
   "outputs": [],
   "source": [
    "\n",
    "fig=plt.figure( figsize=(9,7) )\n",
    "# Get some pastel shades for the colors\n",
    "colors = plt.cm.BuPu(np.linspace(0.2, 0.5, 3))\n",
    "Rcolors = plt.cm.OrRd(np.linspace(0.2, 0.5, 7))\n",
    "\n",
    "#boo=np.arange(8)\n",
    "boo=1.2*np.arange(8)\n",
    "bnames=['None','N \\nAtl','S \\n Atl' , 'NW \\n Pac', 'NE \\n Pac', 'SW \\n Pac','N \\n Indian','S \\nIndian']\n",
    "#bnames=['N \\nAtl','S \\n Atl' , 'NW \\n Pac', 'NE \\n Pac', 'SW \\n Pac','N \\n Indian','S \\nIndian']\n",
    "#plt.bar( boo,np.sum(bace,axis=1),tick_label=bnames,label=bnames)\n",
    "#plt.bar( boo-.4,bace1,width=0.1,color=colors[0],label='CAM #1')\n",
    "#plt.bar( boo-.3,bace2,width=0.1,color=colors[1],label='CAM #2')\n",
    "#plt.bar( boo-.2,bace3,width=0.1,color=colors[2],label='CAM #3')\n",
    "bar1=plt.bar( boo-.2,bace_a,width=0.12,color=colors[0],label='PD mean')\n",
    "\n",
    "bar2=plt.bar( boo-.1,bacer1_a,width=0.1,color=Rcolors[0],label='SST1 mean')\n",
    "bar3=plt.bar( boo-.0,bacer2,width=0.1,color=Rcolors[1],label='SST2')\n",
    "bar4=plt.bar( boo+.1,bacer3,width=0.1,color=Rcolors[2] , tick_label=bnames,label='SST3')\n",
    "bar5=plt.bar( boo+.2,bacer4,width=0.1,color=Rcolors[3] , label='SST4')\n",
    "bar6=plt.bar( boo+.3,bacer5,width=0.1,color=Rcolors[4] , label='SST5')\n",
    "bar7=plt.bar( boo+.4,bacer6,width=0.1,color=Rcolors[5] , label='SST6')\n",
    "bar8=plt.bar( boo+.5,bacer7,width=0.1,color=Rcolors[6] , label='SST7')\n",
    "\n",
    "sca2=plt.scatter( boo-.1,bacer1 , color=Rcolors[6] , marker='+', label='SST1 ens')\n",
    "plt.scatter( boo-.1,bacer1_2 , color=Rcolors[6] , marker='+')\n",
    "plt.scatter( boo-.1,bacer1_3 , color=Rcolors[6] , marker='+')\n",
    "\n",
    "sca1=plt.scatter( boo-.2,bace1 , color=colors[2] , marker='+', label='PD ens')\n",
    "plt.scatter( boo-.2,bace2 , color=colors[2] , marker='+')\n",
    "plt.scatter( boo-.2,bace3 , color=colors[2] , marker='+')\n",
    "\n",
    "plt.legend(fontsize=8, handles=[bar1,sca1,bar2,sca2,bar3,bar4,bar5,bar6,bar7,bar8])\n",
    "plt.xlim(.4,9.2)\n",
    "plt.ylim(0,370.)\n",
    "plt.ylabel(\"Accumulated Cyclone Energy\",size=16)\n",
    "plt.title(\"By Basin\", size=16)\n",
    "\n",
    "scn=['PD' , 'SST1' , 'SST2' , 'SST3' , 'SST4' , 'SST5' , 'SST6' , 'SST7' ] \n",
    "ax=fig.add_axes( [.92,.6,.2,.28] )\n",
    "\n",
    "for c in np.arange(8):\n",
    "    if (c==0):\n",
    "        ThisColor=colors[0]\n",
    "    else:\n",
    "        ThisColor = Rcolors[c-1]\n",
    "    ax.bar( boo[c] , tbacerX[c], color=ThisColor, tick_label='' )\n",
    "    ax.yaxis.tick_right()\n",
    "    ax.yaxis.set_label_position(\"right\")\n",
    "    ax.set_ylabel( \"Accumulated Cyclone Energy\",size=12)\n",
    "    ax.set_ylim(800,1200)\n",
    "    ax.set_title( \"Global\",size=16)\n",
    "    \n",
    "Pu.save_link(png_filename = \"RCP_ACE_Bars.png\")"
   ]
  },
  {
   "cell_type": "code",
   "execution_count": null,
   "id": "3228871d-f06a-429c-8057-37698257461f",
   "metadata": {},
   "outputs": [],
   "source": [
    "BaceYr1,Yr1 =trx.basinACEyear(wind=pd1.wind,basin=pd1.basin,year=pd1.year,power_wind=power_wind)\n",
    "BaceYr2,Yr2 =trx.basinACEyear(wind=pd2.wind,basin=pd2.basin,year=pd2.year,power_wind=power_wind)\n",
    "BaceYr3,Yr3 =trx.basinACEyear(wind=pd3.wind,basin=pd3.basin,year=pd3.year,power_wind=power_wind)\n",
    "IBaceYr,IYr =trx.basinACEyear(wind=ibx.wind,basin=ibx.basin,year=ibx.year)\n",
    "#I2BaceYr,I2Yr =trx.basinACEyear(wind=ibx2.wind,basin=ibx2.basin,year=ibx2.year)"
   ]
  },
  {
   "cell_type": "code",
   "execution_count": null,
   "id": "071fb164-17f1-4fb5-b1b2-00cba303f910",
   "metadata": {},
   "outputs": [],
   "source": [
    "BaceYr1H,Yr1 =trx.basinACEyearHemi(wind=pd1.wind,basin=pd1.basin,year=pd1.year,month=pd1.month,power_wind=power_wind)\n",
    "BaceYr2H,Yr2 =trx.basinACEyearHemi(wind=pd2.wind,basin=pd2.basin,year=pd2.year,month=pd2.month,power_wind=power_wind)\n",
    "BaceYr3H,Yr3 =trx.basinACEyearHemi(wind=pd3.wind,basin=pd3.basin,year=pd3.year,month=pd3.month,power_wind=power_wind)\n",
    "IBaceYrH,IYr =trx.basinACEyearHemi(wind=ibx.wind,basin=ibx.basin,year=ibx.year,month=ibx.month)\n",
    "#I2BaceYr,I2Yr =trx.basinACEyear(wind=ibx2.wind,basin=ibx2.basin,year=ibx2.year)"
   ]
  },
  {
   "cell_type": "code",
   "execution_count": null,
   "id": "533bad62-5871-45bc-a98f-3c483d3f6494",
   "metadata": {},
   "outputs": [],
   "source": [
    "plt.plot( ibx.month.flatten() )"
   ]
  },
  {
   "cell_type": "code",
   "execution_count": null,
   "id": "8b073b6a-5b09-49e8-94ad-a349076c8fb1",
   "metadata": {},
   "outputs": [],
   "source": [
    "print(IYr[0:33])\n",
    "print(Yr1[1:34])\n",
    "\n"
   ]
  },
  {
   "cell_type": "code",
   "execution_count": null,
   "id": "769e3c9c-0e83-4c46-a219-a65120559255",
   "metadata": {},
   "outputs": [],
   "source": [
    "BaceYrA = ( BaceYr1H + BaceYr2H + BaceYr3H )/3.\n",
    "for b in np.arange(8):\n",
    "    print(bnames[b])\n",
    "    \"\"\"\n",
    "    plt.plot( Yr1, BaceYr1[b,:],color=colors[0] )\n",
    "    plt.plot( Yr2, BaceYr2[b,:] ,color=colors[1] )\n",
    "    plt.plot( Yr3, BaceYr3[b,:] ,color=colors[2] )\n",
    "    plt.plot( IYr, IBaceYr[b,:] ,color='red')\n",
    "    #plt.plot( I2Yr, I2BaceYr[b,:] ,color='red')\n",
    "    plt.plot( Yr3, BaceYrA[b,:] ,color='green' )\n",
    "    \"\"\"\n",
    "\n",
    "    Boo = BaceYrA\n",
    "    xx=np.c_[ IBaceYrH[b,0:33],Boo[b,1:34] ]   \n",
    "    #print(np.shape(xx.T))\n",
    "    Corr = np.corrcoef(x=xx.T )\n",
    "    print(Corr[0,1])"
   ]
  },
  {
   "cell_type": "code",
   "execution_count": null,
   "id": "6bcee1c9-cd53-498e-a477-06fd02c7a09d",
   "metadata": {},
   "outputs": [],
   "source": [
    "BaceYrA = ( BaceYr1H + BaceYr2H + BaceYr3H )/3.\n",
    "for b in np.arange(8):\n",
    "    print(bnames[b])\n",
    "    \"\"\"\n",
    "    plt.plot( Yr1, BaceYr1[b,:],color=colors[0] )\n",
    "    plt.plot( Yr2, BaceYr2[b,:] ,color=colors[1] )\n",
    "    plt.plot( Yr3, BaceYr3[b,:] ,color=colors[2] )\n",
    "    plt.plot( IYr, IBaceYr[b,:] ,color='red')\n",
    "    #plt.plot( I2Yr, I2BaceYr[b,:] ,color='red')\n",
    "    plt.plot( Yr3, BaceYrA[b,:] ,color='green' )\n",
    "    \"\"\"\n",
    "\n",
    "    Boo = BaceYrA\n",
    "    xx=np.c_[ BaceYr3[b,:],BaceYrA[b,:] ]   \n",
    "    #print(np.shape(xx.T))\n",
    "    Corr = np.corrcoef(x=xx.T )\n",
    "    print(Corr[0,1])"
   ]
  },
  {
   "cell_type": "code",
   "execution_count": null,
   "id": "ef90c257-44f6-4fa9-879d-dee130fe5818",
   "metadata": {},
   "outputs": [],
   "source": [
    "#### LET'S SEE WHERE WE ARE ....\n",
    "\n"
   ]
  },
  {
   "cell_type": "code",
   "execution_count": null,
   "id": "7eeb1580-72bb-4094-ac78-5843c8809405",
   "metadata": {},
   "outputs": [],
   "source": [
    "#### LET'S SEE WHERE WE ARE ....\n",
    "\n"
   ]
  },
  {
   "cell_type": "code",
   "execution_count": null,
   "id": "2be6ff14-61c3-47be-b840-7827f83c08e7",
   "metadata": {},
   "outputs": [],
   "source": [
    "b=4\n",
    "#plt.scatter(IBaceYr[b,0:33],BaceYrA[b,1:34] )\n",
    "plt.plot(IYr[0:33],IBaceYr[b,0:33],label='IBTrACS',color='red')\n",
    "plt.plot(IYr[0:33],BaceYrA[b,1:34],label='CAM Ens. Mean',color=colors[2])\n",
    "plt.ylabel(\"Accumulated Cyclone Energy\")\n",
    "plt.legend()"
   ]
  },
  {
   "cell_type": "markdown",
   "id": "fb427f3e-3a7a-44e3-af4a-8a31a6d0187c",
   "metadata": {},
   "source": [
    "# plt.plot( np.sum(BaceYr1,axis=1)/33. )\n",
    "plt.plot( np.sum(IBaceYr,axis=1)/43. )"
   ]
  },
  {
   "cell_type": "code",
   "execution_count": null,
   "id": "30b5856c-af51-4c09-beea-36f2d3de53e8",
   "metadata": {},
   "outputs": [],
   "source": [
    "IBaceYr.shape\n"
   ]
  },
  {
   "cell_type": "code",
   "execution_count": null,
   "id": "97027389-f551-4900-8fb8-f32b9fd95bd0",
   "metadata": {},
   "outputs": [],
   "source": [
    "fig=plt.figure(figsize=(18,8))\n",
    "colors = ['black','red','yellow','cyan','gray','brown','blue','green']\n",
    "for b in np.arange(8):\n",
    "    fig.add_subplot(2,4,b+1)\n",
    "    plt.scatter( BaceYrA[b,1:34], IBaceYr[b,0:33], label=bnames[b] ,color=colors[b])\n",
    "    plt.xlim(0,500)\n",
    "    plt.ylim(0,500)\n",
    "    plt.legend()"
   ]
  },
  {
   "cell_type": "code",
   "execution_count": null,
   "id": "6e53d529-2b81-485f-bea9-2da03f6ccfd3",
   "metadata": {},
   "outputs": [],
   "source": [
    "category='TS+'\n",
    "category='Cat1+'\n",
    "PCat=True\n",
    "NumYr1,Yr1 =trx.basinNUMyearHemi(wind=pd1.wind,basin=pd1.basin,year=pd1.year,month=pd1.month,power_wind=power_wind,category=category ,pres=pd1.pres, PressureCats=PCat )\n",
    "NumYr2,Yr2 =trx.basinNUMyearHemi(wind=pd2.wind,basin=pd2.basin,year=pd2.year,month=pd2.month,power_wind=power_wind,category=category ,pres=pd3.pres, PressureCats=PCat)\n",
    "NumYr3,Yr3 =trx.basinNUMyearHemi(wind=pd3.wind,basin=pd3.basin,year=pd3.year,month=pd3.month,power_wind=power_wind,category=category ,pres=pd3.pres, PressureCats=PCat)\n",
    "INumYr,IYr =trx.basinNUMyearHemi(wind=ibx.wind,basin=ibx.basin,year=ibx.year,month=ibx.month,category=category, pres=ibx.pres, PressureCats=False )\n"
   ]
  },
  {
   "cell_type": "code",
   "execution_count": null,
   "id": "fd4b5566-b6ef-4b84-85b1-7c2baa00586f",
   "metadata": {},
   "outputs": [],
   "source": [
    "print(Yr1)\n",
    "NumYrA = ( NumYr1 + NumYr2 + NumYr3 )/3.\n"
   ]
  },
  {
   "cell_type": "code",
   "execution_count": null,
   "id": "e5244017-c831-445a-aedb-303a0e01095c",
   "metadata": {},
   "outputs": [],
   "source": [
    "Bcolors = plt.cm.BuPu(np.linspace(0.2, 0.5, 3))\n",
    "\n",
    "fig=plt.figure( figsize=(20,10))\n",
    "\n",
    "b=1\n",
    "xx=np.c_[ INumYr[b,0:33],NumYrA[b,1:34] ]   \n",
    "Corr = np.corrcoef(x=xx.T )\n",
    "CorrA = f\"IBTrACS/Ens. Mean: $r$={Corr[0,1]:0.2f}\"\n",
    "\n",
    "\n",
    "ax=fig.add_subplot(2,2,1)\n",
    "ax.plot(IYr,INumYr[b,0:],label='IBTrACS' ,color='black')\n",
    "ax.plot(Yr1[:],NumYrA[b,:],label='Ens. Mean',color='Blue',linewidth=2 )\n",
    "ax.plot(Yr1[:],NumYr1[b,:],label='ensm #1',color=Bcolors[0] )\n",
    "ax.plot(Yr2[:],NumYr2[b,:],label='ensm #2',color=Bcolors[1]  )\n",
    "ax.plot(Yr3[:],NumYr3[b,:],label='ensm #3',color=Bcolors[2]  )\n",
    "ax.legend()\n",
    "ax.set_title(bnames[b])\n",
    "ax.set_xlim(1980,2012)\n",
    "\n",
    "ax.text( .55, .04 , CorrA , fontsize=16 , transform=ax.transAxes, bbox=dict(facecolor='white'))\n",
    "ax.set_ylabel( \"Cat 1+ Number\" ,fontsize=14)\n",
    "\n",
    "\n",
    "b=4\n",
    "xx=np.c_[ INumYr[b,0:33],NumYrA[b,1:34] ]   \n",
    "Corr = np.corrcoef(x=xx.T )\n",
    "CorrA = f\"IBTrACS/Ens. Mean: $r$={Corr[0,1]:0.2f}\"\n",
    "\n",
    "ax=fig.add_subplot(2,2,2)\n",
    "ax.plot(IYr,INumYr[b,0:],label='IBTrACS' ,color='black')\n",
    "ax.plot(Yr1[:],NumYrA[b,:],label='Ens. Mean',color='Blue',linewidth=2 )\n",
    "ax.plot(Yr1[:],NumYr1[b,:],label='ensm #1',color=Bcolors[0] )\n",
    "ax.plot(Yr2[:],NumYr2[b,:],label='ensm #2',color=Bcolors[1]  )\n",
    "ax.plot(Yr3[:],NumYr3[b,:],label='ensm #3',color=Bcolors[2]  )\n",
    "ax.legend()\n",
    "ax.set_title(bnames[b])\n",
    "ax.set_xlim(1980,2012)\n",
    "ax.text( .55, .04 , CorrA , fontsize=16 , transform=ax.transAxes, bbox=dict(facecolor='white'))\n",
    "ax.set_ylabel( \"Cat 1+ Number\" ,fontsize=14)\n",
    "\n",
    "\n",
    "b=1\n",
    "xx=np.c_[ IBaceYr[b,0:33],BaceYrA[b,1:34] ]   \n",
    "Corr = np.corrcoef(x=xx.T )\n",
    "CorrA = f\"IBTrACS/Ens. Mean: $r$={Corr[0,1]:0.2f}\"\n",
    "\n",
    "ax=fig.add_subplot(2,2,3)\n",
    "ax.plot(IYr,IBaceYr[b,0:],label='IBTrACS' ,color='black')\n",
    "ax.plot(Yr1[:],BaceYrA[b,:],label='Ens. Mean',color='Blue',linewidth=2 )\n",
    "ax.plot(Yr1[:],BaceYr1[b,:],label='ensm #1',color=Bcolors[0] )\n",
    "ax.plot(Yr2[:],BaceYr2[b,:],label='ensm #2',color=Bcolors[1]  )\n",
    "ax.plot(Yr3[:],BaceYr3[b,:],label='ensm #3',color=Bcolors[2]  )\n",
    "ax.legend()\n",
    "#ax.set_title(bnames[b])\n",
    "ax.set_xlim(1980,2012)\n",
    "ax.text( .55, .04 , CorrA , fontsize=16 , transform=ax.transAxes, bbox=dict(facecolor='white'))\n",
    "ax.set_ylabel( \"ACE\" ,fontsize=14)\n",
    "\n",
    "b=4\n",
    "xx=np.c_[ IBaceYr[b,0:33],BaceYrA[b,1:34] ]   \n",
    "Corr = np.corrcoef(x=xx.T )\n",
    "CorrA = f\"IBTrACS/Ens. Mean: $r$={Corr[0,1]:0.2f}\"\n",
    "ax=fig.add_subplot(2,2,4)\n",
    "ax.plot(IYr,IBaceYr[b,0:],label='IBTrACS' ,color='black')\n",
    "ax.plot(Yr1[:],BaceYrA[b,:],label='Ens. Mean',color='Blue',linewidth=2 )\n",
    "ax.plot(Yr1[:],BaceYr1[b,:],label='ensm #1',color=Bcolors[0] )\n",
    "ax.plot(Yr2[:],BaceYr2[b,:],label='ensm #2',color=Bcolors[1]  )\n",
    "ax.plot(Yr3[:],BaceYr3[b,:],label='ensm #3',color=Bcolors[2]  )\n",
    "ax.legend()\n",
    "#ax.set_title(bnames[b])\n",
    "ax.set_xlim(1980,2012)\n",
    "ax.text( .55, .04 , CorrA , fontsize=16 , transform=ax.transAxes, bbox=dict(facecolor='white'))\n",
    "ax.set_ylabel( \"ACE\" ,fontsize=14)\n",
    "\n",
    "Pu.save_link(png_filename = \"PD-Yearly-timeser.png\")"
   ]
  },
  {
   "cell_type": "code",
   "execution_count": null,
   "id": "d3bd4b03-495e-456f-b701-76c63c016dee",
   "metadata": {},
   "outputs": [],
   "source": [
    "print(bnames[4])\n",
    "basin=ibx.basin\n",
    "wind=ibx.wind\n",
    "pres=ibx.pres\n",
    "pood=np.where( basin.flatten()==4 )\n",
    "plt.plot( pres[:,10])\n",
    "print( np.max(wind[77,:]) > 20.)"
   ]
  },
  {
   "cell_type": "code",
   "execution_count": null,
   "id": "ecec2c4a-06ea-43cf-a5ab-2f85100ba1af",
   "metadata": {},
   "outputs": [],
   "source": [
    "##\n",
    "b=1 # N Atl\n",
    "slop,inter=np.polyfit(IYr-1995,IBaceYr[b,0:] , 1)\n",
    "print(slop)\n",
    "slop,inter=np.polyfit(Yr1-1995,BaceYrA[b,0:] , 1)\n",
    "print(slop)\n"
   ]
  },
  {
   "cell_type": "code",
   "execution_count": null,
   "id": "473f4545-d439-4dfe-baf9-2f677df8d1a4",
   "metadata": {},
   "outputs": [],
   "source": [
    "plt.plot(Yr1,BaceYrA[b,0:] )\n",
    "plt.plot( Yr1, slop*Yr1+inter)"
   ]
  },
  {
   "cell_type": "code",
   "execution_count": null,
   "id": "118736b6-327f-468b-8e8f-bc14885376ad",
   "metadata": {},
   "outputs": [],
   "source": [
    "import statsmodels.api as sm\n",
    "X= sm.add_constant( IYr-1995 )\n",
    "model = sm.OLS( IBaceYr[b,0:]  , X ).fit()\n",
    "print(model.params)\n",
    "print(model.summary())"
   ]
  },
  {
   "cell_type": "code",
   "execution_count": null,
   "id": "44790bb0-8a87-4fae-be1a-3e8cd587f92c",
   "metadata": {},
   "outputs": [],
   "source": [
    "import statsmodels.api as sm\n",
    "X= sm.add_constant( Yr1-1995 )\n",
    "model = sm.OLS( BaceYrA[b,0:]  , X ).fit()\n",
    "print(model.params)\n",
    "print(model.summary())"
   ]
  },
  {
   "cell_type": "code",
   "execution_count": null,
   "id": "58dc71ac-b9cd-4189-932d-0ce223c39a75",
   "metadata": {},
   "outputs": [],
   "source": [
    "####\n",
    "# WAIT HERE \n",
    "#####"
   ]
  },
  {
   "cell_type": "code",
   "execution_count": null,
   "id": "51bdeccc-d01c-4408-9ee8-ad493045b0e5",
   "metadata": {},
   "outputs": [],
   "source": [
    "for b in np.arange(8):\n",
    "    print(bnames[b])\n",
    "    xx=np.c_[ INumYr[b,0:33],NumYrA[b,1:34] ]   \n",
    "    #print(np.shape(xx.T))\n",
    "    Corr = np.corrcoef(x=xx.T )\n",
    "    print(Corr[0,1])\n",
    "    "
   ]
  },
  {
   "cell_type": "code",
   "execution_count": null,
   "id": "d3b8f186-7196-49da-aa12-dd46104a166b",
   "metadata": {},
   "outputs": [],
   "source": [
    "fig=plt.figure(figsize=(18,8))\n",
    "colors = ['black','red','yellow','cyan','gray','brown','blue','green']\n",
    "for b in np.arange(8):\n",
    "    fig.add_subplot(2,4,b+1)\n",
    "    plt.scatter( NumYrA[b,1:34], INumYr[b,0:33], label=bnames[b] ,color=colors[b])\n",
    "    plt.xlim(0,40)\n",
    "    plt.ylim(0,40)\n",
    "    plt.legend()"
   ]
  },
  {
   "cell_type": "code",
   "execution_count": null,
   "id": "bfdbe483-91ff-4b9b-910d-a8568b1aaea2",
   "metadata": {},
   "outputs": [],
   "source": []
  }
 ],
 "metadata": {
  "kernelspec": {
   "display_name": "NPL 2022b",
   "language": "python",
   "name": "npl-2022b"
  },
  "language_info": {
   "codemirror_mode": {
    "name": "ipython",
    "version": 3
   },
   "file_extension": ".py",
   "mimetype": "text/x-python",
   "name": "python",
   "nbconvert_exporter": "python",
   "pygments_lexer": "ipython3",
   "version": "3.8.13"
  }
 },
 "nbformat": 4,
 "nbformat_minor": 5
}
