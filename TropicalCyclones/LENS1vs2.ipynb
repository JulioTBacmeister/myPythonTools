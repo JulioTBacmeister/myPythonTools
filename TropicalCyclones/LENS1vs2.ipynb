{
 "cells": [
  {
   "cell_type": "code",
   "execution_count": null,
   "id": "1a3bb9b4-b3b7-4b84-ab8c-9cff1b15fde1",
   "metadata": {},
   "outputs": [],
   "source": [
    "#####################################\n",
    "# This creates figure\n",
    "# TS-LENS1-LENS2.png \n",
    "# in paper\n",
    "#####################################\n",
    "import sys\n",
    "# import modules in other directories\n",
    "sys.path.append('../Utils/')\n",
    "sys.path.append('/glade/work/juliob/PyRegridding/Regridder/')\n",
    "\n",
    "import PlotUtil as Pu\n",
    "\n",
    "import xarray as xr\n",
    "import numpy as np\n",
    "import matplotlib.pyplot as plt\n",
    "import pandas as pd\n",
    "\n",
    "import importlib\n",
    "\n",
    "import get_lens2 as lens2\n",
    "import get_lens1_rcp85 as lens1\n",
    "\n",
    "import cartopy\n",
    "import cartopy.crs as ccrs\n",
    "import cartopy.feature as cfeature\n",
    "\n",
    "importlib.reload(lens2)\n"
   ]
  },
  {
   "cell_type": "code",
   "execution_count": null,
   "id": "3058aa48-d616-437a-b120-b29663720fde",
   "metadata": {},
   "outputs": [],
   "source": [
    "ts2,landf,lat,lon=lens2.bespokeTS()"
   ]
  },
  {
   "cell_type": "code",
   "execution_count": null,
   "id": "4aae0aff-9027-4753-9265-9d890567fbb8",
   "metadata": {},
   "outputs": [],
   "source": [
    "ts1,landf1,lat1,lon1 = lens1.FullTS()"
   ]
  },
  {
   "cell_type": "code",
   "execution_count": null,
   "id": "f53731b4-4ba8-4a7c-b4fa-c511ba285e0f",
   "metadata": {},
   "outputs": [],
   "source": [
    "print(np.shape(ts2))\n",
    "print(np.shape(ts1))\n"
   ]
  },
  {
   "cell_type": "code",
   "execution_count": null,
   "id": "1a53e5be-651c-4aa9-917d-6d985e2e0d1d",
   "metadata": {
    "tags": []
   },
   "outputs": [],
   "source": [
    "ts1e=np.average( ts1, axis=0 )\n",
    "ts1a=np.average( ts1e, axis=0 )\n",
    "\n",
    "ts2e=np.average( ts2, axis=0 )\n",
    "ts2a=np.average( ts2e, axis=0 )\n"
   ]
  },
  {
   "cell_type": "code",
   "execution_count": null,
   "id": "fe7e59ca-6a5f-46dc-ab31-2d63b348e6ac",
   "metadata": {},
   "outputs": [],
   "source": [
    "tlev=np.linspace( -15,15,num=121)\n",
    "plt.contourf( ts2a-ts1a, levels=tlev,cmap='bwr')\n",
    "plt.colorbar()"
   ]
  },
  {
   "cell_type": "code",
   "execution_count": null,
   "id": "b69b712c-116d-4640-8f61-02d55b8f2a25",
   "metadata": {},
   "outputs": [],
   "source": [
    "\n",
    "projData = ccrs.PlateCarree()\n",
    "projMAP = ccrs.PlateCarree(central_longitude=180.)\n",
    "\n",
    "fig=plt.figure(figsize=(20,10))\n",
    "n=0\n",
    "#=======================\n",
    "n=n+1\n",
    "Axes = Pu.axes_def(n=1,nxplo=1,nyplo=1 )\n",
    "ax1 = fig.add_axes( Axes  , projection=projMAP )\n",
    "co = ax1.contourf( lon, lat, ts2a-ts1a ,levels=tlev,cmap='bwr', extend='both',transform=projData )\n",
    "ax1.set_global()\n",
    "#ax1.set_extent([lonW, lonE, latS, latN], crs=projData )\n",
    "ax1.coastlines(resolution='110m',color='black',linewidth=1)\n",
    "ax1.set_title(\"$\\Delta T_s$ :  LENS2-LENS1 ensemble mean 2070-2100\" ,size=24)\n",
    "#fig.text( Axes[0],Axes[1]+Axes[3]-yshpanlab, 'A)' , size=16)\n",
    "crax=fig.add_axes( Pu.right_cbar_axes( Axes, xshift=0.05, yshift=.05,ysize=0.8) )\n",
    "cbar=fig.colorbar( co, cax=crax, ax=ax1 )\n"
   ]
  },
  {
   "cell_type": "code",
   "execution_count": null,
   "id": "1e04c0ee-5d5c-42a6-b9d6-3dc30c0dcb95",
   "metadata": {},
   "outputs": [],
   "source": [
    "print(372/12)"
   ]
  },
  {
   "cell_type": "code",
   "execution_count": null,
   "id": "efe49472-d92d-4e98-9495-1edab7bc5bb5",
   "metadata": {},
   "outputs": [],
   "source": [
    "###\n",
    "\n",
    "fcmip5 = '/glade/collections/cdg/data/cmip5/output1/NSF-DOE-NCAR/CESM1-CAM5/1pctCO2/mon/atmos/Amon/r1i1p1/files/ts_20120704/'\n",
    "fcmip5 = fcmip5 + 'ts_Amon_CESM1-CAM5_1pctCO2_r1i1p1_185001-200512.nc'\n",
    "dC5=xr.open_dataset( fcmip5 )"
   ]
  },
  {
   "cell_type": "code",
   "execution_count": null,
   "id": "9e7c68fe-390e-4b75-92f2-723cee3a018a",
   "metadata": {},
   "outputs": [],
   "source": [
    "###\n",
    "\n",
    "fcmip6 = '/glade/collections/cdg/data/CMIP6/CMIP/NCAR/CESM2/1pctCO2/r1i1p1f1/Amon/ts/gn/files/d20190425/'\n",
    "fcmip6 = fcmip6 + 'ts_Amon_CESM2_1pctCO2_r1i1p1f1_gn_*.nc'\n",
    "dC6=xr.open_mfdataset( fcmip6 )"
   ]
  },
  {
   "cell_type": "code",
   "execution_count": null,
   "id": "fee58780-7fda-4cc1-b0f4-4e79f468cffe",
   "metadata": {},
   "outputs": [],
   "source": [
    "tsc5=dC5.ts.values\n",
    "tsc6=dC6.ts.values\n"
   ]
  },
  {
   "cell_type": "code",
   "execution_count": null,
   "id": "20265c9f-083c-47ce-bf6e-fb0a367ad338",
   "metadata": {},
   "outputs": [],
   "source": [
    "tsc5=tsc5[:-72,:,:]"
   ]
  },
  {
   "cell_type": "code",
   "execution_count": null,
   "id": "a0dc3463-9b3c-4b72-a8b3-84d504230e86",
   "metadata": {},
   "outputs": [],
   "source": [
    "print(np.shape(tsc5[-372:,:,:]))"
   ]
  },
  {
   "cell_type": "code",
   "execution_count": null,
   "id": "642d4b9d-b644-464f-b8be-3d1f5b5ae1e9",
   "metadata": {},
   "outputs": [],
   "source": [
    "tsc5a=np.average( tsc5[-372:,:,:] , axis=0 )\n",
    "tsc6a=np.average( tsc6[-372:,:,:] , axis=0 )\n"
   ]
  },
  {
   "cell_type": "code",
   "execution_count": null,
   "id": "f1716dca-ebc7-469c-acef-6dc720be3b56",
   "metadata": {},
   "outputs": [],
   "source": [
    "\n",
    "projData = ccrs.PlateCarree()\n",
    "projMAP = ccrs.PlateCarree(central_longitude=180.)\n",
    "\n",
    "fig=plt.figure(figsize=(20,10))\n",
    "n=0\n",
    "#=======================\n",
    "n=n+1\n",
    "Axes = Pu.axes_def(n=1,nxplo=1,nyplo=1 )\n",
    "ax1 = fig.add_axes( Axes  , projection=projMAP )\n",
    "co = ax1.contourf( lon, lat, tsc6a-tsc5a ,levels=tlev,cmap='bwr', extend='both',transform=projData )\n",
    "ax1.set_global()\n",
    "#ax1.set_extent([lonW, lonE, latS, latN], crs=projData )\n",
    "ax1.coastlines(resolution='110m',color='black',linewidth=1)\n",
    "ax1.set_title(\"$\\Delta T_s$ :  CMI6-CMIP5 1pct CO2 mean Years 120-150\" ,size=24)\n",
    "#fig.text( Axes[0],Axes[1]+Axes[3]-yshpanlab, 'A)' , size=16)\n",
    "crax=fig.add_axes( Pu.right_cbar_axes( Axes, xshift=0.05, yshift=.05,ysize=0.8) )\n",
    "cbar=fig.colorbar( co, cax=crax, ax=ax1 )\n"
   ]
  },
  {
   "cell_type": "code",
   "execution_count": null,
   "id": "a7c784a4-a7bc-446a-9c92-8c09160b9303",
   "metadata": {},
   "outputs": [],
   "source": [
    "oo=np.where( ts6.flatten()< 150. )"
   ]
  },
  {
   "cell_type": "code",
   "execution_count": null,
   "id": "35e239cb-2546-4fd7-80bb-e8fa996093e3",
   "metadata": {},
   "outputs": [],
   "source": [
    "print(len(oo[0]))"
   ]
  },
  {
   "cell_type": "code",
   "execution_count": null,
   "id": "ef15151f-eda5-4da2-b91d-338b755ae25a",
   "metadata": {},
   "outputs": [],
   "source": [
    "plt.plot( ts6.flatten() )"
   ]
  },
  {
   "cell_type": "code",
   "execution_count": null,
   "id": "b0153d92-0973-4c29-a1a3-67a95e6d3993",
   "metadata": {},
   "outputs": [],
   "source": []
  }
 ],
 "metadata": {
  "kernelspec": {
   "display_name": "NPL 2022b",
   "language": "python",
   "name": "npl-2022b"
  },
  "language_info": {
   "codemirror_mode": {
    "name": "ipython",
    "version": 3
   },
   "file_extension": ".py",
   "mimetype": "text/x-python",
   "name": "python",
   "nbconvert_exporter": "python",
   "pygments_lexer": "ipython3",
   "version": "3.8.13"
  }
 },
 "nbformat": 4,
 "nbformat_minor": 5
}
