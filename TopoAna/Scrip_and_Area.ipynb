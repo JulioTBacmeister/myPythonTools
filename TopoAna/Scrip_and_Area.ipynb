{
 "cells": [
  {
   "cell_type": "code",
   "execution_count": null,
   "id": "cb2362eb-7ff6-4695-aceb-3c766df68d97",
   "metadata": {},
   "outputs": [],
   "source": [
    "# Import packages \n",
    "import os\n",
    "import sys\n",
    "\n",
    "import xarray as xr\n",
    "import numpy as np\n",
    "import matplotlib.pyplot as plt\n",
    "import matplotlib as mpl\n",
    "import matplotlib.tri as tri\n",
    "import matplotlib.colors as colors\n",
    "\n",
    "from scipy.io import FortranFile\n",
    "from scipy.interpolate import LinearNDInterpolator as Li\n",
    "from scipy.interpolate import NearestNDInterpolator as Ni\n",
    "from scipy.spatial import Delaunay as Dl\n",
    "\n",
    "import cartopy\n",
    "import cartopy.crs as ccrs\n",
    "import cartopy.feature as cfeature\n",
    "\n",
    "import importlib\n",
    "import glob\n"
   ]
  },
  {
   "cell_type": "code",
   "execution_count": null,
   "id": "d034a088-b6f8-4cc2-a25d-6e687c11761e",
   "metadata": {},
   "outputs": [],
   "source": [
    "# ----------------------------------\n",
    "# Functions to calculate area of\n",
    "# triangle on a sphere\n",
    "#-----------------------------------\n",
    "def latlong_to_cartesian(latlong):\n",
    "    phi   = np.deg2rad( 90 - latlong[0] )\n",
    "    theta = np.deg2rad( latlong[1] )\n",
    "    \n",
    "    x = np.sin(phi) * np.cos(theta)\n",
    "    y = np.sin(phi) * np.sin(theta)\n",
    "    z = np.cos(phi)\n",
    "    return np.array([x,y,z])\n",
    "    \n",
    "def spherical_area(a, b, c):\n",
    "    t = np.abs( np.inner(a, np.cross(b, c) ) )\n",
    "    t /= 1 + np.inner(a,b) + np.inner(b,c) + np.inner(a,c)\n",
    "    return 2*np.arctan(t)\n",
    "    \n",
    "def flat_area(a, b, c):\n",
    "    x = np.cross(a - b, c - b)\n",
    "    return 0.5*np.linalg.norm(x)\n"
   ]
  },
  {
   "cell_type": "raw",
   "id": "4a5c5558-e934-45b8-a6ea-d091567f467f",
   "metadata": {},
   "source": [
    "The C540 SCRIP grids are under\n",
    "/glade/p/cesmdata/inputdata/share/scripgrids/\n",
    "\n",
    "Of the three you will only need the cell centered grid descriptor.\n",
    "\n",
    "C540_EW_SCRIP_desc.230330.nc   (UWIND grid)\n",
    "C540_NS_SCRIP_desc.230330.nc   (VWIND grid)\n",
    "C540_SCRIP_desc.230330.nc      (cell centered grid)\n",
    "\n",
    "I used my own ncl script to make these.\n",
    "/glade/p/cesmdata/cseg/mapping/code/jet/fv3tiles_to_SCRIP.ncl\n"
   ]
  },
  {
   "cell_type": "code",
   "execution_count": null,
   "id": "ccca69f7-be9c-48b6-8871-4e5f2f4fac9a",
   "metadata": {},
   "outputs": [],
   "source": [
    "scripF='/glade/p/cesmdata/inputdata/share/scripgrids/C540_SCRIP_desc.230330.nc'\n",
    "d=xr.open_dataset(scripF)"
   ]
  },
  {
   "cell_type": "code",
   "execution_count": null,
   "id": "38d2ecf7-a698-430c-b66f-ad6831c9faa7",
   "metadata": {},
   "outputs": [],
   "source": [
    "print(list(d.variables))"
   ]
  },
  {
   "cell_type": "code",
   "execution_count": null,
   "id": "b2e80b37-d998-49de-89c5-fbda05c8f734",
   "metadata": {
    "tags": []
   },
   "outputs": [],
   "source": [
    "lon=d['grid_center_lon'].values\n",
    "lat=d['grid_center_lat'].values\n",
    "crlon=d['grid_corner_lon'].values\n",
    "crlat=d['grid_corner_lat'].values\n",
    "area=d['grid_area'].values\n",
    "\n",
    "\n",
    "lonx0=crlon[:,0]\n",
    "latx0=crlat[:,0]\n",
    "lonx1=crlon[:,1]\n",
    "latx1=crlat[:,1] \n",
    "lonx2=crlon[:,2]\n",
    "latx2=crlat[:,2]\n",
    "lonx3=crlon[:,3]\n",
    "latx3=crlat[:,3] "
   ]
  },
  {
   "cell_type": "code",
   "execution_count": null,
   "id": "9d2decd8-45ac-4984-bc1a-bd41b2d8e574",
   "metadata": {},
   "outputs": [],
   "source": [
    "nop=len(lon)\n",
    "\n",
    "grid_area=np.zeros( nop )\n",
    "for i in np.arange(nop ):\n",
    "    A  = ( latx0[i],  lonx0[i] )\n",
    "    B  = ( latx1[i],  lonx1[i] )\n",
    "    C  = ( latx2[i],  lonx2[i] )\n",
    "    D  = ( latx3[i],  lonx3[i] )\n",
    "\n",
    "    a = latlong_to_cartesian(A)\n",
    "    b = latlong_to_cartesian(B)\n",
    "    c = latlong_to_cartesian(C)\n",
    "    d = latlong_to_cartesian(D)\n",
    "    \n",
    "    round1 = spherical_area(a, b, c)\n",
    "    round2 = spherical_area(c, d, a)\n",
    "    grid_area[i] = round1 + round2\n",
    "    if ((i % 100_000 )==0):\n",
    "        print(i,nop)\n"
   ]
  },
  {
   "cell_type": "code",
   "execution_count": null,
   "id": "e965398f-0457-44e1-b31b-2ebe4c992d0f",
   "metadata": {},
   "outputs": [],
   "source": [
    "print(np.sum(grid_area) , 4.*np.pi )"
   ]
  },
  {
   "cell_type": "code",
   "execution_count": null,
   "id": "6ea3f8e6-e79e-45e5-ae0b-21e3ae9a8ac6",
   "metadata": {},
   "outputs": [],
   "source": [
    "xlat=np.linspace(-90,90,num=181)\n",
    "xlon=np.linspace(0,360,num=360)\n",
    "X,Y=np.meshgrid(xlon,xlat)\n",
    "print(X.shape)\n",
    "Z=X*0."
   ]
  },
  {
   "cell_type": "code",
   "execution_count": null,
   "id": "96989679-58a2-42e7-a9c2-638a91a93f92",
   "metadata": {},
   "outputs": [],
   "source": [
    "ooo=np.c_[lon,lat]\n",
    "\n",
    "dlo=Dl(ooo)\n",
    "\n",
    "# Interpolote ocean mask to lat lon\n",
    "grinx = Ni( dlo, grid_area )\n",
    "grid_area_xy = grinx( X, Y )"
   ]
  },
  {
   "cell_type": "code",
   "execution_count": null,
   "id": "fd5e7f8d-294b-4192-a084-9c39321ba836",
   "metadata": {},
   "outputs": [],
   "source": [
    "clev=np.logspace(-7,-4.2,num=51)\n",
    "fig = plt.figure(figsize=(15,10))\n",
    "ax = plt.axes(projection=ccrs.PlateCarree(central_longitude=180.))\n",
    "ax.coastlines(color=\"white\")\n",
    "\n",
    "cf = ax.contourf(xlon, xlat, grid_area_xy ,  levels=clev  , transform=ccrs.PlateCarree() , cmap=\"gist_ncar\")\n",
    "ax.set_title( \"C540-CONUS grid area (steradians)\")\n",
    "plt.colorbar(cf,ax=ax,shrink=.5,label='Steradians')"
   ]
  },
  {
   "cell_type": "code",
   "execution_count": null,
   "id": "9155bbb0-df00-4c3f-90e9-7ebc61d1f1a9",
   "metadata": {},
   "outputs": [],
   "source": [
    "refinement= np.sqrt( np.max(grid_area_xy) / grid_area_xy )\n",
    "clev=np.linspace(0,10,num=21)\n",
    "fig = plt.figure(figsize=(15,10))\n",
    "ax = plt.axes(projection=ccrs.PlateCarree(central_longitude=180.))\n",
    "ax.coastlines(color=\"black\")\n",
    "\n",
    "cf = ax.contourf(xlon, xlat, refinement ,  levels=clev  , transform=ccrs.PlateCarree() , cmap=\"gist_ncar\")\n",
    "ax.set_title( \"C540 Refinement factor\")\n",
    "plt.colorbar(cf,ax=ax,shrink=.5,label='Refinement')"
   ]
  },
  {
   "cell_type": "code",
   "execution_count": null,
   "id": "9fb06028-f762-45c0-9872-983adda25a17",
   "metadata": {},
   "outputs": [],
   "source": [
    "Rearth = 6378.1\n",
    "grid_length = np.sqrt((Rearth**2)* grid_area_xy )\n",
    "clev=np.linspace(0,50,num=51)\n",
    "fig = plt.figure(figsize=(15,10))\n",
    "ax = plt.axes(projection=ccrs.PlateCarree(central_longitude=180.))\n",
    "ax.coastlines(color=\"black\")\n",
    "\n",
    "cf = ax.contourf(xlon, xlat, grid_length ,  levels=clev  , transform=ccrs.PlateCarree() , cmap=\"gist_ncar\")\n",
    "ax.set_title( \"C540-CONUS Gridlength scale \")\n",
    "plt.colorbar(cf,ax=ax,shrink=.5,label='Length (km)')"
   ]
  },
  {
   "cell_type": "code",
   "execution_count": null,
   "id": "ec4e61e8-ced6-4daf-bd5a-3bd610191f58",
   "metadata": {},
   "outputs": [],
   "source": [
    "xx=1.5\n",
    "print(np.round(xx))\n",
    "irefinement=np.round(refinement)\n",
    "refinement_c = np.sqrt( np.max(grid_area) / grid_area )\n",
    "irefinement_c=np.round(refinement_c)\n"
   ]
  },
  {
   "cell_type": "code",
   "execution_count": null,
   "id": "6e377678-dfbd-43d1-86e8-1a79fe6b28d6",
   "metadata": {},
   "outputs": [],
   "source": [
    "Rearth = 6378.1\n",
    "grid_length = np.sqrt((Rearth**2)* grid_area_xy )\n",
    "clev=np.linspace(-1,10,num=12)\n",
    "fig = plt.figure(figsize=(15,10))\n",
    "ax = plt.axes(projection=ccrs.PlateCarree(central_longitude=180.))\n",
    "ax.coastlines(color=\"black\")\n",
    "\n",
    "cf = ax.contourf(xlon, xlat, irefinement ,  levels=clev  , transform=ccrs.PlateCarree() , cmap=\"gist_ncar\")\n",
    "ax.set_title( \"C540-CONUS Gridlength scale \")\n",
    "plt.colorbar(cf,ax=ax,shrink=.5,label='Length (km)')"
   ]
  },
  {
   "cell_type": "code",
   "execution_count": null,
   "id": "b33b83cc-8242-483a-813d-1e15a0c0d247",
   "metadata": {},
   "outputs": [],
   "source": [
    "scripF='/glade/p/cesmdata/inputdata/share/scripgrids/C540_SCRIP_desc.230330.nc'\n",
    "d=xr.open_dataset(scripF)\n",
    "\n",
    "print(d['grid_center_lat'].coords)\n",
    "print(d['grid_center_lat'].dims)\n"
   ]
  },
  {
   "cell_type": "code",
   "execution_count": null,
   "id": "7de8ef55-bf23-40f1-b1bb-298d13c82e39",
   "metadata": {},
   "outputs": [],
   "source": [
    "Dar = xr.DataArray( data=irefinement_c , dims=['grid_size']  , \n",
    "                    attrs=dict( description='Integer_Refinement_Factor',units='1',) ,) \n",
    "    \n"
   ]
  },
  {
   "cell_type": "code",
   "execution_count": null,
   "id": "3cca061b-e04f-43e6-b4f1-641be47fd791",
   "metadata": {},
   "outputs": [],
   "source": [
    "d['grid_refinement_factor']=Dar"
   ]
  },
  {
   "cell_type": "code",
   "execution_count": null,
   "id": "e0d2186b-909c-4c24-9ffa-1885fa7c77e3",
   "metadata": {},
   "outputs": [],
   "source": [
    "d.to_netcdf( 'C540_CONUS_SCRIP_desc.nc' )"
   ]
  },
  {
   "cell_type": "code",
   "execution_count": null,
   "id": "e40df224-e146-4d06-add6-37b4116c9609",
   "metadata": {},
   "outputs": [],
   "source": [
    "print(list(d.variables))"
   ]
  },
  {
   "cell_type": "code",
   "execution_count": null,
   "id": "fb07c523-04d0-459a-bc1c-7bdafc98bab4",
   "metadata": {},
   "outputs": [],
   "source": [
    "clev=np.linspace(1e-6,10e-6,num=31)\n",
    "ax = plt.axes(projection=ccrs.PlateCarree(central_longitude=180.))\n",
    "ax.coastlines()\n",
    "plt.tricontourf( lon,lat, grid_area , levels=clev, alpha=.5)\n",
    "plt.colorbar()"
   ]
  },
  {
   "cell_type": "code",
   "execution_count": null,
   "id": "cf07af40-80bc-4399-bbf9-b20e4584ef9f",
   "metadata": {},
   "outputs": [],
   "source": [
    "#plt.tricontourf( d['grid_center_lon'] , d['grid_center_lat'] , d['grid_area'] )\n",
    "cc=np.max(area)/area\n",
    "#cc=np.max(grid_area)/grid_area\n",
    "plt.get_cmap(\"jet\")\n",
    "idx=np.arange(start=0,stop=len(lon),step=100)\n",
    "#plt.plot( lon , lat,'.' ,markersize=.1,markevery=10,c=cc) # ,cmap=plt.get_cmap(\"jet\"))\n",
    "\n",
    "oo=np.where( (abs(lon-232.8)<.25) & (abs(lat-37.9)<.25) )\n",
    "idx=oo[0][0]\n",
    "plt.scatter( lon[idx] , lat[idx]  ,s=50 ,cmap=\"cool\",c=cc[idx] )\n",
    "plt.colorbar()\n",
    "#plt.scatter( lon[idx] , lat[idx]  ,s=50 ,color='black') #,cmap=\"cool\",c=cc[idx] )\n",
    "plt.scatter( lonx0[idx] , latx0[idx] ,marker='v' ,s=50 ,color='red') #,cmap=\"cool\",c=cc[idx] )\n",
    "plt.scatter( lonx1[idx] , latx1[idx] ,marker='^' ,s=100 ,color='green') #,cmap=\"cool\",c=cc[idx] )\n",
    "plt.scatter( lonx2[idx] , latx2[idx] ,marker='+' ,s=50 ,color='blue') #,cmap=\"cool\",c=cc[idx] )\n",
    "plt.scatter( lonx3[idx] , latx3[idx] ,marker= 'x' ,s=50 ,color='orange') #,cmap=\"cool\",c=cc[idx] )\n",
    "plt.xlim(232.75,233.25)\n",
    "plt.ylim(38,38.25)\n",
    "\"\"\"\n",
    "plt.scatter( lon[idx] , lat[idx]  ,s=50 ,cmap=\"cool\",c=cc[idx] )\n",
    "plt.colorbar()\n",
    "\"\"\"\n",
    "#plt.xlim(232.,234)\n",
    "#plt.ylim(37.,39)\n",
    "#plt.plot(area)"
   ]
  },
  {
   "cell_type": "code",
   "execution_count": null,
   "id": "1cab46a0-8687-466d-b2ea-7b84ef65af41",
   "metadata": {},
   "outputs": [],
   "source": [
    "#from numpy import *\n",
    "    \n",
    "    \n",
    "# Latitude and longitude\n",
    "austin  = (30.2672,  97.7431)\n",
    "boston  = (42.3584,  71.0598)\n",
    "calgary = (51.0501, 114.0853)\n",
    "    \n",
    "a = latlong_to_cartesian(austin)\n",
    "b = latlong_to_cartesian(boston)\n",
    "c = latlong_to_cartesian(calgary)\n",
    "    \n",
    "round = spherical_area(a, b, c)\n",
    "flat  = flat_area(a, b, c)\n",
    "print(round, flat, round/flat)"
   ]
  },
  {
   "cell_type": "code",
   "execution_count": null,
   "id": "355d7f6d-1b96-4e26-a87e-175082ff3108",
   "metadata": {},
   "outputs": [],
   "source": []
  }
 ],
 "metadata": {
  "kernelspec": {
   "display_name": "Python [conda env:npl-XTND]",
   "language": "python",
   "name": "conda-env-npl-XTND-py"
  },
  "language_info": {
   "codemirror_mode": {
    "name": "ipython",
    "version": 3
   },
   "file_extension": ".py",
   "mimetype": "text/x-python",
   "name": "python",
   "nbconvert_exporter": "python",
   "pygments_lexer": "ipython3",
   "version": "3.8.13"
  }
 },
 "nbformat": 4,
 "nbformat_minor": 5
}
