{
 "cells": [
  {
   "cell_type": "code",
   "execution_count": null,
   "id": "4819f02d-b464-4790-9290-74b0771854a8",
   "metadata": {},
   "outputs": [],
   "source": [
    "# Import packages \n",
    "import sys\n",
    "sys.path.append('../Plotting/')\n",
    "\"\"\" Now you can imprt modules in ../Plotting\"\"\"\n",
    "import xyp_plot as xyp\n",
    "\n",
    "import xarray as xr\n",
    "import numpy as np\n",
    "import matplotlib.pyplot as plt\n",
    "import matplotlib as mpl\n",
    "import matplotlib.tri as tri\n",
    "import matplotlib.colors as colors\n",
    "\n",
    "from scipy.io import FortranFile\n",
    "\n",
    "import cartopy\n",
    "import cartopy.crs as ccrs\n",
    "import cartopy.feature as cfeature\n",
    "#import ana as a\n",
    "\n",
    "import importlib\n",
    "\n",
    "import glob"
   ]
  },
  {
   "cell_type": "code",
   "execution_count": null,
   "id": "d0f84c29-38c8-4cfd-941d-5911875e5284",
   "metadata": {},
   "outputs": [],
   "source": [
    "bndtopo='/glade/scratch/pel/Topo/cube_to_target/output/ne16pg3_gmted2010_modis_bedmachine_nc3000_Laplace0200_20230202.nc'"
   ]
  },
  {
   "cell_type": "code",
   "execution_count": null,
   "id": "328aa2fd-f7b5-446f-8f70-7c3cbd83376a",
   "metadata": {},
   "outputs": [],
   "source": [
    "topo=xr.open_dataset(bndtopo)"
   ]
  },
  {
   "cell_type": "code",
   "execution_count": null,
   "id": "30cefc96-3714-4889-840a-255c501b2da9",
   "metadata": {},
   "outputs": [],
   "source": [
    "plt.plot(  topo['ANGLL'].values.flatten(), topo['ANGLX'].values.flatten()   , '.')\n",
    "plt.xlim(0,180)\n",
    "plt.ylim(0,180)"
   ]
  },
  {
   "cell_type": "code",
   "execution_count": null,
   "id": "ec9cc9cb-75b4-4e22-9896-ceb449937fae",
   "metadata": {},
   "outputs": [],
   "source": [
    "lat=topo['lat'].values\n",
    "lon=topo['lon'].values\n",
    "mxdis=topo['MXDIS'].values\n"
   ]
  },
  {
   "cell_type": "code",
   "execution_count": null,
   "id": "daf4d120-8242-4adb-bf9d-999cff90440f",
   "metadata": {},
   "outputs": [],
   "source": [
    "print(np.shape(mxdis))"
   ]
  },
  {
   "cell_type": "code",
   "execution_count": null,
   "id": "f407ce57-af7d-4e77-badd-2ef4df1431cc",
   "metadata": {},
   "outputs": [],
   "source": []
  }
 ],
 "metadata": {
  "kernelspec": {
   "display_name": "NPL 2022b",
   "language": "python",
   "name": "npl-2022b"
  },
  "language_info": {
   "codemirror_mode": {
    "name": "ipython",
    "version": 3
   },
   "file_extension": ".py",
   "mimetype": "text/x-python",
   "name": "python",
   "nbconvert_exporter": "python",
   "pygments_lexer": "ipython3",
   "version": "3.8.13"
  }
 },
 "nbformat": 4,
 "nbformat_minor": 5
}
