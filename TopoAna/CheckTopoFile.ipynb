{
 "cells": [
  {
   "cell_type": "code",
   "execution_count": null,
   "id": "4819f02d-b464-4790-9290-74b0771854a8",
   "metadata": {},
   "outputs": [],
   "source": [
    "# Import packages \n",
    "import sys\n",
    "sys.path.append('../Plotting/')\n",
    "\"\"\" Now you can imprt modules in ../Plotting\"\"\"\n",
    "import xyp_plot as xyp\n",
    "\n",
    "import xarray as xr\n",
    "import numpy as np\n",
    "import matplotlib.pyplot as plt\n",
    "import matplotlib as mpl\n",
    "import matplotlib.tri as tri\n",
    "import matplotlib.colors as colors\n",
    "\n",
    "from scipy.io import FortranFile\n",
    "\n",
    "import cartopy\n",
    "import cartopy.crs as ccrs\n",
    "import cartopy.feature as cfeature\n",
    "#import ana as a\n",
    "\n",
    "import importlib\n",
    "\n",
    "import glob"
   ]
  },
  {
   "cell_type": "code",
   "execution_count": null,
   "id": "d0f84c29-38c8-4cfd-941d-5911875e5284",
   "metadata": {},
   "outputs": [],
   "source": [
    "#bndtopo='/glade/scratch/pel/Topo/cube_to_target/output/ne16pg3_gmted2010_modis_bedmachine_nc3000_Laplace0200_20230202.nc'\n",
    "\n",
    "#bndtopo= \"/glade/scratch/aherring/restart/ne30pg3_gmted2010_bedmachine_nc3000_Laplace0100_20220531.map_TO_f09.nc\"\n",
    "\n",
    "bndtopo=\"/glade/p/cgd/amp/juliob/bndtopo/latest/ne30pg3_gmted2010_modis_bedmachine_nc3000_Laplace0100_20230105.nc\"\n",
    "\n",
    "#bndtopo=\"/glade/p/cgd/amp/juliob/bndtopo/latest/ne30pg3_gmted2010_modis_bedmachine_nc3000_Laplace0100_20220622-BROKEN.nc\"   \n"
   ]
  },
  {
   "cell_type": "code",
   "execution_count": null,
   "id": "328aa2fd-f7b5-446f-8f70-7c3cbd83376a",
   "metadata": {},
   "outputs": [],
   "source": [
    "topo=xr.open_dataset(bndtopo)"
   ]
  },
  {
   "cell_type": "code",
   "execution_count": null,
   "id": "30cefc96-3714-4889-840a-255c501b2da9",
   "metadata": {},
   "outputs": [],
   "source": [
    "plt.plot(  topo['ANGLL'].values.flatten(), topo['ANGLX'].values.flatten()   , '.')\n",
    "plt.xlim(0,180)\n",
    "plt.ylim(0,180)"
   ]
  },
  {
   "cell_type": "code",
   "execution_count": null,
   "id": "ec9cc9cb-75b4-4e22-9896-ceb449937fae",
   "metadata": {},
   "outputs": [],
   "source": [
    "lat=topo['lat'].values\n",
    "lon=topo['lon'].values\n",
    "mxdis=topo['MXDIS'].values\n",
    "angll=topo['ANGLL'].values\n",
    "anglx=topo['ANGLX'].values\n",
    "\n",
    "\n",
    "UnstrucGrid = (np.shape(lon)==np.shape(mxdis[0,:]) )\n"
   ]
  },
  {
   "cell_type": "code",
   "execution_count": null,
   "id": "daf4d120-8242-4adb-bf9d-999cff90440f",
   "metadata": {},
   "outputs": [],
   "source": [
    "clang=np.linspace(0,180.,num=17)\n",
    "dangl=anglx-angll\n",
    "\n",
    "if (UnstrucGrid==True):    \n",
    "    fig,ax=plt.subplots(3  , figsize=(10,30) )\n",
    "    po=ax[0].tricontourf(lon.flatten(), lat.flatten() , mxdis[0,:].flatten() )\n",
    "    plt.colorbar( po , ax=ax[0] ) #po,cax=ax)\n",
    " \n",
    "    po=ax[1].tricontourf(lon.flatten(), lat.flatten() , angll[0,:].flatten() , levels=clang)\n",
    "    plt.colorbar( po , ax=ax[1] ) #po,cax=ax)\n",
    "\n",
    "    po=ax[2].tricontourf(lon.flatten(), lat.flatten() , dangl[0,:].flatten() , levels=(clang-90.)*2)\n",
    "    plt.colorbar( po , ax=ax[2] ) #po,cax=ax)\n",
    "else:\n",
    "    fig,ax=plt.subplots(3  , figsize=(10,30) )\n",
    "    po=ax[0].contourf(lon, lat , mxdis[0,:,:] )\n",
    "    plt.colorbar( po , ax=ax[0] ) #po,cax=ax)\n",
    "\n",
    "    po=ax[1].contourf(lon, lat , angll[0,:,:] , levels=clang)\n",
    "    plt.colorbar( po , ax=ax[1] ) #po,cax=ax)\n",
    "\n",
    "    po=ax[2].contourf(lon , lat , dangl[0,:,:] , levels=(clang-90.)*2)\n",
    "    plt.colorbar( po , ax=ax[2] ) #po,cax=ax)\n",
    "\n",
    "ax[0].set_title('Ridge Height (m)')\n",
    "ax[1].set_title('Ridge angle in lat-lon system: Clockwise from true North (degrees)')\n",
    "ax[2].set_title('Difference between ridge angles in lat-lon system and Cubed-sphere system')\n",
    "\n",
    "    \n"
   ]
  },
  {
   "cell_type": "code",
   "execution_count": null,
   "id": "f407ce57-af7d-4e77-badd-2ef4df1431cc",
   "metadata": {},
   "outputs": [],
   "source": []
  }
 ],
 "metadata": {
  "kernelspec": {
   "display_name": "NPL 2023b",
   "language": "python",
   "name": "npl-2023b"
  },
  "language_info": {
   "codemirror_mode": {
    "name": "ipython",
    "version": 3
   },
   "file_extension": ".py",
   "mimetype": "text/x-python",
   "name": "python",
   "nbconvert_exporter": "python",
   "pygments_lexer": "ipython3",
   "version": "3.10.12"
  }
 },
 "nbformat": 4,
 "nbformat_minor": 5
}
