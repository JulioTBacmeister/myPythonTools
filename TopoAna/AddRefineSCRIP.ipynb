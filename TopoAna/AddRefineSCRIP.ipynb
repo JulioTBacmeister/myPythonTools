{
 "cells": [
  {
   "cell_type": "code",
   "execution_count": null,
   "id": "cb2362eb-7ff6-4695-aceb-3c766df68d97",
   "metadata": {},
   "outputs": [],
   "source": [
    "# Import packages \n",
    "import os\n",
    "import sys\n",
    "\n",
    "import xarray as xr\n",
    "import numpy as np\n",
    "import matplotlib.pyplot as plt\n",
    "import matplotlib as mpl\n",
    "import matplotlib.tri as tri\n",
    "import matplotlib.colors as colors\n",
    "\n",
    "from scipy.io import FortranFile\n",
    "from scipy.interpolate import LinearNDInterpolator as Li\n",
    "from scipy.interpolate import NearestNDInterpolator as Ni\n",
    "from scipy.spatial import Delaunay as Dl\n",
    "\n",
    "import cartopy\n",
    "import cartopy.crs as ccrs\n",
    "import cartopy.feature as cfeature\n",
    "\n",
    "import importlib\n",
    "import glob\n",
    "import copy"
   ]
  },
  {
   "cell_type": "code",
   "execution_count": null,
   "id": "d034a088-b6f8-4cc2-a25d-6e687c11761e",
   "metadata": {},
   "outputs": [],
   "source": [
    "# ----------------------------------\n",
    "# Functions to calculate area of\n",
    "# triangle on a sphere\n",
    "#-----------------------------------\n",
    "def latlong_to_cartesian(latlong):\n",
    "    phi   = np.deg2rad( 90 - latlong[0] )\n",
    "    theta = np.deg2rad( latlong[1] )\n",
    "    \n",
    "    x = np.sin(phi) * np.cos(theta)\n",
    "    y = np.sin(phi) * np.sin(theta)\n",
    "    z = np.cos(phi)\n",
    "    return np.array([x,y,z])\n",
    "    \n",
    "def spherical_area(a, b, c):\n",
    "    t = np.abs( np.inner(a, np.cross(b, c) ) )\n",
    "    t /= 1 + np.inner(a,b) + np.inner(b,c) + np.inner(a,c)\n",
    "    return 2*np.arctan(t)\n",
    "    \n",
    "def flat_area(a, b, c):\n",
    "    x = np.cross(a - b, c - b)\n",
    "    return 0.5*np.linalg.norm(x)\n"
   ]
  },
  {
   "cell_type": "raw",
   "id": "4a5c5558-e934-45b8-a6ea-d091567f467f",
   "metadata": {},
   "source": [
    "The C540 SCRIP grids are under\n",
    "/glade/p/cesmdata/inputdata/share/scripgrids/\n",
    "\n",
    "Of the three you will only need the cell centered grid descriptor.\n",
    "\n",
    "C540_EW_SCRIP_desc.230330.nc   (UWIND grid)\n",
    "C540_NS_SCRIP_desc.230330.nc   (VWIND grid)\n",
    "C540_SCRIP_desc.230330.nc      (cell centered grid)\n",
    "\n",
    "I used my own ncl script to make these.\n",
    "/glade/p/cesmdata/cseg/mapping/code/jet/fv3tiles_to_SCRIP.ncl\n"
   ]
  },
  {
   "cell_type": "code",
   "execution_count": null,
   "id": "ccca69f7-be9c-48b6-8871-4e5f2f4fac9a",
   "metadata": {},
   "outputs": [],
   "source": [
    "#scripF='/glade/p/cesmdata/inputdata/share/scripgrids/C540_SCRIP_desc.230330.nc'\n",
    "scripF='PE540x3240-CF.nc4'\n",
    "dS=xr.open_dataset(scripF)"
   ]
  },
  {
   "cell_type": "code",
   "execution_count": null,
   "id": "38d2ecf7-a698-430c-b66f-ad6831c9faa7",
   "metadata": {},
   "outputs": [],
   "source": [
    "print(list(dS.variables))"
   ]
  },
  {
   "cell_type": "code",
   "execution_count": null,
   "id": "b2e80b37-d998-49de-89c5-fbda05c8f734",
   "metadata": {
    "tags": []
   },
   "outputs": [],
   "source": [
    "lon=dS['grid_center_lon'].values\n",
    "lat=dS['grid_center_lat'].values\n",
    "crlon=dS['grid_corner_lon'].values\n",
    "crlat=dS['grid_corner_lat'].values\n",
    "grid_area=dS['grid_area'].values\n",
    "\n",
    "\n",
    "lonx0=crlon[:,0]\n",
    "latx0=crlat[:,0]\n",
    "lonx1=crlon[:,1]\n",
    "latx1=crlat[:,1] \n",
    "lonx2=crlon[:,2]\n",
    "latx2=crlat[:,2]\n",
    "lonx3=crlon[:,3]\n",
    "latx3=crlat[:,3] "
   ]
  },
  {
   "cell_type": "code",
   "execution_count": null,
   "id": "23c6b0f7-58ea-4abc-b666-e321152b8c67",
   "metadata": {},
   "outputs": [],
   "source": [
    "print(np.sum(grid_area) , 4.*np.pi )"
   ]
  },
  {
   "cell_type": "markdown",
   "id": "3b566959-dc88-40b9-aa05-357f53c1edef",
   "metadata": {},
   "source": [
    "## A good place to STOP for a while"
   ]
  },
  {
   "cell_type": "code",
   "execution_count": null,
   "id": "26fa357f-49d5-4677-95ee-2fe761af155d",
   "metadata": {
    "tags": []
   },
   "outputs": [],
   "source": [
    "refinement_c = np.sqrt( np.max(grid_area) / grid_area )\n",
    "irefinement_c=np.round(refinement_c)"
   ]
  },
  {
   "cell_type": "code",
   "execution_count": null,
   "id": "53796e26-0c7a-4ccb-b2ba-bd2efcd10e73",
   "metadata": {},
   "outputs": [],
   "source": [
    "print(np.min(irefinement_c))"
   ]
  },
  {
   "cell_type": "code",
   "execution_count": null,
   "id": "1ef41e23-bbb4-47fc-abe4-96b7ef50c22a",
   "metadata": {
    "tags": []
   },
   "outputs": [],
   "source": [
    "dScopy = copy.deepcopy( dS )\n",
    "Dar1 = xr.DataArray( data=grid_area , dims=['grid_size']  , \n",
    "                    attrs=dict( description='Grid_cell_area',units='Steradians',) ,) \n",
    "\n",
    "dScopy['grid_area']=Dar1\n",
    "\n",
    "Dar2 = xr.DataArray( data=irefinement_c , dims=['grid_size']  , \n",
    "                    attrs=dict( description='Integer_Refinement_Factor',units='1',) ,) \n",
    "    \n",
    "dScopy['grid_refinement_factor']=Dar2\n",
    "\n",
    "dScopy.to_netcdf( 'PE540x3240-Refinement-CF.nc' )"
   ]
  }
 ],
 "metadata": {
  "kernelspec": {
   "display_name": "Python [conda env:npl-XTND]",
   "language": "python",
   "name": "conda-env-npl-XTND-py"
  },
  "language_info": {
   "codemirror_mode": {
    "name": "ipython",
    "version": 3
   },
   "file_extension": ".py",
   "mimetype": "text/x-python",
   "name": "python",
   "nbconvert_exporter": "python",
   "pygments_lexer": "ipython3",
   "version": "3.8.13"
  }
 },
 "nbformat": 4,
 "nbformat_minor": 5
}
