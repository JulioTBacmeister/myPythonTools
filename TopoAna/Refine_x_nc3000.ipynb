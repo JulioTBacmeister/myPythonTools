{
 "cells": [
  {
   "cell_type": "code",
   "execution_count": null,
   "id": "e82ed33f-00b7-43e0-8391-b91901e8fd59",
   "metadata": {},
   "outputs": [],
   "source": [
    "#Import packages \n",
    "import os\n",
    "import sys\n",
    "\n",
    "import xarray as xr\n",
    "import numpy as np\n",
    "import matplotlib.pyplot as plt\n",
    "import matplotlib as mpl\n",
    "import matplotlib.tri as tri\n",
    "import matplotlib.colors as colors\n",
    "\n",
    "from scipy.io import FortranFile\n",
    "from scipy.interpolate import LinearNDInterpolator as Li\n",
    "from scipy.interpolate import NearestNDInterpolator as Ni\n",
    "from scipy.spatial import Delaunay as Dl\n",
    "\n",
    "import cartopy\n",
    "import cartopy.crs as ccrs\n",
    "import cartopy.feature as cfeature\n",
    "\n",
    "import importlib\n",
    "import glob\n"
   ]
  },
  {
   "cell_type": "code",
   "execution_count": null,
   "id": "328d77ac-3095-461d-8cf1-2d4c33e941c9",
   "metadata": {},
   "outputs": [],
   "source": [
    "Ds = xr.open_dataset( 'C540_CONUS_SCRIP_desc.nc' )"
   ]
  },
  {
   "cell_type": "code",
   "execution_count": null,
   "id": "6327670e-85b0-4db9-8698-134961a93e4e",
   "metadata": {},
   "outputs": [],
   "source": [
    "lon=Ds['grid_center_lon'].values\n",
    "lat=Ds['grid_center_lat'].values\n",
    "crlon=Ds['grid_corner_lon'].values\n",
    "crlat=Ds['grid_corner_lat'].values\n",
    "refine=Ds['grid_refinement_factor'].values\n",
    "\n"
   ]
  },
  {
   "cell_type": "code",
   "execution_count": null,
   "id": "f9bf8f2a-e89c-4835-a5b2-e22429266d3b",
   "metadata": {},
   "outputs": [],
   "source": [
    "xlat=np.linspace(-90,90,num=181)\n",
    "xlon=np.linspace(0,360,num=360)\n",
    "X,Y=np.meshgrid(xlon,xlat)\n",
    "print(X.shape)\n",
    "Z=X*0.\n",
    "\n",
    "ooo=np.c_[lon,lat]\n",
    "\n",
    "dlo=Dl(ooo)\n",
    "\n",
    "# Interpolote ocean mask to lat lon\n",
    "grinx = Ni( dlo, refine )\n",
    "refine_xy = grinx( X, Y )"
   ]
  },
  {
   "cell_type": "code",
   "execution_count": null,
   "id": "61f04e71-e188-49b9-b945-347d0e1aaa0b",
   "metadata": {},
   "outputs": [],
   "source": [
    "fTopo='/glade/p/cgd/amp/pel/topo/cubedata/gmted2010_modis_bedmachine-ncube3000-220518.nc'\n",
    "dTopo=xr.open_dataset( fTopo )\n",
    "print( list(dTopo.variables))"
   ]
  },
  {
   "cell_type": "code",
   "execution_count": null,
   "id": "951b9597-b797-46f2-8c79-172301fbdfa2",
   "metadata": {},
   "outputs": [],
   "source": [
    "lat3K=dTopo['lat'].values\n",
    "lon3K=dTopo['lon'].values\n",
    "refine_3K = grinx( lon3K, lat3K )\n",
    "print(np.shape(refine_3K ))"
   ]
  },
  {
   "cell_type": "code",
   "execution_count": null,
   "id": "90fc0efb-e109-494c-8d94-e5bcd8d8242d",
   "metadata": {},
   "outputs": [],
   "source": [
    "terr=dTopo['terr'].values\n"
   ]
  },
  {
   "cell_type": "code",
   "execution_count": null,
   "id": "cc88756c-83aa-4cec-a2fb-fe262f5510ba",
   "metadata": {},
   "outputs": [],
   "source": [
    "print(refine_3K.dtype)"
   ]
  },
  {
   "cell_type": "code",
   "execution_count": null,
   "id": "896ebb72-712b-4121-a667-78ad43effb80",
   "metadata": {},
   "outputs": [],
   "source": [
    "irefine_3K = refine_3K.astype(np.int32)"
   ]
  },
  {
   "cell_type": "code",
   "execution_count": null,
   "id": "50906a4e-5f7e-46a6-8ffa-f4c690daf953",
   "metadata": {},
   "outputs": [],
   "source": [
    "print(irefine_3K.dtype)"
   ]
  },
  {
   "cell_type": "code",
   "execution_count": null,
   "id": "ecfb2fbb-b6aa-4e37-b5cd-f918f5e62983",
   "metadata": {},
   "outputs": [],
   "source": [
    "terrxy=np.reshape( terr, (6,3000,3000))\n",
    "latxy=np.reshape( lat3K, (6,3000,3000))\n",
    "lonxy=np.reshape( lon3K, (6,3000,3000))\n",
    "ref3Kxy=np.reshape( refine_3K, (6,3000,3000))\n"
   ]
  },
  {
   "cell_type": "code",
   "execution_count": null,
   "id": "e81f7714-8b58-4804-934c-9a8ef5847144",
   "metadata": {},
   "outputs": [],
   "source": [
    "plt.contourf( terrxy[5,:,:] )"
   ]
  },
  {
   "cell_type": "code",
   "execution_count": null,
   "id": "ee1582e2-c3fb-4d71-8e7a-41a9942d1030",
   "metadata": {},
   "outputs": [],
   "source": [
    "dTopo.dims"
   ]
  },
  {
   "cell_type": "code",
   "execution_count": null,
   "id": "915f1809-1261-4883-91e8-617168f87ee4",
   "metadata": {},
   "outputs": [],
   "source": [
    "dic = { \n",
    "    'lon':{'dims':('grid_size'), 'data':lon3K },\n",
    "    'lat':{'dims':('grid_size'), 'data':lat3K },\n",
    "    'refine':{'dims':('grid_size'), 'data':refine_3K },\n",
    "    'irefine':{'dims':('grid_size'), 'data':irefine_3K },\n",
    "    }\n",
    "\n",
    "dRefine = xr.Dataset.from_dict(dic)"
   ]
  },
  {
   "cell_type": "code",
   "execution_count": null,
   "id": "2a5c3c86-5964-4a71-8116-433975b1b92d",
   "metadata": {},
   "outputs": [],
   "source": [
    "print(list(dRefine.variables))\n",
    "dRefine"
   ]
  },
  {
   "cell_type": "code",
   "execution_count": null,
   "id": "53a1b5bb-cf10-4ee4-b2c0-dd369f98e720",
   "metadata": {},
   "outputs": [],
   "source": [
    "dRefine.to_netcdf('C540_CONUS_refinement_nc3000.nc')"
   ]
  },
  {
   "cell_type": "code",
   "execution_count": null,
   "id": "093b6bd5-94a3-4908-acba-fda9116ac0b4",
   "metadata": {},
   "outputs": [],
   "source": [
    "plt.tricontourf( lonxy.flatten() , latxy.flatten(), ref3Kxy.flatten() )"
   ]
  },
  {
   "cell_type": "code",
   "execution_count": null,
   "id": "70ccc7d2-aee3-42b4-9bf4-c5d14e46b7e6",
   "metadata": {},
   "outputs": [],
   "source": [
    "clev=np.linspace(-1,10,num=12)\n",
    "fig = plt.figure(figsize=(15,10))\n",
    "ax = plt.axes(projection=ccrs.PlateCarree(central_longitude=180.))\n",
    "ax.coastlines(color=\"black\")\n",
    "\n",
    "cf = ax.contourf(xlon, xlat, refine_xy ,  levels=clev  , transform=ccrs.PlateCarree() , cmap=\"gist_ncar\")\n",
    "ax.set_title( \"C540-CONUS Refinement factor \")\n",
    "plt.colorbar(cf,ax=ax,shrink=.5,label='Factor')"
   ]
  },
  {
   "cell_type": "code",
   "execution_count": null,
   "id": "1847dec2-2483-4da6-9929-b98f43aa4e16",
   "metadata": {},
   "outputs": [],
   "source": []
  }
 ],
 "metadata": {
  "kernelspec": {
   "display_name": "Python [conda env:npl-XTND]",
   "language": "python",
   "name": "conda-env-npl-XTND-py"
  },
  "language_info": {
   "codemirror_mode": {
    "name": "ipython",
    "version": 3
   },
   "file_extension": ".py",
   "mimetype": "text/x-python",
   "name": "python",
   "nbconvert_exporter": "python",
   "pygments_lexer": "ipython3",
   "version": "3.8.13"
  }
 },
 "nbformat": 4,
 "nbformat_minor": 5
}
