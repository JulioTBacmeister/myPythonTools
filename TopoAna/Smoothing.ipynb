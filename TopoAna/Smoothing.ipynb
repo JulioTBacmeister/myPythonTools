{
 "cells": [
  {
   "cell_type": "code",
   "execution_count": null,
   "id": "4a29423c-eb42-46d0-859a-284436cd5b65",
   "metadata": {},
   "outputs": [],
   "source": [
    "import numpy as np\n",
    "import matplotlib.pyplot as plt\n",
    "from scipy.ndimage import gaussian_laplace\n",
    "\n",
    "# Define the size and shape of the kernel\n",
    "kernel_size = 25\n",
    "sigma = 3\n",
    "radius = kernel_size // 2\n",
    "\n",
    "# Create the conical smoothing kernel\n",
    "kernel = gaussian_laplace(np.zeros((kernel_size, kernel_size)), sigma=sigma)\n",
    "for i in range(kernel_size):\n",
    "    for j in range(kernel_size):\n",
    "        if np.sqrt((i-radius)**2 + (j-radius)**2) > radius:\n",
    "            kernel[i,j] = 0\n",
    "\n",
    "# Compute the response of the kernel as a function of radius\n",
    "response = np.zeros((radius+1,))\n",
    "for r in range(radius+1):\n",
    "    response[r] = np.mean(kernel[np.sqrt((np.indices(kernel.shape) - radius)**2).sum(axis=0) <= r])\n",
    "\n",
    "# Plot the response as a function of radius\n",
    "radius_values = np.arange(len(response))\n",
    "plt.plot(radius_values, response)\n",
    "plt.xlabel('Radius')\n",
    "plt.ylabel('Kernel Response')\n",
    "plt.title('Conical Smoothing Kernel Response')\n",
    "plt.show()"
   ]
  },
  {
   "cell_type": "code",
   "execution_count": null,
   "id": "af111186-fc7b-4a41-8131-494c6dc7a615",
   "metadata": {},
   "outputs": [],
   "source": [
    "plt.contour(kernel)"
   ]
  },
  {
   "cell_type": "code",
   "execution_count": null,
   "id": "392889a5-b279-450d-9bdd-6cd1d388e9dd",
   "metadata": {},
   "outputs": [],
   "source": [
    "import numpy as np\n",
    "import matplotlib.pyplot as plt\n",
    "import scipy.signal as sg\n",
    "\n",
    "# Define the size and shape of the kernel\n",
    "kernel_size = 100\n",
    "radius = kernel_size // 2\n",
    "\n",
    "# Create the conical smoothing kernel\n",
    "kernel = np.zeros((kernel_size, kernel_size))\n",
    "for i in range(kernel_size):\n",
    "    for j in range(kernel_size):\n",
    "        dist = np.sqrt((i - radius) ** 2 + (j - radius) ** 2)\n",
    "        if dist <= radius:\n",
    "            kernel[i, j] = 1 - dist / radius\n",
    "\n",
    "# Compute the response of the kernel as a function of radius\n",
    "response = np.zeros((radius + 1,))\n",
    "for r in range(radius + 1):\n",
    "    response[r] = np.mean(kernel[np.sqrt((np.indices(kernel.shape) - radius) ** 2).sum(axis=0) <= r])\n",
    "\n",
    "# Plot the response as a function of radius\n",
    "radius_values = np.arange(len(response))\n",
    "plt.plot(radius_values, response)\n",
    "plt.xlabel('Radius')\n",
    "plt.ylabel('Kernel Response')\n",
    "plt.title('Conical Smoothing Kernel Response')\n",
    "plt.show()\n"
   ]
  },
  {
   "cell_type": "code",
   "execution_count": null,
   "id": "97d59be3-9cd0-42d4-bb48-ae4838d4939d",
   "metadata": {},
   "outputs": [],
   "source": [
    "plt.contour(kernel)"
   ]
  },
  {
   "cell_type": "code",
   "execution_count": null,
   "id": "e7bc0ef5-c509-481a-b6c7-68a2d1adf337",
   "metadata": {},
   "outputs": [],
   "source": [
    "arr=np.zeros( (300,300) )\n",
    "arr[150,150]=1."
   ]
  },
  {
   "cell_type": "code",
   "execution_count": null,
   "id": "3f35998f-dadb-41c9-b33d-27c01ef09b3b",
   "metadata": {},
   "outputs": [],
   "source": [
    "soo=sg.convolve2d( arr , kernel, mode='same' ) / np.sum(kernel)\n",
    "soo2=sg.convolve2d( soo , kernel, mode='same' ) /np.sum(kernel)\n",
    "soo3=sg.convolve2d( soo2 , kernel, mode='same' ) /np.sum(kernel)\n",
    "soo4=sg.convolve2d( soo3 , kernel, mode='same' ) /np.sum(kernel)\n",
    "soo5=sg.convolve2d( soo4 , kernel, mode='same' ) /np.sum(kernel)"
   ]
  },
  {
   "cell_type": "code",
   "execution_count": null,
   "id": "dca2db85-97a7-4bde-adb6-8925f5b5fa5e",
   "metadata": {},
   "outputs": [],
   "source": [
    "print(np.shape(soo))"
   ]
  },
  {
   "cell_type": "code",
   "execution_count": null,
   "id": "0e42d43c-b041-467d-b75a-ffb6b7c8cdda",
   "metadata": {},
   "outputs": [],
   "source": [
    "plt.plot(soo[150,:])\n",
    "plt.plot(soo2[150,:])\n",
    "plt.plot(soo3[150,:])\n",
    "plt.plot(soo4[150,:])\n",
    "plt.plot(soo5[150,:])\n",
    "\n",
    "\n",
    "print(np.sum(soo2))"
   ]
  },
  {
   "cell_type": "code",
   "execution_count": null,
   "id": "b25b4ae9-5da2-49da-a466-e54aabf606fb",
   "metadata": {},
   "outputs": [],
   "source": []
  }
 ],
 "metadata": {
  "kernelspec": {
   "display_name": "Python [conda env:mlenv-2]",
   "language": "python",
   "name": "conda-env-mlenv-2-py"
  },
  "language_info": {
   "codemirror_mode": {
    "name": "ipython",
    "version": 3
   },
   "file_extension": ".py",
   "mimetype": "text/x-python",
   "name": "python",
   "nbconvert_exporter": "python",
   "pygments_lexer": "ipython3",
   "version": "3.9.12"
  }
 },
 "nbformat": 4,
 "nbformat_minor": 5
}
