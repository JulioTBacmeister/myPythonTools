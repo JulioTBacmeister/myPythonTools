{
 "cells": [
  {
   "cell_type": "code",
   "execution_count": null,
   "id": "f4a2ca53-7968-4ab1-bb8e-48764f143a49",
   "metadata": {},
   "outputs": [],
   "source": [
    "import numpy as np\n",
    "import matplotlib.pyplot as plt\n",
    "from scipy.signal import hilbert\n",
    "\n",
    "# Define the square pulse function\n",
    "def square_pulse(t, T):\n",
    "    return np.where(np.abs(t) < T / 2, 1, 0)\n",
    "\n",
    "# Parameters\n",
    "T = 2\n",
    "t = np.linspace(-3, 3, 1000)\n",
    "\n",
    "# Compute the square pulse and its Hilbert transform\n",
    "pulse = square_pulse(t, T)\n",
    "hilbert_pulse = np.imag(hilbert(pulse))\n",
    "\n",
    "# Plot the square pulse and its Hilbert transform\n",
    "plt.figure(figsize=(10, 5))\n",
    "\n",
    "plt.subplot(1, 2, 1)\n",
    "plt.plot(t, pulse, label=\"Square pulse\")\n",
    "plt.xlabel(\"Time\")\n",
    "plt.ylabel(\"Amplitude\")\n",
    "plt.title(\"Square Pulse\")\n",
    "plt.legend()\n",
    "\n",
    "plt.subplot(1, 2, 2)\n",
    "plt.plot(t, hilbert_pulse, label=\"Hilbert transform\", color=\"orange\")\n",
    "plt.xlabel(\"Time\")\n",
    "plt.ylabel(\"Amplitude\")\n",
    "plt.title(\"Hilbert Transform of Square Pulse\")\n",
    "plt.legend()\n",
    "\n",
    "plt.tight_layout()\n",
    "plt.show()"
   ]
  },
  {
   "cell_type": "code",
   "execution_count": null,
   "id": "40fe2d6f-65d9-4b20-b252-5d1a3c3fe7c6",
   "metadata": {},
   "outputs": [],
   "source": [
    "def cauchy(x,x0,w):\n",
    "    f = (1 / np.pi) * (w / ( (x - x0 )**2 + w**2))\n",
    "    return f"
   ]
  },
  {
   "cell_type": "code",
   "execution_count": null,
   "id": "b99cdf5d-4580-454e-a1de-27a4da066130",
   "metadata": {},
   "outputs": [],
   "source": [
    "def wedge(x,x0,w,h0=1.):\n",
    "    f = 1.-np.abs(x-x0)/w\n",
    "    f = h0 * np.where(f>0,f,0)\n",
    "    return f"
   ]
  },
  {
   "cell_type": "code",
   "execution_count": null,
   "id": "b95d499a-eed9-4ddc-b346-0f46ea2dc6d1",
   "metadata": {},
   "outputs": [],
   "source": [
    "def sinewv(x,x0,w,h0=1.):\n",
    "    f = h0*np.sin( (2*np.pi/w)*(x-x0) )\n",
    "    return f"
   ]
  },
  {
   "cell_type": "code",
   "execution_count": null,
   "id": "f55ee32b-7a84-4de2-bca2-cfb871e00974",
   "metadata": {},
   "outputs": [],
   "source": [
    "def witch(x,x0,w,h0=1.):\n",
    "    f = h0/( 1 +  ((x-x0)/w)**2 )\n",
    "    return f"
   ]
  },
  {
   "cell_type": "code",
   "execution_count": null,
   "id": "58c1afc4-2b9a-4f84-b9c1-aefcb34af127",
   "metadata": {},
   "outputs": [],
   "source": [
    "nx=10001\n",
    "x=np.linspace(-100.,100.,num=nx)\n",
    "x0=0.\n",
    "w=10.\n",
    "#f0=wedge(x=x,x0=x0,w=w,h0=1000.)\n",
    "f0=sinewv(x=x,x0=x0,w=40.,h0=400.)\n",
    "#f0=witch(x=x,x0=x0,w=w,h0=1000.)\n",
    "hilbert_f0=np.imag( hilbert(f0))"
   ]
  },
  {
   "cell_type": "code",
   "execution_count": null,
   "id": "1a389fed-c892-4458-a79e-06c44e0352c3",
   "metadata": {},
   "outputs": [],
   "source": [
    "nz=101\n",
    "z=np.linspace(0,20_000.,num=nz)\n",
    "U=10.\n",
    "N=0.01\n",
    "m=N/U\n",
    "X,Z = np.meshgrid(x,z)\n",
    "print(np.shape(X))"
   ]
  },
  {
   "cell_type": "code",
   "execution_count": null,
   "id": "4ec037cd-22a2-468f-a04d-66fe48d36ba8",
   "metadata": {},
   "outputs": [],
   "source": [
    "delts = np.zeros((nz,nx))\n",
    "strmf = np.zeros((nz,nx))\n",
    "for l in np.arange(nz):\n",
    "    delts[l,:] = f0[:]*np.cos( m*z[l] ) - hilbert_f0[:]*np.sin( m*z[l] )\n",
    "    strmf[l,:] = z[l]-delts[l,:]"
   ]
  },
  {
   "cell_type": "code",
   "execution_count": null,
   "id": "41de51d2-4285-42e1-a081-5a83b97f0799",
   "metadata": {},
   "outputs": [],
   "source": [
    "plt.contour(X,Z,strmf,levels=40)\n",
    "plt.plot(x,f0,color='black')"
   ]
  },
  {
   "cell_type": "code",
   "execution_count": null,
   "id": "683ce094-d48e-4808-919d-6371e8a7a09c",
   "metadata": {},
   "outputs": [],
   "source": [
    "plt.plot(x,f0)"
   ]
  },
  {
   "cell_type": "code",
   "execution_count": null,
   "id": "1663613f-ef0e-46a5-823b-f67a4132b4ee",
   "metadata": {},
   "outputs": [],
   "source": [
    "plt.figure(figsize=(10, 5))\n",
    "\n",
    "plt.subplot(1, 2, 1)\n",
    "plt.plot(x, f0, label=\"Function\")\n",
    "plt.xlabel(\"x\")\n",
    "plt.ylabel(\"Amplitude\")\n",
    "plt.title(\"Function\")\n",
    "plt.legend()\n",
    "\n",
    "plt.subplot(1, 2, 2)\n",
    "plt.plot(x, hilbert_f0, label=\"Hilbert transform\", color=\"orange\")\n",
    "plt.xlabel(\"x\")\n",
    "plt.ylabel(\"Amplitude\")\n",
    "plt.title(\"Hilbert Transform of Function\")\n",
    "plt.legend()\n"
   ]
  },
  {
   "cell_type": "code",
   "execution_count": null,
   "id": "b1cc0492-f1da-4ae2-9fb9-95809c34428a",
   "metadata": {},
   "outputs": [],
   "source": [
    "nz=101\n",
    "z=np.linspace(0,20_000.,num=nz)\n",
    "U=10.\n",
    "N=0.01\n",
    "m=N/U\n",
    "X,Z = np.meshgrid(x,z)\n",
    "print(np.shape(X))"
   ]
  },
  {
   "cell_type": "code",
   "execution_count": null,
   "id": "28a9fc1d-abd0-4346-91b1-5ae1d3c7243c",
   "metadata": {},
   "outputs": [],
   "source": [
    "delts = np.zeros((nz,nx))\n",
    "strmf = np.zeros((nz,nx))\n",
    "for l in np.arange(nz):\n",
    "    delts[l,:] = f0[:]*np.cos( m*z[l] ) - hilbert_f0[:]*np.sin( m*z[l] )\n",
    "    strmf[l,:] = z[l]-delts[l,:]"
   ]
  },
  {
   "cell_type": "code",
   "execution_count": null,
   "id": "8d081219-78f4-44c9-ba4e-ff36af7a39b2",
   "metadata": {},
   "outputs": [],
   "source": [
    "plt.plot(strmf[0,:])"
   ]
  },
  {
   "cell_type": "code",
   "execution_count": null,
   "id": "aa9db910-d223-4432-ae13-bf524d5ad760",
   "metadata": {},
   "outputs": [],
   "source": [
    "plt.contour(X,Z,strmf,levels=40)\n",
    "plt.plot(x,f0,color='black')"
   ]
  },
  {
   "cell_type": "code",
   "execution_count": null,
   "id": "db3438af-5506-496f-8f6e-878e83957161",
   "metadata": {},
   "outputs": [],
   "source": []
  }
 ],
 "metadata": {
  "kernelspec": {
   "display_name": "Python [conda env:mlenv-2]",
   "language": "python",
   "name": "conda-env-mlenv-2-py"
  },
  "language_info": {
   "codemirror_mode": {
    "name": "ipython",
    "version": 3
   },
   "file_extension": ".py",
   "mimetype": "text/x-python",
   "name": "python",
   "nbconvert_exporter": "python",
   "pygments_lexer": "ipython3",
   "version": "3.9.12"
  }
 },
 "nbformat": 4,
 "nbformat_minor": 5
}
