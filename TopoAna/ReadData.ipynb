{
 "cells": [
  {
   "cell_type": "markdown",
   "id": "e3757d0a-7998-4149-80e9-7b1e273aa6bb",
   "metadata": {},
   "source": [
    "# Transferring Topo stuff to python"
   ]
  },
  {
   "cell_type": "code",
   "execution_count": null,
   "id": "f369ae7b-3813-44eb-94cc-d86807ed7215",
   "metadata": {},
   "outputs": [],
   "source": [
    "# Import packages \n",
    "import sys\n",
    "sys.path.append('../Plotting/')\n",
    "\"\"\" Now you can imprt modules in ../Plotting\"\"\"\n",
    "import xyp_plot as xyp\n",
    "\n",
    "import xarray as xr\n",
    "import numpy as np\n",
    "import matplotlib.pyplot as plt\n",
    "import matplotlib as mpl\n",
    "import matplotlib.tri as tri\n",
    "import matplotlib.colors as colors\n",
    "\n",
    "from scipy.io import FortranFile\n",
    "\n",
    "import cartopy\n",
    "import cartopy.crs as ccrs\n",
    "import cartopy.feature as cfeature\n",
    "#import ana as a\n",
    "\n",
    "import importlib\n",
    "\n",
    "import glob"
   ]
  },
  {
   "cell_type": "markdown",
   "id": "7dfb67ab-48ff-4d8d-93e1-6e8bc1dc84ba",
   "metadata": {},
   "source": [
    "## Set some paths and directories"
   ]
  },
  {
   "cell_type": "code",
   "execution_count": null,
   "id": "04f9effa-3d61-46f0-996e-6d00f02addf9",
   "metadata": {},
   "outputs": [],
   "source": [
    "TopoRoot = '/glade/work/juliob/Topo/Topo/'\n",
    "Case = 'Reg_ne30pg3_co12_fi0_paa'"
   ]
  },
  {
   "cell_type": "markdown",
   "id": "5386b023-1853-499e-919f-6ea1078c65df",
   "metadata": {},
   "source": []
  },
  {
   "cell_type": "code",
   "execution_count": null,
   "id": "55c22f64-b6db-432c-a56f-6bc2e7b94083",
   "metadata": {},
   "outputs": [],
   "source": [
    "foo=glob.glob( TopoRoot +'/cases/'+ Case + '/output/topo*.nc')\n",
    "FileN = foo[-1]\n",
    "print(FileN)\n",
    "topo=xr.open_dataset( FileN )\n",
    "print(list(topo.variables))\n",
    "print(topo.attrs)\n",
    "raw=topo['terr_dev']+topo['terr_sm']\n",
    "Loo = np.size(raw)\n",
    "nc=int(np.sqrt( Loo/6 ))\n",
    "print(int(nc))\n",
    "raw=np.reshape( raw.values , (6,nc,nc) )\n",
    "tlats=np.reshape( topo['lat'].values , (6,nc,nc) )\n",
    "tlons=np.reshape( topo['lon'].values , (6,nc,nc) )\n"
   ]
  },
  {
   "cell_type": "markdown",
   "id": "b91afbd4-233e-4c96-8f68-0914a28993cd",
   "metadata": {},
   "source": [
    "## Read in 'remap' file currently an unformatted fortran file"
   ]
  },
  {
   "cell_type": "code",
   "execution_count": null,
   "id": "8f26e9a1-f179-499f-9b4b-efdd9ebd0d3e",
   "metadata": {},
   "outputs": [],
   "source": [
    "# RemapFile = 'remap_nc0540_Nsw008_Nrs000_Co012_Fi000_vX_20230106_1205.dat'\n",
    "# FileN=TopoRoot +'/cases/'+ Case + '/output/'+RemapFile\n",
    "\n",
    "# Do a file search in output directory\n",
    "# Pick last (most recent) file\n",
    "foo=glob.glob( TopoRoot +'/cases/'+ Case + '/output/remap*dat')\n",
    "FileN = foo[-1]\n",
    "\n",
    "f=FortranFile( FileN, 'r')\n",
    "idims=f.read_record( '<i4' )\n",
    "\n",
    "nc=idims[0]\n",
    "\n",
    "uniqi=f.read_record( '<f8'   ).reshape( 6,nc,nc)\n",
    "aniso=f.read_record( '<f8'   ).reshape( 6,nc,nc)\n",
    "anglx=f.read_record( '<f8'   ).reshape( 6,nc,nc)\n",
    "mxdis=f.read_record( '<f8'   ).reshape( 6,nc,nc)\n",
    "hwdth=f.read_record( '<f8'   ).reshape( 6,nc,nc)\n",
    "clngt=f.read_record( '<f8'   ).reshape( 6,nc,nc)\n",
    "block=f.read_record( '<f8'   ).reshape( 6,nc,nc)\n",
    "\n"
   ]
  },
  {
   "cell_type": "code",
   "execution_count": null,
   "id": "4d901e34-1a5f-4904-a4a8-f68a6d115ab2",
   "metadata": {},
   "outputs": [],
   "source": [
    "print(np.shape(foo))\n",
    "print(foo[-1])"
   ]
  },
  {
   "cell_type": "code",
   "execution_count": null,
   "id": "be29a43c-e004-4809-8d96-54b47733ca59",
   "metadata": {},
   "outputs": [],
   "source": [
    "#plt.figure(figsize=(20, 20))\n",
    "fig,ax = plt.subplots(1,2,figsize=(15,7.5))\n",
    "ax[0].contourf( block[4,:,:])\n",
    "#ax[0].contour( tlons[4,:,:], colors='white',clevels=51)\n",
    "ax[0].set_aspect('equal') #,'box')\n",
    "ax[1].contourf( block[5,:,:])\n",
    "ax[1].set_aspect('equal') #,'box')"
   ]
  },
  {
   "cell_type": "code",
   "execution_count": null,
   "id": "8d128d5b-2c17-4a0a-b779-bd2365b62af7",
   "metadata": {},
   "outputs": [],
   "source": [
    "print(idims[0])"
   ]
  },
  {
   "cell_type": "code",
   "execution_count": null,
   "id": "f0cc02ce-9ba4-4804-8779-abd3add25fd6",
   "metadata": {},
   "outputs": [],
   "source": [
    "print(nc*nc*6)"
   ]
  },
  {
   "cell_type": "code",
   "execution_count": null,
   "id": "fb118bda-bfd2-4b09-9a9c-adcf5e477ed7",
   "metadata": {},
   "outputs": [],
   "source": []
  }
 ],
 "metadata": {
  "kernelspec": {
   "display_name": "NPL 2022b",
   "language": "python",
   "name": "npl-2022b"
  },
  "language_info": {
   "codemirror_mode": {
    "name": "ipython",
    "version": 3
   },
   "file_extension": ".py",
   "mimetype": "text/x-python",
   "name": "python",
   "nbconvert_exporter": "python",
   "pygments_lexer": "ipython3",
   "version": "3.8.13"
  }
 },
 "nbformat": 4,
 "nbformat_minor": 5
}
