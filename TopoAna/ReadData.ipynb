{
 "cells": [
  {
   "cell_type": "markdown",
   "id": "e3757d0a-7998-4149-80e9-7b1e273aa6bb",
   "metadata": {},
   "source": [
    "# Transferring Topo stuff to python"
   ]
  },
  {
   "cell_type": "code",
   "execution_count": null,
   "id": "f369ae7b-3813-44eb-94cc-d86807ed7215",
   "metadata": {},
   "outputs": [],
   "source": [
    "# Import packages \n",
    "import os\n",
    "import sys\n",
    "\n",
    "import xarray as xr\n",
    "import numpy as np\n",
    "import matplotlib.pyplot as plt\n",
    "import matplotlib as mpl\n",
    "import matplotlib.tri as tri\n",
    "import matplotlib.colors as colors\n",
    "\n",
    "from scipy.io import FortranFile\n",
    "\n",
    "import cartopy\n",
    "import cartopy.crs as ccrs\n",
    "import cartopy.feature as cfeature\n",
    "\n",
    "import importlib\n",
    "import glob\n",
    "\n",
    "#sys.path.append('../Plotting/')\n",
    "#   Now you can imprt modules in ../Plotting\n",
    "#import xyp_plot as xyp\n",
    "#import ana as a\n"
   ]
  },
  {
   "cell_type": "code",
   "execution_count": null,
   "id": "c26ed2e8-ec71-429b-bc3b-3811cf7a3ad5",
   "metadata": {},
   "outputs": [],
   "source": [
    "host=os.getenv('HOST')\n",
    "host"
   ]
  },
  {
   "cell_type": "markdown",
   "id": "7dfb67ab-48ff-4d8d-93e1-6e8bc1dc84ba",
   "metadata": {},
   "source": [
    "## Set some paths and directories"
   ]
  },
  {
   "cell_type": "code",
   "execution_count": null,
   "id": "04f9effa-3d61-46f0-996e-6d00f02addf9",
   "metadata": {},
   "outputs": [],
   "source": [
    "TopoRoot = '/project/amp/juliob/Topo-generate-devel/Topo/Topo.git/'\n",
    "Case = 'ne30pg3_co60_fi0_bsln'"
   ]
  },
  {
   "cell_type": "markdown",
   "id": "5386b023-1853-499e-919f-6ea1078c65df",
   "metadata": {},
   "source": []
  },
  {
   "cell_type": "code",
   "execution_count": null,
   "id": "55c22f64-b6db-432c-a56f-6bc2e7b94083",
   "metadata": {},
   "outputs": [],
   "source": [
    "foo=glob.glob( TopoRoot +'/cases/'+ Case + '/output/topo*.nc')\n",
    "FileN = foo[-1]\n",
    "print(FileN)\n",
    "topo=xr.open_dataset( FileN )\n",
    "print(list(topo.variables))\n",
    "print(topo.attrs)\n",
    "raw=topo['terr_dev']+topo['terr_sm']\n",
    "Loo = np.size(raw)\n",
    "nc=int(np.sqrt( Loo/6 ))\n",
    "print(int(nc))\n",
    "raw=np.reshape( raw.values , (6,nc,nc) )\n",
    "dev=np.reshape( topo['terr_dev'].values , (6,nc,nc) )\n",
    "tlats=np.reshape( topo['lat'].values , (6,nc,nc) )\n",
    "tlons=np.reshape( topo['lon'].values , (6,nc,nc) )\n"
   ]
  },
  {
   "cell_type": "markdown",
   "id": "b91afbd4-233e-4c96-8f68-0914a28993cd",
   "metadata": {},
   "source": [
    "## Read in 'remap' file. Currently an unformatted fortran file"
   ]
  },
  {
   "cell_type": "code",
   "execution_count": null,
   "id": "8f26e9a1-f179-499f-9b4b-efdd9ebd0d3e",
   "metadata": {},
   "outputs": [],
   "source": [
    "# RemapFile = 'remap_nc0540_Nsw008_Nrs000_Co012_Fi000_vX_20230106_1205.dat'\n",
    "# FileN=TopoRoot +'/cases/'+ Case + '/output/'+RemapFile\n",
    "\n",
    "# Do a file search in output directory\n",
    "# Pick last (most recent) file\n",
    "foo=glob.glob( TopoRoot +'/cases/'+ Case + '/output/remap*dat')\n",
    "FileN = foo[-1]\n",
    "\n",
    "f=FortranFile( FileN, 'r')\n",
    "idims=f.read_record( '<i4' )\n",
    "\n",
    "nc=idims[0]\n",
    "\n",
    "uniqi=f.read_record( '<f8'   ).reshape( 6,nc,nc)\n",
    "aniso=f.read_record( '<f8'   ).reshape( 6,nc,nc)\n",
    "anglx=f.read_record( '<f8'   ).reshape( 6,nc,nc)\n",
    "mxdis=f.read_record( '<f8'   ).reshape( 6,nc,nc)\n",
    "hwdth=f.read_record( '<f8'   ).reshape( 6,nc,nc)\n",
    "clngt=f.read_record( '<f8'   ).reshape( 6,nc,nc)\n",
    "block=f.read_record( '<f8'   ).reshape( 6,nc,nc)\n",
    "profi=f.read_record( '<f8'   ).reshape( 6,nc,nc)\n",
    "nodes=f.read_record( '<f8'   ).reshape( 6,nc,nc)\n",
    "wedge=f.read_record( '<f8'   ).reshape( 6,nc,nc)\n",
    "nodos=f.read_record( '<f8'   ).reshape( 6,nc,nc)\n",
    "wedgo=f.read_record( '<f8'   ).reshape( 6,nc,nc)\n",
    "\n"
   ]
  },
  {
   "cell_type": "code",
   "execution_count": null,
   "id": "4d901e34-1a5f-4904-a4a8-f68a6d115ab2",
   "metadata": {},
   "outputs": [],
   "source": [
    "print(np.shape(foo))\n",
    "print(foo[-1])"
   ]
  },
  {
   "cell_type": "code",
   "execution_count": null,
   "id": "be29a43c-e004-4809-8d96-54b47733ca59",
   "metadata": {},
   "outputs": [],
   "source": [
    "#plt.figure(figsize=(20, 20))\n",
    "fig,ax = plt.subplots(2,figsize=(15,30))\n",
    "ax[0].contourf( block[3,:,:])\n",
    "#ax[0].contour( tlons[4,:,:], colors='white',clevels=51)\n",
    "ax[0].set_aspect('equal') #,'box')\n",
    "ax[1].contourf( block[4,:,:])\n",
    "ax[1].set_aspect('equal') #,'box')"
   ]
  },
  {
   "cell_type": "code",
   "execution_count": null,
   "id": "0d6aa51f-973d-4a83-981f-f1334301b56e",
   "metadata": {},
   "outputs": [],
   "source": [
    "ipanel=3\n",
    "\n",
    "xlim=(500,1500)\n",
    "ylim=(2000,3000)\n",
    "\n",
    "clevels=np.linspace(-500.,3500.,num=21)\n",
    "cmap=plt.cm.terrain\n",
    "fig,ax = plt.subplots(2,2,figsize=(15,15) ,squeeze=False , sharex=True)\n",
    "\n",
    "titlesize=16\n",
    "\n",
    "\n",
    "i,j=0,1\n",
    "cf=ax[i,j].contourf( dev[ipanel,:,:],cmap=cmap,levels=clevels)\n",
    "#cf=ax[0,0].contour( mxdis[ipanel,:,:],colors='black',levels=clevels)\n",
    "#cf=ax[0,0].contourf( raw[ipanel,:,:],cmap=cmap,levels=clevels) #,alpha=.99)\n",
    "#ax[0].contour( tlons[4,:,:], colors='white',clevels=51)\n",
    "#plt.colorbar(cf,ax=ax[0,0],location='bottom')\n",
    "ax[i,j].set_aspect('equal') #,'box')\n",
    "ax[i,j].set_xlim( xlim )\n",
    "ax[i,j].set_ylim( ylim )\n",
    "ax[i,j].set_title( \"Topographic deviation from smoothed Topo for bottom BC\" , fontsize=titlesize )\n",
    "\n",
    "#ax[1].contourf( block[4,:,:])\n",
    "#ax[1].set_aspect('equal') #,'box')\n",
    "\n",
    "\n",
    "i,j=1,1\n",
    "cf=ax[i,j].contourf( wedgo[ipanel,:,:],cmap=cmap,levels=clevels)\n",
    "ax[i,j].set_aspect('equal') #,'box')\n",
    "ax[i,j].set_xlim( xlim )\n",
    "ax[i,j].set_ylim( ylim )\n",
    "ax[i,j].set_title( \"Volume filling reconstruction from ridge parameters\" , fontsize=titlesize )\n",
    "\n",
    "i,j=0,0\n",
    "cf=ax[i,j].contourf( raw[ipanel,:,:],cmap=cmap,levels=clevels)\n",
    "ax[i,j].set_aspect('equal') #,'box')\n",
    "ax[i,j].set_xlim( xlim )\n",
    "ax[i,j].set_ylim( ylim )\n",
    "ax[i,j].set_title( \"Raw 3km X 3km Topography\" , fontsize=titlesize )\n",
    "\n",
    "i,j=1,0\n",
    "cf=ax[i,j].contourf( mxdis[ipanel,:,:],cmap=cmap,levels=clevels)\n",
    "ax[i,j].set_aspect('equal') #,'box')\n",
    "ax[i,j].set_xlim( xlim )\n",
    "ax[i,j].set_ylim( ylim )\n",
    "ax[i,j].set_title( \"Ridge-line skeleton\" , fontsize=titlesize )\n",
    "\n",
    "\n",
    "plt.tight_layout()\n",
    "\n",
    "plt.colorbar(cf,ax=ax,location='bottom',shrink=.4)\n",
    "\n"
   ]
  },
  {
   "cell_type": "markdown",
   "id": "6b9386d8-2a0c-427c-94c8-e3ee66eb4b95",
   "metadata": {},
   "source": [
    "## Top-left shows raw 3km X 3km topography. For topographic BC generation, a smoothing scale is chosen first.  For 1 degree grids topography is typically smoothed over a ~180km radius. Top-right shows \"deviation\" of raw topography from topography smoothed with a 180km radius. Bottom-left shows \"skeleton\" derived by analyzing varaiances in rotated boxes with 180/sqrt(2) sides. Ridge-orientation is defined as the rotation angle with maximum variance of ridge profile (Y-average of topography, where Y is the coordinate along the potential ridge line).  Bottom-left shows a volume-filling reconstruction of the topography based on ridge parameters - heght, orientation, width, length"
   ]
  },
  {
   "cell_type": "code",
   "execution_count": null,
   "id": "ee2b4c3e-63dd-4e72-be6b-9d371789c94b",
   "metadata": {},
   "outputs": [],
   "source": [
    "ipanel=3\n",
    "\n",
    "xlim=(300,1900)\n",
    "ylim=(1400,3000)\n",
    "\n",
    "clevels=np.linspace(-500.,3500.,num=21)\n",
    "cmap=plt.cm.terrain\n",
    "fig,ax = plt.subplots(1,1,figsize=(15,15) ,squeeze=False , sharex=True)\n",
    "\n",
    "titlesize=16\n",
    "\n",
    "\n",
    "i,j=0,0\n",
    "cf=ax[i,j].contour( raw[ipanel,:,:],colors='white',levels=[1,10000])\n",
    "cf=ax[i,j].contour( mxdis[ipanel,:,:],colors='black',levels=clevels)\n",
    "cf=ax[i,j].contourf( dev[ipanel,:,:],cmap=cmap,levels=clevels)\n",
    "#cf=ax[0,0].contourf( raw[ipanel,:,:],cmap=cmap,levels=clevels) #,alpha=.99)\n",
    "#ax[0].contour( tlons[4,:,:], colors='white',clevels=51)\n",
    "#plt.colorbar(cf,ax=ax[0,0],location='bottom')\n",
    "ax[i,j].set_aspect('equal') #,'box')\n",
    "ax[i,j].set_xlim( xlim )\n",
    "ax[i,j].set_ylim( ylim )\n",
    "ax[i,j].set_title( \"Topographic deviation with skeleton over-plotted\" , fontsize=titlesize )\n",
    "\n",
    "ax[i,j].annotate(\"Nevada\",\n",
    "            xy=(700, 2900), xycoords='data',\n",
    "            xytext=(1200, 2700), textcoords='data',color='white',\n",
    "            arrowprops=dict(arrowstyle=\"->\",\n",
    "                            connectionstyle=\"arc3\",color='white'),\n",
    "            )\n",
    "#ax[1].contourf( block[4,:,:])\n",
    "#ax[1].set_aspect('equal') #,'box')\n",
    "plt.colorbar(cf,ax=ax,location='right',shrink=.4)"
   ]
  },
  {
   "cell_type": "markdown",
   "id": "dd33e9ef-2435-4766-a10b-53a022263d1f",
   "metadata": {},
   "source": [
    "## Ridge skeleton overlaid on topographic deviation. Notice that deviation is high-pass and multi-scale, in other words, all scales smaller than the smoothing scale are retained. But, ridge algorithm tends to pick out features with scales on the order of the smoothng radius.The algorithm can pick out smaller scales only where no feature with scale~smoothing radius is present, e.g., Nevada"
   ]
  },
  {
   "cell_type": "code",
   "execution_count": null,
   "id": "367adf8e-4277-4b2d-9ec7-3c3d2ca182ba",
   "metadata": {},
   "outputs": [],
   "source": []
  }
 ],
 "metadata": {
  "kernelspec": {
   "display_name": "Python [conda env:adf_v0.07] *",
   "language": "python",
   "name": "conda-env-adf_v0.07-py"
  },
  "language_info": {
   "codemirror_mode": {
    "name": "ipython",
    "version": 3
   },
   "file_extension": ".py",
   "mimetype": "text/x-python",
   "name": "python",
   "nbconvert_exporter": "python",
   "pygments_lexer": "ipython3",
   "version": "3.9.13"
  }
 },
 "nbformat": 4,
 "nbformat_minor": 5
}
