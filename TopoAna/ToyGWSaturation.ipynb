{
 "cells": [
  {
   "cell_type": "code",
   "execution_count": null,
   "id": "18d08487-8b0d-4201-9823-0e44619bd1a2",
   "metadata": {},
   "outputs": [],
   "source": [
    "import xarray as xr\n",
    "import numpy as np\n",
    "import matplotlib.pyplot as plt\n"
   ]
  },
  {
   "cell_type": "code",
   "execution_count": null,
   "id": "4a9cc777-075f-4299-bd65-dfa6c9d3f1e2",
   "metadata": {},
   "outputs": [],
   "source": [
    "nz=30\n",
    "U=np.zeros(nz)+15.\n",
    "N=np.zeros(nz)+0.01\n",
    "rho=np.zeros(nz)+1.\n",
    "delta=np.zeros(nz)\n",
    "tau=np.zeros(nz)\n",
    "zo=np.linspace(20_000,0,num=nz)\n",
    "U=np.where( zo>10_100., 11., U )"
   ]
  },
  {
   "cell_type": "code",
   "execution_count": null,
   "id": "c7261113-0415-41a9-af02-3290f9ee0e46",
   "metadata": {},
   "outputs": [],
   "source": [
    "plt.plot(U,zo)"
   ]
  },
  {
   "cell_type": "code",
   "execution_count": null,
   "id": "5fae528f-c0c0-410c-9325-1598a9792c8a",
   "metadata": {},
   "outputs": [],
   "source": [
    "# Set L_h to a huge number\n",
    "L_h=50_000.\n",
    "l=nz-1\n",
    "delta[l] = 1000.\n",
    "tau[l]   = rho[l]*U[l]*N[l]*(delta[l]**2)/L_h\n",
    "for l in np.arange(start=nz-2,stop=-1,step=-1):\n",
    "    tau_w     = tau[l+1]\n",
    "    delta_w   = np.sqrt( tau_w / (rho[l]*U[l]*N[l]/L_h) )\n",
    "    delta_sat = U[l]/N[l]\n",
    "    delta[l]  = np.amin( [delta_sat, delta_w] )\n",
    "    tau[l]    = rho[l]*U[l]*N[l]*(delta[l]**2)/L_h"
   ]
  },
  {
   "cell_type": "code",
   "execution_count": null,
   "id": "d1416bd8-e3b7-4a1d-87ad-d8b21226ff16",
   "metadata": {},
   "outputs": [],
   "source": [
    "fig,ax=plt.subplots(1,2,sharey=True)\n",
    "ax[0].plot(delta,zo)\n",
    "ax[1].plot(tau,zo)"
   ]
  },
  {
   "cell_type": "code",
   "execution_count": null,
   "id": "dd715d71-dd36-41cf-88f2-8168d69c5cd9",
   "metadata": {},
   "outputs": [],
   "source": [
    "L_h=1.\n",
    "l=nz-1\n",
    "delta[l] = 1000.\n",
    "tau[l]   = rho[l]*U[l]*N[l]*(delta[l]**2)/L_h\n",
    "for l in np.arange(start=nz-2,stop=-1,step=-1):\n",
    "    tau_w     = tau[l+1]\n",
    "    delta_w   = np.sqrt( tau_w / (rho[l]*U[l]*N[l]/L_h) )\n",
    "    delta_sat = U[l]/N[l]\n",
    "    delta[l]  = np.amin( [delta_sat, delta_w] )\n",
    "    tau[l]    = rho[l]*U[l]*N[l]*(delta[l]**2)/L_h"
   ]
  },
  {
   "cell_type": "code",
   "execution_count": null,
   "id": "f11b2e51-e8aa-49f9-a441-b0f174029207",
   "metadata": {},
   "outputs": [],
   "source": [
    "fig,ax=plt.subplots(1,2,sharey=True)\n",
    "ax[0].plot(delta,zo)\n",
    "ax[1].plot(tau,zo)"
   ]
  },
  {
   "cell_type": "code",
   "execution_count": null,
   "id": "01f59f0b-cd82-4773-8910-98587e79480c",
   "metadata": {},
   "outputs": [],
   "source": []
  }
 ],
 "metadata": {
  "kernelspec": {
   "display_name": "Python [conda env:adf_v0.07] *",
   "language": "python",
   "name": "conda-env-adf_v0.07-py"
  },
  "language_info": {
   "codemirror_mode": {
    "name": "ipython",
    "version": 3
   },
   "file_extension": ".py",
   "mimetype": "text/x-python",
   "name": "python",
   "nbconvert_exporter": "python",
   "pygments_lexer": "ipython3",
   "version": "3.9.13"
  }
 },
 "nbformat": 4,
 "nbformat_minor": 5
}
