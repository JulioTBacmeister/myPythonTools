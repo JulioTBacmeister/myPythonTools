{
 "cells": [
  {
   "cell_type": "code",
   "execution_count": null,
   "id": "22ef4df1-83ef-43a3-b068-acd9d43b4258",
   "metadata": {},
   "outputs": [],
   "source": [
    "# Import packages \n",
    "\n",
    "# Own packages form other places\n",
    "import sys\n",
    "sys.path.append('../Plotting/')\n",
    "\"\"\" Now you can imprt modules in ../Plotting\"\"\"\n",
    "import xyp_plot as xyp\n",
    "sys.path.append('../SAMwrf/')\n",
    "\"\"\" Now you can imprt modules in ../Plotting\"\"\"\n",
    "import ana as a\n",
    "\n",
    "\n",
    "# The usual suspects\n",
    "import xarray as xr\n",
    "import numpy as np\n",
    "import matplotlib.pyplot as plt\n",
    "import matplotlib as mpl\n",
    "import matplotlib.tri as tri\n",
    "import matplotlib.colors as colors\n",
    "\n",
    "from scipy import interpolate as intr\n",
    "\n",
    "\n",
    "import cartopy\n",
    "import cartopy.crs as ccrs\n",
    "import cartopy.feature as cfeature\n",
    "\n",
    "# Some useful packages \n",
    "import importlib\n",
    "import copy\n",
    "import time\n",
    "\n",
    "\n",
    "importlib.reload(a)"
   ]
  },
  {
   "cell_type": "code",
   "execution_count": null,
   "id": "d0699d89-2965-49ee-b5f6-e9710cf33710",
   "metadata": {},
   "outputs": [],
   "source": [
    "#ctopof='/glade/p/cgd/amp/pel/topo/cubedata/gmted2010_modis_bedmachine-ncube3000-220518.nc'\n",
    "\n",
    "ctopof='/glade/work/juliob/Topo/Topo/regression-test-data/gmted2010_bedmachine-ncube0540-220518.nc'\n",
    "#ctopof='/Users/juliob/Topo/gmted2010_bedmachine-ncube0540-220518.nc'\n",
    "\n"
   ]
  },
  {
   "cell_type": "code",
   "execution_count": null,
   "id": "b246a9d6-b9e2-46cf-ae6c-513ec4821d9c",
   "metadata": {},
   "outputs": [],
   "source": [
    "ctopo=xr.open_dataset(ctopof)"
   ]
  },
  {
   "cell_type": "code",
   "execution_count": null,
   "id": "a55648be-ed10-4045-b793-81f6daec412c",
   "metadata": {},
   "outputs": [],
   "source": [
    "print(list(ctopo.variables))"
   ]
  },
  {
   "cell_type": "code",
   "execution_count": null,
   "id": "6e780189-985f-47f9-acfd-a4ad859b0c59",
   "metadata": {},
   "outputs": [],
   "source": [
    "clon=ctopo['lon'].values\n",
    "clat=ctopo['lat'].values\n",
    "terr=ctopo['terr'].values\n",
    "print( clon.shape,\n",
    "clat.shape,\n",
    "terr.shape )\n"
   ]
  },
  {
   "cell_type": "code",
   "execution_count": null,
   "id": "7a4bdbb0-d44a-40d9-bcd6-3971dbd06c2b",
   "metadata": {},
   "outputs": [],
   "source": [
    "\n",
    "tic = time.perf_counter()\n",
    "terrx,Xlon,Ylat=a.c_o_xy(idata=terr,lon=clon,lat=clat,dx=0.1,dy=0.1,lonr=[200.,360.],latr=[-5,47],verbose=True )\n",
    "toc = time.perf_counter()\n",
    "InterpTime = f\"Hi res topo interp in {toc - tic:0.4f} seconds\"\n",
    "print(InterpTime)\n",
    "\n",
    "tic = time.perf_counter()\n",
    "terrxH,XlonH,YlatH=a.c_o_xy(idata=terr,lon=clon,lat=clat,dx=0.1,dy=0.1,lonr=[220.,310.],latr=[0,43],verbose=True )\n",
    "toc = time.perf_counter()\n",
    "InterpTime = f\"Hi res topo interp in {toc - tic:0.4f} seconds\"\n",
    "print(InterpTime)"
   ]
  },
  {
   "cell_type": "code",
   "execution_count": null,
   "id": "51d6750d-1182-486e-877e-c73e83f209e8",
   "metadata": {},
   "outputs": [],
   "source": [
    "\n",
    "lonW = -150\n",
    "lonE =  0.\n",
    "latS = -5\n",
    "latN = 49\n",
    "\n",
    "cLon = ( lonW + lonE )/2\n",
    "cLat = ( latS + latN )/2\n",
    "\n",
    "cmap=plt.cm.terrain\n",
    "fig = plt.figure(figsize=(20, 20))\n",
    "\n",
    "clevels=np.linspace(-1000,4100,31)\n",
    "\n",
    "projOr = ccrs.Orthographic(central_longitude=cLon ,central_latitude=cLat ) #Title Slide setting\n",
    "projPC = ccrs.PlateCarree()\n",
    "\n",
    "ax1 = fig.add_subplot(1, 1, 1 , projection= projOr )\n",
    "\n",
    "ax1.add_feature(cfeature.LAND)\n",
    "ax1.add_feature(cfeature.OCEAN,alpha=0.25)\n",
    "\n",
    "cf = ax1.contourf(Xlon, Ylat, terrx,  levels=clevels, cmap=cmap  , transform=projPC ,alpha=.5)\n",
    "cf = ax1.contourf(XlonH, YlatH, terrxH,  levels=clevels, cmap=cmap  , transform=projPC )\n",
    "\n",
    "#ax1.add_feature(cfeature.RIVERS)\n",
    "\n",
    "\n",
    "ax1.coastlines(resolution='110m')\n",
    "    \n",
    "gl=ax1.gridlines(linestyle=':', color='black',draw_labels=True)  #, ylabels_right=None)\n",
    "\n",
    "ax1.set_extent(  [lonW, lonE, latS, latN] , crs= projPC )\n",
    "\n",
    "gl.right_labels=False\n",
    "gl.top_labels=False\n",
    "        \n",
    "#plt.colorbar(cf , ax=ax1 , shrink=0.8)\n"
   ]
  },
  {
   "cell_type": "code",
   "execution_count": null,
   "id": "393348fb-effc-442b-8a72-c86c61858568",
   "metadata": {},
   "outputs": [],
   "source": []
  }
 ],
 "metadata": {
  "kernelspec": {
   "display_name": "NPL 2022b",
   "language": "python",
   "name": "npl-2022b"
  },
  "language_info": {
   "codemirror_mode": {
    "name": "ipython",
    "version": 3
   },
   "file_extension": ".py",
   "mimetype": "text/x-python",
   "name": "python",
   "nbconvert_exporter": "python",
   "pygments_lexer": "ipython3",
   "version": "3.8.13"
  }
 },
 "nbformat": 4,
 "nbformat_minor": 5
}
