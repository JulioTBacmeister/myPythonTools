{
 "cells": [
  {
   "cell_type": "code",
   "execution_count": null,
   "id": "228ec82c-a415-49c1-8a69-176a8944f1c6",
   "metadata": {},
   "outputs": [],
   "source": [
    "#workdir_ = '/glade/work/juliob/'\n",
    "import sys\n",
    "#######################################\n",
    "# Leave this for now. But it should change to better\n",
    "# method as here:\n",
    "import os\n",
    "This_module_path = os.getcwd()  #os.path.dirname(os.path.abspath(__file__))\n",
    "workdir_ = os.path.join(This_module_path, '../' )\n",
    "# sys.path.append(utils_path)\n",
    "# print( f\" a path added in {__name__} {utils_path} \")\n",
    "\n",
    "print( f\" In {__name__} we have This_module_path={This_module_path} \" )\n",
    "print( f\" In {__name__} we have workdir_={workdir_} \" )\n",
    "########################################\n",
    "sys.path.append(workdir_ + 'Utils/')\n",
    "\n",
    "import utils as uti\n",
    "import constants as co\n",
    "import numerical_utils as nuti\n",
    "\n",
    "import numpy as np\n",
    "import matplotlib.pyplot as plt\n",
    "\n",
    "# Some other useful packages \n",
    "import importlib\n",
    "\n",
    "importlib.reload( uti )\n",
    "importlib.reload( nuti )\n"
   ]
  },
  {
   "cell_type": "code",
   "execution_count": null,
   "id": "677a2f89-5e04-4105-aa1e-a757282ffe22",
   "metadata": {},
   "outputs": [],
   "source": [
    "\n",
    "from scipy.special import sph_harm\n",
    "#import pyshtools\n",
    "\n",
    "# Define the degree l and order m of the spherical harmonic\n",
    "l = 5\n",
    "m = 4\n",
    "\n",
    "#l=3\n",
    "#m=0\n",
    "\n",
    "# Create a lat-lon grid\n",
    "lat = np.linspace(-89.5, 89.5, 180 ) #181)\n",
    "lon = np.linspace(0, 359, 360)\n",
    "lon_grid, lat_grid = np.meshgrid(lon, lat)\n",
    "\n",
    "# Convert lat and lon to colatitude (theta) and longitude (phi) in radians\n",
    "theta = np.deg2rad(90 - lat_grid)\n",
    "phi = np.deg2rad(lon_grid)\n",
    "\n",
    "# Calculate the spherical harmonic Y_l^m(theta, phi)\n",
    "# Note: The output is complex, so we take the absolute value to visualize it\n",
    "Ylm = sph_harm(m, l, phi, theta)\n"
   ]
  },
  {
   "cell_type": "code",
   "execution_count": null,
   "id": "2a6564c6-e639-45bc-87b9-44c56717252c",
   "metadata": {},
   "outputs": [],
   "source": [
    "plt.contour( Ylm.real)"
   ]
  },
  {
   "cell_type": "code",
   "execution_count": null,
   "id": "33a2b7c4-7f0f-4d24-a790-f64faa9e39a8",
   "metadata": {},
   "outputs": [],
   "source": [
    "Ylm_x,Ylm_y = nuti.Sphere_Grad2( f=Ylm.real, lon=lon,lat=lat,wrap=True )"
   ]
  },
  {
   "cell_type": "code",
   "execution_count": null,
   "id": "f283a42c-55d1-4c84-a7c4-efcca0d7d100",
   "metadata": {},
   "outputs": [],
   "source": [
    "\n",
    "Ylm_Lap = nuti.Sphere_Div2( f_x=Ylm_x, f_y=Ylm_y, lon=lon,lat=lat,wrap=True )\n",
    "curl_grad = nuti.Sphere_Curl2( f_x=Ylm_x, f_y=Ylm_y, lon=lon,lat=lat,wrap=True )\n"
   ]
  },
  {
   "cell_type": "code",
   "execution_count": null,
   "id": "ad078456-e9bf-41fa-b733-de05d821dab2",
   "metadata": {},
   "outputs": [],
   "source": [
    "plt.contour( curl_grad )\n",
    "#plt.contour( Ylm_Lap )\n",
    "plt.colorbar()"
   ]
  },
  {
   "cell_type": "code",
   "execution_count": null,
   "id": "d259d9ba-d408-431d-9795-65c69c8b5028",
   "metadata": {},
   "outputs": [],
   "source": [
    "Ylm_Lap2 = nuti.Sphere_Lap2( f =Ylm.real , lon=lon,lat=lat,wrap=True )"
   ]
  },
  {
   "cell_type": "code",
   "execution_count": null,
   "id": "d9312444-739b-4212-b15f-edfbc7242ed8",
   "metadata": {},
   "outputs": [],
   "source": [
    "plt.contour( Ylm_Lap,levels=21)"
   ]
  },
  {
   "cell_type": "code",
   "execution_count": null,
   "id": "00f0f5df-cf1a-413d-b9cd-b139e21b573e",
   "metadata": {},
   "outputs": [],
   "source": [
    "plt.scatter( Ylm.real[2:170,:].flatten(), Ylm_Lap2[2:170,:].flatten()   )"
   ]
  },
  {
   "cell_type": "code",
   "execution_count": null,
   "id": "e7cad24a-30f9-4e3c-9602-77cc2d36bd7c",
   "metadata": {},
   "outputs": [],
   "source": []
  }
 ],
 "metadata": {
  "kernelspec": {
   "display_name": "NPL 2023b",
   "language": "python",
   "name": "npl-2023b"
  },
  "language_info": {
   "codemirror_mode": {
    "name": "ipython",
    "version": 3
   },
   "file_extension": ".py",
   "mimetype": "text/x-python",
   "name": "python",
   "nbconvert_exporter": "python",
   "pygments_lexer": "ipython3",
   "version": "3.10.12"
  }
 },
 "nbformat": 4,
 "nbformat_minor": 5
}
