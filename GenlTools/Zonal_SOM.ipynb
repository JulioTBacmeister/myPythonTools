{
 "cells": [
  {
   "cell_type": "code",
   "execution_count": null,
   "id": "40d7e2b3-1d9a-438c-b82d-d31ed22c28f1",
   "metadata": {},
   "outputs": [],
   "source": [
    "from datetime import date\n",
    "import numpy as np\n",
    "import xarray as xr\n",
    "import matplotlib.pyplot as plt\n",
    "from scipy.interpolate import LinearNDInterpolator as Li\n",
    "from scipy.interpolate import NearestNDInterpolator as Ni\n",
    "from scipy.spatial import Delaunay as Dl\n",
    "\n",
    "import zonal_som as ZS\n"
   ]
  },
  {
   "cell_type": "code",
   "execution_count": null,
   "id": "c8173743-bc3f-4add-8c7b-02fcfd5a65b6",
   "metadata": {},
   "outputs": [],
   "source": [
    "#ZS.main()"
   ]
  },
  {
   "cell_type": "code",
   "execution_count": null,
   "id": "82e5462c-a15c-478c-8401-5f7e11e161de",
   "metadata": {},
   "outputs": [],
   "source": [
    "today  = date.today()\n",
    "yymmdd = today.strftime(\"%Y%m%d\")\n",
    "\n",
    "#/glade/p/cesmdata/cseg/inputdata/ocn/docn7/SOM/pop_frc.b.e20.B1850.f09_g17.pi_control.all.297.20180523.nc\n",
    "#/glade/p/cesmdata/cseg/inputdata/ocn/docn7/SOM/mom_frc_b.cesm3_cam058_mom_e.B1850WscMOM.ne30_L58_t061.camdev_cice5.026c_50-99_c20221111.nc\n",
    "\n",
    "case=\"cesm2\"\n",
    "\n",
    "if case==\"cesm1\":\n",
    "    ifi=\"/glade/p/cesmdata/cseg/inputdata/ocn/docn7/SOM/pop_frc.b.e11.B1850LENS.f09_g16.pi_control.002.20190923.nc\"\n",
    "    ofi=\"pop_frc.b.e11.B1850LENS.f09_g16.pi_control.002.ZONAV2.\"+yymmdd+\".nc\"\n",
    "    ofi2=\"pop_frc.b.e11.B1850LENS.f09_g16.pi_control.002.ZONAV2.latlon.\"+yymmdd+\".nc\"\n",
    "if case==\"cesm2\":\n",
    "    ifi=\"/glade/p/cesmdata/cseg/inputdata/ocn/docn7/SOM/pop_frc.b.e20.B1850.f09_g17.pi_control.all.297.20180523.nc\"\n",
    "    ofi=\"pop_frc.b.e20.B1850.f09_g17.pi_control.all.297.ZONAV2.\"+yymmdd+\".nc\"\n",
    "    ofi2=\"pop_frc.b.e20.B1850.f09_g17.pi_control.all.297.ZONAV2.latlon.\"+yymmdd+\".nc\"\n",
    "if case==\"cesm3\":\n",
    "    ifi=\"/glade/p/cesmdata/cseg/inputdata/ocn/docn7/SOM/mom_frc_b.cesm3_cam058_mom_e.B1850WscMOM.ne30_L58_t061.camdev_cice5.026c_50-99_c20221111.nc\"\n",
    "    ofi=\"/mom_frc_b.cesm3_cam058_mom_e.B1850WscMOM.ne30_L58_t061.camdev_cice5.026c_50-99.ZONAV2.\"+yymmdd+\".nc\"\n",
    "    ofi2=\"/mom_frc_b.cesm3_cam058_mom_e.B1850WscMOM.ne30_L58_t061.camdev_cice5.026c_50-99.ZONAV2.latlon.\"+yymmdd+\".nc\"\n",
    "\n",
    "\"\"\"\n",
    "ifi='/glade/campaign/cesm/cesmdata/cseg/inputdata/ocn/docn7/SOM/pop_frc.b.e20.B1850.f09_g17.pi_control.all.297.Idealized_NOANNUAL_v5.20240202.nc'\n",
    "#ofi='/glade/campaign/cesm/cesmdata/cseg/inputdata/ocn/docn7/SOM/pop_frc.b.e20.B1850.f09_g17.pi_control.all.297.Idealized_v5_ZON.20240213.nc'\n",
    "#ofi2='/glade/campaign/cesm/cesmdata/cseg/inputdata/ocn/docn7/SOM/pop_frc.b.e20.B1850.f09_g17.pi_control.all.297.Idealized_v5_latlon.20240202.nc'\n",
    "ofi2='/glade/derecho/scratch/juliob/pop_frc.b.e20.B1850.f09_g17.pi_control.all.297.Idealized_v5_latlon.20240213.nc'\n",
    "\"\"\"\n",
    "\n",
    "ifi='/glade/campaign/cesm/cesmdata/cseg/inputdata/ocn/docn7/SOM/pop_frc.b.e20.B1850.f09_g17.pi_control.all.297.ZONAV2.20221120_nan.nc'\n",
    "ofi2='/glade/derecho/scratch/juliob/pop_frc.b.e20.B1850.f09_g17.pi_control.all.297.ZONAV2_nan_LATLON.20240213.nc'\n",
    "\n",
    "\n",
    "\n",
    "sm=xr.open_dataset(ifi)\n",
    "zsm=sm\n",
    "\n",
    "xc=sm['xc'].values\n",
    "yc=sm['yc'].values\n",
    "\n",
    "flds0=list( sm.variables )\n",
    "flds=[]\n",
    "\n",
    "for ifld in flds0:\n",
    "    if sm[ifld].ndim==3:\n",
    "        flds.append(ifld)\n",
    "\n",
    "\"\"\" \n",
    "Unclear whether we should zonally\n",
    "average all fields. Maybe just\n",
    "hblt and qdp\n",
    "\"\"\"\n",
    "flds.remove('dhdx')\n",
    "flds.remove('dhdy')\n",
    "flds.remove('S')\n",
    "flds.remove('T')\n",
    "flds.remove('U')\n",
    "flds.remove('V')\n",
    "\n",
    "\n",
    "print(\"Fields in input SOM \",flds0)\n",
    "print(\"will only zonavg \",flds)\n",
    "print(\"will output to \",ofi)\n",
    "\n",
    "nlat=361\n",
    "nlon=720\n",
    "X = np.linspace(0., 360. , num=nlon ) # linspace defaults to 50 samples\n",
    "Y = np.linspace(-90., 90. ,num=nlat )\n",
    "months=1+np.arange(12)\n",
    "\n",
    "\n",
    "d = { \n",
    "    'lon':{'dims':('lon'), 'data':X },\n",
    "    'lat':{'dims':('lat'), 'data':Y },\n",
    "    'time':{'dims':('time'), 'data':months },\n",
    "     }\n",
    "\n",
    "bsm = xr.Dataset.from_dict(d)\n",
    "\n",
    "\n",
    "zafxq = np.zeros( (12, nlat , nlon ) )\n",
    "\n",
    "for ifld in flds:\n",
    "    print(\"  .., doing \",ifld)\n",
    "    if (ifld=='hblt'):\n",
    "        RepVal=20.\n",
    "    else:\n",
    "        RepVal=0.\n",
    "\n",
    "    fcq=sm[ ifld ]\n",
    "    zfcq=fcq\n",
    "    \n",
    "\n",
    "    for imo in np.arange(12):\n",
    "        zfcq[ imo ,:,:] , zafxq[ imo,:,:] = ZS.gzonal( xc=xc, yc=yc, mask=sm['mask'].values , fc=fcq[ imo ,:,:]  , X=X, Y=Y , maskRepVal=RepVal )\n",
    "\n",
    "    print(\" Out of interpolation for \",ifld )\n",
    "    print(zfcq.shape)\n",
    "\n",
    "    zsm[ ifld ]=zfcq\n",
    "\n",
    "    Dar = xr.DataArray( data=zafxq , dims=['time','lat','lon'] , coords=(months,Y,X) , attrs=dict( description=ifld,units='N/A',) ,) \n",
    "    bsm[ ifld ] = Dar\n",
    "    \n",
    "\n",
    "\n",
    "\n",
    "#zsm.to_netcdf( ofi  )\n",
    "bsm.to_netcdf( ofi2  )\n"
   ]
  },
  {
   "cell_type": "code",
   "execution_count": null,
   "id": "dd371936-8de8-4b25-86bb-0649da498c70",
   "metadata": {},
   "outputs": [],
   "source": [
    "\n",
    "ofi2='/glade/derecho/scratch/juliob/pop_frc.b.e20.B1850.f09_g17.pi_control.all.297.ZONAV2_nan_LATLON.20240213.nc'\n",
    "\n",
    "plt.plot(bsm.qdp[0,:,:].values.flatten())\n",
    "\n",
    "boo=bsm.qdp[0,:,:].values\n",
    "\n",
    "#mask=np.where( np.isfinite(boo)==True , 1, 0)\n",
    "mask=np.where( boo > -1.e6 , 1, 0)\n",
    "\n",
    "\n",
    "#bsm.to_netcdf( ofi2  )"
   ]
  },
  {
   "cell_type": "code",
   "execution_count": null,
   "id": "56e2c64d-a607-4d89-9b87-958ef21b8edb",
   "metadata": {},
   "outputs": [],
   "source": [
    "#plt.contour( bsm.qdp[0,:,:])\n",
    "plt.plot(bsm.qdp[0,:,400])\n",
    "plt.ylim(-100,100)"
   ]
  },
  {
   "cell_type": "code",
   "execution_count": null,
   "id": "b4a153e3-52fc-4822-86f7-9ac4e345c303",
   "metadata": {},
   "outputs": [],
   "source": [
    "x=np.sum(mask*bsm.qdp[0,:,:],axis=1)  / (np.sum(mask,axis=1) + 1.e-6)\n",
    "plt.plot( x)\n",
    "plt.plot(bsm.qdp[0,:,400])\n",
    "plt.ylim(-200,100)"
   ]
  },
  {
   "cell_type": "code",
   "execution_count": null,
   "id": "c3fdb67c-2f49-4146-bb27-678cc5266ee9",
   "metadata": {},
   "outputs": [],
   "source": [
    "bsm_mask=bsm.where( bsm.qdp > -1.e6 )\n",
    "\n",
    "plt.plot( bsm_mask.lat,bsm_mask.qdp.mean(['lon','time']) )#[0,:] )"
   ]
  },
  {
   "cell_type": "code",
   "execution_count": null,
   "id": "5c2f4e75-acc4-401f-92f8-a20fce2ac7dc",
   "metadata": {},
   "outputs": [],
   "source": [
    "bsm_mask.lat"
   ]
  },
  {
   "cell_type": "code",
   "execution_count": null,
   "id": "ad2caf35-22f4-420f-9ff4-2fdcd83550a7",
   "metadata": {},
   "outputs": [],
   "source": [
    "\n",
    "print(np.shape(bsm['hblt']))\n",
    "print(np.shape(zsm['hblt']))\n",
    "\n"
   ]
  },
  {
   "cell_type": "code",
   "execution_count": null,
   "id": "01fc12e0-ae20-48a5-b972-ca2d4ff27c15",
   "metadata": {},
   "outputs": [],
   "source": [
    "###\n",
    "arj=zsm.area.values\n",
    "msk=zsm.mask.values\n",
    "\n",
    "arx=np.where( (msk == 0) , 0., arj ) \n",
    "\n",
    "hav=np.sum( zsm.hblt[0,:,:].values.flatten() * arx.flatten() )\n",
    "har=np.sum( arx.flatten() )\n",
    "\n",
    "print( hav/har)\n"
   ]
  },
  {
   "cell_type": "code",
   "execution_count": null,
   "id": "ba3d7a12-5ed5-4e63-9515-bd4b53443007",
   "metadata": {},
   "outputs": [],
   "source": [
    "#####\n",
    "\n",
    "sm=xr.open_dataset(ifi)\n",
    "horig = sm.hblt.values\n",
    "\n",
    "## The next command sets horig to zero wherever it is 'not finite.\n",
    "## The '~' is a 'bitwise NOT operator' --- thanks chatGPT\n",
    "horig[~np.isfinite(horig)] = 0"
   ]
  },
  {
   "cell_type": "code",
   "execution_count": null,
   "id": "2d7694d6-450a-4728-96ff-c8ec6bd8dff6",
   "metadata": {},
   "outputs": [],
   "source": [
    "###\n",
    "\n",
    "#plt.tricontourf( sm.xc.values.flatten(),sm.yc.values.flatten(),horig[0,:,:].flatten() , levels=np.linspace(0,100))\n",
    "plt.tricontourf( zsm.xc.values.flatten(),zsm.yc.values.flatten(),zsm.hblt[0,:,:].values.flatten() , levels=np.linspace(0,100))\n",
    "\n",
    "#plt.tricontourf( zsm.xc.values.flatten(),zsm.yc.values.flatten(),arx.flatten() , levels=21 )\n",
    "#plt.tricontourf( zsm.xc.values.flatten(),zsm.yc.values.flatten(),zsm.area.values.flatten() , levels=21 )\n",
    "\n",
    "#plt.tricontourf( zsm.xc.values.flatten(),zsm.yc.values.flatten(),zsm.mask.values.flatten() , levels=[-1,0,1,2,3,4,5,6,7,8,9,10,11] )\n",
    "#plt.tricontourf( zsm.xc.values.flatten(),zsm.yc.values.flatten(),zsm.qdp[0,:,:].values.flatten() , levels=np.linspace(-500,500)  )\n",
    "\n",
    "plt.colorbar()\n",
    "#plt.ylim(-100,1000)"
   ]
  },
  {
   "cell_type": "code",
   "execution_count": null,
   "id": "6a1c1f4d-cecf-4298-8d47-1629ed904892",
   "metadata": {},
   "outputs": [],
   "source": [
    "plt.plot( zsm.yc.values.flatten(),zsm.qdp.mean(axis=0).values.flatten() , '.')\n",
    "plt.ylim(-100,100)"
   ]
  },
  {
   "cell_type": "code",
   "execution_count": null,
   "id": "e19d258c-8572-4ba3-9c7f-5ccbb5db7e09",
   "metadata": {},
   "outputs": [],
   "source": []
  }
 ],
 "metadata": {
  "kernelspec": {
   "display_name": "NPL 2022b",
   "language": "python",
   "name": "npl-2022b"
  },
  "language_info": {
   "codemirror_mode": {
    "name": "ipython",
    "version": 3
   },
   "file_extension": ".py",
   "mimetype": "text/x-python",
   "name": "python",
   "nbconvert_exporter": "python",
   "pygments_lexer": "ipython3",
   "version": "3.8.13"
  }
 },
 "nbformat": 4,
 "nbformat_minor": 5
}
