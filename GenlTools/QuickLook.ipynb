{
 "cells": [
  {
   "cell_type": "code",
   "execution_count": null,
   "id": "1224f2c0-83b9-471a-8ac8-1777e52883c3",
   "metadata": {},
   "outputs": [],
   "source": [
    "import sys\n",
    "sys.path.append('../Plotting/')\n",
    "\"\"\" Now you can imprt modules in ../Plotting\"\"\"\n",
    "sys.path.append('../SAMwrf/')\n",
    "\"\"\" Now you can imprt modules in ../Plotting\"\"\"\n",
    "\n",
    "\n",
    "import xyp_plot as xyp\n",
    "import ana as a\n",
    "\n",
    "import AveragingUtils as Av\n",
    "\n",
    "from datetime import date\n",
    "import numpy as np\n",
    "import xarray as xr\n",
    "import matplotlib.pyplot as plt\n",
    "\n",
    "# Some useful packages \n",
    "import importlib\n",
    "import copy\n",
    "import time\n",
    "import cftime\n"
   ]
  },
  {
   "cell_type": "code",
   "execution_count": null,
   "id": "98a6cb44-3452-40fb-8687-7f9341b9062c",
   "metadata": {},
   "outputs": [],
   "source": [
    "foo=\"/glade/scratch/hannay/archive/f.cesm3_cam058_mom_e.FWscHIST.ne30_L58.26c_topofix.001/atm/hist/\"\n",
    "foo=foo+\"f.cesm3_cam058_mom_e.FWscHIST.ne30_L58.26c_topofix.001.cam.h0.*.nc\"\n",
    "\n",
    "\n",
    "ds=xr.open_mfdataset( foo )"
   ]
  },
  {
   "cell_type": "code",
   "execution_count": null,
   "id": "f8e710f2-f80e-4030-a8b5-b9d6a402324f",
   "metadata": {},
   "outputs": [],
   "source": [
    "season='jja'\n",
    "print(Av.MonthsSeason( season ))"
   ]
  },
  {
   "cell_type": "code",
   "execution_count": null,
   "id": "cd13e651-321c-4ac8-8bf8-55da084392d3",
   "metadata": {},
   "outputs": [],
   "source": [
    "UU = Av.SeasonalZonal( ds=ds, season=season , fld='U')\n",
    "ZZ3 = Av.SeasonalZonal( ds=ds, season=season , fld='Z3')\n"
   ]
  },
  {
   "cell_type": "code",
   "execution_count": null,
   "id": "5cfb8c7d-794f-45bb-b387-95db5c6f8ee3",
   "metadata": {},
   "outputs": [],
   "source": [
    "nlon = ds.dims['lon']\n",
    "nlat = ds.dims['lat']\n",
    "nlev = ds.dims['lev']\n",
    "\n",
    "lats=ds['lat']\n",
    "rlats = np.tile( lats , [nlev,1])"
   ]
  },
  {
   "cell_type": "code",
   "execution_count": null,
   "id": "e4d055db-650b-40c3-b374-5a721d44218f",
   "metadata": {},
   "outputs": [],
   "source": [
    "plt.contourf( rlats, ZZ3 , UU )"
   ]
  },
  {
   "cell_type": "code",
   "execution_count": null,
   "id": "1b58a012-4ff0-49e4-b08b-67920ba0ec59",
   "metadata": {},
   "outputs": [],
   "source": [
    "#Yak= Av.SeasonalZonal( ds=ds, season=season )"
   ]
  },
  {
   "cell_type": "code",
   "execution_count": null,
   "id": "44e3a8d8-6d2d-4411-80e3-627b8718fd7f",
   "metadata": {},
   "outputs": [],
   "source": [
    "\n",
    "# Calculate 3D pressure field for full [nT,nL,nS_0] range\n",
    "ps=ds['PS']\n",
    "# These have dims=[nT,nL] ...!!!\n",
    "hyam=ds['hyam']\n",
    "hybm=ds['hybm']\n",
    "\n",
    "print(ps.dims)\n",
    "print(np.shape(ps))\n",
    "\n",
    "# Actually don't need this since PMID is in ds\n",
    "#tic = time.perf_counter()\n",
    "#p3o=a.press(PS=ps,hybm=hybm,hyam=hyam ,hgrid='latlon')\n",
    "#toc = time.perf_counter()\n",
    "#P3oTime = f\"mid-level 3D presure in {toc - tic:0.4f} seconds\"\n",
    "#print(P3oTime)\n",
    "\n",
    "p3o=ds['PMID']\n"
   ]
  },
  {
   "cell_type": "code",
   "execution_count": null,
   "id": "6df8496e-77df-4dda-aafd-5f11ee5b60c4",
   "metadata": {},
   "outputs": [],
   "source": [
    "print(list(ds.variables))"
   ]
  },
  {
   "cell_type": "code",
   "execution_count": null,
   "id": "336719f5-e835-4b71-af1d-9eb51275273d",
   "metadata": {},
   "outputs": [],
   "source": [
    "U=ds['U']\n",
    "time_bnds = ds['time_bnds']\n",
    "date=ds['date']\n",
    "time=ds['time']\n",
    "lats=ds['lat']\n",
    "\n",
    "print(np.shape(time))\n",
    "print(time_bnds[0].values[0])\n",
    "time0=[]\n",
    "months=[]\n",
    "years=[]\n",
    "for ixtime in time_bnds:\n",
    "    time0.append( ixtime.values[0] )\n",
    "    years.append( ixtime.values[0].year )\n",
    "    months.append( ixtime.values[0].month )"
   ]
  },
  {
   "cell_type": "code",
   "execution_count": null,
   "id": "1c79e301-faf7-4496-917e-8d8a892ff2fb",
   "metadata": {},
   "outputs": [],
   "source": [
    "print(time0[0].month)\n",
    "imonths=np.asarray(months)\n",
    "djf = np.where( (imonths==1) | (imonths==2) | (imonths==12) )\n",
    "print(djf[0])"
   ]
  },
  {
   "cell_type": "code",
   "execution_count": null,
   "id": "74e3ec13-916f-4fa0-928d-42f2acac7d02",
   "metadata": {},
   "outputs": [],
   "source": [
    "z3o = -7_000. * np.log( p3o/100_000.)\n",
    "U_djf = np.average( U[ djf[0] ,:,:,:], axis=0 )\n",
    "z3o_djf = np.average( z3o[ djf[0] ,:,:,:], axis=0 )"
   ]
  },
  {
   "cell_type": "code",
   "execution_count": null,
   "id": "7bde3e28-235e-4467-9889-a4ac56d3f496",
   "metadata": {},
   "outputs": [],
   "source": [
    "print(np.shape(U_djf))"
   ]
  },
  {
   "cell_type": "code",
   "execution_count": null,
   "id": "4b380139-b86c-49e3-954f-d05c067ecd16",
   "metadata": {},
   "outputs": [],
   "source": [
    "U_djf_zon = np.average( U_djf , axis=2 )\n",
    "z3o_djf_zon = np.average( z3o_djf , axis=2 )\n",
    "print(np.shape(U_djf_zon))\n",
    "rlats=np.tile( lats , [58,1])\n",
    "print(np.shape(rlats))"
   ]
  },
  {
   "cell_type": "code",
   "execution_count": null,
   "id": "d1f89a48-8a82-477e-a7b7-dfa1c664df36",
   "metadata": {},
   "outputs": [],
   "source": [
    "plt.contourf( rlats, z3o_djf_zon , U_djf_zon)"
   ]
  },
  {
   "cell_type": "code",
   "execution_count": null,
   "id": "8e3fbc1c-57d9-4d48-8a54-a280212be0b0",
   "metadata": {},
   "outputs": [],
   "source": [
    "\n",
    "print(time_bnds[0][:])\n",
    "\n",
    "poo=time_bnds[0][:]\n",
    "\n",
    "print(   cftime.to_tuple ( time_bnds ) )\n",
    "#print(ds['time_bnds'][0][:].time.dt.strftime(\"%Y-%m-%d\")[0])"
   ]
  },
  {
   "cell_type": "code",
   "execution_count": null,
   "id": "37e76323-454e-47bb-8148-23fd302cfbcc",
   "metadata": {},
   "outputs": [],
   "source": []
  }
 ],
 "metadata": {
  "kernelspec": {
   "display_name": "NPL 2022b",
   "language": "python",
   "name": "npl-2022b"
  },
  "language_info": {
   "codemirror_mode": {
    "name": "ipython",
    "version": 3
   },
   "file_extension": ".py",
   "mimetype": "text/x-python",
   "name": "python",
   "nbconvert_exporter": "python",
   "pygments_lexer": "ipython3",
   "version": "3.8.13"
  }
 },
 "nbformat": 4,
 "nbformat_minor": 5
}
