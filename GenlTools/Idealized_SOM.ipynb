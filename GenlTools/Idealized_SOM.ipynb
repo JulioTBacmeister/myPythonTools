{
 "cells": [
  {
   "cell_type": "code",
   "execution_count": null,
   "id": "40d7e2b3-1d9a-438c-b82d-d31ed22c28f1",
   "metadata": {},
   "outputs": [],
   "source": [
    "from datetime import date\n",
    "import copy\n",
    "import numpy as np\n",
    "import xarray as xr\n",
    "import matplotlib.pyplot as plt\n",
    "from scipy.interpolate import LinearNDInterpolator as Li\n",
    "from scipy.interpolate import NearestNDInterpolator as Ni\n",
    "from scipy.spatial import Delaunay as Dl\n",
    "\n",
    "import zonal_som as ZS\n"
   ]
  },
  {
   "cell_type": "code",
   "execution_count": null,
   "id": "64d53d5c-b496-4fb7-a176-048a6f49e714",
   "metadata": {},
   "outputs": [],
   "source": [
    "today  = date.today()\n",
    "yymmdd = today.strftime(\"%Y%m%d\")\n",
    "\n",
    "case=\"cesm2\"\n",
    "\n",
    "if case==\"cesm1\":\n",
    "    ifi=\"/glade/p/cesmdata/cseg/inputdata/ocn/docn7/SOM/pop_frc.b.e11.B1850LENS.f09_g16.pi_control.002.20190923.nc\"\n",
    "    ofi=\"pop_frc.b.e11.B1850LENS.f09_g16.pi_control.002.Idealized_NOANNUAL.\"+yymmdd+\".nc\"\n",
    "if case==\"cesm2\":\n",
    "    ifi=\"/glade/p/cesmdata/cseg/inputdata/ocn/docn7/SOM/pop_frc.b.e20.B1850.f09_g17.pi_control.all.297.20180523.nc\"\n",
    "    ofi=\"pop_frc.b.e20.B1850.f09_g17.pi_control.all.297.Idealized_NOANNUAL.\"+yymmdd+\".nc\"\n",
    "if case==\"cesm3\":\n",
    "    ifi=\"/glade/p/cesmdata/cseg/inputdata/ocn/docn7/SOM/mom_frc_b.cesm3_cam058_mom_e.B1850WscMOM.ne30_L58_t061.camdev_cice5.026c_50-99_c20221111.nc\"\n",
    "    ofi=\"/mom_frc_b.cesm3_cam058_mom_e.B1850WscMOM.ne30_L58_t061.camdev_cice5.026c_50-99.Idealized_NOANNUAL.\"+yymmdd+\".nc\""
   ]
  },
  {
   "cell_type": "code",
   "execution_count": null,
   "id": "f69cac24-86a9-48dd-a24c-a5399d26a67e",
   "metadata": {},
   "outputs": [],
   "source": [
    "sm=xr.open_dataset(ifi)\n",
    "zsm=copy.deepcopy( sm )\n",
    "\n",
    "xc=sm['xc'].values\n",
    "yc=sm['yc'].values\n",
    "\n",
    "flds0=list( sm.variables )\n",
    "\n",
    "flds=['hblt','qdp']\n",
    "\n",
    "print(\"Fields in input SOM \",flds0)\n",
    "print(\"will only replace \",flds)\n",
    "print(\"will output to \",ofi)\n",
    "\n",
    "arj=zsm.area.values\n",
    "msk=zsm.mask.values\n",
    "yc=zsm.yc.values\n",
    "arx=np.where( (msk == 0) , 0., arj ) \n",
    "\n",
    "\n",
    "for ifld in flds:\n",
    "    print(\"  .., doing \",ifld)\n",
    "    if (ifld=='hblt'):\n",
    "        fcq=zsm[ ifld ]\n",
    "    \n",
    "        for imo in np.arange(12):\n",
    "            fcq[ imo ,:,:] = np.where( (msk == 0) ,  fcq[ imo ,:,:] , 45.3 ) \n",
    "\n",
    "    if (ifld=='qdp'):\n",
    "        fcq=zsm[ ifld ]\n",
    "    \n",
    "        for imo in np.arange(12):\n",
    "            fcq[ imo ,:,:] = np.where( ( (msk != 0)&(yc>-30)&(yc<30.) ), 30., 0. ) \n",
    "            fcq[ imo ,:,:] = np.where( ( (msk != 0)&(yc<=-30) ), -30., fcq[ imo ,:,:] ) \n",
    "            fcq[ imo ,:,:] = np.where( ( (msk != 0)&(yc>=30.) ), -30., fcq[ imo ,:,:] ) \n",
    " \n",
    "            hav=np.sum( fcq[ imo ,:,:].values.flatten() * arx.flatten() )\n",
    "            har=np.sum( arx.flatten() )\n",
    "            bias = hav/har \n",
    "            fcq[ imo ,:,:] = np.where( (msk != 0), fcq[ imo ,:,:] - bias , fcq[ imo ,:,:]) \n",
    "\n",
    "\n",
    "    zsm[ ifld ] = fcq\n",
    "\n",
    "\n",
    "zsm.to_netcdf( ofi  )"
   ]
  },
  {
   "cell_type": "code",
   "execution_count": null,
   "id": "7076080d-0b83-4049-9af4-6d4b384e3fc0",
   "metadata": {},
   "outputs": [],
   "source": [
    "####\n",
    "\n",
    "## zsm=xr.open_dataset(ofi)\n"
   ]
  },
  {
   "cell_type": "code",
   "execution_count": null,
   "id": "5daaafae-10db-43bf-8495-1009caa23a1c",
   "metadata": {},
   "outputs": [],
   "source": [
    "###\n",
    "arj=zsm.area.values\n",
    "msk=zsm.mask.values\n",
    "\n",
    "arx=np.where( (msk == 0) , 0., arj ) \n",
    "\n",
    "hav=np.sum( zsm.qdp[0,:,:].values.flatten() * arx.flatten() )\n",
    "har=np.sum( arx.flatten() )\n",
    "\n",
    "bias = hav/har \n",
    "print( f\"Starting bias {bias}\")\n",
    "\n"
   ]
  },
  {
   "cell_type": "code",
   "execution_count": null,
   "id": "497c01b5-be68-4f17-889e-c39728f94bbc",
   "metadata": {},
   "outputs": [],
   "source": [
    "plt.plot( zsm.hblt.values.flatten(),'.')"
   ]
  },
  {
   "cell_type": "code",
   "execution_count": null,
   "id": "a1298bd9-94fb-4801-9f07-597639438f40",
   "metadata": {},
   "outputs": [],
   "source": [
    "#####\n",
    "hfix = zsm.hblt.values\n",
    "\n",
    "## The next command sets horig to zero wherever it is 'not finite.\n",
    "## The '~' is a 'bitwise NOT operator' --- thanks chatGPT\n",
    "hfix[~np.isfinite(hfix)] = 0"
   ]
  },
  {
   "cell_type": "code",
   "execution_count": null,
   "id": "2d7694d6-450a-4728-96ff-c8ec6bd8dff6",
   "metadata": {},
   "outputs": [],
   "source": [
    "###\n",
    "\n",
    "#plt.tricontourf( sm.xc.values.flatten(),sm.yc.values.flatten(),horig[0,:,:].flatten() , levels=np.linspace(0,100))\n",
    "plt.tricontourf( zsm.xc.values.flatten(),zsm.yc.values.flatten(),hfix[0,:,:].flatten() , levels=np.linspace(0,50))\n",
    "\n",
    "#plt.tricontourf( zsm.xc.values.flatten(),zsm.yc.values.flatten(),arx.flatten() , levels=21 )\n",
    "#plt.tricontourf( zsm.xc.values.flatten(),zsm.yc.values.flatten(),zsm.area.values.flatten() , levels=21 )\n",
    "\n",
    "#plt.tricontourf( zsm.xc.values.flatten(),zsm.yc.values.flatten(),zsm.mask.values.flatten() , levels=[-1,0,1,2,3,4,5,6,7,8,9,10,11] )\n",
    "#plt.tricontourf( zsm.xc.values.flatten(),zsm.yc.values.flatten(),zsm.qdp[0,:,:].values.flatten() , levels=np.linspace(-50,50)  )\n",
    "\n",
    "plt.colorbar()\n",
    "#plt.ylim(-100,1000)"
   ]
  },
  {
   "cell_type": "code",
   "execution_count": null,
   "id": "6a1c1f4d-cecf-4298-8d47-1629ed904892",
   "metadata": {},
   "outputs": [],
   "source": [
    "plt.plot( zsm.yc.values.flatten(),zsm.qdp.mean(axis=0).values.flatten() , '.')\n",
    "plt.ylim(-35,35)"
   ]
  },
  {
   "cell_type": "code",
   "execution_count": null,
   "id": "e19d258c-8572-4ba3-9c7f-5ccbb5db7e09",
   "metadata": {},
   "outputs": [],
   "source": []
  }
 ],
 "metadata": {
  "kernelspec": {
   "display_name": "NPL 2022b",
   "language": "python",
   "name": "npl-2022b"
  },
  "language_info": {
   "codemirror_mode": {
    "name": "ipython",
    "version": 3
   },
   "file_extension": ".py",
   "mimetype": "text/x-python",
   "name": "python",
   "nbconvert_exporter": "python",
   "pygments_lexer": "ipython3",
   "version": "3.8.13"
  }
 },
 "nbformat": 4,
 "nbformat_minor": 5
}
