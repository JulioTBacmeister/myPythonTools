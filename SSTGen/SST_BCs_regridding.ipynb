{
 "cells": [
  {
   "cell_type": "code",
   "execution_count": null,
   "id": "230fbcb3-3394-46bf-a77b-8b006165d6e1",
   "metadata": {},
   "outputs": [],
   "source": [
    "\n",
    "# Import packages \n",
    "import sys\n",
    "import argparse as arg\n",
    "\n",
    "import time\n",
    "import numpy as np\n",
    "import xarray as xr\n",
    "import matplotlib.pyplot as plt\n",
    "\n",
    "# import modules in other directories\n",
    "sys.path.append('../Regridder/')\n",
    "import scripGen as SG\n",
    "sys.path.append('../Utils/')\n",
    "import VertGridUtils as VGU\n",
    "\n",
    "import importlib\n",
    "importlib.reload( SG )\n",
    "importlib.reload( VGU )\n",
    "\n",
    "#Rdry = Con.Rdry() # \n",
    "\n"
   ]
  },
  {
   "cell_type": "code",
   "execution_count": null,
   "id": "dabb0a6b-c0d4-40bb-8ff1-c015a049cc2e",
   "metadata": {},
   "outputs": [],
   "source": [
    "fn = '/glade/campaign/cesm/cesmdata/inputdata/atm/cam/sst/sst_HadOIBl_bc_1x1_clim_c101029_ESMFmesh_120520.nc'\n",
    "M=xr.open_dataset( fn )"
   ]
  },
  {
   "cell_type": "code",
   "execution_count": null,
   "id": "5bb28b32-eb76-43ee-943c-8d2de8c01afe",
   "metadata": {},
   "outputs": [],
   "source": [
    "fn ='/glade/campaign/cesm/cesmdata/inputdata/atm/cam/sst/sst_HadOIBl_bc_1x1_1850_2021_c120422.nc'\n",
    "X=xr.open_dataset( fn )"
   ]
  },
  {
   "cell_type": "code",
   "execution_count": null,
   "id": "90c34964-8d42-46ff-8e39-32f165df720c",
   "metadata": {},
   "outputs": [],
   "source": [
    "X"
   ]
  },
  {
   "cell_type": "code",
   "execution_count": null,
   "id": "c4f4f8e8-2946-4cb0-bfaf-4d24e119714c",
   "metadata": {},
   "outputs": [],
   "source": [
    "M"
   ]
  },
  {
   "cell_type": "code",
   "execution_count": null,
   "id": "66caa890-5be2-4069-917a-f72a3d59117e",
   "metadata": {},
   "outputs": [],
   "source": [
    "print(M.elementMask.shape)"
   ]
  },
  {
   "cell_type": "code",
   "execution_count": null,
   "id": "b823400e-14b9-4b1d-9a2b-f78ec044f8c3",
   "metadata": {},
   "outputs": [],
   "source": [
    "plt.plot( M.elementMask )"
   ]
  },
  {
   "cell_type": "code",
   "execution_count": null,
   "id": "c540ef02-ae1b-4387-a404-248ba7f16879",
   "metadata": {},
   "outputs": [],
   "source": [
    "print(360*181)"
   ]
  },
  {
   "cell_type": "code",
   "execution_count": null,
   "id": "36855e6e-0c52-4066-954f-e85c43d1c46f",
   "metadata": {},
   "outputs": [],
   "source": [
    "M.inputFile"
   ]
  },
  {
   "cell_type": "code",
   "execution_count": null,
   "id": "67e0deb2-374d-43d0-bdc2-9edc3ef84aaf",
   "metadata": {},
   "outputs": [],
   "source": [
    "X.SST_cpl"
   ]
  },
  {
   "cell_type": "code",
   "execution_count": null,
   "id": "0691c3c4-786b-41db-95a9-e3f11de50416",
   "metadata": {},
   "outputs": [],
   "source": [
    "plt.contourf( X.SST_cpl[1000,:,:] )"
   ]
  },
  {
   "cell_type": "code",
   "execution_count": null,
   "id": "5ccc5370-30af-4711-99cf-df44ada2a5b0",
   "metadata": {},
   "outputs": [],
   "source": [
    "import cftime\n",
    "import datetime\n",
    "\n",
    "def generate_no_leap_dates(start_date, end_date):\n",
    "    \"\"\"\n",
    "    Generate a list of cftime.DatetimeNoLeap dates for a no-leap calendar, from start_date to end_date.\n",
    "    \"\"\"\n",
    "    dates = []\n",
    "    current_date = start_date\n",
    "    delta = datetime.timedelta(days=1)  # Use the standard datetime timedelta\n",
    "\n",
    "    while current_date <= end_date:\n",
    "        dates.append(current_date)\n",
    "        # Move to the next day (using datetime timedelta)\n",
    "        current_date = current_date + delta\n",
    "    \n",
    "    return dates\n",
    "\n",
    "# Step 1: Define the start and end date\n",
    "start_date = cftime.DatetimeNoLeap(2004, 1, 1, 0, 0, 0, has_year_zero=True)\n",
    "end_date = cftime.DatetimeNoLeap(2005, 12, 31, 0, 0, 0, has_year_zero=True)\n",
    "\n",
    "# Step 2: Generate daily dates using cftime\n",
    "cftime_dates = generate_no_leap_dates(start_date, end_date)\n",
    "\n",
    "# Step 3: Create an xarray DataArray with the generated time dimension\n",
    "time_da = xr.DataArray(cftime_dates, dims='time', name='time')\n",
    "\n",
    "# Example usage in a Dataset\n",
    "data = np.random.rand(len(cftime_dates), 10, 10)  # Random 3D data with time, lat, lon dimensions\n",
    "lat = np.linspace(-90, 90, 10)\n",
    "lon = np.linspace(-180, 180, 10)\n",
    "\n",
    "ds = xr.Dataset(\n",
    "    {\n",
    "        'temperature': (['time', 'lat', 'lon'], data)\n",
    "    },\n",
    "    coords={\n",
    "        'time': time_da,\n",
    "        'lat': lat,\n",
    "        'lon': lon\n",
    "    }\n",
    ")\n",
    "\n",
    "# Check the dataset\n",
    "print(ds)\n"
   ]
  },
  {
   "cell_type": "code",
   "execution_count": null,
   "id": "97ddf530-65bb-44d4-9b8d-7296e769f0b8",
   "metadata": {},
   "outputs": [],
   "source": []
  }
 ],
 "metadata": {
  "kernelspec": {
   "display_name": "NPL 2024b",
   "language": "python",
   "name": "npl-2024b"
  },
  "language_info": {
   "codemirror_mode": {
    "name": "ipython",
    "version": 3
   },
   "file_extension": ".py",
   "mimetype": "text/x-python",
   "name": "python",
   "nbconvert_exporter": "python",
   "pygments_lexer": "ipython3",
   "version": "3.11.9"
  }
 },
 "nbformat": 4,
 "nbformat_minor": 5
}
