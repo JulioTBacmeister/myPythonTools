{
 "cells": [
  {
   "cell_type": "code",
   "execution_count": null,
   "id": "02aca8b6-af2f-459c-90cd-c13a32865a43",
   "metadata": {},
   "outputs": [],
   "source": [
    "\n",
    "# Import packages \n",
    "import sys\n",
    "import argparse as arg\n",
    "\n",
    "import time\n",
    "import numpy as np\n",
    "import xarray as xr\n",
    "import matplotlib.pyplot as plt\n",
    "\n",
    "\n",
    "import importlib\n"
   ]
  },
  {
   "cell_type": "code",
   "execution_count": null,
   "id": "468a0f6e-26e5-43b6-bb0d-975607f3461f",
   "metadata": {},
   "outputs": [],
   "source": [
    "SSTq = xr.open_dataset( '/glade/campaign/cgd/amp/juliob/NOAA_OI_SST/sst_ice_1x1_ESMFmesh.nc' )"
   ]
  },
  {
   "cell_type": "code",
   "execution_count": null,
   "id": "4a3a835d-1db3-463a-a67b-1d2a3a186038",
   "metadata": {},
   "outputs": [],
   "source": [
    "\n",
    "fn = '/glade/campaign/cesm/cesmdata/inputdata/atm/cam/sst/sst_HadOIBl_bc_1x1_clim_c101029_ESMFmesh_120520.nc'\n",
    "SST1=xr.open_dataset( fn )\n"
   ]
  },
  {
   "cell_type": "code",
   "execution_count": null,
   "id": "f7aed3de-a4f2-469e-b4ca-172d7399988f",
   "metadata": {},
   "outputs": [],
   "source": [
    "SSTq"
   ]
  },
  {
   "cell_type": "code",
   "execution_count": null,
   "id": "6424aa3c-62a0-4149-84a9-c175435226d0",
   "metadata": {},
   "outputs": [],
   "source": [
    "SST1"
   ]
  },
  {
   "cell_type": "code",
   "execution_count": null,
   "id": "1b46a1af-b79e-4711-8819-632a2d3d5cf2",
   "metadata": {},
   "outputs": [],
   "source": [
    "plt.plot(   SST1.elementConn.values.flatten()-SSTq.elementConn.values.flatten() ,'.')\n",
    "plt.xlim(0,10000)"
   ]
  },
  {
   "cell_type": "code",
   "execution_count": null,
   "id": "89e56b83-85bd-4e8b-af46-89a0166a0068",
   "metadata": {},
   "outputs": [],
   "source": [
    "n=10*360\n",
    "print( SSTq.elementConn.values[n,:] )\n",
    "print( SST1.elementConn.values[n,:] )\n"
   ]
  },
  {
   "cell_type": "code",
   "execution_count": null,
   "id": "e34920e0-4ddf-4add-b6e2-ae900fd81ece",
   "metadata": {},
   "outputs": [],
   "source": [
    "n=10*360+1\n",
    "print( SSTq.nodeCoords.values[n,:] )\n",
    "print( SST1.nodeCoords.values[n,:] )\n"
   ]
  },
  {
   "cell_type": "code",
   "execution_count": null,
   "id": "2d84893f-9506-4286-827a-1a18d10463eb",
   "metadata": {},
   "outputs": [],
   "source": []
  }
 ],
 "metadata": {
  "kernelspec": {
   "display_name": "NPL 2024b",
   "language": "python",
   "name": "npl-2024b"
  },
  "language_info": {
   "codemirror_mode": {
    "name": "ipython",
    "version": 3
   },
   "file_extension": ".py",
   "mimetype": "text/x-python",
   "name": "python",
   "nbconvert_exporter": "python",
   "pygments_lexer": "ipython3",
   "version": "3.11.9"
  }
 },
 "nbformat": 4,
 "nbformat_minor": 5
}
