{
 "cells": [
  {
   "cell_type": "code",
   "execution_count": null,
   "id": "5689c027-8f0e-4c82-957c-d6b0d51eea50",
   "metadata": {},
   "outputs": [],
   "source": [
    "workdir_ = '/glade/work/juliob/'\n",
    "import sys\n",
    "#######################################\n",
    "# Leave this for now. But it should change to better\n",
    "# method as here:\n",
    "# import os\n",
    "# module_a_dir = os.path.dirname(os.path.abspath(__file__))\n",
    "# utils_path = os.path.join(module_a_dir, '..', 'Utils')\n",
    "# sys.path.append(utils_path)\n",
    "# print( f\" a path added in {__name__} {utils_path} \")\n",
    "########################################\n",
    "sys.path.append(workdir_ + 'myPythonTools/GenlTools/')\n",
    "sys.path.append(workdir_ + 'myPythonTools/Utils/')\n",
    "#sys.path.append(workdir_ + 'PyRegridding/Regridder/')\n",
    "\n",
    "# Own local packages\n",
    "import AveragingUtils as Av\n",
    "#import VertRegridFlexLL as Vrg  # This is toxic for some reason\n",
    "import PlotUtil as Pu\n",
    "import validation_data as Val\n",
    "import var_A_x_B as vAB\n",
    "import utils as uti\n",
    "\n",
    "sys.path.append(workdir_ + 'PyRegridding/Utils/')\n",
    "import MakePressures as MkP\n",
    "import GridUtils as GrU\n",
    "\n",
    "\n",
    "sys.path.append(workdir_ + 'PyRegridding/Drivers/')\n",
    "import RegridField as RgF\n",
    "\n",
    "\n",
    "# The usual\n",
    "from datetime import date\n",
    "import numpy as np\n",
    "import xarray as xr\n",
    "import matplotlib.pyplot as plt\n",
    "import matplotlib.tri as tri\n",
    "\n",
    "# Cartopy for pretty maps\n",
    "import cartopy\n",
    "import cartopy.crs as ccrs\n",
    "import cartopy.feature as cfeature\n",
    "\n",
    "# Some other useful packages \n",
    "import importlib\n",
    "import copy\n",
    "import time\n",
    "import cftime\n",
    "\n",
    "importlib.reload( uti )\n",
    "importlib.reload( Pu )\n",
    "importlib.reload(Av)\n",
    "importlib.reload(Val)\n",
    "importlib.reload(vAB)\n",
    "importlib.reload(MkP)\n",
    "importlib.reload(RgF)\n"
   ]
  },
  {
   "cell_type": "code",
   "execution_count": null,
   "id": "37d32e91-0aa3-4a81-b710-78469500d0a1",
   "metadata": {},
   "outputs": [],
   "source": [
    "####\n",
    "#   \n",
    "####\n",
    "foo='/glade/campaign/cgd/amp/juliob/NOAA_OI_SST/sst.day.mean.2004.nc'\n",
    "\n",
    "SST=xr.open_dataset(foo)\n",
    "# Remove February 29, 2004\n",
    "SST = SST.sel(time=~((SST['time.month'] == 2) & (SST['time.day'] == 29) & (SST['time.year'] == 2004)))\n",
    "\n",
    "sstnan=SST.sst.values\n",
    "\n",
    "SST_zer=SST.fillna( 0.)\n",
    "\n",
    "sstv=SST_zer.sst.values\n",
    "nt,ny,nx=np.shape( sstv )\n",
    "\n",
    "sstZon=np.nanmean( sstnan, axis=2 )\n",
    "sstZonX=np.expand_dims( sstZon, axis=2)\n",
    "sstZonX= np.repeat( sstZonX, nx , axis=2)\n",
    "\n",
    "sstYak = np.where(np.isnan(sstnan), sstZonX , sstv)\n",
    "sstYak = np.where(np.isnan(sstYak), 0. , sstYak)\n",
    "\n",
    "SST_fix = copy.deepcopy( SST )\n",
    "SST_fix.sst.values = sstYak\n"
   ]
  },
  {
   "cell_type": "code",
   "execution_count": null,
   "id": "835400e8-6d56-48f5-8c92-3464340d78fa",
   "metadata": {},
   "outputs": [],
   "source": [
    "SST"
   ]
  },
  {
   "cell_type": "code",
   "execution_count": null,
   "id": "7d24343e-a44c-472c-9ed4-ddc93abedb6d",
   "metadata": {},
   "outputs": [],
   "source": [
    "\n",
    "ocn_msk = np.where(np.isnan(sstnan), 0. , 1. )\n",
    "ocn_msk_tsum = np.sum( ocn_msk , axis=0 ) /366.\n",
    "ocn_msk0 = ocn_msk[0,:,:]"
   ]
  },
  {
   "cell_type": "code",
   "execution_count": null,
   "id": "7be831e2-dbd2-43fb-82bd-2bffc4e1700f",
   "metadata": {},
   "outputs": [],
   "source": [
    "plt.contourf( ocn_msk0, levels=5 )#np.linspace(-10,40,num=51) )\n",
    "plt.colorbar()"
   ]
  },
  {
   "cell_type": "code",
   "execution_count": null,
   "id": "b8b813e7-1d71-4bc1-bbb9-6b9638b0b5a7",
   "metadata": {},
   "outputs": [],
   "source": [
    "from scipy.ndimage import uniform_filter1d\n",
    "\n",
    "def smooth_sst_ndarray_with_boxcar(sst_array , ocn_msk, iterate=1, size=[3,3] ):\n",
    "    \"\"\"\n",
    "    Smooths the SST field using a boxcar filter, replacing land (fill_value) with smoothed values.\n",
    "    \n",
    "    Parameters:\n",
    "    - sst_array: 3D numpy ndarray containing SST data with dimensions (nt, ny, nx)\n",
    "    - fill_value: Value representing land (default is -10)\n",
    "    - size: Size of the boxcar filter window (default is 3x3)\n",
    "\n",
    "    Returns:\n",
    "    - sst_smoothed: 3D ndarray with land values replaced by smoothed SST values.\n",
    "    \"\"\"\n",
    "    \n",
    "    # Step 2: Initialize an array to hold the smoothed results\n",
    "    sst_smoothed = copy.deepcopy(sst_array) #np.empty_like(sst_array)\n",
    "\n",
    "    for nit in np.arange( iterate):\n",
    "        # Loop over time dimension and apply the boxcar filters to each 2D slice\n",
    "        for t in range(sst_array.shape[0]):  # Loop over the time dimension (nt)\n",
    "    \n",
    "            # Step 1: Apply boxcar smoothing along the latitude axis (ny)\n",
    "            sst_lat_smoothed = uniform_filter1d(sst_smoothed[t], size=size[0], axis=0, mode='reflect')\n",
    "            \n",
    "            # Step 2: Apply boxcar smoothing along the longitude axis (nx) with a different boundary treatment\n",
    "            sst_smoothed[t] = uniform_filter1d(sst_lat_smoothed, size=size[1], axis=1, mode='wrap' ) #, cval=cval_lon)\n",
    "        \n",
    "    \n",
    "        sst_smoothed = np.where( ocn_msk == 1, sst_array , sst_smoothed )\n",
    "        print( f\"Iteration={nit}\" )\n",
    "\n",
    "    return sst_smoothed\n",
    "\n",
    "# Assuming 'sst_array' is a 3D ndarray with dimensions (nt, ny, nx)\n",
    "# For example: sst_array = np.random.rand(nt, ny, nx)  # Replace this with your actual data\n",
    "\n",
    "#sst_smoothed = smooth_sst_ndarray_with_boxcar(sst_array, fill_value=-10, size=3)\n",
    "#print(sst_smoothed)\n"
   ]
  },
  {
   "cell_type": "code",
   "execution_count": null,
   "id": "5de55985-23ce-43a1-9a31-f7ba217acab2",
   "metadata": {},
   "outputs": [],
   "source": [
    "sstYakSm = smooth_sst_ndarray_with_boxcar(sstYak , ocn_msk, iterate=50, size=[17,17] )"
   ]
  },
  {
   "cell_type": "code",
   "execution_count": null,
   "id": "29c5e216-38ee-4946-9142-8ffe49607ad4",
   "metadata": {},
   "outputs": [],
   "source": [
    "sstYakFx = np.where( ocn_msk == 1, sstYak , sstYakSm )"
   ]
  },
  {
   "cell_type": "code",
   "execution_count": null,
   "id": "4a528a6e-37d7-49f9-a1e9-a017d7b160c3",
   "metadata": {},
   "outputs": [],
   "source": [
    "plt.contourf( (sstYak)[360,:,:], levels=np.linspace(-10,40,num=51) )"
   ]
  },
  {
   "cell_type": "code",
   "execution_count": null,
   "id": "8750f30c-cd8f-4133-9b8c-122b66f38339",
   "metadata": {},
   "outputs": [],
   "source": [
    "plt.contourf( (sstYakSm)[360,:,:], levels=np.linspace(-10,40,num=51) )"
   ]
  },
  {
   "cell_type": "code",
   "execution_count": null,
   "id": "53e72bed-3a9c-46b7-b340-b6a3e656d62e",
   "metadata": {},
   "outputs": [],
   "source": [
    "plt.contourf( (sstnan)[360,:,:], levels=np.linspace(-10,40,num=51) )"
   ]
  },
  {
   "cell_type": "code",
   "execution_count": null,
   "id": "3f9b432f-9df4-4ca3-aed6-a1e2ddf65381",
   "metadata": {},
   "outputs": [],
   "source": [
    "sstChk = np.where( ocn_msk == 1, sstYakSm , sstnan )"
   ]
  },
  {
   "cell_type": "code",
   "execution_count": null,
   "id": "aa22f5a5-4f7b-4121-ac3a-d257810a5155",
   "metadata": {},
   "outputs": [],
   "source": [
    "plt.contourf( (sstChk)[360,:,:], levels=np.linspace(-10,40,num=51) )"
   ]
  },
  {
   "cell_type": "code",
   "execution_count": null,
   "id": "d5041022-182d-4f50-8043-4e6057bfe94b",
   "metadata": {},
   "outputs": [],
   "source": []
  }
 ],
 "metadata": {
  "kernelspec": {
   "display_name": "NPL 2024b",
   "language": "python",
   "name": "npl-2024b"
  },
  "language_info": {
   "codemirror_mode": {
    "name": "ipython",
    "version": 3
   },
   "file_extension": ".py",
   "mimetype": "text/x-python",
   "name": "python",
   "nbconvert_exporter": "python",
   "pygments_lexer": "ipython3",
   "version": "3.11.9"
  }
 },
 "nbformat": 4,
 "nbformat_minor": 5
}
