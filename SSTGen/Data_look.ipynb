{
 "cells": [
  {
   "cell_type": "code",
   "execution_count": null,
   "id": "02aca8b6-af2f-459c-90cd-c13a32865a43",
   "metadata": {},
   "outputs": [],
   "source": [
    "\n",
    "# Import packages \n",
    "import sys\n",
    "import argparse as arg\n",
    "\n",
    "import time\n",
    "import numpy as np\n",
    "import xarray as xr\n",
    "import matplotlib.pyplot as plt\n",
    "\n",
    "\n",
    "import importlib\n"
   ]
  },
  {
   "cell_type": "code",
   "execution_count": null,
   "id": "468a0f6e-26e5-43b6-bb0d-975607f3461f",
   "metadata": {},
   "outputs": [],
   "source": [
    "SSTq = xr.open_dataset( '/glade/campaign/cgd/amp/juliob/NOAA_OI_SST/sst_ice_NOAA_QxQ_2003_2005.nc' )"
   ]
  },
  {
   "cell_type": "code",
   "execution_count": null,
   "id": "4a3a835d-1db3-463a-a67b-1d2a3a186038",
   "metadata": {},
   "outputs": [],
   "source": [
    "fn ='/glade/campaign/cesm/cesmdata/inputdata/atm/cam/sst/sst_HadOIBl_bc_1x1_1850_2021_c120422.nc'\n",
    "SST1=xr.open_dataset( fn )"
   ]
  },
  {
   "cell_type": "code",
   "execution_count": null,
   "id": "1b46a1af-b79e-4711-8819-632a2d3d5cf2",
   "metadata": {},
   "outputs": [],
   "source": [
    "plt.plot( SSTq.ice_cov[100,:,:].values.flatten())"
   ]
  },
  {
   "cell_type": "code",
   "execution_count": null,
   "id": "89e56b83-85bd-4e8b-af46-89a0166a0068",
   "metadata": {},
   "outputs": [],
   "source": []
  }
 ],
 "metadata": {
  "kernelspec": {
   "display_name": "NPL 2024b",
   "language": "python",
   "name": "npl-2024b"
  },
  "language_info": {
   "codemirror_mode": {
    "name": "ipython",
    "version": 3
   },
   "file_extension": ".py",
   "mimetype": "text/x-python",
   "name": "python",
   "nbconvert_exporter": "python",
   "pygments_lexer": "ipython3",
   "version": "3.11.9"
  }
 },
 "nbformat": 4,
 "nbformat_minor": 5
}
