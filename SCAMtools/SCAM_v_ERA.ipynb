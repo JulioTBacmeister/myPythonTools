{
 "cells": [
  {
   "cell_type": "code",
   "execution_count": null,
   "id": "87c604d3-57a9-4c55-bfaa-fd9fe09b7590",
   "metadata": {},
   "outputs": [],
   "source": [
    "# Import packages \n",
    "import sys\n",
    "sys.path.append('../Plotting/')\n",
    "\"\"\" Now you can imprt modules in ../Plotting\"\"\"\n",
    "import xyp_plot as xyp\n",
    "\n",
    "import xarray as xr\n",
    "import numpy as np\n",
    "import matplotlib.pyplot as plt\n",
    "import matplotlib as mpl\n",
    "import matplotlib.tri as tri\n",
    "import matplotlib.colors as colors\n",
    "from scipy import interpolate as intr\n",
    "\n",
    "#Models\n",
    "#from sklearn.ensemble import RandomForestRegressor\n",
    "#from sklearn.tree import DecisionTreeRegressor\n",
    "\n",
    "\n",
    "#Evaluation\n",
    "#from sklearn.metrics import mean_squared_error\n",
    "#from sklearn.model_selection import cross_val_score\n",
    "\n",
    "import cartopy\n",
    "import cartopy.crs as ccrs\n",
    "import cartopy.feature as cfeature\n",
    "\n",
    "# Some useful packages \n",
    "import importlib\n",
    "import copy\n",
    "import time\n"
   ]
  },
  {
   "cell_type": "code",
   "execution_count": null,
   "id": "434fd34c-5fa8-4743-b0e6-91b149f3c931",
   "metadata": {},
   "outputs": [],
   "source": [
    "dir=\"/project/amp/juliob/ERAI/f09_omega/L58/2010/\"\n",
    "files=\"ERAI_fv09_L58.cam2.i.2010-07-*.nc\"\n",
    "\n",
    "dfils=dir + files\n",
    "\n",
    "ds=xr.open_mfdataset( dfils , data_vars='different' , decode_times=False )"
   ]
  },
  {
   "cell_type": "code",
   "execution_count": null,
   "id": "95bdd13f-3a79-4ff1-8191-8ed838d308b2",
   "metadata": {},
   "outputs": [],
   "source": [
    "omega=ds['OMEGA'].values\n",
    "lat=ds['lat'].values\n",
    "lon=ds['lon'].values"
   ]
  },
  {
   "cell_type": "code",
   "execution_count": null,
   "id": "ea3045f9-4a0c-4a56-9fe2-17dee0c373e8",
   "metadata": {},
   "outputs": [],
   "source": [
    "print(np.shape(omega) , np.shape(lat) )"
   ]
  },
  {
   "cell_type": "code",
   "execution_count": null,
   "id": "0df7c12b-fb37-48b9-8a71-5ce4dbc44a6f",
   "metadata": {},
   "outputs": [],
   "source": [
    "dlat=np.abs( lat - 36.6 )\n",
    "dlon=np.abs( lon - 270. )"
   ]
  },
  {
   "cell_type": "code",
   "execution_count": null,
   "id": "2aa9f207-fef0-4dcd-984f-ef098461b2c2",
   "metadata": {},
   "outputs": [],
   "source": [
    "j0 = np.argmin(dlat)\n",
    "i0 = np.argmin(dlon)\n",
    "print(lon[i0],lat[j0])\n",
    "omegZT = omega[:,:,j0,i0]\n"
   ]
  },
  {
   "cell_type": "code",
   "execution_count": null,
   "id": "64c1d0dc-b0de-4976-9857-48c335ebe2fe",
   "metadata": {},
   "outputs": [],
   "source": [
    "plt.plot(omegZT[:,45])"
   ]
  },
  {
   "cell_type": "code",
   "execution_count": null,
   "id": "3922a7c4-c88e-4155-aa80-a335df6802c2",
   "metadata": {},
   "outputs": [],
   "source": [
    "dir ='/project/amp/juliob/scam/archive/JP_Test_00_L58_270.0E_36.6N_2010-07-01/atm/hist/'\n",
    "file ='JP_Test_00_L58_270.0E_36.6N_2010-07-01.cam.h0.2010-07-01-00000.nc'\n",
    "dfile=dir+file\n",
    "dsSCAM=xr.open_dataset( dfile )\n"
   ]
  },
  {
   "cell_type": "code",
   "execution_count": null,
   "id": "c36f0b60-1961-4b41-85e6-1b0593f7c393",
   "metadata": {},
   "outputs": [],
   "source": [
    "Omg=dsSCAM['OMEGA'][180,:,0,0].values\n",
    "Omgt57=dsSCAM['OMEGA'][:,57,0,0].values\n",
    "Omgt45=dsSCAM['OMEGA'][:,45,0,0].values\n"
   ]
  },
  {
   "cell_type": "code",
   "execution_count": null,
   "id": "b4cf926a-d6e4-4dd1-b06f-9abd421a89b7",
   "metadata": {},
   "outputs": [],
   "source": [
    "G = np.shape(Omgt45)\n",
    "timeSCAM=np.arange( G[0] )/192.\n",
    "G = np.shape( omegZT )\n",
    "time3D=np.arange( G[0] )/4.\n"
   ]
  },
  {
   "cell_type": "code",
   "execution_count": null,
   "id": "a4266db6-deb2-4f44-8502-d08eff273ed4",
   "metadata": {},
   "outputs": [],
   "source": [
    "plt.plot(timeSCAM,Omgt45,'.')\n",
    "plt.plot(time3D,omegZT[:,45] ,'+')\n",
    "\n",
    "\n"
   ]
  },
  {
   "cell_type": "code",
   "execution_count": null,
   "id": "e7c7cca5-5a9c-4e96-8c26-1a3ae1f58b07",
   "metadata": {},
   "outputs": [],
   "source": []
  }
 ],
 "metadata": {
  "kernelspec": {
   "display_name": "Python [conda env:adf_v0.07] *",
   "language": "python",
   "name": "conda-env-adf_v0.07-py"
  },
  "language_info": {
   "codemirror_mode": {
    "name": "ipython",
    "version": 3
   },
   "file_extension": ".py",
   "mimetype": "text/x-python",
   "name": "python",
   "nbconvert_exporter": "python",
   "pygments_lexer": "ipython3",
   "version": "3.9.13"
  }
 },
 "nbformat": 4,
 "nbformat_minor": 5
}
