{
 "cells": [
  {
   "cell_type": "code",
   "execution_count": null,
   "id": "94573348-e060-4c5a-970d-6593a144a807",
   "metadata": {},
   "outputs": [],
   "source": [
    "# Import packages \n",
    "import sys\n",
    "sys.path.append('../Plotting/')\n",
    "\"\"\" Now you can imprt modules in ../Plotting\"\"\"\n",
    "import xyp_plot as xyp\n",
    "\n",
    "import xarray as xr\n",
    "import numpy as np\n",
    "import matplotlib.pyplot as plt\n",
    "import matplotlib as mpl\n",
    "import matplotlib.tri as tri\n",
    "import matplotlib.colors as colors\n",
    "from scipy import interpolate as intr\n",
    "\n",
    "#Models\n",
    "#from sklearn.ensemble import RandomForestRegressor\n",
    "#from sklearn.tree import DecisionTreeRegressor\n",
    "\n",
    "\n",
    "#Evaluation\n",
    "#from sklearn.metrics import mean_squared_error\n",
    "#from sklearn.model_selection import cross_val_score\n",
    "\n",
    "import cartopy\n",
    "import cartopy.crs as ccrs\n",
    "import cartopy.feature as cfeature\n",
    "\n",
    "# Some useful packages \n",
    "import importlib\n",
    "import copy\n",
    "import time\n"
   ]
  },
  {
   "cell_type": "code",
   "execution_count": null,
   "id": "99657715-fe12-4990-b85c-4e737496a34b",
   "metadata": {},
   "outputs": [],
   "source": [
    "#constants\n",
    "cp = 1005.0\n",
    "g  = 9.8\n",
    "\n"
   ]
  },
  {
   "cell_type": "code",
   "execution_count": null,
   "id": "b3dedd17-db31-4820-becc-d39a2e64cff3",
   "metadata": {},
   "outputs": [],
   "source": [
    "\n",
    "dir ='/project/amp/juliob/scam/archive/JP_Test_00_L58_270.0E_36.6N_2010-07-01/atm/hist/'\n",
    "file ='JP_Test_00_L58_270.0E_36.6N_2010-07-01_x00.cam.h0.2010-07-01-00000.nc'\n",
    "dfile=dir+file\n",
    "ds0=xr.open_dataset( dfile )\n",
    "\n",
    "dir ='/project/amp/juliob/scam/archive/JP_Test_00_L58_270.0E_36.6N_2010-07-01/atm/hist/'\n",
    "file ='JP_Test_00_L58_270.0E_36.6N_2010-07-01_x01.cam.h0.2010-07-01-00000.nc'\n",
    "dfile=dir+file\n",
    "ds1=xr.open_dataset( dfile )\n",
    "\n",
    "\n"
   ]
  },
  {
   "cell_type": "code",
   "execution_count": null,
   "id": "126b644a-d3d0-4794-befd-9b228e1b7f08",
   "metadata": {},
   "outputs": [],
   "source": [
    "#print(list(ds.variables))\n",
    "zlev=-7000. * np.log( ds0['lev'] /1000. )\n",
    "Sdry0 = cp * ds0['T'] +  g * ds0['Z3']\n",
    "Sdry0_Tgt = cp * ds0['Target_T'] +  g * ds0['Z3']\n",
    "\n",
    "Sdry1 = cp * ds1['T'] +  g * ds1['Z3']\n"
   ]
  },
  {
   "cell_type": "code",
   "execution_count": null,
   "id": "30bf5675-2c07-431e-9473-2b660d7d1c0b",
   "metadata": {},
   "outputs": [],
   "source": [
    "print(np.shape(Sdry0))\n",
    "so0=np.shape(Sdry0)\n",
    "so1=np.shape(Sdry1)\n",
    "\n"
   ]
  },
  {
   "cell_type": "code",
   "execution_count": null,
   "id": "2fafe6a5-7adf-4dbf-b139-e189bcf230e2",
   "metadata": {},
   "outputs": [],
   "source": [
    "Sdry0=np.reshape( Sdry0.values, (so0[0] , so0[1] ) )\n",
    "Sdry1=np.reshape( Sdry1.values, (so1[0] , so1[1] ) )\n",
    "Sdry0_Tgt=np.reshape( Sdry0_Tgt.values, (so0[0] , so0[1] ) )\n",
    "\n",
    "\n"
   ]
  },
  {
   "cell_type": "code",
   "execution_count": null,
   "id": "87aee21d-183e-411e-863b-7b10de2e70f4",
   "metadata": {},
   "outputs": [],
   "source": []
  },
  {
   "cell_type": "code",
   "execution_count": null,
   "id": "76a67e3f-9bc9-4720-af29-07a47d0d09f4",
   "metadata": {},
   "outputs": [],
   "source": [
    "plt.plot( np.average(Sdry0,axis=0)/cp , zlev, label='ERA forcing')\n",
    "plt.plot( np.average(Sdry1,axis=0)/cp , zlev, label='Nudged CAM forcing' )\n",
    "plt.plot( np.average(Sdry0_Tgt,axis=0)/cp , zlev, label='ERA Target')\n",
    "plt.ylim(0,2000)\n",
    "plt.xlim(290,330)\n",
    "plt.legend()"
   ]
  },
  {
   "cell_type": "code",
   "execution_count": null,
   "id": "4b6adcb2-702f-459a-a91b-85a9e0bb1cd7",
   "metadata": {},
   "outputs": [],
   "source": [
    "\n",
    "print(list(ds0.variables))"
   ]
  },
  {
   "cell_type": "code",
   "execution_count": null,
   "id": "b4dd91fa-d29b-4921-8ef0-080509c3fac8",
   "metadata": {},
   "outputs": [],
   "source": [
    "plt.xlim(0,1000)\n",
    "plt.plot(ds0['SOLIN'].values.flatten())"
   ]
  },
  {
   "cell_type": "code",
   "execution_count": null,
   "id": "63a0b847-da4e-4b58-b2a5-78ec02579b47",
   "metadata": {},
   "outputs": [],
   "source": [
    "plt.ylim(0,3000)\n",
    "plt.xlim(303,320)\n",
    "plt.plot( Sdry0[180,:]/cp,zlev)\n",
    "plt.plot( Sdry1[180,:]/cp,zlev)\n"
   ]
  },
  {
   "cell_type": "code",
   "execution_count": null,
   "id": "e44c109b-6f22-44e2-99fd-333fb2ef02b0",
   "metadata": {},
   "outputs": [],
   "source": [
    "print(zlev[45].values)\n"
   ]
  },
  {
   "cell_type": "code",
   "execution_count": null,
   "id": "727c33f6-d0b8-4845-b60c-5a2954e287a2",
   "metadata": {},
   "outputs": [],
   "source": [
    "Omg=ds0['OMEGA'][180,:,0,0].values\n",
    "Omgt57=ds1['OMEGA'][:,57,0,0].values\n",
    "Omgt45=ds1['OMEGA'][:,45,0,0].values\n"
   ]
  },
  {
   "cell_type": "code",
   "execution_count": null,
   "id": "4e903eae-32dd-4bac-a911-312053395829",
   "metadata": {},
   "outputs": [],
   "source": [
    "plt.plot(Omgt57,'.')\n",
    "plt.plot(Omgt45,'.')\n"
   ]
  },
  {
   "cell_type": "code",
   "execution_count": null,
   "id": "7a417077-51ec-454b-b36f-ec072bbb8a2f",
   "metadata": {},
   "outputs": [],
   "source": [
    "plt.ylim(0,5000)\n",
    "plt.plot(Omg,zlev)"
   ]
  },
  {
   "cell_type": "code",
   "execution_count": null,
   "id": "f263a65e-58a8-4995-8b3b-5e2bf3dd3c0f",
   "metadata": {},
   "outputs": [],
   "source": []
  }
 ],
 "metadata": {
  "kernelspec": {
   "display_name": "Python [conda env:adf_v0.07] *",
   "language": "python",
   "name": "conda-env-adf_v0.07-py"
  },
  "language_info": {
   "codemirror_mode": {
    "name": "ipython",
    "version": 3
   },
   "file_extension": ".py",
   "mimetype": "text/x-python",
   "name": "python",
   "nbconvert_exporter": "python",
   "pygments_lexer": "ipython3",
   "version": "3.9.13"
  }
 },
 "nbformat": 4,
 "nbformat_minor": 5
}
