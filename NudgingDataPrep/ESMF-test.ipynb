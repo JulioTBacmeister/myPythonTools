{
 "cells": [
  {
   "cell_type": "code",
   "execution_count": null,
   "id": "140846a1-86b7-4161-a656-449685234f49",
   "metadata": {},
   "outputs": [],
   "source": [
    "# Import packages \n",
    "import sys\n",
    "sys.path.append('../Plotting/')\n",
    "\"\"\" Now you can imprt modules in ../Plotting\"\"\"\n",
    "import xyp_plot as xyp\n",
    "\n",
    "import xarray as xr\n",
    "import numpy as np\n",
    "import matplotlib.pyplot as plt\n",
    "import matplotlib as mpl\n",
    "import matplotlib.tri as tri\n",
    "import matplotlib.colors as colors\n",
    "\n",
    "from scipy.io import FortranFile\n",
    "\n",
    "import cartopy\n",
    "import cartopy.crs as ccrs\n",
    "import cartopy.feature as cfeature\n",
    "#import ana as a\n",
    "\n",
    "import ESMF as E\n",
    "\n",
    "import importlib\n",
    "\n",
    "import copy\n",
    "import glob"
   ]
  },
  {
   "cell_type": "code",
   "execution_count": null,
   "id": "2a813082-491a-4d47-8b02-c49e8db96d4c",
   "metadata": {},
   "outputs": [],
   "source": [
    "loco=E.LocStream(16,   coord_sys = E.CoordSys.SPH_DEG)"
   ]
  },
  {
   "cell_type": "code",
   "execution_count": null,
   "id": "0c9ebda1-87da-4382-a3b6-82ad72486ade",
   "metadata": {},
   "outputs": [],
   "source": [
    "scripdir='/glade/p/cesmdata/cseg/inputdata/share/scripgrids/'\n",
    "scripfile='ne30pg3_scrip_170611.nc'\n",
    "\n",
    "fscrip1=scripdir+scripfile\n",
    "fscrip2=scripdir+  \"fv0.9x1.25_141008.nc\"\n",
    "\n",
    "\n",
    "scr1=xr.open_dataset( fscrip1 )\n",
    "scr2=xr.open_dataset( fscrip2 )\n",
    "\n"
   ]
  },
  {
   "cell_type": "code",
   "execution_count": null,
   "id": "bd06a728-b931-4c1c-96cb-6a9abdd02e7c",
   "metadata": {},
   "outputs": [],
   "source": [
    "print( list(scr2.variables) )"
   ]
  },
  {
   "cell_type": "code",
   "execution_count": null,
   "id": "3de9611a-262d-4bb0-98ea-366ca9005ec6",
   "metadata": {},
   "outputs": [],
   "source": [
    "print( np.shape( scr2['grid_center_lat'] ) )"
   ]
  },
  {
   "cell_type": "code",
   "execution_count": null,
   "id": "a154ca24-e529-4463-b42c-a275c222ed74",
   "metadata": {},
   "outputs": [],
   "source": [
    "print( scr1['grid_center_lon'].dims ) "
   ]
  },
  {
   "cell_type": "code",
   "execution_count": null,
   "id": "d5124794-1768-4e87-8d94-674e60e61de6",
   "metadata": {},
   "outputs": [],
   "source": [
    "mesh1=E.Mesh( filename=fscrip1,\n",
    "        filetype=E.FileFormat.SCRIP )\n",
    "mesh2=E.Mesh( filename=fscrip2,\n",
    "        filetype=E.FileFormat.SCRIP )\n",
    "grid2=E.Grid( filename=fscrip2, add_corner_stagger=True,\n",
    "        filetype=E.FileFormat.SCRIP )\n",
    "\n",
    "#grid2.__dict__"
   ]
  },
  {
   "cell_type": "code",
   "execution_count": null,
   "id": "5c32aea5-4c99-40bd-a9fb-963fcf66098c",
   "metadata": {},
   "outputs": [],
   "source": [
    "field1 = E.Field(mesh1, meshloc=E.MeshLoc.ELEMENT )\n",
    "field2 = E.Field(grid2 ) #, staggerloc=E.StaggerLoc.CORNER ) #, meshloc=E.MeshLoc.NODE )\n",
    "\n",
    "\n",
    "field1.data[:]=1e20\n",
    "field2.data[:]=1e20\n",
    "print(np.shape(field1.data))\n",
    "print(np.shape(field2.data))\n"
   ]
  },
  {
   "cell_type": "markdown",
   "id": "77ca4409-c4d3-46f6-bab0-7081b93f6903",
   "metadata": {},
   "source": [
    "```\n",
    "Class Description\n",
    "BILINEAR: Linear regridding in two dimensions\n",
    "PATCH: Higher-order least squares method\n",
    "NEAREST_STOD: Nearest source point used for each destination\n",
    "NEAREST_DTOS: Nearest destination point used for each source\n",
    "CONSERVE: First-order conservative\n",
    "CONSERVE_2ND: Second-order conservative\n",
    "\n",
    "NormType Normalization options for integral conservation\n",
    "LineType Line types for spherical and Cartesian space\n",
    "UnmappedAction Unmapped destination point handling options\n",
    "CoordSysSpherical grids and pole handling\n",
    "```"
   ]
  },
  {
   "cell_type": "code",
   "execution_count": null,
   "id": "0e1ca793-85cc-47a6-bea2-9f2ba65c38a5",
   "metadata": {},
   "outputs": [],
   "source": [
    "#xfield=copy.deepcopy( field2 )\n",
    "plt.contourf(field2.data.transpose())\n"
   ]
  },
  {
   "cell_type": "code",
   "execution_count": null,
   "id": "a0649ec0-78f8-4b09-a9cc-fccb82e4f0b2",
   "metadata": {},
   "outputs": [],
   "source": [
    "#rg1x2=E.Regrid( field1, field2 , regrid_method=E.RegridMethod.BILINEAR,\n",
    "#                     unmapped_action=E.UnmappedAction.IGNORE)\n",
    "#regrid_method=E.RegridMethod.BILINEAR\n",
    "regrid_method=E.RegridMethod.CONSERVE\n",
    "\n",
    "filename=\"ne30pg3_X_fv0.9x1.25_CONSERVE.nc\"\n",
    "filename=\"hoohoopooo.nc\"\n",
    "\n",
    "rg1x2=E.Regrid( field1, field2 , regrid_method=regrid_method,\n",
    "                     unmapped_action=E.UnmappedAction.IGNORE)\n",
    "#rg1x2=E.Regrid( field1, field2, filename=filename , regrid_method=regrid_method,\n",
    "#                     unmapped_action=E.UnmappedAction.IGNORE)"
   ]
  },
  {
   "cell_type": "code",
   "execution_count": null,
   "id": "14c9622a-e7f5-4cac-ab81-a1301161ef2c",
   "metadata": {},
   "outputs": [],
   "source": [
    "#roodoo = E.RegridFromFile( field1, field2, filename=filename )"
   ]
  },
  {
   "cell_type": "code",
   "execution_count": null,
   "id": "9158a97f-3395-4031-b5e2-35fa428f6ce4",
   "metadata": {},
   "outputs": [],
   "source": [
    "foo='/glade/scratch/juliob/archive/c6_3_59.ne30pg3_L32_SAMwrf.ndg07/atm/hist/\\\n",
    "c6_3_59.ne30pg3_L32_SAMwrf.ndg07.cam.h0.2010-07.nc'\n",
    "\n",
    "ds=xr.open_dataset(foo)"
   ]
  },
  {
   "cell_type": "code",
   "execution_count": null,
   "id": "c3cddf0c-c6b7-42a9-9d8d-ee832f24bbe1",
   "metadata": {},
   "outputs": [],
   "source": [
    "ps=ds['PS'][0].values\n",
    "print(np.shape(ps))\n",
    "print(np.shape(field1.data))\n",
    "\n",
    "field1.data[:]=ps"
   ]
  },
  {
   "cell_type": "code",
   "execution_count": null,
   "id": "528ace8d-4565-478a-83fd-3256b36d645c",
   "metadata": {},
   "outputs": [],
   "source": [
    "foob=rg1x2( field1, field2 )\n",
    "#print(np.shape(rg1x2[0]))"
   ]
  },
  {
   "cell_type": "code",
   "execution_count": null,
   "id": "8d3e44a4-086a-4e8c-aadd-ca112f4d4703",
   "metadata": {},
   "outputs": [],
   "source": [
    "\n",
    "print(np.shape(foob.data.transpose()))\n",
    "plt.contourf(field2.data.transpose())"
   ]
  },
  {
   "cell_type": "code",
   "execution_count": null,
   "id": "be4789b2-c607-4093-8c67-ec032c0cf70e",
   "metadata": {},
   "outputs": [],
   "source": [
    "ps2 = field2.data.transpose()"
   ]
  },
  {
   "cell_type": "code",
   "execution_count": null,
   "id": "a69dbe24-4f43-4b90-8075-efc45afaa16d",
   "metadata": {},
   "outputs": [],
   "source": [
    "phis=ds['PHIS'][0].values\n",
    "print(np.shape(phis))\n",
    "field1.data[:]=phis\n",
    "foob=rg1x2( field1, field2 )\n",
    "phis2 = field2.data.transpose()\n",
    "\n"
   ]
  },
  {
   "cell_type": "code",
   "execution_count": null,
   "id": "d2ba6e11-653a-438f-b05e-c3fddd6f648c",
   "metadata": {},
   "outputs": [],
   "source": [
    "plt.contourf(phis2)\n",
    "plt.colorbar()"
   ]
  },
  {
   "cell_type": "code",
   "execution_count": null,
   "id": "c9e8f9e0-a947-49ca-88fb-24d0a174553f",
   "metadata": {},
   "outputs": [],
   "source": [
    "plt.plot(phis2.flatten())"
   ]
  },
  {
   "cell_type": "code",
   "execution_count": null,
   "id": "d6a50c8e-82f4-4ad3-91f8-2b61278f66df",
   "metadata": {},
   "outputs": [],
   "source": []
  }
 ],
 "metadata": {
  "kernelspec": {
   "display_name": "Python [conda env:npl-XTND]",
   "language": "python",
   "name": "conda-env-npl-XTND-py"
  },
  "language_info": {
   "codemirror_mode": {
    "name": "ipython",
    "version": 3
   },
   "file_extension": ".py",
   "mimetype": "text/x-python",
   "name": "python",
   "nbconvert_exporter": "python",
   "pygments_lexer": "ipython3",
   "version": "3.8.13"
  }
 },
 "nbformat": 4,
 "nbformat_minor": 5
}
