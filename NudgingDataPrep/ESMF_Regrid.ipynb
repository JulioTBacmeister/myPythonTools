{
 "cells": [
  {
   "cell_type": "code",
   "execution_count": null,
   "id": "140846a1-86b7-4161-a656-449685234f49",
   "metadata": {},
   "outputs": [],
   "source": [
    "# Import packages \n",
    "import sys\n",
    "sys.path.append('../Plotting/')\n",
    "\"\"\" Now you can imprt modules in ../Plotting\"\"\"\n",
    "\n",
    "\n",
    "\n",
    "import xarray as xr\n",
    "import numpy as np\n",
    "import matplotlib.pyplot as plt\n",
    "import matplotlib as mpl\n",
    "import matplotlib.tri as tri\n",
    "import matplotlib.colors as colors\n",
    "\n",
    "from scipy.io import FortranFile\n",
    "\n",
    "import cartopy\n",
    "import cartopy.crs as ccrs\n",
    "import cartopy.feature as cfeature\n",
    "#import ana as a\n",
    "\n",
    "import ESMF as E\n",
    "\n",
    "import importlib\n",
    "\n",
    "import copy\n",
    "import glob\n",
    "\n",
    "\n",
    "import xyp_plot as xyp\n",
    "import esmfRegrid as erg\n",
    "\n",
    "\n",
    "importlib.reload( erg )"
   ]
  },
  {
   "cell_type": "code",
   "execution_count": null,
   "id": "0c9ebda1-87da-4382-a3b6-82ad72486ade",
   "metadata": {},
   "outputs": [],
   "source": [
    "scripdir='/glade/p/cesmdata/cseg/inputdata/share/scripgrids/'\n",
    "\n",
    "ne30scrip  = scripdir +  \"ne30pg3_scrip_170611.nc\"\n",
    "fv1x1scrip = scripdir +  \"fv0.9x1.25_141008.nc\"\n"
   ]
  },
  {
   "cell_type": "code",
   "execution_count": null,
   "id": "3125ccd2-c0ea-42a6-ae54-ccbb6dc3f373",
   "metadata": {},
   "outputs": [],
   "source": [
    "regrd, srcf, dstf = erg.Regrid( srcScrip=ne30scrip , \n",
    "                                srcType = 'mesh',\n",
    "                                dstScrip=fv1x1scrip ,\n",
    "                                dstType = 'grid' )"
   ]
  },
  {
   "cell_type": "code",
   "execution_count": null,
   "id": "ba2bac6a-a66d-4bdc-97b5-d9383506e7b5",
   "metadata": {},
   "outputs": [],
   "source": [
    "regrd2, srcf2, dstf2 = erg.Regrid( srcScrip=ne30scrip , \n",
    "                                srcType = 'mesh',\n",
    "                                dstScrip=fv1x1scrip ,\n",
    "                                dstType = 'grid', RegridMethod='BILINEAR' )"
   ]
  },
  {
   "cell_type": "code",
   "execution_count": null,
   "id": "9158a97f-3395-4031-b5e2-35fa428f6ce4",
   "metadata": {},
   "outputs": [],
   "source": [
    "foo='/glade/scratch/juliob/archive/c6_3_59.ne30pg3_L32_SAMwrf.ndg07/atm/hist/\\\n",
    "c6_3_59.ne30pg3_L32_SAMwrf.ndg07.cam.h0.2010-07.nc'\n",
    "\n",
    "ds=xr.open_dataset(foo)"
   ]
  },
  {
   "cell_type": "code",
   "execution_count": null,
   "id": "c3cddf0c-c6b7-42a9-9d8d-ee832f24bbe1",
   "metadata": {},
   "outputs": [],
   "source": [
    "ps=ds['PS'][0].values\n",
    "print(np.shape(ps))\n",
    "#print(np.shape(field1.data))\n",
    "\n",
    "srcf.data[:]=ps\n",
    "srcf2.data[:]=ps"
   ]
  },
  {
   "cell_type": "code",
   "execution_count": null,
   "id": "528ace8d-4565-478a-83fd-3256b36d645c",
   "metadata": {},
   "outputs": [],
   "source": [
    "foob=regrd( srcf, dstf )\n",
    "foob2=regrd2( srcf2, dstf2 )\n",
    "#print(np.shape(rg1x2[0]))"
   ]
  },
  {
   "cell_type": "code",
   "execution_count": null,
   "id": "45d0c216-8353-4199-a0f7-3f7ffb3e08df",
   "metadata": {},
   "outputs": [],
   "source": [
    "fig,ax=plt.subplots(3  , figsize=(10,30) )\n",
    "po=ax[0].contourf( dstf.data.transpose() )\n",
    "plt.colorbar( po , ax=ax[0] ) #po,cax=ax)\n",
    "\n",
    "po=ax[1].contourf( dstf2.data.transpose() )\n",
    "plt.colorbar( po , ax=ax[1] ) #po,cax=ax)\n",
    "\n",
    "po=ax[2].contourf( dstf.data.transpose() - dstf2.data.transpose() )\n",
    "plt.colorbar( po , ax=ax[2] ) #po,cax=ax)\n",
    "\n"
   ]
  },
  {
   "cell_type": "code",
   "execution_count": null,
   "id": "14925e1e-b03e-470c-932b-7f30018acdbd",
   "metadata": {},
   "outputs": [],
   "source": [
    "plt.contourf(dstf.data.transpose())"
   ]
  },
  {
   "cell_type": "code",
   "execution_count": null,
   "id": "a69dbe24-4f43-4b90-8075-efc45afaa16d",
   "metadata": {},
   "outputs": [],
   "source": [
    "phis=ds['PHIS'][0].values\n",
    "print(np.shape(phis))\n",
    "field1.data[:]=phis\n",
    "foob=rg1x2( field1, field2 )\n",
    "phis2 = field2.data.transpose()\n",
    "\n"
   ]
  },
  {
   "cell_type": "code",
   "execution_count": null,
   "id": "d2ba6e11-653a-438f-b05e-c3fddd6f648c",
   "metadata": {},
   "outputs": [],
   "source": [
    "plt.contourf(phis2)\n",
    "plt.colorbar()"
   ]
  },
  {
   "cell_type": "code",
   "execution_count": null,
   "id": "c9e8f9e0-a947-49ca-88fb-24d0a174553f",
   "metadata": {},
   "outputs": [],
   "source": [
    "plt.plot(phis2.flatten())"
   ]
  },
  {
   "cell_type": "code",
   "execution_count": null,
   "id": "d6a50c8e-82f4-4ad3-91f8-2b61278f66df",
   "metadata": {},
   "outputs": [],
   "source": []
  }
 ],
 "metadata": {
  "kernelspec": {
   "display_name": "Python [conda env:npl-XTND]",
   "language": "python",
   "name": "conda-env-npl-XTND-py"
  },
  "language_info": {
   "codemirror_mode": {
    "name": "ipython",
    "version": 3
   },
   "file_extension": ".py",
   "mimetype": "text/x-python",
   "name": "python",
   "nbconvert_exporter": "python",
   "pygments_lexer": "ipython3",
   "version": "3.8.13"
  }
 },
 "nbformat": 4,
 "nbformat_minor": 5
}
