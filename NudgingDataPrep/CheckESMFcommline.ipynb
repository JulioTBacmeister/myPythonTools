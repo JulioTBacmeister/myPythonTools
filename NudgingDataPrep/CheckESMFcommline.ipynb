{
 "cells": [
  {
   "cell_type": "code",
   "execution_count": null,
   "id": "1349ea30-25e4-4f01-853a-1f395331a06c",
   "metadata": {},
   "outputs": [],
   "source": [
    "# Import packages \n",
    "import sys\n",
    "sys.path.append('../Plotting/')\n",
    "\"\"\" Now you can imprt modules in ../Plotting\"\"\"\n",
    "\n",
    "import xarray as xr\n",
    "import numpy as np\n",
    "import matplotlib.pyplot as plt\n",
    "import matplotlib as mpl\n",
    "import matplotlib.tri as tri\n",
    "import matplotlib.colors as colors\n",
    "\n",
    "from scipy.io import FortranFile\n",
    "\n",
    "import cartopy\n",
    "import cartopy.crs as ccrs\n",
    "import cartopy.feature as cfeature\n",
    "\n",
    "import ESMF as E\n",
    "\n",
    "import importlib\n",
    "import glob\n",
    "import copy\n",
    "\n",
    "import xyp_plot as xyp\n",
    "import scripGen as SG\n",
    "import esmfRegrid as erg\n",
    "\n",
    "\n",
    "importlib.reload( erg )\n",
    "importlib.reload(SG)"
   ]
  },
  {
   "cell_type": "code",
   "execution_count": null,
   "id": "d63c5f08-6110-4714-a5ea-c9e6ae112a64",
   "metadata": {},
   "outputs": [],
   "source": [
    "f='/glade/p/cesm/amwg_dev/juliob/SAMwrf/ne30x16/i/f.e22r.SAMwrf01.ne30.L32.NODEEP_2010_01.cam.h1.2011-02-27-03600.nc'\n",
    "ds=xr.open_dataset(f)"
   ]
  },
  {
   "cell_type": "code",
   "execution_count": null,
   "id": "3f1dc18b-cd40-470d-85b7-efe6df7db0fa",
   "metadata": {},
   "outputs": [],
   "source": [
    "phis=ds['PHIS'].values\n",
    "area=ds['area'].values\n"
   ]
  },
  {
   "cell_type": "code",
   "execution_count": null,
   "id": "f03dee5c-9f27-4d14-846d-c4dc7ee39920",
   "metadata": {},
   "outputs": [],
   "source": [
    "print(np.shape(area))"
   ]
  },
  {
   "cell_type": "code",
   "execution_count": null,
   "id": "81c89fe6-f617-41cb-bca8-878047c89b9c",
   "metadata": {},
   "outputs": [],
   "source": [
    "print(np.sum(area*phis[0,:]))"
   ]
  },
  {
   "cell_type": "code",
   "execution_count": null,
   "id": "fe2a41e5-9356-4711-b60a-9b6303458092",
   "metadata": {},
   "outputs": [],
   "source": []
  }
 ],
 "metadata": {
  "kernelspec": {
   "display_name": "Python [conda env:npl-XTND]",
   "language": "python",
   "name": "conda-env-npl-XTND-py"
  },
  "language_info": {
   "codemirror_mode": {
    "name": "ipython",
    "version": 3
   },
   "file_extension": ".py",
   "mimetype": "text/x-python",
   "name": "python",
   "nbconvert_exporter": "python",
   "pygments_lexer": "ipython3",
   "version": "3.8.13"
  }
 },
 "nbformat": 4,
 "nbformat_minor": 5
}
