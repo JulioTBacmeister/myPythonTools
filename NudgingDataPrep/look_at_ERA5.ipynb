{
 "cells": [
  {
   "cell_type": "code",
   "execution_count": null,
   "id": "5c86a887-bb47-40d3-9681-8cbcd3edc822",
   "metadata": {},
   "outputs": [],
   "source": [
    "import xarray as xr\n",
    "import numpy as np\n",
    "import matplotlib.pyplot as plt\n",
    "import pandas as pd\n",
    "\n",
    "import importlib\n",
    "from scipy.io import FortranFile\n",
    "\n",
    "import cftime \n",
    "#import ERA5procx as Ex\n",
    "import GenRegrid as GR\n",
    "\n",
    "importlib.reload( GR )"
   ]
  },
  {
   "cell_type": "markdown",
   "id": "1adb3c5d-2094-426b-80ee-ccabbab5ea23",
   "metadata": {},
   "source": [
    "## START HERE FOR \"BATCH\""
   ]
  },
  {
   "cell_type": "code",
   "execution_count": null,
   "id": "401a4924-ac67-4818-a6b7-609142fd26db",
   "metadata": {},
   "outputs": [],
   "source": [
    "RegridMethod=\"CONSERVE\" \n",
    "foo = GR.prep(Dst='fv1x1',DstVgrid='L58',Src='ERA5',WOsrf=True, RegridMethod=RegridMethod )"
   ]
  },
  {
   "cell_type": "code",
   "execution_count": null,
   "id": "08323112-423f-411e-93c9-d4c07fee6b69",
   "metadata": {},
   "outputs": [],
   "source": [
    "#faa=GR.get_ERA5( year=2021,month=6,day=1,hour0=0 )\n",
    "\n",
    "faa=GR.get_ERA5( year=2017,month=1,day=1 , hour0=12)"
   ]
  },
  {
   "cell_type": "code",
   "execution_count": null,
   "id": "9952a723-5746-417a-9bbf-4f51127d15eb",
   "metadata": {},
   "outputs": [],
   "source": [
    "#pmid_ERA, pmid_CAM, pmid_CAM_zERA , te_ERA, te_ERA_xCAM , te_ERA_xzCAM  =GR.xRegrid()\n",
    "\n",
    "pmid_ERA, lat_ERA, lon_ERA, te_ERA, \\\n",
    "pmid_CAM_zERA, lat_CAM, lon_CAM, te_ERA_xCAM, \\\n",
    "pmid_CAM, te_ERA_xzCAM, \\\n",
    "ps_ERA, ps_CAM, ps_ERA_xCAM, \\\n",
    "phis_ERA, phis_CAM, phis_ERA_xCAM = GR.xRegrid( ExitAfterTemperature=True, \n",
    "                                                HorzInterpLnPs=False, \n",
    "                                                Use_ps_ERA_xCAM_in_vert=True )\n",
    "\n",
    "\n",
    "#fii=GR.xRegrid()"
   ]
  },
  {
   "cell_type": "code",
   "execution_count": null,
   "id": "7d980ed5-90c1-493c-b188-b14939024d6f",
   "metadata": {},
   "outputs": [],
   "source": [
    "clev=np.linspace(200,330,num=31)\n",
    "dlev=np.linspace(-10,10,num=21)\n",
    "#clev=np.linspace(277,287,num=31)\n",
    "#ERA - 89 128\n",
    "#CAM -124 72\n",
    "print(lon_ERA[128], lat_ERA[89])\n",
    "\n",
    "# Global\n",
    "elon,wlon=0,360\n",
    "slat,nlat=-90,90\n",
    "\n",
    "# Tibet ...\n",
    "#elon,wlon=70,100\n",
    "#slat,nlat=25,40\n",
    "\n",
    "# Andes ...\n",
    "#elon,wlon=280,300\n",
    "#slat,nlat=-40,-10\n",
    "\n",
    "# Himalayan Front\n",
    "#elon,wlon=85,95\n",
    "#slat,nlat=25,28\n",
    "\n",
    "\n",
    "kCAM=57\n",
    "kERA=136\n",
    "nCAM=5\n",
    "\n",
    "fig,ax = plt.subplots(2,2,figsize=(18,18) ,squeeze=False )\n",
    "\n",
    "i,j=0,0\n",
    "cf = ax[i,j].contourf( lon_CAM, lat_CAM, te_ERA_xzCAM[nCAM,kCAM,:,:],levels=clev )\n",
    "ax[i,j].set_xlim(elon,wlon)\n",
    "ax[i,j].set_ylim(slat,nlat)\n",
    "ax[i,j].set_title(\"ERA Temp on xzCAM grid from Python code\")\n",
    "plt.colorbar(cf,ax=ax[i,j] )\n",
    "\n",
    "i,j=0,1\n",
    "cf = ax[i,j].contourf( lon_CAM, lat_CAM, te_ERA_xCAM[nCAM,kERA,:,:],levels=clev )\n",
    "ax[i,j].set_xlim(elon,wlon)\n",
    "ax[i,j].set_ylim(slat,nlat)\n",
    "ax[i,j].set_title(\"ERA Temp on xCAM/zERA grid\")\n",
    "plt.colorbar(cf,ax=ax[i,j] )\n"
   ]
  },
  {
   "cell_type": "code",
   "execution_count": null,
   "id": "d96f597b-6fb2-43c2-b5aa-893dff76306b",
   "metadata": {},
   "outputs": [],
   "source": [
    "# Let's look at some interensitng points here\n",
    "#\n",
    "location=\"Australia\"\n",
    "nCAM=3\n",
    "if (location==\"Himalayas\"):\n",
    "    #Himalayan peaks\n",
    "    Plat,Plon = 36.,76.\n",
    "    ylim=(60_000.,42_000.)\n",
    "    xlim=(240,270 )\n",
    "\n",
    "\n",
    "if (location==\"Andes\"):\n",
    "    #Andean peaks\n",
    "    Plat,Plon=-30.,290.\n",
    "    ylim=(75_000.,60_000.)\n",
    "    xlim=(280,300 )\n",
    "\n",
    "if (location==\"Australia\"):\n",
    "    #Australia desert (Alice Springs)\n",
    "    Plat,Plon=-23.4,135.\n",
    "    ylim=(96_000.,85_000.)\n",
    "    xlim=(280,320 )\n",
    "\n",
    "iCAM=np.argmin( np.abs( lon_CAM - Plon ))\n",
    "jCAM=np.argmin( np.abs( lat_CAM - Plat ))\n",
    "iERA=np.argmin( np.abs( lon_ERA - Plon ))\n",
    "jERA=np.argmin( np.abs( lat_ERA - Plat ))\n",
    "\n",
    "#print(te_ERA_xzCAM[nCAM,kCAM,ilat,ilon] )\n",
    "\n",
    "plt.plot( te_ERA_xCAM [nCAM,:, jCAM, iCAM] , pmid_CAM_zERA [nCAM,:, jCAM, iCAM], '-x' \n",
    "         , label='ERA Temp from Python code on xCAM and zERA' )\n",
    "\n",
    "\"\"\"\n",
    "plt.plot( te_ERA_xCAM_wo2[:, jCAM, iCAM]-0 , press_ERA[:, jCAM, iCAM], '-o' \n",
    "         , label='ERA Temp on xCAM and zERA from GUTS OF W&O' )\n",
    "\"\"\"\n",
    "\n",
    "plt.plot( te_ERA_xzCAM [nCAM,:, jCAM, iCAM], pmid_CAM [nCAM,:, jCAM, iCAM], '-^' \n",
    "         , label='ERA Temp from Python code on xzCAM' )\n",
    "\n",
    "plt.plot( te_ERA [nCAM,:, jERA, iERA] , pmid_ERA [nCAM,:, jERA, iERA], '-^' \n",
    "         , label='ERA Temp from nearby point ' )\n",
    "\n",
    "\"\"\"\n",
    "plt.plot( te_ERA_xzCAM_wo2[:, jCAM, iCAM]+2 , press_CAM[:, jCAM, iCAM], '-*' \n",
    "         , label='ERA Temp on xzCAM from GUTS OF W&O' )\n",
    "\"\"\"\n",
    "\n",
    "plt.ylim( ylim )\n",
    "plt.xlim( xlim )\n",
    "\n",
    "\n",
    "plt.legend(loc='upper left')\n"
   ]
  },
  {
   "cell_type": "code",
   "execution_count": null,
   "id": "0ec602e2-9654-42ae-a68f-d804de03868a",
   "metadata": {},
   "outputs": [],
   "source": [
    "print( np.minimum( [0.],[200])[0] )"
   ]
  },
  {
   "cell_type": "code",
   "execution_count": null,
   "id": "4bd620f9-c67d-4ea9-a5f7-2599a5bd4205",
   "metadata": {},
   "outputs": [],
   "source": [
    "Dphis = phis_ERA_xCAM - phis_CAM\n",
    "plt.plot(Dphis.flatten()-dphis_WO.flatten() )"
   ]
  },
  {
   "cell_type": "code",
   "execution_count": null,
   "id": "e42e352e-470c-424b-a617-d761277e49ac",
   "metadata": {},
   "outputs": [],
   "source": [
    "#fuu=GR.write_netcdf(version='test02-oldtopo')"
   ]
  },
  {
   "cell_type": "markdown",
   "id": "cee4acae-92aa-4208-991c-4552622366c0",
   "metadata": {},
   "source": [
    "## Check Mapping files"
   ]
  },
  {
   "cell_type": "code",
   "execution_count": null,
   "id": "4885882d-d235-48eb-8830-812d0104ae3f",
   "metadata": {},
   "outputs": [],
   "source": [
    "\n",
    "\n",
    "#ERA - 89 128\n",
    "#CAM -124 72\n",
    "jCAM,iCAM = 124,72\n",
    "jERA,iERA = 89,128\n",
    "nCAM = 3\n",
    "\n",
    "plt.plot( te_ERA_xCAM [nCAM,:, jCAM, iCAM] , pmid_CAM_zERA [nCAM,:, jCAM, iCAM], '-x' \n",
    "         , label='ERA Temp from Python code on xCAM and zERA' )\n",
    "\n",
    "plt.plot( te_ERA_xCAM_wo2[:, jCAM, iCAM] , press_ERA[:, jCAM, iCAM], '-o' \n",
    "         , label='ERA Temp on xCAM and zERA from GUTS OF W&O' )\n",
    "\n",
    "\n",
    "\n",
    "#plt.plot( te_ERA_xzCAM [0,:,124, 72] , pmid_CAM [0,:,124, 72], '-o' , label='ERA Temp from Python code on xzCAM' )\n",
    "#plt.plot( te_ERA[0,:,89, 128] ,pmid_ERA [0,:,89, 128] ,'-+', label='ERA Temp at closest xERA point' )\n",
    "\n",
    "\n",
    "plt.ylim(88_000.,70_000.)\n",
    "plt.xlim(270,290)\n",
    "plt.legend()\n",
    "\n",
    "print(ps_new[jCAM,iCAM])\n",
    "print(ps_CAM[nCAM,jCAM,iCAM])\n",
    "\n",
    "print(ps_old[jCAM,iCAM])\n",
    "print(ps_ERA_xCAM[nCAM,jCAM,iCAM])\n",
    "\n"
   ]
  }
 ],
 "metadata": {
  "kernelspec": {
   "display_name": "NPL 2022b",
   "language": "python",
   "name": "npl-2022b"
  },
  "language_info": {
   "codemirror_mode": {
    "name": "ipython",
    "version": 3
   },
   "file_extension": ".py",
   "mimetype": "text/x-python",
   "name": "python",
   "nbconvert_exporter": "python",
   "pygments_lexer": "ipython3",
   "version": "3.8.13"
  }
 },
 "nbformat": 4,
 "nbformat_minor": 5
}
