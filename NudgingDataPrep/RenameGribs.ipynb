{
 "cells": [
  {
   "cell_type": "code",
   "execution_count": null,
   "id": "2e7730ed-1395-4646-b8da-6e1747b897a6",
   "metadata": {},
   "outputs": [],
   "source": [
    "import sys\n",
    "\n",
    "import xarray as xr\n",
    "import numpy as np\n",
    "import matplotlib.pyplot as plt\n",
    "import matplotlib as mpl\n",
    "import matplotlib.tri as tri\n",
    "import matplotlib.colors as colors\n",
    "\n",
    "import cfgrib\n",
    "import xesmf\n",
    "\n",
    "import glob\n",
    "import os\n",
    "import subprocess as sp\n"
   ]
  },
  {
   "cell_type": "code",
   "execution_count": null,
   "id": "724a3d05-ef07-418c-aab4-a8eb478d2e21",
   "metadata": {},
   "outputs": [],
   "source": [
    "erai_dir = '/glade/collections/rda/data/ds627.0/ei.oper.an.ml/201001/'\n",
    "scrt_dir = '/glade/scratch/juliob/erai_2010/'\n",
    "comm1 = 'cp '+erai_dir+'* '+scrt_dir\n",
    "print(comm1)\n",
    "sp.run( comm1 , shell=True )\n",
    "print(\"Did \"+comm1)\n"
   ]
  },
  {
   "cell_type": "code",
   "execution_count": null,
   "id": "688bde34-2222-4fa2-8808-c939ec29f531",
   "metadata": {},
   "outputs": [],
   "source": [
    "lis=glob.glob(scrt_dir+'ei.*.*[00,06,12,18]')\n",
    "lis=sorted(lis)\n",
    "print(len(lis))"
   ]
  },
  {
   "cell_type": "code",
   "execution_count": null,
   "id": "38247892-b3f7-49ba-a50b-febe37603b80",
   "metadata": {},
   "outputs": [],
   "source": [
    "for file in lis:\n",
    "    comm1 = 'cp '+file +' '+file+'.grb'\n",
    "    comm2 = 'ncl_convert2nc '+file+'.grb -o '+scrt_dir\n",
    "    sp.run( comm1+';'+comm2 , shell=True )\n",
    "    print(comm1)\n",
    "    "
   ]
  },
  {
   "cell_type": "code",
   "execution_count": null,
   "id": "702175cf-1ee7-4ed9-ad1e-f8257069e1aa",
   "metadata": {},
   "outputs": [],
   "source": [
    "print( list(ds.variables))"
   ]
  },
  {
   "cell_type": "code",
   "execution_count": null,
   "id": "5b341b84-eee5-40fc-b44d-10031b93c6b5",
   "metadata": {},
   "outputs": [],
   "source": [
    "erai_dir = '/glade/collections/rda/data/ds627.0/ei.oper.an.ml/201701/'\n",
    "scrt_dir = '/glade/scratch/juliob/erai_2017/'\n",
    "\n",
    "foo='ei.oper.an.ml.regn128uv.2017010100'\n",
    "\n",
    "\n",
    "ds=xr.open_mfdataset(erai_dir+foo, engine='cfgrib',indexpath=scrt_dir+foo+'.idx' ) \n",
    "\"\"\"\n",
    ", \n",
    "                   indexpath=scrt_dir+foo+'.idx' , # filter_by_keys={'name': 'not hybrid'} ,\n",
    "                   backend_kwargs={'errors':'ignore' }) #,backend_kwargs={'indexpath': ''})\n",
    "\"\"\"\n"
   ]
  },
  {
   "cell_type": "code",
   "execution_count": null,
   "id": "28b3b497-1ac2-4764-a2cd-458b432c533f",
   "metadata": {},
   "outputs": [],
   "source": []
  }
 ],
 "metadata": {
  "kernelspec": {
   "display_name": "Python [conda env:npl-XTND]",
   "language": "python",
   "name": "conda-env-npl-XTND-py"
  },
  "language_info": {
   "codemirror_mode": {
    "name": "ipython",
    "version": 3
   },
   "file_extension": ".py",
   "mimetype": "text/x-python",
   "name": "python",
   "nbconvert_exporter": "python",
   "pygments_lexer": "ipython3",
   "version": "3.8.13"
  }
 },
 "nbformat": 4,
 "nbformat_minor": 5
}
