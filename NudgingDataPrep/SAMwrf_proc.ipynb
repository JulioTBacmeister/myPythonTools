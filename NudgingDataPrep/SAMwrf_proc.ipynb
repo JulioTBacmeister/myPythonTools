{
 "cells": [
  {
   "cell_type": "code",
   "execution_count": null,
   "id": "67e22ab1-7c2d-4a6a-80c0-a1ea904a1e77",
   "metadata": {},
   "outputs": [],
   "source": [
    "# Import packages \n",
    "import sys\n",
    "sys.path.append('../Plotting/')\n",
    "\"\"\" Now you can imprt modules in ../Plotting\"\"\"\n",
    "\n",
    "import xarray as xr\n",
    "import numpy as np\n",
    "import matplotlib.pyplot as plt\n",
    "import matplotlib as mpl\n",
    "import matplotlib.tri as tri\n",
    "import matplotlib.colors as colors\n",
    "\n",
    "from scipy.io import FortranFile\n",
    "\n",
    "import cartopy\n",
    "import cartopy.crs as ccrs\n",
    "import cartopy.feature as cfeature\n",
    "\n",
    "import ESMF as E\n",
    "\n",
    "import importlib\n",
    "import glob\n",
    "import copy\n",
    "\n",
    "import xyp_plot as xyp\n",
    "import scripGen as SG\n",
    "import esmfRegrid as erg\n",
    "\n",
    "\n",
    "importlib.reload( erg )\n",
    "importlib.reload(SG)"
   ]
  },
  {
   "cell_type": "code",
   "execution_count": null,
   "id": "46d87a45-ec85-4190-b797-ad208d4afe9f",
   "metadata": {},
   "outputs": [],
   "source": [
    "srcScrip = '/glade/work/juliob/SAMwrf_grids/SAMwrf01_ne30x16_np4_SCRIP.nc'\n",
    "srcType = 'mesh'"
   ]
  },
  {
   "cell_type": "code",
   "execution_count": null,
   "id": "9c405582-ec5f-4bfe-814a-f7e6bd62ed31",
   "metadata": {},
   "outputs": [],
   "source": [
    "# ------- CAM SE ne30pg3 Scrip file\n",
    "scripdir='/glade/p/cesmdata/cseg/inputdata/share/scripgrids/'\n",
    "ne30scrip  = scripdir +  \"ne30pg3_scrip_170611.nc\"\n",
    "\n",
    "dstScrip=ne30scrip\n",
    "dstType='mesh'\n",
    "ds_dstScrip = xr.open_dataset( ne30scrip )\n",
    "area_dst = ds_dstScrip['grid_area'].values\n"
   ]
  },
  {
   "cell_type": "code",
   "execution_count": null,
   "id": "e282cbf4-a69f-44b0-9c99-0221f2943fda",
   "metadata": {},
   "outputs": [],
   "source": [
    "# Get default CAM Topo bottom BCs for this grid\n",
    "bnd_topo = \\\n",
    "'/glade/p/cgd/amp/juliob/bndtopo/latest/ne30pg3_gmted2010_modis_bedmachine_nc3000_Laplace0100_20230105.nc'\n",
    "dsTopo_CAM=xr.open_dataset( bnd_topo )\n",
    "phis_CAM = dsTopo_CAM['PHIS'].values\n",
    "lon_CAM = dsTopo_CAM['lon'].values\n",
    "lat_CAM = dsTopo_CAM['lat'].values\n",
    "area_CAM = dsTopo_CAM['area'].values\n"
   ]
  },
  {
   "cell_type": "code",
   "execution_count": null,
   "id": "f694dcaf-f3da-4be5-9e02-c8221bc80d4b",
   "metadata": {},
   "outputs": [],
   "source": [
    "wgts_file_BiL = '/glade/work/juliob/SAMwrf_grids/SAMwrf_ne30x16_X_ne30pg3-BiLinear_wgts.nc'\n",
    "wgts_file_Con = '/glade/work/juliob/SAMwrf_grids/SAMwrf_ne30x16_X_ne30pg3-Conserve_wgts.nc'"
   ]
  },
  {
   "cell_type": "code",
   "execution_count": null,
   "id": "3125fa32-6afd-40fa-b14a-31b97916a134",
   "metadata": {},
   "outputs": [],
   "source": [
    "# Conservative regridding\n",
    "regrd, srcf, dstf = erg.Regrid( srcScrip = srcScrip , \n",
    "                                srcType  = srcType  ,\n",
    "                                dstScrip = dstScrip ,\n",
    "                                dstType  = dstType  ,\n",
    "                                RegridMethod='CONSERVE',\n",
    "                                write_weights = False ,\n",
    "                                read_weights = True ,\n",
    "                                weights_file = wgts_file_Con )\n"
   ]
  },
  {
   "cell_type": "code",
   "execution_count": null,
   "id": "e611a011-6138-4ed2-858e-91e6cb2d8a34",
   "metadata": {},
   "outputs": [],
   "source": [
    "input_dir = \\\n",
    "    \"/glade/campaign/cgd/projects/NCGD0051/ENSO_2010/L32/f.e22r.SAMwrf01.ne30x16.L32.NODEEP_2010_01/atm/hist/\"\n",
    "srcFile = input_dir+'f.e22r.SAMwrf01.ne30x16.L32.NODEEP_2010_01.cam.h0.2010-06.nc'"
   ]
  },
  {
   "cell_type": "code",
   "execution_count": null,
   "id": "936cd0ac-1c01-4bf1-99e2-5f341c4131d5",
   "metadata": {},
   "outputs": [],
   "source": [
    "ds_src   = xr.open_dataset(srcFile)\n",
    "phis_src = ds_src['PHIS'].values\n",
    "area_src = ds_src['area'].values"
   ]
  },
  {
   "cell_type": "code",
   "execution_count": null,
   "id": "ec9bf2c2-dc52-496f-907e-c267fe4e527d",
   "metadata": {},
   "outputs": [],
   "source": [
    "np.shape(dstf.data)"
   ]
  },
  {
   "cell_type": "code",
   "execution_count": null,
   "id": "869f5c24-a3f8-4f8c-ba78-ebbaad8b55eb",
   "metadata": {},
   "outputs": [],
   "source": [
    "ncol_dst = np.shape(dstf.data)\n",
    "ncol_src = np.shape(phis_src)\n",
    "#try function\n",
    "#########################\n",
    "phis_src_x_dst = erg.HorzRG( aSrc = phis_src , \n",
    "                              regrd = regrd , \n",
    "                              srcField=srcf , \n",
    "                              dstField=dstf , \n",
    "                              srcShape=[ncol_src], \n",
    "                              dstShape=[ncol_dst] , \n",
    "                              srcGridkey='c', \n",
    "                              dstGridkey='c' )\n"
   ]
  },
  {
   "cell_type": "code",
   "execution_count": null,
   "id": "0b8a2791-3a59-45e0-98e8-f01e617b131c",
   "metadata": {},
   "outputs": [],
   "source": [
    "#plt.plot( phis_src_x_dst )"
   ]
  },
  {
   "cell_type": "code",
   "execution_count": null,
   "id": "48446f16-d1de-47fc-8073-a25eecf8f3b5",
   "metadata": {},
   "outputs": [],
   "source": [
    "plt.tricontourf(lon_CAM,lat_CAM,phis_src_x_dst)"
   ]
  },
  {
   "cell_type": "code",
   "execution_count": null,
   "id": "ab22821f-afdb-4fca-8a2a-84a28ee07834",
   "metadata": {},
   "outputs": [],
   "source": [
    "#"
   ]
  },
  {
   "cell_type": "code",
   "execution_count": null,
   "id": "93a3ebe8-b21b-4705-8306-65c4bbe312b8",
   "metadata": {},
   "outputs": [],
   "source": [
    "print( np.sum( area_src * phis_src) )"
   ]
  },
  {
   "cell_type": "code",
   "execution_count": null,
   "id": "b898573d-9333-4f68-b450-604b0eba2049",
   "metadata": {},
   "outputs": [],
   "source": [
    "print( np.sum( area_CAM * phis_src_x_dst) )"
   ]
  },
  {
   "cell_type": "code",
   "execution_count": null,
   "id": "2fcd65b1-9d39-4aa3-b9c4-37372cec798f",
   "metadata": {},
   "outputs": [],
   "source": [
    "print( (np.sum( area_CAM * phis_src_x_dst) - np.sum( area_src * phis_src) ) /\n",
    "     np.sum( area_CAM * phis_src_x_dst) )"
   ]
  },
  {
   "cell_type": "markdown",
   "id": "9807c41b-78f3-4a9e-9cf1-29bc46422b11",
   "metadata": {},
   "source": [
    "\"mass\" error in Bi-Linear    = -0.0014088418151839306\n",
    "\n",
    "\"mass\" error in Conservative = -6.589829802744967e-06\n"
   ]
  },
  {
   "cell_type": "code",
   "execution_count": null,
   "id": "a9324eb6-246c-4f5b-ae25-7f7806cf9dcd",
   "metadata": {},
   "outputs": [],
   "source": []
  }
 ],
 "metadata": {
  "kernelspec": {
   "display_name": "Python [conda env:npl-XTND]",
   "language": "python",
   "name": "conda-env-npl-XTND-py"
  },
  "language_info": {
   "codemirror_mode": {
    "name": "ipython",
    "version": 3
   },
   "file_extension": ".py",
   "mimetype": "text/x-python",
   "name": "python",
   "nbconvert_exporter": "python",
   "pygments_lexer": "ipython3",
   "version": "3.8.13"
  }
 },
 "nbformat": 4,
 "nbformat_minor": 5
}
