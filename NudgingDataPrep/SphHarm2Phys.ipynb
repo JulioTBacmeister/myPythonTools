{
 "cells": [
  {
   "cell_type": "code",
   "execution_count": null,
   "id": "53cf468a-e68c-4ae4-ac18-7246ce3f3e9f",
   "metadata": {},
   "outputs": [],
   "source": [
    "import sys\n",
    "\n",
    "import xarray as xr\n",
    "import numpy as np\n",
    "import matplotlib.pyplot as plt\n",
    "import matplotlib as mpl\n",
    "import matplotlib.tri as tri\n",
    "import matplotlib.colors as colors\n",
    "\n",
    "import cfgrib\n",
    "import xesmf\n",
    "\n",
    "from scipy.io import FortranFile\n",
    "from scipy import interpolate as intr\n",
    "from scipy import special as sps\n",
    "\n",
    "import cartopy\n",
    "import cartopy.crs as ccrs\n",
    "import cartopy.feature as cfeature\n",
    "import pyproj\n",
    "\n",
    "import importlib\n",
    "import glob\n",
    "import copy\n",
    "import time\n",
    "#from cfgrib.xarray_store import open_dataset\n",
    "\n",
    "\n",
    "# import modules in other directories\n",
    "sys.path.append('../Utils/')\n",
    "import MyConstants as Con\n",
    "\n",
    "pi=Con.pi()\n"
   ]
  },
  {
   "cell_type": "code",
   "execution_count": null,
   "id": "9fa2ba36-37a0-4ea7-b777-c9b11ddf61eb",
   "metadata": {},
   "outputs": [],
   "source": [
    "#ChatGPT says you can calculate spherical harmonics 'm' and 'n' using nsp and nc2 \n",
    "# according to:\n",
    "#nsp, nc2 = arr.shape\n",
    "#n = np.arange(nsp)[:, np.newaxis]\n",
    "#m = np.arange(nc2)\n",
    "#m = np.tile(m, (nsp, 1)) - n\n",
    "\n",
    "#Well the above doesn't seem to work so well after more prodding ChatGPT says:\n",
    "\n",
    "#ChatGPT couldn't seem to understand what nc2 is.\n",
    "\n",
    "#nsp, nc2 = arr.shape\n",
    "#m = np.zeros( (nsp,nc2) )\n",
    "#n = np.zeros( (nsp,nc2) )\n",
    "\n",
    "#for i in range(nsp):\n",
    "#    for j in range(-i, i+1):\n",
    "#        k = i*(i+1)//2 + j\n",
    "#        m[i, k] = j\n",
    "#        n[i, k] = i"
   ]
  },
  {
   "cell_type": "code",
   "execution_count": null,
   "id": "d57c6bce-0371-41c4-8c9b-e328751a06e4",
   "metadata": {},
   "outputs": [],
   "source": [
    "#foo='/glade/work/juliob/ERA5-proc/Data/initdata_01.grib'\n",
    "foo='/glade/work/juliob/ERA5-proc/Data/initdata_01.nc'\n",
    "#doo=xr.open_dataset(foo , engine='cfgrib' , backend_kwargs={'filter_by_keys': {'typeOfLevel': 'model'}})\n",
    "#doo=xr.open_dataset(foo , engine='cfgrib' )# , backend_kwargs={'errors': 'ignore'})\n",
    "ds=xr.open_dataset(foo) #,engine='cfgrib',backend_kwargs={'indexpath': ''})\n"
   ]
  },
  {
   "cell_type": "code",
   "execution_count": null,
   "id": "df5ab616-05d9-4669-a537-5c175193d2c1",
   "metadata": {},
   "outputs": [],
   "source": [
    "#print(len(doo['time']))\n",
    "print(list(ds.variables))\n",
    "print(list(ds.attrs))\n",
    "print(list(ds.dims))\n",
    "ds.dims['nsp']\n",
    "print(np.shape(ds['u']))\n",
    "print(ds['u'].dims)\n",
    "nt,nz,nsp,nc2 = np.shape(ds['u'] )\n",
    "print( 640*640/2)\n",
    "print( nsp - 640*640/2 )\n",
    "MM=639\n",
    "nnn=MM**2 + 2*MM + 1\n",
    "print(nnn,nsp*2,nsp*2-nnn)"
   ]
  },
  {
   "cell_type": "code",
   "execution_count": null,
   "id": "6b95e027-7683-45bc-a1bb-3a2054f82d9b",
   "metadata": {},
   "outputs": [],
   "source": [
    "c=0\n",
    "mm=np.zeros( nsp )\n",
    "nn=np.zeros( nsp )\n",
    "ics = np.zeros( nsp , dtype=int )\n",
    "for q in np.arange(0,640):\n",
    "    for p in np.arange(q,640):\n",
    "        nn[c]=p\n",
    "        mm[c]=q\n",
    "        ics[c] = c\n",
    "        c=c+1\n",
    "print(c)\n",
    "\n",
    "nmax = 90\n",
    "oo=np.where( nn <= nmax)\n",
    "nnT=nn[oo[0]]\n",
    "mmT=mm[oo[0]]\n",
    "icsT=ics[oo[0]]"
   ]
  },
  {
   "cell_type": "code",
   "execution_count": null,
   "id": "bec4eb7d-0507-40c3-bd32-3cac15e45741",
   "metadata": {},
   "outputs": [],
   "source": [
    "nspT=len(nnT)\n",
    "print(nspT)"
   ]
  },
  {
   "cell_type": "code",
   "execution_count": null,
   "id": "9681bdb3-8f1e-4d17-a7d8-cd04027c73e6",
   "metadata": {},
   "outputs": [],
   "source": [
    "plt.scatter(mm,nn)\n",
    "plt.scatter(mmT,nnT)\n",
    "plt.xlim(0,150)\n",
    "plt.ylim(0,150)"
   ]
  },
  {
   "cell_type": "code",
   "execution_count": null,
   "id": "e2bb80e8-7ca7-40ab-ae6b-73fb0bd10733",
   "metadata": {},
   "outputs": [],
   "source": [
    "u=ds['u'].values\n",
    "yurg=np.zeros( (ny,nx) )\n",
    "Fc=u[0,100,:,:]\n",
    "for i in np.arange( nspT ):\n",
    "    ii=icsT[i]\n",
    "    ymn = sps.sph_harm( mmT[i],nnT[i], Az, Po)\n",
    "    yurg = yurg + (Fc[ii,0]+Fc[ii,1]*1.j)*ymn"
   ]
  },
  {
   "cell_type": "code",
   "execution_count": null,
   "id": "90b64045-c682-42d7-894f-78e79d04d7f5",
   "metadata": {},
   "outputs": [],
   "source": [
    "#plt.contour( az, po,  yurg  )\n",
    "print(np.max(yurg))\n",
    "#plt.title( \"Nmax=\"+str(nmax)+\" modes =\"+str(nspT) )\n"
   ]
  },
  {
   "cell_type": "code",
   "execution_count": null,
   "id": "8fa86a6c-58f5-4c43-b9b5-36b095d5253a",
   "metadata": {},
   "outputs": [],
   "source": [
    "plt.contour( az, po,  yurg  )\n",
    "plt.title( \"Nmax=\"+str(nmax)+\" modes =\"+str(nspT) )"
   ]
  },
  {
   "cell_type": "code",
   "execution_count": null,
   "id": "53a89a5c-72e8-482d-8206-9f1b1abf994b",
   "metadata": {},
   "outputs": [],
   "source": [
    "plt.plot( ds['u'].values[0,100,:,0])"
   ]
  },
  {
   "cell_type": "code",
   "execution_count": null,
   "id": "3b681197-6d90-4b93-8ac2-afaab72fe880",
   "metadata": {},
   "outputs": [],
   "source": [
    "data_arr = xr.DataArray(ds['u'], coords=[ds['time'], \n",
    "                        ds['lev'], ds['nsp'], ds['nc2']], attrs=ds.attrs)"
   ]
  },
  {
   "cell_type": "code",
   "execution_count": null,
   "id": "5d8595b2-ed8d-445f-9f49-06eff456fc18",
   "metadata": {},
   "outputs": [],
   "source": [
    "# Define the projection for the spectral grid\n",
    "input_grid = \\\n",
    "xesmf.backend.Spectral(data=data_arr, dims=['lat', 'lev'], nsp=ds.attrs['nsp'], ltrip=0 ) #era5_data.attrs['ltrip'])"
   ]
  },
  {
   "cell_type": "code",
   "execution_count": null,
   "id": "d6b5d29e-070b-45af-93b8-decc9cee1b3f",
   "metadata": {},
   "outputs": [],
   "source": [
    "# Convert the spectral data to grid point data\n",
    "grid_data = pyproj.spectral_to_gridpoint(ds['u'], spectral_proj)"
   ]
  },
  {
   "cell_type": "code",
   "execution_count": null,
   "id": "8f3d3b6e-29d4-4f7a-a2be-e080db43fc9c",
   "metadata": {},
   "outputs": [],
   "source": [
    "era5_data = xr.open_dataset(foo)\n",
    "\n",
    "era5_wcs = era5_data['u'].attrs['wcs']"
   ]
  },
  {
   "cell_type": "code",
   "execution_count": null,
   "id": "90a46921-fb68-4820-9f23-8499715f828f",
   "metadata": {},
   "outputs": [],
   "source": [
    "ds"
   ]
  },
  {
   "cell_type": "code",
   "execution_count": null,
   "id": "5c8905d2-8ee6-40b5-ac75-72d21dda5c4c",
   "metadata": {},
   "outputs": [],
   "source": []
  }
 ],
 "metadata": {
  "kernelspec": {
   "display_name": "Python [conda env:npl-XTND]",
   "language": "python",
   "name": "conda-env-npl-XTND-py"
  },
  "language_info": {
   "codemirror_mode": {
    "name": "ipython",
    "version": 3
   },
   "file_extension": ".py",
   "mimetype": "text/x-python",
   "name": "python",
   "nbconvert_exporter": "python",
   "pygments_lexer": "ipython3",
   "version": "3.8.13"
  }
 },
 "nbformat": 4,
 "nbformat_minor": 5
}
