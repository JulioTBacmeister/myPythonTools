{
 "cells": [
  {
   "cell_type": "markdown",
   "id": "81af4e65-f310-498a-bc5f-f3e6da8ab42c",
   "metadata": {},
   "source": [
    "# This notebook examines horizontal regridding of ERA5 topography onto CAM grids"
   ]
  },
  {
   "cell_type": "code",
   "execution_count": null,
   "id": "3b2f1515-267c-477a-a2c3-d2ef084d4e50",
   "metadata": {},
   "outputs": [],
   "source": [
    "# Import packages \n",
    "import sys\n",
    "sys.path.append('../Plotting/')\n",
    "\"\"\" Now you can imprt modules in ../Plotting\"\"\"\n",
    "\n",
    "\n",
    "\n",
    "import xarray as xr\n",
    "import numpy as np\n",
    "import matplotlib.pyplot as plt\n",
    "import matplotlib as mpl\n",
    "import matplotlib.tri as tri\n",
    "import matplotlib.colors as colors\n",
    "\n",
    "from scipy.io import FortranFile\n",
    "\n",
    "import cartopy\n",
    "import cartopy.crs as ccrs\n",
    "import cartopy.feature as cfeature\n",
    "#import ana as a\n",
    "\n",
    "import ESMF as E\n",
    "\n",
    "import importlib\n",
    "\n",
    "import copy\n",
    "import glob\n",
    "\n",
    "\n",
    "import xyp_plot as xyp\n",
    "import esmfRegrid as erg\n",
    "\n",
    "\n",
    "importlib.reload( erg )"
   ]
  },
  {
   "cell_type": "markdown",
   "id": "68877d01-9fc3-4943-9a83-9b93235b1f53",
   "metadata": {},
   "source": [
    "## Read in scrip files"
   ]
  },
  {
   "cell_type": "code",
   "execution_count": null,
   "id": "386439e6-7c34-43cc-8007-3f1eaa2c15e1",
   "metadata": {},
   "outputs": [],
   "source": [
    "scripdir='/glade/p/cesmdata/cseg/inputdata/share/scripgrids/'\n",
    "\n",
    "ne30scrip  = scripdir +  \"ne30pg3_scrip_170611.nc\"\n",
    "fv1x1scrip = scripdir +  \"fv0.9x1.25_141008.nc\"\n",
    "\n",
    "# Scrip file for ERA5 created by ERA5scrip.ipynb\n",
    "ERA5scrip = '/glade/work/juliob/ERA5-proc/ERA5interp/grids/ERA5_640x1280_scrip.nc'"
   ]
  },
  {
   "cell_type": "markdown",
   "id": "83c62d29-8080-4cc7-ae58-0e544d5870ee",
   "metadata": {},
   "source": [
    "## Next few cells look at some content of scrip files, topo data etc."
   ]
  },
  {
   "cell_type": "code",
   "execution_count": null,
   "id": "360327e5-f8ba-4d55-8c7f-d40fd1a9aff0",
   "metadata": {},
   "outputs": [],
   "source": [
    "ne30x = xr.open_dataset( ne30scrip )\n",
    "print( list( ne30x.variables ) )\n",
    "\n",
    "eratopof='/glade/work/juliob/ERA5-proc/ERA5interp/phis/ERA5_phis.nc'\n",
    "eratopo=xr.open_dataset( eratopof )\n",
    "Hera=eratopo['Z_GDS4_SFC'].values\n",
    "camtopof='/glade/work/juliob/ERA5-proc/ERA5interp/phis/CAM6_phis.nc'\n",
    "camtopo=xr.open_dataset( camtopof )\n",
    "Hcam=camtopo['PHIS'].values"
   ]
  },
  {
   "cell_type": "code",
   "execution_count": null,
   "id": "c1fa1851-5a5c-40fd-8e69-7c706952afcc",
   "metadata": {},
   "outputs": [],
   "source": [
    "print( list( camtopo.variables ) )"
   ]
  },
  {
   "cell_type": "code",
   "execution_count": null,
   "id": "37d63015-2661-41f4-b796-7ce534d99dfc",
   "metadata": {},
   "outputs": [],
   "source": [
    "plt.contourf( Hera)"
   ]
  },
  {
   "cell_type": "markdown",
   "id": "faafad0c-6228-46bb-a13e-785323f680f2",
   "metadata": {},
   "source": [
    "## Set up inputs for call to erg.Regrid (in esmfRegrid.py)"
   ]
  },
  {
   "cell_type": "code",
   "execution_count": null,
   "id": "4a380d67-d688-44ef-baee-62a6aaf33808",
   "metadata": {},
   "outputs": [],
   "source": [
    "src_scrip=ERA5scrip\n",
    "src_type='grid'\n",
    "# ------- CAM SE ne30\n",
    "dst_scrip=ne30scrip\n",
    "dst_type='mesh'\n",
    "# ------- CAM FV 1 degree\n",
    "#dst_scrip=fv1x1scrip\n",
    "#dst_type='grid'"
   ]
  },
  {
   "cell_type": "markdown",
   "id": "6f5bf03d-5bb0-40a1-99b4-d0d749ab2b33",
   "metadata": {},
   "source": [
    "## Call regridding: 1st conservative (default), then bi-linear"
   ]
  },
  {
   "cell_type": "code",
   "execution_count": null,
   "id": "829f06cd-d2ad-4103-a538-dd7e5c6c42ac",
   "metadata": {},
   "outputs": [],
   "source": [
    "griddir = \"/glade/work/juliob/ERA5-proc/ERA5interp/grids/\"\n",
    "\n",
    "wgts_file_Con = griddir + \"ERA5_ne30pg3_Conserv_wgts.nc\"\n",
    "wgts_file_BiL = griddir + \"ERA5_ne30pg3_BiLinear_wgts.nc\""
   ]
  },
  {
   "cell_type": "code",
   "execution_count": null,
   "id": "de7d06af-8a63-4761-b698-3edd3ddb28ab",
   "metadata": {},
   "outputs": [],
   "source": [
    "# Conservative regridding\n",
    "regrd, srcf, dstf = erg.Regrid( srcScrip = src_scrip , \n",
    "                                srcType  = src_type  ,\n",
    "                                dstScrip = dst_scrip ,\n",
    "                                dstType  = dst_type  ,\n",
    "                                write_weights = False ,\n",
    "                                read_weights = True ,\n",
    "                                weights_file = wgts_file_Con )\n",
    "\n",
    "# Bi-linear regridding\n",
    "regrdL, srcfL, dstfL = erg.Regrid( srcScrip = src_scrip , \n",
    "                                srcType  = src_type  ,\n",
    "                                dstScrip = dst_scrip ,\n",
    "                                dstType  = dst_type  ,\n",
    "                                RegridMethod='BILINEAR',\n",
    "                                write_weights = False ,\n",
    "                                read_weights = True ,\n",
    "                                weights_file = wgts_file_BiL )"
   ]
  },
  {
   "cell_type": "code",
   "execution_count": null,
   "id": "9766fd0d-3120-4007-af72-6cbc82560249",
   "metadata": {},
   "outputs": [],
   "source": [
    "print(np.shape(srcf.data))\n",
    "print(np.shape(Hera.transpose()))\n"
   ]
  },
  {
   "cell_type": "code",
   "execution_count": null,
   "id": "9f43b844-e6f6-453d-9b11-4429c31002d7",
   "metadata": {},
   "outputs": [],
   "source": [
    "srcf.data[:,:]  = Hera.transpose()\n",
    "srcfL.data[:,:] = Hera.transpose()\n",
    "\n"
   ]
  },
  {
   "cell_type": "code",
   "execution_count": null,
   "id": "7afae0dd-14b9-4e47-9da7-a1ee9f82cbb4",
   "metadata": {},
   "outputs": [],
   "source": [
    "r  = regrd(  srcf,  dstf )\n",
    "rL = regrdL( srcfL, dstfL )"
   ]
  },
  {
   "cell_type": "code",
   "execution_count": null,
   "id": "45dd6b87-7355-4e81-9473-9b93966cd958",
   "metadata": {},
   "outputs": [],
   "source": [
    "ne30 = xr.open_dataset( ne30scrip )\n",
    "fv1  = xr.open_dataset( fv1x1scrip )\n",
    "era  = xr.open_dataset( ERA5scrip )"
   ]
  },
  {
   "cell_type": "markdown",
   "id": "70f44066-1107-4daf-b76f-df1474670155",
   "metadata": {},
   "source": [
    "### Get lat lons for model and ERA5. Note, we can use scrip file centers for SE ne30"
   ]
  },
  {
   "cell_type": "code",
   "execution_count": null,
   "id": "1ba5726c-6fd0-4d60-b651-d28137abdbc2",
   "metadata": {},
   "outputs": [],
   "source": [
    "lon=ne30['grid_center_lon']\n",
    "lat=ne30['grid_center_lat']\n",
    "#lon=camtopo['lon']\n",
    "#lat=camtopo['lat']\n",
    "elat=eratopo['g4_lat_2'].values\n",
    "elon=eratopo['g4_lon_3'].values\n"
   ]
  },
  {
   "cell_type": "markdown",
   "id": "10da8479-fca5-4228-b54c-d1aaa5b7bbc1",
   "metadata": {},
   "source": [
    "# Plot regridded topography and raw ERA5 topo"
   ]
  },
  {
   "cell_type": "code",
   "execution_count": null,
   "id": "02b982d8-fb8c-4ee4-9abe-4c99d331a8b8",
   "metadata": {
    "tags": []
   },
   "outputs": [],
   "source": [
    "clev=np.linspace( 5, 5600, num=31 )\n",
    "\n",
    "fig,ax=plt.subplots(3  , figsize=(10,30) )\n",
    "\n",
    "po=ax[0].tricontourf(lon,lat,dstf.data[:] / 9.8  ,levels=clev )\n",
    "#po=ax[0].contourf(lon,lat,dstf.data[:,:].transpose() / 9.8  ,levels=clev )\n",
    "plt.colorbar( po , ax=ax[0] ) #po,cax=ax)\n",
    "\n",
    "po=ax[1].tricontourf(lon,lat,dstfL.data[:] / 9.8  ,levels=clev )\n",
    "#po=ax[1].contourf(lon,lat,dstfL.data[:,:].transpose() / 9.8  ,levels=clev )\n",
    "plt.colorbar( po , ax=ax[1] ) #po,cax=ax)\n",
    "\n",
    "po=ax[2].contourf(elon,elat, Hera/ 9.8  ,levels=clev  )\n",
    "plt.colorbar( po , ax=ax[2] ) #po,cax=ax)\n",
    "\n",
    "ax[0].set_title('Conservatively Regridded ERA5 Topo (m) on ne30pg3 grid')\n",
    "ax[1].set_title('Bilinearly Regridded ERA5 Topo (m) on ne30pg3 grid')\n",
    "ax[2].set_title('Topo height in ERA5')\n"
   ]
  },
  {
   "cell_type": "markdown",
   "id": "2518f6c2-7fff-4d57-ae31-eca064714490",
   "metadata": {},
   "source": [
    "## Plot differences bewteen conservative and bi-linear regridding"
   ]
  },
  {
   "cell_type": "code",
   "execution_count": null,
   "id": "f2f83f7f-dc72-41e4-ab41-2d1e1be719f3",
   "metadata": {},
   "outputs": [],
   "source": [
    "diffCL = dstf.data- dstfL.data\n",
    "plt.plot(diffCL.flatten()/9.8)"
   ]
  },
  {
   "cell_type": "code",
   "execution_count": null,
   "id": "b5c86395-a169-4783-bfe2-0c108b072905",
   "metadata": {
    "tags": []
   },
   "outputs": [],
   "source": [
    "clev=np.linspace( 5, 5600, num=31 )\n",
    "dlev=np.linspace( -600, 600, num=31 )\n",
    "\n",
    "fig,ax=plt.subplots(3  , figsize=(10,30) )\n",
    "\n",
    "po=ax[0].tricontourf(lon,lat,dstf.data[:] / 9.8  ,levels=clev )\n",
    "plt.colorbar( po , ax=ax[0] ) #po,cax=ax)\n",
    "\n",
    "po=ax[1].tricontourf(lon,lat,dstfL.data[:] / 9.8  ,levels=clev )\n",
    "plt.colorbar( po , ax=ax[1] ) #po,cax=ax)\n",
    "\n",
    "diffCL = dstf.data[:] - dstfL.data[:]\n",
    "po=ax[2].tricontourf(lon, lat, diffCL/ 9.8  ,levels=dlev  )\n",
    "plt.colorbar( po , ax=ax[2] ) #po,cax=ax)\n",
    "\n",
    "\n",
    "ax[0].set_title('Cons. Regridded ERA5 Topo (m) on ne30pg3 grid')\n",
    "ax[1].set_title('BiLin. Regridded ERA5 Topo (m) on ne30pg3 grid')\n",
    "ax[2].set_title('Difference (Cons-BiLin)')\n"
   ]
  },
  {
   "cell_type": "code",
   "execution_count": null,
   "id": "31f89c61-1ee6-4af2-b99a-653ce690617d",
   "metadata": {},
   "outputs": [],
   "source": []
  }
 ],
 "metadata": {
  "kernelspec": {
   "display_name": "NPL 2022b",
   "language": "python",
   "name": "npl-2022b"
  },
  "language_info": {
   "codemirror_mode": {
    "name": "ipython",
    "version": 3
   },
   "file_extension": ".py",
   "mimetype": "text/x-python",
   "name": "python",
   "nbconvert_exporter": "python",
   "pygments_lexer": "ipython3",
   "version": "3.8.13"
  }
 },
 "nbformat": 4,
 "nbformat_minor": 5
}
