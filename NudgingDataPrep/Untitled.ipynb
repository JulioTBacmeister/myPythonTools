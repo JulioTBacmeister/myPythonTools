{
 "cells": [
  {
   "cell_type": "code",
   "execution_count": null,
   "id": "b8bf47e5-9e6b-44cd-9c76-85e7aa82f197",
   "metadata": {},
   "outputs": [],
   "source": [
    "import xarray as xr\n",
    "import numpy as np\n",
    "import matplotlib.pyplot as plt\n",
    "import pandas as pd\n",
    "\n"
   ]
  },
  {
   "cell_type": "code",
   "execution_count": null,
   "id": "32168841-21ab-4990-bf77-8c0805034d1b",
   "metadata": {},
   "outputs": [],
   "source": [
    "a=np.array( [[1,2,3],[1,2,3]])"
   ]
  },
  {
   "cell_type": "code",
   "execution_count": null,
   "id": "edd080b6-80df-4fa2-9887-42823069a9ff",
   "metadata": {},
   "outputs": [],
   "source": [
    "print(np.append(a,[[1],[1]],axis=1))"
   ]
  },
  {
   "cell_type": "code",
   "execution_count": null,
   "id": "e5ffae0b-afd0-4efc-a551-12a1c55ce7dc",
   "metadata": {},
   "outputs": [],
   "source": [
    "print(np.append(a,np.array([1,1]).reshape(2,1),axis=1))"
   ]
  },
  {
   "cell_type": "code",
   "execution_count": null,
   "id": "0233976d-b130-424c-a927-b7edf038ea12",
   "metadata": {},
   "outputs": [],
   "source": []
  }
 ],
 "metadata": {
  "kernelspec": {
   "display_name": "Python [conda env:npl-XTND]",
   "language": "python",
   "name": "conda-env-npl-XTND-py"
  },
  "language_info": {
   "codemirror_mode": {
    "name": "ipython",
    "version": 3
   },
   "file_extension": ".py",
   "mimetype": "text/x-python",
   "name": "python",
   "nbconvert_exporter": "python",
   "pygments_lexer": "ipython3",
   "version": "3.8.13"
  }
 },
 "nbformat": 4,
 "nbformat_minor": 5
}
