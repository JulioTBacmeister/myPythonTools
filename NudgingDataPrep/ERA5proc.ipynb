{
 "cells": [
  {
   "cell_type": "code",
   "execution_count": null,
   "id": "195d0a90-a425-40de-af32-f18d0af255b0",
   "metadata": {},
   "outputs": [],
   "source": [
    "# Import packages \n",
    "import sys\n",
    "sys.path.append('../Plotting/')\n",
    "\"\"\" Now you can imprt modules in ../Plotting\"\"\"\n",
    "\n",
    "import xarray as xr\n",
    "import numpy as np\n",
    "import matplotlib.pyplot as plt\n",
    "import matplotlib as mpl\n",
    "import matplotlib.tri as tri\n",
    "import matplotlib.colors as colors\n",
    "\n",
    "from scipy.io import FortranFile\n",
    "\n",
    "import cartopy\n",
    "import cartopy.crs as ccrs\n",
    "import cartopy.feature as cfeature\n",
    "\n",
    "import ESMF as E\n",
    "\n",
    "import importlib\n",
    "import glob\n",
    "import copy\n",
    "\n",
    "import xyp_plot as xyp\n",
    "import scripGen as SG\n",
    "import esmfRegrid as erg\n",
    "\n",
    "\n",
    "importlib.reload( erg )\n",
    "importlib.reload(SG)"
   ]
  },
  {
   "cell_type": "markdown",
   "id": "1a8f687d-b70c-44c3-b66a-72ce62ff9ae2",
   "metadata": {},
   "source": [
    "# Set-up regridding machinery"
   ]
  },
  {
   "cell_type": "code",
   "execution_count": null,
   "id": "e97dbbae-1784-42e0-b545-dfc680efaeae",
   "metadata": {},
   "outputs": [],
   "source": [
    "# Get default CAM Topo bottom BCs for this grid\n",
    "bnd_topo = \\\n",
    "'/glade/p/cgd/amp/juliob/bndtopo/latest/ne30pg3_gmted2010_modis_bedmachine_nc3000_Laplace0100_20230105.nc'\n",
    "dsTopo_CAM=xr.open_dataset( bnd_topo )\n",
    "PHIS_CAM = dsTopo_CAM['PHIS']\n",
    "phis_CAM = PHIS_CAM.values"
   ]
  },
  {
   "cell_type": "code",
   "execution_count": null,
   "id": "f93855ef-55c7-4b24-9c18-0dfb6edbf271",
   "metadata": {},
   "outputs": [],
   "source": [
    "# Scrip file for ERA5 created by ERA5scrip.ipynb\n",
    "ERA5scrip = '/glade/work/juliob/ERA5-proc/ERA5interp/grids/ERA5_640x1280_scrip.nc'\n",
    "\n",
    "src_scrip=ERA5scrip\n",
    "src_type='grid'"
   ]
  },
  {
   "cell_type": "code",
   "execution_count": null,
   "id": "7d4f700e-3abe-4da8-9e55-3d23e656c1c3",
   "metadata": {},
   "outputs": [],
   "source": [
    "# ------- CAM SE ne30pg3 Scrip file\n",
    "scripdir='/glade/p/cesmdata/cseg/inputdata/share/scripgrids/'\n",
    "ne30scrip  = scripdir +  \"ne30pg3_scrip_170611.nc\"\n",
    "\n",
    "dst_scrip=ne30scrip\n",
    "dst_type='mesh'"
   ]
  },
  {
   "cell_type": "code",
   "execution_count": null,
   "id": "094746f4-8ae1-4010-b6fb-965e7c4192dd",
   "metadata": {},
   "outputs": [],
   "source": [
    "griddir = \"/glade/work/juliob/ERA5-proc/ERA5interp/grids/\"\n",
    "wgts_file_Con = griddir + \"ERA5_ne30pg3_Conserv_wgts.nc\"\n",
    "\n",
    "# Make object for Conservative regridding from ERA5\n",
    "# grid to CAM target. Scrip files need to be provided even \n",
    "# when a weight file is used\n",
    "regrd, srcf, dstf = erg.Regrid( srcScrip = src_scrip , \n",
    "                                srcType  = src_type  ,\n",
    "                                dstScrip = dst_scrip ,\n",
    "                                dstType  = dst_type  ,\n",
    "                                write_weights = False ,\n",
    "                                read_weights = True ,\n",
    "                                weights_file = wgts_file_Con )"
   ]
  },
  {
   "cell_type": "code",
   "execution_count": null,
   "id": "dc4f4bf8-a126-40f9-be07-316e748718a5",
   "metadata": {},
   "outputs": [],
   "source": [
    "# Read in ERA5 topogrpahy\n",
    "eratopof='/glade/work/juliob/ERA5-proc/ERA5interp/phis/ERA5_phis.nc'\n",
    "eratopo=xr.open_dataset( eratopof )\n",
    "phis_ERA=eratopo['Z_GDS4_SFC'].values"
   ]
  },
  {
   "cell_type": "markdown",
   "id": "9dd0251c-13f9-47a2-8544-a815108f9051",
   "metadata": {},
   "source": [
    "# Regrid ERA5 topo and read in CAM target topo"
   ]
  },
  {
   "cell_type": "code",
   "execution_count": null,
   "id": "4bf888bb-f770-43bd-a56d-16d887eb6a9d",
   "metadata": {},
   "outputs": [],
   "source": [
    "ny,nx = np.shape(phis_ERA)\n",
    "ncol=np.shape(phis_CAM)\n",
    "#try function\n",
    "#########################\n",
    "phis_ERA_x_CAM = erg.HorzRG( aSrc = phis_ERA , \n",
    "                              regrd = regrd , \n",
    "                              srcField=srcf , \n",
    "                              dstField=dstf , \n",
    "                              srcShape=[ny,nx], \n",
    "                              dstShape=[ncol] , \n",
    "                              srcGridkey='yx', \n",
    "                              dstGridkey='c' )\n"
   ]
  },
  {
   "cell_type": "markdown",
   "id": "44fee4da-a843-49e4-bd8c-9056896c7c6d",
   "metadata": {},
   "source": [
    "# Regrid ERA5 data"
   ]
  },
  {
   "cell_type": "code",
   "execution_count": null,
   "id": "79bf2851-03ec-424f-aecd-a119c0df5e4c",
   "metadata": {},
   "outputs": [],
   "source": [
    "era5dir = \"/glade/collections/rda/data/ds633.6/e5.oper.an.ml/\"\n",
    "wrkdir=era5dir+\"202211/\"\n",
    "tfile = wrkdir + 'e5.oper.an.ml.0_5_0_0_0_t.regn320sc.2022110100_2022110105.nc'\n",
    "spfile= wrkdir + 'e5.oper.an.ml.128_134_sp.regn320sc.2022110100_2022110105.nc'"
   ]
  },
  {
   "cell_type": "code",
   "execution_count": null,
   "id": "44ae1f4a-052f-485e-bb74-cee566dd4c58",
   "metadata": {},
   "outputs": [],
   "source": [
    "dsT_ERA   = xr.open_dataset( tfile )\n",
    "dsPS_ERA  = xr.open_dataset( spfile )\n"
   ]
  },
  {
   "cell_type": "code",
   "execution_count": null,
   "id": "064236e6-56f7-470e-aafd-b5e8de2cbbb6",
   "metadata": {},
   "outputs": [],
   "source": [
    "print( list(dsT_ERA.variables) )\n",
    "print( list(dsPS_ERA.variables) )\n"
   ]
  },
  {
   "cell_type": "code",
   "execution_count": null,
   "id": "d66caab6-1481-4473-8eec-486351439281",
   "metadata": {},
   "outputs": [],
   "source": [
    "ps_ERA = dsPS_ERA['SP'].values\n",
    "print( np.shape(ps_ERA))\n",
    "nt,ny,nx = np.shape(ps_ERA)"
   ]
  },
  {
   "cell_type": "code",
   "execution_count": null,
   "id": "01558556-9387-4142-92af-4b52686be1d5",
   "metadata": {},
   "outputs": [],
   "source": [
    "print(ncol[0])"
   ]
  },
  {
   "cell_type": "code",
   "execution_count": null,
   "id": "c188db9b-f3b9-4c6e-add9-cc92ea817e44",
   "metadata": {},
   "outputs": [],
   "source": [
    "#try function\n",
    "#########################\n",
    "ps_ERA_x_CAM    = erg.HorzRG( aSrc = ps_ERA , \n",
    "                              regrd = regrd , \n",
    "                              srcField=srcf , \n",
    "                              dstField=dstf , \n",
    "                              srcShape=[nt,ny,nx], \n",
    "                              dstShape=[ncol[0]] , \n",
    "                              srcGridkey='tyx', \n",
    "                              dstGridkey='c' )\n"
   ]
  },
  {
   "cell_type": "code",
   "execution_count": null,
   "id": "90a3979c-e193-4292-9852-218241a1311e",
   "metadata": {},
   "outputs": [],
   "source": [
    "lon_CAM=dsTopo_CAM['lon'].values\n",
    "lat_CAM=dsTopo_CAM['lat'].values\n",
    "\n",
    "#plt.figure(figsize=(20, 20))\n",
    "fig,ax = plt.subplots(2,2,figsize=(15,7),squeeze=False)\n",
    "\n",
    "\n",
    "j,i=0,0\n",
    "co = ax[j,i].tricontourf( lon_CAM, lat_CAM, phis_ERA_x_CAM )\n",
    "plt.colorbar(co,ax=ax[j,i])\n",
    "j,i=0,1\n",
    "co = ax[j,i].tricontourf( lon_CAM, lat_CAM, ps_ERA_x_CAM[0,:] )\n",
    "plt.colorbar(co,ax=ax[j,i])\n",
    "j,i=1,0\n",
    "co = ax[j,i].tricontourf( lon_CAM, lat_CAM, ps_ERA_x_CAM[1,:] )\n",
    "plt.colorbar(co,ax=ax[j,i])\n",
    "j,i=1,1\n",
    "co = ax[j,i].tricontourf( lon_CAM, lat_CAM, ps_ERA_x_CAM[5,:] )\n",
    "plt.colorbar(co,ax=ax[j,i])\n"
   ]
  },
  {
   "cell_type": "code",
   "execution_count": null,
   "id": "07088461-f0e4-4acc-bdfc-cfddbf9a1fc1",
   "metadata": {},
   "outputs": [],
   "source": []
  },
  {
   "cell_type": "markdown",
   "id": "881fdf70-b78e-4861-82d8-0b54229e0b54",
   "metadata": {},
   "source": [
    "# Now try a full horizontal regridding of 3(4)-D ERA T"
   ]
  },
  {
   "cell_type": "code",
   "execution_count": null,
   "id": "1fb1c468-77a7-460a-b02c-9a561f79e93c",
   "metadata": {},
   "outputs": [],
   "source": [
    "te_ERA = dsT_ERA['T'].values\n",
    "nt,nz,ny,nx = np.shape(te_ERA)\n"
   ]
  },
  {
   "cell_type": "code",
   "execution_count": null,
   "id": "3e1bf2ad-4d61-48d4-8f7a-35e4490c922e",
   "metadata": {},
   "outputs": [],
   "source": [
    "#try function\n",
    "#########################\n",
    "te_ERA_x_CAM    = erg.HorzRG( aSrc = te_ERA , \n",
    "                              regrd = regrd , \n",
    "                              srcField=srcf , \n",
    "                              dstField=dstf , \n",
    "                              srcShape=[nt,nz,ny,nx], \n",
    "                              dstShape=[ncol[0]] , \n",
    "                              srcGridkey='tzyx', \n",
    "                              dstGridkey='c' )\n"
   ]
  },
  {
   "cell_type": "code",
   "execution_count": null,
   "id": "eef62e5d-fa0f-4cd7-af06-123d8880d157",
   "metadata": {},
   "outputs": [],
   "source": [
    "lon_CAM=dsTopo_CAM['lon'].values\n",
    "lat_CAM=dsTopo_CAM['lat'].values\n",
    "\n",
    "#plt.figure(figsize=(20, 20))\n",
    "fig,ax = plt.subplots(2,2,figsize=(15,7),squeeze=False)\n",
    "\n",
    "\n",
    "j,i=0,0\n",
    "co = ax[j,i].tricontourf( lon_CAM, lat_CAM, te_ERA_x_CAM[0,20,:] )\n",
    "plt.colorbar(co,ax=ax[j,i])\n",
    "j,i=0,1\n",
    "co = ax[j,i].tricontourf( lon_CAM, lat_CAM, te_ERA_x_CAM[0,40,:] )\n",
    "plt.colorbar(co,ax=ax[j,i])\n",
    "j,i=1,0\n",
    "co = ax[j,i].tricontourf( lon_CAM, lat_CAM, te_ERA_x_CAM[0,80,:] )\n",
    "plt.colorbar(co,ax=ax[j,i])\n",
    "j,i=1,1\n",
    "co = ax[j,i].tricontourf( lon_CAM, lat_CAM, te_ERA_x_CAM[0,100,:] )\n",
    "plt.colorbar(co,ax=ax[j,i])\n"
   ]
  },
  {
   "cell_type": "code",
   "execution_count": null,
   "id": "b23485c1-e591-40cf-97dc-c2cd4a4e497b",
   "metadata": {},
   "outputs": [],
   "source": [
    "print(len(np.shape(dstf.data)))"
   ]
  },
  {
   "cell_type": "code",
   "execution_count": null,
   "id": "5fe81141-27a7-43ff-bb46-3de279e9a107",
   "metadata": {},
   "outputs": [],
   "source": [
    "print(len(np.shape(te_ERA)))"
   ]
  },
  {
   "cell_type": "code",
   "execution_count": null,
   "id": "3700d184-9ec7-4ccb-8aca-bc1439f0767c",
   "metadata": {},
   "outputs": [],
   "source": []
  }
 ],
 "metadata": {
  "kernelspec": {
   "display_name": "Python [conda env:npl-XTND]",
   "language": "python",
   "name": "conda-env-npl-XTND-py"
  },
  "language_info": {
   "codemirror_mode": {
    "name": "ipython",
    "version": 3
   },
   "file_extension": ".py",
   "mimetype": "text/x-python",
   "name": "python",
   "nbconvert_exporter": "python",
   "pygments_lexer": "ipython3",
   "version": "3.8.13"
  }
 },
 "nbformat": 4,
 "nbformat_minor": 5
}
