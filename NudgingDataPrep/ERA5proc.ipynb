{
 "cells": [
  {
   "cell_type": "code",
   "execution_count": null,
   "id": "195d0a90-a425-40de-af32-f18d0af255b0",
   "metadata": {},
   "outputs": [],
   "source": [
    "# Import packages \n",
    "import sys\n",
    "sys.path.append('../Plotting/')\n",
    "\"\"\" Now you can imprt modules in ../Plotting\"\"\"\n",
    "\n",
    "import xarray as xr\n",
    "import numpy as np\n",
    "import matplotlib.pyplot as plt\n",
    "import matplotlib as mpl\n",
    "import matplotlib.tri as tri\n",
    "import matplotlib.colors as colors\n",
    "\n",
    "from scipy.io import FortranFile\n",
    "\n",
    "import cartopy\n",
    "import cartopy.crs as ccrs\n",
    "import cartopy.feature as cfeature\n",
    "\n",
    "import ESMF as E\n",
    "\n",
    "import importlib\n",
    "import glob\n",
    "\n",
    "\n",
    "import xyp_plot as xyp\n",
    "import scripGen as SG\n",
    "\n",
    "importlib.reload(SG)"
   ]
  },
  {
   "cell_type": "code",
   "execution_count": null,
   "id": "104e1b61-0046-4b37-ae8e-cb3be68733ec",
   "metadata": {},
   "outputs": [],
   "source": [
    "era5dir = \"/glade/collections/rda/data/ds633.6/e5.oper.an.ml/\"\n",
    "wrkdir=era5dir+\"202211/\"\n",
    "tfile = wrkdir + 'e5.oper.an.ml.0_5_0_0_0_t.regn320sc.2022110100_2022110105.nc'\n",
    "spfile= wrkdir + 'e5.oper.an.ml.128_134_sp.regn320sc.2022110100_2022110105.nc'"
   ]
  },
  {
   "cell_type": "code",
   "execution_count": null,
   "id": "44ae1f4a-052f-485e-bb74-cee566dd4c58",
   "metadata": {},
   "outputs": [],
   "source": [
    "tdata  = xr.open_dataset( tfile )\n",
    "spdata = xr.open_dataset( spfile )"
   ]
  },
  {
   "cell_type": "code",
   "execution_count": null,
   "id": "601dd15a-aebb-4fe0-bb36-061050d51cd2",
   "metadata": {},
   "outputs": [],
   "source": [
    "print( list( tdata.variables ) )\n",
    "\n",
    "print( list( spdata.variables ) )\n"
   ]
  },
  {
   "cell_type": "code",
   "execution_count": null,
   "id": "e5065352-5a30-479a-bacc-dc3602cf209d",
   "metadata": {},
   "outputs": [],
   "source": [
    "print( np.shape(tdata['T']) , np.shape(tdata['longitude'])  , np.shape(tdata['latitude'])    )"
   ]
  },
  {
   "cell_type": "code",
   "execution_count": null,
   "id": "06fd845e-2796-4023-bc96-9968521c6e0a",
   "metadata": {},
   "outputs": [],
   "source": [
    "loco=E.LocStream(16,   coord_sys = E.CoordSys.SPH_DEG)"
   ]
  },
  {
   "cell_type": "code",
   "execution_count": null,
   "id": "b407033c-0a05-4c1a-9944-d78b1d171c32",
   "metadata": {},
   "outputs": [],
   "source": [
    "dsc=SG.latlon_to_scrip( longitudes = tdata['longitude'].values , \n",
    "                      latitudes = tdata['latitude'].values )"
   ]
  },
  {
   "cell_type": "code",
   "execution_count": null,
   "id": "e51bd4e2-cabd-4f2e-9186-9633ddb9b91f",
   "metadata": {},
   "outputs": [],
   "source": [
    "ERA5scripfile = 'ERA5_640x1280_scrip.nc'\n",
    "dsc.to_netcdf( ERA5scripfile )"
   ]
  },
  {
   "cell_type": "code",
   "execution_count": null,
   "id": "6ba6cccc-1fa1-4ee2-acbf-0ef9e96ad589",
   "metadata": {},
   "outputs": [],
   "source": [
    "dsX=SG.latlon_to_scrip( nx=1440 , ny=720 , lon0=0. ) "
   ]
  },
  {
   "cell_type": "code",
   "execution_count": null,
   "id": "98780a86-0a25-4728-a17f-2027e29e4f63",
   "metadata": {},
   "outputs": [],
   "source": [
    "latitudes = tdata['latitude'].values\n",
    "longitudes = tdata['longitude'].values"
   ]
  },
  {
   "cell_type": "code",
   "execution_count": null,
   "id": "15b733c5-1311-45e6-b6be-3c90a8374d7b",
   "metadata": {},
   "outputs": [],
   "source": [
    "latitudes[0:2]\n",
    "\n",
    "print( np.min(latitudes) , \n",
    "np.max(latitudes) )\n"
   ]
  },
  {
   "cell_type": "code",
   "execution_count": null,
   "id": "2f770e3e-9c43-4962-988d-945b5351b832",
   "metadata": {},
   "outputs": [],
   "source": [
    "plt.plot( latitudes[1:],latitudes[0:639]-latitudes[1:],'.' )\n",
    "plt.ylim(.2809,.2811 )"
   ]
  },
  {
   "cell_type": "code",
   "execution_count": null,
   "id": "c2866338-4fa2-4ec1-bbdd-5407c90a0aff",
   "metadata": {},
   "outputs": [],
   "source": [
    "plt.plot( longitudes[1:],-longitudes[0:1279]+longitudes[1:],'.' )\n",
    "plt.ylim(0.28124,0.28126)"
   ]
  },
  {
   "cell_type": "code",
   "execution_count": null,
   "id": "f61ee67e-650b-4a7b-b673-ef3820cd7559",
   "metadata": {},
   "outputs": [],
   "source": [
    "xc=dsc['grid_corner_lon'].values\n",
    "yc=dsc['grid_corner_lat'].values"
   ]
  },
  {
   "cell_type": "code",
   "execution_count": null,
   "id": "a2885ebf-ff10-403d-9646-fa5051ebd156",
   "metadata": {},
   "outputs": [],
   "source": [
    "print(np.max(xc) , np.min(xc) )\n",
    "print(np.max(xc) - np.min(xc) )\n",
    "print(np.max(yc) , np.min(yc) )\n"
   ]
  },
  {
   "cell_type": "code",
   "execution_count": null,
   "id": "19802fe7-5e7a-4cd9-a53f-60aa874ee1ad",
   "metadata": {},
   "outputs": [],
   "source": []
  }
 ],
 "metadata": {
  "kernelspec": {
   "display_name": "Python [conda env:npl-XTND]",
   "language": "python",
   "name": "conda-env-npl-XTND-py"
  },
  "language_info": {
   "codemirror_mode": {
    "name": "ipython",
    "version": 3
   },
   "file_extension": ".py",
   "mimetype": "text/x-python",
   "name": "python",
   "nbconvert_exporter": "python",
   "pygments_lexer": "ipython3",
   "version": "3.8.13"
  }
 },
 "nbformat": 4,
 "nbformat_minor": 5
}
