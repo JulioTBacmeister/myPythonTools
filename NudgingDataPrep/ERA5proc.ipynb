{
 "cells": [
  {
   "cell_type": "code",
   "execution_count": null,
   "id": "195d0a90-a425-40de-af32-f18d0af255b0",
   "metadata": {},
   "outputs": [],
   "source": [
    "# Import packages \n",
    "import sys\n",
    "\n",
    "import xarray as xr\n",
    "import numpy as np\n",
    "import matplotlib.pyplot as plt\n",
    "import matplotlib as mpl\n",
    "import matplotlib.tri as tri\n",
    "import matplotlib.colors as colors\n",
    "\n",
    "from scipy.io import FortranFile\n",
    "from scipy import interpolate as intr\n",
    "\n",
    "import cartopy\n",
    "import cartopy.crs as ccrs\n",
    "import cartopy.feature as cfeature\n",
    "\n",
    "import ESMF as E\n",
    "\n",
    "import importlib\n",
    "import glob\n",
    "import copy\n",
    "import time\n",
    "\n",
    "import scripGen as SG\n",
    "import esmfRegrid as erg\n",
    "import VertRegrid as vrg\n",
    "\n",
    "# imprt modules in ../Plotting,  \"\"\"\n",
    "#sys.path.append('../Plotting/')\n",
    "sys.path.append('../Utils/')\n",
    "\n",
    "import MakePressures as MkP\n",
    "\n",
    "# Reload local packages that are under\n",
    "# development\n",
    "importlib.reload( erg )\n",
    "importlib.reload( vrg )\n",
    "importlib.reload( SG )\n",
    "importlib.reload( MkP )"
   ]
  },
  {
   "cell_type": "code",
   "execution_count": null,
   "id": "27a14197-3157-4c33-a336-8069447c1b8d",
   "metadata": {},
   "outputs": [],
   "source": [
    "# Physical Constants\n",
    "Rgas = 287.0 # J K-1 kg-1"
   ]
  },
  {
   "cell_type": "markdown",
   "id": "5b86aff8-a646-41b9-972b-596c2c0afaa4",
   "metadata": {},
   "source": [
    "## Naming conventions for variables:"
   ]
  },
  {
   "cell_type": "code",
   "execution_count": null,
   "id": "41e494ab-83b8-4598-824a-0b00b1050bea",
   "metadata": {},
   "outputs": [],
   "source": [
    "# aaa_{CAM,ERA} \n",
    "# Indicates the immediate provenance of a variable, e.g.,\n",
    "#      phis_CAM ==> phis from CAM on CAM's grid\n",
    "#      phis_ERA ==> phis from ERA on ERA's grid\n",
    "# lower case 'phis' indicates this is ndarray-like \n",
    "#\n",
    "# aaa_{CAM,ERA}_x{ERA,CAM}\n",
    "# Indicates variable has been remapped horizontall. So, e.g.\n",
    "#      phis_ERA_xCAM ==> ERA phis remapped horizontally to the CAM grid \n",
    "#\n",
    "# aaa_{CAM,ERA}_xz{ERA,CAM}\n",
    "# Indicates variable has been remapped horizontally AND vertically. So, e.g.\n",
    "#      te_ERA_xzCAM ==> ERA temperature remapped horizontally to the CAM horizontal grid \n",
    "#                       and then also vertically interpoated to the CAM vertical grid\n"
   ]
  },
  {
   "cell_type": "code",
   "execution_count": null,
   "id": "447d2fa3-e880-4b04-9978-db569b0c8bc3",
   "metadata": {},
   "outputs": [],
   "source": [
    "year=2022\n",
    "month=11\n",
    "day=1\n",
    "hour0=0\n",
    "hour1=hour0+5\n",
    "\n",
    "\n",
    "monStr=str( year ).zfill(4)+str(month).zfill(2)\n",
    "print(monStr)\n",
    "\n",
    "ymdh0=str( year ).zfill(4)+str(month).zfill(2)+str(day).zfill(2)+str(hour0).zfill(2)\n",
    "ymdh1=str( year ).zfill(4)+str(month).zfill(2)+str(day).zfill(2)+str(hour1).zfill(2)\n",
    "ymdh=ymdh0+'_'+ymdh1\n",
    "\n",
    "print(ymdh)"
   ]
  },
  {
   "cell_type": "code",
   "execution_count": null,
   "id": "e880f8b9-bee4-48cb-a584-ea0b1486a4ea",
   "metadata": {},
   "outputs": [],
   "source": [
    "# Get all the met and topo data we will use\n",
    "\n",
    "bnd_topo = \\\n",
    "'/glade/p/cgd/amp/juliob/bndtopo/latest/ne30pg3_gmted2010_modis_bedmachine_nc3000_Laplace0100_20230105.nc'\n",
    "dsTopo_CAM=xr.open_dataset( bnd_topo )\n",
    "phis_CAM = dsTopo_CAM['PHIS'].values\n",
    "\n",
    "# Read in ERA5 topography\n",
    "eratopof='/glade/work/juliob/ERA5-proc/ERA5interp/phis/ERA5_phis.nc'\n",
    "dsTopo_ERA=xr.open_dataset( eratopof )\n",
    "phis_ERA=dsTopo_ERA['Z_GDS4_SFC'].values\n",
    "\n",
    "\n",
    "\n",
    "era5dir = \"/glade/collections/rda/data/ds633.6/e5.oper.an.ml/\"\n",
    "wrkdir=era5dir+monStr+\"/\"\n",
    "\n",
    "\n",
    "spfile= wrkdir + 'e5.oper.an.ml.128_134_sp.regn320sc.'+ymdh+'.nc'\n",
    "dsPS_ERA  = xr.open_dataset( spfile )\n",
    "ps_ERA = dsPS_ERA['SP'].values\n",
    "\n",
    "\n",
    "tfile = wrkdir + 'e5.oper.an.ml.0_5_0_0_0_t.regn320sc.'+ymdh+'.nc'\n",
    "dsT_ERA   = xr.open_dataset( tfile )\n",
    "te_ERA = dsT_ERA['T'].values\n",
    "\n",
    "\n",
    "qfile = wrkdir + 'e5.oper.an.ml.0_5_0_1_0_q.regn320sc.'+ymdh+'.nc'\n",
    "dsQ_ERA   = xr.open_dataset( qfile )\n",
    "q_ERA = dsQ_ERA['Q'].values\n",
    "\n",
    "\n",
    "ufile = wrkdir + 'e5.oper.an.ml.0_5_0_2_2_u.regn320uv.'+ymdh+'.nc'\n",
    "dsU_ERA   = xr.open_dataset( ufile )\n",
    "u_ERA = dsU_ERA['U'].values\n",
    "\n",
    "vfile = wrkdir + 'e5.oper.an.ml.0_5_0_2_3_v.regn320uv.'+ymdh+'.nc'\n",
    "dsV_ERA   = xr.open_dataset( vfile )\n",
    "v_ERA = dsV_ERA['V'].values\n",
    "\n",
    "wfile = wrkdir + 'e5.oper.an.ml.0_5_0_2_8_w.regn320sc.'+ymdh+'.nc'\n",
    "dsW_ERA   = xr.open_dataset( wfile )\n",
    "w_ERA = dsW_ERA['W'].values\n",
    "\n",
    "\n",
    "print(list(dsW_ERA.variables))\n",
    "\n",
    "\n"
   ]
  },
  {
   "cell_type": "markdown",
   "id": "1a8f687d-b70c-44c3-b66a-72ce62ff9ae2",
   "metadata": {},
   "source": [
    "# Set-up regridding machinery"
   ]
  },
  {
   "cell_type": "code",
   "execution_count": null,
   "id": "e3604e41-6c98-41f9-88b1-c719f76e22e8",
   "metadata": {},
   "outputs": [],
   "source": [
    "# Scrip file for ERA5 created by ERA5scrip.ipynb\n",
    "ERA5scrip = '/glade/work/juliob/ERA5-proc/ERA5interp/grids/ERA5_640x1280_scrip.nc'\n",
    "\n",
    "src_scrip=ERA5scrip\n",
    "src_type='grid'\n",
    "\n",
    "# ------- CAM SE ne30pg3 Scrip file\n",
    "scripdir='/glade/p/cesmdata/cseg/inputdata/share/scripgrids/'\n",
    "ne30scrip  = scripdir +  \"ne30pg3_scrip_170611.nc\"\n",
    "\n",
    "dst_scrip=ne30scrip\n",
    "dst_type='mesh'\n",
    "\n",
    "griddir = \"/glade/work/juliob/ERA5-proc/ERA5interp/grids/\"\n",
    "wgts_file_Con = griddir + \"ERA5_ne30pg3_Conserv_wgts.nc\"\n",
    "\n",
    "# Make object for Conservative regridding from ERA5\n",
    "# grid to CAM target. Scrip files need to be provided even \n",
    "# when a weight file is used\n",
    "regrd, srcf, dstf = erg.Regrid( srcScrip = src_scrip , \n",
    "                                srcType  = src_type  ,\n",
    "                                dstScrip = dst_scrip ,\n",
    "                                dstType  = dst_type  ,\n",
    "                                write_weights = False ,\n",
    "                                read_weights = True ,\n",
    "                                weights_file = wgts_file_Con )"
   ]
  },
  {
   "cell_type": "code",
   "execution_count": null,
   "id": "4bf888bb-f770-43bd-a56d-16d887eb6a9d",
   "metadata": {},
   "outputs": [],
   "source": [
    "# Horz remap \n",
    "#########################\n",
    "phis_ERA_xCAM = erg.HorzRG( aSrc = phis_ERA , \n",
    "                              regrd = regrd , \n",
    "                              srcField=srcf , \n",
    "                              dstField=dstf , \n",
    "                              srcGridkey='yx', \n",
    "                              dstGridkey='c' )\n"
   ]
  },
  {
   "cell_type": "markdown",
   "id": "ca53c708-e592-439c-ae30-e8e0ae586f69",
   "metadata": {},
   "source": [
    "# Calculate difference in PHIS as in Williamson&Olson"
   ]
  },
  {
   "cell_type": "markdown",
   "id": "470632ab-73e8-443d-80e2-70344cf4ed65",
   "metadata": {},
   "source": [
    "$$ \n",
    "\\Delta \\Phi_s = \\Phi^i_s - \\Phi^n_s\n",
    "$$"
   ]
  },
  {
   "cell_type": "code",
   "execution_count": null,
   "id": "66fcedd0-3516-4d60-81a5-fcd668a4d702",
   "metadata": {},
   "outputs": [],
   "source": [
    "#Calculate difference between phis's\n",
    "Dphis = phis_ERA_xCAM - phis_CAM"
   ]
  },
  {
   "cell_type": "markdown",
   "id": "44fee4da-a843-49e4-bd8c-9056896c7c6d",
   "metadata": {},
   "source": [
    "# Regrid ERA5 data. \n",
    "\n",
    "# PS:"
   ]
  },
  {
   "cell_type": "code",
   "execution_count": null,
   "id": "eaf6ec2f-97ad-43a0-a0a0-90f48d89a3c7",
   "metadata": {},
   "outputs": [],
   "source": [
    "\n",
    "\n",
    "#Horz remap. \n",
    "#########################\n",
    "ps_ERA_xCAM    = erg.HorzRG( aSrc = ps_ERA , \n",
    "                              regrd = regrd , \n",
    "                              srcField=srcf , \n",
    "                              dstField=dstf , \n",
    "                              srcGridkey='tyx', \n",
    "                              dstGridkey='c' )\n"
   ]
  },
  {
   "cell_type": "markdown",
   "id": "881fdf70-b78e-4861-82d8-0b54229e0b54",
   "metadata": {},
   "source": [
    "# Now full horizontal regridding of 4D ERA T"
   ]
  },
  {
   "cell_type": "code",
   "execution_count": null,
   "id": "d0587914-5784-4f96-900d-03e7b7a756a0",
   "metadata": {},
   "outputs": [],
   "source": [
    "#try function\n",
    "#########################\n",
    "te_ERA_xCAM    = erg.HorzRG( aSrc = te_ERA , \n",
    "                              regrd = regrd , \n",
    "                              srcField=srcf , \n",
    "                              dstField=dstf , \n",
    "                              srcGridkey='tzyx', \n",
    "                              dstGridkey='c' )\n"
   ]
  },
  {
   "cell_type": "markdown",
   "id": "133e9add-d250-4aaf-96bb-619fd8b4fa02",
   "metadata": {},
   "source": [
    "Adjust horz interpolated ERA surface pressure to account for differences in surface geopotential between remapped ERA and default CAM"
   ]
  },
  {
   "cell_type": "markdown",
   "id": "e255f570-1464-42d8-9b2e-d155b387a31f",
   "metadata": {},
   "source": [
    "$$\n",
    "p^n_s= p^i_s \\exp \\left[ \\frac{\\Delta \\Phi_s}{R_{dry} T_{bot}} \\right ]\n",
    "$$"
   ]
  },
  {
   "cell_type": "markdown",
   "id": "ed929b06-d849-46a2-9443-e82b26e558e1",
   "metadata": {},
   "source": [
    "Here $p^i_s$ is ps_ERA_xCAM"
   ]
  },
  {
   "cell_type": "code",
   "execution_count": null,
   "id": "8e71b3bc-36ed-40a3-8f9d-bd45e53664fe",
   "metadata": {},
   "outputs": [],
   "source": [
    "#-------------------------------------------------------------------\n",
    "#                    \"CAM surface pressure\"\n",
    "#-------------------------------------------------------------------\n",
    "# We don't actually have ps from CAM, so we make a guess based on\n",
    "# ps_ERA_xCAM and te_bot asdescribed above.  In a sense this is a \n",
    "# vertical remapping, so we could call this variable ps_ERA_xzCAM, \n",
    "# but we'll just call it ps_CAM ...\n",
    "#-------------------------------------------------------------------\n",
    "nt,nz,ncol = np.shape(te_ERA_xCAM)\n",
    "L_bot = nz-1\n",
    "\n",
    "te_bot = te_ERA_xCAM[:,L_bot,:]\n",
    "ps_CAM = np.zeros( (nt , ncol) )\n",
    "for i in np.arange( nt ):\n",
    "    ps_CAM[i,:] = ps_ERA_xCAM[i,:] * np.exp( Dphis / (Rgas*te_bot[i,:]) )"
   ]
  },
  {
   "cell_type": "code",
   "execution_count": null,
   "id": "7b63f7c5-6074-442f-a72f-84318521c2b6",
   "metadata": {},
   "outputs": [],
   "source": [
    "#-----------------------------------------------------------------------------------------------\n",
    "# Now we creat full 4(3)D pressure fields on the ERA vertical grid. These are \"CAM pressures\" \n",
    "# as they are based on the \"CAM surface pressure\" derived above.  These are used for \n",
    "# vertical interpolation below.  I'm not sure about this.  The WO2015 document seems to be\n",
    "# instructing this ... but you could also use ERA surface press on xCAM.\n",
    "#-----------------------------------------------------------------------------------------------\n",
    "p_00 = 1.0 # a_model and a_half appear to include * P_00 in their defintion so set to 1.0 here\n",
    "amid=dsT_ERA['a_model'].values \n",
    "bmid=dsT_ERA['b_model'].values\n",
    "aint=dsT_ERA['a_half'].values \n",
    "bint=dsT_ERA['b_half'].values\n",
    "\n",
    "pmid_CAM_zERA, pint_CAM_zERA, delp_CAM_zERA \\\n",
    "    = MkP.Pressure (am=amid ,\n",
    "                    bm=bmid ,\n",
    "                    ai=aint ,\n",
    "                    bi=bint ,\n",
    "                    ps=ps_CAM ,\n",
    "                    p_00=p_00 )\n"
   ]
  },
  {
   "cell_type": "code",
   "execution_count": null,
   "id": "7b47aaa8-37f1-45ba-b43a-15ce93f90e93",
   "metadata": {},
   "outputs": [],
   "source": [
    "# Read in CAM L58 vertical grid\n",
    "vCAMfile = '/glade/work/juliob/ERA5-proc/CAM-grids/Vertical/'+\\\n",
    "        'GRID_48_taperstart10km_lowtop_BL10_v3p1_beta1p75.nc'\n",
    "vCAM=xr.open_dataset( vCAMfile )\n",
    "\n",
    "p_00=100_000.0\n",
    "amid_CAM = vCAM['hyam'].values\n",
    "bmid_CAM = vCAM['hybm'].values\n",
    "aint_CAM = vCAM['hyai'].values\n",
    "bint_CAM = vCAM['hybi'].values\n",
    "nz_CAM = np.shape( amid_CAM )[0]\n",
    "\n",
    "pmid_CAM,pint_CAM,delp_CAM \\\n",
    "    = MkP.Pressure (am=amid_CAM ,\n",
    "                    bm=bmid_CAM ,\n",
    "                    ai=aint_CAM ,\n",
    "                    bi=bint_CAM ,\n",
    "                    ps=ps_CAM ,\n",
    "                    p_00=p_00 )\n"
   ]
  },
  {
   "cell_type": "code",
   "execution_count": null,
   "id": "8497318a-3d38-45b2-aaa1-83084770b6b5",
   "metadata": {},
   "outputs": [],
   "source": [
    "# Log-pressure is preferred for vertical interpolation\n",
    "# per Williamson&Olson\n",
    "#-----------------------------------------------------------\n",
    "lnpint_CAM = -7_000. * np.log( pint_CAM / p_00 )\n",
    "lnpmid_CAM = -7_000. * np.log( pmid_CAM / p_00 )\n",
    "lnpmid_CAM_zERA = -7_000. * np.log( pmid_CAM_zERA /p_00 )\n",
    "\n",
    "\n",
    "te_ERA_xzCAM = vrg.VertRG( \n",
    "        a_x  = te_ERA_xCAM ,\n",
    "        zSrc = lnpmid_CAM_zERA ,\n",
    "        zDst = lnpmid_CAM ,\n",
    "        Gridkey ='tzc' ,\n",
    "        kind = 'quadratic' \n",
    "                )\n",
    "        "
   ]
  },
  {
   "cell_type": "code",
   "execution_count": null,
   "id": "2842b1e9-110b-421b-a54c-0653072cc2a2",
   "metadata": {},
   "outputs": [],
   "source": [
    "plt.plot(   te_ERA_xCAM[0,:,20000] , lnpmid_CAM_zERA[0,:,20000] )\n",
    "plt.plot(   te_ERA_xzCAM[0,:,20000] , lnpmid_CAM[0,:,20000] )\n",
    "#plt.plot(   too2[0,:,20000] , lnpmid_CAM[0,:,20000] )\n"
   ]
  },
  {
   "cell_type": "code",
   "execution_count": null,
   "id": "6e2f9c75-f5e8-460f-9bed-e49668b5ad78",
   "metadata": {},
   "outputs": [],
   "source": []
  }
 ],
 "metadata": {
  "kernelspec": {
   "display_name": "Python [conda env:npl-XTND]",
   "language": "python",
   "name": "conda-env-npl-XTND-py"
  },
  "language_info": {
   "codemirror_mode": {
    "name": "ipython",
    "version": 3
   },
   "file_extension": ".py",
   "mimetype": "text/x-python",
   "name": "python",
   "nbconvert_exporter": "python",
   "pygments_lexer": "ipython3",
   "version": "3.8.13"
  }
 },
 "nbformat": 4,
 "nbformat_minor": 5
}
