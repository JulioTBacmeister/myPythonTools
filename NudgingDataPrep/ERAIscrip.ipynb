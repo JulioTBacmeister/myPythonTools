{
 "cells": [
  {
   "cell_type": "code",
   "execution_count": null,
   "id": "195d0a90-a425-40de-af32-f18d0af255b0",
   "metadata": {},
   "outputs": [],
   "source": [
    "# Import packages \n",
    "import sys\n",
    "sys.path.append('../Plotting/')\n",
    "\"\"\" Now you can imprt modules in ../Plotting\"\"\"\n",
    "\n",
    "import xarray as xr\n",
    "import numpy as np\n",
    "import matplotlib.pyplot as plt\n",
    "import matplotlib as mpl\n",
    "import matplotlib.tri as tri\n",
    "import matplotlib.colors as colors\n",
    "\n",
    "from scipy.io import FortranFile\n",
    "\n",
    "import cartopy\n",
    "import cartopy.crs as ccrs\n",
    "import cartopy.feature as cfeature\n",
    "\n",
    "import ESMF as E\n",
    "\n",
    "import importlib\n",
    "import glob\n",
    "\n",
    "\n",
    "import xyp_plot as xyp\n",
    "import scripGen as SG\n",
    "\n",
    "importlib.reload(SG)"
   ]
  },
  {
   "cell_type": "code",
   "execution_count": null,
   "id": "104e1b61-0046-4b37-ae8e-cb3be68733ec",
   "metadata": {},
   "outputs": [],
   "source": [
    "\n",
    "scfile='/glade/scratch/juliob/erai_2017/ei.oper.an.ml.regn128sc.2017010100.nc'"
   ]
  },
  {
   "cell_type": "code",
   "execution_count": null,
   "id": "44ae1f4a-052f-485e-bb74-cee566dd4c58",
   "metadata": {},
   "outputs": [],
   "source": [
    "ds  = xr.open_dataset( scfile )"
   ]
  },
  {
   "cell_type": "code",
   "execution_count": null,
   "id": "b407033c-0a05-4c1a-9944-d78b1d171c32",
   "metadata": {},
   "outputs": [],
   "source": [
    "\n",
    "lon1=ds['g4_lon_1'].values\n",
    "lat1=ds['g4_lat_0'].values\n",
    "\n",
    "\n",
    "dsc=SG.latlon_to_scrip( longitudes = lon1 , \n",
    "                      latitudes = lat1 , SkipAreaCheck=True )"
   ]
  },
  {
   "cell_type": "code",
   "execution_count": null,
   "id": "e51bd4e2-cabd-4f2e-9186-9633ddb9b91f",
   "metadata": {},
   "outputs": [],
   "source": [
    "ERA5scripfile = 'ERAI_256x512_scrip.nc'\n",
    "dsc.to_netcdf( ERA5scripfile )"
   ]
  },
  {
   "cell_type": "code",
   "execution_count": null,
   "id": "04daca82-7997-4e4b-9537-072a78818c1a",
   "metadata": {},
   "outputs": [],
   "source": []
  }
 ],
 "metadata": {
  "kernelspec": {
   "display_name": "Python [conda env:npl-XTND]",
   "language": "python",
   "name": "conda-env-npl-XTND-py"
  },
  "language_info": {
   "codemirror_mode": {
    "name": "ipython",
    "version": 3
   },
   "file_extension": ".py",
   "mimetype": "text/x-python",
   "name": "python",
   "nbconvert_exporter": "python",
   "pygments_lexer": "ipython3",
   "version": "3.8.13"
  }
 },
 "nbformat": 4,
 "nbformat_minor": 5
}
