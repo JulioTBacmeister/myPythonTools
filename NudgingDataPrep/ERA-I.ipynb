{
 "cells": [
  {
   "cell_type": "code",
   "execution_count": null,
   "id": "8b148bf8-5a1f-4679-aa21-b8bd6c349f87",
   "metadata": {},
   "outputs": [],
   "source": [
    "import sys\n",
    "\n",
    "import xarray as xr\n",
    "import numpy as np\n",
    "import matplotlib.pyplot as plt\n",
    "import matplotlib as mpl\n",
    "import matplotlib.tri as tri\n",
    "import matplotlib.colors as colors\n",
    "\n",
    "#import cfgrib\n",
    "import xesmf\n",
    "\n",
    "import glob\n",
    "import os\n",
    "import subprocess as sp\n"
   ]
  },
  {
   "cell_type": "code",
   "execution_count": null,
   "id": "149c640b-207d-4c38-a1c3-dd92b9fe764f",
   "metadata": {},
   "outputs": [],
   "source": [
    "erai_dir = '/glade/collections/rda/data/ds627.0/ei.oper.an.ml/201701/'\n",
    "scrt_dir = '/glade/scratch/juliob/erai_2017/'\n",
    "\n",
    "foo='ei.oper.an.ml.regn128sc.20170101*.nc'\n",
    "\n",
    "ds=xr.open_mfdataset(scrt_dir+foo,combine='nested',concat_dim=['time'] ) # ,compat='override')\n"
   ]
  },
  {
   "cell_type": "code",
   "execution_count": null,
   "id": "76a731b1-15e8-4d8b-96e3-291760134bd1",
   "metadata": {},
   "outputs": [],
   "source": [
    "print(list(ds.variables))\n",
    "\n",
    "print(np.shape(ds['T_GDS4_HYBL']))\n",
    "ds.dims"
   ]
  },
  {
   "cell_type": "code",
   "execution_count": null,
   "id": "96b2ba46-8bd5-497d-9c84-f79995d1089e",
   "metadata": {},
   "outputs": [],
   "source": []
  },
  {
   "cell_type": "code",
   "execution_count": null,
   "id": "06022b67-1a73-40fb-8493-3adccf1086ad",
   "metadata": {},
   "outputs": [],
   "source": []
  }
 ],
 "metadata": {
  "kernelspec": {
   "display_name": "NPL 2022b",
   "language": "python",
   "name": "npl-2022b"
  },
  "language_info": {
   "codemirror_mode": {
    "name": "ipython",
    "version": 3
   },
   "file_extension": ".py",
   "mimetype": "text/x-python",
   "name": "python",
   "nbconvert_exporter": "python",
   "pygments_lexer": "ipython3",
   "version": "3.8.13"
  }
 },
 "nbformat": 4,
 "nbformat_minor": 5
}
