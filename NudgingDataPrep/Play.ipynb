{
 "cells": [
  {
   "cell_type": "code",
   "execution_count": null,
   "id": "5c86a887-bb47-40d3-9681-8cbcd3edc822",
   "metadata": {},
   "outputs": [],
   "source": [
    "import xarray as xr\n",
    "import numpy as np\n",
    "import matplotlib.pyplot as plt\n",
    "import pandas as pd\n",
    "\n",
    "import importlib\n",
    "\n",
    "import cftime \n",
    "import ERA5procx as Ex\n",
    "\n",
    "importlib.reload( Ex )"
   ]
  },
  {
   "cell_type": "code",
   "execution_count": null,
   "id": "401a4924-ac67-4818-a6b7-609142fd26db",
   "metadata": {},
   "outputs": [],
   "source": [
    "foo = Ex.prep()"
   ]
  },
  {
   "cell_type": "code",
   "execution_count": null,
   "id": "7e88a5c0-8845-4b5c-badd-b02206333d85",
   "metadata": {},
   "outputs": [],
   "source": [
    "faa=Ex.proc_1_ERA5_time()\n"
   ]
  },
  {
   "cell_type": "code",
   "execution_count": null,
   "id": "d9073beb-9c76-413d-9f65-4b30be1c3b7c",
   "metadata": {},
   "outputs": [],
   "source": [
    "\n",
    "year=2022\n",
    "month=11\n",
    "day=1\n",
    "hour0=0\n",
    "\n",
    "hour1=hour0+5\n",
    "\n",
    "monStr=str( year ).zfill(4)+str(month).zfill(2)\n",
    "\n",
    "ymdh0=str( year ).zfill(4)+str(month).zfill(2)+str(day).zfill(2)+str(hour0).zfill(2)\n",
    "ymdh1=str( year ).zfill(4)+str(month).zfill(2)+str(day).zfill(2)+str(hour1).zfill(2)\n",
    "ymdh=ymdh0+'_'+ymdh1\n",
    "\n",
    "print( \"Time tags for ERA5 files ...\")\n",
    "print(monStr)\n",
    "print(ymdh) \n",
    "\n",
    "era5dir = \"/glade/collections/rda/data/ds633.6/e5.oper.an.ml/\"\n",
    "wrkdir=era5dir+monStr+\"/\"\n",
    "\n",
    "tfile = wrkdir + 'e5.oper.an.ml.0_5_0_0_0_t.regn320sc.'+ymdh+'.nc'\n",
    "dsT_ERA   = xr.open_dataset( tfile )\n",
    "\n",
    "print(list(dsT_ERA.variables))\n",
    "print( dsT_ERA['time'].values   )\n",
    "pdTime=pd.to_datetime( dsT_ERA['time'].values )\n",
    "yymmdd = str(pdTime[3])[0:11]\n",
    "print(yymmdd)\n",
    "hr=str(pdTime[3])[11:13]\n",
    "print(int(hr)*3600)\n"
   ]
  },
  {
   "cell_type": "code",
   "execution_count": null,
   "id": "c1470101-2384-4d3a-b2ea-5de1d46d6835",
   "metadata": {},
   "outputs": [],
   "source": [
    "fn='/glade/p/cesm/amwg_dev/juliob/SAMwrf/ne30x16/i/'\n",
    "\n",
    "fn=fn+'f.e22r.SAMwrf01.ne30.L32.NODEEP_2010_01.cam.h1.2010-09-28-03600.nc'\n",
    "\n",
    "ds=xr.open_dataset( fn )\n",
    "\n",
    "print( ds['PHIS'].coords.values )\n",
    "print( ds.dims )\n",
    "\n",
    "\n"
   ]
  },
  {
   "cell_type": "code",
   "execution_count": null,
   "id": "831a98d1-be49-4348-a5ae-96b0a3bd9287",
   "metadata": {},
   "outputs": [],
   "source": [
    "print( \"CAM time \")\n",
    "print( ds['time'])\n",
    "\n",
    "#help( ds['time'] )\n",
    "\n",
    "poop = cftime.datetime( year=2011, month=11, day=1, hour=1, minute=30, second=0 )\n",
    "\n",
    "#print(poop)\n",
    "np.random.seed(0)\n",
    "temperature = 15 + 8 * np.random.randn(2, 2, 6)\n",
    "lon = [[-99.83, -99.32], [-99.79, -99.23]]\n",
    "lat = [[42.25, 42.21], [42.63, 42.59]]\n",
    "\n",
    "#time = pd.date_range(\"2014-09-06\", periods=3)\n",
    "time = pdTime # dsT_ERA['time'].values  \n",
    "reference_time = pd.Timestamp(\"2014-09-05\")\n",
    " \n",
    "da = xr.DataArray(\n",
    "        data=temperature,\n",
    "         dims=[\"x\", \"y\", \"time\"],\n",
    "         coords=dict(\n",
    "         lon=([\"x\", \"y\"], lon),\n",
    "         lat=([\"x\", \"y\"], lat),\n",
    "         time=time,\n",
    "            reference_time=reference_time,\n",
    "              ),\n",
    "         attrs=dict(\n",
    "         description=\"Ambient temperature.\",\n",
    "         units=\"degC\",\n",
    "             ),\n",
    "            )\n",
    "\n",
    "daTime = xr.DataArray(\n",
    "        data=time,\n",
    "         dims=[\"time\"],\n",
    "         coords=dict(\n",
    "         time=pdTime,\n",
    "              ),\n",
    "         attrs=dict(\n",
    "         description=\"Time\",\n",
    "         units=\"wooooo\",\n",
    "             ),\n",
    "            )\n",
    "\n",
    "\n",
    "dass=xr.Dataset(coords = da.coords )\n",
    "dass['Temperature'] = da\n",
    "\n",
    "dass['time'] =daTime\n",
    "\n",
    "\n",
    "print( \"ERA time \")\n",
    "print(dass['time'])"
   ]
  },
  {
   "cell_type": "code",
   "execution_count": null,
   "id": "374264a9-8323-40ec-9981-8e19fb703f42",
   "metadata": {},
   "outputs": [],
   "source": [
    "plt.plot( te[0,:,20_000] )"
   ]
  },
  {
   "cell_type": "code",
   "execution_count": null,
   "id": "8f1c7da9-953a-4143-98c8-a4e31bdc7da4",
   "metadata": {},
   "outputs": [],
   "source": []
  }
 ],
 "metadata": {
  "kernelspec": {
   "display_name": "NPL 2022b",
   "language": "python",
   "name": "npl-2022b"
  },
  "language_info": {
   "codemirror_mode": {
    "name": "ipython",
    "version": 3
   },
   "file_extension": ".py",
   "mimetype": "text/x-python",
   "name": "python",
   "nbconvert_exporter": "python",
   "pygments_lexer": "ipython3",
   "version": "3.8.13"
  }
 },
 "nbformat": 4,
 "nbformat_minor": 5
}
