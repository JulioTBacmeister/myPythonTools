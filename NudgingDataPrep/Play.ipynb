{
 "cells": [
  {
   "cell_type": "code",
   "execution_count": null,
   "id": "5c86a887-bb47-40d3-9681-8cbcd3edc822",
   "metadata": {},
   "outputs": [],
   "source": [
    "import xarray as xr\n",
    "import numpy as np\n",
    "import matplotlib.pyplot as plt\n",
    "import pandas as pd\n",
    "\n",
    "import importlib\n",
    "\n",
    "import cftime \n",
    "#import ERA5procx as Ex\n",
    "import GenRegrid as GR\n",
    "\n",
    "importlib.reload( GR )"
   ]
  },
  {
   "cell_type": "markdown",
   "id": "1adb3c5d-2094-426b-80ee-ccabbab5ea23",
   "metadata": {},
   "source": [
    "## START HERE FOR \"BATCH\""
   ]
  },
  {
   "cell_type": "code",
   "execution_count": null,
   "id": "401a4924-ac67-4818-a6b7-609142fd26db",
   "metadata": {},
   "outputs": [],
   "source": [
    "foo = GR.prep(Dst='fv1x1',DstVgrid='L58',Src='ERAI',WOsrf=False, RegridMethod=\"CONSERVE\" )"
   ]
  },
  {
   "cell_type": "code",
   "execution_count": null,
   "id": "7e88a5c0-8845-4b5c-badd-b02206333d85",
   "metadata": {},
   "outputs": [],
   "source": [
    "#faa=GR.get_ERA5( year=2021,month=6,day=1,hour0=0 )"
   ]
  },
  {
   "cell_type": "code",
   "execution_count": null,
   "id": "3ec917c8-0ba5-413d-9eba-0a8e4679f138",
   "metadata": {},
   "outputs": [],
   "source": [
    "faa=GR.get_ERAI( year=2017,month=1,day=1 )"
   ]
  },
  {
   "cell_type": "code",
   "execution_count": null,
   "id": "9952a723-5746-417a-9bbf-4f51127d15eb",
   "metadata": {},
   "outputs": [],
   "source": [
    "#pmid_ERA, pmid_CAM, pmid_CAM_zERA , te_ERA, te_ERA_xCAM , te_ERA_xzCAM  =GR.xRegrid()\n",
    "\n",
    "\"\"\"\n",
    "pmid_ERA, lat_ERA, lon_ERA, te_ERA, \\\n",
    "pmid_CAM_zERA, lat_CAM, lon_CAM, te_ERA_xCAM, \\\n",
    "pmid_CAM, te_ERA_xzCAM = GR.xRegrid( ExitAfterTemperature=True )\n",
    "\"\"\"\n",
    "\n",
    "fii=GR.xRegrid()"
   ]
  },
  {
   "cell_type": "markdown",
   "id": "7c949a67-be5b-4907-8c7c-2966a0fa2cd3",
   "metadata": {},
   "source": [
    "```\n",
    "Creating 3D P-fields etc., took   113.8944 seconds\n",
    " going into vertical regrid of T \n",
    "Serial code with reshaped arrays\n",
    "Vertical int 268.4032 seconds\n",
    " going into horz+vertical regrid of Q \n",
    "Horz RG in fullRegrid \n",
    "Vert RG in fullRegrid \n",
    "Serial code with reshaped arrays\n",
    "Vertical int 120.1440 seconds\n",
    "Subsequent Horz+Vert regridding of ERA5 vars took  602.0596 seconds\n",
    "```"
   ]
  },
  {
   "cell_type": "code",
   "execution_count": null,
   "id": "e42e352e-470c-424b-a617-d761277e49ac",
   "metadata": {},
   "outputs": [],
   "source": [
    "fuu=GR.write_netcdf(version='test02-oldtopo')"
   ]
  },
  {
   "cell_type": "code",
   "execution_count": null,
   "id": "8922c817-396d-4593-be01-4acc707c601e",
   "metadata": {},
   "outputs": [],
   "source": []
  }
 ],
 "metadata": {
  "kernelspec": {
   "display_name": "NPL 2022b",
   "language": "python",
   "name": "npl-2022b"
  },
  "language_info": {
   "codemirror_mode": {
    "name": "ipython",
    "version": 3
   },
   "file_extension": ".py",
   "mimetype": "text/x-python",
   "name": "python",
   "nbconvert_exporter": "python",
   "pygments_lexer": "ipython3",
   "version": "3.8.13"
  }
 },
 "nbformat": 4,
 "nbformat_minor": 5
}
