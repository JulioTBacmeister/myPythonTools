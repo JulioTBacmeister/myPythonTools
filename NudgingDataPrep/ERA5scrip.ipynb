{
 "cells": [
  {
   "cell_type": "code",
   "execution_count": null,
   "id": "195d0a90-a425-40de-af32-f18d0af255b0",
   "metadata": {},
   "outputs": [],
   "source": [
    "# Import packages \n",
    "import sys\n",
    "sys.path.append('../Plotting/')\n",
    "\"\"\" Now you can imprt modules in ../Plotting\"\"\"\n",
    "\n",
    "import xarray as xr\n",
    "import numpy as np\n",
    "import matplotlib.pyplot as plt\n",
    "import matplotlib as mpl\n",
    "import matplotlib.tri as tri\n",
    "import matplotlib.colors as colors\n",
    "\n",
    "from scipy.io import FortranFile\n",
    "\n",
    "import cartopy\n",
    "import cartopy.crs as ccrs\n",
    "import cartopy.feature as cfeature\n",
    "\n",
    "import ESMF as E\n",
    "\n",
    "import importlib\n",
    "import glob\n",
    "\n",
    "\n",
    "import xyp_plot as xyp\n",
    "import scripGen as SG\n",
    "\n",
    "importlib.reload(SG)"
   ]
  },
  {
   "cell_type": "code",
   "execution_count": null,
   "id": "104e1b61-0046-4b37-ae8e-cb3be68733ec",
   "metadata": {},
   "outputs": [],
   "source": [
    "era5dir = \"/glade/collections/rda/data/ds633.6/e5.oper.an.ml/\"\n",
    "wrkdir=era5dir+\"202211/\"\n",
    "tfile = wrkdir + 'e5.oper.an.ml.0_5_0_0_0_t.regn320sc.2022110100_2022110105.nc'\n",
    "spfile= wrkdir + 'e5.oper.an.ml.128_134_sp.regn320sc.2022110100_2022110105.nc'"
   ]
  },
  {
   "cell_type": "code",
   "execution_count": null,
   "id": "44ae1f4a-052f-485e-bb74-cee566dd4c58",
   "metadata": {},
   "outputs": [],
   "source": [
    "tdata  = xr.open_dataset( tfile )\n",
    "spdata = xr.open_dataset( spfile )"
   ]
  },
  {
   "cell_type": "code",
   "execution_count": null,
   "id": "601dd15a-aebb-4fe0-bb36-061050d51cd2",
   "metadata": {},
   "outputs": [],
   "source": [
    "print( list( tdata.variables ) )\n",
    "\n",
    "print( list( spdata.variables ) )\n"
   ]
  },
  {
   "cell_type": "code",
   "execution_count": null,
   "id": "e5065352-5a30-479a-bacc-dc3602cf209d",
   "metadata": {},
   "outputs": [],
   "source": [
    "print( np.shape(tdata['T']) , np.shape(tdata['longitude'])  , np.shape(tdata['latitude'])    )"
   ]
  },
  {
   "cell_type": "code",
   "execution_count": null,
   "id": "06fd845e-2796-4023-bc96-9968521c6e0a",
   "metadata": {},
   "outputs": [],
   "source": [
    "loco=E.LocStream(16,   coord_sys = E.CoordSys.SPH_DEG)"
   ]
  },
  {
   "cell_type": "code",
   "execution_count": null,
   "id": "b407033c-0a05-4c1a-9944-d78b1d171c32",
   "metadata": {},
   "outputs": [],
   "source": [
    "dsc=SG.latlon_to_scrip( longitudes = tdata['longitude'].values , \n",
    "                      latitudes = tdata['latitude'].values )"
   ]
  },
  {
   "cell_type": "code",
   "execution_count": null,
   "id": "e51bd4e2-cabd-4f2e-9186-9633ddb9b91f",
   "metadata": {},
   "outputs": [],
   "source": [
    "ERA5scripfile = 'ERA5_640x1280_scrip.nc'\n",
    "dsc.to_netcdf( ERA5scripfile )"
   ]
  }
 ],
 "metadata": {
  "kernelspec": {
   "display_name": "Python [conda env:npl-XTND]",
   "language": "python",
   "name": "conda-env-npl-XTND-py"
  },
  "language_info": {
   "codemirror_mode": {
    "name": "ipython",
    "version": 3
   },
   "file_extension": ".py",
   "mimetype": "text/x-python",
   "name": "python",
   "nbconvert_exporter": "python",
   "pygments_lexer": "ipython3",
   "version": "3.8.13"
  }
 },
 "nbformat": 4,
 "nbformat_minor": 5
}
