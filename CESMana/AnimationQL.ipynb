{
 "cells": [
  {
   "cell_type": "code",
   "execution_count": null,
   "id": "abda101d-5eee-4761-b122-27066e2274d0",
   "metadata": {},
   "outputs": [],
   "source": [
    "#workdir_ = '/glade/work/juliob/'\n",
    "import sys\n",
    "#######################################\n",
    "# Leave this for now. But it should change to better\n",
    "# method as here:\n",
    "import os\n",
    "This_module_path = os.getcwd()  #os.path.dirname(os.path.abspath(__file__))\n",
    "workdir_ = os.path.join(This_module_path, '../../' )\n",
    "# sys.path.append(utils_path)\n",
    "# print( f\" a path added in {__name__} {utils_path} \")\n",
    "\n",
    "print( f\" In {__name__} we have This_module_path={This_module_path} \" )\n",
    "print( f\" In {__name__} we have workdir_={workdir_} \" )\n",
    "########################################\n",
    "sys.path.append(workdir_ + 'myPythonTools/GenlTools/')\n",
    "sys.path.append(workdir_ + 'myPythonTools/Utils/')\n",
    "sys.path.append(workdir_ + 'myPythonTools/Plotting/')\n",
    "#sys.path.append(workdir_ + 'PyRegridding/Regridder/')\n",
    "sys.path.append(workdir_ + 'PyRegridding/Utils/')\n",
    "\n",
    "# Own local packages\n",
    "import AveragingUtils as Av\n",
    "#import VertRegridFlexLL as Vrg  # This is toxic for some reason\n",
    "import PlotUtil as Pu\n",
    "import utils as uti\n",
    "import validation_data as Val\n",
    "import var_A_x_B as vAB\n",
    "import MakePressures as MkP\n",
    "import GridUtils as GrU\n",
    "import LatLonMaps as LL\n",
    "\n",
    "# The usual\n",
    "from datetime import date\n",
    "import numpy as np\n",
    "import xarray as xr\n",
    "import matplotlib.pyplot as plt\n",
    "import matplotlib.tri as tri\n",
    "\n",
    "# Cartopy for pretty maps\n",
    "import cartopy\n",
    "import cartopy.crs as ccrs\n",
    "import cartopy.feature as cfeature\n",
    "\n",
    "# Some other useful packages \n",
    "import importlib\n",
    "import copy\n",
    "import time\n",
    "import cftime\n",
    "\n",
    "importlib.reload( LL )\n",
    "importlib.reload( uti )\n",
    "importlib.reload( Pu )\n",
    "importlib.reload(Av)\n",
    "importlib.reload(Val)\n",
    "importlib.reload(vAB)\n",
    "importlib.reload(MkP)\n"
   ]
  },
  {
   "cell_type": "code",
   "execution_count": null,
   "id": "6ec50955-93bd-42b9-ae29-cd743ff5a5a2",
   "metadata": {},
   "outputs": [],
   "source": [
    "import matplotlib\n",
    "print(matplotlib.__version__)\n",
    "print(cartopy.__version__)"
   ]
  },
  {
   "cell_type": "raw",
   "id": "fb84ab97-fc7c-4241-ae9c-a20c60c75876",
   "metadata": {},
   "source": [
    "in 2022-b 3.5.2, 0.20.3\n",
    "in 2023-b 3.7.3, 0.21.1"
   ]
  },
  {
   "cell_type": "code",
   "execution_count": null,
   "id": "52b6595e-abd7-4c3c-9ff6-37acaab1afb0",
   "metadata": {},
   "outputs": [],
   "source": [
    "#####\n",
    "subd='hist'\n",
    "exp_C,user_C = 'fmtndg2000_MM_x22_2' , 'juliob'\n",
    "exp_X,user_X = 'fmtndg2000_MM_x22_2' , 'juliob'\n",
    "\n",
    "#path_C = uti.MakePath( exp=exp_C, user=user_C, subd=subd , hsPat='cam.h3',verbose=True )\n",
    "path_X = uti.MakePath( exp=exp_X, user=user_X, subd=subd , hsPat='cam.h3', ymdPat='2001-09-*',verbose=True )\n",
    "\n",
    "#Dc = xr.open_mfdataset( path_C ,data_vars='different', coords='different' )\n",
    "Dx = xr.open_mfdataset( path_X ,data_vars='different', coords='different' )"
   ]
  },
  {
   "cell_type": "code",
   "execution_count": null,
   "id": "ed41ca42-42a8-42d1-b1ca-c411fbe5c43b",
   "metadata": {},
   "outputs": [],
   "source": [
    "Dx"
   ]
  },
  {
   "cell_type": "code",
   "execution_count": null,
   "id": "50830be9-1bf3-4ef0-9f6c-fb7205a4e071",
   "metadata": {},
   "outputs": [],
   "source": [
    "########################\n",
    "# Some massaging\n",
    "########################\n",
    "\n",
    "hyai_x=Dx.hyai.values\n",
    "hybi_x=Dx.hybi.values\n",
    "hyam_x=Dx.hyam.values\n",
    "hybm_x=Dx.hybm.values\n",
    "\n",
    "#ps_x =Dx.PS.values\n",
    "lon_x=Dx.lon.values\n",
    "lat_x=Dx.lat.values\n",
    "lev_x=Dx.lev.values\n",
    "zlev_x=-7.0*np.log( lev_x/1_000. )\n"
   ]
  },
  {
   "cell_type": "code",
   "execution_count": null,
   "id": "e57945b0-9592-43d4-b11a-8efcb965a17e",
   "metadata": {},
   "outputs": [],
   "source": [
    "\n",
    "lon0,lat0=100.,-50.\n",
    "zoog = np.where( (np.abs(lat_x - lat0)<1)&(np.abs(lon_x - lon0)<1) )\n",
    "print(zoog[0])"
   ]
  },
  {
   "cell_type": "code",
   "execution_count": null,
   "id": "2d4bdcf8-0f9a-4d6a-87a9-44c5c6264895",
   "metadata": {},
   "outputs": [],
   "source": [
    "\n",
    "wpthlp=Dx.WPTHLP_CLUBB_GW.values\n",
    "data=wpthlp"
   ]
  },
  {
   "cell_type": "code",
   "execution_count": null,
   "id": "b03c0aa1-4428-40bd-a005-43f36787a460",
   "metadata": {},
   "outputs": [],
   "source": [
    "\n",
    "levels=0.001*np.linspace(-200, 200, num=21)\n",
    "plt.tricontourf( lon_x, lat_x, data[0,92,:],levels=levels)"
   ]
  },
  {
   "cell_type": "code",
   "execution_count": null,
   "id": "1c5436a4-36e3-4422-b22f-2ce8cd8daf46",
   "metadata": {},
   "outputs": [],
   "source": [
    "from matplotlib.animation import FuncAnimation\n",
    "from IPython.display import HTML\n",
    "\n",
    "\n",
    "\n",
    "# Create the figure and axis\n",
    "# levels=0.001*np.linspace(-200, 200, num=21)\n",
    "fig, ax = plt.subplots()\n",
    "contour = ax.tricontourf(lon_x, lat_x, data[0, 92, :], levels=levels, cmap='viridis')\n",
    "cbar = plt.colorbar(contour, ax=ax, shrink=0.6)  # Create colorbar\n",
    "\n",
    "# Update function for the animation\n",
    "def update(frame):\n",
    "    global contour\n",
    "    for coll in contour.collections:\n",
    "        coll.remove()  # Remove existing contour collections\n",
    "    contour = ax.tricontourf(lon_x, lat_x, data[frame, 92, :], levels=levels, cmap='viridis')\n",
    "    cbar.update_normal(contour)  # Update colorbar\n",
    "    #cbar = plt.colorbar(contour, shrink=.6)\n",
    "    return contour.collections\n",
    "\n",
    "# Create and display the animation\n",
    "ani = FuncAnimation(fig, update, frames=120, interval=50, blit=True)\n",
    "plt.close()  # Prevents the initial empty plot from showing up\n",
    "HTML(ani.to_html5_video())"
   ]
  },
  {
   "cell_type": "code",
   "execution_count": null,
   "id": "c4d7f5f4-91a9-42bf-859b-1e436fe66a7e",
   "metadata": {},
   "outputs": [],
   "source": [
    "# Step 7: Save the animation as HTML5 video\n",
    "ani.save('animation-wpthlp-Sep-2001.mp4', writer='ffmpeg')"
   ]
  },
  {
   "cell_type": "code",
   "execution_count": null,
   "id": "e8c9844a-c5e0-4d10-9bd3-78a2616b7898",
   "metadata": {},
   "outputs": [],
   "source": [
    "import math\n",
    "result = math.ceil(22 / 3)\n",
    "print(result)  # "
   ]
  },
  {
   "cell_type": "code",
   "execution_count": null,
   "id": "52c95e16-1a6c-4fb4-9360-aed87d13d644",
   "metadata": {},
   "outputs": [],
   "source": []
  }
 ],
 "metadata": {
  "kernelspec": {
   "display_name": "NPL 2023b",
   "language": "python",
   "name": "npl-2023b"
  },
  "language_info": {
   "codemirror_mode": {
    "name": "ipython",
    "version": 3
   },
   "file_extension": ".py",
   "mimetype": "text/x-python",
   "name": "python",
   "nbconvert_exporter": "python",
   "pygments_lexer": "ipython3",
   "version": "3.10.12"
  }
 },
 "nbformat": 4,
 "nbformat_minor": 5
}
