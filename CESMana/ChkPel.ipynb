{
 "cells": [
  {
   "cell_type": "code",
   "execution_count": null,
   "id": "abda101d-5eee-4761-b122-27066e2274d0",
   "metadata": {},
   "outputs": [],
   "source": [
    "################################################\n",
    "# New style \n",
    "################################################\n",
    "import sys\n",
    "import os\n",
    "\n",
    "workdir_ = '/glade/work/juliob'\n",
    "if ( workdir_ not in sys.path ):\n",
    "    sys.path.append(workdir_)\n",
    "    print( f\" a path to {workdir_} added in {__name__} \")\n",
    "\n",
    "from myPythonTools.Utils import utils as uti\n",
    "from myPythonTools.Utils import numerical_utils as nuti\n",
    "from myPythonTools.Utils import AveragingUtils as Av\n",
    "from myPythonTools.Utils import validation_data as Val\n",
    "from myPythonTools.Utils import PlotUtil as Pu\n",
    "from myPythonTools.Plotting import LatLonMaps as LL \n",
    "from myPythonTools.CASutils import filter_utils as fu \n",
    "\n",
    "from PyRegridding.Utils import GridUtils as GrU\n",
    "from PyRegridding.Utils import MakePressures as MkP\n",
    "from PyRegridding.Drivers import RegridField as RgF\n",
    "\n",
    "\n",
    "# The usual\n",
    "from datetime import date\n",
    "import numpy as np\n",
    "import xarray as xr\n",
    "import matplotlib.pyplot as plt\n",
    "import matplotlib.tri as tri\n",
    "\n",
    "# Cartopy for pretty maps\n",
    "import cartopy\n",
    "import cartopy.crs as ccrs\n",
    "import cartopy.feature as cfeature\n",
    "\n",
    "# Some other useful packages \n",
    "import importlib\n",
    "import copy\n",
    "import time\n",
    "import cftime\n",
    "\n",
    "importlib.reload( uti )\n",
    "importlib.reload( Pu )\n",
    "importlib.reload(Av)\n",
    "importlib.reload(Val)\n",
    "#importlib.reload(vAB)\n",
    "importlib.reload(MkP)\n",
    "importlib.reload(RgF)\n"
   ]
  },
  {
   "cell_type": "code",
   "execution_count": null,
   "id": "12bf7566-9818-41f1-938b-9591865f3522",
   "metadata": {},
   "outputs": [],
   "source": [
    "### Make a list of files\n",
    "import yaml\n",
    "#from box import Box\n",
    "\n",
    "\n"
   ]
  },
  {
   "cell_type": "code",
   "execution_count": null,
   "id": "aaf81d95-f4f7-479f-b687-b15cfc03042a",
   "metadata": {},
   "outputs": [],
   "source": [
    "with open('ChkRuns.yaml', 'r') as file:\n",
    "    cfg = yaml.safe_load(file)\n",
    "\n",
    "\n",
    "xl= ['A_1','A_3'] #'ne240x2_QxQsst']\n",
    "Al =[]\n",
    "for x in xl:\n",
    "    exp, subd, Src, Hkey, Dst, useri = cfg[x]['name'] , cfg[x]['subdir'] , cfg[x]['SrcGrid'] , cfg[x]['Hkey'] , cfg[x]['DstGrid'] , cfg[x]['user'] \n",
    "    ymdPat = '1985-01' #cfg[x]['ymdPat']\n",
    "    print( exp, subd, Src, Hkey, Dst, useri )\n",
    "    print( ymdPat  )\n",
    "    \n",
    "    A = uti.MakeDict4Exp( exp=exp , user=useri, subd=subd , \n",
    "                     hsPat='cam.h0a' , ymdPat=ymdPat,verbose=True, open_dataset=True )\n",
    "    A['Src']=Src\n",
    "    A['Hkey']=Hkey\n",
    "    Al.append( A )\n",
    "    print( f'{A.exp} Years {len(A.X.time) /12. } \\n')\n"
   ]
  },
  {
   "cell_type": "code",
   "execution_count": null,
   "id": "c505d182-9aba-43f5-9f0c-47e0ab9ccbb2",
   "metadata": {},
   "outputs": [],
   "source": [
    "\n",
    "\n",
    "#plt.plot( Al[0].X.U[0,10,:].values )\n",
    "plt.plot( Al[1].X.U[0,10,:].values-Al[0].X.U[0,10,:].values  )"
   ]
  },
  {
   "cell_type": "code",
   "execution_count": null,
   "id": "82049be3-cc68-4498-a118-4f24e324e334",
   "metadata": {},
   "outputs": [],
   "source": [
    "# Create a figure with a 2x2 grid of subplots\n",
    "fig, ax = plt.subplots(1, 3, figsize=(20, 5))\n",
    "\n",
    "# Flatten axs to easily access each subplot by index\n",
    "ax = ax.flatten()\n",
    "\n",
    "#GGG\n",
    "\n",
    "ax[0].tricontour( Al[1].X.lon.values, Al[1].X.lat.values, Al[0].X.U[0,10,:].values)\n",
    "ax[0].set_title( Al[0].exp )\n",
    "ax[1].tricontour( Al[1].X.lon.values, Al[1].X.lat.values, Al[1].X.U[0,10,:].values)\n",
    "ax[1].set_title( Al[1].exp )\n",
    "ax[2].tricontour( Al[1].X.lon.values, Al[1].X.lat.values, Al[1].X.U[0,10,:].values - Al[0].X.U[0,10,:].values )\n"
   ]
  },
  {
   "cell_type": "code",
   "execution_count": null,
   "id": "afe1266c-390c-4630-8283-867246aadcc9",
   "metadata": {},
   "outputs": [],
   "source": []
  }
 ],
 "metadata": {
  "kernelspec": {
   "display_name": "NPL 2024b",
   "language": "python",
   "name": "npl-2024b"
  },
  "language_info": {
   "codemirror_mode": {
    "name": "ipython",
    "version": 3
   },
   "file_extension": ".py",
   "mimetype": "text/x-python",
   "name": "python",
   "nbconvert_exporter": "python",
   "pygments_lexer": "ipython3",
   "version": "3.11.9"
  }
 },
 "nbformat": 4,
 "nbformat_minor": 5
}
