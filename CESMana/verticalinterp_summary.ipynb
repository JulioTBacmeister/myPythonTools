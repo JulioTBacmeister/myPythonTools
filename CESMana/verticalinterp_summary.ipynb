{
 "cells": [
  {
   "cell_type": "markdown",
   "id": "c7b62eab-95a2-4d2c-8c77-4dd8dd134112",
   "metadata": {},
   "source": [
    "### Below, when I refer to \"model level data\" that's on the hybrid coordinates, whereas \"pressure level data\" is on pressure levels"
   ]
  },
  {
   "cell_type": "code",
   "execution_count": null,
   "id": "f7a7d575-8f26-4ef6-833f-294225a49ec7",
   "metadata": {},
   "outputs": [],
   "source": [
    "import xarray as xr\n",
    "import numpy as np\n",
    "import matplotlib.pyplot as plt\n",
    "from math import nan\n",
    "import xesmf as xe\n",
    "\n",
    "from myPythonTools.CASutils import regrid_utils as regrid\n",
    "from myPythonTools.CASutils import mapplot_utils as mymaps\n",
    "import isla_interp_utils as isla_interp\n",
    "import importlib\n",
    "importlib.reload(regrid)\n",
    "import warnings\n",
    "warnings.filterwarnings('ignore')\n",
    "from scipy import interpolate as intr\n",
    "import dask"
   ]
  },
  {
   "cell_type": "code",
   "execution_count": null,
   "id": "87932a50-ffb9-4841-91bc-a227586ddf66",
   "metadata": {},
   "outputs": [],
   "source": [
    "# get the workers going\n",
    "from dask_jobqueue import PBSCluster\n",
    "from dask.distributed import Client\n",
    "\n",
    "cluster = PBSCluster(\n",
    "    cores = 1,\n",
    "    memory = '30GB',\n",
    "    processes = 1,\n",
    "    queue = 'casper',\n",
    "    local_directory='$TMPDIR',\n",
    "    resource_spec='select=1:ncpus=1:mem=30GB',\n",
    "    project='P04010022',\n",
    "    walltime='03:00:00',\n",
    "    interface='mgt')\n",
    "\n",
    "# scale up\n",
    "cluster.scale(24)\n",
    "\n",
    "# change your urls to the dask dashboard so that you can see it\n",
    "dask.config.set({'distributed.dashboard.link':'https://jupyterhub.hpc.ucar.edu/stable/user/{USER}/proxy/{port}/status'})\n",
    "\n",
    "# Setup your client\n",
    "client = Client(cluster)"
   ]
  },
  {
   "cell_type": "code",
   "execution_count": null,
   "id": "31bbbb24-9362-48b9-b98e-da109bbb8a4f",
   "metadata": {},
   "outputs": [],
   "source": [
    "client"
   ]
  },
  {
   "cell_type": "code",
   "execution_count": null,
   "id": "ae01f61d-3682-46da-91c4-f8b4dc79b8a7",
   "metadata": {},
   "outputs": [],
   "source": [
    "cluster"
   ]
  },
  {
   "cell_type": "markdown",
   "id": "68b71b85-c548-4340-8e85-91816c6a7eca",
   "metadata": {},
   "source": [
    "### Reading in a file on the f09 grid to get out the lons and lats for regridding"
   ]
  },
  {
   "cell_type": "code",
   "execution_count": null,
   "id": "df439d86-76ba-4bc3-84de-e326c47bd180",
   "metadata": {},
   "outputs": [],
   "source": [
    "ic = xr.open_dataset(\"/glade/campaign/cgd/cas/islas/python_savs/CESM3_dev/enso/ERA5_IC/fv0.9x1.25/julio/fv1x1/L58/ERA5_x_fv1x1_L58_rgC1_WO.1997-11-01-00000.nc\").load()"
   ]
  },
  {
   "cell_type": "markdown",
   "id": "1cee3cd4-7b0f-4ec8-a6f7-e80dfbb099e8",
   "metadata": {},
   "source": [
    "### Reading in the ERA5 pressure level data and grabbing out 10 hPa and regridding horizontally to the f09 grid.  This will be our truth as it's the data on pressure levels provided by ERA5"
   ]
  },
  {
   "cell_type": "code",
   "execution_count": null,
   "id": "d401d278-e2b5-464f-9a8a-563c16d1cde1",
   "metadata": {},
   "outputs": [],
   "source": [
    "era5_plev = xr.open_dataset(\"/glade/campaign/collections/rda/data/ds633.0/e5.oper.an.pl/199711/e5.oper.an.pl.128_130_t.ll025sc.1997110100_1997110123.nc\").isel(time=0)\n",
    "era5_plev = era5_plev.sel(level=10., method='nearest') - 273.15\n",
    "\n",
    "era5_plev_rg = regrid.regrid_conservative(era5_plev, era5_plev.longitude, era5_plev.latitude, ic.lon, ic.lat, reuse_wgts=False,\n",
    "                                          wgtfile='/glade/derecho/scratch/islas/temp.nc')\n",
    "era5_plev_rg = era5_plev_rg.load()"
   ]
  },
  {
   "cell_type": "markdown",
   "id": "80ff7f33-cb4d-4948-9ac9-d82735b2e4bf",
   "metadata": {},
   "source": [
    "### Plotting up the ERA5 pressure level temperature field"
   ]
  },
  {
   "cell_type": "code",
   "execution_count": null,
   "id": "7a6b0ae1-ac0b-4333-98c0-20144f218cb7",
   "metadata": {},
   "outputs": [],
   "source": [
    "fig = plt.figure(figsize=(16,16))\n",
    "\n",
    "ax = mymaps.contourmap_bothcontinents_robinson_pos(fig, era5_plev_rg.T, era5_plev_rg.lon, era5_plev_rg.lat,\n",
    "                                                   2,-50,-10,'ERA5 pressure level data',0.05,0.35,0.8,0.97)"
   ]
  },
  {
   "cell_type": "markdown",
   "id": "46104209-bfef-4fc0-bab0-0b835d7e3eb9",
   "metadata": {},
   "source": [
    "### Reading in the interpolated data from Jerry's code and then interpolating from hybrid to pressure using geocat vertical interpolation.  This started from the data on the 1280x640 grid"
   ]
  },
  {
   "cell_type": "code",
   "execution_count": null,
   "id": "ef54235a-6717-469e-b5c9-65d1778c6c0d",
   "metadata": {},
   "outputs": [],
   "source": [
    "oldic = xr.open_dataset(\"/glade/campaign/cesm/development/espwg/SMYLE-ERA5-L83/inputdata/cesm2_init/b.e21.SMYLE_ERA5_L83_IC.f09_g17.1997-11.01/1997-11-01/\"+\n",
    "                        \"b.e21.SMYLE_ERA5_L83_IC.f09_g17.1997-11.01.cam.i.1997-11-01-00000.nc\",\n",
    "                       decode_times=False).load()\n",
    "oldic['lon'] = ic.lon.values ; oldic['lat'] = ic.lat.values"
   ]
  },
  {
   "cell_type": "code",
   "execution_count": null,
   "id": "1587f90d-0e86-442e-88a3-ac505840bdf4",
   "metadata": {},
   "outputs": [],
   "source": [
    "oldic_plev = isla_interp.interp_hybrid_to_pressure(\n",
    "    oldic.T, oldic.PS, oldic.hyam, oldic.hybm, p0=1e5, new_levels=np.array([90000.,70000.,50000.,25000.,10000.,1000.]), method='log',\n",
    "    lev_dim='lev', extrapolate=False, variable='temperature', t_bot=oldic.T.isel(lev=oldic.lev.size-1), phi_sfc=oldic.PHIS)"
   ]
  },
  {
   "cell_type": "code",
   "execution_count": null,
   "id": "a2ad29c0-c0dd-47ef-83ea-d518cc77ae2d",
   "metadata": {},
   "outputs": [],
   "source": [
    "oldic_plev = oldic_plev.T.sel(plev=100.*10.).isel(time=0)"
   ]
  },
  {
   "cell_type": "code",
   "execution_count": null,
   "id": "b1130587-5a70-4233-93e6-f895da1c8f39",
   "metadata": {},
   "outputs": [],
   "source": [
    "oldic_plev = oldic_plev.transpose('lat','lon')"
   ]
  },
  {
   "cell_type": "code",
   "execution_count": null,
   "id": "dd5cdb32-3a88-4975-9661-8df7fa366307",
   "metadata": {},
   "outputs": [],
   "source": [
    "oldic_plev = oldic_plev - 273.15"
   ]
  },
  {
   "cell_type": "markdown",
   "id": "96367cb7-307e-4ce6-89e1-52219686cd8e",
   "metadata": {},
   "source": [
    "### Reading in the interpolated data from Julio's code and then interpolating from hybrid to pressure using geocat vertical interpolation.  This also started from the data on the 1280x640 grid"
   ]
  },
  {
   "cell_type": "code",
   "execution_count": null,
   "id": "ede4cda5-31fe-4a2c-98c5-c468d0e9f393",
   "metadata": {},
   "outputs": [],
   "source": [
    "ic = xr.open_dataset(\"/glade/campaign/cgd/cas/islas/python_savs/CESM3_dev/enso/ERA5_IC/fv0.9x1.25/julio/fv1x1/L58/ERA5_x_fv1x1_L58_rgC1_WO.1997-11-01-00000.nc\").load()"
   ]
  },
  {
   "cell_type": "code",
   "execution_count": null,
   "id": "6ad89f88-d9cd-459b-b982-2bed1b03d8f4",
   "metadata": {},
   "outputs": [],
   "source": [
    "ic_plev = isla_interp.interp_hybrid_to_pressure(\n",
    "    ic.T, ic.PS, ic.hyam, ic.hybm, p0=1e5, new_levels=np.array([90000.,70000.,50000., 25000., 10000.,1000.]), method='log',\n",
    "    lev_dim='lev', extrapolate=False, variable='temperature',t_bot = ic.T.isel(lev=ic.lev.size-1), phi_sfc=ic.PHIS)\n",
    "ic_plev = ic_plev.load()"
   ]
  },
  {
   "cell_type": "code",
   "execution_count": null,
   "id": "7addbbd5-766f-4acd-809e-59c69feb09d2",
   "metadata": {},
   "outputs": [],
   "source": [
    "ic_plev = ic_plev.T.sel(plev=100.*10.).isel(time=0)"
   ]
  },
  {
   "cell_type": "code",
   "execution_count": null,
   "id": "7a2b09b4-a6f2-4338-8f51-f750c6f69f4f",
   "metadata": {},
   "outputs": [],
   "source": [
    "ic_plev = ic_plev.transpose('lat','lon')"
   ]
  },
  {
   "cell_type": "code",
   "execution_count": null,
   "id": "3f2aed64-0aa5-47f7-a99e-1d7421ae07ba",
   "metadata": {},
   "outputs": [],
   "source": [
    "ic_plev = ic_plev - 273.15"
   ]
  },
  {
   "cell_type": "markdown",
   "id": "f0c552a7-a6f7-4cb0-824c-1e2e78063e3f",
   "metadata": {},
   "source": [
    "### The difference between from the ERA5 pressure level baseline for Jerry's and Julio's script output"
   ]
  },
  {
   "cell_type": "code",
   "execution_count": null,
   "id": "f2147972-e558-4a58-beeb-4d00859bec4c",
   "metadata": {},
   "outputs": [],
   "source": [
    "fig = plt.figure(figsize=(16,16))\n",
    "\n",
    "ax = mymaps.contourmap_bothcontinents_robinson_pos(fig, oldic_plev - era5_plev_rg.T, era5_plev_rg.lon, era5_plev_rg.lat,\n",
    "                                                   0.1,-2,2,\"Jerry's code\",0.05,0.35,0.8,0.97)\n",
    "\n",
    "ax = mymaps.contourmap_bothcontinents_robinson_pos(fig, ic_plev - era5_plev_rg.T, era5_plev_rg.lon, era5_plev_rg.lat,\n",
    "                                                   0.1,-2,2,\"Julio's code\",0.38,0.68,0.8,0.97)"
   ]
  },
  {
   "cell_type": "markdown",
   "id": "4d82eebd-72c3-4de9-888e-19033957e9ad",
   "metadata": {},
   "source": [
    "### The above shows that there are bigger differences in the 10 hPa values in Julio's code compared to Jerry's code when comparing to the ERA5 pressure level data"
   ]
  },
  {
   "cell_type": "markdown",
   "id": "c05b48b6-c1c8-4a65-89c2-195f5c7b7418",
   "metadata": {},
   "source": [
    "### Now I'm just trying to do the interpolation myself, starting from the same model level data as Julio's code i.e., the data at /glade/campaign/collections/rda/data/ds633.6/e5.oper.an.ml"
   ]
  },
  {
   "cell_type": "markdown",
   "id": "94e42630-313e-4800-a361-4ee267055f67",
   "metadata": {},
   "source": [
    "### Reading in the ERA5 data"
   ]
  },
  {
   "cell_type": "code",
   "execution_count": null,
   "id": "36b0951b-d839-4052-8135-d25947580b52",
   "metadata": {},
   "outputs": [],
   "source": [
    "era5 = xr.open_dataset(\n",
    "    \"/glade/campaign/collections/rda/data/ds633.6/e5.oper.an.ml/199711/e5.oper.an.ml.0_5_0_0_0_t.regn320sc.1997110100_1997110105.nc\"\n",
    "     ).isel(time=0)\n",
    "era5_ps = xr.open_dataset(\n",
    "    \"/glade/campaign/collections/rda/data/ds633.6/e5.oper.an.ml/199711/e5.oper.an.ml.128_134_sp.regn320sc.1997110100_1997110105.nc\"\n",
    "     ).isel(time=0)\n",
    "phisera5 = xr.open_dataset('/glade/u/home/islas/python/ERA5interp/phis/ERA5_phis.nc')\n",
    "phisera5 = phisera5.rename({'g4_lon_3':'longitude', 'g4_lat_2':'latitude'})"
   ]
  },
  {
   "cell_type": "markdown",
   "id": "904dd9d5-332c-46e0-b4ee-e7384667168a",
   "metadata": {},
   "source": [
    "### Regrid in the horizontal direction"
   ]
  },
  {
   "cell_type": "code",
   "execution_count": null,
   "id": "caa9027f-4743-4532-bc37-74c7825c7abf",
   "metadata": {},
   "outputs": [],
   "source": [
    "era5_rg = regrid.regrid_conservative(era5.T, era5.longitude, era5.latitude, ic.lon, ic.lat, reuse_wgts=False,\n",
    "                                     wgtfile='/glade/derecho/scratch/islas/temp.nc')\n",
    "era5_ps_rg = regrid.regrid_conservative(era5_ps.SP, era5.longitude, era5.latitude, ic.lon, ic.lat, reuse_wgts=True,\n",
    "                                        wgtfile='/glade/derecho/scratch/islas/temp.nc')\n",
    "phisera5_rg = regrid.regrid_conservative(phisera5.Z_GDS4_SFC, phisera5.longitude, phisera5.latitude,\n",
    "                                       ic.lon, ic.lat, reuse_wgts=True,wgtfile='/glade/derecho/scratch/islas/temp.nc')"
   ]
  },
  {
   "cell_type": "markdown",
   "id": "b46af3b7-8572-4432-8032-aa5083add8e3",
   "metadata": {},
   "source": [
    "### Vertically interpolate using GeoCAT"
   ]
  },
  {
   "cell_type": "code",
   "execution_count": null,
   "id": "f5b7add7-609c-480e-b6d5-2544f15569d8",
   "metadata": {},
   "outputs": [],
   "source": [
    "era5_plev_geocat = isla_interp.interp_hybrid_to_pressure(\n",
    "    era5_rg, era5_ps_rg, era5.a_model, era5.b_model, p0=1, new_levels=np.array([90000.,70000.,50000., 25000., 10000.,1000.]), method='log',\n",
    "    lev_dim='level', extrapolate=False, variable=\"temperature\",\n",
    "    t_bot = era5_rg.isel(level=era5_rg.level.size-1), phi_sfc = phisera5_rg)\n",
    "era5_plev_geocat = era5_plev_geocat.load()"
   ]
  },
  {
   "cell_type": "code",
   "execution_count": null,
   "id": "cacb9fd2-29f1-4323-b92f-3e553dac84d4",
   "metadata": {},
   "outputs": [],
   "source": [
    "era5_plev_geocat = era5_plev_geocat.sel(plev=10.*100.)"
   ]
  },
  {
   "cell_type": "code",
   "execution_count": null,
   "id": "bcade91c-4108-4054-b5d8-a252fce3a980",
   "metadata": {},
   "outputs": [],
   "source": [
    "era5_plev_geocat = era5_plev_geocat - 273.15"
   ]
  },
  {
   "cell_type": "markdown",
   "id": "824f1b41-6988-4b6d-bcff-df10f4a27d4c",
   "metadata": {},
   "source": [
    "### Vertically interpolate using SciPy (like Julio)"
   ]
  },
  {
   "cell_type": "code",
   "execution_count": null,
   "id": "0677f240-4bd4-4910-ac3d-ddd764f2c3a2",
   "metadata": {},
   "outputs": [],
   "source": [
    "plevs = np.array([90000.,70000.,50000., 25000., 10000., 1000.])\n",
    "pvals = era5.a_model + era5.b_model*era5_ps_rg\n",
    "era5_plev_scipy = xr.DataArray(np.zeros([len(plevs),era5_rg.lat.size, era5_rg.lon.size]), dims=['plev','lat','lon'], coords=[plevs, era5_rg.lat, era5_rg.lon], name='era5_plev_scipy')\n",
    "for ilon in np.arange(0,era5_rg.lon.size,1):\n",
    "    print(ilon)\n",
    "    for ilat in np.arange(0,era5_rg.lat.size,1):\n",
    "        fintr = intr.interp1d(pvals.isel(lon=ilon, lat=ilat), era5_rg.isel(lon=ilon, lat=ilat), fill_value=\"extrapolate\", kind = 'linear')\n",
    "        era5_plev_scipy[:,ilat,ilon] = fintr(plevs)"
   ]
  },
  {
   "cell_type": "code",
   "execution_count": null,
   "id": "178e8004-158b-4b0a-9844-729a05155331",
   "metadata": {},
   "outputs": [],
   "source": [
    "era5_plev_scipy = era5_plev_scipy.sel(plev=10.*100.)"
   ]
  },
  {
   "cell_type": "code",
   "execution_count": null,
   "id": "25aa1e44-8096-49ea-b510-643dc904f4f0",
   "metadata": {},
   "outputs": [],
   "source": [
    "era5_plev_scipy = era5_plev_scipy - 273.15"
   ]
  },
  {
   "cell_type": "code",
   "execution_count": null,
   "id": "eb4ce1ac-4ac6-4642-b4f2-2ef2cabb9a9a",
   "metadata": {},
   "outputs": [],
   "source": [
    "test = era5_plev_geocat - era5_plev_rg.T"
   ]
  },
  {
   "cell_type": "code",
   "execution_count": null,
   "id": "09203ea9-3684-4a02-af46-86639e70901d",
   "metadata": {},
   "outputs": [],
   "source": [
    "np.max(test)"
   ]
  },
  {
   "cell_type": "markdown",
   "id": "0ee758e3-7b92-4190-888f-ed6e9740e52b",
   "metadata": {},
   "source": [
    "### Plotting the difference between these interpolated fields and ERA5 pressure level data"
   ]
  },
  {
   "cell_type": "code",
   "execution_count": null,
   "id": "2d7797d0-30dd-48ae-9bd1-0704dbc6b756",
   "metadata": {},
   "outputs": [],
   "source": [
    "fig = plt.figure(figsize=(16,16))\n",
    "\n",
    "test = era5_plev_geocat - era5_plev_rg.T\n",
    "ax = mymaps.contourmap_bothcontinents_robinson_pos(fig, test, test.lon, test.lat,\n",
    "                                                   0.1,-2,2,\"GoeCat interpolation\",0.05,0.35,0.8,0.97)\n",
    "\n",
    "ax = mymaps.contourmap_bothcontinents_robinson_pos(fig, era5_plev_scipy - era5_plev_rg.T, era5_plev_rg.lon, era5_plev_rg.lat,\n",
    "                                                   0.1,-2,2,\"Scipy interpolation\",0.38,0.68,0.8,0.97)"
   ]
  },
  {
   "cell_type": "markdown",
   "id": "66586e9a-5faf-496f-a116-0911c7c8da1a",
   "metadata": {},
   "source": [
    "### The above shows that when I interpolate my way, conservative remapping in the horizontal using xESMF and then vertical interpolation either using GeoCAT or Scipy (as Julio) then I get even smaller errors than Jerry's code when comparing against the ERA5 pressure level data"
   ]
  },
  {
   "cell_type": "markdown",
   "id": "8036aaf8-57d7-409e-b923-164cfbbd6ee6",
   "metadata": {},
   "source": [
    "### Now I'm testing the sensitivity to the ordering.  The above is interpolating horizontally and then vertically.  Now I'm interpolating vertically and then horizontally, using the GEOCAT vertical interpolation method"
   ]
  },
  {
   "cell_type": "markdown",
   "id": "d83fcb78-4e94-4653-9aae-bd076905f693",
   "metadata": {},
   "source": [
    "### Reading in the ERA5 data"
   ]
  },
  {
   "cell_type": "code",
   "execution_count": null,
   "id": "32a6c40d-3b83-4d09-a48f-1a30aa9758cf",
   "metadata": {},
   "outputs": [],
   "source": [
    "era5 = xr.open_dataset(\n",
    "    \"/glade/campaign/collections/rda/data/ds633.6/e5.oper.an.ml/199711/e5.oper.an.ml.0_5_0_0_0_t.regn320sc.1997110100_1997110105.nc\"\n",
    "     ).isel(time=0)\n",
    "era5_ps = xr.open_dataset(\n",
    "    \"/glade/campaign/collections/rda/data/ds633.6/e5.oper.an.ml/199711/e5.oper.an.ml.128_134_sp.regn320sc.1997110100_1997110105.nc\"\n",
    "     ).isel(time=0)\n",
    "phisera5 = xr.open_dataset('/glade/u/home/islas/python/ERA5interp/phis/ERA5_phis.nc')\n",
    "phisera5 = phisera5.rename({'g4_lon_3':'longitude', 'g4_lat_2':'latitude'})"
   ]
  },
  {
   "cell_type": "markdown",
   "id": "1a59317d-c2e0-420c-8fab-b44440aca1f2",
   "metadata": {},
   "source": [
    "### Vertical interpolation"
   ]
  },
  {
   "cell_type": "code",
   "execution_count": null,
   "id": "bb1bb687-6284-48cd-b0d2-145129e9b042",
   "metadata": {},
   "outputs": [],
   "source": [
    "era5_plev = isla_interp.interp_hybrid_to_pressure(\n",
    "    era5.T, era5_ps.SP, era5.a_model, era5.b_model, p0=1, new_levels=np.array([90000.,70000.,50000., 25000., 10000.,1000.]), method='log',\n",
    "    lev_dim='level', extrapolate=False, variable=\"temperature\",\n",
    "    t_bot = era5.T.isel(level=era5.level.size-1), phi_sfc = phisera5)"
   ]
  },
  {
   "cell_type": "markdown",
   "id": "8bbe2b53-c656-446d-b441-ce0e09fb66a5",
   "metadata": {},
   "source": [
    "### Horizontal interpolation (conservative)"
   ]
  },
  {
   "cell_type": "code",
   "execution_count": null,
   "id": "2c26c2ef-afd3-4de3-81b6-95c696122a44",
   "metadata": {},
   "outputs": [],
   "source": [
    "era5_plev_rg_cons = regrid.regrid_conservative(era5_plev, era5_plev.longitude, era5_plev.latitude, ic.lon, ic.lat, reuse_wgts=False, \n",
    "                                               wgtfile='/glade/derecho/scratch/islas/temp.nc')"
   ]
  },
  {
   "cell_type": "markdown",
   "id": "5259fc10-37bb-4d77-9d11-aa83e502f573",
   "metadata": {},
   "source": [
    "### Horizontal interpolation (bilinear)"
   ]
  },
  {
   "cell_type": "code",
   "execution_count": null,
   "id": "1e4c34e4-0118-4c78-a772-697dd93a2686",
   "metadata": {},
   "outputs": [],
   "source": [
    "#era5_plev = era5_plev.rename({'longitude':'lon', 'latitude':'lat'})\n",
    "regridder = xe.Regridder(era5_plev, ic, 'bilinear', reuse_weights=False, filename='/glade/derecho/scratch/islas/temp.nc')\n",
    "era5_plev_rg_bilin = regridder(era5_plev)"
   ]
  },
  {
   "cell_type": "code",
   "execution_count": null,
   "id": "3e98a826-6122-4f9d-9fc3-85f865c60272",
   "metadata": {},
   "outputs": [],
   "source": [
    "era5_plev_rg_cons = era5_plev_rg_cons - 273.15\n",
    "era5_plev_rg_bilin = era5_plev_rg_bilin - 273.15"
   ]
  },
  {
   "cell_type": "code",
   "execution_count": null,
   "id": "32d2317a-39bc-4bd8-84f5-15a10b4e83c6",
   "metadata": {},
   "outputs": [],
   "source": [
    "fig = plt.figure(figsize=(16,16))\n",
    "\n",
    "ax = mymaps.contourmap_bothcontinents_robinson_pos(fig, era5_plev_rg_cons.sel(plev=10*100.) - era5_plev_rg.T, era5_plev_rg_cons.lon, era5_plev_rg_cons.lat,\n",
    "                                                   0.1,-2,2,\"Conservative horizontal\",0.05,0.35,0.8,0.97)\n",
    "\n",
    "ax = mymaps.contourmap_bothcontinents_robinson_pos(fig, era5_plev_rg_bilin.sel(plev=10.*100.) - era5_plev_rg.T, era5_plev_rg_bilin.lon, era5_plev_rg_bilin.lat,\n",
    "                                                   0.1,-2,2,\"Bilinear horizontal\",0.38,0.68,0.8,0.97)"
   ]
  },
  {
   "cell_type": "markdown",
   "id": "7176ae43-b91b-406d-86e1-9c4b75e2bf4c",
   "metadata": {},
   "source": [
    "### Whatever I do, whether that be doing pressure level interpolation first, doing horizontal interpolation first, using geocat or scipy for vertical interpolation or using conservative of bilinear in terpolation for the horizontal regridding, I can't reproduce as large differences as we see with Julio's script"
   ]
  },
  {
   "cell_type": "code",
   "execution_count": null,
   "id": "1fbf586e-7daa-4b24-9bc7-914b81b9477a",
   "metadata": {},
   "outputs": [],
   "source": []
  }
 ],
 "metadata": {
  "kernelspec": {
   "display_name": "NPL 2024b",
   "language": "python",
   "name": "npl-2024b"
  },
  "language_info": {
   "codemirror_mode": {
    "name": "ipython",
    "version": 3
   },
   "file_extension": ".py",
   "mimetype": "text/x-python",
   "name": "python",
   "nbconvert_exporter": "python",
   "pygments_lexer": "ipython3",
   "version": "3.11.9"
  }
 },
 "nbformat": 4,
 "nbformat_minor": 5
}
