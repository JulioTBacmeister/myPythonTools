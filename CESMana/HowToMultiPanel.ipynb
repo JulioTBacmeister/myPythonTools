{
 "cells": [
  {
   "cell_type": "code",
   "execution_count": null,
   "id": "f2b23afc-0e1a-4f95-93a1-36c50b5b3301",
   "metadata": {},
   "outputs": [],
   "source": [
    "import numpy as np\n",
    "import xarray as xr\n",
    "import matplotlib.pyplot as plt\n",
    "from scipy.ndimage import gaussian_filter\n"
   ]
  },
  {
   "cell_type": "code",
   "execution_count": null,
   "id": "b0cb5369-daf2-456c-b740-382718cc3cd2",
   "metadata": {},
   "outputs": [],
   "source": [
    "ny,nx=720,1440\n",
    "ogOll=2.*np.random.rand(ny, nx)-1.\n",
    "ogOx2xOll = gaussian_filter(ogOll , sigma=10.)\n",
    "dogll =  gaussian_filter(ogOll , sigma=3.)"
   ]
  },
  {
   "cell_type": "code",
   "execution_count": null,
   "id": "7e3ce8a1-f960-439c-b090-ffff048fab61",
   "metadata": {},
   "outputs": [],
   "source": [
    "dolev = np.linspace(-1,1,num=21)\n",
    "olev = np.linspace(-1,1,num=21)\n",
    "# Create a figure with a 2x2 grid of subplots\n",
    "fig, ax = plt.subplots(1, 3, figsize=(20, 5))\n",
    "\n",
    "# Flatten axs to easily access each subplot by index\n",
    "ax = ax.flatten()\n",
    "\n",
    "\n",
    "k=70\n",
    "co=ax[0].contourf( ogOll , levels = olev, cmap='bwr' )\n",
    "ax[0].set_xlim((500,1000))\n",
    "ax[0].set_ylim((100,400))\n",
    "cb=plt.colorbar( co )\n",
    "co=ax[1].contourf( ogOx2xOll , levels = olev , cmap='bwr' )\n",
    "ax[1].set_xlim((500,1000))\n",
    "ax[1].set_ylim((100,400))\n",
    "cb=plt.colorbar( co )\n",
    "co=ax[2].contourf( dogll , levels = olev , cmap='bwr' )\n",
    "ax[2].set_xlim((500,1000))\n",
    "ax[2].set_ylim((100,400))\n",
    "cb=plt.colorbar( co )"
   ]
  },
  {
   "cell_type": "code",
   "execution_count": null,
   "id": "3902cf72-7d34-4c7f-b707-b41bb1ea9d89",
   "metadata": {},
   "outputs": [],
   "source": []
  }
 ],
 "metadata": {
  "kernelspec": {
   "display_name": "NPL 2024b",
   "language": "python",
   "name": "npl-2024b"
  },
  "language_info": {
   "codemirror_mode": {
    "name": "ipython",
    "version": 3
   },
   "file_extension": ".py",
   "mimetype": "text/x-python",
   "name": "python",
   "nbconvert_exporter": "python",
   "pygments_lexer": "ipython3",
   "version": "3.11.9"
  }
 },
 "nbformat": 4,
 "nbformat_minor": 5
}
