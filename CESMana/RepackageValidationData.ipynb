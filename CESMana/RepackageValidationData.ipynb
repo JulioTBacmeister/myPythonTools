{
 "cells": [
  {
   "cell_type": "code",
   "execution_count": null,
   "id": "f18a4dd6-13c8-4e94-863f-ec561a1baf5a",
   "metadata": {},
   "outputs": [],
   "source": [
    "################################################\n",
    "# New style \n",
    "################################################\n",
    "import sys\n",
    "import os\n",
    "\n",
    "workdir_ = '/glade/work/juliob'\n",
    "if ( workdir_ not in sys.path ):\n",
    "    sys.path.append(workdir_)\n",
    "    print( f\" a path to {workdir_} added in {__name__} \")\n",
    "\n",
    "from myPythonTools.Utils import utils as uti\n",
    "from myPythonTools.Utils import numerical_utils as nuti\n",
    "from myPythonTools.Utils import AveragingUtils as Av\n",
    "from myPythonTools.Utils import validation_data as Val\n",
    "from myPythonTools.Utils import PlotUtil as Pu\n",
    "from myPythonTools.Plotting import LatLonMaps as LL \n",
    "from myPythonTools.CASutils import filter_utils as fu \n",
    "\n",
    "from PyRegridding.Utils import GridUtils as GrU\n",
    "from PyRegridding.Utils import MakePressures as MkP\n",
    "from PyRegridding.Drivers import RegridField as RgF\n",
    "\n",
    "\n",
    "# The usual\n",
    "from datetime import date\n",
    "import numpy as np\n",
    "import xarray as xr\n",
    "import matplotlib.pyplot as plt\n",
    "import matplotlib.tri as tri\n",
    "\n",
    "# Cartopy for pretty maps\n",
    "import cartopy\n",
    "import cartopy.crs as ccrs\n",
    "import cartopy.feature as cfeature\n",
    "\n",
    "# Some other useful packages \n",
    "import importlib\n",
    "import copy\n",
    "import time\n",
    "import cftime\n",
    "\n",
    "importlib.reload( uti )\n",
    "importlib.reload( Pu )\n",
    "importlib.reload(Av)\n",
    "importlib.reload(Val)\n",
    "#importlib.reload(vAB)\n",
    "importlib.reload(MkP)\n",
    "importlib.reload(RgF)\n"
   ]
  },
  {
   "cell_type": "code",
   "execution_count": null,
   "id": "a80a9a4a-8fc0-4013-adc6-633eaf58526b",
   "metadata": {},
   "outputs": [],
   "source": [
    "ADFobsdir = '/glade/work/nusbaume/SE_projects/model_diagnostics/ADF_obs/'\n",
    "myADFobsdir= '/glade/campaign/cgd/amp/juliob/ADF_obs/'\n",
    "AMWGobsdir = '/glade/campaign/cgd/amp/juliob/amwg_dev/obs_data/'\n",
    "\n",
    "#AMWGobsdir = '/glade/campaign/cgd/amp/amwg/amwg_data/obs_data/'\n",
    "path_C = f'{ADFobsdir}/CERES_EBAF_Ed4.1_2001-2020.nc' \n",
    "\n",
    "DataSet='LARYEA'\n",
    "path_C = f'{AMWGobsdir}/{DataSet}_??_climo.nc' #   /glade/work/nusbaume/SE_projects/model_diagnostics/ADF_obs/CERES_EBAF_Ed4.1_2001-2020.nc'\n",
    "\n",
    "Dc = xr.open_mfdataset( path_C ,data_vars='different', coords='different' , decode_times=False )\n",
    "\n"
   ]
  },
  {
   "cell_type": "code",
   "execution_count": null,
   "id": "332e45f0-ab4b-41b3-b594-407b9c99ea3e",
   "metadata": {},
   "outputs": [],
   "source": [
    "Dc.attrs['title']='Large-Yeager windstress. Climatology'\n",
    "time_array=np.arange(start=1,stop=13,dtype=np.int64)\n",
    "Dc=Dc.assign_coords( time=time_array)\n",
    "\n",
    "path_Out = f'{myADFobsdir}/{DataSet}_climo.nc' \n",
    "\n",
    "Dc.to_netcdf( path_Out )"
   ]
  },
  {
   "cell_type": "code",
   "execution_count": null,
   "id": "bfdee90f-7830-43d4-91dd-ecf05c6b2845",
   "metadata": {},
   "outputs": [],
   "source": [
    "Dc"
   ]
  },
  {
   "cell_type": "code",
   "execution_count": null,
   "id": "c84f1b47-19f3-4029-a03b-ab9706e27cd2",
   "metadata": {},
   "outputs": [],
   "source": [
    "doo=Val.data(fld='SURFACE_STRESS',season='jja')"
   ]
  },
  {
   "cell_type": "code",
   "execution_count": null,
   "id": "2b040d5f-fd9c-408c-9f02-db21e172e5c0",
   "metadata": {},
   "outputs": [],
   "source": [
    "\n",
    "year = 1\n",
    "months = np.arange(1, 13)\n",
    "time_array = np.array([f\"{year:04d}-{month:02d}-01\" for month in months], dtype='datetime64[ns]')\n",
    "\n",
    "print(time_array)\n"
   ]
  },
  {
   "cell_type": "code",
   "execution_count": null,
   "id": "9e9b166d-7d91-4047-b05b-108df0504ebf",
   "metadata": {},
   "outputs": [],
   "source": [
    "\n",
    "# Define the year and months\n",
    "year = 1\n",
    "months = np.arange(1, 13)\n",
    "\n",
    "# Build the time array explicitly\n",
    "time_array = np.array([f\"{year:04d}-{month:02d}-01\" for month in months], dtype='datetime64[ns]')\n",
    "\n",
    "print(time_array)\n"
   ]
  },
  {
   "cell_type": "code",
   "execution_count": null,
   "id": "2caaf37f-6c0b-47bb-8285-95b9a9d33672",
   "metadata": {},
   "outputs": [],
   "source": [
    "import numpy as np\n",
    "\n",
    "# Define year and months\n",
    "year = 2000\n",
    "months = np.arange(1, 13)\n",
    "\n",
    "# Construct datetime64 array directly\n",
    "time_array = np.array([f\"{year:04d}-{month:02d}-01\" for month in months], dtype='datetime64[ns]')\n",
    "\n",
    "print(time_array)\n",
    "print(time_array.dtype)\n"
   ]
  },
  {
   "cell_type": "code",
   "execution_count": null,
   "id": "b49a2b3c-4373-4187-a70e-2c7f25dc7e4a",
   "metadata": {},
   "outputs": [],
   "source": [
    "import numpy as np\n",
    "\n",
    "# Define year and months\n",
    "year = 1999\n",
    "months = np.arange(1, 13)\n",
    "\n",
    "# Generate a datetime64[ns] array\n",
    "time_array = np.array(\n",
    "    [np.datetime64(f\"{year:04d}-{month:02d}-01\", 'ns') for month in months],\n",
    "    dtype='datetime64[ns]'\n",
    ")\n",
    "\n",
    "print(time_array)\n"
   ]
  },
  {
   "cell_type": "code",
   "execution_count": null,
   "id": "987d0f09-14d0-4f45-aecd-069076c446b8",
   "metadata": {},
   "outputs": [],
   "source": [
    "import cftime\n",
    "import numpy as np\n",
    "\n",
    "# Define year and months\n",
    "year = 1\n",
    "months = np.arange(1, 13)\n",
    "\n",
    "# Use cftime to generate the time array\n",
    "time_array = np.array([cftime.DatetimeNoLeap(year, month, 1) for month in months])\n",
    "\n",
    "print(time_array.dtype=='object')\n"
   ]
  },
  {
   "cell_type": "code",
   "execution_count": null,
   "id": "2b750691-faae-4e13-b09a-bd283e642929",
   "metadata": {},
   "outputs": [],
   "source": []
  }
 ],
 "metadata": {
  "kernelspec": {
   "display_name": "NPL 2024b",
   "language": "python",
   "name": "npl-2024b"
  },
  "language_info": {
   "codemirror_mode": {
    "name": "ipython",
    "version": 3
   },
   "file_extension": ".py",
   "mimetype": "text/x-python",
   "name": "python",
   "nbconvert_exporter": "python",
   "pygments_lexer": "ipython3",
   "version": "3.11.9"
  }
 },
 "nbformat": 4,
 "nbformat_minor": 5
}
