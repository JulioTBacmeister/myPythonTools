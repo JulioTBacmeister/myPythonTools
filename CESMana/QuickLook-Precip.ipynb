{
 "cells": [
  {
   "cell_type": "code",
   "execution_count": null,
   "id": "abda101d-5eee-4761-b122-27066e2274d0",
   "metadata": {},
   "outputs": [],
   "source": [
    "workdir_ = '/glade/work/juliob/'\n",
    "import sys\n",
    "sys.path.append(workdir_ + 'myPythonTools/GenlTools/')\n",
    "sys.path.append(workdir_ + 'myPythonTools/Utils/')\n",
    "sys.path.append(workdir_ + 'PyRegridding/Regridder/')\n",
    "sys.path.append(workdir_ + 'PyRegridding/Utils/')\n",
    "\n",
    "# Own local packages\n",
    "import AveragingUtils as Av\n",
    "import VertRegridFlexLL as Vrg\n",
    "import PlotUtil as Pu\n",
    "import GridUtils as Gu\n",
    "import validation_data as Val\n",
    "\n",
    "# The usual\n",
    "from datetime import date\n",
    "import numpy as np\n",
    "import xarray as xr\n",
    "import matplotlib.pyplot as plt\n",
    "import matplotlib.tri as tri\n",
    "\n",
    "# Cartopy for pretty maps\n",
    "import cartopy\n",
    "import cartopy.crs as ccrs\n",
    "import cartopy.feature as cfeature\n",
    "\n",
    "# Some other useful packages \n",
    "import importlib\n",
    "import copy\n",
    "import time\n",
    "import cftime\n",
    "\n",
    "importlib.reload( Pu )\n",
    "importlib.reload( Gu )\n",
    "importlib.reload(Av)\n",
    "importlib.reload(Val)\n"
   ]
  },
  {
   "cell_type": "code",
   "execution_count": null,
   "id": "ba496c92-7da7-40f0-907a-96a4e93ef2f1",
   "metadata": {},
   "outputs": [],
   "source": [
    "#####\n",
    "exp_Val='ERA-5'\n",
    "\n",
    "user_C,user_X='juliob','juliob'\n",
    "\n",
    "#subd='hist'\n",
    "subd='regridded'\n",
    "\n",
    "#exp_C='fmt_N_rd1p0_zm4x_r02'\n",
    "exp_C='test3.02.2'\n",
    "#exp_C='fmt_N_rd1p0_zm4x_blj10x'\n",
    "exp_X='fmt_N_rd1p0_zm4x_blj10x_bljZ'\n"
   ]
  },
  {
   "cell_type": "code",
   "execution_count": null,
   "id": "04516ee6-99f8-4f8f-a632-451bc9e4e422",
   "metadata": {},
   "outputs": [],
   "source": [
    "###\n",
    "\n",
    "if (user_C == 'juliob' ):\n",
    "    path_C = '/glade/derecho/scratch/juliob/archive/'+exp_C+'/atm/'+ subd +'/'+exp_C+'.cam.h0.*.nc' \n",
    "elif (user_C == 'tilmes' ):\n",
    "    path_C = '/glade/derecho/scratch/tilmes/archive/'+exp_C+'/atm/hist/'+exp_C+'.cam.h0.*.nc' \n",
    "\n",
    "\n",
    "if (user_X == 'juliob' ):\n",
    "    path_X = '/glade/derecho/scratch/juliob/archive/'+exp_X+'/atm/'+ subd +'/'+exp_X+'.cam.h0.*.nc' \n",
    "elif (user_X == 'tilmes' ):\n",
    "    path_X = '/glade/derecho/scratch/tilmes/archive/'+exp_X+'/atm/hist/'+exp_X+'.cam.h0.*.nc' \n",
    "  \n",
    "    \n"
   ]
  },
  {
   "cell_type": "code",
   "execution_count": null,
   "id": "4de8f459-8cb2-450a-a572-bab1ede32839",
   "metadata": {},
   "outputs": [],
   "source": [
    "print(path_C)"
   ]
  },
  {
   "cell_type": "code",
   "execution_count": null,
   "id": "df0c33bc-8900-42cb-9d21-8cd009ea684f",
   "metadata": {},
   "outputs": [],
   "source": [
    "###\n",
    "\n",
    "Dc = xr.open_mfdataset( path_C ,data_vars='different', coords='different' )\n",
    "Dx = xr.open_mfdataset( path_X ,data_vars='different', coords='different' )\n",
    "\n",
    "#D2b = xr.open_mfdataset( '/glade/derecho/scratch/juliob/archive/test02/atm/hist/test02.cam.h0.*.nc' , combine='by_coords', data_vars='minimal', coords='minimal')\n",
    "#D2c = xr.open_mfdataset( '/glade/derecho/scratch/juliob/archive/test02/atm/hist/test02.cam.h0.*.nc' , combine='by_coords', join='exact' )\n",
    "#D2c = xr.open_mfdataset( '/glade/derecho/scratch/juliob/archive/test02/atm/hist/test02.cam.h0.*.nc' , combine='by_coords', coords='minimal')\n",
    "\n",
    "#concat_dim=None )"
   ]
  },
  {
   "cell_type": "code",
   "execution_count": null,
   "id": "b9bcebe1-3244-4501-9f8c-29f10ba13022",
   "metadata": {},
   "outputs": [],
   "source": [
    "print( Gu.gridKey(Dx.lon))"
   ]
  },
  {
   "cell_type": "code",
   "execution_count": null,
   "id": "1eb574be-46b8-44cb-a23d-f5c7bd19771d",
   "metadata": {},
   "outputs": [],
   "source": [
    "nyr_max=1000\n",
    "\n",
    "\n",
    "nyr=np.minimum( nyr_max , 12*(len(Dc.time)//12) )\n",
    "print(f\"Discarding last {len(Dc.time)-nyr} months of {exp_C}\" )\n",
    "Dc=Dc.isel(time=np.arange(nyr))\n",
    "\n",
    "\n",
    "nyr=np.minimum( nyr_max , 12*(len(Dx.time)//12) )\n",
    "print(f\"Discarding last {len(Dx.time)-nyr} months of {exp_X}\" )\n",
    "Dx=Dx.isel(time=np.arange(nyr))\n"
   ]
  },
  {
   "cell_type": "code",
   "execution_count": null,
   "id": "e9ab9af6-8836-4d2e-9054-c6d7e4045ba4",
   "metadata": {},
   "outputs": [],
   "source": [
    "##\n",
    "ps=Dc.PS.values\n",
    "lon=Dc.lon.values\n",
    "lat=Dc.lat.values\n",
    "lev=Dc.lev.values\n"
   ]
  },
  {
   "cell_type": "code",
   "execution_count": null,
   "id": "eb46903e-592c-4b70-a55b-7830ebc50e65",
   "metadata": {},
   "outputs": [],
   "source": [
    "print(lev[93-45])\n",
    "zlev=-7.0*np.log( lev/1_000. )\n",
    "print( zlev[93-45] )"
   ]
  },
  {
   "cell_type": "code",
   "execution_count": null,
   "id": "994299e9-6bc7-4caa-806f-660f762c34b0",
   "metadata": {},
   "outputs": [],
   "source": [
    "season='jja'\n",
    "PRCc_s = Av.Seasonal( ds=Dc, season=season , fld='PRECT', dims='tyx')\n",
    "PRCx_s = Av.Seasonal( ds=Dx, season=season , fld='PRECT', dims='tyx')"
   ]
  },
  {
   "cell_type": "code",
   "execution_count": null,
   "id": "8a50ae66-f0e6-4bf8-9210-2e85d19df557",
   "metadata": {},
   "outputs": [],
   "source": [
    "plt.contour(lon,lat,PRCc_s)"
   ]
  },
  {
   "cell_type": "code",
   "execution_count": null,
   "id": "8f2cd959-42d2-449b-abe9-d23e9c1890e4",
   "metadata": {},
   "outputs": [],
   "source": [
    "fig = plt.figure(figsize=(15, 5))\n",
    "clev=np.linspace(0,20,num=21)+1\n",
    "scale=1000.*86400.\n",
    "\n",
    "Axes1 = Pu.axes_def(n=1,nxplo=3,nyplo=1 ) \n",
    "ax1 = fig.add_axes( Axes1 )\n",
    "co1 = ax1.contourf( lon,lat,scale*PRCc_s  ,levels=clev , cmap='gist_ncar' ) \n",
    "pr1 = ax1.contour( lon,lat,ps[0,:],levels=[10_000,100_100],colors='black')\n",
    "ax1.set_title(exp_C)\n",
    "cb=plt.colorbar(co1)\n",
    "\n",
    "Axes1 = Pu.axes_def(n=2,nxplo=3,nyplo=1 ) \n",
    "ax1 = fig.add_axes( Axes1 )\n",
    "co1 = ax1.contourf( lon,lat, scale*PRCx_s  ,levels=clev , cmap='gist_ncar' ) \n",
    "pr1 = ax1.contour( lon,lat,ps[0,:],levels=[10_000,100_100],colors='black')\n",
    "ax1.set_title(exp_X)\n",
    "cb=plt.colorbar(co1)\n",
    "\n",
    "\"\"\"\n",
    "Axes1 = Pu.axes_def(n=3,nxplo=3,nyplo=1 ) \n",
    "ax1 = fig.add_axes( Axes1 )\n",
    "co1 = ax1.contourf( lon_val,lat_val,UUs_val[klev_val,:,:]  ,levels=clev , cmap='gist_ncar' ) \n",
    "pr1 = ax1.contour( lon,lat,ps[0,:],levels=[10_000,100_100],colors='black')\n",
    "ax1.set_title('Control')\n",
    "cb=plt.colorbar(co1)\n",
    "\"\"\"\n"
   ]
  },
  {
   "cell_type": "code",
   "execution_count": null,
   "id": "8e91b321-6d57-40b8-a8ab-3486fe2d436d",
   "metadata": {},
   "outputs": [],
   "source": [
    "fig = plt.figure(figsize=(15, 5))\n",
    "clev=np.linspace(0,10,num=16)\n",
    "dlev=np.linspace(-1,1,num=11) * 10\n",
    "\n",
    "clev=np.linspace(-50,60,num=47)\n",
    "clev=np.linspace(-50,60,num=22+1)\n",
    "klev=83\n",
    "klev_val=32\n",
    "\n",
    "Axes1 = Pu.axes_def(n=1,nxplo=3,nyplo=1 ) \n",
    "ax1 = fig.add_axes( Axes1 )\n",
    "co1 = ax1.contourf( lon,lat,UUc_s[klev,:,:]  ,levels=clev , cmap='gist_ncar' ) \n",
    "pr1 = ax1.contour( lon,lat,ps[0,:],levels=[10_000,100_100],colors='black')\n",
    "ax1.set_title('Control')\n",
    "cb=plt.colorbar(co1)\n",
    "\n",
    "Axes1 = Pu.axes_def(n=2,nxplo=3,nyplo=1 ) \n",
    "ax1 = fig.add_axes( Axes1 )\n",
    "co1 = ax1.contourf( lon,lat,UUx_s[klev,:,:]  ,levels=clev , cmap='gist_ncar' ) \n",
    "pr1 = ax1.contour( lon,lat,ps[0,:],levels=[10_000,100_100],colors='black')\n",
    "ax1.set_title('Control')\n",
    "cb=plt.colorbar(co1)\n",
    "\n",
    "Axes1 = Pu.axes_def(n=3,nxplo=3,nyplo=1 ) \n",
    "ax1 = fig.add_axes( Axes1 )\n",
    "co1 = ax1.contourf( lon_val,lat_val,UUs_val[klev_val,:,:]  ,levels=clev , cmap='gist_ncar' ) \n",
    "pr1 = ax1.contour( lon,lat,ps[0,:],levels=[10_000,100_100],colors='black')\n",
    "ax1.set_title('Control')\n",
    "cb=plt.colorbar(co1)\n",
    "\n",
    "\"\"\"\n",
    "Axes1 = Pu.axes_def(n=2,nxplo=3,nyplo=1 ) \n",
    "ax1 = fig.add_axes( Axes1 )\n",
    "co1 = ax1.contourf( lon,lat,u10_x.mean(axis=0)  ,levels=clev, cmap='gist_ncar' ) \n",
    "pr1 = ax1.contour( lon,lat,ps[0,:],levels=[10_000,100_100],colors='black')\n",
    "ax1.set_title('Test')\n",
    "cb=plt.colorbar(co1)\n",
    "\n",
    "Axes1 = Pu.axes_def(n=3,nxplo=3,nyplo=1 ) \n",
    "ax1 = fig.add_axes( Axes1 )\n",
    "co1 = ax1.contourf( lon,lat,u10_x.mean(axis=0)-u10_c.mean(axis=0)  ,levels=dlev, cmap='bwr' ) \n",
    "pr1 = ax1.contour( lon,lat,ps[0,:],levels=[10_000,100_100],colors='black')\n",
    "ax1.set_title('Test - Control')\n",
    "cb=plt.colorbar(co1)\n",
    "\"\"\"\n"
   ]
  },
  {
   "cell_type": "code",
   "execution_count": null,
   "id": "3cfe2eff-c703-4302-a53e-2fdb4b3183d9",
   "metadata": {},
   "outputs": [],
   "source": [
    "plt.contourf(lat,zlev,UUc_s ,levels=clev )\n",
    "plt.colorbar()"
   ]
  },
  {
   "cell_type": "code",
   "execution_count": null,
   "id": "45fb06d1-20b1-4744-a19f-2527db72dc1d",
   "metadata": {},
   "outputs": [],
   "source": [
    "print(np.shape(u10_c))\n",
    "print(np.shape(u10_x))\n",
    "print(np.shape(lon))\n",
    "print(np.shape(lat))\n",
    "\n",
    "print(Dc.lev.values[20])"
   ]
  },
  {
   "cell_type": "code",
   "execution_count": null,
   "id": "db5977dd-f76d-432f-bdb8-adc0df23f408",
   "metadata": {},
   "outputs": [],
   "source": [
    "fig = plt.figure(figsize=(15, 5))\n",
    "clev=np.linspace(0,10,num=16)\n",
    "dlev=np.linspace(-1,1,num=11) * 10\n",
    "\n",
    "clev=np.linspace(-20,50,num=16)\n",
    "\n",
    "\n",
    "Axes1 = Pu.axes_def(n=1,nxplo=3,nyplo=1 ) \n",
    "ax1 = fig.add_axes( Axes1 )\n",
    "co1 = ax1.tricontourf( lon,lat,u10_c.mean(axis=0)  ,levels=clev , cmap='gist_ncar' ) \n",
    "pr1 = ax1.tricontour( lon,lat,ps[0,:],levels=[10_000,100_100],colors='black')\n",
    "ax1.set_title('Control')\n",
    "cb=plt.colorbar(co1)\n",
    "\n",
    "Axes1 = Pu.axes_def(n=2,nxplo=3,nyplo=1 ) \n",
    "ax1 = fig.add_axes( Axes1 )\n",
    "co1 = ax1.tricontourf( lon,lat,u10_x.mean(axis=0)  ,levels=clev, cmap='gist_ncar' ) \n",
    "pr1 = ax1.tricontour( lon,lat,ps[0,:],levels=[10_000,100_100],colors='black')\n",
    "ax1.set_title('Test')\n",
    "cb=plt.colorbar(co1)\n",
    "\n",
    "Axes1 = Pu.axes_def(n=3,nxplo=3,nyplo=1 ) \n",
    "ax1 = fig.add_axes( Axes1 )\n",
    "co1 = ax1.tricontourf( lon,lat,u10_x.mean(axis=0)-u10_c.mean(axis=0)  ,levels=dlev, cmap='bwr' ) \n",
    "pr1 = ax1.tricontour( lon,lat,ps[0,:],levels=[10_000,100_100],colors='black')\n",
    "ax1.set_title('Test - Control')\n",
    "cb=plt.colorbar(co1)\n"
   ]
  },
  {
   "cell_type": "code",
   "execution_count": null,
   "id": "6679f6f8-992b-4c9a-8bc8-0cdc496dfda3",
   "metadata": {},
   "outputs": [],
   "source": []
  }
 ],
 "metadata": {
  "kernelspec": {
   "display_name": "NPL 2022b",
   "language": "python",
   "name": "npl-2022b"
  },
  "language_info": {
   "codemirror_mode": {
    "name": "ipython",
    "version": 3
   },
   "file_extension": ".py",
   "mimetype": "text/x-python",
   "name": "python",
   "nbconvert_exporter": "python",
   "pygments_lexer": "ipython3",
   "version": "3.8.13"
  }
 },
 "nbformat": 4,
 "nbformat_minor": 5
}
