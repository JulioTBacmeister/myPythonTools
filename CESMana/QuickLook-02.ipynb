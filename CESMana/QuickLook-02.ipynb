{
 "cells": [
  {
   "cell_type": "code",
   "execution_count": null,
   "id": "abda101d-5eee-4761-b122-27066e2274d0",
   "metadata": {},
   "outputs": [],
   "source": [
    "import sys\n",
    "sys.path.append('../GenlTools/')\n",
    "\"\"\" Now you can imprt modules in ../SAMwrf\"\"\"\n",
    "sys.path.append('../Utils/')\n",
    "\"\"\" Now you can imprt modules in ../Utils\"\"\"\n",
    "sys.path.append('../../PyRegridding/Regridder/')\n",
    "\"\"\" Now you can imprt modules in  ... \"\"\"\n",
    "\n",
    "# Own local packages\n",
    "import AveragingUtils as Av\n",
    "import VertRegridFlexLL as Vrg\n",
    "import PlotUtil as Pu\n",
    "\n",
    "# The usual\n",
    "from datetime import date\n",
    "import numpy as np\n",
    "import xarray as xr\n",
    "import matplotlib.pyplot as plt\n",
    "import matplotlib.tri as tri\n",
    "\n",
    "# Cartopy for pretty maps\n",
    "import cartopy\n",
    "import cartopy.crs as ccrs\n",
    "import cartopy.feature as cfeature\n",
    "\n",
    "# Some other useful packages \n",
    "import importlib\n",
    "import copy\n",
    "import time\n",
    "import cftime\n",
    "\n",
    "importlib.reload( Pu )\n",
    "importlib.reload(Av)"
   ]
  },
  {
   "cell_type": "code",
   "execution_count": null,
   "id": "4bfaf65a-56c6-4d5a-b731-ea32252b9157",
   "metadata": {},
   "outputs": [],
   "source": [
    "#####\n",
    "\n",
    "#D1=xr.open_mfdataset( '/glade/derecho/scratch/juliob/archive/test3_gw_spread.01/atm/hist/test3_gw_spread.01.cam.h1.*.nc' ,data_vars='different', coords='different' )\n",
    "\n",
    "D1=xr.open_mfdataset( '/glade/derecho/scratch/juliob/test3_gw_spread.03/run/test3_gw_spread.03.cam.h1.*.nc' ,data_vars='different', coords='different' )\n",
    "\n"
   ]
  },
  {
   "cell_type": "code",
   "execution_count": null,
   "id": "e33dd92f-4762-46cd-bece-be7e677837ef",
   "metadata": {
    "tags": []
   },
   "outputs": [],
   "source": [
    "###################\n",
    "\n",
    "fu0 = D1.FU_test_before_del4.values\n",
    "fu1 = D1.FU_test_after_del4.values\n",
    "\n",
    "\n",
    "lon=D1.lon_d.values\n",
    "lat=D1.lat_d.values\n",
    "lev=D1.lev.values\n",
    "\n",
    "print( np.shape(fu1))\n",
    "print( np.shape(lon))\n",
    "print( np.shape(lat))\n"
   ]
  },
  {
   "cell_type": "code",
   "execution_count": null,
   "id": "8f2cd959-42d2-449b-abe9-d23e9c1890e4",
   "metadata": {},
   "outputs": [],
   "source": [
    "fig = plt.figure(figsize=(15, 5))\n",
    "clev=21 # np.linspace(0,10,num=16)\n",
    "cmap='bwr'\n",
    "\n",
    "klev=80\n",
    "ntime=10\n",
    "scale=86_400.\n",
    "clev = np.linspace( -50,50,num=21)\n",
    "\n",
    "print( lev[klev] )\n",
    "\n",
    "lonlim=(0,100)\n",
    "latlim=(10,60)\n",
    "Axes1 = Pu.axes_def(n=1,nxplo=2,nyplo=1 ) \n",
    "ax1 = fig.add_axes( Axes1 )\n",
    "#co1 = ax1.tricontourf( lon,lat,fu0[ntime,klev,:]*scale  ,levels=clev , cmap='gist_ncar' ) \n",
    "co1 = ax1.tricontourf( lon,lat,fu0[:,klev,:].mean(axis=0)*scale  ,levels=clev , cmap=cmap ) \n",
    "ax1.set_title('Before')\n",
    "ax1.set_xlim(lonlim)\n",
    "ax1.set_ylim(latlim)\n",
    "cb=plt.colorbar(co1)\n",
    "\n",
    "Axes1 = Pu.axes_def(n=2,nxplo=2,nyplo=1 ) \n",
    "ax1 = fig.add_axes( Axes1 )\n",
    "#co1 = ax1.tricontourf( lon,lat,fu1[ntime,klev,:]*scale ,levels=clev , cmap='gist_ncar' ) \n",
    "co1 = ax1.tricontourf( lon,lat,fu1[:,klev,:].mean(axis=0)*scale ,levels=clev , cmap=cmap ) \n",
    "ax1.set_title('After')\n",
    "ax1.set_xlim(lonlim)\n",
    "ax1.set_ylim(latlim)\n",
    "cb=plt.colorbar(co1)\n",
    "\n"
   ]
  },
  {
   "cell_type": "code",
   "execution_count": null,
   "id": "6679f6f8-992b-4c9a-8bc8-0cdc496dfda3",
   "metadata": {},
   "outputs": [],
   "source": []
  }
 ],
 "metadata": {
  "kernelspec": {
   "display_name": "NPL 2022b",
   "language": "python",
   "name": "npl-2022b"
  },
  "language_info": {
   "codemirror_mode": {
    "name": "ipython",
    "version": 3
   },
   "file_extension": ".py",
   "mimetype": "text/x-python",
   "name": "python",
   "nbconvert_exporter": "python",
   "pygments_lexer": "ipython3",
   "version": "3.8.13"
  }
 },
 "nbformat": 4,
 "nbformat_minor": 5
}
