{
 "cells": [
  {
   "cell_type": "code",
   "execution_count": null,
   "id": "79956545-5f13-4d8e-82e9-883cbf2bc1ca",
   "metadata": {},
   "outputs": [],
   "source": [
    "workdir_ = '/glade/work/juliob/'\n",
    "import sys\n",
    "sys.path.append(workdir_ + 'myPythonTools/GenlTools/')\n",
    "sys.path.append(workdir_ + 'myPythonTools/Utils/')\n",
    "sys.path.append(workdir_ + 'PyRegridding/Regridder/')\n",
    "\n",
    "# Own local packages\n",
    "import AveragingUtils as Av\n",
    "import VertRegridFlexLL as Vrg\n",
    "import PlotUtil as Pu\n",
    "import gw_movmtn as GW\n",
    "\n",
    "# The usual\n",
    "from datetime import date\n",
    "import numpy as np\n",
    "import xarray as xr\n",
    "import matplotlib.pyplot as plt\n",
    "import matplotlib.tri as tri\n",
    "\n",
    "# Cartopy for pretty maps\n",
    "import cartopy\n",
    "import cartopy.crs as ccrs\n",
    "import cartopy.feature as cfeature\n",
    "\n",
    "# Some other useful packages \n",
    "import importlib\n",
    "import copy\n",
    "import time\n",
    "import cftime\n",
    "\n",
    "importlib.reload( Pu )\n",
    "importlib.reload(Av)\n",
    "importlib.reload(GW)\n"
   ]
  },
  {
   "cell_type": "code",
   "execution_count": null,
   "id": "6ae07c1b-e280-462b-b7b5-739b7ae8bd4f",
   "metadata": {},
   "outputs": [],
   "source": [
    "#####\n",
    "exp_Val='ERA-5'\n",
    "\n",
    "#user_C,user_X='juliob','juliob'\n",
    "\n",
    "subd='hist'\n",
    "subd='regridded'\n",
    "\n",
    "exp_X,user_X = 'fmthist_MM_x21_2' , 'juliob'\n",
    "\n",
    "if (user_X == 'juliob' ):\n",
    "    path_X = '/glade/derecho/scratch/juliob/archive/'+exp_X+'/atm/'+ subd +'/'+exp_X+'.cam.h0.*.nc' \n",
    "elif (user_X == 'tilmes' ):\n",
    "    path_X = '/glade/derecho/scratch/tilmes/archive/'+exp_X+'/atm/hist/'+exp_X+'.cam.h0.*.nc' \n",
    "elif (user_X == 'pel' ):\n",
    "    path_X = '/glade/derecho/scratch/pel/archive/'+exp_X+'/atm/hist/'+exp_X+'.cam.h0.*.nc' \n",
    "elif (user_X == 'juliob_run' ):\n",
    "    path_X = '/glade/derecho/scratch/juliob/'+exp_X+'/run/'+exp_X+'.cam.h0.*.nc' \n"
   ]
  },
  {
   "cell_type": "code",
   "execution_count": null,
   "id": "7a4b77da-f79d-4aaa-9ba7-97536b8ee24b",
   "metadata": {},
   "outputs": [],
   "source": [
    "########################\n",
    "\n",
    "\n",
    "\n",
    "\n",
    "X=xr.open_mfdataset( path_X , data_vars='different', coords='different' )"
   ]
  },
  {
   "cell_type": "code",
   "execution_count": null,
   "id": "64e207e2-5d6a-4cbd-8c9c-50fdfdd9af58",
   "metadata": {},
   "outputs": [],
   "source": [
    "X\n"
   ]
  },
  {
   "cell_type": "code",
   "execution_count": null,
   "id": "13c000b1-13a2-4ad9-915b-caa107e0897f",
   "metadata": {},
   "outputs": [],
   "source": [
    "sqP = np.sqrt(X.UPWP_CLUBB**2+X.VPWP_CLUBB**2 )\n",
    "\n",
    "X['MOMFLXMAG_CLUBB'] = sqP\n",
    "\n",
    "X['TTEND_CLUBB'] = X['STEND_CLUBB'] * 86400./1002.\n",
    "\n",
    "CLUBBparms = ['MOMFLXMAG_CLUBB','WP2_CLUBB','TTEND_CLUBB','THLP2_CLUBB']\n"
   ]
  },
  {
   "cell_type": "code",
   "execution_count": null,
   "id": "5ff6b3f6-27e6-4ebc-8114-8f4eaf79bf2a",
   "metadata": {},
   "outputs": [],
   "source": [
    "#########\n",
    "season = 'Jul'\n",
    "Ys={}\n",
    "for parm in CLUBBparms:\n",
    "    print(f\" {parm} \")\n",
    "    Ys[parm] = Av.Seasonal( ds=X, season=season , fld=parm)"
   ]
  },
  {
   "cell_type": "code",
   "execution_count": null,
   "id": "f1e99231-c8e6-4ffa-adb0-be085f385288",
   "metadata": {},
   "outputs": [],
   "source": [
    "\n",
    "\n",
    "print(Ys['THLP2_CLUBB'].shape)"
   ]
  },
  {
   "cell_type": "code",
   "execution_count": null,
   "id": "6102b8fb-de99-4a8a-baf8-e43487029c61",
   "metadata": {},
   "outputs": [],
   "source": [
    "######################\n",
    "# Pretty latlon plot\n",
    "######################\n",
    "\n",
    "zlev=-7.0*np.log( X.lev.values/1_000. )\n",
    "\n",
    "#MapProj = ccrs.Robinson(central_longitude=180.)\n",
    "MapProj = ccrs.PlateCarree(central_longitude=180.)\n",
    "#MapProj = ccrs.Orthographic(central_longitude=180.,central_latitude=-90.)\n",
    "DataProj = ccrs.PlateCarree()\n",
    "\n",
    "\"\"\"\n",
    "Add axes method \n",
    "ax = fig.add_axes([xmin , ymin , X , dy , ])\n",
    "\"\"\"\n",
    "\n",
    "fig = plt.figure(figsize=(20, 12))\n",
    "levs=[29,26,20,10]\n",
    "   \n",
    "monAs=[ 'jan','feb','mar','apr','may','jun','jul','aug','sep','oct','nov','dec' ]    \n",
    "mon=10-1\n",
    "cmap='gist_ncar'\n",
    "npo=0\n",
    "\n",
    "#season=monAs[mon%12]\n",
    "\n",
    "kl0,kl1=78,82\n",
    "kl0,kl1=88,92\n",
    "\n",
    "zA = f\" ( {X.lev[kl0]:.0f}-{X.lev[kl1]:.0f} hPa, {zlev[kl1]:.0f}-{zlev[kl0]:.0f} km)\"\n",
    "\n",
    "CoastColors=['white','white','white','black']\n",
    "clevs = [np.linspace(0,0.2,21), np.linspace(0,1.0,21),np.linspace(-10,10,21),np.linspace(0,0.1,21),21]\n",
    "cmaps = ['gist_ncar','gist_ncar','bwr','gist_ncar']\n",
    "\n",
    "for CLUBBparm in CLUBBparms:\n",
    "    npo=npo+1\n",
    "    Axes = Pu.axes_def(n=npo,nxplo=2,nyplo=2 ) \n",
    "\n",
    "    ax1 = fig.add_axes( Axes , projection=MapProj)\n",
    "    ax1.set_global()\n",
    "    ax1.coastlines(resolution='110m',color=CoastColors[npo-1],linewidth=2)\n",
    "\n",
    "\n",
    "    #AAxy = np.average(X[CLUBBparm][mon,kl0:kl1,:,:],axis=0)\n",
    "    AAxy = np.average(Ys[CLUBBparm][kl0:kl1,:,:],axis=0)\n",
    "\n",
    "    co1=ax1.contourf(X.lon,X.lat, AAxy ,transform=DataProj,levels=clevs[npo-1],cmap=cmaps[npo-1] )\n",
    "\n",
    "    cbar = plt.colorbar(co1, shrink=.6)\n",
    "    #ax1.set_title( CLUBBparm + zA, fontsize=16)\n",
    "    ax1.set_title( f\"{season.upper()} {CLUBBparm} {zA}\" , fontsize=16)\n",
    "\n",
    "\n"
   ]
  },
  {
   "cell_type": "code",
   "execution_count": null,
   "id": "c2d0de5f-06e3-49bd-8ffd-5bd79ddc17c6",
   "metadata": {},
   "outputs": [],
   "source": [
    "########\n",
    "nmos,nz,ny,nx = np.shape( X['MOMFLXMAG_CLUBB'] )\n",
    "momflxmag_clubb = X['MOMFLXMAG_CLUBB'].values\n",
    "\n",
    "\n"
   ]
  },
  {
   "cell_type": "code",
   "execution_count": null,
   "id": "e250d016-4304-48e7-aa32-8a2f9e552e4c",
   "metadata": {},
   "outputs": [],
   "source": [
    "\n",
    "latS,latN=-60,-50\n",
    "yS=np.argmin( np.abs(X.lat.values - latS ))\n",
    "yN=np.argmin( np.abs(X.lat.values - latN ))\n",
    "print( yS, yN)\n",
    "\n",
    "print(X.lat[31])\n",
    "\n",
    "momflxmag_clubb_a = np.average( np.average( momflxmag_clubb , axis=3 )[:,:,yS:yN+1], axis=2 )\n"
   ]
  },
  {
   "cell_type": "code",
   "execution_count": null,
   "id": "be572dbc-7633-4bb4-aac6-d8fe9b31bf7d",
   "metadata": {},
   "outputs": [],
   "source": [
    "\n",
    "nyr=nmos//12\n",
    "print(nyr)\n",
    "\n",
    "momflxmag_clubb_a=momflxmag_clubb_a[0:nyr*12,:]\n",
    "momflxmag_clubb_ar=momflxmag_clubb_a.reshape(nyr,12,93)     # after reshape, year is 0-th index\n",
    "momflxmag_clubb_ann=np.average(momflxmag_clubb_ar,axis=0)  # So this average over axis=0 gives the \n",
    "                                                           # mean seasonal cycle\n"
   ]
  },
  {
   "cell_type": "code",
   "execution_count": null,
   "id": "659230ba-29ec-4efa-bcab-c36244c2e652",
   "metadata": {},
   "outputs": [],
   "source": [
    "\n",
    "#plt.contourf( np.arange(12)+1.,zlev, momflxmag_clubb_ann.T ,levels=21)\n",
    "plt.contourf( monAs,zlev, momflxmag_clubb_ann.T ,levels=21)\n",
    "plt.ylim(0,1)"
   ]
  },
  {
   "cell_type": "code",
   "execution_count": null,
   "id": "258c7750-4035-4256-80eb-41c213afbd2f",
   "metadata": {},
   "outputs": [],
   "source": []
  },
  {
   "cell_type": "code",
   "execution_count": null,
   "id": "5be0a915-ad59-42e8-ad3c-6c838db30237",
   "metadata": {},
   "outputs": [],
   "source": []
  },
  {
   "cell_type": "code",
   "execution_count": null,
   "id": "955515d5",
   "metadata": {},
   "outputs": [],
   "source": [
    "######################\n",
    "# Pretty latlon plot\n",
    "######################\n",
    "\n",
    "zlev=-7.0*np.log( X.lev.values/1_000. )\n",
    "\n",
    "#MapProj = ccrs.Robinson(central_longitude=180.)\n",
    "MapProj = ccrs.PlateCarree(central_longitude=180.)\n",
    "#MapProj = ccrs.Orthographic(central_longitude=180.,central_latitude=-90.)\n",
    "DataProj = ccrs.PlateCarree()\n",
    "\n",
    "\"\"\"\n",
    "Add axes method \n",
    "ax = fig.add_axes([xmin , ymin , X , dy , ])\n",
    "\"\"\"\n",
    "\n",
    "fig = plt.figure(figsize=(20, 12))\n",
    "levs=[29,26,20,10]\n",
    "   \n",
    "monAs=[ 'jan','feb','mar','apr','may','jun','jul','aug','sep','oct','nov','dec' ]    \n",
    "mon=12-1\n",
    "cmap='gist_ncar'\n",
    "npo=0\n",
    "\n",
    "season=monAs[mon%12]\n",
    "\n",
    "#kl0,kl1=78,82\n",
    "zA = f\" ( {X.lev[kl0]:.0f}-{X.lev[kl1]:.0f} hPa, {zlev[kl1]:.0f}-{zlev[kl0]:.0f} km)\"\n",
    "\n",
    "CoastColors=['white','white','white','black']\n",
    "clevs = [np.linspace(0,0.2,21), np.linspace(0,1.0,21),np.linspace(0,20,21),np.linspace(0,0.1,21),21]\n",
    "\n",
    "for CLUBBparm in CLUBBparms:\n",
    "    npo=npo+1\n",
    "    Axes = Pu.axes_def(n=npo,nxplo=2,nyplo=2 ) \n",
    "\n",
    "    ax1 = fig.add_axes( Axes , projection=MapProj)\n",
    "    ax1.set_global()\n",
    "    ax1.coastlines(resolution='110m',color=CoastColors[npo-1],linewidth=2)\n",
    "\n",
    "\n",
    "    AAxy = np.average(X[CLUBBparm][mon,kl0:kl1,:,:],axis=0)\n",
    "\n",
    "    co1=ax1.contourf(X.lon,X.lat, AAxy ,transform=DataProj,levels=clevs[npo-1],cmap=cmap)\n",
    "\n",
    "    cbar = plt.colorbar(co1, shrink=.6)\n",
    "    #ax1.set_title( CLUBBparm + zA, fontsize=16)\n",
    "    ax1.set_title( f\"{season.upper()} {CLUBBparm} {zA}\" , fontsize=16)\n",
    "\n",
    "\n"
   ]
  },
  {
   "cell_type": "code",
   "execution_count": null,
   "id": "9b33aff8-f476-4585-9d19-545a09f013b4",
   "metadata": {},
   "outputs": [],
   "source": [
    "###\n",
    "\n",
    "zMOM = np.average( X['MOMFLXMAG_CLUBB'] ,axis=3 )\n",
    "#zMOM = np.average( X['U'] ,axis=3 )"
   ]
  },
  {
   "cell_type": "code",
   "execution_count": null,
   "id": "dd5ecc41-cea5-4469-beca-6a7c4155216e",
   "metadata": {},
   "outputs": [],
   "source": [
    "print(zlev[80:])"
   ]
  },
  {
   "cell_type": "code",
   "execution_count": null,
   "id": "9a8e94ee-77da-45a9-ab07-199344396112",
   "metadata": {},
   "outputs": [],
   "source": [
    "print(X.lat[30].values)"
   ]
  },
  {
   "cell_type": "code",
   "execution_count": null,
   "id": "6ba9ebd0-977a-4079-a660-38bc96dbd3f3",
   "metadata": {},
   "outputs": [],
   "source": []
  },
  {
   "cell_type": "code",
   "execution_count": null,
   "id": "4f2fad79-72ac-42b4-b56b-1a6b085bcd02",
   "metadata": {},
   "outputs": [],
   "source": [
    "\n",
    "fig,ax=plt.subplots(1,2,figsize=(20,5))\n",
    "#clev=21 #np.linspace(0,10,21)\n",
    "clev=np.linspace(0,.08,21)\n",
    "c0=ax[0].contourf( monAs,zlev,zMOM[:,:,30].T ,levels=clev )\n",
    "fig.colorbar(c0,ax=ax[0],location='bottom')\n",
    "ax[0].set_ylim(0,1)\n",
    "c1=ax[1].contourf( monAs,zlev,zMOM[:,:,92-30].T , levels=clev)\n",
    "fig.colorbar(c1,ax=ax[1],location='bottom')\n",
    "ax[1].set_ylim(0,1)\n"
   ]
  },
  {
   "cell_type": "code",
   "execution_count": null,
   "id": "ec69c740-d97e-4849-84c4-66674bffb980",
   "metadata": {},
   "outputs": [],
   "source": [
    "\n",
    "clev = np.linspace( 0., 1., num=21 )\n",
    "plt.tricontourf(X.lon,X.lat,np.average( np.abs(X.UPWP_CLUBB_GW[1,90:,:] ),axis=0), levels=clev )\n",
    "plt.colorbar()\n",
    "#plt.contour(X.UBM_MOVMTN[5,:,:] )\n",
    "#plt.xlim(19475,19500)\n",
    "#plt.plot(X.TAU_MOVMTN[5,30,:] )"
   ]
  },
  {
   "cell_type": "code",
   "execution_count": null,
   "id": "4f285833-1a74-41c0-a906-5e6984e12525",
   "metadata": {},
   "outputs": [],
   "source": [
    "\n",
    "plt.tricontourf(X.lon,X.lat,X.TAU_MOVMTN[5,80,:] )\n",
    "plt.colorbar()\n",
    "#plt.contour(X.UBM_MOVMTN[5,:,:] )\n",
    "#plt.xlim(19475,19500)\n",
    "#plt.plot(X.TAU_MOVMTN[5,30,:] )"
   ]
  },
  {
   "cell_type": "code",
   "execution_count": null,
   "id": "8ee65fd8-2de5-40b9-889c-9c0e874525ef",
   "metadata": {},
   "outputs": [],
   "source": [
    "\n",
    "\n",
    "plt.plot(X.TAU_MOVMTN[5,1,:] )\n",
    "plt.xlim(30600,30700)\n",
    "#plt.xlim(2350,2400)"
   ]
  },
  {
   "cell_type": "code",
   "execution_count": null,
   "id": "f9bfa058-2175-4362-a686-1fc93b75a028",
   "metadata": {},
   "outputs": [],
   "source": [
    "\n",
    "# inputs need to shaped ncol,nz or ntime,nz. Hence the '.T' here\n",
    "gwut = GW.tends_from_tau( tau=X.TAU_MOVMTN[5,:,:].values.T , \n",
    "                        ubm=X.UBM_MOVMTN[5,:,:].values.T , \n",
    "                        pint=X.PINT[5,:,:].values.T  )"
   ]
  },
  {
   "cell_type": "code",
   "execution_count": null,
   "id": "38cfbdb6-012b-4612-87e7-537594e365f1",
   "metadata": {},
   "outputs": [],
   "source": [
    "print(np.shape(gwut))"
   ]
  },
  {
   "cell_type": "code",
   "execution_count": null,
   "id": "26985ec4-0746-481a-91c5-7b8550ac092f",
   "metadata": {},
   "outputs": [],
   "source": [
    "\n",
    "zlev = -7.*np.log( X.lev/1_000.)\n",
    "zilev = -7.*np.log( X.ilev/1_000.)"
   ]
  },
  {
   "cell_type": "code",
   "execution_count": null,
   "id": "5bb52b2c-93a8-456e-a3e2-f1ff420ce36d",
   "metadata": {},
   "outputs": [],
   "source": [
    "\n",
    "icol=2360\n",
    "icol=30600\n",
    "icol=14447\n",
    "print(X.CS1_MOVMTN[5,icol].values)\n",
    "print(X.STEER_LEVEL_MOVMTN[5,icol].values)\n",
    "plt.plot( X.UBM_MOVMTN[5,:,icol]  , zlev ,color='black')\n",
    "plt.plot( X.U_MOVMTN_IN[5,:,icol] , zlev ,color='red' )\n",
    "plt.plot( X.V_MOVMTN_IN[5,:,icol] , zlev ,color='green' )\n"
   ]
  },
  {
   "cell_type": "code",
   "execution_count": null,
   "id": "556868ff-92f4-4ae9-b60d-b8e7b673f196",
   "metadata": {},
   "outputs": [],
   "source": [
    "\n",
    "plt.plot( X.UTGW_MOVMTN[5,:,icol] , zlev ,color='red')\n",
    "plt.plot( X.VTGW_MOVMTN[5,:,icol] , zlev ,color='green')\n",
    "#plt.xlim(-.01,.01)\n"
   ]
  },
  {
   "cell_type": "code",
   "execution_count": null,
   "id": "b5789c1b-eeda-449d-bab2-d117617ecb6b",
   "metadata": {},
   "outputs": [],
   "source": [
    "plt.plot( X.GWUT_MOVMTN[5,:,icol] , zlev ,'o',color='green')\n",
    "plt.plot( gwut[icol,:],zlev,'x',color='red')\n",
    "#plt.ylim(0,50)"
   ]
  },
  {
   "cell_type": "code",
   "execution_count": null,
   "id": "f6b7e4af-840c-4be5-97e5-9d98be62898c",
   "metadata": {},
   "outputs": [],
   "source": [
    "plt.plot( X.GWUT_MOVMTN[5,:,:].values.flatten() ) # - gwut.T.flatten()  )\n",
    "#plt.scatter( X.GWUT_MOVMTN[5,:,:].values.flatten()  , gwut.T.flatten()  )\n",
    "plt.plot( gwut.T.flatten() )"
   ]
  },
  {
   "cell_type": "code",
   "execution_count": null,
   "id": "7248736e-5777-49a2-9e8b-ea51b0473a03",
   "metadata": {},
   "outputs": [],
   "source": [
    "for k in np.arange(start=40,stop=30,step=-1):\n",
    "    print( f\"{k} {zlev[k] :.2f} {X.GWUT_MOVMTN[5,k,icol]}  \")"
   ]
  },
  {
   "cell_type": "code",
   "execution_count": null,
   "id": "6a619262-f0dc-41a5-83c3-d3be9955ac44",
   "metadata": {},
   "outputs": [],
   "source": [
    "plt.plot( X.TAU_MOVMTN[5,:,icol] , zilev ,color='green')\n"
   ]
  },
  {
   "cell_type": "code",
   "execution_count": null,
   "id": "13fe3b38-87e6-483e-9061-73cd428d0634",
   "metadata": {},
   "outputs": [],
   "source": [
    "plt.contourf( X.TAU_MOVMTN[5,:,:] ,levels=21 ) \n",
    "plt.xlim(14440,14460)\n"
   ]
  },
  {
   "cell_type": "code",
   "execution_count": null,
   "id": "e1bfe20c-5c3f-483c-9970-44cd6a6c9fe8",
   "metadata": {},
   "outputs": [],
   "source": [
    "#plt.plot(1.e5*X.TAU_MOVMTN[5,:,19481] )\n",
    "plt.plot(X.SRC_LEVEL_MOVMTN[5,:] )\n"
   ]
  }
 ],
 "metadata": {
  "kernelspec": {
   "display_name": "NPL 2022b",
   "language": "python",
   "name": "npl-2022b"
  },
  "language_info": {
   "codemirror_mode": {
    "name": "ipython",
    "version": 3
   },
   "file_extension": ".py",
   "mimetype": "text/x-python",
   "name": "python",
   "nbconvert_exporter": "python",
   "pygments_lexer": "ipython3",
   "version": "3.8.13"
  }
 },
 "nbformat": 4,
 "nbformat_minor": 5
}
