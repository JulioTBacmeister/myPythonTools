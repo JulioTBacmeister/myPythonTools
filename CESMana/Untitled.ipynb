{
 "cells": [
  {
   "cell_type": "code",
   "execution_count": null,
   "id": "abe7d712-48b5-4b7d-af0d-0f2fdd03fb8b",
   "metadata": {},
   "outputs": [],
   "source": [
    "workdir_ = '/glade/work/juliob/'\n",
    "import sys\n",
    "sys.path.append(workdir_ + 'myPythonTools/GenlTools/')\n",
    "sys.path.append(workdir_ + 'myPythonTools/Utils/')\n",
    "sys.path.append(workdir_ + 'PyRegridding/Regridder/')\n",
    "\n",
    "# Own local packages\n",
    "import AveragingUtils as Av\n",
    "import VertRegridFlexLL as Vrg\n",
    "import PlotUtil as Pu\n",
    "\n",
    "# The usual\n",
    "from datetime import date\n",
    "import numpy as np\n",
    "import xarray as xr\n",
    "import matplotlib.pyplot as plt\n",
    "import matplotlib.tri as tri\n",
    "\n",
    "# Cartopy for pretty maps\n",
    "import cartopy\n",
    "import cartopy.crs as ccrs\n",
    "import cartopy.feature as cfeature\n",
    "\n",
    "# Some other useful packages \n",
    "import importlib\n",
    "import copy\n",
    "import time\n",
    "import cftime\n",
    "\n",
    "importlib.reload( Pu )\n",
    "importlib.reload(Av)"
   ]
  },
  {
   "cell_type": "code",
   "execution_count": null,
   "id": "a3a48917-478b-4658-84ba-88e656c58b37",
   "metadata": {},
   "outputs": [],
   "source": [
    "\n",
    "\n",
    "\n",
    "f='/glade/derecho/scratch/juliob/archive/test_new_GW_source_04/atm/hist/test_new_GW_source_04.cam.h0.1979-01.nc'\n",
    "X=xr.open_dataset( f )\n",
    "\n"
   ]
  },
  {
   "cell_type": "code",
   "execution_count": null,
   "id": "1b0edac0-8165-42a3-bdcd-e005b88930f0",
   "metadata": {},
   "outputs": [],
   "source": [
    "X.UPWP_CLUBB_GW"
   ]
  },
  {
   "cell_type": "code",
   "execution_count": null,
   "id": "b75ca427-5dad-43e0-9851-a9077e091fd4",
   "metadata": {},
   "outputs": [],
   "source": [
    "\n",
    "plt.plot( X.UPWP_CLUBB_GW[0,90,:])\n",
    "plt.plot( X.UPWP_CLUBB[0,90,:])\n"
   ]
  },
  {
   "cell_type": "code",
   "execution_count": null,
   "id": "19c588ee-7767-45d3-ac88-20096f5afbc7",
   "metadata": {},
   "outputs": [],
   "source": [
    "\n",
    "clev=np.linspace( -1 , 1, num=21 )\n",
    "plt.tricontourf( X.lon,X.lat,X.UPWP_CLUBB_GW[0,90,:] , levels=clev)\n",
    "plt.colorbar()"
   ]
  },
  {
   "cell_type": "code",
   "execution_count": null,
   "id": "26959132-d27d-4863-8b59-355b3d0abcda",
   "metadata": {},
   "outputs": [],
   "source": [
    "\n",
    "clev=np.linspace( -1 , 1, num=21 )\n",
    "plt.tricontourf( X.lon,X.lat,X.UPWP_CLUBB[0,90,:] , levels=clev)\n",
    "plt.colorbar()"
   ]
  },
  {
   "cell_type": "code",
   "execution_count": null,
   "id": "b3fa00ba-0d9a-4250-a5fb-87dc0129afea",
   "metadata": {},
   "outputs": [],
   "source": [
    "\n",
    "clev=np.linspace( -1 , 1, num=21 )\n",
    "plt.tricontourf( X.lon,X.lat,X.TTEND_CLUBB[0,90,:] , levels=21)\n",
    "plt.colorbar()"
   ]
  },
  {
   "cell_type": "code",
   "execution_count": null,
   "id": "c6338976-bc84-4dc4-8090-6bf761cb739f",
   "metadata": {},
   "outputs": [],
   "source": []
  }
 ],
 "metadata": {
  "kernelspec": {
   "display_name": "NPL 2022b",
   "language": "python",
   "name": "npl-2022b"
  },
  "language_info": {
   "codemirror_mode": {
    "name": "ipython",
    "version": 3
   },
   "file_extension": ".py",
   "mimetype": "text/x-python",
   "name": "python",
   "nbconvert_exporter": "python",
   "pygments_lexer": "ipython3",
   "version": "3.8.13"
  }
 },
 "nbformat": 4,
 "nbformat_minor": 5
}
