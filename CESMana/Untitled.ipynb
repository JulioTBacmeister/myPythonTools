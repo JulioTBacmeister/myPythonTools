{
 "cells": [
  {
   "cell_type": "code",
   "execution_count": null,
   "id": "1de5a4f4-b00b-447f-b926-618aa2cf29ad",
   "metadata": {},
   "outputs": [],
   "source": [
    "import sys\n",
    "sys.path.append('../GenlTools/')\n",
    "\"\"\" Now you can imprt modules in ../SAMwrf\"\"\"\n",
    "sys.path.append('../../PyRegridding/Regridder/')\n",
    "\"\"\" Now you can imprt modules in  ... \"\"\"\n",
    "\n",
    "# Own local packages\n",
    "import AveragingUtils as Av\n",
    "import VertRegridFlexLL as Vrg\n",
    "\n",
    "# The usual\n",
    "from datetime import date\n",
    "import numpy as np\n",
    "import xarray as xr\n",
    "import matplotlib.pyplot as plt\n",
    "\n",
    "# Cartopy for pretty maps\n",
    "import cartopy\n",
    "import cartopy.crs as ccrs\n",
    "import cartopy.feature as cfeature\n",
    "\n",
    "# Some other useful packages \n",
    "import importlib\n",
    "import copy\n",
    "import time\n",
    "import cftime\n",
    "\n",
    "importlib.reload(Av)"
   ]
  },
  {
   "cell_type": "code",
   "execution_count": null,
   "id": "52471c6a-063f-4fba-8857-aa02e8473b12",
   "metadata": {},
   "outputs": [],
   "source": [
    "lev=np.asarray( [\n",
    "[983.1919114242279, 983.357554, -0.16564257577215358],\n",
    "[991.2071445198369, 991.360122, -0.15297748016314472],\n",
    "[997.5277256106473, 998.750781, -1.2230553893526803] ] )\n",
    "\n",
    "ilev=np.asarray( [ \n",
    "[987.3588378183792, 987.358838, -1.8162074866268085e-07 ],\n",
    "[995.0554512212947, 995.055451, 2.2129472654341953e-07 ],\n",
    "[1000.0, 1000.0, 0.0] ] )\n"
   ]
  },
  {
   "cell_type": "code",
   "execution_count": null,
   "id": "72a2e97c-828f-4455-a1ff-ebd855ec4deb",
   "metadata": {},
   "outputs": [],
   "source": [
    "print(ilev[:,0])"
   ]
  },
  {
   "cell_type": "code",
   "execution_count": null,
   "id": "31e22733-e2fe-4bc7-aa23-5a8356473f03",
   "metadata": {},
   "outputs": [],
   "source": [
    "looloo=0.5*(ilev[1:,:]+ilev[0:-1,:])"
   ]
  },
  {
   "cell_type": "code",
   "execution_count": null,
   "id": "ec4853c6-6059-470a-8f2d-f604b8e64d05",
   "metadata": {},
   "outputs": [],
   "source": [
    "print(looloo)"
   ]
  },
  {
   "cell_type": "code",
   "execution_count": null,
   "id": "e6b8cd58-433a-4c54-95dd-906d5c504fc2",
   "metadata": {},
   "outputs": [],
   "source": [
    "doo='/glade/u/home/juliob/idl/make_ics_4_cam/'\n",
    "foo=doo+'GRID_48_taperstart10km_lowtop_BL10_v3p1_beta1p75.nc'\n",
    "\n",
    "foo='/glade/p/cesmdata/cseg/inputdata/atm/cam/inic/se/f.e22.FC2010climo.ne30pg3_ne30pg3_mg17.cam6_2_022.002.cam.i.0020-01-01-00000_c200610.nc'\n",
    "\n",
    "dS=xr.open_dataset(foo)\n"
   ]
  },
  {
   "cell_type": "code",
   "execution_count": null,
   "id": "663e14b7-6c25-42ad-a93c-510e481818d3",
   "metadata": {},
   "outputs": [],
   "source": [
    "print(1000.*(dS.hybi.values+dS.hyai.values))"
   ]
  },
  {
   "cell_type": "code",
   "execution_count": null,
   "id": "e77af85f-ea4f-4696-90e1-e66fc522a77e",
   "metadata": {},
   "outputs": [],
   "source": [
    "print(1000.*(dS.hybm.values+dS.hyam.values))"
   ]
  },
  {
   "cell_type": "code",
   "execution_count": null,
   "id": "dcb29518-8088-4549-a109-971d847da8d1",
   "metadata": {},
   "outputs": [],
   "source": [
    "ilev=1000.*(dS.hybi.values+dS.hyai.values)\n"
   ]
  },
  {
   "cell_type": "code",
   "execution_count": null,
   "id": "6026443b-45d6-4ad4-90de-8b46d2541a3a",
   "metadata": {},
   "outputs": [],
   "source": [
    "olev=1000.*(dS.hybm.values+dS.hyam.values)\n",
    "olev2=0.5*(ilev[1:]+ilev[0:-1])"
   ]
  },
  {
   "cell_type": "code",
   "execution_count": null,
   "id": "72825e11-9c36-4a49-9ae9-9dfd099be20c",
   "metadata": {},
   "outputs": [],
   "source": [
    "print(olev-olev2)"
   ]
  },
  {
   "cell_type": "code",
   "execution_count": null,
   "id": "e097984e-da5e-48ed-872e-2d9632ed11d5",
   "metadata": {},
   "outputs": [],
   "source": [
    "ilevc = dS.ilev.values"
   ]
  },
  {
   "cell_type": "code",
   "execution_count": null,
   "id": "703bff30-fb30-4137-a29f-9a2adf06c532",
   "metadata": {},
   "outputs": [],
   "source": [
    "levc=dS.lev.values"
   ]
  },
  {
   "cell_type": "code",
   "execution_count": null,
   "id": "98d171ee-2a46-45d5-9335-1d071780c5f6",
   "metadata": {},
   "outputs": [],
   "source": [
    "print(olev-levc)"
   ]
  },
  {
   "cell_type": "code",
   "execution_count": null,
   "id": "d09f226e-46a9-4228-aa94-c955219a9d85",
   "metadata": {},
   "outputs": [],
   "source": [
    "levc2=0.5*(ilevc[1:]+ilevc[0:-1])"
   ]
  },
  {
   "cell_type": "code",
   "execution_count": null,
   "id": "d61eb443-d9fd-4a3f-a26c-d4028097080d",
   "metadata": {},
   "outputs": [],
   "source": [
    "print(olev-levc2)"
   ]
  },
  {
   "cell_type": "code",
   "execution_count": null,
   "id": "ce81561e-6ba7-460b-9476-d02254782c51",
   "metadata": {},
   "outputs": [],
   "source": [
    "print(olev2)\n",
    "print(np.shape(olev))"
   ]
  },
  {
   "cell_type": "code",
   "execution_count": null,
   "id": "6ee40eae-67cf-4bd2-bbba-8ea38a1d2743",
   "metadata": {},
   "outputs": [],
   "source": []
  }
 ],
 "metadata": {
  "kernelspec": {
   "display_name": "NPL 2022b",
   "language": "python",
   "name": "npl-2022b"
  },
  "language_info": {
   "codemirror_mode": {
    "name": "ipython",
    "version": 3
   },
   "file_extension": ".py",
   "mimetype": "text/x-python",
   "name": "python",
   "nbconvert_exporter": "python",
   "pygments_lexer": "ipython3",
   "version": "3.8.13"
  }
 },
 "nbformat": 4,
 "nbformat_minor": 5
}
