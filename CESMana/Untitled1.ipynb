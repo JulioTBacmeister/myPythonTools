{
 "cells": [
  {
   "cell_type": "code",
   "execution_count": null,
   "id": "79956545-5f13-4d8e-82e9-883cbf2bc1ca",
   "metadata": {},
   "outputs": [],
   "source": [
    "workdir_ = '/glade/work/juliob/'\n",
    "import sys\n",
    "sys.path.append(workdir_ + 'myPythonTools/GenlTools/')\n",
    "sys.path.append(workdir_ + 'myPythonTools/Utils/')\n",
    "sys.path.append(workdir_ + 'PyRegridding/Regridder/')\n",
    "\n",
    "# Own local packages\n",
    "import AveragingUtils as Av\n",
    "import VertRegridFlexLL as Vrg\n",
    "import PlotUtil as Pu\n",
    "\n",
    "# The usual\n",
    "from datetime import date\n",
    "import numpy as np\n",
    "import xarray as xr\n",
    "import matplotlib.pyplot as plt\n",
    "import matplotlib.tri as tri\n",
    "\n",
    "# Cartopy for pretty maps\n",
    "import cartopy\n",
    "import cartopy.crs as ccrs\n",
    "import cartopy.feature as cfeature\n",
    "\n",
    "# Some other useful packages \n",
    "import importlib\n",
    "import copy\n",
    "import time\n",
    "import cftime\n",
    "\n",
    "importlib.reload( Pu )\n",
    "importlib.reload(Av)\n"
   ]
  },
  {
   "cell_type": "code",
   "execution_count": null,
   "id": "7a4b77da-f79d-4aaa-9ba7-97536b8ee24b",
   "metadata": {},
   "outputs": [],
   "source": [
    "########################\n",
    "\n",
    "fs = '/glade/derecho/scratch/bramberg/archive/MMdiags/atm/hist/MMdiags.cam.h1.1979-01-*.nc'\n",
    "X=xr.open_mfdataset( fs , data_vars='different', coords='different' )"
   ]
  },
  {
   "cell_type": "code",
   "execution_count": null,
   "id": "64e207e2-5d6a-4cbd-8c9c-50fdfdd9af58",
   "metadata": {},
   "outputs": [],
   "source": [
    "X\n"
   ]
  },
  {
   "cell_type": "code",
   "execution_count": null,
   "id": "ec69c740-d97e-4849-84c4-66674bffb980",
   "metadata": {},
   "outputs": [],
   "source": [
    "\n",
    "plt.contour(X.TAU_MOVMTN[50,:,:] )\n",
    "plt.contour(X.NETDT_MOVMTN[50,:,:] )\n",
    "plt.xlim(19475,19500)\n"
   ]
  },
  {
   "cell_type": "code",
   "execution_count": null,
   "id": "e1bfe20c-5c3f-483c-9970-44cd6a6c9fe8",
   "metadata": {},
   "outputs": [],
   "source": [
    "plt.plot(1.e5*X.TAU_MOVMTN[50,:,19481] )\n",
    "plt.plot(X.UBM_MOVMTN[50,:,19481] )\n"
   ]
  },
  {
   "cell_type": "code",
   "execution_count": null,
   "id": "6a619262-f0dc-41a5-83c3-d3be9955ac44",
   "metadata": {},
   "outputs": [],
   "source": []
  }
 ],
 "metadata": {
  "kernelspec": {
   "display_name": "NPL 2022b",
   "language": "python",
   "name": "npl-2022b"
  },
  "language_info": {
   "codemirror_mode": {
    "name": "ipython",
    "version": 3
   },
   "file_extension": ".py",
   "mimetype": "text/x-python",
   "name": "python",
   "nbconvert_exporter": "python",
   "pygments_lexer": "ipython3",
   "version": "3.8.13"
  }
 },
 "nbformat": 4,
 "nbformat_minor": 5
}
