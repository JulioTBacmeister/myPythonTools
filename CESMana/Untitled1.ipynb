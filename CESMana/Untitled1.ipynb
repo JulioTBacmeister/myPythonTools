{
 "cells": [
  {
   "cell_type": "code",
   "execution_count": null,
   "id": "fc13abe7-393c-4c45-8913-aaaabee1495b",
   "metadata": {},
   "outputs": [],
   "source": [
    "import sys\n",
    "\"\"\" Now you can imprt modules in ../SAMwrf\"\"\"\n",
    "sys.path.append('../../PyRegridding/Regridder/')\n",
    "\"\"\" Now you can imprt modules in  ... \"\"\"\n",
    "sys.path.append('../Utils/')\n",
    "\"\"\" Now you can imprt modules in  ... \"\"\"\n",
    "sys.path.append('../GenlTools/')\n",
    "\"\"\" Now you can imprt modules in  ... \"\"\"\n",
    "\n",
    "# Own local packages\n",
    "import AveragingUtils as Av\n",
    "import VertRegridFlexLL as Vrg\n",
    "\n",
    "# The usual\n",
    "from datetime import date\n",
    "import numpy as np\n",
    "import xarray as xr\n",
    "import matplotlib.pyplot as plt\n",
    "\n",
    "# Cartopy for pretty maps\n",
    "import cartopy\n",
    "import cartopy.crs as ccrs\n",
    "import cartopy.feature as cfeature\n",
    "\n",
    "# Some other useful packages \n",
    "import importlib\n",
    "import copy\n",
    "import time\n",
    "import cftime\n",
    "\n",
    "importlib.reload(Av)\n"
   ]
  },
  {
   "cell_type": "code",
   "execution_count": null,
   "id": "7f396b42-01d5-4ec4-ba90-1a6052d9a867",
   "metadata": {},
   "outputs": [],
   "source": [
    "x1  = 'f.cam6_3_117.FLTHIST_ne30.r250.wsub.001'\n",
    "x0  = 'f.cam6_3_117.FLTHIST_ne30.r250.001'\n",
    "drc = '/glade/scratch/hannay/archive/'"
   ]
  },
  {
   "cell_type": "code",
   "execution_count": null,
   "id": "e56d08db-983a-4149-86f6-02f48978f6d3",
   "metadata": {},
   "outputs": [],
   "source": [
    "f0=drc+x0+'/atm/hist/'+x0+'*.h0*.nc'\n",
    "f1=drc+x1+'/atm/hist/'+x1+'*.h0*.nc'\n"
   ]
  },
  {
   "cell_type": "code",
   "execution_count": null,
   "id": "3ce9ba48-1935-41d3-a547-27f2efdc7961",
   "metadata": {},
   "outputs": [],
   "source": [
    "dS0=xr.open_mfdataset( f0 )\n",
    "dS1=xr.open_mfdataset( f1 )\n"
   ]
  },
  {
   "cell_type": "code",
   "execution_count": null,
   "id": "55e59346-43d4-47d3-8a9b-161c329e81b4",
   "metadata": {},
   "outputs": [],
   "source": [
    "swcf0=dS0.SWCF.values\n",
    "swcf1=dS1.SWCF.values\n"
   ]
  },
  {
   "cell_type": "code",
   "execution_count": null,
   "id": "7894a8f4-ad88-4f99-9459-723b31b3288d",
   "metadata": {},
   "outputs": [],
   "source": [
    "print(np.shape(swcf0))\n",
    "print(np.shape(swcf1))\n"
   ]
  },
  {
   "cell_type": "code",
   "execution_count": null,
   "id": "0ed04fe4-c5dc-4e28-903d-b6b9813ec82e",
   "metadata": {
    "tags": []
   },
   "outputs": [],
   "source": [
    "cosw=np.cos(dS1.lat.values*np.pi/180.)\n",
    "swa0=np.average( np.average( swcf0[0:12,:,:], axis=0 ) , axis=1 )\n",
    "swa1=np.average( np.average( swcf1[0:12,:,:], axis=0 ) , axis=1 )\n",
    "mn0A= f\"Global Mean { (np.sum(swa0*cosw )/np.sum(cosw)):0.2f} \"\n",
    "mn1A= f\"Global Mean { (np.sum(swa1*cosw )/np.sum(cosw)):0.2f} \"\n",
    "print( mn0 , mn1  )\n"
   ]
  },
  {
   "cell_type": "code",
   "execution_count": null,
   "id": "60a7de43-c860-46ec-a36f-d037a8889787",
   "metadata": {},
   "outputs": [],
   "source": [
    "cmap='Blues'\n",
    "\n",
    "swlv=np.linspace(-150,40,num=20)\n",
    "dlv=np.linspace(-20,20,num=21)\n",
    "fig=plt.figure( figsize=( 20,20 ) )\n",
    "\n",
    "ax= fig.add_subplot( 2,2,2)\n",
    "co=ax.contourf( np.average( swcf0[0:12,:,:], axis=0 ) ,levels=swlv, cmap=cmap  )\n",
    "plt.colorbar(co)\n",
    "ax.set_title( '$Baseline:$ '+x0 ,size=16)\n",
    "ax.text( .55, .04 , mn0A , fontsize=16 , transform=ax.transAxes, bbox=dict(facecolor='white'))\n",
    "\n",
    "ax= fig.add_subplot( 2,2,1)\n",
    "co=ax.contourf( np.average( swcf1[0:12,:,:], axis=0 ) ,levels=swlv, cmap=cmap )\n",
    "plt.colorbar(co)\n",
    "ax.set_title( '$Test:$ '+x1 , size=16)\n",
    "ax.text( .55, .04 , mn1A , fontsize=16 , transform=ax.transAxes, bbox=dict(facecolor='white'))\n",
    "\n",
    "ax= fig.add_subplot( 2,2,3)\n",
    "co=ax.contourf( np.average( swcf1[0:12,:,:] - swcf0[0:12,:,:], axis=0 ) ,levels=dlv, cmap='bwr'  )\n",
    "plt.colorbar(co)\n",
    "ax.set_title( '$Test - Baseline$',size=16)\n",
    "\n",
    "\n"
   ]
  },
  {
   "cell_type": "code",
   "execution_count": null,
   "id": "d9e4956f-7be0-442c-ae9a-073525aed0bb",
   "metadata": {},
   "outputs": [],
   "source": [
    "print(list(dS1.variables))"
   ]
  },
  {
   "cell_type": "code",
   "execution_count": null,
   "id": "6f576e2e-4780-4fe9-b083-deba83e5bc2e",
   "metadata": {},
   "outputs": [],
   "source": []
  }
 ],
 "metadata": {
  "kernelspec": {
   "display_name": "NPL 2022b",
   "language": "python",
   "name": "npl-2022b"
  },
  "language_info": {
   "codemirror_mode": {
    "name": "ipython",
    "version": 3
   },
   "file_extension": ".py",
   "mimetype": "text/x-python",
   "name": "python",
   "nbconvert_exporter": "python",
   "pygments_lexer": "ipython3",
   "version": "3.8.13"
  }
 },
 "nbformat": 4,
 "nbformat_minor": 5
}
