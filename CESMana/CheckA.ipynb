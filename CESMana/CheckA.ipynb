{
 "cells": [
  {
   "cell_type": "code",
   "execution_count": null,
   "id": "abda101d-5eee-4761-b122-27066e2274d0",
   "metadata": {},
   "outputs": [],
   "source": [
    "workdir_ = '/glade/work/juliob/'\n",
    "import sys\n",
    "#######################################\n",
    "# Leave this for now. But it should change to better\n",
    "# method as here:\n",
    "# import os\n",
    "# module_a_dir = os.path.dirname(os.path.abspath(__file__))\n",
    "# utils_path = os.path.join(module_a_dir, '..', 'Utils')\n",
    "# sys.path.append(utils_path)\n",
    "# print( f\" a path added in {__name__} {utils_path} \")\n",
    "########################################\n",
    "sys.path.append(workdir_ + 'myPythonTools/GenlTools/')\n",
    "sys.path.append(workdir_ + 'myPythonTools/Utils/')\n",
    "#sys.path.append(workdir_ + 'PyRegridding/Regridder/')\n",
    "sys.path.append(workdir_ + 'PyRegridding/Utils/')\n",
    "\n",
    "# Own local packages\n",
    "import AveragingUtils as Av\n",
    "#import VertRegridFlexLL as Vrg  # This is toxic for some reason\n",
    "import PlotUtil as Pu\n",
    "import validation_data as Val\n",
    "import var_A_x_B as vAB\n",
    "import MakePressures as MkP\n",
    "import GridUtils as GrU\n",
    "import utils as uti\n",
    "\n",
    "# The usual\n",
    "from datetime import date\n",
    "import numpy as np\n",
    "import xarray as xr\n",
    "import matplotlib.pyplot as plt\n",
    "import matplotlib.tri as tri\n",
    "\n",
    "# Cartopy for pretty maps\n",
    "import cartopy\n",
    "import cartopy.crs as ccrs\n",
    "import cartopy.feature as cfeature\n",
    "\n",
    "# Some other useful packages \n",
    "import importlib\n",
    "import copy\n",
    "import time\n",
    "import cftime\n",
    "\n",
    "importlib.reload( uti )\n",
    "importlib.reload( Pu )\n",
    "importlib.reload(Av)\n",
    "importlib.reload(Val)\n",
    "importlib.reload(vAB)\n",
    "importlib.reload(MkP)\n"
   ]
  },
  {
   "cell_type": "code",
   "execution_count": null,
   "id": "fe38ba48-c51b-4870-ac65-a7079bb27a37",
   "metadata": {},
   "outputs": [],
   "source": [
    "### Make a list of files"
   ]
  },
  {
   "cell_type": "code",
   "execution_count": null,
   "id": "7b91b08d-be80-447b-a79c-7eca5484eeb8",
   "metadata": {},
   "outputs": [],
   "source": [
    "#restF ='/glade/derecho/scratch/juliob/archive/c153_topfix_ne240pg3_FMTHIST_xic_x02/rest/2005-02-26-00000/c153_topfix_ne240pg3_FMTHIST_xic_x02.cam.i.2005-01-01-00000.nc'\n",
    "#restF ='/glade/derecho/scratch/juliob/archive/c153_topfix_ne240pg3_FMTHIST_xic_x02/rest/2004-07-01-00000/c153_topfix_ne240pg3_FMTHIST_xic_x02.cam.r.2004-07-01-00000.nc'\n",
    "#restF ='/glade/derecho/scratch/juliob/archive/c64_gwR2_ne30pg3_FMTHIST_topfix_x01/rest/1986-01-01-00000/c64_gwR2_ne30pg3_FMTHIST_topfix_x01.cam.r.1986-01-01-00000.nc'\n",
    "\n",
    "restF ='/glade/derecho/scratch/juliob/archive/c64_gwR2_ne30pg3_FMTHIST_topfix_rdgres_x02/rest/1987-01-01-00000/c64_gwR2_ne30pg3_FMTHIST_topfix_rdgres_x02.cam.i.1987-01-01-00000.nc'\n",
    "\n",
    "RestX = xr.open_dataset(restF) \n",
    "\n",
    "print( list(RestX.variables) )"
   ]
  },
  {
   "cell_type": "code",
   "execution_count": null,
   "id": "6819c687-0542-4af1-b989-16ad40a59115",
   "metadata": {},
   "outputs": [],
   "source": [
    "RestX"
   ]
  },
  {
   "cell_type": "code",
   "execution_count": null,
   "id": "2cb0749b-299f-4d55-b03c-3a333fffae17",
   "metadata": {},
   "outputs": [],
   "source": [
    "plt.tricontourf( RestX.lon_d, RestX.lat_d,  RestX.N2O[0,50,:] )"
   ]
  },
  {
   "cell_type": "code",
   "execution_count": null,
   "id": "140db505-a09e-42d7-9730-51a0dbf1b0f4",
   "metadata": {},
   "outputs": [],
   "source": [
    "#RestX.so4_a1_fvm\n",
    "plt.plot( RestX.so4_a1[0,:,1_500_000] )"
   ]
  },
  {
   "cell_type": "code",
   "execution_count": null,
   "id": "dcadadbb-1341-40f7-a4fd-b775cce2ecec",
   "metadata": {},
   "outputs": [],
   "source": [
    "%%time\n",
    "\n",
    "#exp='c160mm_ne30pg3_FMTHIST_CTL'\n",
    "#exp='c160mm_ne30pg3_FMTHIST_movmtn'\n",
    "exp='c64_gwR2_ne30pg3_FMTHIST_topfix_x01'\n",
    "#exp='c64_005mm_ne30pg3_FMTHIST_CTL'\n",
    "#exp='c64_005mm_ne30pg3_FMTHIST_NOmovmtn'\n",
    "\n",
    "A = uti.MakeDict4Exp( exp=exp  , user='juliob', subd='hist' , \n",
    "                     hsPat='cam.h0a' , ymdPat='1985-01*' ,verbose=True, open_dataset=True )\n",
    "\n",
    "exp_A=A.exp"
   ]
  },
  {
   "cell_type": "code",
   "execution_count": null,
   "id": "62be2fd0-143e-443d-9852-67b10714a091",
   "metadata": {},
   "outputs": [],
   "source": [
    "%%time\n",
    "\n",
    "#exp='c160mm_ne30pg3_FMTHIST_CTL'\n",
    "#exp='c160mm_ne30pg3_FMTHIST_movmtn'\n",
    "#exp='c64_gwR2_ne30pg3_FMTHIST_topfix_x01'\n",
    "exp='c64_005mm_ne30pg3_FMTHIST_CTL'\n",
    "#exp='c64_005mm_ne30pg3_FMTHIST_NOmovmtn'\n",
    "\n",
    "B = uti.MakeDict4Exp( exp=exp  , user='juliob', subd='hist' , \n",
    "                     hsPat='cam.h0a' , ymdPat='1985-01*' ,verbose=True, open_dataset=True )\n"
   ]
  },
  {
   "cell_type": "code",
   "execution_count": null,
   "id": "6c76cf15-3d30-4a98-b9f7-d4756703f649",
   "metadata": {},
   "outputs": [],
   "source": [
    "A.X.topography_file"
   ]
  },
  {
   "cell_type": "code",
   "execution_count": null,
   "id": "e7ba96c5-12e2-45d8-9684-150b2656191e",
   "metadata": {},
   "outputs": [],
   "source": [
    "B.X.topography_file"
   ]
  },
  {
   "cell_type": "code",
   "execution_count": null,
   "id": "b75af1a8-8762-4da7-abcb-5e69fdf12b1e",
   "metadata": {},
   "outputs": [],
   "source": [
    "\n",
    "Atopo=xr.open_dataset( A.X.topography_file )\n",
    "Btopo=xr.open_dataset( B.X.topography_file )\n"
   ]
  },
  {
   "cell_type": "code",
   "execution_count": null,
   "id": "ac2f6406-9dc5-492a-8a9f-6e38d3b5c93f",
   "metadata": {},
   "outputs": [],
   "source": [
    "A.X.BURDENBC"
   ]
  },
  {
   "cell_type": "code",
   "execution_count": null,
   "id": "95ac6aad-96a5-4ce9-948f-b74b8438c529",
   "metadata": {},
   "outputs": [],
   "source": [
    "#plt.plot( Atopo.MXDIS[0,:] )\n",
    "plt.plot( Btopo.ANGLX.values.flatten() - Atopo.ANGLX.values.flatten() )\n"
   ]
  },
  {
   "cell_type": "code",
   "execution_count": null,
   "id": "a5acca68-47ea-4d78-9dd4-efbaf35d946b",
   "metadata": {},
   "outputs": [],
   "source": [
    "\n",
    "exp_Val='ERA5'"
   ]
  },
  {
   "cell_type": "code",
   "execution_count": null,
   "id": "50830be9-1bf3-4ef0-9f6c-fb7205a4e071",
   "metadata": {},
   "outputs": [],
   "source": [
    "########################\n",
    "# Some massaging\n",
    "########################\n",
    "\n",
    "\n",
    "print( f'{A.exp} Years {len(A.X.time) /12. }')\n",
    "\n",
    "#ps_x =Dx.PS.values\n",
    "lon_a=A.X.lon.values\n",
    "lat_a=A.X.lat.values\n",
    "lev_a=A.X.lev.values\n",
    "zlev_a=-7.0*np.log( lev_a/1_000. )\n",
    "\n"
   ]
  },
  {
   "cell_type": "code",
   "execution_count": null,
   "id": "880e1942-e260-4534-8768-2bd684a8ac2f",
   "metadata": {},
   "outputs": [],
   "source": [
    "season='djf'\n",
    "UUa_s,years_a,months_a = Av.Seasonal( ds=A.X, season=season , fld='U',return_time=True)\n",
    "TTa_s,years_a,months_a = Av.Seasonal( ds=A.X, season=season , fld='T',return_time=True)\n",
    "\n"
   ]
  },
  {
   "cell_type": "code",
   "execution_count": null,
   "id": "ef780100-b059-4654-9eca-4bed9091bdbd",
   "metadata": {},
   "outputs": [],
   "source": [
    "UUa_sz=np.average( UUa_s , axis=2 )\n",
    "TTa_sz=np.average( TTa_s , axis=2 )\n"
   ]
  },
  {
   "cell_type": "code",
   "execution_count": null,
   "id": "9c8b2952-f6da-4b22-8d0e-d5b80187055a",
   "metadata": {},
   "outputs": [],
   "source": [
    "####\n",
    "# Validation\n",
    "####\n",
    "Validation_on_control_mgrid = False\n",
    "\n",
    "if (Validation_on_control_mgrid == True):\n",
    "    PSc_s = Av.Seasonal( ds=Dc, season=season , fld='PS')\n",
    "    mgrid={'ps':PSc_s, 'hyam':hyam_c, 'hybm':hybm_c, 'hyai':hyai_c, 'hybi':hybi_c, 'hgrid':'fv0.9x1.25' }\n",
    "else:\n",
    "    mgrid=False\n",
    "\n",
    "Uval = Val.data(fld='U',season=season,mgrid=mgrid,zlev=True ) #, Years='1996' ) #, Years='2000' )\n",
    "UUv_s , zlev_v,lat_v,lon_v = Uval['aa'], Uval['lev'], Uval['lat'], Uval['lon']\n",
    "UUv_sz=np.average( UUv_s , axis=2 )\n",
    "\n",
    "Tval = Val.data(fld='T',season=season,mgrid=mgrid,zlev=True ) #, Years='1996' ) #, Years='2000' )\n",
    "TTv_s , zlev_v,lat_v,lon_v = Tval['aa'], Tval['lev'], Tval['lat'], Tval['lon']\n",
    "TTv_sz=np.average( TTv_s , axis=2 )\n",
    "\n"
   ]
  },
  {
   "cell_type": "code",
   "execution_count": null,
   "id": "2cb97ec6-6115-44aa-9605-50dcb4cd0058",
   "metadata": {},
   "outputs": [],
   "source": [
    "print(f'STOP ')"
   ]
  },
  {
   "cell_type": "code",
   "execution_count": null,
   "id": "f58dc1de-4f2d-4f5a-9e90-94ef538048fd",
   "metadata": {},
   "outputs": [],
   "source": [
    "print(f'STOP ')"
   ]
  },
  {
   "cell_type": "code",
   "execution_count": null,
   "id": "2adbe23c-d9cc-458e-adf5-fdcab7cb4846",
   "metadata": {},
   "outputs": [],
   "source": [
    "\n",
    "\n",
    "#nxplo,nyplo=4,1\n",
    "#fig = plt.figure(figsize=(24, 5))\n",
    "\n",
    "\n",
    "# Create 2D arrays\n",
    "Lat_a, Zlev_a = np.meshgrid(lat_a, zlev_a)\n",
    "nxplo,nyplo=2,2\n",
    "# Adding the hatching for the sponge layer\n",
    "sponge_layer = np.zeros_like(UUa_sz)\n",
    "sponge_layer[(Zlev_a >= 62) & (Zlev_a <= 85)] = 1\n",
    "\n",
    "\n",
    "fig = plt.figure(figsize=(15, 12))\n",
    "\n",
    "\n",
    "ulev=np.linspace( -60,140,num=21) \n",
    "tlev=np.linspace( 180,300,num=21) \n",
    "dlev=np.linspace( -20,20,num=21) \n",
    "cmap='gist_ncar'\n",
    "\n",
    "titlesize=18\n",
    "\n",
    "\"\"\"\n",
    "titles = [ f\"Control: $\\Delta x$=100km (ne30) {season.upper()}\" ,\n",
    "          f\"$\\Delta x$=28km (ne120) {season.upper()} \" ,\n",
    "          f\"$\\Delta x$=14km (ne240) {season.upper()} \" ,\n",
    "          f\"Validation <{exp_Val}> {season.upper()}  \" ]\n",
    "\"\"\"\n",
    "titles = [ f\"Control <{A.exp}> \\n {season.upper()} {years_a[0]}-{years_a[-1]}\" ,\n",
    "          f\"Control <{A.exp}> \\n {season.upper()} {years_a[0]}-{years_a[-1]}\" ,\n",
    "          f\"Validation <{exp_Val}> {season.upper()}  \" ,\n",
    "          f\"Validation <{exp_Val}> {season.upper()}  \" ]\n",
    "plotTop=82\n",
    "\n",
    "n=1\n",
    "Axes1 = Pu.axes_def(n=n,nxplo=nxplo,nyplo=nyplo ) \n",
    "ax1 = fig.add_axes( Axes1 )\n",
    "co1=ax1.contourf(lat_a,zlev_a,UUa_sz ,levels=ulev, cmap=cmap )\n",
    "co2=ax1.contour(lat_a,zlev_a,UUa_sz ,levels=ulev, colors='black')\n",
    "#ax1.set_title(f\"Control <{A.exp}> {season.upper()} {years_a[0]}-{years_a[-1]}\" )\n",
    "ax1.set_title( titles[n-1],fontsize=titlesize )\n",
    "ax1.set_ylim(0,plotTop)\n",
    "cb=plt.colorbar(co1)\n",
    "ax1.text(-0.08, 1.05, f\"{chr(97 +n-1)})\", transform=ax1.transAxes,\n",
    "    fontsize=20, fontweight='bold', va='top')\n",
    "\n",
    "# Sponge layer hatching\n",
    "ax1.contourf(lat_a, zlev_a, sponge_layer, levels=[0.5, 1.5], hatches=['//'], alpha=0)\n",
    "\n",
    "\n",
    "n=3\n",
    "Axes1 = Pu.axes_def(n=n,nxplo=nxplo,nyplo=nyplo ) \n",
    "ax1 = fig.add_axes( Axes1 )\n",
    "co1=ax1.contourf(lat_v,zlev_v, UUv_sz ,levels=ulev, cmap=cmap )\n",
    "co2=ax1.contour(lat_v,zlev_v, UUv_sz ,levels=ulev, colors='black')\n",
    "#ax1.set_title(f\"Validation <{exp_Val}> {season.upper()}  \" )\n",
    "ax1.set_title( titles[n-1] ,fontsize=titlesize )\n",
    "ax1.set_ylim(0,plotTop)\n",
    "cb=plt.colorbar(co1)\n",
    "ax1.text(-0.08, 1.05, f\"{chr(97 +n-1)})\", transform=ax1.transAxes,\n",
    "    fontsize=20, fontweight='bold', va='top')\n",
    "\n",
    "n=2\n",
    "Axes1 = Pu.axes_def(n=n,nxplo=nxplo,nyplo=nyplo ) \n",
    "ax1 = fig.add_axes( Axes1 )\n",
    "co1=ax1.contourf(lat_a,zlev_a,TTa_sz ,levels=tlev, cmap=cmap )\n",
    "co2=ax1.contour(lat_a,zlev_a,TTa_sz ,levels=tlev, colors='black')\n",
    "#ax1.set_title(f\"Control <{A.exp}> {season.upper()} {years_a[0]}-{years_a[-1]}\" )\n",
    "ax1.set_title( titles[n-1],fontsize=titlesize )\n",
    "ax1.set_ylim(0,plotTop)\n",
    "cb=plt.colorbar(co1)\n",
    "ax1.text(-0.08, 1.05, f\"{chr(97 +n-1)})\", transform=ax1.transAxes,\n",
    "    fontsize=20, fontweight='bold', va='top')\n",
    "\n",
    "# Sponge layer hatching\n",
    "ax1.contourf(lat_a, zlev_a, sponge_layer, levels=[0.5, 1.5], hatches=['//'], alpha=0)\n",
    "\n",
    "\n",
    "n=4\n",
    "Axes1 = Pu.axes_def(n=n,nxplo=nxplo,nyplo=nyplo ) \n",
    "ax1 = fig.add_axes( Axes1 )\n",
    "co1=ax1.contourf(lat_v,zlev_v, TTv_sz ,levels=tlev, cmap=cmap )\n",
    "co2=ax1.contour(lat_v,zlev_v, TTv_sz ,levels=tlev, colors='black')\n",
    "#ax1.set_title(f\"Validation <{exp_Val}> {season.upper()}  \" )\n",
    "ax1.set_title( titles[n-1] ,fontsize=titlesize )\n",
    "ax1.set_ylim(0,plotTop)\n",
    "cb=plt.colorbar(co1)\n",
    "ax1.text(-0.08, 1.05, f\"{chr(97 +n-1)})\", transform=ax1.transAxes,\n",
    "    fontsize=20, fontweight='bold', va='top')\n"
   ]
  },
  {
   "cell_type": "code",
   "execution_count": null,
   "id": "0731ffc2-6748-423c-a52c-e39671aaca0c",
   "metadata": {},
   "outputs": [],
   "source": []
  }
 ],
 "metadata": {
  "kernelspec": {
   "display_name": "NPL 2023b",
   "language": "python",
   "name": "npl-2023b"
  },
  "language_info": {
   "codemirror_mode": {
    "name": "ipython",
    "version": 3
   },
   "file_extension": ".py",
   "mimetype": "text/x-python",
   "name": "python",
   "nbconvert_exporter": "python",
   "pygments_lexer": "ipython3",
   "version": "3.10.12"
  }
 },
 "nbformat": 4,
 "nbformat_minor": 5
}
