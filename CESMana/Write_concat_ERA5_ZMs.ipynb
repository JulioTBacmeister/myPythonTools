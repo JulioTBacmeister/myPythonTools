{
 "cells": [
  {
   "cell_type": "code",
   "execution_count": null,
   "id": "ca20f6de-63b3-4910-b2bb-fd10c0a641be",
   "metadata": {},
   "outputs": [],
   "source": [
    "workdir_ = '/glade/work/juliob/'\n",
    "import sys\n",
    "#######################################\n",
    "# Leave this for now. But it should change to better\n",
    "# method as here:\n",
    "# import os\n",
    "# module_a_dir = os.path.dirname(os.path.abspath(__file__))\n",
    "# utils_path = os.path.join(module_a_dir, '..', 'Utils')\n",
    "# sys.path.append(utils_path)\n",
    "# print( f\" a path added in {__name__} {utils_path} \")\n",
    "########################################\n",
    "sys.path.append(workdir_ + 'myPythonTools/GenlTools/')\n",
    "sys.path.append(workdir_ + 'myPythonTools/Utils/')\n",
    "#sys.path.append(workdir_ + 'PyRegridding/Regridder/')\n",
    "\n",
    "# Own local packages\n",
    "import AveragingUtils as Av\n",
    "#import VertRegridFlexLL as Vrg  # This is toxic for some reason\n",
    "import PlotUtil as Pu\n",
    "import validation_data as Val\n",
    "import var_A_x_B as vAB\n",
    "import utils as uti\n",
    "\n",
    "sys.path.append(workdir_ + 'PyRegridding/Utils/')\n",
    "import MakePressures as MkP\n",
    "import GridUtils as GrU\n",
    "\n",
    "\n",
    "sys.path.append(workdir_ + 'PyRegridding/Drivers/')\n",
    "import RegridField as RgF\n",
    "\n",
    "\n",
    "# The usual\n",
    "from datetime import date\n",
    "import numpy as np\n",
    "import xarray as xr\n",
    "import matplotlib.pyplot as plt\n",
    "import matplotlib.tri as tri\n",
    "\n",
    "# Cartopy for pretty maps\n",
    "import cartopy\n",
    "import cartopy.crs as ccrs\n",
    "import cartopy.feature as cfeature\n",
    "\n",
    "# Some other useful packages \n",
    "import importlib\n",
    "import copy\n",
    "import time\n",
    "import cftime\n",
    "\n",
    "importlib.reload( uti )\n",
    "importlib.reload( Pu )\n",
    "importlib.reload(Av)\n",
    "importlib.reload(Val)\n",
    "importlib.reload(vAB)\n",
    "importlib.reload(MkP)\n",
    "importlib.reload(RgF)\n"
   ]
  },
  {
   "cell_type": "code",
   "execution_count": null,
   "id": "53987ac9-5556-4111-a0d2-5dcd395f11ce",
   "metadata": {},
   "outputs": [],
   "source": [
    "%%time\n",
    "####\n",
    "# Validation\n",
    "####\n",
    "\n",
    "ERA5dir = '/glade/campaign/cgd/amp/juliob/ERA5/Zonal_monthly/'\n",
    "# get ERA5 pl \n",
    "path_C = ERA5dir + 'ERA5.native.time.*.nc'\n",
    "Dc = xr.open_mfdataset( path_C ) #, coords='different' )\n",
    "lev_ERA = 1_000.*Dc.hyam.values[0,:] +1_000.*Dc.hybm.values[0,:] \n",
    "lat_ERA = Dc.latitude.values\n",
    "zlev_ERA = -7. * np.log( lev_ERA /1_000. )\n",
    "mos_ERA=1979.+np.arange( 528 )/12.\n",
    "Uval=Dc.U.values"
   ]
  },
  {
   "cell_type": "code",
   "execution_count": null,
   "id": "2fdd73ff-2d5e-4186-ae21-00cf87a49e87",
   "metadata": {},
   "outputs": [],
   "source": [
    "Dc"
   ]
  },
  {
   "cell_type": "code",
   "execution_count": null,
   "id": "c469fea8-e92b-4a43-93dd-5c9da4357810",
   "metadata": {},
   "outputs": [],
   "source": [
    "print( Dc.time[-1].values )"
   ]
  },
  {
   "cell_type": "code",
   "execution_count": null,
   "id": "fa9d3914-bea7-4d5c-b38d-f5e1a95a06b0",
   "metadata": {},
   "outputs": [],
   "source": [
    "path_C = ERA5dir + 'ERA5.native.time.1979-2022.nc'"
   ]
  },
  {
   "cell_type": "code",
   "execution_count": null,
   "id": "08af94a2-b4da-4d9d-a546-2445ae416fca",
   "metadata": {},
   "outputs": [],
   "source": [
    "Dc.to_netcdf( path_C )"
   ]
  },
  {
   "cell_type": "code",
   "execution_count": null,
   "id": "9698b591-ba98-4920-a8ad-8571ac6e371c",
   "metadata": {},
   "outputs": [],
   "source": [
    "%%time\n",
    "\n",
    "Poo=xr.open_dataset( path_C )"
   ]
  },
  {
   "cell_type": "code",
   "execution_count": null,
   "id": "cdf6d2c8-1fe0-40f7-8b3e-2bbd5fa033d7",
   "metadata": {},
   "outputs": [],
   "source": []
  }
 ],
 "metadata": {
  "kernelspec": {
   "display_name": "NPL 2024b",
   "language": "python",
   "name": "npl-2024b"
  },
  "language_info": {
   "codemirror_mode": {
    "name": "ipython",
    "version": 3
   },
   "file_extension": ".py",
   "mimetype": "text/x-python",
   "name": "python",
   "nbconvert_exporter": "python",
   "pygments_lexer": "ipython3",
   "version": "3.11.9"
  }
 },
 "nbformat": 4,
 "nbformat_minor": 5
}
