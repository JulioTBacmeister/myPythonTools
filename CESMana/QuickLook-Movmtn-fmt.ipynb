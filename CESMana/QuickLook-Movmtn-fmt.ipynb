{
 "cells": [
  {
   "cell_type": "code",
   "execution_count": null,
   "id": "79956545-5f13-4d8e-82e9-883cbf2bc1ca",
   "metadata": {},
   "outputs": [],
   "source": [
    "workdir_ = '/glade/work/juliob/'\n",
    "import sys\n",
    "sys.path.append(workdir_ + 'myPythonTools/GenlTools/')\n",
    "sys.path.append(workdir_ + 'myPythonTools/Utils/')\n",
    "sys.path.append(workdir_ + 'PyRegridding/Regridder/')\n",
    "\n",
    "# Own local packages\n",
    "import AveragingUtils as Av\n",
    "import VertRegridFlexLL as Vrg\n",
    "import PlotUtil as Pu\n",
    "import gw_movmtn as GW\n",
    "\n",
    "# The usual\n",
    "from datetime import date\n",
    "import numpy as np\n",
    "import xarray as xr\n",
    "import matplotlib.pyplot as plt\n",
    "import matplotlib.tri as tri\n",
    "\n",
    "# Cartopy for pretty maps\n",
    "import cartopy\n",
    "import cartopy.crs as ccrs\n",
    "import cartopy.feature as cfeature\n",
    "\n",
    "# Some other useful packages \n",
    "import importlib\n",
    "import copy\n",
    "import time\n",
    "import cftime\n",
    "\n",
    "importlib.reload( Pu )\n",
    "importlib.reload(Av)\n",
    "importlib.reload(GW)\n"
   ]
  },
  {
   "cell_type": "code",
   "execution_count": null,
   "id": "7a4b77da-f79d-4aaa-9ba7-97536b8ee24b",
   "metadata": {},
   "outputs": [],
   "source": [
    "########################\n",
    "\n",
    "fs = '/glade/derecho/scratch/juliob/archive/fmt_MM_x21/atm/hist/fmt_MM_x21.cam.h1.*.nc'\n",
    "X=xr.open_mfdataset( fs , data_vars='different', coords='different' )"
   ]
  },
  {
   "cell_type": "code",
   "execution_count": null,
   "id": "64e207e2-5d6a-4cbd-8c9c-50fdfdd9af58",
   "metadata": {},
   "outputs": [],
   "source": [
    "X\n"
   ]
  },
  {
   "cell_type": "code",
   "execution_count": null,
   "id": "ec69c740-d97e-4849-84c4-66674bffb980",
   "metadata": {},
   "outputs": [],
   "source": [
    "\n",
    "clev=0.01*np.linspace(0.,1.,num=21)\n",
    "plt.tricontourf(X.lon,X.lat,np.abs(X.XPWP_SRC_MOVMTN[20,:] ),levels=clev )\n",
    "plt.colorbar()\n",
    "#plt.contour(X.UBM_MOVMTN[5,:,:] )\n",
    "#plt.xlim(19475,19500)\n",
    "#plt.plot(X.TAU_MOVMTN[5,30,:] )"
   ]
  },
  {
   "cell_type": "code",
   "execution_count": null,
   "id": "4f285833-1a74-41c0-a906-5e6984e12525",
   "metadata": {},
   "outputs": [],
   "source": [
    "\n",
    "fig=plt.figure()\n",
    "\n",
    "scale=86_400.\n",
    "clev=10.*np.linspace( -.1,.1,num=21) \n",
    "\n",
    "Axes1 = Pu.axes_def(n=1,nxplo=1,nyplo=1 ) \n",
    "ax1 = fig.add_axes(Axes1)\n",
    "co = ax1.tricontourf(X.lon,X.lat,scale*X.UTGW_MOVMTN[5,40,:] , levels=clev, cmap='bwr')\n",
    "li = ax1.tricontour(X.lon,X.lat,X.Z3[5,92,:] , colors='black')\n",
    "\n",
    "plt.colorbar(co)\n",
    "#plt.contour(X.UBM_MOVMTN[5,:,:] )\n",
    "#plt.xlim(19475,19500)\n",
    "#plt.plot(X.TAU_MOVMTN[5,30,:] )"
   ]
  },
  {
   "cell_type": "code",
   "execution_count": null,
   "id": "8ee65fd8-2de5-40b9-889c-9c0e874525ef",
   "metadata": {},
   "outputs": [],
   "source": [
    "\n",
    "\n",
    "plt.plot(X.TAU_MOVMTN[5,1,:] )\n",
    "plt.xlim(30600,30700)\n",
    "#plt.xlim(2350,2400)"
   ]
  },
  {
   "cell_type": "code",
   "execution_count": null,
   "id": "f9bfa058-2175-4362-a686-1fc93b75a028",
   "metadata": {},
   "outputs": [],
   "source": [
    "\n",
    "# inputs need to shaped ncol,nz or ntime,nz. Hence the '.T' here\n",
    "gwut = GW.tends_from_tau( tau=X.TAU_MOVMTN[5,:,:].values.T , \n",
    "                        ubm=X.UBM_MOVMTN[5,:,:].values.T , \n",
    "                        pint=X.PINT[5,:,:].values.T  )"
   ]
  },
  {
   "cell_type": "code",
   "execution_count": null,
   "id": "38cfbdb6-012b-4612-87e7-537594e365f1",
   "metadata": {},
   "outputs": [],
   "source": [
    "print(np.shape(gwut))"
   ]
  },
  {
   "cell_type": "code",
   "execution_count": null,
   "id": "26985ec4-0746-481a-91c5-7b8550ac092f",
   "metadata": {},
   "outputs": [],
   "source": [
    "\n",
    "zlev = -7.*np.log( X.lev/1_000.)\n",
    "zilev = -7.*np.log( X.ilev/1_000.)"
   ]
  },
  {
   "cell_type": "code",
   "execution_count": null,
   "id": "5bb52b2c-93a8-456e-a3e2-f1ff420ce36d",
   "metadata": {},
   "outputs": [],
   "source": [
    "\n",
    "icol=2360\n",
    "icol=30600\n",
    "icol=14447\n",
    "print(X.CS1_MOVMTN[5,icol].values)\n",
    "print(X.STEER_LEVEL_MOVMTN[5,icol].values)\n",
    "plt.plot( X.UBM_MOVMTN[5,:,icol]  , zlev ,color='black')\n",
    "plt.plot( X.U_MOVMTN_IN[5,:,icol] , zlev ,color='red' )\n",
    "plt.plot( X.V_MOVMTN_IN[5,:,icol] , zlev ,color='green' )\n"
   ]
  },
  {
   "cell_type": "code",
   "execution_count": null,
   "id": "556868ff-92f4-4ae9-b60d-b8e7b673f196",
   "metadata": {},
   "outputs": [],
   "source": [
    "\n",
    "plt.plot( X.UTGW_MOVMTN[5,:,icol] , zlev ,color='red')\n",
    "plt.plot( X.VTGW_MOVMTN[5,:,icol] , zlev ,color='green')\n",
    "#plt.xlim(-.01,.01)\n"
   ]
  },
  {
   "cell_type": "code",
   "execution_count": null,
   "id": "b5789c1b-eeda-449d-bab2-d117617ecb6b",
   "metadata": {},
   "outputs": [],
   "source": [
    "plt.plot( X.GWUT_MOVMTN[5,:,icol] , zlev ,'o',color='green')\n",
    "plt.plot( gwut[icol,:],zlev,'x',color='red')\n",
    "#plt.ylim(0,50)"
   ]
  },
  {
   "cell_type": "code",
   "execution_count": null,
   "id": "f6b7e4af-840c-4be5-97e5-9d98be62898c",
   "metadata": {},
   "outputs": [],
   "source": [
    "#plt.plot( X.GWUT_MOVMTN[5,:,:].values.flatten() ) # - gwut.T.flatten()  )\n",
    "plt.scatter( X.GWUT_MOVMTN[5,:,:].values.flatten()  , gwut.T.flatten()  )\n",
    "#plt.plot( gwut.T.flatten() )"
   ]
  },
  {
   "cell_type": "code",
   "execution_count": null,
   "id": "7248736e-5777-49a2-9e8b-ea51b0473a03",
   "metadata": {},
   "outputs": [],
   "source": [
    "for k in np.arange(start=40,stop=30,step=-1):\n",
    "    print( f\"{k} {zlev[k] :.2f} {X.GWUT_MOVMTN[5,k,icol]}  \")"
   ]
  },
  {
   "cell_type": "code",
   "execution_count": null,
   "id": "6a619262-f0dc-41a5-83c3-d3be9955ac44",
   "metadata": {},
   "outputs": [],
   "source": [
    "plt.plot( X.TAU_MOVMTN[5,:,icol] , zilev ,color='green')\n"
   ]
  },
  {
   "cell_type": "code",
   "execution_count": null,
   "id": "13fe3b38-87e6-483e-9061-73cd428d0634",
   "metadata": {},
   "outputs": [],
   "source": [
    "plt.contourf( X.TAU_MOVMTN[5,:,:] ,levels=21 ) \n",
    "plt.xlim(14440,14460)\n"
   ]
  },
  {
   "cell_type": "code",
   "execution_count": null,
   "id": "e1bfe20c-5c3f-483c-9970-44cd6a6c9fe8",
   "metadata": {},
   "outputs": [],
   "source": [
    "#plt.plot(1.e5*X.TAU_MOVMTN[5,:,19481] )\n",
    "plt.plot(X.SRC_LEVEL_MOVMTN[5,:] )\n"
   ]
  }
 ],
 "metadata": {
  "kernelspec": {
   "display_name": "NPL 2022b",
   "language": "python",
   "name": "npl-2022b"
  },
  "language_info": {
   "codemirror_mode": {
    "name": "ipython",
    "version": 3
   },
   "file_extension": ".py",
   "mimetype": "text/x-python",
   "name": "python",
   "nbconvert_exporter": "python",
   "pygments_lexer": "ipython3",
   "version": "3.8.13"
  }
 },
 "nbformat": 4,
 "nbformat_minor": 5
}
