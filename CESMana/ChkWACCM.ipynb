{
 "cells": [
  {
   "cell_type": "code",
   "execution_count": null,
   "id": "39198a98-90df-443f-9be9-8aa378d563c0",
   "metadata": {},
   "outputs": [],
   "source": [
    "workdir_ = '/glade/work/juliob'\n",
    "if ( workdir_ not in sys.path ):\n",
    "    sys.path.append(workdir_)\n",
    "    print( f\" a path to {workdir_} added in {__name__} \")\n",
    "\n",
    "import time\n",
    "import numpy as np\n",
    "import xarray as xr\n",
    "import matplotlib.pyplot as plt\n",
    "\n",
    "\n",
    "from PyRegridding.Utils import GridUtils as GrU\n",
    "from PyRegridding.Utils import MakePressures as MkP\n",
    "from PyRegridding.Drivers import RegridField as RgF\n",
    "from PyRegridding.Utils import VertGridUtils as VGU\n",
    "\n",
    "import importlib\n",
    "importlib.reload( VGU )\n"
   ]
  },
  {
   "cell_type": "code",
   "execution_count": null,
   "id": "e67ea21b-3227-4824-a767-afcab703ea79",
   "metadata": {},
   "outputs": [],
   "source": [
    "#####################################\n",
    "myGridFiles = '/glade/work/juliob/GridFiles/'\n",
    "\n",
    "L70f='/glade/campaign/cesm/cesmdata/cseg/inputdata/atm/waccm/ic/FW2000_ne30pg3_L70_01-01-0001_c200602.nc'\n",
    "L70=xr.open_dataset( L70f )\n",
    "\n",
    "L135f = f'{myGridFiles}/Vertical/GRID_135L_CAM7_OrigAB-UnHealed_c20241014.nc' #   GRID_135L_CAM7_OrigAB_c20241011.nc'\n",
    "L135f = f'{myGridFiles}/Vertical/GRID_135L_CAM7_OrigAB_c20241011.nc'\n",
    "L135 =xr.open_dataset( L135f )\n",
    "\n",
    "L58f = f'{myGridFiles}/Vertical/GRID_48_taperstart10km_lowtop_BL10_v3p1_beta1p75.nc'\n",
    "L58=xr.open_dataset( L58f )\n",
    "\n",
    "p58 = L58.hyai.values + L58.hybi.values\n",
    "p135 = L135.hyai.values + L135.hybi.values\n",
    "p70 = L70.hyai.values + L70.hybi.values\n"
   ]
  },
  {
   "cell_type": "code",
   "execution_count": null,
   "id": "3efbfc36-ea29-46a2-b49d-85ea80152ccf",
   "metadata": {},
   "outputs": [],
   "source": [
    "print(f'Top P (70L) ={100_000. * p70[0]} Pa')\n",
    "print(f'Top P (135L) ={100_000. * p135[0]} Pa')"
   ]
  },
  {
   "cell_type": "code",
   "execution_count": null,
   "id": "43e8712f-451c-42ec-a701-eb244cd89ae0",
   "metadata": {},
   "outputs": [],
   "source": [
    "hyaiXX , hybiXX = VGU.Original_as_bs(pXX , gridalign=True, p58=p58 )"
   ]
  }
 ],
 "metadata": {
  "kernelspec": {
   "display_name": "NPL 2024b",
   "language": "python",
   "name": "npl-2024b"
  },
  "language_info": {
   "codemirror_mode": {
    "name": "ipython",
    "version": 3
   },
   "file_extension": ".py",
   "mimetype": "text/x-python",
   "name": "python",
   "nbconvert_exporter": "python",
   "pygments_lexer": "ipython3",
   "version": "3.11.9"
  }
 },
 "nbformat": 4,
 "nbformat_minor": 5
}
