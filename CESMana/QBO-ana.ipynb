{
 "cells": [
  {
   "cell_type": "code",
   "execution_count": null,
   "id": "abda101d-5eee-4761-b122-27066e2274d0",
   "metadata": {},
   "outputs": [],
   "source": [
    "workdir_ = '/glade/work/juliob/'\n",
    "import sys\n",
    "#######################################\n",
    "# Leave this for now. But it should change to better\n",
    "# method as here:\n",
    "# import os\n",
    "# module_a_dir = os.path.dirname(os.path.abspath(__file__))\n",
    "# utils_path = os.path.join(module_a_dir, '..', 'Utils')\n",
    "# sys.path.append(utils_path)\n",
    "# print( f\" a path added in {__name__} {utils_path} \")\n",
    "########################################\n",
    "sys.path.append(workdir_ + 'myPythonTools/GenlTools/')\n",
    "sys.path.append(workdir_ + 'myPythonTools/Utils/')\n",
    "#sys.path.append(workdir_ + 'PyRegridding/Regridder/')\n",
    "sys.path.append(workdir_ + 'PyRegridding/Utils/')\n",
    "\n",
    "# Own local packages\n",
    "import AveragingUtils as Av\n",
    "#import VertRegridFlexLL as Vrg  # This is toxic for some reason\n",
    "import PlotUtil as Pu\n",
    "import validation_data as Val\n",
    "import var_A_x_B as vAB\n",
    "import MakePressures as MkP\n",
    "import GridUtils as GrU\n",
    "import utils as uti\n",
    "\n",
    "# The usual\n",
    "from datetime import date\n",
    "import numpy as np\n",
    "import xarray as xr\n",
    "import matplotlib.pyplot as plt\n",
    "import matplotlib.tri as tri\n",
    "\n",
    "# Cartopy for pretty maps\n",
    "import cartopy\n",
    "import cartopy.crs as ccrs\n",
    "import cartopy.feature as cfeature\n",
    "\n",
    "# Some other useful packages \n",
    "import importlib\n",
    "import copy\n",
    "import time\n",
    "import cftime\n",
    "\n",
    "importlib.reload( uti )\n",
    "importlib.reload( Pu )\n",
    "importlib.reload(Av)\n",
    "importlib.reload(Val)\n",
    "importlib.reload(vAB)\n",
    "importlib.reload(MkP)\n"
   ]
  },
  {
   "cell_type": "code",
   "execution_count": null,
   "id": "6ec50955-93bd-42b9-ae29-cd743ff5a5a2",
   "metadata": {},
   "outputs": [],
   "source": [
    "import matplotlib\n",
    "print(matplotlib.__version__)\n",
    "print(cartopy.__version__)"
   ]
  },
  {
   "cell_type": "raw",
   "id": "fb84ab97-fc7c-4241-ae9c-a20c60c75876",
   "metadata": {},
   "source": [
    "in 2022-b 3.5.2, 0.20.3\n",
    "in 2023-b 3.7.3, 0.21.1"
   ]
  },
  {
   "cell_type": "code",
   "execution_count": null,
   "id": "44c49cf1-050d-47b8-b89f-d46cfe57045f",
   "metadata": {},
   "outputs": [],
   "source": [
    "import dask.system\n",
    "\n",
    "# Get the number of physical CPU cores\n",
    "physical_cores = dask.system.CPU_COUNT\n",
    "\n",
    "print(f\"Number of physical CPU cores: {physical_cores}\")\n",
    "\n",
    "# If you want logical cores (including hyper-threading), use:\n",
    "import multiprocessing\n",
    "\n",
    "logical_cores = multiprocessing.cpu_count()\n",
    "\n",
    "print(f\"Number of logical CPU cores: {logical_cores}\")\n"
   ]
  },
  {
   "cell_type": "code",
   "execution_count": null,
   "id": "d7166451-8378-48a9-ac5f-e39c0f304b31",
   "metadata": {},
   "outputs": [],
   "source": [
    "from dask.distributed import Client, LocalCluster\n",
    "\n",
    "# Create a local cluster\n",
    "cluster = LocalCluster()\n",
    "client = Client(cluster)\n",
    "\n",
    "# Check the number of workers and threads per worker\n",
    "print(f\"Number of workers: {len(client.scheduler_info()['workers'])}\")\n",
    "print(f\"Threads per worker: {client.nthreads()}\")\n"
   ]
  },
  {
   "cell_type": "code",
   "execution_count": null,
   "id": "529a7422-f99f-4246-abad-84d1ee87b239",
   "metadata": {},
   "outputs": [],
   "source": [
    "print(f\"Dashboard link: {client.dashboard_link}\")"
   ]
  },
  {
   "cell_type": "code",
   "execution_count": null,
   "id": "708917e8-cb73-48eb-8e11-df94d61a7f42",
   "metadata": {},
   "outputs": [],
   "source": [
    "%%time\n",
    "##B = uti.MakeDict4Exp( exp='c64_005mm_ne30pg3_FMTHIST_CTL' ,\n",
    "\n",
    "A = uti.MakeDict4Exp( exp='c64_005_ne30pg3_FMTHIST_CTL_x01' ,\n",
    "                     user='juliob', subd='regridded' , \n",
    "                      hsPat='cam.h0a' , ymdPat='*' ,verbose=True, open_dataset=True )\n"
   ]
  },
  {
   "cell_type": "code",
   "execution_count": null,
   "id": "a5acca68-47ea-4d78-9dd4-efbaf35d946b",
   "metadata": {},
   "outputs": [],
   "source": [
    "\n",
    "exp_Val='ERA5'"
   ]
  },
  {
   "cell_type": "code",
   "execution_count": null,
   "id": "50830be9-1bf3-4ef0-9f6c-fb7205a4e071",
   "metadata": {},
   "outputs": [],
   "source": [
    "########################\n",
    "# Some massaging\n",
    "########################\n",
    "\n",
    "#ps_x =Dx.PS.values\n",
    "lon_a=A.X.lon.values\n",
    "lat_a=A.X.lat.values\n",
    "lev_a=A.X.lev.values\n",
    "zlev_a=-7.0*np.log( lev_a/1_000. )\n",
    "\n"
   ]
  },
  {
   "cell_type": "code",
   "execution_count": null,
   "id": "9747e4d8-85cd-4a60-923e-c25c3046b00b",
   "metadata": {},
   "outputs": [],
   "source": [
    "\n",
    "DstFileAlreadyExists = os.path.exists(DstFile)\n"
   ]
  },
  {
   "cell_type": "code",
   "execution_count": null,
   "id": "91ea9852-7733-41cf-9c08-46dca2a2ebe6",
   "metadata": {},
   "outputs": [],
   "source": [
    "ueq = Dc.U[:,:,315:325,:].values"
   ]
  },
  {
   "cell_type": "code",
   "execution_count": null,
   "id": "9c8b2952-f6da-4b22-8d0e-d5b80187055a",
   "metadata": {},
   "outputs": [],
   "source": [
    "####\n",
    "# Validation\n",
    "####\n",
    "\n",
    "\n",
    "yearsA = '*'\n",
    "ERA5dir = '/glade/campaign/cgd/amp/juliob/ERA5/Zonal_monthly/'\n",
    "# get ERA5 pl \n",
    "path_C = ERA5dir + 'ERA5.native.time.' + yearsA +'-*.nc'\n",
    "Dc = xr.open_mfdataset( path_C ,data_vars='all', coords='different') # , chunks=16 )\n",
    "#print( f\" Validation data {fld} has dims {Dc[fld].dims}\")\n",
    "\n",
    "\n",
    "\n",
    "\n",
    "\n",
    "\n",
    "\n",
    "\n",
    "#Uval = Val.data(fld='U',zlev=True, Timecube=True ) #, Years='2000' )\n",
    "#UUv , zlev_v,lat_v,lon_v = Uval['aa'], Uval['lev'], Uval['lat'], Uval['lon']\n",
    "\n"
   ]
  },
  {
   "cell_type": "code",
   "execution_count": null,
   "id": "f649fa1b-ce84-4579-aea9-957e90f68403",
   "metadata": {},
   "outputs": [],
   "source": []
  },
  {
   "cell_type": "code",
   "execution_count": null,
   "id": "253bbde0-a653-4aef-8705-28c9de93e4ad",
   "metadata": {},
   "outputs": [],
   "source": [
    "ug=Dc.U[:,:,320].values\n"
   ]
  },
  {
   "cell_type": "code",
   "execution_count": null,
   "id": "29763014-9ddf-4baf-aa2a-7c7ddb35740a",
   "metadata": {},
   "outputs": [],
   "source": [
    "plt.contour(ug.T)"
   ]
  },
  {
   "cell_type": "code",
   "execution_count": null,
   "id": "da8767ce-6aab-420e-adb9-e6b9e9724940",
   "metadata": {},
   "outputs": [],
   "source": [
    "import glob\n",
    "import os\n",
    "\n",
    "####\n",
    "# Validation\n",
    "####\n",
    "yearsA = '*'\n",
    "ERA5dir = '/glade/campaign/cgd/amp/juliob/ERA5/native_monthly/'\n",
    "# get ERA5 pl \n",
    "path_C = ERA5dir + 'ERA5.native.time.' + yearsA +'-*.nc'\n",
    "DstDir = ERA5dir.replace('/native_monthly/', '/Zonal_monthly/' )\n",
    "\n",
    "#######\n",
    "os.makedirs( DstDir , exist_ok=True )\n",
    "\n",
    "# Get the list of files matching the pattern\n",
    "files = glob.glob(path_C)\n",
    "\n",
    "# Sort the files alphabetically\n",
    "sorted_files = sorted(files)\n",
    "\n",
    "# Print the sorted list of files\n",
    "print(\"Sorted files:\")\n",
    "for file in sorted_files:\n",
    "    filZ = file.replace('/native_monthly/', '/Zonal_monthly/' )\n",
    "    X = xr.open_dataset( file ) #, chunks=16 )\n",
    "    Xz = X.mean(dim='longitude')\n",
    "    Xz.to_netcdf( filZ )\n",
    "    print(f'Wrote {filZ}')\n",
    "\n",
    "#Dc = xr.open_mfdataset( path_C ,data_vars='all', coords='different' , chunks=16 )\n"
   ]
  },
  {
   "cell_type": "code",
   "execution_count": null,
   "id": "be65a217-a74b-4673-873b-23ab6d7dbaec",
   "metadata": {},
   "outputs": [],
   "source": [
    "Zc = Dc.mean(dim='longitude')\n",
    "\n",
    "\n"
   ]
  },
  {
   "cell_type": "code",
   "execution_count": null,
   "id": "708b068f-eaed-46e1-aefe-5cebf42ed80d",
   "metadata": {},
   "outputs": [],
   "source": [
    "Zc.to_netcdf( '/glade/derecho/scratch/juliob/' + 'ERA5.native.time.ZonalMean.nc' )"
   ]
  },
  {
   "cell_type": "code",
   "execution_count": null,
   "id": "ce7afdbd-3734-44c0-8c15-7d51a4715c32",
   "metadata": {},
   "outputs": [],
   "source": [
    "plt.plot( ZU[:,50,320] )"
   ]
  },
  {
   "cell_type": "code",
   "execution_count": null,
   "id": "fe374ac4-62fe-4666-9571-ab30faa5afd1",
   "metadata": {},
   "outputs": [],
   "source": [
    "#ZU\n",
    "\n",
    "\n",
    "# Assuming 'data' is your DataArray with a 'lat' dimension\n",
    "# Subset the data between 5S and 5N\n",
    "EU = ZU.sel(latitude=slice(-5, 5))\n",
    "\n",
    "# Calculate the mean over the latitude dimension\n",
    "QBOU = EU.mean(dim='latitude')\n"
   ]
  },
  {
   "cell_type": "code",
   "execution_count": null,
   "id": "513521cf-3ea7-4aca-ab6a-ee61de18231c",
   "metadata": {},
   "outputs": [],
   "source": [
    "qbou = QBOU.values"
   ]
  },
  {
   "cell_type": "code",
   "execution_count": null,
   "id": "71ae2b10-81a7-48e6-b1c2-4ca134ba5548",
   "metadata": {},
   "outputs": [],
   "source": [
    "plt.plot( qbou.flatten() )\n"
   ]
  },
  {
   "cell_type": "code",
   "execution_count": null,
   "id": "2adbe23c-d9cc-458e-adf5-fdcab7cb4846",
   "metadata": {},
   "outputs": [],
   "source": [
    "fig = plt.figure(figsize=(24, 5))\n",
    "clev=np.linspace( -60,140,num=21) \n",
    "dlev=np.linspace( -20,20,num=21) \n",
    "cmap='gist_ncar'\n",
    "\n",
    "\n",
    "Axes1 = Pu.axes_def(n=1,nxplo=4,nyplo=1 ) \n",
    "ax1 = fig.add_axes( Axes1 )\n",
    "co1=ax1.contourf(lat_a,zlev_a,UUa_sz ,levels=clev, cmap=cmap )\n",
    "co2=ax1.contour(lat_a,zlev_a,UUa_sz ,levels=clev, colors='black')\n",
    "ax1.set_title(f\"Control <{A.exp}> {season.upper()} {years_a[0]}-{years_a[-1]}\" )\n",
    "ax1.set_ylim(0,82)\n",
    "cb=plt.colorbar(co1)\n",
    "\n",
    "\n",
    "Axes1 = Pu.axes_def(n=3,nxplo=4,nyplo=1 ) \n",
    "ax1 = fig.add_axes( Axes1 )\n",
    "co1=ax1.contourf(lat_c,zlev_c,UUc_sz ,levels=clev, cmap=cmap )\n",
    "co2=ax1.contour(lat_c,zlev_c,UUc_sz ,levels=clev, colors='black')\n",
    "ax1.set_title(f\"Control <{C.exp}> {season.upper()} {years_c[0]}-{years_c[-1]}\" )\n",
    "ax1.set_ylim(0,82)\n",
    "cb=plt.colorbar(co1)\n",
    "\"\"\"\n",
    "Axes1 = Pu.axes_def(n=3,nxplo=4,nyplo=1 ) \n",
    "ax1 = fig.add_axes( Axes1 )\n",
    "co1=ax1.contourf(lat_c,zlev_c,UUd_sz ,levels=clev, cmap=cmap )\n",
    "co2=ax1.contour(lat_c,zlev_c,UUd_sz ,levels=clev, colors='black')\n",
    "ax1.set_title(f\"Control <{D.exp}> {season.upper()} {years_d[0]}-{years_d[-1]}\" )\n",
    "ax1.set_ylim(0,82)\n",
    "cb=plt.colorbar(co1)\n",
    "\"\"\"\n",
    "\n",
    "Axes1 = Pu.axes_def(n=2,nxplo=4,nyplo=1 ) \n",
    "ax1 = fig.add_axes( Axes1 )\n",
    "co1=ax1.contourf(lat_b,zlev_b,UUb_sz ,levels=clev, cmap=cmap )\n",
    "co2=ax1.contour(lat_b,zlev_b,UUb_sz ,levels=clev, colors='black')\n",
    "ax1.set_title(f\"Test <{exp_B}> {season.upper()} {years_b[0]}-{years_b[-1]}\" )\n",
    "ax1.set_ylim(0,82)\n",
    "cb=plt.colorbar(co1)\n",
    "\n",
    "\n",
    "Axes1 = Pu.axes_def(n=4,nxplo=4,nyplo=1 ) \n",
    "ax1 = fig.add_axes( Axes1 )\n",
    "co1=ax1.contourf(lat_v,zlev_v, UUv_sz ,levels=clev, cmap=cmap )\n",
    "co2=ax1.contour(lat_v,zlev_v, UUv_sz ,levels=clev, colors='black')\n",
    "ax1.set_title(f\"Validation <{exp_Val}> {season.upper()}  \" )\n",
    "ax1.set_ylim(0,82)\n",
    "cb=plt.colorbar(co1)\n"
   ]
  },
  {
   "cell_type": "code",
   "execution_count": null,
   "id": "26163fd6-8341-4bb6-80d6-2e3db3661bdf",
   "metadata": {},
   "outputs": [],
   "source": [
    "#Below here we are looking at GW mom flux\n"
   ]
  },
  {
   "cell_type": "code",
   "execution_count": null,
   "id": "0d236953-7c0e-47fe-923d-de5248187073",
   "metadata": {},
   "outputs": [],
   "source": [
    "####"
   ]
  },
  {
   "cell_type": "code",
   "execution_count": null,
   "id": "e78ae969-f837-4097-8a2f-a731dba1ead6",
   "metadata": {},
   "outputs": [],
   "source": [
    "#season='jul'\n",
    "OUc_s,years_c,months_c = Av.Seasonal( ds=C.X, season=season , fld='OMEGAU',return_time=True)\n",
    "OUb_s,years_b,months_b = Av.Seasonal( ds=B.X, season=season , fld='OMEGAU',return_time=True)\n",
    "OUa_s,years_a,months_a = Av.Seasonal( ds=A.X, season=season , fld='OMEGAU',return_time=True)\n",
    "\n",
    "Oc_s,years_c,months_c = Av.Seasonal( ds=C.X, season=season , fld='OMEGA',return_time=True)\n",
    "Ob_s,years_b,months_b = Av.Seasonal( ds=B.X, season=season , fld='OMEGA',return_time=True)\n",
    "Oa_s,years_a,months_a = Av.Seasonal( ds=A.X, season=season , fld='OMEGA',return_time=True)"
   ]
  },
  {
   "cell_type": "code",
   "execution_count": null,
   "id": "6639f722-38f7-46b0-8550-7c29c7b6a649",
   "metadata": {},
   "outputs": [],
   "source": [
    "OUpa_s = OUa_s - Oa_s*UUa_s\n",
    "OUpb_s = OUb_s - Ob_s*UUb_s\n",
    "OUpc_s = OUc_s - Oc_s*UUc_s\n",
    "\n",
    "\n",
    "OUpa_sz=np.average( OUpa_s , axis=2 )\n",
    "OUpb_sz=np.average( OUpb_s , axis=2 )\n",
    "OUpc_sz=np.average( OUpc_s , axis=2 )\n",
    "\n"
   ]
  },
  {
   "cell_type": "code",
   "execution_count": null,
   "id": "5ce72830-d137-4270-a6dc-4a78fadddc42",
   "metadata": {},
   "outputs": [],
   "source": [
    "fig = plt.figure(figsize=(20, 5))\n",
    "clev=0.5*np.linspace( -0.1,0.1,num=21) \n",
    "dlev=21 #np.linspace( -20,20,num=21) \n",
    "cmap='gist_ncar'\n",
    "exp_A=A.exp\n",
    "fldoo=\"$\\overline{u'\\omega'}$\"\n",
    "\n",
    "n=1\n",
    "Axes1 = Pu.axes_def(n=n,nxplo=3,nyplo=1 ) \n",
    "ax1 = fig.add_axes( Axes1 )\n",
    "co1=ax1.contourf(lat_a,zlev_a,OUpa_sz ,levels=clev, cmap=cmap )\n",
    "co2=ax1.contour(lat_a,zlev_a,OUpa_sz ,levels=clev, colors='black')\n",
    "ax1.set_title(f\"{fldoo} <{exp_A}> {season.upper()} {years_a[0]}-{years_a[-1]}\" )\n",
    "ax1.set_ylim(0,82)\n",
    "cb=plt.colorbar(co1)\n",
    "\n",
    "n=n+1\n",
    "Axes1 = Pu.axes_def(n=n,nxplo=3,nyplo=1 ) \n",
    "ax1 = fig.add_axes( Axes1 )\n",
    "co1=ax1.contourf(lat_b,zlev_b,OUpb_sz ,levels=clev, cmap=cmap )\n",
    "co2=ax1.contour(lat_b,zlev_b,OUpb_sz ,levels=clev, colors='black')\n",
    "ax1.set_title(f\"{fldoo} <{exp_B}> {season.upper()} {years_b[0]}-{years_b[-1]}\" )\n",
    "ax1.set_ylim(0,82)\n",
    "cb=plt.colorbar(co1)\n",
    "\n",
    "n=n+1\n",
    "Axes1 = Pu.axes_def(n=n,nxplo=3,nyplo=1 ) \n",
    "ax1 = fig.add_axes( Axes1 )\n",
    "co1=ax1.contourf(lat_c,zlev_c,OUpc_sz ,levels=clev, cmap=cmap )\n",
    "co2=ax1.contour(lat_c,zlev_c,OUpc_sz ,levels=clev, colors='black')\n",
    "ax1.set_title(f\"Control <{exp_C}> {season.upper()} {years_c[0]}-{years_c[-1]}\" )\n",
    "ax1.set_ylim(0,82)\n",
    "cb=plt.colorbar(co1)\n",
    "\n",
    "\n",
    "\n",
    "\"\"\"\n",
    "Axes1 = Pu.axes_def(n=4,nxplo=4,nyplo=1 ) \n",
    "ax1 = fig.add_axes( Axes1 )\n",
    "co1=ax1.contourf(lat_v,zlev_v, UUv_sz ,levels=clev, cmap=cmap )\n",
    "co2=ax1.contour(lat_v,zlev_v, UUv_sz ,levels=clev, colors='black')\n",
    "ax1.set_title(f\"Validation <{exp_Val}> {season.upper()}  \" )\n",
    "ax1.set_ylim(0,82)\n",
    "cb=plt.colorbar(co1)\n",
    "\"\"\""
   ]
  },
  {
   "cell_type": "code",
   "execution_count": null,
   "id": "1c6e20d9-6186-4d86-b8c2-f1c37ad8fd8f",
   "metadata": {},
   "outputs": [],
   "source": [
    "C.X"
   ]
  },
  {
   "cell_type": "code",
   "execution_count": null,
   "id": "c2a3374f-040b-4602-b286-95f0df84aa00",
   "metadata": {},
   "outputs": [],
   "source": []
  }
 ],
 "metadata": {
  "kernelspec": {
   "display_name": "NPL 2023b",
   "language": "python",
   "name": "npl-2023b"
  },
  "language_info": {
   "codemirror_mode": {
    "name": "ipython",
    "version": 3
   },
   "file_extension": ".py",
   "mimetype": "text/x-python",
   "name": "python",
   "nbconvert_exporter": "python",
   "pygments_lexer": "ipython3",
   "version": "3.10.12"
  }
 },
 "nbformat": 4,
 "nbformat_minor": 5
}
