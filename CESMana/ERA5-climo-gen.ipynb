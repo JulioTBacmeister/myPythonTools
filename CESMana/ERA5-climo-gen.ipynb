{
 "cells": [
  {
   "cell_type": "code",
   "execution_count": null,
   "id": "abe7d712-48b5-4b7d-af0d-0f2fdd03fb8b",
   "metadata": {},
   "outputs": [],
   "source": [
    "workdir_ = '/glade/work/juliob/'\n",
    "import sys\n",
    "sys.path.append(workdir_ + 'myPythonTools/GenlTools/')\n",
    "sys.path.append(workdir_ + 'myPythonTools/Utils/')\n",
    "sys.path.append(workdir_ + 'PyRegridding/Regridder/')\n",
    "\n",
    "# Own local packages\n",
    "import AveragingUtils as Av\n",
    "import VertRegridFlexLL as Vrg\n",
    "import PlotUtil as Pu\n",
    "\n",
    "# The usual\n",
    "from datetime import date\n",
    "import numpy as np\n",
    "import xarray as xr\n",
    "import matplotlib.pyplot as plt\n",
    "import matplotlib.tri as tri\n",
    "\n",
    "# Cartopy for pretty maps\n",
    "import cartopy\n",
    "import cartopy.crs as ccrs\n",
    "import cartopy.feature as cfeature\n",
    "\n",
    "# Some other useful packages \n",
    "import importlib\n",
    "import copy\n",
    "import time\n",
    "import cftime\n",
    "\n",
    "importlib.reload( Pu )\n",
    "importlib.reload(Av)"
   ]
  },
  {
   "cell_type": "code",
   "execution_count": null,
   "id": "c4739daa-0790-4d9c-8193-048ef4919e8e",
   "metadata": {},
   "outputs": [],
   "source": [
    "###################################################\n",
    "# Add time coordinate to monthly native ERA5 files\n",
    "###################################################\n",
    "day=1\n",
    "for mon in np.arange( start=1 , stop=13 ):\n",
    "    monA=str(mon).zfill(2)\n",
    "    for year in np.arange( start=1980 , stop=2023 ):   #, stop=2024 ):\n",
    "        yearA = str( year )\n",
    "        path_ERA = '/glade/campaign/cgd/amp/juliob/ERA5/native_monthly/ERA5.native.'+yearA+'-'+monA+'.nc'\n",
    "        timevar = cftime.DatetimeGregorian(year, mon, day) #(year-1979)*12 + mon-1\n",
    "        #print(f\" {path_ERA} TIME = {timevar} \")\n",
    "        path_ERA_out = '/glade/campaign/cgd/amp/juliob/ERA5/native_monthly/ERA5.native.time.'+yearA+'-'+monA+'.nc'\n",
    "        X = xr.open_mfdataset( path_ERA )\n",
    "        X = X.assign_coords(time=('time', [timevar]))\n",
    "        print(X['time'])\n",
    "        X.to_netcdf( path_ERA_out )"
   ]
  },
  {
   "cell_type": "code",
   "execution_count": null,
   "id": "88af861a-6272-423b-9e92-afc605d2c30f",
   "metadata": {},
   "outputs": [],
   "source": [
    "###################################################\n",
    "# Generate multi year monthly native ERA5 files\n",
    "###################################################\n",
    "day=1\n",
    "for mon in np.arange( start=1 , stop=13 ):\n",
    "    monA=str(mon).zfill(2)\n",
    "    yearA = \"*\"\n",
    "    multiyearA=\"1979_2022\"\n",
    "    path_ERA = '/glade/campaign/cgd/amp/juliob/ERA5/native_monthly/ERA5.native.time.'+yearA+'-'+monA+'.nc'\n",
    "    path_ERA_out = '/glade/campaign/cgd/amp/juliob/ERA5/native_monthly_climo/ERA5.native.time.'+multiyearA+'-'+monA+'.nc'\n",
    "    X = xr.open_mfdataset( path_ERA )\n",
    "    XX = X.mean(dim='time')\n",
    "    XX = XX.expand_dims({'time': 1})\n",
    "    XX = XX.assign_coords(time=('time', [mon]))\n",
    "    #XX = XX.expand_dims({'nbnd': 2})\n",
    "\n",
    "    ################\n",
    "    # Make time_bnds variable\n",
    "    ################\n",
    "    # Extracting the cftime objects from the DataArray\n",
    "    time0_cftime = X.time.values[0]  # This should now be a cftime.DatetimeGregorian object\n",
    "    time1_cftime = X.time.values[-1]  # Ditto\n",
    "    # Convert cftime.DatetimeGregorian to numpy.datetime64\n",
    "    time0_np = np.datetime64(time0_cftime) #.isoformat())\n",
    "    time1_np = np.datetime64(time1_cftime) #.isoformat())\n",
    "    time_bnds =  np.array ( [time0_np,time1_np] )\n",
    "    Time_Bnds = xr.DataArray(data=time_bnds,dims=['nbnd'],coords=dict( nbnd=[0,1],) )\n",
    "    XX['time_bnds']=Time_Bnds\n",
    "\n",
    "    print(f\"writing {path_ERA_out} \")\n",
    "    XX.to_netcdf( path_ERA_out )\n",
    "\n",
    "    "
   ]
  },
  {
   "cell_type": "code",
   "execution_count": null,
   "id": "f0d74c21-223b-4b6d-8e56-3a9ea659da53",
   "metadata": {},
   "outputs": [],
   "source": [
    "XX\n"
   ]
  },
  {
   "cell_type": "code",
   "execution_count": null,
   "id": "075a84d2-cbe6-4394-b339-5b821ebf5f72",
   "metadata": {},
   "outputs": [],
   "source": [
    "time_bnds = XX.time_bnds\n",
    "print(time_bnds[0].values[0])"
   ]
  },
  {
   "cell_type": "code",
   "execution_count": null,
   "id": "5cb140b6-a3c3-4a00-88ae-2db6d83971bd",
   "metadata": {},
   "outputs": [],
   "source": [
    "(XX['time_bnds'].dtype == 'datetime64[ns]' )"
   ]
  },
  {
   "cell_type": "code",
   "execution_count": null,
   "id": "94200997-fbbe-44ec-af50-d1d3fc0a568d",
   "metadata": {},
   "outputs": [],
   "source": [
    "######\n",
    "# Testing out files\n",
    "\n",
    "f='/glade/campaign/cgd/amp/juliob/ERA5/native_monthly_climo/ERA5.native.time.1979_2022-*.nc'"
   ]
  },
  {
   "cell_type": "code",
   "execution_count": null,
   "id": "7797682b-7795-4e08-8a91-9c6cbc86b4d9",
   "metadata": {},
   "outputs": [],
   "source": [
    "X=xr.open_mfdataset( f  ,data_vars='different', coords='different' )"
   ]
  },
  {
   "cell_type": "code",
   "execution_count": null,
   "id": "dfb012a8-5486-4620-a3c9-b6c487418e01",
   "metadata": {},
   "outputs": [],
   "source": [
    "\n",
    "\n",
    "X\n"
   ]
  },
  {
   "cell_type": "code",
   "execution_count": null,
   "id": "80aeabb9-32e2-46dc-8b61-ff96df71f72c",
   "metadata": {},
   "outputs": [],
   "source": [
    "years = X['time_bnds'].values[0].astype('datetime64[Y]' ).astype(int)\n",
    "months = X['time_bnds'].values[0].astype('datetime64[M]' ).astype(int) %12 +1\n",
    "print(np.shape(months))\n",
    "print(months)\n",
    "print(years)\n"
   ]
  },
  {
   "cell_type": "code",
   "execution_count": null,
   "id": "82634daf-ddfd-4819-b0b4-b2326d6cd113",
   "metadata": {},
   "outputs": [],
   "source": [
    "for k in np.arange(137):\n",
    "    print( f\" {100_000.*X.hyam.values[0,k] +100_000.*X.hybm.values[0,k] :.2f}\" ) "
   ]
  },
  {
   "cell_type": "code",
   "execution_count": null,
   "id": "71a8de0d-64ce-439f-b559-27dc363fdd76",
   "metadata": {},
   "outputs": [],
   "source": [
    "print(X['time_bnds'].values)\n",
    "time_array = X['time_bnds'].values[:,0]\n",
    "print(np.shape( time_array))\n",
    "#print(time_array[0,:])"
   ]
  },
  {
   "cell_type": "code",
   "execution_count": null,
   "id": "f17793ff-25fe-4bce-9c5a-862261de48ac",
   "metadata": {},
   "outputs": [],
   "source": [
    "time_array = X['time_bnds'].values[:,0]\n",
    "months=[]\n",
    "years=[]\n",
    "for ixtime in time_array:\n",
    "    years.append( ixtime.astype('datetime64[Y]' ).astype(int) + 1970 )           \n",
    "    months.append( ixtime.astype('datetime64[M]' ).astype(int) %12 +1 )                \n"
   ]
  },
  {
   "cell_type": "code",
   "execution_count": null,
   "id": "059336a2-ecd0-4207-a9f8-a9ace3584a03",
   "metadata": {},
   "outputs": [],
   "source": [
    "print(years)"
   ]
  },
  {
   "cell_type": "code",
   "execution_count": null,
   "id": "3fe26dfa-f7f3-40b1-9cef-e1c7b8b6724a",
   "metadata": {},
   "outputs": [],
   "source": [
    "time_array[2,0].astype('datetime64[M]' ).astype(int) %12 +1 "
   ]
  },
  {
   "cell_type": "code",
   "execution_count": null,
   "id": "a74ece56-badc-4d05-bec9-a46cc696ce63",
   "metadata": {},
   "outputs": [],
   "source": [
    "# Convert to month resolution\n",
    "month_res = time_array.astype('M8[M]')\n",
    "\n",
    "# Extract years and months\n",
    "years = np.array([[date.year for date in row] for row in month_res])\n",
    "months = np.array([[date.month for date in row] for row in month_res])"
   ]
  },
  {
   "cell_type": "code",
   "execution_count": null,
   "id": "01159be0-ec60-4321-b3b4-149fe32e66c3",
   "metadata": {},
   "outputs": [],
   "source": []
  }
 ],
 "metadata": {
  "kernelspec": {
   "display_name": "NPL 2022b",
   "language": "python",
   "name": "npl-2022b"
  },
  "language_info": {
   "codemirror_mode": {
    "name": "ipython",
    "version": 3
   },
   "file_extension": ".py",
   "mimetype": "text/x-python",
   "name": "python",
   "nbconvert_exporter": "python",
   "pygments_lexer": "ipython3",
   "version": "3.8.13"
  }
 },
 "nbformat": 4,
 "nbformat_minor": 5
}
