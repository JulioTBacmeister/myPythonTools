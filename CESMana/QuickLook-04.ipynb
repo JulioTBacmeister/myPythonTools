{
 "cells": [
  {
   "cell_type": "code",
   "execution_count": null,
   "id": "abda101d-5eee-4761-b122-27066e2274d0",
   "metadata": {},
   "outputs": [],
   "source": [
    "workdir_ = '/glade/work/juliob/'\n",
    "import sys\n",
    "sys.path.append(workdir_ + 'myPythonTools/GenlTools/')\n",
    "sys.path.append(workdir_ + 'myPythonTools/Utils/')\n",
    "sys.path.append(workdir_ + 'PyRegridding/Regridder/')\n",
    "\n",
    "# Own local packages\n",
    "import AveragingUtils as Av\n",
    "import VertRegridFlexLL as Vrg\n",
    "import PlotUtil as Pu\n",
    "\n",
    "# The usual\n",
    "from datetime import date\n",
    "import numpy as np\n",
    "import xarray as xr\n",
    "import matplotlib.pyplot as plt\n",
    "import matplotlib.tri as tri\n",
    "\n",
    "# Cartopy for pretty maps\n",
    "import cartopy\n",
    "import cartopy.crs as ccrs\n",
    "import cartopy.feature as cfeature\n",
    "\n",
    "# Some other useful packages \n",
    "import importlib\n",
    "import copy\n",
    "import time\n",
    "import cftime\n",
    "\n",
    "importlib.reload( Pu )\n",
    "importlib.reload(Av)"
   ]
  },
  {
   "cell_type": "code",
   "execution_count": null,
   "id": "4bfaf65a-56c6-4d5a-b731-ea32252b9157",
   "metadata": {},
   "outputs": [],
   "source": [
    "#####\n",
    "\n",
    "path_C ='/glade/derecho/scratch/juliob/archive/FMTHIST_01/atm/hist/FMTHIST_01.cam.h1.*.nc'\n",
    "Xc = xr.open_mfdataset( path_C ,data_vars='different', coords='different' )\n",
    "path_X ='/glade/derecho/scratch/juliob/archive/nubr_FMTHIST_01/atm/hist/nubr_FMTHIST_01.cam.h1.*.nc'\n",
    "Xx = xr.open_mfdataset( path_X ,data_vars='different', coords='different' )\n",
    "\n",
    "#D2b = xr.open_mfdataset( '/glade/derecho/scratch/juliob/archive/test02/atm/hist/test02.cam.h0.*.nc' , combine='by_coords', data_vars='minimal', coords='minimal')\n",
    "#D2c = xr.open_mfdataset( '/glade/derecho/scratch/juliob/archive/test02/atm/hist/test02.cam.h0.*.nc' , combine='by_coords', join='exact' )\n",
    "#D2c = xr.open_mfdataset( '/glade/derecho/scratch/juliob/archive/test02/atm/hist/test02.cam.h0.*.nc' , combine='by_coords', coords='minimal')\n",
    "\n",
    "#concat_dim=None )\n"
   ]
  },
  {
   "cell_type": "code",
   "execution_count": null,
   "id": "fee92350-130c-4b13-ad2f-18beb453dff5",
   "metadata": {},
   "outputs": [],
   "source": [
    "Xx.UBM_MOVMTN"
   ]
  },
  {
   "cell_type": "code",
   "execution_count": null,
   "id": "e9ab9af6-8836-4d2e-9054-c6d7e4045ba4",
   "metadata": {},
   "outputs": [],
   "source": [
    "##\n",
    "#ubm_m = 86400. * Xx.UBM_MOVMTN[20,:,:].values\n",
    "\n",
    "ubm_m_c = Xc.UBM_MOVMTN[240,:,:].values\n",
    "ubm_m_x = Xx.UBM_MOVMTN[240,:,:].values\n",
    "lon=Xx.lon.values\n",
    "lat=Xx.lat.values\n",
    "lev=Xx.lev.values\n",
    "\n"
   ]
  },
  {
   "cell_type": "code",
   "execution_count": null,
   "id": "b63f4e6a-3f9f-43fb-970a-def449c04577",
   "metadata": {},
   "outputs": [],
   "source": [
    "plt.plot( Xx.UBM_MOVMTN[:,4,:].values.flatten())"
   ]
  },
  {
   "cell_type": "code",
   "execution_count": null,
   "id": "1b234bc1-5e1f-4a1a-b7d6-e45894fb1df6",
   "metadata": {},
   "outputs": [],
   "source": [
    "#plt.plot( ubm_m_c.flatten())\n",
    "plt.plot( ubm_m_x.flatten() - ubm_m_c.flatten() )\n"
   ]
  },
  {
   "cell_type": "code",
   "execution_count": null,
   "id": "eb46903e-592c-4b70-a55b-7830ebc50e65",
   "metadata": {},
   "outputs": [],
   "source": [
    "print(lev[93-45])\n",
    "zlev=-7.0*np.log( lev/1_000. )\n",
    "print( zlev[93-45] )"
   ]
  },
  {
   "cell_type": "code",
   "execution_count": null,
   "id": "2543c8cf-b58d-4a7f-9746-01b72bbd7f1c",
   "metadata": {},
   "outputs": [],
   "source": [
    "Dx['PRECT'] = Dx['PRECC']+Dx['PRECL']\n",
    "new_attributes = {\n",
    "    'units': 'ms-1',\n",
    "    'description': 'sum of PRECC and PRECL',\n",
    "}\n",
    "Dx['PRECT'].attrs.update(new_attributes)\n",
    "\n",
    "season='son'\n",
    "print( 'PRECT' not in Dx )\n",
    "\n",
    "UUc_s = Av.SeasonalZonal( ds=Dc, season=season , fld='U')\n",
    "UUx_s = Av.SeasonalZonal( ds=Dx, season=season , fld='U')\n"
   ]
  },
  {
   "cell_type": "code",
   "execution_count": null,
   "id": "ccdc967c-805c-48af-813f-fef5f6dc21b6",
   "metadata": {},
   "outputs": [],
   "source": [
    "Dx['PRECL']"
   ]
  },
  {
   "cell_type": "code",
   "execution_count": null,
   "id": "2adbe23c-d9cc-458e-adf5-fdcab7cb4846",
   "metadata": {},
   "outputs": [],
   "source": [
    "fig = plt.figure(figsize=(20, 5))\n",
    "clev=np.linspace( -60,140,num=21) \n",
    "dlev=np.linspace( -20,20,num=21) \n",
    "cmap='gist_ncar'\n",
    "\n",
    "Axes1 = Pu.axes_def(n=1,nxplo=3,nyplo=1 ) \n",
    "ax1 = fig.add_axes( Axes1 )\n",
    "co1=ax1.contourf(lat,zlev,UUc_s ,levels=clev, cmap=cmap )\n",
    "co2=ax1.contour(lat,zlev,UUc_s ,levels=clev, colors='black')\n",
    "ax1.set_title(f\"Control <{exp_C}> {season.upper()}\" )\n",
    "cb=plt.colorbar(co1)\n",
    "\n",
    "Axes1 = Pu.axes_def(n=2,nxplo=3,nyplo=1 ) \n",
    "ax1 = fig.add_axes( Axes1 )\n",
    "co1=ax1.contourf(lat,zlev,UUx_s ,levels=clev, cmap=cmap )\n",
    "co2=ax1.contour(lat,zlev,UUx_s ,levels=clev, colors='black')\n",
    "ax1.set_title(f\"Test <{exp_X}> {season.upper()}\" )\n",
    "cb=plt.colorbar(co1)\n",
    "\n",
    "Axes1 = Pu.axes_def(n=3,nxplo=3,nyplo=1 ) \n",
    "ax1 = fig.add_axes( Axes1 )\n",
    "co1=ax1.contourf(lat,zlev,UUx_s-UUc_s ,levels=dlev, cmap='bwr' )\n",
    "co2=ax1.contour(lat,zlev,UUx_s-UUc_s ,levels=dlev, colors='black')\n",
    "ax1.set_title('Diff '+season.upper()  )\n",
    "cb=plt.colorbar(co1)\n",
    "\n"
   ]
  },
  {
   "cell_type": "code",
   "execution_count": null,
   "id": "9efcc78d-6215-422f-8e26-1d79cae6cdd5",
   "metadata": {},
   "outputs": [],
   "source": [
    "clev=np.linspace( -60,140,num=21) \n",
    "plt.contourf(lat,zlev,UUx_s ,levels=clev )\n",
    "plt.colorbar()"
   ]
  },
  {
   "cell_type": "code",
   "execution_count": null,
   "id": "3cfe2eff-c703-4302-a53e-2fdb4b3183d9",
   "metadata": {},
   "outputs": [],
   "source": [
    "plt.contourf(lat,zlev,UUc_s ,levels=clev )\n",
    "plt.colorbar()"
   ]
  },
  {
   "cell_type": "code",
   "execution_count": null,
   "id": "45fb06d1-20b1-4744-a19f-2527db72dc1d",
   "metadata": {},
   "outputs": [],
   "source": [
    "print(np.shape(u10_c))\n",
    "print(np.shape(u10_x))\n",
    "print(np.shape(lon))\n",
    "print(np.shape(lat))\n",
    "\n",
    "print(Dc.lev.values[20])"
   ]
  },
  {
   "cell_type": "code",
   "execution_count": null,
   "id": "8f2cd959-42d2-449b-abe9-d23e9c1890e4",
   "metadata": {},
   "outputs": [],
   "source": [
    "fig = plt.figure(figsize=(15, 5))\n",
    "clev=np.linspace(0,10,num=16)\n",
    "dlev=np.linspace(-1,1,num=11) * 10\n",
    "\n",
    "clev=np.linspace(-20,50,num=16)\n",
    "\n",
    "\n",
    "Axes1 = Pu.axes_def(n=1,nxplo=3,nyplo=1 ) \n",
    "ax1 = fig.add_axes( Axes1 )\n",
    "co1 = ax1.tricontourf( lon,lat,u10_c.mean(axis=0)  ,levels=clev , cmap='gist_ncar' ) \n",
    "pr1 = ax1.tricontour( lon,lat,ps[0,:],levels=[10_000,100_100],colors='black')\n",
    "ax1.set_title('Control')\n",
    "cb=plt.colorbar(co1)\n",
    "\n",
    "Axes1 = Pu.axes_def(n=2,nxplo=3,nyplo=1 ) \n",
    "ax1 = fig.add_axes( Axes1 )\n",
    "co1 = ax1.tricontourf( lon,lat,u10_x.mean(axis=0)  ,levels=clev, cmap='gist_ncar' ) \n",
    "pr1 = ax1.tricontour( lon,lat,ps[0,:],levels=[10_000,100_100],colors='black')\n",
    "ax1.set_title('Test')\n",
    "cb=plt.colorbar(co1)\n",
    "\n",
    "Axes1 = Pu.axes_def(n=3,nxplo=3,nyplo=1 ) \n",
    "ax1 = fig.add_axes( Axes1 )\n",
    "co1 = ax1.tricontourf( lon,lat,u10_x.mean(axis=0)-u10_c.mean(axis=0)  ,levels=dlev, cmap='bwr' ) \n",
    "pr1 = ax1.tricontour( lon,lat,ps[0,:],levels=[10_000,100_100],colors='black')\n",
    "ax1.set_title('Test - Control')\n",
    "cb=plt.colorbar(co1)\n"
   ]
  },
  {
   "cell_type": "code",
   "execution_count": null,
   "id": "6679f6f8-992b-4c9a-8bc8-0cdc496dfda3",
   "metadata": {},
   "outputs": [],
   "source": []
  }
 ],
 "metadata": {
  "kernelspec": {
   "display_name": "NPL 2022b",
   "language": "python",
   "name": "npl-2022b"
  },
  "language_info": {
   "codemirror_mode": {
    "name": "ipython",
    "version": 3
   },
   "file_extension": ".py",
   "mimetype": "text/x-python",
   "name": "python",
   "nbconvert_exporter": "python",
   "pygments_lexer": "ipython3",
   "version": "3.8.13"
  }
 },
 "nbformat": 4,
 "nbformat_minor": 5
}
