{
 "cells": [
  {
   "cell_type": "code",
   "execution_count": null,
   "id": "abda101d-5eee-4761-b122-27066e2274d0",
   "metadata": {},
   "outputs": [],
   "source": [
    "#workdir_ = '/glade/work/juliob/'\n",
    "import sys\n",
    "#######################################\n",
    "# Leave this for now. But it should change to better\n",
    "# method as here:\n",
    "import os\n",
    "This_module_path = os.getcwd()  #os.path.dirname(os.path.abspath(__file__))\n",
    "workdir_ = os.path.join(This_module_path, '../../' )\n",
    "# sys.path.append(utils_path)\n",
    "# print( f\" a path added in {__name__} {utils_path} \")\n",
    "\n",
    "print( f\" In {__name__} we have This_module_path={This_module_path} \" )\n",
    "print( f\" In {__name__} we have workdir_={workdir_} \" )\n",
    "########################################\n",
    "sys.path.append(workdir_ + 'myPythonTools/GenlTools/')\n",
    "sys.path.append(workdir_ + 'myPythonTools/Utils/')\n",
    "sys.path.append(workdir_ + 'myPythonTools/Plotting/')\n",
    "sys.path.append(workdir_ + 'myPythonTools/CASutils/')\n",
    "#sys.path.append(workdir_ + 'PyRegridding/Regridder/')\n",
    "sys.path.append(workdir_ + 'PyRegridding/Utils/')\n",
    "\n",
    "# Own local packages\n",
    "import AveragingUtils as Av\n",
    "#import VertRegridFlexLL as Vrg  # This is toxic for some reason\n",
    "import PlotUtil as Pu\n",
    "import utils as uti\n",
    "import validation_data as Val\n",
    "import var_A_x_B as vAB\n",
    "import MakePressures as MkP\n",
    "import GridUtils as GrU\n",
    "import LatLonMaps as LL\n",
    "import filter_utils as fu\n",
    "\n",
    "# The usual\n",
    "from datetime import date\n",
    "import numpy as np\n",
    "import xarray as xr\n",
    "import matplotlib.pyplot as plt\n",
    "import matplotlib.tri as tri\n",
    "\n",
    "# Cartopy for pretty maps\n",
    "import cartopy\n",
    "import cartopy.crs as ccrs\n",
    "import cartopy.feature as cfeature\n",
    "\n",
    "# Some other useful packages \n",
    "import importlib\n",
    "import copy\n",
    "import time\n",
    "import cftime\n",
    "\n",
    "importlib.reload( LL )\n",
    "importlib.reload( uti )\n",
    "importlib.reload( Pu )\n",
    "importlib.reload(Av)\n",
    "importlib.reload(Val)\n",
    "importlib.reload(vAB)\n",
    "importlib.reload(MkP)\n"
   ]
  },
  {
   "cell_type": "code",
   "execution_count": null,
   "id": "187de81d-0941-4d2a-9d2c-a0392ad6a121",
   "metadata": {},
   "outputs": [],
   "source": [
    "OurMonth = '2004-09'\n",
    "exp='cDEV_ne240pg3_FMTHIST_aicn_x02'\n",
    "#exp='fmthist_MM_control_TEM_2'\n",
    "B = uti.MakeDict4Exp( exp=exp , user='juliob', subd='regridded' , hsPat='cam.h1i' , ymdPat=f'{OurMonth}-*' ,verbose=True, open_dataset=True )\n",
    "\n",
    "#Q = uti.MakeDict4Exp( exp=exp , user='juliob', subd='regridded' , hsPat='cam.h0' , ymdPat='1994-07*' ,verbose=True, open_dataset=True )\n",
    "#phis=Q.X.PHIS.values/9.8"
   ]
  },
  {
   "cell_type": "code",
   "execution_count": null,
   "id": "c9da2df3-00f0-490a-bb92-469fc342cd05",
   "metadata": {},
   "outputs": [],
   "source": [
    "C = uti.MakeDict4Exp( exp=exp , user='juliob', subd='regridded' , hsPat='cam.h2i' , ymdPat=f'{OurMonth}-*' ,verbose=True, open_dataset=True )"
   ]
  },
  {
   "cell_type": "code",
   "execution_count": null,
   "id": "481f2c43-8a29-4599-81cf-d5de5b1e538e",
   "metadata": {},
   "outputs": [],
   "source": [
    "######################################\n",
    "# Subsample C in time if necessary\n",
    "######################################\n",
    "if (C.X.dims['time'] > B.X.dims['time']):\n",
    "    C.X = C.X.sel( time=B.X.time )"
   ]
  },
  {
   "cell_type": "code",
   "execution_count": null,
   "id": "0c7a8480-a4c7-45fe-9ce0-90a6d89ee3ca",
   "metadata": {},
   "outputs": [],
   "source": [
    "\"\"\"\n",
    "ntC=C.X.dims['time']\n",
    "if ( C.X.time[0].values == B.X.time[0].values):\n",
    "    isee = np.arange( start=0,stop=ntC, step=2)\n",
    "else:\n",
    "    isee = np.arange( start=1,stop=ntC+1, step=2)\n",
    "\n",
    "print(len(isee))\n",
    "print( C.X.time[isee].values[19]  )\n",
    "print( B.X.time.values[19]  )\n",
    "\"\"\""
   ]
  },
  {
   "cell_type": "code",
   "execution_count": null,
   "id": "e57945b0-9592-43d4-b11a-8efcb965a17e",
   "metadata": {},
   "outputs": [],
   "source": [
    "\n",
    "pdata2=C.X.SHFLX.values\n",
    "ps=C.X.PS.values\n",
    "\n",
    "\"\"\"\n",
    "lon0,lat0=100.,-50.\n",
    "zoog = np.where( (np.abs(lat_x - lat0)<1)&(np.abs(lon_x - lon0)<1) )\n",
    "print(zoog[0])\n",
    "\"\"\""
   ]
  },
  {
   "cell_type": "code",
   "execution_count": null,
   "id": "50830be9-1bf3-4ef0-9f6c-fb7205a4e071",
   "metadata": {},
   "outputs": [],
   "source": [
    "########################\n",
    "# Some massaging\n",
    "########################\n",
    "\n",
    "hyai_x=B.X.hyai.values\n",
    "hybi_x=B.X.hybi.values\n",
    "hyam_x=B.X.hyam.values\n",
    "hybm_x=B.X.hybm.values\n",
    "\n",
    "#ps_x =B.X.PS.values\n",
    "lon_x=B.X.lon.values\n",
    "lat_x=B.X.lat.values\n",
    "lev_x=B.X.lev.values\n",
    "zlev_x=-7.0*np.log( lev_x/1_000. )\n"
   ]
  },
  {
   "cell_type": "code",
   "execution_count": null,
   "id": "5cd12dab-0a8a-42a7-bfbd-60cc19b4c185",
   "metadata": {},
   "outputs": [],
   "source": [
    "\n",
    "kpl=10\n",
    "print(zlev_x[kpl])\n"
   ]
  },
  {
   "cell_type": "code",
   "execution_count": null,
   "id": "ec7c65e6-4e4d-4d31-bf61-d9a271cb5de8",
   "metadata": {},
   "outputs": [],
   "source": [
    "pdata=B.X.OMEGA[:, kpl, :].values\n"
   ]
  },
  {
   "cell_type": "code",
   "execution_count": null,
   "id": "60fb64ce-0be8-4110-bef2-5d6e230663c0",
   "metadata": {},
   "outputs": [],
   "source": [
    "\n",
    "print(np.shape(pdata))\n",
    "print(np.shape(pdata2))\n"
   ]
  },
  {
   "cell_type": "code",
   "execution_count": null,
   "id": "62f074d6-7cee-458e-be5f-19a00cc0bea5",
   "metadata": {},
   "outputs": [],
   "source": [
    "omega_gridKey = GrU.gridKey( B.X.OMEGA )\n",
    "print( omega_gridKey )\n",
    "print( np.shape( pdata ))"
   ]
  },
  {
   "cell_type": "code",
   "execution_count": null,
   "id": "c3792bd7-bd1f-4eab-aba1-5a096f037292",
   "metadata": {},
   "outputs": [],
   "source": [
    "# Only possible on lat-lon field\n",
    "\n",
    "nt,nz,ny,nx = np.shape( B.X.OMEGA )\n",
    "ss=np.zeros((nt,ny,nx) )\n",
    "for t in np.arange( nt ):\n",
    "    if ( (t%10)==0):\n",
    "        print( f'time {t}' ) \n",
    "    ss[t,:,:]=fu.filterk( B.X.OMEGA[t,kpl,:,:] , kmin=0,kmax=20,dimlon=1 )"
   ]
  },
  {
   "cell_type": "code",
   "execution_count": null,
   "id": "e6df90c6-993c-40c2-90ed-004b669e2531",
   "metadata": {},
   "outputs": [],
   "source": [
    "\n",
    "\n",
    "pdata = pdata - ss"
   ]
  },
  {
   "cell_type": "code",
   "execution_count": null,
   "id": "9b477210-394a-41b6-8327-6512ddbe672c",
   "metadata": {},
   "outputs": [],
   "source": [
    "#doodoo\n",
    "print( f\"{B.X.time[0].dt.strftime('%Y-%m-%d %HZ').values}\" )#.values )\n",
    "print( len(B.X.time) )"
   ]
  },
  {
   "cell_type": "code",
   "execution_count": null,
   "id": "51eeb7ed-3f7b-4319-9f71-f8b44b5777d7",
   "metadata": {},
   "outputs": [],
   "source": [
    "nframes = len(B.X.time) \n",
    "#levels=0.2*np.linspace(-.2, .2, num=21)\n",
    "#levels=np.linspace(-.2, .2, num=21)\n",
    "#levels2=np.linspace( 240,300,num=11)\n",
    "levels=np.linspace(-.1, .1, num=21) / 2.\n",
    "levels2=[98_000., 100_000.] # np.linspace( -100,100,num=11)\n",
    "levels3 = np.linspace( 0, 250., num=6)\n",
    "# Create the figure and axis\n",
    "\n",
    "MapProj =ccrs.Orthographic(0, -90.)\n",
    "DataProj = ccrs.PlateCarree()\n",
    "# Get the name of the projection\n",
    "proj_name = MapProj.__class__.__name__\n",
    "\n",
    "#fig, ax = plt.subplots(figsize=(10,10) , projection=MapProj )\n",
    "fig = plt.figure(figsize=( 20, 10 ))\n",
    "Axes = Pu.axes_def(n=1,nxplo=1,nyplo=1 ) \n",
    "ax = fig.add_axes( Axes )  #, projection=MapProj)\n",
    "\n",
    "\n",
    "frame=0\n",
    "\n",
    "contour = ax.contourf(lon_x, lat_x, pdata[frame, :,:], levels=levels, cmap='bwr',alpha=0.5 )  #,transform=DataProj )\n",
    "contour3 = ax.contourf(lon_x, lat_x, pdata2[frame, :,:], levels=levels3 , cmap='magma' , alpha=.25 )  #,transform=DataProj )\n",
    "contour2 = ax.contour(lon_x, lat_x, ps[frame,:,:], levels=levels2 , alpha=0.5, colors='black' )  # Add a second contour plot for data2\n",
    "annot= ax.text( 0.05,.05,B.X.time[frame].dt.strftime('%Y-%m-%d %HZ').values , transform=ax.transAxes, fontsize=16, bbox=dict(facecolor='white') )\n",
    "annot2= ax.text( 0.5,.99, f'Z={zlev_x[kpl]:.0f} km' , transform=ax.transAxes, fontsize=16, bbox=dict(facecolor='white') )\n",
    "cbar = plt.colorbar(contour, ax=ax, shrink=0.6)  # Create colorbar\n",
    "\n"
   ]
  },
  {
   "cell_type": "code",
   "execution_count": null,
   "id": "62d26f88-0de0-4f1b-bf4f-e7d8f22ace4e",
   "metadata": {},
   "outputs": [],
   "source": [
    "# NO CARTOPY ===================================================\n",
    "\n",
    "from matplotlib.animation import FuncAnimation\n",
    "from IPython.display import HTML\n",
    "\n",
    "nframes = len(B.X.time) \n",
    "#levels=0.2*np.linspace(-.2, .2, num=21)\n",
    "#levels=np.linspace(-.2, .2, num=21)\n",
    "#levels2=np.linspace( 240,300,num=11)\n",
    "levels=np.linspace(-.1, .1, num=21) / 2.\n",
    "levels2=[98_000., 100_000.] # np.linspace( -100,100,num=11)\n",
    "levels3 = np.linspace( 0, 250., num=6)\n",
    "\n",
    "# Create the figure and axis\n",
    "\n",
    "MapProj =ccrs.Orthographic(0, -90.)\n",
    "DataProj = ccrs.PlateCarree()\n",
    "# Get the name of the projection\n",
    "proj_name = MapProj.__class__.__name__\n",
    "\n",
    "#fig, ax = plt.subplots(figsize=(10,10) , projection=MapProj )\n",
    "fig = plt.figure(figsize=( 20, 10 ))\n",
    "Axes = Pu.axes_def(n=1,nxplo=1,nyplo=1 ) \n",
    "ax = fig.add_axes( Axes )  #, projection=MapProj)\n",
    "\n",
    "\n",
    "frame=0\n",
    "\n",
    "contour = ax.contourf(lon_x, lat_x, pdata[frame, :,:], levels=levels, cmap='bwr' , alpha=0.5 )  #,transform=DataProj )\n",
    "contour3 = ax.contourf(lon_x, lat_x, pdata2[frame, :,:], levels=levels3 , cmap='magma' , alpha=.25 )  #,transform=DataProj )\n",
    "contour2 = ax.contour(lon_x, lat_x, ps[frame,:,:], levels=levels2 , alpha=0.5, colors='black' )  # Add a second contour plot for data2\n",
    "annot= ax.text( 0.05,.05,B.X.time[frame].dt.strftime('%Y-%m-%d %HZ').values , transform=ax.transAxes, fontsize=16, bbox=dict(facecolor='white') )\n",
    "annot2= ax.text( 0.5,.99, f'Z={zlev_x[kpl]:.0f} km' , transform=ax.transAxes, fontsize=16, bbox=dict(facecolor='white') )\n",
    "cbar = plt.colorbar(contour, ax=ax, shrink=0.6)  # Create colorbar\n",
    "\n",
    "\n",
    "# Update function for the animation\n",
    "def update(frame):\n",
    "    global contour ,contour2,contour3\n",
    "    for coll in contour.collections:\n",
    "        coll.remove()  # Remove existing contour collections\n",
    "    for coll in contour2.collections:\n",
    "        coll.remove()  # Remove existing contour collections\n",
    "    for coll in contour3.collections:\n",
    "        coll.remove()  # Remove existing contour collections\n",
    "    contour = ax.contourf(lon_x, lat_x, pdata[frame, :,:], levels=levels, cmap='bwr' , alpha=0.5 )  #,transform=DataProj )\n",
    "    contour3 = ax.contourf(lon_x, lat_x, pdata2[frame, :,:], levels=levels3 , cmap='magma' , alpha=.25 )  #,transform=DataProj )\n",
    "    contour2 = ax.contour(lon_x, lat_x, ps[frame,:,:], levels=levels2 , alpha=0.5,colors='black')  # Add a second contour plot for data2\n",
    "    annot= ax.text( 0.05,.05,B.X.time[frame].dt.strftime('%Y-%m-%d %HZ').values , transform=ax.transAxes, fontsize=16, bbox=dict(facecolor='white') )\n",
    "    annot2= ax.text( 0.5,.99, f'Z={zlev_x[kpl]:.0f} km' , transform=ax.transAxes, fontsize=16, bbox=dict(facecolor='white') )\n",
    "    #cbar.update_normal(contour)  # Update colorbar\n",
    "    #cbar = plt.colorbar(contour, shrink=.6)\n",
    "    return contour.collections +contour2.collections+contour3.collections\n",
    "\n",
    "# Create and display the animation\n",
    "#nframes=2\n",
    "ani = FuncAnimation(fig, update, frames=nframes, interval=50, blit=True)\n",
    "plt.close()  # Prevents the initial empty plot from showing up\n",
    "HTML(ani.to_html5_video())\n",
    "\n"
   ]
  },
  {
   "cell_type": "code",
   "execution_count": null,
   "id": "ea8888ed-d754-47eb-b09e-400c1e5221b1",
   "metadata": {},
   "outputs": [],
   "source": []
  },
  {
   "cell_type": "code",
   "execution_count": null,
   "id": "ff4bf8ae-ee8b-4de0-ab16-d840c3774dfc",
   "metadata": {},
   "outputs": [],
   "source": [
    "aniName = f'../AnimationFiles/{exp}-Omg44km-PS-SHFLX-{OurMonth}.mp4'\n",
    "print(aniName)"
   ]
  },
  {
   "cell_type": "code",
   "execution_count": null,
   "id": "11db4866-ace8-412a-9346-9fa5d6ea9138",
   "metadata": {},
   "outputs": [],
   "source": [
    "# Step 7: Save the animation as HTML5 video\n",
    "ani.save( aniName , writer='ffmpeg')"
   ]
  },
  {
   "cell_type": "code",
   "execution_count": null,
   "id": "9a0ca16d-d43d-42a8-82cb-0d1c33bb5f38",
   "metadata": {},
   "outputs": [],
   "source": [
    "#HTML(ani.to_html5_video())"
   ]
  },
  {
   "cell_type": "code",
   "execution_count": null,
   "id": "e8c9844a-c5e0-4d10-9bd3-78a2616b7898",
   "metadata": {},
   "outputs": [],
   "source": [
    "import math\n",
    "result = math.ceil(22 / 3)\n",
    "print(result)  # "
   ]
  },
  {
   "cell_type": "code",
   "execution_count": null,
   "id": "a9f8a113-5750-4a4c-b9c1-395e224236cc",
   "metadata": {},
   "outputs": [],
   "source": []
  }
 ],
 "metadata": {
  "kernelspec": {
   "display_name": "NPL 2023b",
   "language": "python",
   "name": "npl-2023b"
  },
  "language_info": {
   "codemirror_mode": {
    "name": "ipython",
    "version": 3
   },
   "file_extension": ".py",
   "mimetype": "text/x-python",
   "name": "python",
   "nbconvert_exporter": "python",
   "pygments_lexer": "ipython3",
   "version": "3.10.12"
  }
 },
 "nbformat": 4,
 "nbformat_minor": 5
}
