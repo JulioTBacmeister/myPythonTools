{
 "cells": [
  {
   "cell_type": "code",
   "execution_count": null,
   "id": "abda101d-5eee-4761-b122-27066e2274d0",
   "metadata": {},
   "outputs": [],
   "source": [
    "#workdir_ = '/glade/work/juliob/'\n",
    "import sys\n",
    "#######################################\n",
    "# Leave this for now. But it should change to better\n",
    "# method as here:\n",
    "import os\n",
    "This_module_path = os.getcwd()  #os.path.dirname(os.path.abspath(__file__))\n",
    "workdir_ = os.path.join(This_module_path, '../../' )\n",
    "# sys.path.append(utils_path)\n",
    "# print( f\" a path added in {__name__} {utils_path} \")\n",
    "\n",
    "print( f\" In {__name__} we have This_module_path={This_module_path} \" )\n",
    "print( f\" In {__name__} we have workdir_={workdir_} \" )\n",
    "########################################\n",
    "sys.path.append(workdir_ + 'myPythonTools/GenlTools/')\n",
    "sys.path.append(workdir_ + 'myPythonTools/Utils/')\n",
    "sys.path.append(workdir_ + 'myPythonTools/Plotting/')\n",
    "sys.path.append(workdir_ + 'myPythonTools/CASutils/')\n",
    "#sys.path.append(workdir_ + 'PyRegridding/Regridder/')\n",
    "sys.path.append(workdir_ + 'PyRegridding/Utils/')\n",
    "\n",
    "# Own local packages\n",
    "import AveragingUtils as Av\n",
    "#import VertRegridFlexLL as Vrg  # This is toxic for some reason\n",
    "import PlotUtil as Pu\n",
    "import utils as uti\n",
    "import numerical_utils as nuti\n",
    "import validation_data as Val\n",
    "import var_A_x_B as vAB\n",
    "import MakePressures as MkP\n",
    "import GridUtils as GrU\n",
    "import LatLonMaps as LL\n",
    "import filter_utils as fu\n",
    "\n",
    "# The usual\n",
    "from datetime import date\n",
    "import numpy as np\n",
    "import xarray as xr\n",
    "import matplotlib.pyplot as plt\n",
    "import matplotlib.tri as tri\n",
    "\n",
    "# Cartopy for pretty maps\n",
    "import cartopy\n",
    "import cartopy.crs as ccrs\n",
    "import cartopy.feature as cfeature\n",
    "\n",
    "# Some other useful packages \n",
    "import importlib\n",
    "import copy\n",
    "import time\n",
    "import cftime\n",
    "\n",
    "importlib.reload( LL )\n",
    "importlib.reload( uti )\n",
    "importlib.reload( nuti )\n",
    "importlib.reload( Pu )\n",
    "importlib.reload(Av)\n",
    "importlib.reload(Val)\n",
    "importlib.reload(vAB)\n",
    "importlib.reload(MkP)\n"
   ]
  },
  {
   "cell_type": "code",
   "execution_count": null,
   "id": "187de81d-0941-4d2a-9d2c-a0392ad6a121",
   "metadata": {},
   "outputs": [],
   "source": [
    "###########\n",
    "\n",
    "exp='c153_ne30pg3_FMTHIST_QxQsst_xic_x02'\n",
    "#exp='fmthist_MM_control_TEM_2'\n",
    "A = uti.MakeDict4Exp( exp=exp , user='juliob_run', subd='hist' , hsPat='cam.h1i' , ymdPat='2004-06-*' ,verbose=True, open_dataset=True )\n",
    "\n",
    "#Q = uti.MakeDict4Exp( exp=exp , user='juliob', subd='regridded' , hsPat='cam.h0' , ymdPat='1994-07*' ,verbose=True, open_dataset=True )\n",
    "#phis=Q.X.PHIS.values/9.8"
   ]
  },
  {
   "cell_type": "code",
   "execution_count": null,
   "id": "8ede746f-1ab6-40da-972d-e25bcebab687",
   "metadata": {},
   "outputs": [],
   "source": [
    "A.X"
   ]
  },
  {
   "cell_type": "code",
   "execution_count": null,
   "id": "df96340e-c9ba-4d22-b3d0-3cf99cd80ead",
   "metadata": {},
   "outputs": [],
   "source": [
    "lon,lat=A.X.lon.values , A.X.lat.values\n",
    "ts=A.X.TS.values"
   ]
  },
  {
   "cell_type": "code",
   "execution_count": null,
   "id": "4052346b-fc84-48b4-b895-84d7927ba397",
   "metadata": {},
   "outputs": [],
   "source": [
    "ts.shape"
   ]
  },
  {
   "cell_type": "code",
   "execution_count": null,
   "id": "2e20230a-a95b-4c87-a6b4-9fa40d7cf43b",
   "metadata": {},
   "outputs": [],
   "source": [
    "\n",
    "# Create a figure and a grid of subplots (e.g., 2 rows, 2 columns)\n",
    "tslv=np.linspace( 270, 305, num=36 )\n",
    "fig, ax = plt.subplots(1, 4, figsize=(40, 6))\n",
    "ax=ax.flatten()\n",
    "\n",
    "n=0\n",
    "co0=ax[n].tricontourf( lon,lat,ts[1,:], levels=tslv )\n",
    "ax[n].set_xlim( 200, 300)\n",
    "ax[n].set_ylim( -20, 20)\n",
    "\n",
    "n=1\n",
    "co0=ax[n].tricontourf( lon,lat,ts[21,:], levels=tslv )\n",
    "ax[n].set_xlim( 200, 300)\n",
    "ax[n].set_ylim( -20, 20)\n",
    "\n",
    "n=2\n",
    "co0=ax[n].tricontourf( lon,lat,ts[41,:], levels=tslv )\n",
    "ax[n].set_xlim( 200, 300)\n",
    "ax[n].set_ylim( -20, 20)\n",
    "\n",
    "n=3\n",
    "co0=ax[n].tricontourf( lon,lat,ts[61,:], levels=tslv )\n",
    "ax[n].set_xlim( 200, 300)\n",
    "ax[n].set_ylim( -20, 20)\n",
    "\n",
    "\n",
    "\n",
    "cbar = fig.colorbar(co3, ax=ax, orientation='horizontal', fraction=0.05, pad=0.1)\n",
    "cbar.set_label('Common Colorbar Label')\n"
   ]
  },
  {
   "cell_type": "code",
   "execution_count": null,
   "id": "2e1c4ae4-fc39-4457-baf4-0c1ebecf2081",
   "metadata": {},
   "outputs": [],
   "source": [
    "SSTq = xr.open_dataset( '/glade/campaign/cgd/amp/juliob/NOAA_OI_SST/sst_ice_NOAA_QxQ_2003_2005.nc' )"
   ]
  },
  {
   "cell_type": "code",
   "execution_count": null,
   "id": "e44113c7-67bc-489a-beeb-01e175596b57",
   "metadata": {},
   "outputs": [],
   "source": [
    "print( A.X.time[1].values )\n",
    "print( SSTq.time[365+151].values )\n"
   ]
  },
  {
   "cell_type": "code",
   "execution_count": null,
   "id": "8d819c07-7a6c-4aab-80af-88e88ee01537",
   "metadata": {},
   "outputs": [],
   "source": [
    "sst=SSTq.SST_cpl.values\n",
    "lonq=SSTq.lon.values\n",
    "latq=SSTq.lat.values"
   ]
  },
  {
   "cell_type": "code",
   "execution_count": null,
   "id": "d8fad2f8-9392-4cd5-a2e9-ef7f956cb496",
   "metadata": {},
   "outputs": [],
   "source": [
    "print(sst.shape)"
   ]
  },
  {
   "cell_type": "code",
   "execution_count": null,
   "id": "55ca1c65-b9f4-4371-9bf5-973c3f1b5adf",
   "metadata": {},
   "outputs": [],
   "source": [
    "\n",
    "# Create a figure and a grid of subplots (e.g., 2 rows, 2 columns)\n",
    "tslv=np.linspace( 270, 305, num=36 )-273.\n",
    "fig, ax = plt.subplots(1, 4, figsize=(40, 6))\n",
    "ax=ax.flatten()\n",
    "\n",
    "jun1=365+151\n",
    "n=0\n",
    "co0=ax[n].contourf( lonq,latq,sst[jun1,:,:], levels=tslv )\n",
    "ax[n].set_xlim( 200, 300)\n",
    "ax[n].set_ylim( -20, 20)\n",
    "\n",
    "n=1\n",
    "co1=ax[n].contourf( lonq,latq,sst[jun1+5,:,:], levels=tslv )\n",
    "ax[n].set_xlim( 200, 300)\n",
    "ax[n].set_ylim( -20, 20)\n",
    "\n",
    "n=2\n",
    "co2=ax[n].contourf( lonq,latq,sst[jun1+10,:,:], levels=tslv )\n",
    "ax[n].set_xlim( 200, 300)\n",
    "ax[n].set_ylim( -20, 20)\n",
    "\n",
    "n=3\n",
    "co3=ax[n].contourf( lonq,latq,sst[jun1+15,:,:], levels=tslv )\n",
    "ax[n].set_xlim( 200, 300)\n",
    "ax[n].set_ylim( -20, 20)\n",
    "\n",
    "\n",
    "\n",
    "cbar = fig.colorbar(co3, ax=ax, orientation='horizontal', fraction=0.05, pad=0.1)\n",
    "cbar.set_label('Common Colorbar Label')\n"
   ]
  },
  {
   "cell_type": "code",
   "execution_count": null,
   "id": "ed8ebff7-00e6-41f3-a4d9-140714a9a146",
   "metadata": {},
   "outputs": [],
   "source": [
    "\n",
    "LL.Maps( fields=[np.sqrt(zeta5km_var )],lons=[lon_x],lats=[lat_x] ,clevs=[np.linspace(0.,0.0001,num=21)],cmaps=['gist_ncar'])"
   ]
  },
  {
   "cell_type": "code",
   "execution_count": null,
   "id": "370a6fe0-ab6c-45d1-aa0e-2d4d7c5955a1",
   "metadata": {},
   "outputs": [],
   "source": []
  }
 ],
 "metadata": {
  "kernelspec": {
   "display_name": "NPL 2023b",
   "language": "python",
   "name": "npl-2023b"
  },
  "language_info": {
   "codemirror_mode": {
    "name": "ipython",
    "version": 3
   },
   "file_extension": ".py",
   "mimetype": "text/x-python",
   "name": "python",
   "nbconvert_exporter": "python",
   "pygments_lexer": "ipython3",
   "version": "3.10.12"
  }
 },
 "nbformat": 4,
 "nbformat_minor": 5
}
