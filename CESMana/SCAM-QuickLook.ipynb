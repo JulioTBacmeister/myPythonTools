{
 "cells": [
  {
   "cell_type": "code",
   "execution_count": null,
   "id": "3c8974c5-e433-466a-a2b4-10ed7126d7cb",
   "metadata": {},
   "outputs": [],
   "source": [
    "workdir_ = \"/glade/work/juliob/\"\n",
    "import sys\n",
    "\n",
    "sys.path.append(workdir_ + \"myPythonTools/GenlTools/\")\n",
    "sys.path.append(workdir_ + \"myPythonTools/Utils/\")\n",
    "sys.path.append(workdir_ + \"PyRegridding/Regridder/\")\n",
    "\n",
    "import copy\n",
    "\n",
    "# Some other useful packages\n",
    "import importlib\n",
    "import time\n",
    "\n",
    "# The usual\n",
    "from datetime import date\n",
    "\n",
    "# Own local packages\n",
    "import AveragingUtils as Av\n",
    "\n",
    "# Cartopy for pretty maps\n",
    "import cartopy\n",
    "import cartopy.crs as ccrs\n",
    "import cartopy.feature as cfeature\n",
    "import cftime\n",
    "import matplotlib.pyplot as plt\n",
    "import matplotlib.tri as tri\n",
    "import numpy as np\n",
    "import PlotUtil as Pu\n",
    "import VertRegridFlexLL as Vrg\n",
    "import xarray as xr\n",
    "\n",
    "importlib.reload(Pu)\n",
    "importlib.reload(Av)"
   ]
  },
  {
   "cell_type": "code",
   "execution_count": null,
   "id": "7eb54edc-4aae-46c5-b331-a6d6cd04b3f9",
   "metadata": {},
   "outputs": [],
   "source": [
    "########\n",
    "fo = \"/glade/derecho/scratch/juliob/scam_L58_gate_bsln01/run/scam_L58_gate_bsln01.cam.h0.1974-08-30-00000.nc\"\n",
    "f  = \"/glade/derecho/scratch/juliob/scam_L58_gate_x06/run/scam_L58_gate_x06.cam.h0.1974-08-30-00000.nc\"\n",
    "fo  = \"/glade/derecho/scratch/juliob/scam_L58_gate_x05/run/scam_L58_gate_x05.cam.h0.1974-08-30-00000.nc\""
   ]
  },
  {
   "cell_type": "code",
   "execution_count": null,
   "id": "fbae794d-fbdd-444c-bfc5-e56223dc091b",
   "metadata": {},
   "outputs": [],
   "source": [
    "Xo = xr.open_dataset(fo)\n",
    "X  = xr.open_dataset(f)\n"
   ]
  },
  {
   "cell_type": "code",
   "execution_count": null,
   "id": "9af760c2-8a6a-413a-b142-f882a5bc1c35",
   "metadata": {},
   "outputs": [],
   "source": [
    "print(X.UCONV_MOVMTN.values.flatten())"
   ]
  },
  {
   "cell_type": "code",
   "execution_count": null,
   "id": "7eb6a042-b336-43ac-b484-431383920d43",
   "metadata": {},
   "outputs": [],
   "source": [
    "#print(list(X.variables))\n",
    "\n",
    "u=X.U_MOVMTN_IN.values.squeeze()\n",
    "v=X.V_MOVMTN_IN.values.squeeze()\n",
    "steer_level = X.STEER_LEVEL_MOVMTN.squeeze() -1.\n",
    "print(X.STEER_LEVEL_MOVMTN)\n",
    "print(np.shape(u))"
   ]
  },
  {
   "cell_type": "code",
   "execution_count": null,
   "id": "4d25c8f1-39d6-4ba8-b7bd-19b2efeb198c",
   "metadata": {},
   "outputs": [],
   "source": [
    "import gw_movmtn\n",
    "importlib.reload(gw_movmtn)"
   ]
  },
  {
   "cell_type": "code",
   "execution_count": null,
   "id": "62f8f393-ddc8-40fe-9fe6-82d7fdc7e2b3",
   "metadata": {},
   "outputs": [],
   "source": [
    "R=gw_movmtn.movmtn_profiles( u=u,v=v,steer_level=steer_level)"
   ]
  },
  {
   "cell_type": "code",
   "execution_count": null,
   "id": "f0925c57-3308-46e9-a193-c56281ff750f",
   "metadata": {},
   "outputs": [],
   "source": [
    "print(steer_level.values)\n",
    "print(R['xv_steer'])"
   ]
  },
  {
   "cell_type": "code",
   "execution_count": null,
   "id": "d9b23fc4-76d8-4aee-aa7c-add3efef64df",
   "metadata": {},
   "outputs": [],
   "source": [
    "plt.plot( R['ubm'][10,:])\n",
    "plt.plot( X.UBM_MOVMTN[10,:,0,0])"
   ]
  },
  {
   "cell_type": "code",
   "execution_count": null,
   "id": "78647f9a-9380-46db-b1fe-7d39593bf69f",
   "metadata": {},
   "outputs": [],
   "source": [
    "########\n",
    "from mpl_toolkits.mplot3d import Axes3D\n",
    "# Creating a figure and a 3D axis\n",
    "\n",
    "x=u[10,:]\n",
    "y=v[10,:]\n",
    "z=X.Z3[10,:].values\n",
    "fig = plt.figure()\n",
    "ax = fig.add_subplot(111, projection='3d')\n",
    "\n",
    "# Plotting data\n",
    "ax.scatter(x, y, z)\n",
    "\n",
    "plt.show()\n",
    "#plt.plot( u[10,:],v)\n",
    "#plt.plot( X.UBM_MOVMTN[10,:,0,0])"
   ]
  },
  {
   "cell_type": "code",
   "execution_count": null,
   "id": "baff6772-4be6-4f57-a228-aa628eb6402a",
   "metadata": {},
   "outputs": [],
   "source": [
    "\n",
    "plt.plot(X.UBM_MOVMTN.values.flatten())\n"
   ]
  },
  {
   "cell_type": "code",
   "execution_count": null,
   "id": "e4154c5f-1417-4e73-90b0-03f2da283b07",
   "metadata": {},
   "outputs": [],
   "source": [
    "\n",
    "plt.plot(X.UCONV_MOVMTN.values.flatten())\n",
    "plt.plot(X.VCONV_MOVMTN.values.flatten())\n",
    "plt.plot(X.CS1_MOVMTN.values.flatten())"
   ]
  },
  {
   "cell_type": "code",
   "execution_count": null,
   "id": "bc1cc62a-a9c8-42e2-92f4-b7ccb963f7e9",
   "metadata": {},
   "outputs": [],
   "source": [
    "\n",
    "print( X.VCONV_MOVMTN[10,0,0].values)\n",
    "print( X.SRC_LEVEL_MOVMTN[10,0,0].values)\n"
   ]
  },
  {
   "cell_type": "code",
   "execution_count": null,
   "id": "556ef7c7-8a07-4d49-b151-2c056be815ab",
   "metadata": {},
   "outputs": [],
   "source": [
    "plt.plot(X.U_MOVMTN_IN[10,:,0,0])\n",
    "plt.scatter( X.SRC_LEVEL_MOVMTN[10,0,0], X.UCONV_MOVMTN[10,0,0] )"
   ]
  },
  {
   "cell_type": "code",
   "execution_count": null,
   "id": "be920a5f-d752-4478-962f-9a278aba96e9",
   "metadata": {},
   "outputs": [],
   "source": [
    "X.TAU_MOVMTN.shape"
   ]
  },
  {
   "cell_type": "code",
   "execution_count": null,
   "id": "6e5a6a8d-d671-4adb-8eff-39118c700648",
   "metadata": {},
   "outputs": [],
   "source": [
    "plt.contour(X.TAU_MOVMTN[:,:,0,0])"
   ]
  },
  {
   "cell_type": "code",
   "execution_count": null,
   "id": "ae729a3d-d239-476f-a793-e89dcb132850",
   "metadata": {},
   "outputs": [],
   "source": [
    "\n",
    "itim = 1000\n",
    "plt.plot( X.Z3[itim,:,0,0],X.TAU_MOVMTN[itim,:-1,0,0] )"
   ]
  },
  {
   "cell_type": "code",
   "execution_count": null,
   "id": "08db92f1-2d3d-4e17-bbc5-70549a750a04",
   "metadata": {},
   "outputs": [],
   "source": [
    "\n",
    "itim=10\n",
    "y1,x1 = X.Z3[itim,:,0,0], X.TAU_MOVMTN[itim,:-1,0,0] \n",
    "y2,x2 = X.Z3[itim,:,0,0], X.UBM_MOVMTN[itim,:,0,0] \n",
    "\n",
    "# Create a figure and a primary axis\n",
    "fig, ax1 = plt.subplots()\n",
    "\n",
    "# Plotting on the primary axis\n",
    "ax1.plot(x1, y1, 'g-')\n",
    "ax1.set_xlabel('X1 Axis')\n",
    "ax1.set_ylabel('Y1 Axis', color='g')\n",
    "ax1.set_ylim(0,22000)\n",
    "\n",
    "# Create a secondary axis\n",
    "ax2 = ax1.twiny()\n",
    "\n",
    "# Plotting on the secondary axis\n",
    "ax2.plot(x2, y2, 'b-')\n",
    "ax2.set_xlabel('X2 Axis', color='b')\n",
    "ax2.set_ylim(0,22000)\n"
   ]
  },
  {
   "cell_type": "code",
   "execution_count": null,
   "id": "f04962d4-06d4-44d0-a2df-d3f223e9e5aa",
   "metadata": {},
   "outputs": [],
   "source": [
    "plt.plot( X.U_MOVMTN_IN[itim,:,0,0] , X.V_MOVMTN_IN[itim,:,0,0] )\n",
    "plt.plot( X.U_MOVMTN_IN[itim,47:48,0,0] , X.V_MOVMTN_IN[itim,47:48,0,0] , 'o')\n"
   ]
  },
  {
   "cell_type": "code",
   "execution_count": null,
   "id": "458467d9-98ce-4659-a643-aa324b50673c",
   "metadata": {},
   "outputs": [],
   "source": [
    "\n",
    "print( X.SRC_LEVEL_MOVMTN.values.flatten())\n",
    "print( X.STEER_LEVEL_MOVMTN.values.flatten())\n",
    "print( X.UCONV_MOVMTN.values.flatten())\n",
    "print( X.VCONV_MOVMTN.values.flatten())\n",
    "print( X.CS1_MOVMTN.values.flatten())\n",
    "poo=np.sqrt( X.UCONV_MOVMTN.values.flatten()**2 + X.VCONV_MOVMTN.values.flatten()**2)\n",
    "print(poo)"
   ]
  },
  {
   "cell_type": "code",
   "execution_count": null,
   "id": "46959e97-fc12-4495-b4d9-fef45a7da27a",
   "metadata": {},
   "outputs": [],
   "source": [
    "\n",
    "#plt.plot(X.TAU_MOVMTN[10,:,0,0])\n",
    "plt.plot(Xo.TAU_MOVMTN[10,:,0,0] - X.TAU_MOVMTN[10,:,0,0])"
   ]
  },
  {
   "cell_type": "code",
   "execution_count": null,
   "id": "3d029fba-89ae-4a93-b0bc-14c1b8f52c00",
   "metadata": {},
   "outputs": [],
   "source": [
    "fig = plt.figure(figsize=(20, 5))\n",
    "itim=10\n",
    "y1,x1 = Xo.Z3[itim,:,0,0], Xo.TAU_MOVMTN[itim,:-1,0,0] \n",
    "y2,x2 = Xo.Z3[itim,:,0,0], Xo.UBM_MOVMTN[itim,:,0,0] \n",
    "\n",
    "# Create a primary axis\n",
    "Axes1 = Pu.axes_def(n=1,nxplo=2,nyplo=1 ) \n",
    "ax1 = fig.add_axes( Axes1 )\n",
    "\n",
    "# Plotting on the primary axis\n",
    "ax1.plot(x1, y1, 'g-')\n",
    "ax1.set_xlabel('X1 Axis')\n",
    "ax1.set_ylabel('Y1 Axis', color='g')\n",
    "ax1.set_ylim(0,22000)\n",
    "\n",
    "# Create a secondary axis\n",
    "ax2 = ax1.twiny()\n",
    "\n",
    "# Plotting on the secondary axis\n",
    "ax2.plot(x2, y2, 'b-')\n",
    "ax2.set_xlabel('X2 Axis', color='b')\n",
    "ax2.set_ylim(0,22000)\n",
    "\n",
    "y1,x1 = X.Z3[itim,:,0,0], X.TAU_MOVMTN[itim,:-1,0,0] \n",
    "y2,x2 = X.Z3[itim,:,0,0], X.UBM_MOVMTN[itim,:,0,0] \n",
    "\n",
    "# Create a primary axis\n",
    "Axes1 = Pu.axes_def(n=2,nxplo=2,nyplo=1 ) \n",
    "ax1 = fig.add_axes( Axes1 )\n",
    "\n",
    "# Plotting on the primary axis\n",
    "ax1.plot(x1, y1, 'g-')\n",
    "ax1.set_xlabel('X1 Axis')\n",
    "ax1.set_ylabel('Y1 Axis', color='g')\n",
    "ax1.set_ylim(0,22000)\n",
    "\n",
    "# Create a secondary axis\n",
    "ax2 = ax1.twiny()\n",
    "\n",
    "# Plotting on the secondary axis\n",
    "ax2.plot(x2, y2, 'b-')\n",
    "ax2.set_xlabel('X2 Axis', color='b')\n",
    "ax2.set_ylim(0,22000)\n"
   ]
  },
  {
   "cell_type": "code",
   "execution_count": null,
   "id": "95e79ef0-3041-4f61-a60d-14b45c7f229d",
   "metadata": {},
   "outputs": [],
   "source": [
    "fig = plt.figure(figsize=(20, 5))\n",
    "\n",
    "for itim in np.arange(start=1,stop=11):\n",
    "    y1,x1 = X.Z3[itim,:,0,0], X.TAU_MOVMTN[itim,:-1,0,0] \n",
    "    y2,x2 = X.Z3[itim,:,0,0], X.UBM_MOVMTN[itim,:,0,0] \n",
    "    \n",
    "    # Create a primary axis\n",
    "    Axes1 = Pu.axes_def(n=itim,nxplo=5,nyplo=2 ) \n",
    "    ax1 = fig.add_axes( Axes1 )\n",
    "    \n",
    "    # Plotting on the primary axis\n",
    "    ax1.plot(x1, y1, 'g-')\n",
    "    ax1.set_xlabel('X1 Axis')\n",
    "    ax1.set_ylabel('Y1 Axis', color='g')\n",
    "    ax1.set_ylim(0,22000)\n",
    "    \n",
    "    # Create a secondary axis\n",
    "    ax2 = ax1.twiny()\n",
    "    \n",
    "    # Plotting on the secondary axis\n",
    "    ax2.plot(x2, y2, 'b-')\n",
    "    ax2.set_xlabel('X2 Axis', color='b')\n",
    "    ax2.set_ylim(0,22000)\n"
   ]
  },
  {
   "cell_type": "code",
   "execution_count": null,
   "id": "9c36fa98-06b9-4f93-986f-d452d76badc0",
   "metadata": {},
   "outputs": [],
   "source": [
    "plt.plot(86400.*X.UTGW_MOVMTN[10,:,0,0])\n",
    "#plt.plot(X.V[10,:,0,0])\n"
   ]
  },
  {
   "cell_type": "code",
   "execution_count": null,
   "id": "f3dfdf1b-0f21-4e18-9830-78908cfc278c",
   "metadata": {},
   "outputs": [],
   "source": [
    "\n",
    "plt.plot(X.VPWP_CLUBB_GW.values[:,57,0,0])\n",
    "plt.plot(X.VPWP_CLUBB.values[:,57,0,0])\n"
   ]
  },
  {
   "cell_type": "code",
   "execution_count": null,
   "id": "3391ca40-d58a-4b04-b40c-e0af7775d649",
   "metadata": {},
   "outputs": [],
   "source": [
    "\n",
    "plt.plot(X.TTEND_CLUBB.values[:,57,0,0])\n",
    "plt.plot(X.STEND_CLUBB.values[:,57,0,0]/1004.)\n"
   ]
  },
  {
   "cell_type": "code",
   "execution_count": null,
   "id": "7759803e-7057-45f4-8073-244f26658c14",
   "metadata": {},
   "outputs": [],
   "source": []
  }
 ],
 "metadata": {
  "kernelspec": {
   "display_name": "NPL 2022b",
   "language": "python",
   "name": "npl-2022b"
  },
  "language_info": {
   "codemirror_mode": {
    "name": "ipython",
    "version": 3
   },
   "file_extension": ".py",
   "mimetype": "text/x-python",
   "name": "python",
   "nbconvert_exporter": "python",
   "pygments_lexer": "ipython3",
   "version": "3.8.13"
  }
 },
 "nbformat": 4,
 "nbformat_minor": 5
}
