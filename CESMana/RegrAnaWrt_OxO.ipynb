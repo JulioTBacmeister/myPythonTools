{
 "cells": [
  {
   "cell_type": "code",
   "execution_count": null,
   "id": "abda101d-5eee-4761-b122-27066e2274d0",
   "metadata": {},
   "outputs": [],
   "source": [
    "################################################\n",
    "# New style \n",
    "################################################\n",
    "import sys\n",
    "import os\n",
    "\n",
    "workdir_ = '/glade/work/juliob'\n",
    "if ( workdir_ not in sys.path ):\n",
    "    sys.path.append(workdir_)\n",
    "    print( f\" a path to {workdir_} added in {__name__} {utils_path} \")\n",
    "\n",
    "from myPythonTools.Utils import utils as uti\n",
    "from myPythonTools.Utils import numerical_utils as nuti\n",
    "from myPythonTools.Utils import AveragingUtils as Av\n",
    "from myPythonTools.Utils import validation_data as Val\n",
    "from myPythonTools.Utils import PlotUtil as Pu\n",
    "from myPythonTools.Plotting import LatLonMaps as LL \n",
    "from myPythonTools.CASutils import filter_utils as fu \n",
    "\n",
    "from PyRegridding.Utils import GridUtils as GrU\n",
    "from PyRegridding.Utils import MakePressures as MkP\n",
    "from PyRegridding.Drivers import RegridField as RgF\n",
    "\n",
    "\n",
    "import regrid_gwana_wrt as gwa\n",
    "\n",
    "\n",
    "\"\"\"\n",
    "#############\n",
    "# The old ways ....\n",
    "#########################################\n",
    "#workdir_ = '/glade/work/juliob/'\n",
    "import sys\n",
    "#######################################\n",
    "# Leave this for now. But it should change to better\n",
    "# method as here:\n",
    "import os\n",
    "This_module_path = os.getcwd()  #os.path.dirname(os.path.abspath(__file__))\n",
    "workdir_ = os.path.join(This_module_path, '../../' )\n",
    "# sys.path.append(utils_path)\n",
    "# print( f\" a path added in {__name__} {utils_path} \")\n",
    "\n",
    "print( f\" In {__name__} we have This_module_path={This_module_path} \" )\n",
    "print( f\" In {__name__} we have workdir_={workdir_} \" )\n",
    "########################################\n",
    "sys.path.append(workdir_ + 'myPythonTools/GenlTools/')\n",
    "sys.path.append(workdir_ + 'myPythonTools/Utils/')\n",
    "sys.path.append(workdir_ + 'myPythonTools/Plotting/')\n",
    "sys.path.append(workdir_ + 'myPythonTools/CASutils/')\n",
    "#sys.path.append(workdir_ + 'PyRegridding/Regridder/')\n",
    "sys.path.append(workdir_ + 'PyRegridding/Utils/')\n",
    "\n",
    "import regrid_gwana_latSlice_wrt as gwa\n",
    "\n",
    "# Own local packages\n",
    "import AveragingUtils as Av\n",
    "import PlotUtil as Pu\n",
    "import utils as uti\n",
    "import numerical_utils as nuti\n",
    "import validation_data as Val\n",
    "import var_A_x_B as vAB\n",
    "import MakePressures as MkP\n",
    "import GridUtils as GrU\n",
    "import LatLonMaps as LL\n",
    "import filter_utils as fu\n",
    "\n",
    "sys.path.append(workdir_ + 'PyRegridding/Drivers/')\n",
    "import RegridField as RgF\n",
    "\"\"\"\n",
    "\n",
    "# The usual\n",
    "from datetime import date\n",
    "import numpy as np\n",
    "import xarray as xr\n",
    "import matplotlib.pyplot as plt\n",
    "import matplotlib.tri as tri\n",
    "\n",
    "# Cartopy for pretty maps\n",
    "import cartopy\n",
    "import cartopy.crs as ccrs\n",
    "import cartopy.feature as cfeature\n",
    "\n",
    "# Some other useful packages \n",
    "import importlib\n",
    "import copy\n",
    "import time\n",
    "import cftime\n",
    "import yaml\n",
    "#from box import Box\n",
    "\n",
    "importlib.reload( LL )\n",
    "importlib.reload( uti )\n",
    "importlib.reload( nuti )\n",
    "importlib.reload( Pu )\n",
    "importlib.reload(Av)\n",
    "importlib.reload(Val)\n",
    "#importlib.reload(vAB)\n",
    "importlib.reload(MkP)\n",
    "importlib.reload(GrU)\n",
    "importlib.reload(gwa)\n"
   ]
  },
  {
   "cell_type": "code",
   "execution_count": null,
   "id": "392461ce-6dad-4c85-a274-d1d7bbf798d2",
   "metadata": {},
   "outputs": [],
   "source": [
    "gwa.driver()"
   ]
  },
  {
   "cell_type": "code",
   "execution_count": null,
   "id": "b7161d43-5ee8-4b07-babe-b819899d2394",
   "metadata": {},
   "outputs": [],
   "source": [
    "\n",
    "\n",
    "with open('configure_plots.yaml', 'r') as file:\n",
    "    cfg = yaml.safe_load(file)\n",
    "\n",
    "\n",
    "######################################################\n",
    "\n",
    "x='ne240x2_QxQsst'\n",
    "#x='ne240x2'\n",
    "#x='oldCTL' #'waccmL135'\n",
    "exp, subd, Src, Hkey, Dst, useri = cfg[x]['name'] , cfg[x]['subdir'] , cfg[x]['SrcGrid'] , cfg[x]['Hkey'] , cfg[x]['DstGrid'] , cfg[x]['user'] \n",
    "ymdPat = cfg[x]['ymdPat']\n",
    "hsPat = cfg[x]['hsPat']\n",
    "print( exp, subd, Src, Hkey, Dst, useri )\n",
    "\n",
    "year,month,day,hour = 1985,1,1,0\n",
    "second = hour  * 3600\n",
    "ymdPat=str( year ).zfill(4) + '-' + str(month).zfill(2) + '-' + str(day).zfill(2) + '-' + str(second).zfill(5)\n",
    "\n",
    "ymdPat='2004-07-01-*'\n",
    "A = uti.MakeDict4Exp( exp=exp , user=useri, subd=subd , \n",
    "                     hsPat=hsPat , ymdPat=ymdPat,verbose=True, open_dataset=True )\n",
    "\n"
   ]
  },
  {
   "cell_type": "code",
   "execution_count": null,
   "id": "a2b47e1f-a21e-40bf-ab34-5acf091a8fad",
   "metadata": {},
   "outputs": [],
   "source": [
    "\n",
    "#target_plevs = [ 931.99204257 855.78421029 498.51109676 227.21837597  58.48490616, 2.80419527]\n",
    "\n",
    "target_plevs = [ 932.0, 856., 499., 227.0,  58., 2.8]\n",
    "plevs = A.X.lev.values\n",
    "\n",
    "#print( A.X.lev.values[np.array([85, 80, 68, 57,38,11 ] )]) \n",
    "print(plevs)\n"
   ]
  },
  {
   "cell_type": "code",
   "execution_count": null,
   "id": "f19d9987-5c26-46f9-88b7-4e281010c1e3",
   "metadata": {},
   "outputs": [],
   "source": [
    "lev_sel = uti.find_nearest_plev_indices(plev=plevs , target_levels=target_plevs )\n",
    "print(lev_sel)"
   ]
  },
  {
   "cell_type": "code",
   "execution_count": null,
   "id": "284763a2-742c-4dd3-83b7-e9c163fd4a68",
   "metadata": {},
   "outputs": [],
   "source": [
    "A.X = A.X.isel( lev=lev_sel )"
   ]
  },
  {
   "cell_type": "code",
   "execution_count": null,
   "id": "c3f15ef5-8dc3-4248-b3a1-ac3030745541",
   "metadata": {},
   "outputs": [],
   "source": [
    "A.X"
   ]
  },
  {
   "cell_type": "code",
   "execution_count": null,
   "id": "dedffbf8-fb39-44b3-96bb-115f422ed185",
   "metadata": {},
   "outputs": [],
   "source": [
    "print(A.X.TS.dims)\n",
    "print( ('time', 'ncol'))\n",
    "print(  A.X.TS.dims == ('time', 'lev','ncol'))\n",
    "print(  A.X.TS.dims == ('time',   'ncol',))\n",
    "print(  A.X.TS.dims == ('time',))\n"
   ]
  },
  {
   "cell_type": "code",
   "execution_count": null,
   "id": "bd8132be-91db-4c6d-a928-3a0107e930ed",
   "metadata": {},
   "outputs": [],
   "source": [
    "A.X['U'].long_name"
   ]
  },
  {
   "cell_type": "code",
   "execution_count": null,
   "id": "7f484563-5fc4-4fec-b099-2e084861622f",
   "metadata": {},
   "outputs": [],
   "source": [
    "%%time\n",
    "##########################################################\n",
    "# Generate regirdding objetcs to be usedf later on\n",
    "#---------------------------------------------------------\n",
    "\n",
    "RgOb_ne240_x_ne16 = RgF.Horz( Src='ne240pg3', Dst='ne16pg3' ) \n",
    "\n",
    "RgOb_ne16_x_ne240 = RgF.Horz(  Src='ne16pg3' , Dst='ne240pg3' , RegridMethod='BILINEAR' ) \n",
    "\n",
    "RgOb_ne240_x_llOxO = RgF.Horz( Src='ne240pg3', Dst='latlonOxO' ) \n"
   ]
  },
  {
   "cell_type": "code",
   "execution_count": null,
   "id": "595158e7-53cf-481c-a284-04596748c92b",
   "metadata": {},
   "outputs": [],
   "source": [
    "Topo=xr.open_dataset(A.X.topography_file)\n",
    "topoO=Topo.PHIS.values / 9.8"
   ]
  },
  {
   "cell_type": "code",
   "execution_count": null,
   "id": "07dcdb26-d6e6-416a-b674-444408e2055a",
   "metadata": {},
   "outputs": [],
   "source": [
    "ogO=A.X.OMEGA.values\n",
    "\n",
    "print(ogO.shape)\n",
    "\n",
    "ogOx2=RgF.Horz(xfld_Src=ogO , Src='ne240pg3', Dst='ne16pg3' , RegridObj_In=  RgOb_ne240_x_ne16  ) \n",
    "\n",
    "ogOx2xO=RgF.Horz(xfld_Src=ogOx2 , Src='ne16pg3' , Dst='ne240pg3', RegridObj_In= RgOb_ne16_x_ne240  ) \n",
    "\n",
    "latO,lonO = GrU.latlon( grid='ne240pg3' )\n",
    "\n",
    "print( ogO.shape )\n",
    "print( ogOx2.shape )\n",
    "print( ogOx2xO.shape )\n",
    "\n"
   ]
  },
  {
   "cell_type": "code",
   "execution_count": null,
   "id": "b354adca-1ce2-44c3-ad70-06c1ebbc717b",
   "metadata": {},
   "outputs": [],
   "source": [
    "lev=A.X.lev.values\n",
    "lat2,lon2 = GrU.latlon( grid='ne16pg3' )"
   ]
  },
  {
   "cell_type": "code",
   "execution_count": null,
   "id": "f50c70a1-0f3c-43a3-bbc1-a55214512762",
   "metadata": {},
   "outputs": [],
   "source": [
    "dims   = [\"ncol\",\"ncol2\",\"time\",\"lev\"]\n",
    "coords = dict( \n",
    "    lon  = ( [\"ncol\"],lonO),\n",
    "    lat  = ( [\"ncol\"],latO ),\n",
    "    lon2  = ( [\"ncol2\"],lon2),\n",
    "    lat2  = ( [\"ncol2\"],lat2 ),\n",
    "    lev  = ( [\"lev\"],lev),\n",
    "    time = ( [\"time\"], A.X.time.values  ), #pd.to_datetime( pdTime_ERA[itim] ) ),\n",
    ")\n",
    "\n",
    "Xw = xr.Dataset( coords=coords  )\n",
    "Dar = xr.DataArray( data=topoO, \n",
    "                    dims=('ncol',),\n",
    "                    attrs=dict( description='Topography',units='m',) ,) \n",
    "Xw['topoO'] = Dar\n",
    "Dar = xr.DataArray( data=ogO, \n",
    "                    dims=('time','lev','ncol',),\n",
    "                    attrs=dict( description='Pressure velocity',units='Pa s-1',) ,) \n",
    "Xw['omegaO'] = Dar\n",
    "\n",
    "Dar = xr.DataArray( data=ogOx2, \n",
    "                    dims=('time','lev','ncol2',),\n",
    "                    attrs=dict( description='Pressure velocity',units='Pa s-1',) ,) \n",
    "Xw['omegaOx2'] = Dar\n",
    "\n",
    "Dar = xr.DataArray( data=ogOx2xO, \n",
    "                    dims=('time','lev','ncol',),\n",
    "                    attrs=dict( description='Pressure velocity',units='Pa s-1',) ,) \n",
    "Xw['omegaOx2xO'] = Dar\n"
   ]
  },
  {
   "cell_type": "code",
   "execution_count": null,
   "id": "bdc1cb6e-ef47-4d5a-a3bb-d9d49571562e",
   "metadata": {},
   "outputs": [],
   "source": [
    "###\n",
    "Xw"
   ]
  },
  {
   "cell_type": "code",
   "execution_count": null,
   "id": "6364b188-8ac9-46a0-b41a-8ac33d79d89e",
   "metadata": {},
   "outputs": [],
   "source": [
    "###\n",
    "import os\n",
    "tootrange = f\"{(A.X.time[0].values.item() ).strftime('%Y-%m-%d')}_{(A.X.time[-1].values.item() ).strftime('%Y-%m-%d')}\"\n",
    "fname=f'{A.exp}_GWana_{tootrange}.nc'\n",
    "Bdiro=f'/glade/derecho/scratch/juliob/archive/{A.exp}/atm/GWana/'\n",
    "#######\n",
    "\n",
    "fname = f'{Bdiro}{fname}'\n",
    "print(Bdiro)\n",
    "print(fname)"
   ]
  },
  {
   "cell_type": "code",
   "execution_count": null,
   "id": "99a55f60-c2aa-459d-aa93-9f3bb0b18b5b",
   "metadata": {},
   "outputs": [],
   "source": [
    "os.makedirs( Bdiro , exist_ok=True )\n",
    "Xw.to_netcdf( fname )"
   ]
  },
  {
   "cell_type": "code",
   "execution_count": null,
   "id": "97c2b073-4cdd-43b5-9e04-0fe8d92b11cb",
   "metadata": {},
   "outputs": [],
   "source": []
  },
  {
   "cell_type": "code",
   "execution_count": null,
   "id": "ced90a8a-3305-4391-9b61-3cd5f9b872f0",
   "metadata": {},
   "outputs": [],
   "source": [
    "#A.X.area\n",
    "print( np.sum(A.X.area.values ) , 4.*np.pi )"
   ]
  },
  {
   "cell_type": "code",
   "execution_count": null,
   "id": "09c0666f-54fc-4c43-bb66-83fe06663614",
   "metadata": {},
   "outputs": [],
   "source": [
    "#A.X.area\n",
    "\n",
    "print( np.sum( A.X.area.values*ogOx2xO[0,:] ) , 4.*np.pi )\n",
    "\n",
    "#plt.plot( ogOx2xO[0,:] )"
   ]
  },
  {
   "cell_type": "code",
   "execution_count": null,
   "id": "0a9815d6-41b4-40fc-a6fc-35abd7f4e1c7",
   "metadata": {},
   "outputs": [],
   "source": [
    "dog = ogO - ogOx2xO"
   ]
  },
  {
   "cell_type": "code",
   "execution_count": null,
   "id": "8419810d-8f75-4977-9ab7-a367aff6d279",
   "metadata": {},
   "outputs": [],
   "source": [
    "topoll =RgF.Horz(xfld_Src=topoO , Src='ne240pg3', Dst='latlonOxO' , RegridObj_In=  RgOb_ne240_x_llOxO  ) \n"
   ]
  },
  {
   "cell_type": "code",
   "execution_count": null,
   "id": "51a1d24e-955e-47bf-846b-6dddb11094ac",
   "metadata": {},
   "outputs": [],
   "source": [
    "dogll =RgF.Horz(xfld_Src=dog , Src='ne240pg3', Dst='latlonOxO' , RegridObj_In=  RgOb_ne240_x_llOxO  ) \n"
   ]
  },
  {
   "cell_type": "code",
   "execution_count": null,
   "id": "ce249245-a639-4881-8a7a-60d583345517",
   "metadata": {},
   "outputs": [],
   "source": [
    "ogOll =RgF.Horz(xfld_Src=ogO , Src='ne240pg3', Dst='latlonOxO' , RegridObj_In=  RgOb_ne240_x_llOxO  ) \n",
    "ogOx2xOll =RgF.Horz(xfld_Src=ogOx2xO , Src='ne240pg3', Dst='latlonOxO' , RegridObj_In=  RgOb_ne240_x_llOxO  ) \n"
   ]
  },
  {
   "cell_type": "code",
   "execution_count": null,
   "id": "fd1f44b6-d4f9-44b9-94c4-f70155d8db66",
   "metadata": {},
   "outputs": [],
   "source": [
    "\n",
    "dolev = np.linspace(-1,1,num=21)\n",
    "olev = np.linspace(-10,10,num=21)\n",
    "# Create a figure with a 2x2 grid of subplots\n",
    "fig, ax = plt.subplots(1, 3, figsize=(20, 5))\n",
    "\n",
    "# Flatten axs to easily access each subplot by index\n",
    "ax = ax.flatten()\n",
    "\n",
    "\n",
    "k=4\n",
    "co=ax[0].contourf( ogOll[0,k,:,:] , levels = 0.5*olev, cmap='bwr' )\n",
    "ax[0].set_xlim((500,1000))\n",
    "ax[0].set_ylim((100,400))\n",
    "cb=plt.colorbar( co )\n",
    "co=ax[1].contourf( ogOx2xOll[0,k,:,:] , levels = 0.5*olev , cmap='bwr' )\n",
    "ax[1].set_xlim((500,1000))\n",
    "ax[1].set_ylim((100,400))\n",
    "cb=plt.colorbar( co )\n",
    "co=ax[2].contourf( dogll[0,k,:,:] , levels = 2*dolev , cmap='bwr' )\n",
    "ax[2].set_xlim((500,1000))\n",
    "ax[2].set_ylim((100,400))\n",
    "cb=plt.colorbar( co )\n",
    "#plt.colorbar()"
   ]
  },
  {
   "cell_type": "code",
   "execution_count": null,
   "id": "f5bd3860-1f1a-4b19-8477-9a484aa94dff",
   "metadata": {},
   "outputs": [],
   "source": [
    "toot = (A.X.time[0].values.item() ).strftime('%Y-%m-%d:%HZ')\n",
    "print( toot )"
   ]
  },
  {
   "cell_type": "code",
   "execution_count": null,
   "id": "1f4b3229-2589-48e3-b9f8-035302ed1df7",
   "metadata": {},
   "outputs": [],
   "source": [
    "A.exp"
   ]
  },
  {
   "cell_type": "code",
   "execution_count": null,
   "id": "429ecfd6-5d57-4792-b85b-a10dbb014643",
   "metadata": {},
   "outputs": [],
   "source": [
    "plev=A.X.lev.values\n",
    "#print(plev)\n",
    "zlev= -7.0 * np.log( plev / 1000. )\n",
    "print(plev)"
   ]
  },
  {
   "cell_type": "code",
   "execution_count": null,
   "id": "5521e940-21bb-4812-80a8-4d1a66015f4d",
   "metadata": {},
   "outputs": [],
   "source": [
    "t=14*4\n",
    "toot = (A.X.time[t].values.item() ).strftime('%Y-%m-%d:%HZ')\n",
    "print(toot)"
   ]
  },
  {
   "cell_type": "code",
   "execution_count": null,
   "id": "332dbe38-6d8b-4d91-b6b7-dd68e950435c",
   "metadata": {},
   "outputs": [],
   "source": [
    "\n",
    "\n",
    "lats,lons = GrU.latlon(grid='latlonOxO')\n",
    "\n",
    "\n",
    "\n"
   ]
  },
  {
   "cell_type": "code",
   "execution_count": null,
   "id": "91257e5b-aa38-4547-854d-2ff64137597a",
   "metadata": {},
   "outputs": [],
   "source": [
    "\n",
    "fig, ax = plt.subplots(2, 3, figsize=(28, 15))\n",
    "\n",
    "# Flatten axs to easily access each subplot by index\n",
    "ax = ax.flatten()\n",
    "\n",
    "dolev = np.linspace(-1,1,num=21)\n",
    "olev = np.linspace(-10,10,num=21)\n",
    "\n",
    "jj = 300\n",
    "\n",
    "tootrange = f\" {(A.X.time[0].values.item() ).strftime('%Y-%m-%d')} to {(A.X.time[-1].values.item() ).strftime('%Y-%m-%d')}\"\n",
    "#loot=f\"Lat={A.X.lat[jj].values:.1f}\"\n",
    "latval = lats[jj] \n",
    "print(f\" Lat={latval:.1f} \")\n",
    "print(tootrange )\n",
    "\n",
    "klist=np.arange( len(zlev) )\n",
    "p=0\n",
    "for k in klist:\n",
    "    print( plev[k] , zlev[k] )\n",
    "    scak = 500./ plev[k]\n",
    "    if zlev[k]>30. :\n",
    "        scak=scak*0.25\n",
    "    #co=ax[p].contourf( scak*ogOll[0,k,:,:] , levels = 0.5*olev , cmap='bwr' )\n",
    "    co=ax[p].contourf(scak* dogll[:,k,jj,:],levels=2*dolev ,cmap='bwr' )\n",
    "    ax[p].set_title( f'{plev[k]:.1f} hPa, {zlev[k]:.1f} km' )\n",
    "    cb=plt.colorbar( co )\n",
    "    p=p+1\n",
    "\n",
    "fig.suptitle( f'{A.exp}, {tootrange}, Lat={latval:.1f}' , fontsize=20)\n",
    "\n",
    "FigName=f'Hpass-omega-Hovmueller_{A.exp}.png'\n",
    "Pu.save_link(png_filename = FigName )\n"
   ]
  },
  {
   "cell_type": "code",
   "execution_count": null,
   "id": "4e9f8da1-f1f5-491c-b4bf-073ff8b6b8fd",
   "metadata": {},
   "outputs": [],
   "source": [
    "dogsq = dogll*dogll"
   ]
  },
  {
   "cell_type": "code",
   "execution_count": null,
   "id": "28c8b44b-5415-45c7-967d-339422b4e294",
   "metadata": {},
   "outputs": [],
   "source": [
    "doggee=np.sqrt( np.average( dogsq, axis=0 ) )"
   ]
  },
  {
   "cell_type": "code",
   "execution_count": null,
   "id": "468e87b4-b72e-4aca-bfa2-18b81e489e96",
   "metadata": {},
   "outputs": [],
   "source": [
    "\n",
    "\n",
    "dolev = np.linspace(0,1,num=21)\n",
    "olev = np.linspace(-10,10,num=21)\n",
    "# Create a figure with a 2x2 grid of subplots\n",
    "fig, ax = plt.subplots(2, 3, figsize=(28, 10))\n",
    "\n",
    "# Flatten axs to easily access each subplot by index\n",
    "ax = ax.flatten()\n",
    "\n",
    "xlim=np.array([0,2880])\n",
    "ylim=np.array([0,1440])\n",
    "\n",
    "t=13*4\n",
    "toot = (A.X.time[t].values.item() ).strftime('%Y-%m-%d:%HZ')\n",
    "tootrange = f\" {(A.X.time[0].values.item() ).strftime('%Y-%m-%d')} to {(A.X.time[-1].values.item() ).strftime('%Y-%m-%d')}\"\n",
    "\n",
    "klist=np.arange( len(zlev) ) #[90,84, 80,75, 68, 65, 57 , 50 ,38,30,20,10 ]\n",
    "p=0\n",
    "for k in klist:\n",
    "    print( plev[k] , zlev[k] )\n",
    "    scak = 500./ plev[k]\n",
    "    if zlev[k]>30. :\n",
    "        scak=scak*0.25\n",
    "    #co=ax[p].contourf( scak*ogOll[0,k,:,:] , levels = 0.5*olev , cmap='bwr' )\n",
    "    co=ax[p].contourf( scak*doggee[k,:,:] , levels = dolev , cmap='gist_ncar' )\n",
    "    co2 = ax[p].contour( topoll , levels = [1,10,1000], colors='black' )\n",
    "    #ax[p].set_xlim((500,1000))\n",
    "    #ax[p].set_ylim((100,400))\n",
    "    ax[p].set_xlim(xlim)\n",
    "    ax[p].set_ylim(ylim)\n",
    "    ax[p].set_title( f'{plev[k]:.1f} hPa, {zlev[k]:.1f} km' )\n",
    "    cb=plt.colorbar( co )\n",
    "    p=p+1\n",
    "fig.suptitle( f'{A.exp}, {tootrange}' , fontsize=20)\n",
    "#plt.colorbar()\n",
    "FigName=f'Hpass-omega-rms_{A.exp}.png'\n",
    "Pu.save_link(png_filename = FigName )\n"
   ]
  },
  {
   "cell_type": "code",
   "execution_count": null,
   "id": "4ea0d4b4-0fc1-4632-91b1-48d6e36eabbd",
   "metadata": {},
   "outputs": [],
   "source": [
    "plt.plot( np.average( doggee[5,:,:], axis=1 ) )"
   ]
  },
  {
   "cell_type": "code",
   "execution_count": null,
   "id": "b51ff482-a6a4-4b2a-b2c7-9631857da83c",
   "metadata": {},
   "outputs": [],
   "source": [
    "\n",
    "\n",
    "dolev = np.linspace(-1,1,num=21)\n",
    "olev = np.linspace(-10,10,num=21)\n",
    "# Create a figure with a 2x2 grid of subplots\n",
    "fig, ax = plt.subplots(3, 4, figsize=(28, 15))\n",
    "\n",
    "# Flatten axs to easily access each subplot by index\n",
    "ax = ax.flatten()\n",
    "\n",
    "xlim=np.array([200,1300])-200\n",
    "ylim=np.array([100,700])\n",
    "\n",
    "t=13*4\n",
    "toot = (A.X.time[t].values.item() ).strftime('%Y-%m-%d:%HZ')\n",
    "klist=np.arange( len(zlev) ) #[90,84, 80,75, 68, 65, 57 , 50 ,38,30,20,10 ]\n",
    "p=0\n",
    "for k in klist:\n",
    "    print( plev[k] , zlev[k] )\n",
    "    scak = 500./ plev[k]\n",
    "    #co=ax[p].contourf( scak*ogOll[0,k,:,:] , levels = 0.5*olev , cmap='bwr' )\n",
    "    co=ax[p].contourf( scak*dogll[t,k,:,:] , levels = 2*dolev , cmap='bwr' )\n",
    "    co2 = ax[p].contour( topoll , levels = [1,10,1000], colors='black' )\n",
    "    #ax[p].set_xlim((500,1000))\n",
    "    #ax[p].set_ylim((100,400))\n",
    "    ax[p].set_xlim(xlim)\n",
    "    ax[p].set_ylim(ylim)\n",
    "    ax[p].set_title( f'{plev[k]:.1f} hPa, {zlev[k]:.1f} km' )\n",
    "    cb=plt.colorbar( co )\n",
    "    p=p+1\n",
    "fig.suptitle( f'{A.exp}, time={toot}' , fontsize=20)\n",
    "#plt.colorbar()\n",
    "FigName=f'Hpass-omega.png'\n",
    "Pu.save_link(png_filename = FigName )\n"
   ]
  },
  {
   "cell_type": "code",
   "execution_count": null,
   "id": "e0d4bb24-2c5e-43c3-800f-8a39093f7ee4",
   "metadata": {},
   "outputs": [],
   "source": [
    "\n",
    "\n",
    "dolev = np.linspace(-1,1,num=21)\n",
    "olev = np.linspace(-10,10,num=21)\n",
    "# Create a figure with a 2x2 grid of subplots\n",
    "fig, ax = plt.subplots(3, 4, figsize=(28, 15))\n",
    "\n",
    "# Flatten axs to easily access each subplot by index\n",
    "ax = ax.flatten()\n",
    "\n",
    "t=0\n",
    "toot = (A.X.time[t].values.item() ).strftime('%Y-%m-%d:%HZ')\n",
    "klist=[90,85, 80,75, 70, 65, 60 , 50 ,40,30,20,10 ]\n",
    "p=0\n",
    "for k in klist:\n",
    "    print( plev[k] , zlev[k] )\n",
    "    scak = 500./ plev[k]\n",
    "    co=ax[p].contourf( scak*ogOll[t,k,:,:] , levels = 0.5*olev , cmap='bwr' )\n",
    "    co2 = ax[p].contour( topoll , levels = [1,10,1000], colors='black' )\n",
    "    #ax[p].set_xlim((500,1000))\n",
    "    #ax[p].set_ylim((100,400))\n",
    "    ax[p].set_xlim((200,1300))\n",
    "    ax[p].set_ylim((100,700))\n",
    "    ax[p].set_title( f'{plev[k]:.1f} hPa, {zlev[k]:.1f} km' )\n",
    "    cb=plt.colorbar( co )\n",
    "    p=p+1\n",
    "fig.suptitle( f'{A.exp}, time={toot}' , fontsize=20)\n",
    "#plt.colorbar()\n",
    "FigName=f'Raw-omega.png'\n",
    "Pu.save_link(png_filename = FigName )\n"
   ]
  },
  {
   "cell_type": "code",
   "execution_count": null,
   "id": "7f1eb3d1-84f0-4efb-9aa9-0a2b46e647a4",
   "metadata": {},
   "outputs": [],
   "source": [
    "###"
   ]
  },
  {
   "cell_type": "code",
   "execution_count": null,
   "id": "77898eed-f530-44ca-8fa2-52b96f57b645",
   "metadata": {},
   "outputs": [],
   "source": [
    "###"
   ]
  },
  {
   "cell_type": "code",
   "execution_count": null,
   "id": "82d766b7-3496-44b0-a76f-26157c198dba",
   "metadata": {},
   "outputs": [],
   "source": [
    "###\n",
    "poo=1"
   ]
  },
  {
   "cell_type": "code",
   "execution_count": null,
   "id": "5f4696c8-458b-40ef-9b10-0c5168773f83",
   "metadata": {},
   "outputs": [],
   "source": [
    "###\n",
    "xoo=poo"
   ]
  }
 ],
 "metadata": {
  "kernelspec": {
   "display_name": "NPL 2024b",
   "language": "python",
   "name": "npl-2024b"
  },
  "language_info": {
   "codemirror_mode": {
    "name": "ipython",
    "version": 3
   },
   "file_extension": ".py",
   "mimetype": "text/x-python",
   "name": "python",
   "nbconvert_exporter": "python",
   "pygments_lexer": "ipython3",
   "version": "3.11.9"
  }
 },
 "nbformat": 4,
 "nbformat_minor": 5
}
