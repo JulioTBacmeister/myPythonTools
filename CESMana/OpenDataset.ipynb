{
 "cells": [
  {
   "cell_type": "code",
   "execution_count": null,
   "id": "e845aa0e-7e0e-4895-9f62-3aebedd55070",
   "metadata": {},
   "outputs": [],
   "source": [
    "################################################\n",
    "# New style \n",
    "################################################\n",
    "import sys\n",
    "import os\n",
    "\n",
    "workdir_ = '/glade/work/juliob'\n",
    "if ( workdir_ not in sys.path ):\n",
    "    sys.path.append(workdir_)\n",
    "    print( f\" a path to {workdir_} added in {__name__} \")\n",
    "\n",
    "from myPythonTools.Utils import utils as uti\n",
    "from myPythonTools.Utils import numerical_utils as nuti\n",
    "from myPythonTools.Utils import AveragingUtils as Av\n",
    "from myPythonTools.Utils import validation_data as Val\n",
    "from myPythonTools.Utils import PlotUtil as Pu\n",
    "from myPythonTools.Plotting import LatLonMaps as LL \n",
    "from myPythonTools.Plotting import utils as puti\n",
    "from myPythonTools.CASutils import filter_utils as fu \n",
    "\n",
    "from PyRegridding.Utils import GridUtils as GrU\n",
    "from PyRegridding.Utils import MakePressures as MkP\n",
    "from PyRegridding.Drivers import RegridField as RgF\n",
    "\n",
    "\n",
    "# The usual\n",
    "from datetime import date\n",
    "import numpy as np\n",
    "import xarray as xr\n",
    "import matplotlib.pyplot as plt\n",
    "import matplotlib.tri as tri\n",
    "\n",
    "# Cartopy for pretty maps\n",
    "import cartopy\n",
    "import cartopy.crs as ccrs\n",
    "import cartopy.feature as cfeature\n",
    "\n",
    "# Some other useful packages \n",
    "import importlib\n",
    "import copy\n",
    "import time\n",
    "import cftime\n",
    "\n",
    "importlib.reload( uti )\n",
    "importlib.reload( puti )\n",
    "importlib.reload( Pu )\n",
    "importlib.reload(Av)\n",
    "importlib.reload(Val)\n",
    "#importlib.reload(vAB)\n",
    "importlib.reload(MkP)\n",
    "importlib.reload(RgF)\n"
   ]
  },
  {
   "cell_type": "code",
   "execution_count": null,
   "id": "7ca4970d-5ec6-4a13-b518-b39ecb1dbbc7",
   "metadata": {},
   "outputs": [],
   "source": [
    "f='/glade/campaign/cesm/cesmdata/inputdata/atm/cam/chem/ubc/b.e21.BWHIST.f09_g17.CMIP6-historical-WACCM.ensAvg123.cam.h0zm.H2O.185001-201412_c230509.nc'\n",
    "\n",
    "dir='/glade/derecho/scratch/juliob/radtest_Q02_mpas120_fmt_c6477/run/'\n",
    "f=dir+'radtest_Q02_mpas120_fmt_c6477.cam.h1i.1985-01-01-01800.nc'\n",
    "\n",
    "\n",
    "\n",
    "X=xr.open_dataset( f )"
   ]
  },
  {
   "cell_type": "code",
   "execution_count": null,
   "id": "23df3416-f764-4974-a1a5-025be62eb59f",
   "metadata": {},
   "outputs": [],
   "source": [
    "X\n"
   ]
  },
  {
   "cell_type": "code",
   "execution_count": null,
   "id": "e29d87f3-725f-4c77-bd93-1277943eae9a",
   "metadata": {},
   "outputs": [],
   "source": [
    "te=X.T.values\n",
    "u=X.U.values\n"
   ]
  },
  {
   "cell_type": "code",
   "execution_count": null,
   "id": "24a6e267-058e-4cbc-a882-b637f6f65fe8",
   "metadata": {},
   "outputs": [],
   "source": [
    "print(np.shape(te))"
   ]
  },
  {
   "cell_type": "code",
   "execution_count": null,
   "id": "a537d461-d38a-4c76-8042-123c7bc65912",
   "metadata": {},
   "outputs": [],
   "source": [
    "plt.plot(u[0,:,:].flatten())\n",
    "#plt.plot(te3[0,0,:])\n"
   ]
  },
  {
   "cell_type": "code",
   "execution_count": null,
   "id": "ce420527-fec4-4686-8a2e-2df6d698e9fd",
   "metadata": {},
   "outputs": [],
   "source": [
    "plt.plot(te[0,0,:])\n",
    "plt.plot(te3[0,0,:])\n"
   ]
  },
  {
   "cell_type": "code",
   "execution_count": null,
   "id": "18dbcd56-0d83-4d67-8e03-908e6a9aae89",
   "metadata": {},
   "outputs": [],
   "source": []
  }
 ],
 "metadata": {
  "kernelspec": {
   "display_name": "NPL 2025a",
   "language": "python",
   "name": "npl-2025a"
  },
  "language_info": {
   "codemirror_mode": {
    "name": "ipython",
    "version": 3
   },
   "file_extension": ".py",
   "mimetype": "text/x-python",
   "name": "python",
   "nbconvert_exporter": "python",
   "pygments_lexer": "ipython3",
   "version": "3.12.8"
  }
 },
 "nbformat": 4,
 "nbformat_minor": 5
}
