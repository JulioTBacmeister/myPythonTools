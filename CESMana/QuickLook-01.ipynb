{
 "cells": [
  {
   "cell_type": "code",
   "execution_count": null,
   "id": "abda101d-5eee-4761-b122-27066e2274d0",
   "metadata": {},
   "outputs": [],
   "source": [
    "import sys\n",
    "sys.path.append('../GenlTools/')\n",
    "sys.path.append('../Utils/')\n",
    "sys.path.append('../../PyRegridding/Regridder/')\n",
    "\n",
    "# Own local packages\n",
    "import AveragingUtils as Av\n",
    "import VertRegridFlexLL as Vrg\n",
    "import PlotUtil as Pu\n",
    "\n",
    "# The usual\n",
    "from datetime import date\n",
    "import numpy as np\n",
    "import xarray as xr\n",
    "import matplotlib.pyplot as plt\n",
    "import matplotlib.tri as tri\n",
    "\n",
    "# Cartopy for pretty maps\n",
    "import cartopy\n",
    "import cartopy.crs as ccrs\n",
    "import cartopy.feature as cfeature\n",
    "\n",
    "# Some other useful packages \n",
    "import importlib\n",
    "import copy\n",
    "import time\n",
    "import cftime\n",
    "\n",
    "importlib.reload( Pu )\n",
    "importlib.reload(Av)"
   ]
  },
  {
   "cell_type": "code",
   "execution_count": null,
   "id": "4bfaf65a-56c6-4d5a-b731-ea32252b9157",
   "metadata": {},
   "outputs": [],
   "source": [
    "#####\n",
    "\n",
    "Dc = xr.open_mfdataset( '/glade/derecho/scratch/juliob/archive/test2.04/atm/hist/test2.04.cam.h0.*.nc' ,data_vars='different', coords='different' )\n",
    "Dx = xr.open_mfdataset( '/glade/derecho/scratch/juliob/archive/test2.02/atm/hist/test2.02.cam.h0.*.nc' ,data_vars='different', coords='different' )\n",
    "\n",
    "#D2b = xr.open_mfdataset( '/glade/derecho/scratch/juliob/archive/test02/atm/hist/test02.cam.h0.*.nc' , combine='by_coords', data_vars='minimal', coords='minimal')\n",
    "#D2c = xr.open_mfdataset( '/glade/derecho/scratch/juliob/archive/test02/atm/hist/test02.cam.h0.*.nc' , combine='by_coords', join='exact' )\n",
    "#D2c = xr.open_mfdataset( '/glade/derecho/scratch/juliob/archive/test02/atm/hist/test02.cam.h0.*.nc' , combine='by_coords', coords='minimal')\n",
    "\n",
    "#concat_dim=None )\n"
   ]
  },
  {
   "cell_type": "code",
   "execution_count": null,
   "id": "8076e7f8-c102-49d8-82ee-8d856a7ba711",
   "metadata": {},
   "outputs": [],
   "source": [
    "##\n",
    "u10_c = Dc.U10.values\n",
    "u10_x = Dx.U10.values\n",
    "#u10_c = Dc.TREFHT.values\n",
    "#u10_x = Dx.TREFHT.values\n",
    "ps=Dc.PS.values\n",
    "lon=Dc.lon.values\n",
    "lat=Dc.lat.values\n",
    "\n",
    "print( np.shape(Dc.U))\n",
    "djf=np.arange( [0,1,11\n",
    "u10_c = Dc.U.values[20,:]\n",
    "u10_x = Dx.U.values[20,:]\n"
   ]
  },
  {
   "cell_type": "code",
   "execution_count": null,
   "id": "9efcc78d-6215-422f-8e26-1d79cae6cdd5",
   "metadata": {},
   "outputs": [],
   "source": [
    "Dc"
   ]
  },
  {
   "cell_type": "code",
   "execution_count": null,
   "id": "45fb06d1-20b1-4744-a19f-2527db72dc1d",
   "metadata": {},
   "outputs": [],
   "source": [
    "print(np.shape(u10_c))\n",
    "print(np.shape(u10_x))\n",
    "print(np.shape(lon))\n",
    "print(np.shape(lat))\n",
    "\n",
    "print(Dc.lev.values[20])"
   ]
  },
  {
   "cell_type": "code",
   "execution_count": null,
   "id": "8f2cd959-42d2-449b-abe9-d23e9c1890e4",
   "metadata": {},
   "outputs": [],
   "source": [
    "fig = plt.figure(figsize=(15, 5))\n",
    "clev=np.linspace(0,10,num=16)\n",
    "dlev=np.linspace(-1,1,num=11) * 10\n",
    "\n",
    "clev=np.linspace(-20,50,num=16)\n",
    "\n",
    "\n",
    "Axes1 = Pu.axes_def(n=1,nxplo=3,nyplo=1 ) \n",
    "ax1 = fig.add_axes( Axes1 )\n",
    "co1 = ax1.tricontourf( lon,lat,u10_c.mean(axis=0)  ,levels=clev , cmap='gist_ncar' ) \n",
    "pr1 = ax1.tricontour( lon,lat,ps[0,:],levels=[10_000,100_100],colors='black')\n",
    "ax1.set_title('Control')\n",
    "cb=plt.colorbar(co1)\n",
    "\n",
    "Axes1 = Pu.axes_def(n=2,nxplo=3,nyplo=1 ) \n",
    "ax1 = fig.add_axes( Axes1 )\n",
    "co1 = ax1.tricontourf( lon,lat,u10_x.mean(axis=0)  ,levels=clev, cmap='gist_ncar' ) \n",
    "pr1 = ax1.tricontour( lon,lat,ps[0,:],levels=[10_000,100_100],colors='black')\n",
    "ax1.set_title('Test')\n",
    "cb=plt.colorbar(co1)\n",
    "\n",
    "Axes1 = Pu.axes_def(n=3,nxplo=3,nyplo=1 ) \n",
    "ax1 = fig.add_axes( Axes1 )\n",
    "co1 = ax1.tricontourf( lon,lat,u10_x.mean(axis=0)-u10_c.mean(axis=0)  ,levels=dlev, cmap='bwr' ) \n",
    "pr1 = ax1.tricontour( lon,lat,ps[0,:],levels=[10_000,100_100],colors='black')\n",
    "ax1.set_title('Test - Control')\n",
    "cb=plt.colorbar(co1)\n"
   ]
  },
  {
   "cell_type": "code",
   "execution_count": null,
   "id": "6679f6f8-992b-4c9a-8bc8-0cdc496dfda3",
   "metadata": {},
   "outputs": [],
   "source": []
  }
 ],
 "metadata": {
  "kernelspec": {
   "display_name": "NPL 2022b",
   "language": "python",
   "name": "npl-2022b"
  },
  "language_info": {
   "codemirror_mode": {
    "name": "ipython",
    "version": 3
   },
   "file_extension": ".py",
   "mimetype": "text/x-python",
   "name": "python",
   "nbconvert_exporter": "python",
   "pygments_lexer": "ipython3",
   "version": "3.8.13"
  }
 },
 "nbformat": 4,
 "nbformat_minor": 5
}
