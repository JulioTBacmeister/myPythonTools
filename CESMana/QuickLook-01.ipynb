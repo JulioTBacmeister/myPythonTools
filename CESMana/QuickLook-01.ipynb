{
 "cells": [
  {
   "cell_type": "code",
   "execution_count": null,
   "id": "abda101d-5eee-4761-b122-27066e2274d0",
   "metadata": {},
   "outputs": [],
   "source": [
    "import sys\n",
    "sys.path.append('../GenlTools/')\n",
    "\"\"\" Now you can imprt modules in ../SAMwrf\"\"\"\n",
    "sys.path.append('../Utils/')\n",
    "\"\"\" Now you can imprt modules in ../Utils\"\"\"\n",
    "sys.path.append('../../PyRegridding/Regridder/')\n",
    "\"\"\" Now you can imprt modules in  ... \"\"\"\n",
    "\n",
    "# Own local packages\n",
    "import AveragingUtils as Av\n",
    "import VertRegridFlexLL as Vrg\n",
    "import PlotUtil as Pu\n",
    "\n",
    "# The usual\n",
    "from datetime import date\n",
    "import numpy as np\n",
    "import xarray as xr\n",
    "import matplotlib.pyplot as plt\n",
    "import matplotlib.tri as tri\n",
    "\n",
    "# Cartopy for pretty maps\n",
    "import cartopy\n",
    "import cartopy.crs as ccrs\n",
    "import cartopy.feature as cfeature\n",
    "\n",
    "# Some other useful packages \n",
    "import importlib\n",
    "import copy\n",
    "import time\n",
    "import cftime\n",
    "\n",
    "importlib.reload( Pu )\n",
    "importlib.reload(Av)"
   ]
  },
  {
   "cell_type": "code",
   "execution_count": null,
   "id": "4bfaf65a-56c6-4d5a-b731-ea32252b9157",
   "metadata": {},
   "outputs": [],
   "source": [
    "#####\n",
    "\n",
    "D2 = xr.open_mfdataset( '/glade/derecho/scratch/juliob/archive/test02/atm/hist/test02.cam.h0.*.nc' ,data_vars='different', coords='different' )\n",
    "D3 = xr.open_mfdataset( '/glade/derecho/scratch/juliob/archive/test03/atm/hist/test03.cam.h0.*.nc' ,data_vars='different', coords='different' )\n",
    "D4 = xr.open_mfdataset( '/glade/derecho/scratch/juliob/archive/test04/atm/hist/test04.cam.h0.*.nc' ,data_vars='different', coords='different' )\n",
    "\n",
    "#D2b = xr.open_mfdataset( '/glade/derecho/scratch/juliob/archive/test02/atm/hist/test02.cam.h0.*.nc' , combine='by_coords', data_vars='minimal', coords='minimal')\n",
    "#D2c = xr.open_mfdataset( '/glade/derecho/scratch/juliob/archive/test02/atm/hist/test02.cam.h0.*.nc' , combine='by_coords', join='exact' )\n",
    "#D2c = xr.open_mfdataset( '/glade/derecho/scratch/juliob/archive/test02/atm/hist/test02.cam.h0.*.nc' , combine='by_coords', coords='minimal')\n",
    "\n",
    "#concat_dim=None )\n"
   ]
  },
  {
   "cell_type": "code",
   "execution_count": null,
   "id": "8076e7f8-c102-49d8-82ee-8d856a7ba711",
   "metadata": {},
   "outputs": [],
   "source": [
    "u10_2 = D2.U10.values\n",
    "u10_3 = D3.U10.values\n",
    "u10_4 = D4.U10.values\n",
    "lon=D2.lon.values\n",
    "lat=D2.lat.values\n",
    "\n",
    "print( np.shape(D2.U))\n",
    "\n",
    "#u10_2x = np.sqrt( (D2.U[:,57,:].values)**2 + (D2.V[:,57,:].values)**2 )\n",
    "#u10_3x = np.sqrt( (D3.U[:,57,:].values)**2 + (D3.V[:,57,:].values)**2 )\n",
    "u10_2x = np.sqrt( (D2.UU[:,57,:].values) + (D2.VV[:,57,:].values) )\n",
    "u10_3x = np.sqrt( (D3.UU[:,57,:].values) + (D3.VV[:,57,:].values) )\n",
    "#u10_3 = D3.UBOT.values\n",
    "\n",
    "#D3\n",
    "\n"
   ]
  },
  {
   "cell_type": "code",
   "execution_count": null,
   "id": "45fb06d1-20b1-4744-a19f-2527db72dc1d",
   "metadata": {},
   "outputs": [],
   "source": [
    "print(np.shape(u10_2))\n",
    "print(np.shape(u10_3))\n",
    "print(np.shape(u10_4))\n",
    "print(np.shape(lon))\n",
    "print(np.shape(lat))\n"
   ]
  },
  {
   "cell_type": "code",
   "execution_count": null,
   "id": "2c123828-3129-4160-afd1-358cc6c8b951",
   "metadata": {},
   "outputs": [],
   "source": [
    "oo=u10_2.mean(axis=0)\n",
    "print(np.shape(oo))"
   ]
  },
  {
   "cell_type": "code",
   "execution_count": null,
   "id": "8f2cd959-42d2-449b-abe9-d23e9c1890e4",
   "metadata": {},
   "outputs": [],
   "source": [
    "fig = plt.figure(figsize=(15, 5))\n",
    "clev=np.linspace(0,10,num=16)\n",
    "dlev=np.linspace(-.2,.2,num=11)\n",
    "Axes1 = Pu.axes_def(n=1,nxplo=3,nyplo=1 ) \n",
    "ax1 = fig.add_axes( Axes1 )\n",
    "co1 = ax1.tricontourf( lon,lat,u10_2.mean(axis=0)  ,levels=clev , cmap='gist_ncar' ) \n",
    "cb=plt.colorbar(co1)\n",
    "Axes1 = Pu.axes_def(n=2,nxplo=3,nyplo=1 ) \n",
    "ax1 = fig.add_axes( Axes1 )\n",
    "co1 = ax1.tricontourf( lon,lat,u10_4.mean(axis=0)  ,levels=clev, cmap='gist_ncar' ) \n",
    "cb=plt.colorbar(co1)\n",
    "Axes1 = Pu.axes_def(n=3,nxplo=3,nyplo=1 ) \n",
    "ax1 = fig.add_axes( Axes1 )\n",
    "co1 = ax1.tricontourf( lon,lat,(u10_4-u10_2).mean(axis=0)  ,levels=dlev, cmap='bwr' ) \n",
    "cb=plt.colorbar(co1)\n"
   ]
  },
  {
   "cell_type": "code",
   "execution_count": null,
   "id": "ecd8987f-f984-4fcb-bc60-d72172fafd08",
   "metadata": {},
   "outputs": [],
   "source": [
    "fig = plt.figure(figsize=(15, 5))\n",
    "clev=np.linspace(0,10,num=16)\n",
    "dlev=np.linspace(-.5,.5,num=11)\n",
    "Axes1 = Pu.axes_def(n=1,nxplo=3,nyplo=1 ) \n",
    "ax1 = fig.add_axes( Axes1 )\n",
    "co1 = ax1.tricontourf( lon,lat,u10_2x.mean(axis=0)  ,levels=clev , cmap='gist_ncar' ) \n",
    "cb=plt.colorbar(co1)\n",
    "Axes1 = Pu.axes_def(n=2,nxplo=3,nyplo=1 ) \n",
    "ax1 = fig.add_axes( Axes1 )\n",
    "co1 = ax1.tricontourf( lon,lat,u10_3x.mean(axis=0)  ,levels=clev, cmap='gist_ncar' ) \n",
    "cb=plt.colorbar(co1)\n",
    "Axes1 = Pu.axes_def(n=3,nxplo=3,nyplo=1 ) \n",
    "ax1 = fig.add_axes( Axes1 )\n",
    "co1 = ax1.tricontourf( lon,lat,(u10_3x-u10_2x).mean(axis=0)  ,levels=dlev, cmap='bwr' ) \n",
    "cb=plt.colorbar(co1)\n"
   ]
  },
  {
   "cell_type": "code",
   "execution_count": null,
   "id": "5e7778fb-489a-4a58-ac85-8ba00ff0da33",
   "metadata": {},
   "outputs": [],
   "source": [
    "fig = plt.figure(figsize=(15, 5))\n",
    "clev=np.linspace(0,10,num=16)\n",
    "dlev=np.linspace(-1,1,num=11)\n",
    "Axes1 = Pu.axes_def(n=2,nxplo=3,nyplo=1 ) \n",
    "ax1 = fig.add_axes( Axes1 )\n",
    "co1 = ax1.tricontourf( lon,lat,(u10_2-u10_2x).mean(axis=0)  ,levels=dlev, cmap='bwr' ) \n",
    "cb=plt.colorbar(co1)\n"
   ]
  },
  {
   "cell_type": "code",
   "execution_count": null,
   "id": "a6dd5cea-1891-437e-8fb8-7b3a7d7dbc24",
   "metadata": {},
   "outputs": [],
   "source": [
    "h2,w2=np.histogram( u10_2x.flatten() )\n",
    "h3,w3=np.histogram( u10_3x.flatten() )\n"
   ]
  },
  {
   "cell_type": "code",
   "execution_count": null,
   "id": "f575d008-c40f-4bbf-9d14-a6fb1c270725",
   "metadata": {},
   "outputs": [],
   "source": [
    "plt.plot(h2)\n",
    "plt.plot(h3)"
   ]
  },
  {
   "cell_type": "code",
   "execution_count": null,
   "id": "8551ea94-6002-436a-ba7c-3faa46e7cc9b",
   "metadata": {},
   "outputs": [],
   "source": [
    "plt.tricontourf( lon,lat,(D2.PRECC+D2.PRECL).mean(axis=0) )"
   ]
  },
  {
   "cell_type": "code",
   "execution_count": null,
   "id": "6679f6f8-992b-4c9a-8bc8-0cdc496dfda3",
   "metadata": {},
   "outputs": [],
   "source": []
  }
 ],
 "metadata": {
  "kernelspec": {
   "display_name": "NPL 2022b",
   "language": "python",
   "name": "npl-2022b"
  },
  "language_info": {
   "codemirror_mode": {
    "name": "ipython",
    "version": 3
   },
   "file_extension": ".py",
   "mimetype": "text/x-python",
   "name": "python",
   "nbconvert_exporter": "python",
   "pygments_lexer": "ipython3",
   "version": "3.8.13"
  }
 },
 "nbformat": 4,
 "nbformat_minor": 5
}
