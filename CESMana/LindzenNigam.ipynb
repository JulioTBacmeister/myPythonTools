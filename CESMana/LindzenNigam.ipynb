{
 "cells": [
  {
   "cell_type": "code",
   "execution_count": null,
   "id": "bea9d034-726e-4690-8cff-04e7988ebaf6",
   "metadata": {},
   "outputs": [],
   "source": [
    "#workdir_ = '/glade/work/juliob/'\n",
    "import sys\n",
    "#######################################\n",
    "# Leave this for now. But it should change to better\n",
    "# method as here:\n",
    "import os\n",
    "This_module_path = os.getcwd()  #os.path.dirname(os.path.abspath(__file__))\n",
    "workdir_ = os.path.join(This_module_path, '../../' )\n",
    "# sys.path.append(utils_path)\n",
    "# print( f\" a path added in {__name__} {utils_path} \")\n",
    "\n",
    "print( f\" In {__name__} we have This_module_path={This_module_path} \" )\n",
    "print( f\" In {__name__} we have workdir_={workdir_} \" )\n",
    "########################################\n",
    "sys.path.append(workdir_ + 'myPythonTools/GenlTools/')\n",
    "sys.path.append(workdir_ + 'myPythonTools/Utils/')\n",
    "sys.path.append(workdir_ + 'myPythonTools/Plotting/')\n",
    "#sys.path.append(workdir_ + 'PyRegridding/Regridder/')\n",
    "sys.path.append(workdir_ + 'PyRegridding/Utils/')\n",
    "\n",
    "# Own local packages\n",
    "import AveragingUtils as Av\n",
    "#import VertRegridFlexLL as Vrg  # This is toxic for some reason\n",
    "import PlotUtil as Pu\n",
    "import utils as uti\n",
    "import validation_data as Val\n",
    "import var_A_x_B as vAB\n",
    "import MakePressures as MkP\n",
    "import GridUtils as GrU\n",
    "import LatLonMaps as LL\n",
    "import numerical_utils as nuti\n",
    "\n",
    "# The usual\n",
    "from datetime import date\n",
    "import numpy as np\n",
    "import xarray as xr\n",
    "import matplotlib.pyplot as plt\n",
    "import matplotlib.tri as tri\n",
    "\n",
    "# Cartopy for pretty maps\n",
    "import cartopy\n",
    "import cartopy.crs as ccrs\n",
    "import cartopy.feature as cfeature\n",
    "\n",
    "# Some other useful packages \n",
    "import importlib\n",
    "import time\n",
    "import copy\n",
    "import cftime\n",
    "\n",
    "importlib.reload( LL )\n",
    "importlib.reload( GrU)\n",
    "importlib.reload( uti )\n",
    "importlib.reload( nuti )\n",
    "importlib.reload( Pu )\n",
    "importlib.reload(Av)\n",
    "importlib.reload(Val)\n",
    "importlib.reload(vAB)\n",
    "importlib.reload(MkP)\n"
   ]
  },
  {
   "cell_type": "code",
   "execution_count": null,
   "id": "e1c32965-016f-4bb9-bdf3-c16d2477c118",
   "metadata": {},
   "outputs": [],
   "source": [
    "uti.MakeDict4Exp( help=True)"
   ]
  },
  {
   "cell_type": "code",
   "execution_count": null,
   "id": "d0d9ea58-e3f2-472b-b8ec-9e55b01a9171",
   "metadata": {},
   "outputs": [],
   "source": [
    "# Issue 24: \n",
    "#   last run I can find that used POP \n",
    "#   b.e21.BWsc1850.ne30_L48_BL10_cesm2_3_alpha05c_cam6_3_028_cam6_parcel_zm.004_zm2.hf\n",
    "#   in /glade/campaign/cgd/amp/amwg/runs/\n",
    "# \n",
    "# Configuration \"26\"\n",
    "#   b.cesm3_cam058_mom_e.B1850WscMOM.ne30_L58_t061.camdev_cice5.026g\n",
    "#   in /glade/campaign/cesm/development/omwg/projects/MOM6\n",
    "\n",
    "config26 ='b.cesm3_cam058_mom_e.B1850WscMOM.ne30_L58_t061.camdev_cice5.026g' \n",
    "last_pop ='b.e21.BWsc1850.ne30_L48_BL10_cesm2_3_alpha05c_cam6_3_028_cam6_parcel_zm.004_zm2.hf'\n",
    "B = uti.MakeDict4Exp( exp=config26 , user='omwg_mom6', subd='hist' , hsPat='cam.h0' , ymdPat='0001*' ,verbose=True, open_dataset=True )\n",
    "A = uti.MakeDict4Exp( exp=last_pop , user='amwg_runs', subd='hist' , hsPat='cam.h0' , ymdPat='0001*' ,verbose=True, open_dataset=True )\n",
    "\n"
   ]
  },
  {
   "cell_type": "code",
   "execution_count": null,
   "id": "88b77f1a-62b3-4adc-a4e4-b7cfaf729675",
   "metadata": {},
   "outputs": [],
   "source": [
    "\n",
    "A.X['PRECT'] = A.X['PRECC'] + A.X['PRECL'] \n",
    "B.X['PRECT'] = B.X['PRECC'] + B.X['PRECL'] \n"
   ]
  },
  {
   "cell_type": "code",
   "execution_count": null,
   "id": "6ab2904f-d0c0-4808-8189-2a7a5a481f90",
   "metadata": {},
   "outputs": [],
   "source": [
    "fld='PRECT'\n",
    "season='jan'\n",
    "#UUc_s,years_c,months_c = Av.Seasonal( ds=Dc, season=season , fld='U',return_time=True)\n",
    "pcp_a_s,years_a,months_a = Av.Seasonal( ds=A.X , season=season , fld=fld ,return_time=True)\n",
    "pcp_b_s,years_b,months_b = Av.Seasonal( ds=B.X , season=season , fld=fld ,return_time=True)\n"
   ]
  },
  {
   "cell_type": "code",
   "execution_count": null,
   "id": "71328f13-a23f-46fb-9073-f4deee0085ae",
   "metadata": {},
   "outputs": [],
   "source": [
    "fld='TS'\n",
    "\n",
    "#UUc_s,years_c,months_c = Av.Seasonal( ds=Dc, season=season , fld='U',return_time=True)\n",
    "ts_a_s,years_x,months_x = Av.Seasonal( ds=A.X , season=season , fld=fld ,return_time=True)\n",
    "ts_b_s,years_x,months_x = Av.Seasonal( ds=B.X , season=season , fld=fld ,return_time=True)\n"
   ]
  },
  {
   "cell_type": "code",
   "execution_count": null,
   "id": "69b01de5-5536-4782-bb1e-d8f950040c47",
   "metadata": {},
   "outputs": [],
   "source": [
    "fld='SWCF'\n",
    "\n",
    "#UUc_s,years_c,months_c = Av.Seasonal( ds=Dc, season=season , fld='U',return_time=True)\n",
    "swcf_a_s,years_x,months_x = Av.Seasonal( ds=A.X , season=season , fld=fld ,return_time=True)\n",
    "swcf_b_s,years_x,months_x = Av.Seasonal( ds=B.X , season=season , fld=fld ,return_time=True)\n"
   ]
  },
  {
   "cell_type": "code",
   "execution_count": null,
   "id": "e65f52d1-0743-42ab-8a2f-9d310506b070",
   "metadata": {},
   "outputs": [],
   "source": [
    "\n",
    "lon=A.X.lon.values\n",
    "lat=A.X.lat.values\n",
    "\n",
    "lapts_a_s = nuti.Sphere_Lap2( f =ts_a_s , lon=lon,lat=lat,wrap=True )\n",
    "lapts_b_s = nuti.Sphere_Lap2( f =ts_b_s , lon=lon,lat=lat,wrap=True )\n"
   ]
  },
  {
   "cell_type": "code",
   "execution_count": null,
   "id": "eb332163-189d-47a4-8749-b93d907a7edb",
   "metadata": {},
   "outputs": [],
   "source": [
    "\n",
    "\n",
    "landf=A.X.LANDFRAC[0,:,:].values\n",
    "print( np.shape(landf))\n",
    "\n",
    "lapts_a_s[0:5,:]=0.\n",
    "lapts_a_s[-5:-1,:]=0.\n",
    "lapts_b_s[0:5,:]=0.\n",
    "lapts_b_s[-5:-1,:]=0.\n",
    "\n",
    "lapts_a_s_o = np.where( landf > 0.01 , 0., lapts_a_s )\n",
    "lapts_b_s_o = np.where( landf > 0.01 , 0., lapts_b_s )\n",
    "\n",
    "lapts_a_s_o[0:25,:]=0.\n",
    "lapts_a_s_o[-25:,:]=0.\n",
    "lapts_b_s_o[0:25,:]=0.\n",
    "lapts_b_s_o[-25:,:]=0.\n"
   ]
  },
  {
   "cell_type": "code",
   "execution_count": null,
   "id": "dcc7d400-0a26-46a5-b8d8-69e7dc7215c5",
   "metadata": {},
   "outputs": [],
   "source": [
    "\"\"\"\n",
    "from scipy.signal import convolve2d\n",
    "\n",
    "\n",
    "# 1-2-1 smoothing kernel\n",
    "kernel = np.array([[1, 2, 1], [2, 4, 2], [1, 2, 1]]) / 16\n",
    "\n",
    "# Apply the 1-2-1 smoother\n",
    "smoothed_lapts_a_s_o = convolve2d(lapts_a_s_o, kernel, mode='same', boundary='wrap')\n",
    "\"\"\""
   ]
  },
  {
   "cell_type": "code",
   "execution_count": null,
   "id": "5719fb49-bcc1-49eb-a97c-b3d2e8fa0f08",
   "metadata": {},
   "outputs": [],
   "source": [
    "\n",
    "pm_a,pi_a,dp_a = MkP.Pressure ( am=A.X.hyam.values , \n",
    "                               bm=A.X.hybm.values , \n",
    "                               ai=A.X.hyai.values , \n",
    "                               bi=A.X.hybi.values , \n",
    "                               ps=A.X.PS.values  , \n",
    "                               p_00=100_000., Gridkey='tzyx' )\n",
    "\n",
    "pm_b,pi_b,dp_b = MkP.Pressure ( am=B.X.hyam.values , \n",
    "                               bm=B.X.hybm.values , \n",
    "                               ai=B.X.hyai.values , \n",
    "                               bi=B.X.hybi.values , \n",
    "                               ps=B.X.PS.values  , \n",
    "                               p_00=100_000., Gridkey='tzyx' )\n",
    "\n",
    "A.X['UDP'] = dp_a * A.X.U\n",
    "A.X['VDP'] = dp_a * A.X.V\n",
    "\n",
    "B.X['UDP'] = dp_b * B.X.U\n",
    "B.X['VDP'] = dp_b * B.X.V\n",
    "\n"
   ]
  },
  {
   "cell_type": "code",
   "execution_count": null,
   "id": "570bdba7-dbd0-48ca-af5c-852494b65c2e",
   "metadata": {},
   "outputs": [],
   "source": [
    "fld='UDP'\n",
    "\n",
    "#UUc_s,years_c,months_c = Av.Seasonal( ds=Dc, season=season , fld='U',return_time=True)\n",
    "udp_a_s,years_x,months_x = Av.Seasonal( ds=A.X , season=season , fld=fld ,return_time=True)\n",
    "udp_b_s,years_x,months_x = Av.Seasonal( ds=B.X , season=season , fld=fld ,return_time=True)\n",
    "fld='VDP'\n",
    "\n",
    "#UUc_s,years_c,months_c = Av.Seasonal( ds=Dc, season=season , fld='U',return_time=True)\n",
    "vdp_a_s,years_x,months_x = Av.Seasonal( ds=A.X , season=season , fld=fld ,return_time=True)\n",
    "vdp_b_s,years_x,months_x = Av.Seasonal( ds=B.X , season=season , fld=fld ,return_time=True)\n"
   ]
  },
  {
   "cell_type": "code",
   "execution_count": null,
   "id": "96b9a634-a0fd-40e7-8683-2891ef59aad9",
   "metadata": {},
   "outputs": [],
   "source": [
    "divp_a_s = nuti.Sphere_Div2( f_x =udp_a_s[57,:,:] ,f_y =vdp_a_s[57,:,:] , lon=lon,lat=lat,wrap=True )\n",
    "divp_b_s = nuti.Sphere_Div2( f_x =udp_b_s[57,:,:] ,f_y =vdp_b_s[57,:,:] , lon=lon,lat=lat,wrap=True )\n",
    "divp_a_s[0:25,:]=0.\n",
    "divp_a_s[-25:,:]=0.\n",
    "divp_b_s[0:25,:]=0.\n",
    "divp_b_s[-25:,:]=0.\n"
   ]
  },
  {
   "cell_type": "code",
   "execution_count": null,
   "id": "ea425712-1a4d-4dd3-8d61-494d1d8c7a16",
   "metadata": {},
   "outputs": [],
   "source": [
    "print(r'$\\nabla^2 T_s$')"
   ]
  },
  {
   "cell_type": "code",
   "execution_count": null,
   "id": "c6befa7e-0027-4157-a62f-13a8aefa797d",
   "metadata": {},
   "outputs": [],
   "source": [
    "\n",
    "divlev= np.linspace( -0.012,0.012, num=25 )\n",
    "divscale=1.\n",
    "\n",
    "laptlev=0.5*np.linspace( -1,1, num=31 )\n",
    "laptscale=1.e10\n",
    "\n",
    "lons=[B.X.lon]\n",
    "lats=[B.X.lat] \n",
    "cmaps = ['bwr']\n",
    "\n",
    "prclev=np.linspace( 0,20, num=21 )\n",
    "prcscale=1000.*86400.\n",
    "\n",
    "#fields=[ scale*aa_s , scale*bb_s  ]\n",
    "\n",
    "tslev=np.linspace( 270,300, num=31 )\n",
    "tsscale=1.\n",
    "swcflev=np.linspace( -180,0, num=19 )\n",
    "swcfscale=1.\n",
    "\n",
    "titles = [ LL.titleGen( fld='PRECT',exp='POP',season=season,years=years_a) , \n",
    "           LL.titleGen( fld='PRECT',exp='MOM',season=season,years=years_b) , \n",
    "         LL.titleGen( fld='Div',exp='POP',season=season,years=years_a) , \n",
    "         LL.titleGen( fld='Div',exp='MOM',season=season,years=years_b) , \n",
    "         LL.titleGen( fld='TS',exp='POP',season=season,years=years_a) , \n",
    "         LL.titleGen( fld='TS',exp='MOM',season=season,years=years_b) , \n",
    "         LL.titleGen( fld='SWCF',exp='POP',season=season,years=years_a) , \n",
    "         LL.titleGen( fld='SWCF',exp='MOM',season=season,years=years_b) , ]\n",
    "#         LL.titleGen( fld=r'$\\nabla^2 T_s$',exp='POP',season=season,years=years_a) , \n",
    "#         LL.titleGen( fld=r'$\\nabla^2 T_s$',exp='MOM',season=season,years=years_b) , ]\n",
    "\n",
    "\n",
    "fields=[   prcscale*pcp_a_s , prcscale*pcp_b_s,  \n",
    "        divscale*divp_a_s , divscale*divp_b_s, \n",
    "        tsscale*ts_a_s , tsscale*ts_b_s ,\n",
    "        swcfscale*swcf_a_s , swcfscale*swcf_b_s   ]\n",
    "        #laptscale*lapts_a_s_o , laptscale*lapts_b_s_o   ]\n",
    "\n",
    "clevs=[ prclev, prclev, divlev , divlev, tslev, tslev, swcflev, swcflev ] #laptlev, laptlev ]\n",
    "cmaps = [ 'terrain_r','terrain_r',  'bwr'  ,  'bwr'  , 'rainbow','rainbow', 'gist_ncar', 'gist_ncar' ,] #  'bwr'  ,  'bwr'  ,]\n",
    "\n",
    "LL.Maps( fields=fields ,lons=lons ,lats=lats ,clevs=clevs,cmaps=cmaps, titles=titles, Arrangement=(2,4) )\n"
   ]
  },
  {
   "cell_type": "code",
   "execution_count": null,
   "id": "eb0c1f4b-b164-4a67-9f78-de86129f9730",
   "metadata": {},
   "outputs": [],
   "source": [
    "fig=plt.subplots()\n",
    "title_ = LL.titleGen( fld='SST v SWCF (60S-10S)',exp='MOM-POP',season=season,years=years_b)\n",
    "lon_grid, lat_grid = np.meshgrid(lon, lat)\n",
    "oo=np.where(   (lat_grid.flatten() > -60.) & (lat_grid.flatten() < -10.) & (landf.flatten() < 0.01 ) )\n",
    "print( lat[90])\n",
    "plt.scatter( ts_a_s.flatten()[oo[0]] , swcf_a_s.flatten()[oo[0]] , s=.5 , label='Last POP run')\n",
    "plt.scatter( ts_b_s.flatten()[oo[0]] , swcf_b_s.flatten()[oo[0]] , s=.5 , label=\"'26' (MOM)\")\n",
    "plt.xlabel( \"SST (K)\" ) \n",
    "plt.ylabel( \"SWCF \"+r'($\\mathrm{Wm^{-2}}$)' ) \n",
    "plt.title( title_ )\n",
    "plt.legend(markerscale=5)\n",
    "\n"
   ]
  },
  {
   "cell_type": "code",
   "execution_count": null,
   "id": "a36873bb-3e9d-4939-8099-7ff2db75768c",
   "metadata": {},
   "outputs": [],
   "source": [
    "\n",
    "clev=np.linspace( 270,300, num=31 )\n",
    "scale=1.\n",
    "\n",
    "fields=[ scale*ts_a_s , scale*ts_b_s  ]\n",
    "lons=[B.X.lon]\n",
    "lats=[B.X.lat] \n",
    "cmaps = ['terrain_r','terrain_r']\n",
    "clevs=[clev,clev]\n",
    "\n",
    "LL.Maps( fields=fields ,lons=lons ,lats=lats ,clevs=clevs,cmaps=cmaps )\n"
   ]
  },
  {
   "cell_type": "markdown",
   "id": "ab122695-b5dd-480b-b7ec-06fbe833e7bf",
   "metadata": {},
   "source": []
  }
 ],
 "metadata": {
  "kernelspec": {
   "display_name": "Python [conda env:SuperBuenoEnv]",
   "language": "python",
   "name": "conda-env-SuperBuenoEnv-py"
  },
  "language_info": {
   "codemirror_mode": {
    "name": "ipython",
    "version": 3
   },
   "file_extension": ".py",
   "mimetype": "text/x-python",
   "name": "python",
   "nbconvert_exporter": "python",
   "pygments_lexer": "ipython3",
   "version": "3.10.12"
  }
 },
 "nbformat": 4,
 "nbformat_minor": 5
}
