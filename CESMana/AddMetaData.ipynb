{
 "cells": [
  {
   "cell_type": "code",
   "execution_count": null,
   "id": "2962c570-17ef-49f9-89ee-3809dda03930",
   "metadata": {},
   "outputs": [],
   "source": [
    "import sys\n",
    "sys.path.append('../GenlTools/')\n",
    "\"\"\" Now you can imprt modules in ../SAMwrf\"\"\"\n",
    "\n",
    "# Own local packages\n",
    "import AveragingUtils as Av\n",
    "\n",
    "# The usual\n",
    "from datetime import date\n",
    "import numpy as np\n",
    "import xarray as xr\n",
    "import matplotlib.pyplot as plt\n",
    "\n",
    "# Some other useful packages \n",
    "import importlib\n",
    "import copy\n",
    "import time\n",
    "import cftime\n"
   ]
  },
  {
   "cell_type": "code",
   "execution_count": null,
   "id": "d08c6e4e-2a12-495f-81cc-73180a5f3424",
   "metadata": {},
   "outputs": [],
   "source": [
    "fname = '/glade/p/cesm/amwg_dev/juliob/FWsc_ne30pg3_58L_GRID_48_taperstart10km_lowtop_BL10_v3_beta1p75_Top_43km.nc'\n",
    "dS0 = xr.open_dataset( fname )"
   ]
  },
  {
   "cell_type": "code",
   "execution_count": null,
   "id": "f5dac1d2-d2cc-40d6-ba1d-cca93912f71b",
   "metadata": {},
   "outputs": [],
   "source": [
    "dS0.attrs"
   ]
  },
  {
   "cell_type": "code",
   "execution_count": null,
   "id": "005dad44-0710-42b7-b4a4-084619275a3d",
   "metadata": {},
   "outputs": [],
   "source": [
    "dS0.attrs['data_title']='Initial condition file for L58 configuration'\n",
    "dS0.attrs['data_summary']=\"\"\"\n",
    "Initial condition file for L58 configuration created by vertically interpolating initial_file in attributes. \n",
    "The hybrid coefficients hyam and hybm are determined from the interface values by simple averaging.\n",
    "\"\"\"\n",
    "dS0.attrs['data_creator']=\"Julio Bacmeister (juliob@ucar.edu)\"\n",
    "dS0.attrs['cesm_contact']=\"AMWG Liaison, Cecile Hannay (hannay@ucar.edu)\"\n",
    "dS0.attrs['creation_date']=\"April 1, 2021 - Original creation date\"\n",
    "dS0.attrs['update_date']=\"June 22, 2023 - Metadata added\"\n",
    "dS0.attrs['history']=\"N/A\"\n",
    "dS0.attrs['data_script']=\"IDL code in personal directory. To be replaced by a traceable Python script soon. \"\n",
    "\n",
    "\n"
   ]
  },
  {
   "cell_type": "code",
   "execution_count": null,
   "id": "d985bc06-7d37-4106-95bf-82cfccada48d",
   "metadata": {},
   "outputs": [],
   "source": [
    "dS0.attrs"
   ]
  },
  {
   "cell_type": "code",
   "execution_count": null,
   "id": "4133ae41-cb83-4a74-a6f3-b5df6db77ed3",
   "metadata": {},
   "outputs": [],
   "source": [
    "new_fname='/glade/p/cesm/amwg_dev/juliob/FLT_L58_ne30pg3_IC_c220623.nc'\n",
    "dS0.to_netcdf(new_fname, format=\"NETCDF3_CLASSIC\" )"
   ]
  },
  {
   "cell_type": "code",
   "execution_count": null,
   "id": "3710fa78-8c04-419d-9ce7-ed029fa4e826",
   "metadata": {},
   "outputs": [],
   "source": []
  }
 ],
 "metadata": {
  "kernelspec": {
   "display_name": "NPL 2022b",
   "language": "python",
   "name": "npl-2022b"
  },
  "language_info": {
   "codemirror_mode": {
    "name": "ipython",
    "version": 3
   },
   "file_extension": ".py",
   "mimetype": "text/x-python",
   "name": "python",
   "nbconvert_exporter": "python",
   "pygments_lexer": "ipython3",
   "version": "3.8.13"
  }
 },
 "nbformat": 4,
 "nbformat_minor": 5
}
