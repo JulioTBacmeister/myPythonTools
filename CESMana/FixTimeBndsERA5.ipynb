{
 "cells": [
  {
   "cell_type": "code",
   "execution_count": null,
   "id": "ea9d2ed9-d045-44e2-a72b-385f77542331",
   "metadata": {},
   "outputs": [],
   "source": [
    "import sys\n",
    "sys.path.append('../GenlTools/')\n",
    "\"\"\" Now you can imprt modules in ../SAMwrf\"\"\"\n",
    "\n",
    "# Own local packages\n",
    "import AveragingUtils as Av\n",
    "\n",
    "# The usual\n",
    "from datetime import date\n",
    "import numpy as np\n",
    "import xarray as xr\n",
    "import matplotlib.pyplot as plt\n",
    "\n",
    "# Cartopy for pretty maps\n",
    "import cartopy\n",
    "import cartopy.crs as ccrs\n",
    "import cartopy.feature as cfeature\n",
    "\n",
    "# Some other useful packages \n",
    "import importlib\n",
    "import copy\n",
    "import time\n",
    "import cftime\n"
   ]
  },
  {
   "cell_type": "code",
   "execution_count": null,
   "id": "a4ea3eff-f56b-46c4-a3d6-81c709c44ab4",
   "metadata": {},
   "outputs": [],
   "source": [
    "foo=\"/glade/scratch/hannay/archive/f.cesm3_cam058_mom_e.FWscHIST.ne30_L58.26c_topofix.001/atm/hist/\"\n",
    "foo=foo+\"f.cesm3_cam058_mom_e.FWscHIST.ne30_L58.26c_topofix.001.cam.h0.*.nc\"\n",
    "\n",
    "iDir = '/glade/campaign/cgd/amp/juliob/ERA5/processed/'\n",
    "oDir = '/glade/campaign/cgd/amp/juliob/ERA5/monthly/'"
   ]
  },
  {
   "cell_type": "code",
   "execution_count": null,
   "id": "1c483bbd-e7a5-4d47-9a41-8433542b361c",
   "metadata": {
    "tags": []
   },
   "outputs": [],
   "source": [
    "for y in np.arange( start=1980, stop=2021 ):\n",
    "    ifilN = 'u_'+str(y).zfill(4)+'.nc'\n",
    "    ofilN = 'U_ERA5_'+str(y).zfill(4)+'-01-'+str(y).zfill(4)+'-12.nc'\n",
    "    print(ifilN,' ',ofilN)\n",
    "    \n",
    "    dERA = xr.open_dataset( iDir+ifilN)\n",
    "    xoox=[]\n",
    "\n",
    "    for m in np.arange(start=1,stop=13):\n",
    "        if (m<12):\n",
    "            m0=cftime.DatetimeJulian(y,m,1)\n",
    "            m1=cftime.DatetimeJulian(y,m+1,1)\n",
    "        else:\n",
    "            m0=cftime.DatetimeJulian(y,m,1)\n",
    "            m1=cftime.DatetimeJulian(y+1,1,1)\n",
    "        xoox.append( [m0,m1] )\n",
    "        \n",
    "    print(dERA.time)\n",
    "    Xoox = xr.DataArray(data=xoox,dims=['time','nbnd'],coords=dict(time=dERA.time,nbnd=[0,1],) )\n",
    "\n",
    "    dERA['time_bnds']=Xoox\n",
    "\n",
    "    dERA.to_netcdf( oDir+ofilN )"
   ]
  },
  {
   "cell_type": "code",
   "execution_count": null,
   "id": "2907e87b-3f00-4244-ab7a-0d0d857e1eba",
   "metadata": {},
   "outputs": [],
   "source": []
  }
 ],
 "metadata": {
  "kernelspec": {
   "display_name": "NPL 2022b",
   "language": "python",
   "name": "npl-2022b"
  },
  "language_info": {
   "codemirror_mode": {
    "name": "ipython",
    "version": 3
   },
   "file_extension": ".py",
   "mimetype": "text/x-python",
   "name": "python",
   "nbconvert_exporter": "python",
   "pygments_lexer": "ipython3",
   "version": "3.8.13"
  }
 },
 "nbformat": 4,
 "nbformat_minor": 5
}
