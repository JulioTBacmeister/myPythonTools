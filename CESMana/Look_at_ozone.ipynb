{
 "cells": [
  {
   "cell_type": "code",
   "execution_count": null,
   "id": "7ea3fd4c-644a-41db-bef9-744bd4297790",
   "metadata": {},
   "outputs": [],
   "source": [
    "workdir_ = '/glade/work/juliob/'\n",
    "import sys\n",
    "sys.path.append(workdir_ + 'myPythonTools/GenlTools/')\n",
    "sys.path.append(workdir_ + 'myPythonTools/Utils/')\n",
    "sys.path.append(workdir_ + 'PyRegridding/Regridder/')\n",
    "sys.path.append(workdir_ + 'PyRegridding/Utils/')\n",
    "\n",
    "# Own local packages\n",
    "import AveragingUtils as Av\n",
    "#import VertRegridFlexLL as Vrg\n",
    "import PlotUtil as Pu\n",
    "import GridUtils as Gu\n",
    "import validation_data as Val\n",
    "\n",
    "# The usual\n",
    "from datetime import date\n",
    "import numpy as np\n",
    "import xarray as xr\n",
    "import matplotlib.pyplot as plt\n",
    "import matplotlib.tri as tri\n",
    "\n",
    "# Cartopy for pretty maps\n",
    "import cartopy\n",
    "import cartopy.crs as ccrs\n",
    "import cartopy.feature as cfeature\n",
    "\n",
    "# Some other useful packages \n",
    "import importlib\n",
    "import copy\n",
    "import time\n",
    "import cftime\n",
    "\n",
    "importlib.reload( Pu )\n",
    "importlib.reload( Gu )\n",
    "importlib.reload(Av)\n",
    "importlib.reload(Val)\n"
   ]
  },
  {
   "cell_type": "code",
   "execution_count": null,
   "id": "076d5d23-5b5d-4fc9-b3e6-a59c105d38b6",
   "metadata": {},
   "outputs": [],
   "source": [
    "\n",
    "\n",
    "\"\"\"\n",
    "f1 ='/glade/campaign/cesm/cesmdata/inputdata/atm/cam/tracer_cnst/tracer_cnst_halons_3D_L70_1849-2015_CMIP6ensAvg_c180927.nc'\n",
    "\n",
    "f2 = '/glade/campaign/cesm/cesmdata/inputdata/atm/cam/tracer_cnst/tracer_cnst_halons_WACCM6_3Dmonthly_L70_1975-2014_c180216.nc'\n",
    "\n",
    "\n",
    "\"\"\"\n",
    "\n",
    "f1 ='/glade/campaign/cesm/cesmdata/inputdata/atm/cam/ozone_strataero/ozone_strataero_WACCM_L70_zm5day_18500101-20150103_CMIP6ensAvg_c180923.nc'\n",
    "f2 ='/glade/campaign/cesm/cesmdata/inputdata/atm/cam/ozone_strataero/ozone_strataero_WACCM6_L70_zm5day_19750101-20141229_c180216.nc'\n"
   ]
  },
  {
   "cell_type": "code",
   "execution_count": null,
   "id": "d3a902e2-c8da-4158-abdb-71ac249cc79a",
   "metadata": {},
   "outputs": [],
   "source": [
    "\n",
    "X1=xr.open_dataset( f1 )\n",
    "X2=xr.open_dataset( f2 )\n"
   ]
  },
  {
   "cell_type": "code",
   "execution_count": null,
   "id": "c63095fd-8125-4dc2-8ad5-092ba0ed6109",
   "metadata": {},
   "outputs": [],
   "source": [
    "\n",
    "\n",
    "X2"
   ]
  },
  {
   "cell_type": "code",
   "execution_count": null,
   "id": "cf24fcb9-7a79-4e4c-b788-9d1c90a13eec",
   "metadata": {},
   "outputs": [],
   "source": [
    "print( list(X1.variables))"
   ]
  },
  {
   "cell_type": "code",
   "execution_count": null,
   "id": "b4728719-37a1-499e-957f-d7ef6f4cfa92",
   "metadata": {},
   "outputs": [],
   "source": [
    "print( list(X2.variables))"
   ]
  },
  {
   "cell_type": "code",
   "execution_count": null,
   "id": "80798a1e-7f69-4e9f-ae4f-804a1174b9f2",
   "metadata": {},
   "outputs": [],
   "source": [
    "X2.O3"
   ]
  },
  {
   "cell_type": "code",
   "execution_count": null,
   "id": "9ac72bdf-ce56-4924-bb71-548bac6cf598",
   "metadata": {},
   "outputs": [],
   "source": []
  }
 ],
 "metadata": {
  "kernelspec": {
   "display_name": "NPL 2023a",
   "language": "python",
   "name": "npl-2023a"
  },
  "language_info": {
   "codemirror_mode": {
    "name": "ipython",
    "version": 3
   },
   "file_extension": ".py",
   "mimetype": "text/x-python",
   "name": "python",
   "nbconvert_exporter": "python",
   "pygments_lexer": "ipython3",
   "version": "3.9.16"
  }
 },
 "nbformat": 4,
 "nbformat_minor": 5
}
