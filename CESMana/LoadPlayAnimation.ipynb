{
 "cells": [
  {
   "cell_type": "code",
   "execution_count": null,
   "id": "bc1dd0f3-9f37-4f9f-bb4c-a50b39334139",
   "metadata": {},
   "outputs": [],
   "source": [
    "from IPython.display import HTML\n",
    "\n",
    "#from moviepy.editor import VideoFileClip\n",
    "\n",
    "video_path = '../AnimationFiles/c153_topfix_ne240pg3_FMTHIST_xic_x02-Omg_44km-PS-SHFLX-2004-07.mp4'\n",
    "video_path = \"../AnimationFiles/c153_topfix_ne240pg3_FMTHIST_xic_x02-Omg_44km-PS-abs_zeta_5km-2004-07.mp4\"\n",
    "#video_path = '../AnimationFiles/c153_ne240pg3_FMTHIST_aicn_x01-Omg_44km-PS-SHFLX-2004-08.mp4'\n",
    "HTML(f\"\"\"<video src=\"{video_path}\" loop controls>\n",
    "         Your browser does not support the video tag.\n",
    "         </video>\"\"\")\n",
    "\n",
    "\n",
    "\n"
   ]
  },
  {
   "cell_type": "code",
   "execution_count": null,
   "id": "dc056060-684f-4d64-b8a1-dbf1429d142d",
   "metadata": {},
   "outputs": [],
   "source": [
    "from IPython.display import Video\n",
    "\n",
    "# Load and display the video\n",
    "video_path = 'animation-wpthlp-Sep-2001.mp4'\n",
    "Video(video_path,loop=True) # This throws an error - Hence weird HTML command above\n"
   ]
  },
  {
   "cell_type": "code",
   "execution_count": null,
   "id": "41db960d-1805-47a0-904c-0ec361f86d13",
   "metadata": {},
   "outputs": [],
   "source": []
  }
 ],
 "metadata": {
  "kernelspec": {
   "display_name": "NPL 2024b",
   "language": "python",
   "name": "npl-2024b"
  },
  "language_info": {
   "codemirror_mode": {
    "name": "ipython",
    "version": 3
   },
   "file_extension": ".py",
   "mimetype": "text/x-python",
   "name": "python",
   "nbconvert_exporter": "python",
   "pygments_lexer": "ipython3",
   "version": "3.11.9"
  }
 },
 "nbformat": 4,
 "nbformat_minor": 5
}
