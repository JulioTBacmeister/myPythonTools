{
 "cells": [
  {
   "cell_type": "code",
   "execution_count": null,
   "id": "abda101d-5eee-4761-b122-27066e2274d0",
   "metadata": {},
   "outputs": [],
   "source": [
    "################################################\n",
    "# New style \n",
    "################################################\n",
    "import sys\n",
    "import os\n",
    "\n",
    "workdir_ = '/glade/work/juliob'\n",
    "if ( workdir_ not in sys.path ):\n",
    "    sys.path.append(workdir_)\n",
    "    print( f\" a path to {workdir_} added in {__name__} \")\n",
    "\n",
    "\n",
    "# Cartopy for pretty maps\n",
    "import cartopy\n",
    "import cartopy.crs as ccrs\n",
    "import cartopy.feature as cfeature\n",
    "\n",
    "\n",
    "\n",
    "\n",
    "from myPythonTools.Utils import utils as uti\n",
    "from myPythonTools.Utils import numerical_utils as nuti\n",
    "from myPythonTools.Utils import AveragingUtils as Av\n",
    "from myPythonTools.Utils import validation_data as Val\n",
    "from myPythonTools.Utils import PlotUtil as Pu\n",
    "from myPythonTools.Plotting import LatLonMaps as LL \n",
    "from myPythonTools.Plotting import utils as puti \n",
    "from myPythonTools.CASutils import filter_utils as fu \n",
    "\n",
    "from PyRegridding.Utils import GridUtils as GrU\n",
    "from PyRegridding.Utils import MakePressures as MkP\n",
    "from PyRegridding.Drivers import RegridField as RgF\n",
    "\n",
    "\n",
    "# The usual\n",
    "from datetime import date\n",
    "import numpy as np\n",
    "import xarray as xr\n",
    "import matplotlib.pyplot as plt\n",
    "import matplotlib.tri as tri\n",
    "\n",
    "# Some other useful packages \n",
    "import importlib\n",
    "import copy\n",
    "import time\n",
    "import cftime\n",
    "\n",
    "importlib.reload( puti )\n",
    "importlib.reload( uti )\n",
    "importlib.reload( Pu )\n",
    "importlib.reload(Av)\n",
    "importlib.reload(Val)\n",
    "#importlib.reload(vAB)\n",
    "importlib.reload(MkP)\n",
    "importlib.reload(RgF)\n"
   ]
  },
  {
   "cell_type": "code",
   "execution_count": null,
   "id": "59ed4840-5601-470b-81c9-f433cead1be8",
   "metadata": {},
   "outputs": [],
   "source": [
    "from myPythonTools.YAML import get_exp_list as Xl\n",
    "importlib.reload(Xl)\n"
   ]
  },
  {
   "cell_type": "code",
   "execution_count": null,
   "id": "c933a8ac-e094-4d2a-ba1e-5668593e822a",
   "metadata": {},
   "outputs": [],
   "source": [
    "print( sys.path )\n",
    "############################\n",
    "# Initialize dict for regridding\n",
    "############################\n",
    "RgObs={}\n"
   ]
  },
  {
   "cell_type": "code",
   "execution_count": null,
   "id": "12bf7566-9818-41f1-938b-9591865f3522",
   "metadata": {},
   "outputs": [],
   "source": [
    "### Make a list of files\n",
    "import yaml\n",
    "#from box import Box\n",
    "\n",
    "\n",
    "with open('../YAML/configure_plotting.yaml', 'r') as file:\n",
    "    cfgPlot = yaml.safe_load(file)\n",
    "\n",
    "\n",
    "######################################################\n",
    "season = 'ann' # cfgPlot['latlon']['season']\n",
    "valData  = cfgPlot['latlon']['validation']['data']\n",
    "valYears = cfgPlot['latlon']['validation']['years']\n",
    "print( f\"Season= {season}\" )\n",
    "print( valData , valYears )\n",
    "\n",
    "# other ... \n",
    "fld='TAUX' #'PRECT'\n",
    "fld='PRECT'\n",
    "#fld='U10'"
   ]
  },
  {
   "cell_type": "code",
   "execution_count": null,
   "id": "aaf81d95-f4f7-479f-b687-b15cfc03042a",
   "metadata": {},
   "outputs": [],
   "source": [
    "\n",
    "exp_yaml,xl= Xl.Official()  #Utility()\n",
    "\n",
    "with open(f'../YAML/{exp_yaml}', 'r') as file:\n",
    "    cfg = yaml.safe_load(file)\n",
    "\n",
    "Al =[]\n",
    "for x in xl:\n",
    "    exp, subd, Src, Hkey, Dst, useri = cfg[x]['name'] , cfg[x]['subdir'] , cfg[x]['SrcGrid'] , cfg[x]['Hkey'] , cfg[x]['DstGrid'] , cfg[x]['user'] \n",
    "    ymdPat = cfg[x]['ymdPat']\n",
    "    print( exp, subd, Src, Hkey, Dst, useri )\n",
    "    print( ymdPat  )\n",
    "    \n",
    "    A = uti.MakeDict4Exp( exp=exp , user=useri, subd=subd , \n",
    "                     hsPat='cam.h0a' , ymdPat=ymdPat,verbose=True, open_dataset=True )\n",
    "    A['Src']=Src\n",
    "    A['Hkey']=Hkey\n",
    "    if 'gw_parameters' in cfg[x]:\n",
    "        A['gw_parameters'] = cfg[x]['gw_parameters']\n",
    "    Al.append( A )\n",
    "    print( f'{A.exp} Years {len(A.X.time) /12. } \\n')\n"
   ]
  },
  {
   "cell_type": "code",
   "execution_count": null,
   "id": "578adc23-f70a-4e1e-a0b5-55bd582b4c8b",
   "metadata": {},
   "outputs": [],
   "source": [
    "Al[0].X"
   ]
  },
  {
   "cell_type": "code",
   "execution_count": null,
   "id": "02e885f4-ada9-45e3-a594-4245aa65d248",
   "metadata": {},
   "outputs": [],
   "source": [
    "########################################\n",
    "# Make seasonal means\n",
    "\n",
    "for A in Al:\n",
    "    print( f'{A.exp} Years {len(A.X.time) /12. }')\n",
    "########################################\n",
    "    \n",
    "    AAa_s,years_a,months_a = Av.Seasonal( ds=A.X, season=season , fld=fld,return_time=True)\n",
    "    A['AA_s']=AAa_s\n",
    "    A['years']=years_a\n",
    "    A['months']=months_a\n"
   ]
  },
  {
   "cell_type": "code",
   "execution_count": null,
   "id": "5da5c5ca-4adf-4299-8412-aa35ffbb3e1d",
   "metadata": {},
   "outputs": [],
   "source": [
    "########################################\n",
    "# Regrid to lat-lon if needed\n",
    "########################################\n",
    "method='C2'\n",
    "\n",
    "for A in Al:\n",
    "    Hkey = A['Hkey']\n",
    "    Src  = A['Src']\n",
    "    AAa_s = A['AA_s']\n",
    "    \n",
    "    if (Hkey == 'yx' ):\n",
    "        ########################\n",
    "        # Option 1 from lat-lon regirrdded data\n",
    "        ########################\n",
    "\n",
    "        lon_a=A.X.lon.values\n",
    "        lat_a=A.X.lat.values\n",
    "        lev_a=A.X.lev.values\n",
    "        zlev_a=-7.0*np.log( lev_a/1_000. )\n",
    "        A['AA_s_yx'] = AAa_s\n",
    "\n",
    "    elif (Hkey=='c'):\n",
    "        ########################\n",
    "        # Option 2 from unstructured SE data\n",
    "        ########################\n",
    "        \n",
    "        Dst = 'fv1x1'\n",
    "        DstInfo = GrU.gridInfo(Dst) #,Vgrid=DstVgrid)\n",
    "        lat_a,lon_a = GrU.latlon( scrip= DstInfo['scrip'], Hkey=DstInfo['Hkey'] )\n",
    "        lev_a=A.X.lev.values\n",
    "        zlev_a=-7.0*np.log( lev_a/1_000. )\n",
    "    \n",
    "        RegridObj = GrU.regrid_object_lib(RgOb=RgObs, src=Src, dst=Dst)\n",
    "        AAa_s_yx=RgF.Horz(xfld_Src=AAa_s , Src=Src, Dst=Dst , RegridObj_In= RegridObj )\n",
    "        A['AA_s_yx'] = AAa_s_yx\n",
    "\n",
    "    A['lonx'] = lon_a\n",
    "    A['latx'] = lat_a\n",
    "    A['zlev'] = zlev_a\n",
    "    A['plev'] = lev_a\n",
    "    A['DateRange'] = f\"{(A.X.time[0].values.item() ).strftime('%Y-%m-%d')}_{(A.X.time[-1].values.item() ).strftime('%Y-%m-%d')}\""
   ]
  },
  {
   "cell_type": "code",
   "execution_count": null,
   "id": "9c8b2952-f6da-4b22-8d0e-d5b80187055a",
   "metadata": {},
   "outputs": [],
   "source": [
    "\"\"\"\n",
    "####\n",
    "# Validation\n",
    "####\n",
    "mgrid = False\n",
    "\n",
    "valYears='*'\n",
    "Uval = Val.data(fld='U',season=season,mgrid=mgrid,zlev=True , Years=valYears ) #, Years='1996' ) #, Years='2000' )\n",
    "UUv_s_yx , zlev_v,lat_v,lon_v, years_Uv = Uval['aa'], Uval['lev'], Uval['lat'], Uval['lon'], Uval['years']\n",
    "\n",
    "Tval = Val.data(fld='T',season=season,mgrid=mgrid,zlev=True , Years=valYears ) #, Years='1996' ) #, Years='2000' )\n",
    "TTv_s_yx , zlev_v,lat_v,lon_v, years_Tv = Tval['aa'], Tval['lev'], Tval['lat'], Tval['lon'], Tval['years']\n",
    "\"\"\"\n"
   ]
  },
  {
   "cell_type": "code",
   "execution_count": null,
   "id": "524c7b13-e6d2-492c-93d4-b3fa5f9abbd4",
   "metadata": {},
   "outputs": [],
   "source": [
    "\n",
    "lev_sel = uti.find_nearest_plev_indices(plev=Al[0].zlev , target_levels=[ 1.0 ] )\n"
   ]
  },
  {
   "cell_type": "code",
   "execution_count": null,
   "id": "e9519506-a401-4e34-aa6d-4c411de0be8a",
   "metadata": {},
   "outputs": [],
   "source": [
    "shape_AA = np.shape( Al[0].AA_s_yx )\n",
    "print(len(shape_AA))\n"
   ]
  },
  {
   "cell_type": "code",
   "execution_count": null,
   "id": "4b73bac5-ce13-49cf-b049-a432bf2197fe",
   "metadata": {},
   "outputs": [],
   "source": [
    "print(fld)"
   ]
  },
  {
   "cell_type": "code",
   "execution_count": null,
   "id": "005ad192-368e-4a45-a4fa-8ecdb1ede2c3",
   "metadata": {},
   "outputs": [],
   "source": [
    "plt.contourf(Al[0].AA_s_yx)"
   ]
  },
  {
   "cell_type": "code",
   "execution_count": null,
   "id": "459fc238-34dd-4cb1-8031-841943f012a1",
   "metadata": {},
   "outputs": [],
   "source": [
    "##############\n",
    "plot_Z_km=1. #1.0\n",
    "clev_prect=0.25*np.linspace(0,20,num=21)\n",
    "#clev=np.linspace(0,1.0,num=21)\n",
    "\n",
    "plot_Z_km=12. #1.0\n",
    "\n",
    "clev_fld , dlev_fld, scale_field = puti.contour_intervals( fld )  #np.linspace(-0.3, 0.3 ,num=21) # 21\n",
    "\n",
    "fields=[]\n",
    "lons=[]\n",
    "lats=[]\n",
    "clevs=[]\n",
    "titles=[]\n",
    "cmaps=[]\n",
    "insets=[]\n",
    "control_diff = True #True\n",
    "ipanel=0\n",
    "\n",
    "for A in Al:\n",
    "    years_a = A['years']\n",
    "    if ( ( control_diff==True ) and ( ipanel>0) ):\n",
    "        diff_fac = 1\n",
    "        the_cmap = 'bwr_r'\n",
    "        clev = 0.5*np.linspace(-1,1,num=21)\n",
    "    else :\n",
    "        diff_fac = 0\n",
    "        the_cmap = 'Blues_r' #'gist_ncar'\n",
    "        clev = clev_fld\n",
    "    \n",
    "    if ( len( np.shape( A.AA_s_yx ) ) == 3 ):\n",
    "        kplot = uti.find_nearest_plev_indices(plev=A.zlev , target_levels=[ plot_Z_km ] )\n",
    "        fields.append(  scale_field * A.AA_s_yx[kplot[0],:,:] )\n",
    "        fldoo=f'{fld} (z={plot_Z_km:.1f}km) '\n",
    "    elif ( len( np.shape( A.AA_s_yx ) ) == 2 ):\n",
    "        fields.append(  scale_field * ( A.AA_s_yx[:,:] - diff_fac*Al[0].AA_s_yx[:,:]) )\n",
    "        fldoo=f'{fld} '\n",
    "        \n",
    "    lons.append( A.lonx )\n",
    "    lats.append( A.latx )\n",
    "    clevs.append( clev )\n",
    "    titles.append( f\"{A.exp}: {fldoo} \\n {season.upper()}  {years_a[0]}-{years_a[-1]}\" )\n",
    "    cmaps.append( the_cmap )\n",
    "\n",
    "    if 'gw_parameters' in A:\n",
    "        parameters=A['gw_parameters']\n",
    "        # Parameters to display in the inset box\n",
    "        selected_keys = ['alpha_gw_movmtn', 'effgw_rdg_resid','use_gw_rdg_resid']\n",
    "        selected_params = {key: parameters[key] for key in selected_keys if key in parameters}\n",
    "        # Format selected parameters into a string\n",
    "        param_text = \"\\n\".join([f\"{key}: {value}\" for key, value in selected_params.items()])\n",
    "        inset={'text':param_text, 'x':0.65,'y':0.98}\n",
    "        insets.append( inset )\n",
    "\n",
    "    ipanel = ipanel+1\n",
    "\n",
    "\"\"\"\n",
    "##\n",
    "# Now append validation\n",
    "kplot = uti.find_nearest_plev_indices(plev=zlev_v , target_levels=[ plot_Z_km ] )\n",
    "fields.append(  UUv_s_yx[kplot[0],:,:] )\n",
    "lons.append( lon_v )\n",
    "lats.append( lat_v )\n",
    "clevs.append( clev )\n",
    "titles.append( f\"{fldoo} {season.upper()} ERA5 \" )\n",
    "cmaps.append( the_cmap )\n",
    "\"\"\""
   ]
  },
  {
   "cell_type": "code",
   "execution_count": null,
   "id": "ec193dcd-c238-4cb5-8997-cd618be6134b",
   "metadata": {},
   "outputs": [],
   "source": [
    "####\n",
    "MapProj = ccrs.PlateCarree(central_longitude=180.)\n",
    "\n",
    "LL.Maps( fields=fields ,lons=lons ,lats=lats ,clevs=clevs,cmaps=cmaps , titles=titles, insets=insets, Projection=MapProj, Landmask=False )"
   ]
  },
  {
   "cell_type": "code",
   "execution_count": null,
   "id": "ced72b07-5ca0-40d5-8049-4a6f3a00c7a5",
   "metadata": {},
   "outputs": [],
   "source": [
    "####\n",
    "kplot = uti.find_nearest_plev_indices(plev=Al[0].zlev , target_levels=[ plot_Z_km ] )\n",
    "print(Al[0].zlev[kplot])\n",
    "print(Al[0].plev[kplot])\n"
   ]
  },
  {
   "cell_type": "code",
   "execution_count": null,
   "id": "d171ac74-b235-4b8f-a162-6bd450e2882b",
   "metadata": {},
   "outputs": [],
   "source": []
  },
  {
   "cell_type": "code",
   "execution_count": null,
   "id": "50ff75b9-aae6-4805-869d-00a5fc85d070",
   "metadata": {},
   "outputs": [],
   "source": []
  },
  {
   "cell_type": "code",
   "execution_count": null,
   "id": "70a0f906-48e9-463e-b9cd-0f553536f624",
   "metadata": {},
   "outputs": [],
   "source": [
    "#plt.plot( np.average( scale_field*Al[0].AA_s_yx , axis=1 ) )\n",
    "plt.plot( Al[0].latx, np.average( scale_field*Al[0].AA_s_yx , axis=1 ) )\n",
    "plt.plot( Al[0].latx, np.average( scale_field*Al[1].AA_s_yx, axis=1 ) )\n",
    "plt.plot( Al[0].latx, np.average( scale_field*Al[2].AA_s_yx, axis=1 ) )\n"
   ]
  },
  {
   "cell_type": "code",
   "execution_count": null,
   "id": "2f27f07f-5f45-4f00-a9f1-8ae52df0a498",
   "metadata": {},
   "outputs": [],
   "source": [
    "#plt.plot( np.average( scale_field*Al[0].AA_s_yx , axis=1 ) )\n",
    "plt.plot( Al[0].latx, np.average( scale_field*(Al[1].AA_s_yx -Al[0].AA_s_yx) , axis=1 ) )\n",
    "plt.plot( Al[0].latx, np.average( scale_field*(Al[2].AA_s_yx -Al[0].AA_s_yx), axis=1 ) )\n"
   ]
  },
  {
   "cell_type": "code",
   "execution_count": null,
   "id": "d9d64fee-185a-4f09-a1c8-b86c862fae66",
   "metadata": {},
   "outputs": [],
   "source": [
    "#####"
   ]
  },
  {
   "cell_type": "code",
   "execution_count": null,
   "id": "a692a4bc-ff97-4e9a-859e-e5d36ec6c967",
   "metadata": {},
   "outputs": [],
   "source": []
  }
 ],
 "metadata": {
  "kernelspec": {
   "display_name": "NPL 2024b",
   "language": "python",
   "name": "npl-2024b"
  },
  "language_info": {
   "codemirror_mode": {
    "name": "ipython",
    "version": 3
   },
   "file_extension": ".py",
   "mimetype": "text/x-python",
   "name": "python",
   "nbconvert_exporter": "python",
   "pygments_lexer": "ipython3",
   "version": "3.11.9"
  }
 },
 "nbformat": 4,
 "nbformat_minor": 5
}
