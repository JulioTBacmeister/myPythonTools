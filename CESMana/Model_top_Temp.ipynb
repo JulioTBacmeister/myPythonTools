{
 "cells": [
  {
   "cell_type": "code",
   "execution_count": null,
   "id": "64a3c81b-86eb-4526-8ec6-12771dd82f27",
   "metadata": {},
   "outputs": [],
   "source": [
    "#workdir_ = '/glade/work/juliob/'\n",
    "import sys\n",
    "#######################################\n",
    "# Leave this for now. But it should change to better\n",
    "# method as here:\n",
    "import os\n",
    "This_module_path = os.getcwd()  #os.path.dirname(os.path.abspath(__file__))\n",
    "workdir_ = os.path.join(This_module_path, '../../' )\n",
    "# sys.path.append(utils_path)\n",
    "# print( f\" a path added in {__name__} {utils_path} \")\n",
    "\n",
    "print( f\" In {__name__} we have This_module_path={This_module_path} \" )\n",
    "print( f\" In {__name__} we have workdir_={workdir_} \" )\n",
    "\n",
    "# The usual\n",
    "from datetime import date\n",
    "import numpy as np\n",
    "import xarray as xr\n",
    "import matplotlib.pyplot as plt\n",
    "import matplotlib.tri as tri\n",
    "\n",
    "# Cartopy for pretty maps\n",
    "import cartopy\n",
    "import cartopy.crs as ccrs\n",
    "import cartopy.feature as cfeature\n",
    "\n",
    "sys.path.append(workdir_ + 'myPythonTools/Utils/')\n",
    "import utils as uti\n",
    "\n",
    "\n",
    "# Some other useful packages \n",
    "import importlib\n",
    "import copy\n",
    "import time\n",
    "import cftime\n",
    "\n"
   ]
  },
  {
   "cell_type": "code",
   "execution_count": null,
   "id": "bc7084b3-b890-4a9e-b185-deaa4fa97135",
   "metadata": {},
   "outputs": [],
   "source": [
    "Coo = xr.open_mfdataset( '/glade/derecho/scratch/hannay/b.e23_alpha17f.BMT1850.ne30_t232.099b/run/b.e23_alpha17f.BMT1850.ne30_t232.099b.cam.h0a.0001-*.nc' )\n",
    "\n"
   ]
  },
  {
   "cell_type": "code",
   "execution_count": null,
   "id": "56c3a6a6-4228-4f24-a531-70aa1daab96e",
   "metadata": {},
   "outputs": [],
   "source": [
    "woo=Coo.w.values[0,:]\n",
    "lon = Coo.lon.values\n",
    "lon.shape\n",
    "area_Co = np.zeros( (len(woo) , len(lon) ) )\n",
    "for j in np.arange( len(woo) ):\n",
    "    area_Co[j,:] = woo[j]\n",
    "\n",
    "te_Co = Coo.T.values\n",
    "\n",
    "\n",
    "\n",
    "\n",
    "\n",
    "nt,nz,ny,nx = np.shape(te_Co)\n",
    "tav_Co=np.zeros( (nt , nz ) )\n",
    "for m in np.arange( nt ):\n",
    "    for k in np.arange( start=0, stop=3 ):\n",
    "        tav_Co[m,k]=np.sum( area_Co[:,:] * te_Co[m,k,:,:]  ) /np.sum( area_Co[:,:] )\n",
    "\n",
    "\n",
    "\n",
    "\n"
   ]
  },
  {
   "cell_type": "code",
   "execution_count": null,
   "id": "918dd386-de92-48ce-bde8-7124ba98def1",
   "metadata": {},
   "outputs": [],
   "source": [
    "C = uti.MakeDict4Exp( exp='c153_ne240pg3_FMTHIST_aicn_x01',\n",
    "                     user='juliob_camp',\n",
    "                     subd='hist' , \n",
    "                     hsPat='cam.h0a',\n",
    "                     ymdPat= '*',\n",
    "                     verbose=True, open_dataset=True )\n",
    "\n",
    "C2 = uti.MakeDict4Exp( exp='c153_ne30pg3_FMTHIST_x02',\n",
    "                     user='juliob_camp',\n",
    "                     subd='hist' , \n",
    "                     hsPat='cam.h0a',\n",
    "                     ymdPat= '*',\n",
    "                     verbose=True, open_dataset=True )\n",
    "\n",
    "\n",
    "C3 = uti.MakeDict4Exp( exp='c153_topfix_ne240pg3_FMTHIST_xic_x01',\n",
    "                     user='juliob',\n",
    "                     subd='hist' , \n",
    "                     hsPat='cam.h0a',\n",
    "                     ymdPat= '*',\n",
    "                     verbose=True, open_dataset=True )\n",
    "\n",
    "\n",
    "\n",
    "te_c = C.X.T.values \n",
    "te_c2 = C2.X.T.values \n",
    "\n",
    "\n",
    "\n",
    "area_c=C.X.area.values\n",
    "area_c2=C2.X.area.values\n",
    "\n",
    "\n",
    "te_c3 = C3.X.T.values \n",
    "area_c3=C3.X.area.values\n",
    "\n",
    "\n",
    "\n",
    "\n",
    "nt,nz,ncol = np.shape(te_c)\n",
    "tav_c=np.zeros( (nt , nz ) )\n",
    "for m in np.arange( nt ):\n",
    "    for k in np.arange( start=0, stop=3 ):\n",
    "        tav_c[m,k]=np.sum( area_c[:] * te_c[m,k,:]  , axis=0 ) /np.sum( area_c[:] )\n",
    "\n",
    "\n",
    "nt,nz,ncol = np.shape(te_c2)\n",
    "tav_c2=np.zeros( (nt , nz ) )\n",
    "for m in np.arange( nt ):\n",
    "    for k in np.arange( start=0, stop=3 ):\n",
    "        tav_c2[m,k]=np.sum( area_c2[:] * te_c2[m,k,:]  , axis=0 ) /np.sum( area_c2[:] )\n",
    "\n",
    "nt,nz,ncol = np.shape(te_c3)\n",
    "tav_c3=np.zeros( (nt , nz ) )\n",
    "for m in np.arange( nt ):\n",
    "    for k in np.arange( start=0, stop=3 ):\n",
    "        tav_c3[m,k]=np.sum( area_c3[:] * te_c3[m,k,:]  , axis=0 ) /np.sum( area_c3[:] )"
   ]
  },
  {
   "cell_type": "code",
   "execution_count": null,
   "id": "ff641992-f20b-4221-917a-876558f0ac4e",
   "metadata": {},
   "outputs": [],
   "source": [
    "plt.plot( tav_c[:,0] , label=C.exp )\n",
    "plt.plot( tav_c3[:,0] , label=C3.exp )\n",
    "plt.plot( tav_c2[:,0] , label=C2.exp )\n",
    "plt.plot( tav_Co[:,0], label=\"Brian's RRTMGP-fix (ne30pg3)\" )\n",
    "plt.xlabel( 'Months' )\n",
    "plt.ylabel( 'T(K)' )\n",
    "plt.title('Temperature at model top in L93')\n",
    "plt.ylim(150,300)\n",
    "plt.xlim(0,30)\n",
    "plt.legend()"
   ]
  },
  {
   "cell_type": "code",
   "execution_count": null,
   "id": "85e2441e-ea25-4074-8c20-ed722fbb19ad",
   "metadata": {},
   "outputs": [],
   "source": [
    "A = uti.MakeDict4Exp( exp='cDEV_ne120pg3_FMTHIST_DYAMOND_x01_e02' , \n",
    "                     user='juliob',\n",
    "                     subd='hist' , \n",
    "                     hsPat='cam.h1i',\n",
    "                     ymdPat= '*-00000',\n",
    "                     verbose=True, open_dataset=True )\n",
    "B = uti.MakeDict4Exp( exp='c153_ne120pg3_FMTHIST_ix02',\n",
    "                     user='juliob',\n",
    "                     subd='hist' , \n",
    "                     hsPat='cam.h1i',\n",
    "                     ymdPat= '*-00000',\n",
    "                     verbose=True, open_dataset=True )\n"
   ]
  },
  {
   "cell_type": "code",
   "execution_count": null,
   "id": "259ba113-f19a-45a8-bdc7-3f31a9f4fbfa",
   "metadata": {},
   "outputs": [],
   "source": [
    "B3 = uti.MakeDict4Exp( exp='c153_ne120pg3_FMTHIST_ix03',\n",
    "                     user='juliob',\n",
    "                     subd='hist' , \n",
    "                     hsPat='cam.h1i',\n",
    "                     ymdPat= '*-00000',\n",
    "                     verbose=True, open_dataset=True )\n",
    "B4 = uti.MakeDict4Exp( exp='c153_ne120pg3_FMTHIST_ix04',\n",
    "                     user='juliob',\n",
    "                     subd='hist' , \n",
    "                     hsPat='cam.h1i',\n",
    "                     ymdPat= '*-00000',\n",
    "                     verbose=True, open_dataset=True )\n"
   ]
  },
  {
   "cell_type": "code",
   "execution_count": null,
   "id": "f0547b22-b56f-4bdf-84ff-d4ae42510167",
   "metadata": {},
   "outputs": [],
   "source": [
    "te_a = A.X.T.values \n",
    "te_b = B.X.T.values \n",
    "area=A.X.area.values"
   ]
  },
  {
   "cell_type": "code",
   "execution_count": null,
   "id": "d7f652a3-502c-4f68-92d7-5fd8c9ea79b8",
   "metadata": {},
   "outputs": [],
   "source": [
    "te_b3 = B3.X.T.values \n",
    "te_b4 = B4.X.T.values "
   ]
  },
  {
   "cell_type": "code",
   "execution_count": null,
   "id": "0fbf7e38-5f07-4776-8bed-437c5446ed99",
   "metadata": {},
   "outputs": [],
   "source": [
    "print(te_b.shape)\n",
    "\n",
    "for k in np.arange( 93 ):\n",
    "    print( k, np.min( te_b[220,k,:]) )\n",
    "\n",
    "#plt.plot( te_b[240,75,:].flatten() )\n"
   ]
  },
  {
   "cell_type": "code",
   "execution_count": null,
   "id": "3cfbb988-cb41-45a7-a484-5192d596837f",
   "metadata": {},
   "outputs": [],
   "source": [
    "print(area.shape)"
   ]
  },
  {
   "cell_type": "code",
   "execution_count": null,
   "id": "03dfe3d7-9e88-4f23-9997-03342d255196",
   "metadata": {},
   "outputs": [],
   "source": [
    "\n",
    "nt,nz,ncol = np.shape(te_a)\n",
    "tav_a=np.zeros( (nt , nz ) )\n",
    "for m in np.arange( nt ):\n",
    "    for k in np.arange( start=0, stop=3 ):\n",
    "        tav_a[m,k]=np.sum( area[:] * te_a[m,k,:]  , axis=0 ) /np.sum( area[:] )\n",
    "\n",
    "nt,nz,ncol = np.shape(te_b)\n",
    "tav_b=np.zeros( (nt , nz ) )\n",
    "for m in np.arange( nt ):\n",
    "    for k in np.arange( start=0, stop=3 ):\n",
    "        tav_b[m,k]=np.sum( area[:] * te_b[m,k,:]  , axis=0 ) /np.sum( area[:] )"
   ]
  },
  {
   "cell_type": "code",
   "execution_count": null,
   "id": "761adc91-42e1-4f75-9b5d-74eb9617f3e6",
   "metadata": {},
   "outputs": [],
   "source": [
    "\n",
    "nt,nz,ncol = np.shape(te_b3)\n",
    "tav_b3=np.zeros( (nt , nz ) )\n",
    "for m in np.arange( nt ):\n",
    "    for k in np.arange( start=0, stop=3 ):\n",
    "        tav_b3[m,k]=np.sum( area[:] * te_b3[m,k,:]  , axis=0 ) /np.sum( area[:] )\n",
    "\n",
    "nt,nz,ncol = np.shape(te_b4)\n",
    "tav_b4=np.zeros( (nt , nz ) )\n",
    "for m in np.arange( nt ):\n",
    "    for k in np.arange( start=0, stop=3 ):\n",
    "        tav_b4[m,k]=np.sum( area[:] * te_b4[m,k,:]  , axis=0 ) /np.sum( area[:] )\n",
    "\n"
   ]
  },
  {
   "cell_type": "code",
   "execution_count": null,
   "id": "81c71d0d-e706-4c32-8ea5-ed35eeae2b4a",
   "metadata": {},
   "outputs": [],
   "source": [
    "plt.contourf( tav_a.T , levels=np.linspace(190,280,num=31) ) #[190,200,220,240,260,280,300,400,500,700,1000])\n",
    "plt.ylim(93,0)\n",
    "plt.colorbar()"
   ]
  },
  {
   "cell_type": "code",
   "execution_count": null,
   "id": "9acd4a95-1de0-40e9-a8cb-db323568f6cc",
   "metadata": {},
   "outputs": [],
   "source": [
    "\n",
    "plt.plot( tav_a[:,0] , label=A.exp )\n",
    "#plt.plot( tav_b[:,0] , label='$\\land$' )\n",
    "plt.plot( tav_b[:,0] , label=f'RRTMG extended $\\wedge$ No Dycore heating' )\n",
    "plt.plot( tav_b3[:,0] , label=f'RRTMG extended $\\wedge$ Dycore heating BACK ON' )\n",
    "plt.plot( tav_b4[:,0] , label=f'Default RRTMG $\\wedge$ NO Dycore heating' )\n",
    "plt.xlabel( 'Days' )\n",
    "plt.ylabel( 'T(K)' )\n",
    "plt.title('Temperature at model top in L93')\n",
    "plt.legend()"
   ]
  },
  {
   "cell_type": "code",
   "execution_count": null,
   "id": "f78214ba-b389-46a9-b087-e0da7e6e0d0a",
   "metadata": {},
   "outputs": [],
   "source": [
    "plt.plot( te_b[:,0,:].flatten())"
   ]
  },
  {
   "cell_type": "code",
   "execution_count": null,
   "id": "0aa3abbc-932e-48aa-b73c-94a6eb5fd5c3",
   "metadata": {},
   "outputs": [],
   "source": []
  }
 ],
 "metadata": {
  "kernelspec": {
   "display_name": "NPL 2023b",
   "language": "python",
   "name": "npl-2023b"
  },
  "language_info": {
   "codemirror_mode": {
    "name": "ipython",
    "version": 3
   },
   "file_extension": ".py",
   "mimetype": "text/x-python",
   "name": "python",
   "nbconvert_exporter": "python",
   "pygments_lexer": "ipython3",
   "version": "3.10.12"
  }
 },
 "nbformat": 4,
 "nbformat_minor": 5
}
