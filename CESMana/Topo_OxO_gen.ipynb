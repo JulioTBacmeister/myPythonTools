{
 "cells": [
  {
   "cell_type": "code",
   "execution_count": null,
   "id": "abda101d-5eee-4761-b122-27066e2274d0",
   "metadata": {},
   "outputs": [],
   "source": [
    "#workdir_ = '/glade/work/juliob/'\n",
    "import sys\n",
    "#######################################\n",
    "# Leave this for now. But it should change to better\n",
    "# method as here:\n",
    "import os\n",
    "This_module_path = os.getcwd()  #os.path.dirname(os.path.abspath(__file__))\n",
    "workdir_ = os.path.join(This_module_path, '../../' )\n",
    "# sys.path.append(utils_path)\n",
    "# print( f\" a path added in {__name__} {utils_path} \")\n",
    "\n",
    "print( f\" In {__name__} we have This_module_path={This_module_path} \" )\n",
    "print( f\" In {__name__} we have workdir_={workdir_} \" )\n",
    "########################################\n",
    "sys.path.append(workdir_ + 'myPythonTools/GenlTools/')\n",
    "sys.path.append(workdir_ + 'myPythonTools/Utils/')\n",
    "sys.path.append(workdir_ + 'myPythonTools/Plotting/')\n",
    "sys.path.append(workdir_ + 'myPythonTools/CASutils/')\n",
    "#sys.path.append(workdir_ + 'PyRegridding/Regridder/')\n",
    "sys.path.append(workdir_ + 'PyRegridding/Utils/')\n",
    "\n",
    "# Own local packages\n",
    "import AveragingUtils as Av\n",
    "#import VertRegridFlexLL as Vrg  # This is toxic for some reason\n",
    "import PlotUtil as Pu\n",
    "import utils as uti\n",
    "import numerical_utils as nuti\n",
    "import validation_data as Val\n",
    "import var_A_x_B as vAB\n",
    "import MakePressures as MkP\n",
    "import GridUtils as GrU\n",
    "import LatLonMaps as LL\n",
    "import filter_utils as fu\n",
    "\n",
    "# The usual\n",
    "from datetime import date\n",
    "import numpy as np\n",
    "import xarray as xr\n",
    "import matplotlib.pyplot as plt\n",
    "import matplotlib.tri as tri\n",
    "\n",
    "# Cartopy for pretty maps\n",
    "import cartopy\n",
    "import cartopy.crs as ccrs\n",
    "import cartopy.feature as cfeature\n",
    "\n",
    "# Some other useful packages \n",
    "import importlib\n",
    "import copy\n",
    "import time\n",
    "import cftime\n",
    "import esmfRegrid as erg\n",
    "\n",
    "importlib.reload(erg)\n",
    "importlib.reload( LL )\n",
    "importlib.reload( uti )\n",
    "importlib.reload( nuti )\n",
    "importlib.reload( Pu )\n",
    "importlib.reload(Av)\n",
    "importlib.reload(Val)\n",
    "importlib.reload(vAB)\n",
    "importlib.reload(MkP)\n"
   ]
  },
  {
   "cell_type": "code",
   "execution_count": null,
   "id": "fe59cf8d-0b7b-4c4b-8757-16b3359c07dc",
   "metadata": {},
   "outputs": [],
   "source": [
    "#############################################\n",
    "# Conservative remapping of Topo PHIS\n",
    "############################################################\n",
    "############################################################\n",
    "\n",
    "Src,Dst = 'ne240pg3','latlonOxO'\n",
    "\n",
    "DstInfo = GrU.gridInfo(Dst) #,Vgrid=DstVgrid)\n",
    "dstHkey = DstInfo['Hkey']\n",
    "dst_type =DstInfo['type']\n",
    "dst_scrip =DstInfo['scrip']\n",
    "#dst_TopoFile = DstInfo['TopoFile']\n",
    "\n",
    "lat_x,lon_x = GrU.latlon(dst_scrip,dstHkey)\n",
    "ny,nx=len(lat_x),len(lon_x)\n",
    "\n",
    "SrcInfo = GrU.gridInfo(Src)\n",
    "srcHkey = SrcInfo['Hkey']\n",
    "src_type =SrcInfo['type']\n",
    "src_scrip =SrcInfo['scrip']\n",
    "src_TopoFile = SrcInfo['TopoFile']\n",
    "print( f\"Used NEW, concise gridInfo function .... ....\" )\n",
    "print( f\"{src_TopoFile}\")\n",
    "print( f\"{src_scrip} ==> {dst_scrip}\")\n",
    "print( f\"{ny,nx}\")\n"
   ]
  },
  {
   "cell_type": "code",
   "execution_count": null,
   "id": "4f72107e-0b91-4d7e-9d1d-62933da01f6e",
   "metadata": {},
   "outputs": [],
   "source": [
    "Topo_src = xr.open_dataset( src_TopoFile )\n",
    "topo_src = Topo_src.PHIS.values / 9.8\n",
    "plt.plot( topo_src )"
   ]
  },
  {
   "cell_type": "raw",
   "id": "15293986-2087-4d9f-9b13-5a215f9a9ab8",
   "metadata": {},
   "source": [
    "%%time\n",
    "\n",
    "RegridMethod = \"CONSERVE_2ND\"\n",
    "regrd, srcF, dstF = erg.Regrid( srcScrip = src_scrip , \n",
    "                                srcType  = src_type  ,\n",
    "                                dstScrip = dst_scrip ,\n",
    "                                dstType  = dst_type  ,\n",
    "                                RegridMethod = RegridMethod , write_weights=True, weights_file= \"../AnimationFiles/ne240_OxO_conv2nd_remap.nc\")"
   ]
  },
  {
   "cell_type": "code",
   "execution_count": null,
   "id": "6993a256-7af8-460b-9fd0-d61c9c78c7ef",
   "metadata": {},
   "outputs": [],
   "source": [
    "%%time\n",
    "\n",
    "RegridMethod = \"CONSERVE_2ND\"\n",
    "regrd, srcF, dstF = erg.Regrid( srcScrip = src_scrip , \n",
    "                                srcType  = src_type  ,\n",
    "                                dstScrip = dst_scrip ,\n",
    "                                dstType  = dst_type  ,\n",
    "                                RegridMethod = RegridMethod , read_weights=True, weights_file= \"../AnimationFiles/ne240_OxO_conv2nd_remap.nc\")"
   ]
  },
  {
   "cell_type": "code",
   "execution_count": null,
   "id": "41327283-66eb-4680-94fd-dd985495ac05",
   "metadata": {},
   "outputs": [],
   "source": [
    "#topo_dst = np.zeros( (nt,ny,nx) , dtype=np.float64 )\n",
    "topo_dst = erg.HorzRG( aSrc = topo_src , \n",
    "                    regrd = regrd , \n",
    "                    srcField= srcF , \n",
    "                    dstField= dstF , \n",
    "                    srcGridkey= srcHkey ,\n",
    "                    dstGridkey= dstHkey )"
   ]
  },
  {
   "cell_type": "code",
   "execution_count": null,
   "id": "f89ecd48-6cd4-4bbb-8d4a-8aa72afa1b2c",
   "metadata": {},
   "outputs": [],
   "source": [
    "dims   = [\"lon\",\"lat\"]\n",
    "coords = dict( \n",
    "    lon  = ( [\"lon\"],lon_x ),\n",
    "    lat  = ( [\"lat\"],lat_x ),\n",
    ")\n",
    "\n",
    "Topo_dst = xr.Dataset( coords=coords  )\n",
    "\n",
    "Dar = xr.DataArray( data=topo_dst, dims=('lat','lon',),\n",
    "                    attrs=dict( description='height',units='meters',) ,) \n",
    "Topo_dst[\"TopoHt\"]=Dar\n",
    "Topo_dst.to_netcdf(\"../AnimationFiles/Topo_ne240_OxO_remap.nc\" )"
   ]
  },
  {
   "cell_type": "code",
   "execution_count": null,
   "id": "6f8446fc-51b5-46e7-a39d-d2aeb80fef15",
   "metadata": {},
   "outputs": [],
   "source": []
  }
 ],
 "metadata": {
  "kernelspec": {
   "display_name": "NPL 2023b",
   "language": "python",
   "name": "npl-2023b"
  },
  "language_info": {
   "codemirror_mode": {
    "name": "ipython",
    "version": 3
   },
   "file_extension": ".py",
   "mimetype": "text/x-python",
   "name": "python",
   "nbconvert_exporter": "python",
   "pygments_lexer": "ipython3",
   "version": "3.10.12"
  }
 },
 "nbformat": 4,
 "nbformat_minor": 5
}
