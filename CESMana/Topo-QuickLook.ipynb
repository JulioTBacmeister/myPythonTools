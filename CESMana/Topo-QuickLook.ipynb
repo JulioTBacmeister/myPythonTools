{
 "cells": [
  {
   "cell_type": "code",
   "execution_count": null,
   "id": "fb2d7abe-5889-40a0-9c1d-9e45c93b6d12",
   "metadata": {},
   "outputs": [],
   "source": [
    "workdir_ = '/glade/work/juliob/'\n",
    "import sys\n",
    "sys.path.append(workdir_ + 'myPythonTools/GenlTools/')\n",
    "sys.path.append(workdir_ + 'myPythonTools/Utils/')\n",
    "sys.path.append(workdir_ + 'PyRegridding/Regridder/')\n",
    "sys.path.append(workdir_ + 'PyRegridding/Utils/')\n",
    "\n",
    "# Own local packages\n",
    "import AveragingUtils as Av\n",
    "#import VertRegridFlexLL as Vrg\n",
    "import PlotUtil as Pu\n",
    "import GridUtils as Gu\n",
    "import validation_data as Val\n",
    "\n",
    "# The usual\n",
    "from datetime import date\n",
    "import numpy as np\n",
    "import xarray as xr\n",
    "import matplotlib.pyplot as plt\n",
    "import matplotlib.tri as tri\n",
    "\n",
    "# Cartopy for pretty maps\n",
    "import cartopy\n",
    "import cartopy.crs as ccrs\n",
    "import cartopy.feature as cfeature\n",
    "\n",
    "# Some other useful packages \n",
    "import importlib\n",
    "import copy\n",
    "import time\n",
    "import cftime\n",
    "\n",
    "importlib.reload( Pu )\n",
    "importlib.reload( Gu )\n",
    "importlib.reload(Av)\n",
    "importlib.reload(Val)\n"
   ]
  },
  {
   "cell_type": "code",
   "execution_count": null,
   "id": "61b1791e-5c10-4146-94e3-2c24c2b7c5cb",
   "metadata": {},
   "outputs": [],
   "source": [
    "#####\n",
    "\n",
    "f='/glade/campaign/cesm/cesmdata/cseg/inputdata/atm/cam/topo/ne30pg3_gmted2010_modis_bedmachine_nc3000_Laplace0100_20230105.nc'\n",
    "X=xr.open_dataset( f )"
   ]
  },
  {
   "cell_type": "code",
   "execution_count": null,
   "id": "65b38e9f-d986-44c5-95fb-ee7eb6b835c9",
   "metadata": {},
   "outputs": [],
   "source": [
    "isotopo = np.sqrt( (1.-X.ANISO)*X.MXDIS**2 )"
   ]
  },
  {
   "cell_type": "code",
   "execution_count": null,
   "id": "21fc9621-3afd-461a-a709-3df20af09b1a",
   "metadata": {},
   "outputs": [],
   "source": [
    "\n",
    "#plt.tricontourf(X.lon,X.lat,np.sum(isotopo[0:1,:],axis=0),levels=np.linspace(0,4000.,num=21) ,cmap='terrain' )\n",
    "plt.tricontourf(X.lon,X.lat,np.sum(isotopo[0:1,:],axis=0),levels=np.linspace(0,1000.,num=21) ,cmap='terrain' )\n",
    "plt.colorbar()"
   ]
  },
  {
   "cell_type": "code",
   "execution_count": null,
   "id": "befab984-307d-49ad-94d6-c4b3108217ad",
   "metadata": {},
   "outputs": [],
   "source": [
    "\n",
    "#plt.tricontourf(X.lon,X.lat,np.sum(X.MXDIS[0:1,:],axis=0),levels=np.linspace(0,4000.,num=21) ,cmap='terrain')\n",
    "plt.tricontourf(X.lon,X.lat,X.ANGLL[0,:],levels=np.linspace(0,180.,num=19) ,cmap='gist_rainbow')\n",
    "plt.colorbar()"
   ]
  },
  {
   "cell_type": "code",
   "execution_count": null,
   "id": "a6d8e4bb-0a2d-4d64-bdd7-e8df0571083e",
   "metadata": {},
   "outputs": [],
   "source": [
    "print(X.ISOVAR.values.flatten()[0:100])"
   ]
  },
  {
   "cell_type": "code",
   "execution_count": null,
   "id": "1f4336df-5cd9-4c35-b19f-32a661001973",
   "metadata": {},
   "outputs": [],
   "source": []
  }
 ],
 "metadata": {
  "kernelspec": {
   "display_name": "NPL 2023b",
   "language": "python",
   "name": "npl-2023b"
  },
  "language_info": {
   "codemirror_mode": {
    "name": "ipython",
    "version": 3
   },
   "file_extension": ".py",
   "mimetype": "text/x-python",
   "name": "python",
   "nbconvert_exporter": "python",
   "pygments_lexer": "ipython3",
   "version": "3.10.12"
  }
 },
 "nbformat": 4,
 "nbformat_minor": 5
}
