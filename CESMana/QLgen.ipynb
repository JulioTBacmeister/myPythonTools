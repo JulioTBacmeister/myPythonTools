{
 "cells": [
  {
   "cell_type": "code",
   "execution_count": null,
   "id": "abda101d-5eee-4761-b122-27066e2274d0",
   "metadata": {},
   "outputs": [],
   "source": [
    "#workdir_ = '/glade/work/juliob/'\n",
    "import sys\n",
    "#######################################\n",
    "# Leave this for now. But it should change to better\n",
    "# method as here:\n",
    "import os\n",
    "This_module_path = os.getcwd()  #os.path.dirname(os.path.abspath(__file__))\n",
    "workdir_ = os.path.join(This_module_path, '../../' )\n",
    "# sys.path.append(utils_path)\n",
    "# print( f\" a path added in {__name__} {utils_path} \")\n",
    "\n",
    "print( f\" In {__name__} we have This_module_path={This_module_path} \" )\n",
    "print( f\" In {__name__} we have workdir_={workdir_} \" )\n",
    "########################################\n",
    "sys.path.append(workdir_ + 'myPythonTools/GenlTools/')\n",
    "sys.path.append(workdir_ + 'myPythonTools/Utils/')\n",
    "#sys.path.append(workdir_ + 'PyRegridding/Regridder/')\n",
    "sys.path.append(workdir_ + 'PyRegridding/Utils/')\n",
    "sys.path.append(workdir_ + 'myPythonTools/Plotting/')\n",
    "\n",
    "# Own local packages\n",
    "import AveragingUtils as Av\n",
    "#import VertRegridFlexLL as Vrg  # This is toxic for some reason\n",
    "import PlotUtil as Pu\n",
    "import utils as uti\n",
    "import validation_data as Val\n",
    "import var_A_x_B as vAB\n",
    "import MakePressures as MkP\n",
    "import GridUtils as GrU\n",
    "import LatLonMaps as LL\n",
    "\n",
    "# The usual\n",
    "from datetime import date\n",
    "import numpy as np\n",
    "import xarray as xr\n",
    "import matplotlib.pyplot as plt\n",
    "import matplotlib.tri as tri\n",
    "\n",
    "# Cartopy for pretty maps\n",
    "import cartopy\n",
    "import cartopy.crs as ccrs\n",
    "import cartopy.feature as cfeature\n",
    "\n",
    "# Some other useful packages \n",
    "import importlib\n",
    "import copy\n",
    "import time\n",
    "import cftime\n",
    "\n",
    "importlib.reload( LL )\n",
    "importlib.reload( uti )\n",
    "importlib.reload( Pu )\n",
    "importlib.reload(Av)\n",
    "importlib.reload(Val)\n",
    "importlib.reload(vAB)\n",
    "importlib.reload(MkP)\n"
   ]
  },
  {
   "cell_type": "code",
   "execution_count": null,
   "id": "09724bad-f41a-4910-85e6-9971165f620d",
   "metadata": {},
   "outputs": [],
   "source": [
    "\n",
    "\n",
    "A = uti.MakeDict4Exp( exp='fmthist_MM_x21_2' , user='juliob', subd='hist' , hsPat='cam.h0' , ymdPat='*' ,verbose=True, open_dataset=True )\n",
    "B = uti.MakeDict4Exp( exp='fmthist_MM_x21_2' , user='juliob', subd='regridded' , hsPat='cam.h0' , ymdPat='*' ,verbose=True, open_dataset=True )\n",
    "\n",
    "#X1 = xr.open_mfdataset( path_X ,data_vars='different', coords='different' )\n"
   ]
  },
  {
   "cell_type": "code",
   "execution_count": null,
   "id": "32b25c4c-3fd4-4fe3-8572-55d2f8c319ba",
   "metadata": {},
   "outputs": [],
   "source": [
    "A.X['PRECT'] = A.X['PRECC'] + A.X['PRECL']\n",
    "B.X['PRECT'] = B.X['PRECC'] + B.X['PRECL']\n"
   ]
  },
  {
   "cell_type": "code",
   "execution_count": null,
   "id": "ab67c40c-2bef-4d4d-9011-40a93e55d52d",
   "metadata": {},
   "outputs": [],
   "source": [
    "\n",
    "fld='PRECT'\n",
    "season='jja'\n",
    "#UUc_s,years_c,months_c = Av.Seasonal( ds=Dc, season=season , fld='U',return_time=True)\n",
    "aa_s,years_x,months_x = Av.Seasonal( ds=A.X , season=season , fld=fld ,return_time=True)\n",
    "bb_s,years_x,months_x = Av.Seasonal( ds=B.X , season=season , fld=fld ,return_time=True)\n"
   ]
  },
  {
   "cell_type": "code",
   "execution_count": null,
   "id": "f191e829-9a5c-4996-ae0c-3602d5274c76",
   "metadata": {},
   "outputs": [],
   "source": [
    "aa_s.shape"
   ]
  },
  {
   "cell_type": "code",
   "execution_count": null,
   "id": "eb2b020d-2d78-4e6e-b6f8-b920de5cf7f1",
   "metadata": {},
   "outputs": [],
   "source": [
    "cc_s,plat,plon = LL.ScripRegrid( fields=[  aa_s ] , Src='ne30pg3', Dst='fv1x1',RegridMethod='CONSERVE' )"
   ]
  },
  {
   "cell_type": "code",
   "execution_count": null,
   "id": "fd8e3171-771a-498a-8abf-cc5f7f34e272",
   "metadata": {},
   "outputs": [],
   "source": [
    "flds = ['p','v','o']\n"
   ]
  },
  {
   "cell_type": "code",
   "execution_count": null,
   "id": "a606aa0b-ac25-410d-9c69-cf4cd2e9da57",
   "metadata": {},
   "outputs": [],
   "source": [
    "\n",
    "clev=np.linspace( 0,20, num=21 )\n",
    "scale=1000.*86400.\n",
    "fig = plt.figure(figsize=(25, 8))\n",
    "nx,ny=3,1\n",
    "\n",
    "Axes = Pu.axes_def(n=1,nxplo=nx,nyplo=ny ) \n",
    "ax1 = fig.add_axes( Axes )\n",
    "co1=ax1.tricontourf(A.X.lon,A.X.lat, scale*aa_s , levels=clev  )\n",
    "cbar = plt.colorbar(co1, ax=ax1, shrink=.6)\n",
    "ax1.set_title(f\"{A.exp}/{A.subd} {fld} {season.upper()} {years_x[0]}-{years_x[-1]}\" )\n",
    "\n",
    "Axes = Pu.axes_def(n=2,nxplo=nx,nyplo=ny ) \n",
    "ax1 = fig.add_axes( Axes )\n",
    "co1=ax1.contourf(B.X.lon,B.X.lat, scale*bb_s , levels=clev  )\n",
    "cbar = plt.colorbar(co1, ax=ax1, shrink=.6)\n",
    "ax1.set_title(f\"{B.exp}/{B.subd} {fld} {season.upper()} {years_x[0]}-{years_x[-1]}\" )\n",
    "\n",
    "Axes = Pu.axes_def(n=3,nxplo=nx,nyplo=ny ) \n",
    "ax1 = fig.add_axes( Axes )\n",
    "co1=ax1.contourf(plon, plat, scale*cc_s[0] , levels=clev  )\n",
    "cbar = plt.colorbar(co1, ax=ax1, shrink=.6)\n",
    "ax1.set_title(f\"{A.exp} {fld} REGRIDDED HERE {season.upper()} {years_x[0]}-{years_x[-1]}\" )\n",
    "\n"
   ]
  },
  {
   "cell_type": "code",
   "execution_count": null,
   "id": "5374c9c7-e273-4f18-9d74-902efb0eaacd",
   "metadata": {},
   "outputs": [],
   "source": [
    "\n",
    "fields=[ scale*bb_s , scale*cc_s[0]  ]\n",
    "lons=[B.X.lon,plon]\n",
    "lats=[B.X.lat,plat,plat,plat] \n",
    "cmaps = ['terrain_r','terrain_r']\n",
    "clevs=[clev,clev]\n",
    "\n",
    "LL.Maps( fields=fields ,lons=lons ,lats=lats ,clevs=clevs,cmaps=cmaps )"
   ]
  },
  {
   "cell_type": "code",
   "execution_count": null,
   "id": "1c6e20d9-6186-4d86-b8c2-f1c37ad8fd8f",
   "metadata": {},
   "outputs": [],
   "source": []
  }
 ],
 "metadata": {
  "kernelspec": {
   "display_name": "NPL 2023b",
   "language": "python",
   "name": "npl-2023b"
  },
  "language_info": {
   "codemirror_mode": {
    "name": "ipython",
    "version": 3
   },
   "file_extension": ".py",
   "mimetype": "text/x-python",
   "name": "python",
   "nbconvert_exporter": "python",
   "pygments_lexer": "ipython3",
   "version": "3.10.12"
  }
 },
 "nbformat": 4,
 "nbformat_minor": 5
}
