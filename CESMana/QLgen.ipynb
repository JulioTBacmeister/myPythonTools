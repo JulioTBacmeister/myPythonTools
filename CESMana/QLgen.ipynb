{
 "cells": [
  {
   "cell_type": "code",
   "execution_count": null,
   "id": "abda101d-5eee-4761-b122-27066e2274d0",
   "metadata": {},
   "outputs": [],
   "source": [
    "#workdir_ = '/glade/work/juliob/'\n",
    "import sys\n",
    "#######################################\n",
    "# Leave this for now. But it should change to better\n",
    "# method as here:\n",
    "import os\n",
    "This_module_path = os.getcwd()  #os.path.dirname(os.path.abspath(__file__))\n",
    "workdir_ = os.path.join(This_module_path, '../../' )\n",
    "# sys.path.append(utils_path)\n",
    "# print( f\" a path added in {__name__} {utils_path} \")\n",
    "\n",
    "print( f\" In {__name__} we have This_module_path={This_module_path} \" )\n",
    "print( f\" In {__name__} we have workdir_={workdir_} \" )\n",
    "########################################\n",
    "sys.path.append(workdir_ + 'myPythonTools/GenlTools/')\n",
    "sys.path.append(workdir_ + 'myPythonTools/Utils/')\n",
    "#sys.path.append(workdir_ + 'PyRegridding/Regridder/')\n",
    "sys.path.append(workdir_ + 'PyRegridding/Utils/')\n",
    "sys.path.append(workdir_ + 'myPythonTools/Plotting/')\n",
    "\n",
    "# Own local packages\n",
    "import AveragingUtils as Av\n",
    "#import VertRegridFlexLL as Vrg  # This is toxic for some reason\n",
    "import PlotUtil as Pu\n",
    "import utils as uti\n",
    "import validation_data as Val\n",
    "import var_A_x_B as vAB\n",
    "import MakePressures as MkP\n",
    "import GridUtils as GrU\n",
    "import LatLonMaps as LL\n",
    "\n",
    "# The usual\n",
    "from datetime import date\n",
    "import numpy as np\n",
    "import xarray as xr\n",
    "import matplotlib.pyplot as plt\n",
    "import matplotlib.tri as tri\n",
    "\n",
    "# Cartopy for pretty maps\n",
    "import cartopy\n",
    "import cartopy.crs as ccrs\n",
    "import cartopy.feature as cfeature\n",
    "\n",
    "# Some other useful packages \n",
    "import importlib\n",
    "import copy\n",
    "import time\n",
    "import cftime\n",
    "\n",
    "importlib.reload( LL )\n",
    "importlib.reload( uti )\n",
    "importlib.reload( Pu )\n",
    "importlib.reload(Av)\n",
    "importlib.reload(Val)\n",
    "importlib.reload(vAB)\n",
    "importlib.reload(MkP)\n"
   ]
  },
  {
   "cell_type": "code",
   "execution_count": null,
   "id": "2a6103f5-0c8b-493d-bc6e-e5e7a607d007",
   "metadata": {},
   "outputs": [],
   "source": [
    "import yaml\n",
    "#from box import Box\n",
    "\n",
    "\n",
    "with open('configure_plots.yaml', 'r') as file:\n",
    "    cfg = yaml.safe_load(file)\n",
    "print(cfg['plot']['field'])"
   ]
  },
  {
   "cell_type": "code",
   "execution_count": null,
   "id": "4b385a64-1f76-4593-8620-d8397db675bb",
   "metadata": {},
   "outputs": [],
   "source": [
    "#import uxarray as uxr"
   ]
  },
  {
   "cell_type": "code",
   "execution_count": null,
   "id": "abfa3091-7d2a-406d-82ba-cf1855aacb98",
   "metadata": {},
   "outputs": [],
   "source": [
    "#######################################\n",
    "x_ ='A'\n",
    "A = uti.MakeDict4Exp( exp=cfg[x_]['name'],\n",
    "                     user=cfg[x_]['user'],\n",
    "                     subd=cfg[x_]['grid'] , \n",
    "                     hsPat=   cfg[x_]['hsPat'],\n",
    "                     ymdPat= cfg[x_]['ymdPat'],\n",
    "                     verbose=True, open_dataset=True )\n"
   ]
  },
  {
   "cell_type": "code",
   "execution_count": null,
   "id": "e0c3b7f3-f8c0-493f-9464-849009a4cb31",
   "metadata": {},
   "outputs": [],
   "source": [
    "A.X"
   ]
  },
  {
   "cell_type": "code",
   "execution_count": null,
   "id": "16642457-4691-4f04-8ccc-d46ae5e1b077",
   "metadata": {},
   "outputs": [],
   "source": [
    "Topo=xr.open_dataset( '/glade/campaign/cesm/cesmdata/inputdata/atm/cam/topo/se/ne30pg3_gmted2010_modis_bedmachine_nc3000_Laplace0100_20230105.nc')\n",
    "sgh = Topo.SGH.values\n",
    "plt.tricontourf( Topo.lon,Topo.lat,sgh)\n",
    "plt.colorbar()"
   ]
  },
  {
   "cell_type": "code",
   "execution_count": null,
   "id": "b33699cd-f00e-46fa-a1a2-c6addcd46bfc",
   "metadata": {},
   "outputs": [],
   "source": [
    "#######################################\n",
    "x_ ='A'\n",
    "A = uti.MakeDict4Exp( exp=cfg[x_]['name'],\n",
    "                     user=cfg[x_]['user'],\n",
    "                     subd=cfg[x_]['grid'] , \n",
    "                     hsPat=   cfg[x_]['hsPat'],\n",
    "                     ymdPat= cfg[x_]['ymdPat'],\n",
    "                     verbose=True, open_dataset=True )\n",
    "\n",
    "x_='B'\n",
    "B = uti.MakeDict4Exp( exp=cfg[x_]['name'],\n",
    "                     user=cfg[x_]['user'],\n",
    "                     subd=cfg[x_]['grid'] , \n",
    "                     hsPat=   cfg[x_]['hsPat'],\n",
    "                     ymdPat= cfg[x_]['ymdPat'],\n",
    "                     verbose=True, open_dataset=True )\n",
    "\n",
    "#X1 = xr.open_mfdataset( path_X ,data_vars='different', coords='different' )\n"
   ]
  },
  {
   "cell_type": "code",
   "execution_count": null,
   "id": "77d11ab5-2540-4096-a184-5483c204cd9f",
   "metadata": {},
   "outputs": [],
   "source": [
    "#######################################\n",
    "x_ ='A'\n",
    "C = uti.MakeDict4Exp( exp=cfg[x_]['name'],\n",
    "                     user=cfg[x_]['user'],\n",
    "                     subd='hist',  #cfg[x_]['grid'] , \n",
    "                     hsPat=   cfg[x_]['hsPat'],\n",
    "                     ymdPat= cfg[x_]['ymdPat'],\n",
    "                     verbose=True, open_dataset=True )\n",
    "\n",
    "x_='B'\n"
   ]
  },
  {
   "cell_type": "code",
   "execution_count": null,
   "id": "2b4f3ca1-6112-43c1-88d0-679af7297341",
   "metadata": {},
   "outputs": [],
   "source": [
    "\n",
    "uti.trim_to_year( A , nyr_max=1000 )\n",
    "uti.trim_to_year( B , nyr_max=1000 )"
   ]
  },
  {
   "cell_type": "code",
   "execution_count": null,
   "id": "032e5caf-fcd8-47ad-b71b-04b138b1a2f2",
   "metadata": {},
   "outputs": [],
   "source": [
    "print( np.sum(C.X.area.values) )\n",
    "print( 4*np.pi )"
   ]
  },
  {
   "cell_type": "code",
   "execution_count": null,
   "id": "ce27045f-4cfe-420a-887c-7a533e310d71",
   "metadata": {},
   "outputs": [],
   "source": [
    "\n",
    "print(  np.sum( B.X.SWCF.values[0,:]*B.X.area.values) /   np.sum( B.X.area.values) )\n",
    "print(  np.sum( A.X.SWCF.values[0,:]*A.X.area.values) /   np.sum( A.X.area.values) )\n",
    "print(  np.sum( C.X.SWCF.values[0,:]*C.X.area.values) /   np.sum( C.X.area.values) )\n",
    "\n"
   ]
  },
  {
   "cell_type": "code",
   "execution_count": null,
   "id": "ae65c8b7-ffb5-4c91-b6d3-683c30fddd10",
   "metadata": {},
   "outputs": [],
   "source": [
    "plt.contourf( A.X.area )"
   ]
  },
  {
   "cell_type": "code",
   "execution_count": null,
   "id": "32b25c4c-3fd4-4fe3-8572-55d2f8c319ba",
   "metadata": {},
   "outputs": [],
   "source": [
    "A.X['PRECT'] = ( A.X['PRECC'] + A.X['PRECL'] )* 1000.* 86_400.\n",
    "B.X['PRECT'] = ( B.X['PRECC'] + B.X['PRECL'] )* 1000.* 86_400.\n"
   ]
  },
  {
   "cell_type": "code",
   "execution_count": null,
   "id": "9e3f4541-745c-4602-92cf-9cddfb8b38a3",
   "metadata": {},
   "outputs": [],
   "source": [
    "fld=cfg['plot']['field']\n",
    "season=cfg['plot']['season']\n",
    "print( fld , season )"
   ]
  },
  {
   "cell_type": "code",
   "execution_count": null,
   "id": "11b06b6d-48f4-4a50-b42b-941e72f0efcc",
   "metadata": {},
   "outputs": [],
   "source": [
    "#UUc_s,years_c,months_c = Av.Seasonal( ds=Dc, season=season , fld='U',return_time=True)\n",
    "aa_s,years_a,months_a = Av.Seasonal( ds=A.X , season=season , fld=fld ,return_time=True)\n",
    "bb_s,years_b,months_b = Av.Seasonal( ds=B.X , season=season , fld=fld ,return_time=True)\n",
    "\n",
    "\"\"\"\n",
    "fld='OMEGA'\n",
    "oaa_s,years_x,months_x = Av.Seasonal( ds=A.X , season=season , fld=fld ,return_time=True)\n",
    "obb_s,years_x,months_x = Av.Seasonal( ds=B.X , season=season , fld=fld ,return_time=True)\n",
    "\n",
    "fld='U'\n",
    "uaa_s,years_x,months_x = Av.Seasonal( ds=A.X , season=season , fld=fld ,return_time=True)\n",
    "ubb_s,years_x,months_x = Av.Seasonal( ds=B.X , season=season , fld=fld ,return_time=True)\n",
    "\"\"\"\n",
    "#aa_s = aa_s - oaa_s * uaa_s\n",
    "#bb_s = bb_s - obb_s * ubb_s"
   ]
  },
  {
   "cell_type": "code",
   "execution_count": null,
   "id": "a0f387e6-2820-4ebf-8dcb-4074be088567",
   "metadata": {},
   "outputs": [],
   "source": [
    "clev=[40_000,50_000,55_000,80_000,90_000,100_000]\n",
    "\n",
    "plt.contourf( aa_s ,levels=clev,cmap='gist_ncar')\n",
    "print( np.min(aa_s))\n",
    "plt.colorbar()"
   ]
  },
  {
   "cell_type": "code",
   "execution_count": null,
   "id": "8875c308-c8aa-443c-a9a7-6f5c076eb9d8",
   "metadata": {},
   "outputs": [],
   "source": [
    "print(  np.sum( aa_s*B.X.area.values) /   np.sum( B.X.area.values) )\n",
    "print(  np.sum( bb_s*B.X.area.values) /   np.sum( B.X.area.values) )\n"
   ]
  },
  {
   "cell_type": "code",
   "execution_count": null,
   "id": "7afd9eaf-154d-41b5-99b0-e2087b6ac5d1",
   "metadata": {},
   "outputs": [],
   "source": [
    "####\n",
    "# Validation\n",
    "####\n",
    "mgrid=False\n",
    "\n",
    "Aval = Val.data(fld=fld,season=season,mgrid=mgrid,zlev=True ) #, Years='2000' )\n",
    "vv_s , zlev_v,lat_v,lon_v = Aval['aa'], Aval['lev'], Aval['lat'], Aval['lon']\n"
   ]
  },
  {
   "cell_type": "code",
   "execution_count": null,
   "id": "ac8c1812-e75e-4fe2-95c1-507fca627f27",
   "metadata": {},
   "outputs": [],
   "source": [
    "titles = [ LL.titleGen( fld=fld,exp=A.exp,season=season,years=years_a) , \n",
    "           LL.titleGen( fld=fld,exp=B.exp,season=season,years=years_b) , \n",
    "           LL.titleGen( fld=fld,exp='Diff',season=season,years=['xx']) , \n",
    "         ]\n",
    "#         LL.titleGen( fld=r'$\\nabla^2 T_s$',exp='POP',season=season,years=years_a) , \n",
    "#         LL.titleGen( fld=r'$\\nabla^2 T_s$',exp='MOM',season=season,years=years_b) , ]\n"
   ]
  },
  {
   "cell_type": "code",
   "execution_count": null,
   "id": "65a66c6d-0767-406a-820b-9a14c7b5c7d5",
   "metadata": {},
   "outputs": [],
   "source": [
    "diff_s = bb_s - aa_s \n",
    "#clev= np.linspace( 0,200,num=21 )#np.linspace( -180,20,num=21 )\n",
    "clev= np.linspace( -100,100,num=21 )\n",
    "#clev= np.linspace( 0,20,num=21 )\n",
    "dlev= np.linspace( -80,80,num=17 )\n",
    "scale=1. #* 1000. * 86_400.\n",
    "klev=40\n",
    "#print( zlev[klev].values)\n",
    "#fields=[ scale*aa_s[klev,:,:] ,scale*bb_s[klev,:,:] , scale*diff_s[klev,:,:],scale*aa_s[klev,:,:]  ]\n",
    "fields=[ scale*aa_s[:,:] ,scale*bb_s[:,:] , scale*diff_s[:,:]  ]#,scale*aa_s[:,:]  ]\n",
    "lons=[A.X.lon,B.X.lon,B.X.lon,A.X.lon,B.X.lon,B.X.lon,]\n",
    "lats=[A.X.lat,B.X.lat,B.X.lat,A.X.lat,B.X.lat,B.X.lat, ] \n",
    "cmaps = ['gist_ncar','gist_ncar','bwr', ] #\n",
    "cmaps = ['bwr','bwr','bwr']\n",
    "clevs=[clev,clev,dlev   ] # ,clev,clev,clev/2]\n",
    "\n",
    "LL.Maps( fields=fields ,lons=lons ,lats=lats ,clevs=clevs,cmaps=cmaps , titles=titles )"
   ]
  },
  {
   "cell_type": "code",
   "execution_count": null,
   "id": "3e630578-343e-4dab-9fc6-d55c2f1e85ef",
   "metadata": {},
   "outputs": [],
   "source": [
    "titles = [ LL.titleGen( fld=fld,exp=A.exp,season=season,years=years_a) , \n",
    "           LL.titleGen( fld=fld,exp=B.exp,season=season,years=years_b) , \n",
    "           LL.titleGen( fld=fld,exp=Aval['data_source'],season=season,years=['xx']) , \n",
    "         ]\n",
    "#         LL.titleGen( fld=r'$\\nabla^2 T_s$',exp='POP',season=season,years=years_a) , \n",
    "#         LL.titleGen( fld=r'$\\nabla^2 T_s$',exp='MOM',season=season,years=years_b) , ]\n",
    "\n",
    "\n",
    "diff_s = bb_s - aa_s \n",
    "#clev= np.linspace( 0,200,num=21 )#np.linspace( -180,20,num=21 )\n",
    "clev= np.linspace( -180,20,num=21 )\n",
    "#clev= np.linspace( 0,20,num=21 )\n",
    "dlev= np.linspace( -80,80,num=17 )\n",
    "scale=1. #* 1000. * 86_400.\n",
    "klev=40\n",
    "#print( zlev[klev].values)\n",
    "#fields=[ scale*aa_s[klev,:,:] ,scale*bb_s[klev,:,:] , scale*diff_s[klev,:,:],scale*aa_s[klev,:,:]  ]\n",
    "fields=[ scale*aa_s[:,:] ,scale*bb_s[:,:] , vv_s[:,:]  ]#,scale*aa_s[:,:]  ]\n",
    "lons=[A.X.lon,B.X.lon,   lon_v,]\n",
    "lats=[A.X.lat,B.X.lat,   lat_v, ] \n",
    "cmaps = ['gist_ncar','gist_ncar','gist_ncar','bwr', ] #'bwr','bwr','bwr']\n",
    "clevs=[clev,clev,clev   ] # ,clev,clev,clev/2]\n",
    "\n",
    "LL.Maps( fields=fields ,lons=lons ,lats=lats ,clevs=clevs,cmaps=cmaps , titles=titles )"
   ]
  },
  {
   "cell_type": "code",
   "execution_count": null,
   "id": "1e83fdc6-dabf-456f-998d-2f14ea72087a",
   "metadata": {},
   "outputs": [],
   "source": [
    "B.X.lev[46]\n"
   ]
  },
  {
   "cell_type": "code",
   "execution_count": null,
   "id": "de25295d-1275-493f-a2c4-30eb30a2cfa6",
   "metadata": {},
   "outputs": [],
   "source": []
  }
 ],
 "metadata": {
  "kernelspec": {
   "display_name": "NPL 2023b",
   "language": "python",
   "name": "npl-2023b"
  },
  "language_info": {
   "codemirror_mode": {
    "name": "ipython",
    "version": 3
   },
   "file_extension": ".py",
   "mimetype": "text/x-python",
   "name": "python",
   "nbconvert_exporter": "python",
   "pygments_lexer": "ipython3",
   "version": "3.10.12"
  }
 },
 "nbformat": 4,
 "nbformat_minor": 5
}
