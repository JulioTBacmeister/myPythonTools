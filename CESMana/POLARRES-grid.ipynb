{
 "cells": [
  {
   "cell_type": "code",
   "execution_count": null,
   "id": "b1d1b7ce-5f8d-4cba-820a-cebb16b11aff",
   "metadata": {},
   "outputs": [],
   "source": [
    "workdir_ = '/glade/work/juliob/'\n",
    "import sys\n",
    "#######################################\n",
    "# Leave this for now. But it should change to better\n",
    "# method as here:\n",
    "# import os\n",
    "# module_a_dir = os.path.dirname(os.path.abspath(__file__))\n",
    "# utils_path = os.path.join(module_a_dir, '..', 'Utils')\n",
    "# sys.path.append(utils_path)\n",
    "# print( f\" a path added in {__name__} {utils_path} \")\n",
    "########################################\n",
    "sys.path.append(workdir_ + 'myPythonTools/GenlTools/')\n",
    "sys.path.append(workdir_ + 'myPythonTools/Utils/')\n",
    "#sys.path.append(workdir_ + 'PyRegridding/Regridder/')\n",
    "sys.path.append(workdir_ + 'PyRegridding/Utils/')\n",
    "\n",
    "# Own local packages\n",
    "import AveragingUtils as Av\n",
    "#import VertRegridFlexLL as Vrg  # This is toxic for some reason\n",
    "import PlotUtil as Pu\n",
    "import validation_data as Val\n",
    "import var_A_x_B as vAB\n",
    "import MakePressures as MkP\n",
    "import GridUtils as GrU\n",
    "\n",
    "# The usual\n",
    "from datetime import date\n",
    "import numpy as np\n",
    "import xarray as xr\n",
    "import matplotlib.pyplot as plt\n",
    "import matplotlib.tri as tri\n",
    "\n",
    "# Cartopy for pretty maps\n",
    "import cartopy\n",
    "import cartopy.crs as ccrs\n",
    "import cartopy.feature as cfeature\n",
    "\n",
    "# Some other useful packages \n",
    "import importlib\n",
    "import copy\n",
    "import time\n",
    "import cftime\n",
    "\n",
    "importlib.reload( Pu )\n",
    "importlib.reload(Av)\n",
    "importlib.reload(Val)\n",
    "importlib.reload(vAB)\n",
    "importlib.reload(MkP)\n"
   ]
  },
  {
   "cell_type": "code",
   "execution_count": null,
   "id": "077f614e-3521-41d9-bd25-1dab8a280554",
   "metadata": {},
   "outputs": [],
   "source": [
    "\n",
    "subd='hist'\n",
    "\n",
    "\n",
    "exp_X,user_X = 'POLARRES_FMT_x01_C' , 'juliob'\n",
    "path_X = '/glade/derecho/scratch/juliob/archive/'+exp_X+'/atm/'+ subd +'/'+exp_X+'.cam.h0.1994-01.nc' \n",
    "\n",
    "\n",
    "###\n",
    "Dx = xr.open_mfdataset( path_X ,data_vars='different', coords='different' )"
   ]
  },
  {
   "cell_type": "code",
   "execution_count": null,
   "id": "2fdc00ea-c282-4e0e-86d1-9a24210fa518",
   "metadata": {},
   "outputs": [],
   "source": [
    "\n",
    "\n",
    "topo=Dx.PHIS.values[0,:]\n",
    "lon=Dx.lon.values\n",
    "lat=Dx.lat.values\n",
    "\n",
    "print(np.shape(topo))\n",
    "print(np.shape(lat))\n",
    "print(np.shape(lon))\n",
    "\n"
   ]
  },
  {
   "cell_type": "code",
   "execution_count": null,
   "id": "c522e0d8-864d-4f91-a9f9-b4a3f02be764",
   "metadata": {},
   "outputs": [],
   "source": [
    "\n",
    "fig=plt.figure( figsize=(21,15))\n",
    "levx=np.array([-100,-10,-5,-1,0,1,5,10,100,200,300,400,500,750,1000,1500,2000,3000,4000,5000,6000])\n",
    "levx=np.linspace(-1000,5000,num=21)\n",
    "plt.tricontourf( lon,lat, topo/9.8 ,levels=levx, cmap='terrain')\n",
    "plt.scatter(lon[np.arange(0,186193,step=9)] ,lat[np.arange(0,186193,step=9)] , marker='.',s=2,c='black')"
   ]
  },
  {
   "cell_type": "code",
   "execution_count": null,
   "id": "50618b5e-ee8c-4b28-ad5a-77f393e8c120",
   "metadata": {},
   "outputs": [],
   "source": [
    "def sixpanel(aa,clev=21,alpha=1.0, goofy=False, cmap='viridis' ):\n",
    "    fig=plt.figure( figsize=(21,15))\n",
    "    gs = gsp.GridSpec( 3, 4, figure=fig ,wspace=0.0, hspace=0.0 )\n",
    "    \n",
    "    ax0=fig.add_subplot(gs[1, 0])\n",
    "    ax1=fig.add_subplot(gs[1, 1])\n",
    "    ax2=fig.add_subplot(gs[1, 2])\n",
    "    ax3=fig.add_subplot(gs[1, 3])\n",
    "    if (goofy==False):\n",
    "        ax4=fig.add_subplot(gs[2, 0])\n",
    "    else:\n",
    "        ax4=fig.add_subplot(gs[2, 3])\n",
    "    ax5=fig.add_subplot(gs[0, 0])\n",
    "    for i, ax in enumerate(fig.axes):\n",
    "        if ( i==4 and goofy==True ):\n",
    "            aax = np.flip( np.transpose( aa[i,:,:] ) , axis=0 )\n",
    "        else:\n",
    "            aax = aa[ i, :,:]\n",
    "        ax.contourf(  aax , levels=clev , alpha=alpha , cmap=cmap )\n"
   ]
  }
 ],
 "metadata": {
  "kernelspec": {
   "display_name": "NPL 2023b",
   "language": "python",
   "name": "npl-2023b"
  },
  "language_info": {
   "codemirror_mode": {
    "name": "ipython",
    "version": 3
   },
   "file_extension": ".py",
   "mimetype": "text/x-python",
   "name": "python",
   "nbconvert_exporter": "python",
   "pygments_lexer": "ipython3",
   "version": "3.10.12"
  }
 },
 "nbformat": 4,
 "nbformat_minor": 5
}
