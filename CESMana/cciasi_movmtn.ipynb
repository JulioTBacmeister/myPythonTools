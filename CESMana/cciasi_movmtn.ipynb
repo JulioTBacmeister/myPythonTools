{
 "cells": [
  {
   "cell_type": "code",
   "execution_count": null,
   "id": "d65063bc-3f7e-4bb3-aac9-7c4084107d03",
   "metadata": {},
   "outputs": [],
   "source": [
    "#workdir_ = '/glade/work/juliob/'\n",
    "import sys\n",
    "#######################################\n",
    "# Leave this for now. But it should change to better\n",
    "# method as here:\n",
    "import os\n",
    "This_module_path = os.getcwd()  #os.path.dirname(os.path.abspath(__file__))\n",
    "workdir_ = os.path.join(This_module_path, '../../' )\n",
    "# sys.path.append(utils_path)\n",
    "# print( f\" a path added in {__name__} {utils_path} \")\n",
    "\n",
    "print( f\" In {__name__} we have This_module_path={This_module_path} \" )\n",
    "print( f\" In {__name__} we have workdir_={workdir_} \" )\n",
    "########################################\n",
    "sys.path.append(workdir_ + 'myPythonTools/GenlTools/')\n",
    "sys.path.append(workdir_ + 'myPythonTools/Utils/')\n",
    "#sys.path.append(workdir_ + 'PyRegridding/Regridder/')\n",
    "sys.path.append(workdir_ + 'PyRegridding/Utils/')\n",
    "sys.path.append(workdir_ + 'myPythonTools/Plotting/')\n",
    "\n",
    "# Own local packages\n",
    "import AveragingUtils as Av\n",
    "#import VertRegridFlexLL as Vrg  # This is toxic for some reason\n",
    "import PlotUtil as Pu\n",
    "import utils as uti\n",
    "import validation_data as Val\n",
    "import var_A_x_B as vAB\n",
    "import MakePressures as MkP\n",
    "import GridUtils as GrU\n",
    "import LatLonMaps as LL\n",
    "\n",
    "# The usual\n",
    "from datetime import date\n",
    "import numpy as np\n",
    "import xarray as xr\n",
    "import matplotlib.pyplot as plt\n",
    "import matplotlib.tri as tri\n",
    "\n",
    "# Cartopy for pretty maps\n",
    "import cartopy\n",
    "import cartopy.crs as ccrs\n",
    "import cartopy.feature as cfeature\n",
    "\n",
    "# Some other useful packages \n",
    "import importlib\n",
    "import copy\n",
    "import time\n",
    "import cftime\n",
    "\n",
    "importlib.reload( LL )\n",
    "importlib.reload( uti )\n",
    "importlib.reload( Pu )\n",
    "importlib.reload(Av)\n",
    "importlib.reload(Val)\n",
    "importlib.reload(vAB)\n",
    "importlib.reload(MkP)\n"
   ]
  },
  {
   "cell_type": "code",
   "execution_count": null,
   "id": "fe75c7df-2db8-4639-9414-0e3acafaba8e",
   "metadata": {},
   "outputs": [],
   "source": [
    "D=xr.open_dataset('/glade/work/bramberg/cases/CESM/components/cam/src/physics/cam/mfc0lookup_mm.nc')"
   ]
  },
  {
   "cell_type": "code",
   "execution_count": null,
   "id": "3c442433-a842-4c94-b8fc-2d1981c2c4f4",
   "metadata": {},
   "outputs": [],
   "source": [
    "print( np.shape( D.NEWMF.values ))\n"
   ]
  },
  {
   "cell_type": "code",
   "execution_count": null,
   "id": "c1be71f3-d9e1-4aa1-be7d-f41d4ff5c933",
   "metadata": {},
   "outputs": [],
   "source": [
    "\n",
    "\n",
    "X=xr.open_dataset('/glade/campaign/cgd/amp/juliob/amwg_dev/Concordiasi/cciasi_flux_6h.nc')"
   ]
  },
  {
   "cell_type": "code",
   "execution_count": null,
   "id": "3e25550a-94ca-489b-bd23-259536f493fd",
   "metadata": {},
   "outputs": [],
   "source": [
    "X.time"
   ]
  },
  {
   "cell_type": "code",
   "execution_count": null,
   "id": "6d76445a-f59e-4f7c-b283-fc181c6d8be4",
   "metadata": {},
   "outputs": [],
   "source": [
    "print(X.time.values)"
   ]
  },
  {
   "cell_type": "code",
   "execution_count": null,
   "id": "eca7832b-4556-4402-a7d7-650daaa51612",
   "metadata": {},
   "outputs": [],
   "source": [
    "\n",
    "#plt.plot( X.absolute_momentum_flux.values[300,:,:].flatten() )\n",
    "plt.contourf( X.number_of_observations.values[300,:,:] )\n",
    "plt.colorbar()\n"
   ]
  },
  {
   "cell_type": "code",
   "execution_count": null,
   "id": "d2dae78d-00eb-42ef-8919-142e5f3259a5",
   "metadata": {},
   "outputs": [],
   "source": [
    "from datetime import datetime, timedelta\n",
    "\n",
    "def day_of_year_to_date(year, day_of_year):\n",
    "    # Create a date object for January 1st of the given year\n",
    "    jan_first = datetime(year, 1, 1)\n",
    "    # Add the day_of_year to this date (subtract 1 because day_of_year is 1-based)\n",
    "    target_date = jan_first + timedelta(days=day_of_year - 1)\n",
    "    return target_date\n"
   ]
  },
  {
   "cell_type": "code",
   "execution_count": null,
   "id": "516060d5-3701-425f-b26b-041c53123806",
   "metadata": {},
   "outputs": [],
   "source": [
    "poop=day_of_year_to_date(2010, X.time[600].values)\n",
    "print(poop.strftime(\"%Y-%m-%d:%H\"))"
   ]
  },
  {
   "cell_type": "code",
   "execution_count": null,
   "id": "cc46bc02-19dc-4d14-b618-dce0b5104e3a",
   "metadata": {},
   "outputs": [],
   "source": [
    "\n",
    "amf=X.absolute_momentum_flux.values\n",
    "nob=X.number_of_observations.values\n"
   ]
  },
  {
   "cell_type": "code",
   "execution_count": null,
   "id": "70d01ca9-c883-4aef-af96-f9b3775371b9",
   "metadata": {},
   "outputs": [],
   "source": [
    "amf.shape"
   ]
  },
  {
   "cell_type": "code",
   "execution_count": null,
   "id": "44f28e6e-cc31-40e4-a8fe-efa74dfe712f",
   "metadata": {},
   "outputs": [],
   "source": [
    "plt.plot( nob.flatten(),'.' )\n",
    "plt.ylim(0,10)\n",
    "\n",
    "amf0=np.where( nob>=10 , amf, np.nan )"
   ]
  },
  {
   "cell_type": "code",
   "execution_count": null,
   "id": "5ff26cd5-f077-421e-aba8-14b8d40e90af",
   "metadata": {},
   "outputs": [],
   "source": [
    "plt.contourf( amf0[300,:,:])\n",
    "plt.contour( nob[300,:,:], levels=31, colors='black' )\n",
    "\n",
    "plt.colorbar()"
   ]
  },
  {
   "cell_type": "code",
   "execution_count": null,
   "id": "04ed94e3-0935-43d7-91e0-e5b8306ce1b1",
   "metadata": {},
   "outputs": [],
   "source": []
  }
 ],
 "metadata": {
  "kernelspec": {
   "display_name": "NPL 2023b",
   "language": "python",
   "name": "npl-2023b"
  },
  "language_info": {
   "codemirror_mode": {
    "name": "ipython",
    "version": 3
   },
   "file_extension": ".py",
   "mimetype": "text/x-python",
   "name": "python",
   "nbconvert_exporter": "python",
   "pygments_lexer": "ipython3",
   "version": "3.10.12"
  }
 },
 "nbformat": 4,
 "nbformat_minor": 5
}
