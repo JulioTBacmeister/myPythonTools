{
 "cells": [
  {
   "cell_type": "code",
   "execution_count": null,
   "id": "67d9d154-43f1-402a-972f-ad8803239c5d",
   "metadata": {},
   "outputs": [],
   "source": [
    "#workdir_ = '/glade/work/juliob/'\n",
    "import sys\n",
    "#######################################\n",
    "# Leave this for now. But it should change to better\n",
    "# method as here:\n",
    "import os\n",
    "This_module_path = os.getcwd()  #os.path.dirname(os.path.abspath(__file__))\n",
    "workdir_ = os.path.join(This_module_path, '../../' )\n",
    "# sys.path.append(utils_path)\n",
    "# print( f\" a path added in {__name__} {utils_path} \")\n",
    "\n",
    "print( f\" In {__name__} we have This_module_path={This_module_path} \" )\n",
    "print( f\" In {__name__} we have workdir_={workdir_} \" )\n",
    "########################################\n",
    "sys.path.append(workdir_ + 'myPythonTools/GenlTools/')\n",
    "sys.path.append(workdir_ + 'myPythonTools/Utils/')\n",
    "#sys.path.append(workdir_ + 'PyRegridding/Regridder/')\n",
    "sys.path.append(workdir_ + 'PyRegridding/Utils/')\n",
    "sys.path.append(workdir_ + 'myPythonTools/Plotting/')\n",
    "\n",
    "# Own local packages\n",
    "import AveragingUtils as Av\n",
    "#import VertRegridFlexLL as Vrg  # This is toxic for some reason\n",
    "import PlotUtil as Pu\n",
    "import utils as uti\n",
    "import validation_data as Val\n",
    "import var_A_x_B as vAB\n",
    "import MakePressures as MkP\n",
    "import GridUtils as GrU\n",
    "import LatLonMaps as LL\n",
    "\n",
    "# The usual\n",
    "from datetime import date\n",
    "import numpy as np\n",
    "import xarray as xr\n",
    "import matplotlib.pyplot as plt\n",
    "import matplotlib.tri as tri\n",
    "\n",
    "# Cartopy for pretty maps\n",
    "import cartopy\n",
    "import cartopy.crs as ccrs\n",
    "import cartopy.feature as cfeature\n",
    "\n",
    "# Some other useful packages \n",
    "import importlib\n",
    "import copy\n",
    "import time\n",
    "import cftime\n",
    "\n",
    "importlib.reload( LL )\n",
    "importlib.reload( uti )\n",
    "importlib.reload( Pu )\n",
    "importlib.reload(Av)\n",
    "importlib.reload(Val)\n",
    "importlib.reload(vAB)\n",
    "importlib.reload(MkP)\n"
   ]
  },
  {
   "cell_type": "code",
   "execution_count": null,
   "id": "67a4e373-2b1c-4501-94b9-f655a678fab5",
   "metadata": {},
   "outputs": [],
   "source": [
    "## seem to work\n",
    "\n",
    "fsurdat = '/glade/work/slevis/git/mksurfdata_toolchain/tools/mksurfdata_esmf/surfdata_ne30np4.pg3_SSP5-8.5_78pfts_CMIP6_1850-2100_c230227.nc'\n",
    "#flanduse_timeseries = '/glade/work/slevis/git/mksurfdata_toolchain/tools/mksurfdata_esmf/landuse.timeseries_ne30np4.pg3_SSP5-8.5_78_CMIP6_1850-2100_c230227.nc'\n",
    "#fsurdat = '/glade/campaign/cesm/cesmdata/inputdata/lnd/clm2/surfdata_map/release-clm5.0.30/surfdata_ne120np4.pg3_hist_78pfts_CMIP6_simyr2000_c200427.nc'\n",
    "#fsurdat = '/glade/derecho/scratch/aherring/restart/ctsm5.2.mksurfdata/tools/mksurfdata_esmf/surfdata_ne240pg3_hist_2000_78pfts_c240404.nc'\n",
    "#fsurdat\t= '/glade/derecho/scratch/aherring/restart/ctsm5.2.mksurfdata/tools/mksurfdata_esmf/surfdata_ne240pg3_SSP5-8.5_1850_78pfts_c240329.nc'"
   ]
  },
  {
   "cell_type": "code",
   "execution_count": null,
   "id": "3ae88c68-af20-4b81-af73-e75ae7d7cef1",
   "metadata": {},
   "outputs": [],
   "source": [
    "Sur = xr.open_dataset( fsurdat )"
   ]
  },
  {
   "cell_type": "code",
   "execution_count": null,
   "id": "9a44929e-34db-41cb-924e-2a8ad0bbf45b",
   "metadata": {},
   "outputs": [],
   "source": [
    "Sur"
   ]
  },
  {
   "cell_type": "code",
   "execution_count": null,
   "id": "4675716d-e2ff-4c8a-932b-89127973d4fa",
   "metadata": {},
   "outputs": [],
   "source": [
    "plt.plot( np.sum( Sur.WTLUNIT_ROOF.values, axis=0).flatten())"
   ]
  },
  {
   "cell_type": "code",
   "execution_count": null,
   "id": "33c69f4a-5c5d-47ee-97b6-794e09c57e7f",
   "metadata": {},
   "outputs": [],
   "source": [
    "plt.scatter ( np.arange(3110400) ,Sur.PCT_OCEAN )"
   ]
  },
  {
   "cell_type": "code",
   "execution_count": null,
   "id": "50424f24-b3ed-4d5a-b24f-46c7a4c2abb3",
   "metadata": {},
   "outputs": [],
   "source": [
    "Sur.WTLUNIT_ROOF.values.shape"
   ]
  },
  {
   "cell_type": "code",
   "execution_count": null,
   "id": "10b1f4c5-ffca-492c-8c67-96beec6dfc58",
   "metadata": {},
   "outputs": [],
   "source": []
  }
 ],
 "metadata": {
  "kernelspec": {
   "display_name": "NPL 2023b",
   "language": "python",
   "name": "npl-2023b"
  },
  "language_info": {
   "codemirror_mode": {
    "name": "ipython",
    "version": 3
   },
   "file_extension": ".py",
   "mimetype": "text/x-python",
   "name": "python",
   "nbconvert_exporter": "python",
   "pygments_lexer": "ipython3",
   "version": "3.10.12"
  }
 },
 "nbformat": 4,
 "nbformat_minor": 5
}
