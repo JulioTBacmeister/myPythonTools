{
 "cells": [
  {
   "cell_type": "code",
   "execution_count": 22,
   "id": "1d61ea24-64e9-4f35-a1c9-0ec394031fba",
   "metadata": {},
   "outputs": [],
   "source": [
    "import xarray as xr\n",
    "import numpy as np\n",
    "import pandas as pd\n",
    "import matplotlib.pyplot as plt\n",
    "import multiprocessing as mp\n",
    "import copy\n",
    "#"
   ]
  },
  {
   "cell_type": "code",
   "execution_count": 23,
   "id": "93d169fe-01a5-4997-9190-d04d31c361b2",
   "metadata": {},
   "outputs": [
    {
     "name": "stdout",
     "output_type": "stream",
     "text": [
      "12\n"
     ]
    }
   ],
   "source": [
    "print( mp.cpu_count())"
   ]
  },
  {
   "cell_type": "code",
   "execution_count": 27,
   "id": "7b34c365-2bf4-4de8-b09f-5e9cc8f8096e",
   "metadata": {},
   "outputs": [],
   "source": [
    "def interpolate_zCAM_to_zERA(pmid_zCAM, a_zERA, ps_ERA, start, stop):\n",
    "    \"\"\"\n",
    "    Interpolate a portion of the data from zCAM to zERA.\n",
    "    \"\"\"\n",
    "    for i in range(start, stop):\n",
    "        for c in range(ncol):\n",
    "            zoo = np.where(pmid_zCAM[i, :, c] > ps_ERA[i, c])\n",
    "            lzoo = len(zoo[0])\n",
    "            for z in range(lzoo):\n",
    "                a_zCAMf[i, zoo[0][z], c] = a_zERA[i, nzE-1, c]\n",
    "\n",
    "def interpolate_all_data(pmid_zCAM, a_zERA, ps_ERA, num_workers):\n",
    "    \"\"\"\n",
    "    Interpolate all data from zCAM to zERA in parallel.\n",
    "    \"\"\"\n",
    "    nt, nzE, ncol = np.shape(a_zERA)\n",
    "    nt, nz, ncol = np.shape(a_zCAM)\n",
    "    chunk_size = nt // num_workers\n",
    "    chunks = [(pmid_zCAM, a_zERA, ps_ERA, i*chunk_size, (i+1)*chunk_size) for i in range(num_workers-1)]\n",
    "    chunks.append((pmid_zCAM, a_zERA, ps_ERA, (num_workers-1)*chunk_size, nt))\n",
    "    with multiprocessing.Pool(num_workers) as pool:\n",
    "        pool.starmap(interpolate_zCAM_to_zERA, chunks)\n",
    "\n",
    "        \n",
    "def BottomFill( a_zCAM, a_zERA, pmid_zCAM, ps_ERA):\n",
    "        \n",
    "    a_zCAMf=copy.deepcopy( a_zCAM )\n",
    "    nt,nzE,ncol = np.shape( a_zERA )\n",
    "    nt,nz, ncol = np.shape( a_zCAM )\n",
    "    for i in np.arange( nt ):\n",
    "        for c in np.arange( ncol ):\n",
    "            zoo=np.where( pmid_zCAM[i,:,c] > ps_ERA[i,c] )\n",
    "            lzoo=len( zoo )\n",
    "            for z in np.arange( start=0, stop=lzoo, step=1 ):\n",
    "                a_zCAMf[i,zoo[z],c] = a_zERA[i,nzE-1,c]\n",
    "                \n",
    "    return a_zCAMf"
   ]
  },
  {
   "cell_type": "code",
   "execution_count": 48,
   "id": "dc9c7f3c-a973-4fb7-bdc9-59a0ceffc989",
   "metadata": {},
   "outputs": [
    {
     "name": "stdout",
     "output_type": "stream",
     "text": [
      "(1, 100, 101, 101)\n",
      "(1, 100, 10201)\n"
     ]
    }
   ],
   "source": [
    "# Example usage\n",
    "\n",
    "plev=np.linspace(0,100_000.,num=100)\n",
    "x=np.linspace( -100,100,num=101 )\n",
    "y=np.linspace( -100,100,num=101 )\n",
    "\n",
    "X,Y=np.meshgrid( x, y)\n",
    "R=20.\n",
    "psf=100_000. - 10_000*np.exp( -(X**2+Y**2)/(R**2) ) #.reshape(1,nx*ny)\n",
    "\n",
    "nz=len(plev)\n",
    "ny,nx=np.shape( psf )\n",
    "pmid_zCAM = np.zeros((1, nz,ny,nx) )\n",
    "\n",
    "for ix in np.arange(nx):\n",
    "    for iy in np.arange(ny):\n",
    "        pmid_zCAM[0,:,iy,ix]=plev\n",
    "\n",
    "print(np.shape(pmid_zCAM) )\n",
    "\n",
    "        \n",
    "a_zCAM=pmid_zCAM.reshape(1,nz,ny*nx )\n",
    "a_zERA=pmid_zCAM.reshape(1,nz,ny*nx )\n",
    "pmid_zCAM=pmid_zCAM.reshape(1,nz,ny*nx )\n",
    "\n",
    "psf=psf.reshape( 1, ny*nx )\n",
    "print(np.shape(a_zERA) )\n",
    "\n",
    "#pmid_zCAM = np.random.rand(100, 20, 10)\n",
    "#a_zERA = np.random.rand(100, 30, 10)\n",
    "#ps_ERA = np.random.rand(100, 10)\n",
    "#a_zCAMf = np.zeros((100, 20, 10))"
   ]
  },
  {
   "cell_type": "code",
   "execution_count": 49,
   "id": "a0236460-2b79-4f0b-8e98-372836ec8913",
   "metadata": {},
   "outputs": [],
   "source": [
    "#\n",
    "a_zCAM=BottomFill(  a_zCAM=a_zCAM, a_zERA=a_zERA, pmid_zCAM=pmid_zCAM, ps_ERA=psf )\n",
    "a_zCAM=a_zCAM.reshape(1,nz,ny,nx )\n",
    "a_zERA=a_zERA.reshape(1,nz,ny,nx )\n",
    "pmid_zCAM=pmid_zCAM.reshape(1,nz,ny,nx )\n"
   ]
  },
  {
   "cell_type": "code",
   "execution_count": 50,
   "id": "297ffdcf-d742-4a09-9a33-2d7c1c5bf7bb",
   "metadata": {},
   "outputs": [
    {
     "name": "stdout",
     "output_type": "stream",
     "text": [
      "(1, 100, 101, 101)\n"
     ]
    }
   ],
   "source": [
    "print(np.shape(a_zERA) )"
   ]
  },
  {
   "cell_type": "code",
   "execution_count": 51,
   "id": "ec712306-4c47-4bf8-bb9d-98a9f552bb42",
   "metadata": {},
   "outputs": [
    {
     "data": {
      "text/plain": [
       "[<matplotlib.lines.Line2D at 0x7f9fd4220e50>]"
      ]
     },
     "execution_count": 51,
     "metadata": {},
     "output_type": "execute_result"
    },
    {
     "data": {
      "image/png": "[encoded data removed]",
      "text/plain": [
       "<Figure size 432x288 with 1 Axes>"
      ]
     },
     "metadata": {
      "needs_background": "light"
     },
     "output_type": "display_data"
    }
   ],
   "source": [
    "\n",
    "plt.plot( a_zERA[0,:,50,50],plev)\n",
    "plt.plot( a_zCAM[0,:,50,50],plev)"
   ]
  },
  {
   "cell_type": "code",
   "execution_count": 18,
   "id": "c59a9ebf-07ce-4c9a-9f40-a77483783f14",
   "metadata": {},
   "outputs": [
    {
     "data": {
      "text/plain": [
       "[<matplotlib.lines.Line2D at 0x7f9ff09def70>]"
      ]
     },
     "execution_count": 18,
     "metadata": {},
     "output_type": "execute_result"
    },
    {
     "data": {
      "image/png": "[encoded data removed]",
      "text/plain": [
       "<Figure size 432x288 with 1 Axes>"
      ]
     },
     "metadata": {
      "needs_background": "light"
     },
     "output_type": "display_data"
    }
   ],
   "source": [
    "plt.plot(y,psf[:,50])\n",
    "#plt.contourf(psf,levels=30)\n",
    "#plt.colorbar()"
   ]
  },
  {
   "cell_type": "code",
   "execution_count": 4,
   "id": "b7d16abc-98d0-4a69-a848-56c18a75f61f",
   "metadata": {},
   "outputs": [
    {
     "ename": "NameError",
     "evalue": "name 'a_zCAM' is not defined",
     "output_type": "error",
     "traceback": [
      "\u001b[0;31m---------------------------------------------------------------------------\u001b[0m",
      "\u001b[0;31mNameError\u001b[0m                                 Traceback (most recent call last)",
      "Input \u001b[0;32mIn [4]\u001b[0m, in \u001b[0;36m<cell line: 8>\u001b[0;34m()\u001b[0m\n\u001b[1;32m      5\u001b[0m a_zCAMf \u001b[38;5;241m=\u001b[39m np\u001b[38;5;241m.\u001b[39mzeros((\u001b[38;5;241m100\u001b[39m, \u001b[38;5;241m20\u001b[39m, \u001b[38;5;241m10\u001b[39m))\n\u001b[1;32m      6\u001b[0m num_workers \u001b[38;5;241m=\u001b[39m \u001b[38;5;241m4\u001b[39m\n\u001b[0;32m----> 8\u001b[0m \u001b[43minterpolate_all_data\u001b[49m\u001b[43m(\u001b[49m\u001b[43mpmid_zCAM\u001b[49m\u001b[43m,\u001b[49m\u001b[43m \u001b[49m\u001b[43ma_zERA\u001b[49m\u001b[43m,\u001b[49m\u001b[43m \u001b[49m\u001b[43mps_ERA\u001b[49m\u001b[43m,\u001b[49m\u001b[43m \u001b[49m\u001b[43mnum_workers\u001b[49m\u001b[43m)\u001b[49m\n\u001b[1;32m      9\u001b[0m \u001b[38;5;28mprint\u001b[39m(a_zCAMf)\n",
      "Input \u001b[0;32mIn [3]\u001b[0m, in \u001b[0;36minterpolate_all_data\u001b[0;34m(pmid_zCAM, a_zERA, ps_ERA, num_workers)\u001b[0m\n\u001b[1;32m     13\u001b[0m \u001b[38;5;124;03m\"\"\"\u001b[39;00m\n\u001b[1;32m     14\u001b[0m \u001b[38;5;124;03mInterpolate all data from zCAM to zERA in parallel.\u001b[39;00m\n\u001b[1;32m     15\u001b[0m \u001b[38;5;124;03m\"\"\"\u001b[39;00m\n\u001b[1;32m     16\u001b[0m nt, nzE, ncol \u001b[38;5;241m=\u001b[39m np\u001b[38;5;241m.\u001b[39mshape(a_zERA)\n\u001b[0;32m---> 17\u001b[0m nt, nz, ncol \u001b[38;5;241m=\u001b[39m np\u001b[38;5;241m.\u001b[39mshape(\u001b[43ma_zCAM\u001b[49m)\n\u001b[1;32m     18\u001b[0m chunk_size \u001b[38;5;241m=\u001b[39m nt \u001b[38;5;241m/\u001b[39m\u001b[38;5;241m/\u001b[39m num_workers\n\u001b[1;32m     19\u001b[0m chunks \u001b[38;5;241m=\u001b[39m [(pmid_zCAM, a_zERA, ps_ERA, i\u001b[38;5;241m*\u001b[39mchunk_size, (i\u001b[38;5;241m+\u001b[39m\u001b[38;5;241m1\u001b[39m)\u001b[38;5;241m*\u001b[39mchunk_size) \u001b[38;5;28;01mfor\u001b[39;00m i \u001b[38;5;129;01min\u001b[39;00m \u001b[38;5;28mrange\u001b[39m(num_workers\u001b[38;5;241m-\u001b[39m\u001b[38;5;241m1\u001b[39m)]\n",
      "\u001b[0;31mNameError\u001b[0m: name 'a_zCAM' is not defined"
     ]
    }
   ],
   "source": [
    "num_workers = 4\n",
    "\n",
    "interpolate_all_data(pmid_zCAM, a_zERA, ps_ERA, num_workers)\n",
    "print(a_zCAMf)"
   ]
  },
  {
   "cell_type": "code",
   "execution_count": null,
   "id": "d7b02504-ae9f-440a-aa1b-a4bf0e5013d4",
   "metadata": {},
   "outputs": [],
   "source": []
  }
 ],
 "metadata": {
  "kernelspec": {
   "display_name": "Python [conda env:mlenv-2]",
   "language": "python",
   "name": "conda-env-mlenv-2-py"
  },
  "language_info": {
   "codemirror_mode": {
    "name": "ipython",
    "version": 3
   },
   "file_extension": ".py",
   "mimetype": "text/x-python",
   "name": "python",
   "nbconvert_exporter": "python",
   "pygments_lexer": "ipython3",
   "version": "3.9.12"
  }
 },
 "nbformat": 4,
 "nbformat_minor": 5
}
