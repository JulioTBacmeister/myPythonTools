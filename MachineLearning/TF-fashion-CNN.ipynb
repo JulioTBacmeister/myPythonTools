{
 "cells": [
  {
   "cell_type": "code",
   "execution_count": null,
   "id": "1fee8f0c-b9da-49d6-b628-fd442691a9ee",
   "metadata": {},
   "outputs": [],
   "source": [
    "# Python ≥3.5 is required\n",
    "import sys\n",
    "assert sys.version_info >= (3, 5)\n",
    "\n",
    "# Scikit-Learn ≥0.20 is required\n",
    "import sklearn\n",
    "assert sklearn.__version__ >= \"0.20\"\n",
    "\n",
    "#try:\n",
    "    # %tensorflow_version only exists in Colab.\n",
    "#    %tensorflow_version 2.x\n",
    "#except Exception:\n",
    "#    pass\n",
    "\n",
    "# TensorFlow ≥2.0 is required\n",
    "import tensorflow as tf\n",
    "assert tf.__version__ >= \"2.0\"\n",
    "from tensorflow import keras\n",
    "\n",
    "# Common or useful imports\n",
    "import numpy as np\n",
    "import os\n",
    "from scipy.io import arff\n",
    "import pandas as pd\n",
    "\n",
    "# to make this notebook's output stable across runs\n",
    "np.random.seed(42)\n",
    "\n",
    "# To plot pretty figures\n",
    "#%matplotlib inline\n",
    "import matplotlib as mpl\n",
    "import matplotlib.pyplot as plt\n",
    "mpl.rc('axes', labelsize=14)\n",
    "mpl.rc('xtick', labelsize=12)\n",
    "mpl.rc('ytick', labelsize=12)\n"
   ]
  },
  {
   "cell_type": "code",
   "execution_count": null,
   "id": "2f40f777-49e8-46d0-af78-4a6da8c0fc97",
   "metadata": {},
   "outputs": [],
   "source": [
    "mnistdata='../Datasets/ARFFdata/fashionMNIST.arff'\n",
    "data = arff.loadarff( mnistdata )\n",
    "df = pd.DataFrame(data[0])\n",
    "\n",
    "df.columns\n",
    "XX=df.to_numpy()\n",
    "print(np.shape(XX))\n",
    "G=np.shape(XX)\n",
    "\n",
    "\n"
   ]
  },
  {
   "cell_type": "code",
   "execution_count": null,
   "id": "a024f678-a645-4230-8ba6-02ef7d3a3254",
   "metadata": {},
   "outputs": [],
   "source": [
    "X=XX[:,0: G[1]-1 ]\n",
    "y=XX[:, G[1]-1 ]\n",
    "print( np.sqrt( G[1]-1 ))\n",
    "idim=np.sqrt( G[1]-1 ).astype(int)\n",
    "print(idim)"
   ]
  },
  {
   "cell_type": "code",
   "execution_count": null,
   "id": "14e65112-4cce-4bd3-97b1-5898a7103b52",
   "metadata": {},
   "outputs": [],
   "source": [
    "X = np.reshape( X , ( G[0], idim, idim) ).astype(float)\n",
    "y = y.astype(int)\n",
    "print(np.shape(X))\n",
    "print(np.shape(y))\n",
    "print(y[0])\n"
   ]
  },
  {
   "cell_type": "code",
   "execution_count": null,
   "id": "405531b7-f6ef-4a70-a28e-3bf807971926",
   "metadata": {},
   "outputs": [],
   "source": [
    "X_train = X[0:60_000,:,:]\n",
    "y_train = y[0:60_000]\n",
    "X_test = X[60_000:,:,:]\n",
    "y_test = y[60_000:]"
   ]
  },
  {
   "cell_type": "code",
   "execution_count": null,
   "id": "f8fde551-450f-43bf-94ab-c44b117a0dff",
   "metadata": {},
   "outputs": [],
   "source": [
    "print(np.shape(X_train))\n",
    "print(np.shape(X_test))\n"
   ]
  },
  {
   "cell_type": "code",
   "execution_count": null,
   "id": "f953011a-4be5-47da-903c-d2f7feef936c",
   "metadata": {},
   "outputs": [],
   "source": [
    "X_valid, X_train1 = X_train[:5000] / 255., X_train[5000:] / 255.\n",
    "y_valid, y_train1 = y_train[:5000], y_train[5000:]\n",
    "X_test = X_test / 255."
   ]
  },
  {
   "cell_type": "code",
   "execution_count": null,
   "id": "90dc491f-85e2-4b71-975c-474dcf1e7a1b",
   "metadata": {},
   "outputs": [],
   "source": [
    "class_names = [\"T-shirt/top\", \"Trouser\", \"Pullover\", \"Dress\", \"Coat\",\n",
    "               \"Sandal\", \"Shirt\", \"Sneaker\", \"Bag\", \"Ankle boot\"]\n",
    "\n",
    "X_train1\n"
   ]
  },
  {
   "cell_type": "code",
   "execution_count": null,
   "id": "ff5182a4-601a-4411-a25f-adc3f78d32c8",
   "metadata": {},
   "outputs": [],
   "source": [
    "n_rows = 4\n",
    "n_cols = 10\n",
    "plt.figure(figsize=(n_cols * 1.2, n_rows * 1.2))\n",
    "for row in range(n_rows):\n",
    "    for col in range(n_cols):\n",
    "        index = n_cols * row + col\n",
    "        plt.subplot(n_rows, n_cols, index + 1)\n",
    "        plt.imshow(X_train1[index], cmap=\"binary\", interpolation=\"nearest\")\n",
    "        plt.axis('off')\n",
    "        plt.title(class_names[y_train1[index]], fontsize=12)\n",
    "plt.subplots_adjust(wspace=0.2, hspace=0.5)\n",
    "#save_fig('fashion_mnist_plot', tight_layout=False)\n",
    "plt.show()"
   ]
  },
  {
   "cell_type": "code",
   "execution_count": null,
   "id": "ad083a8c-f0f5-4f73-ac0f-4849905ef80b",
   "metadata": {},
   "outputs": [],
   "source": [
    "np.random.seed(42)\n",
    "tf.random.set_seed(42)\n",
    "\n",
    "model = keras.models.Sequential([\n",
    "    keras.layers.Conv2D(filters=64, kernel_size=7, padding='same', activation='relu', input_shape=[28, 28, 1]),\n",
    "    keras.layers.MaxPooling2D(pool_size=2),\n",
    "    keras.layers.Conv2D(filters=128, kernel_size=3, padding='same', activation='relu'),\n",
    "    keras.layers.Conv2D(filters=128, kernel_size=3, padding='same', activation='relu'),\n",
    "    keras.layers.MaxPooling2D(pool_size=2),\n",
    "    keras.layers.Conv2D(filters=256, kernel_size=3, padding='same', activation='relu'),\n",
    "    keras.layers.Conv2D(filters=256, kernel_size=3, padding='same', activation='relu'),\n",
    "    keras.layers.MaxPooling2D(pool_size=2),\n",
    "    keras.layers.Flatten(),\n",
    "    keras.layers.Dense(units=128, activation='relu'),\n",
    "    keras.layers.Dropout(0.5),\n",
    "    keras.layers.Dense(units=64, activation='relu'),\n",
    "    keras.layers.Dropout(0.5),\n",
    "    keras.layers.Dense(units=10, activation='softmax'),\n",
    "])"
   ]
  },
  {
   "cell_type": "code",
   "execution_count": null,
   "id": "fbd06b07-4204-4b80-8ecd-5c6b60d423dc",
   "metadata": {},
   "outputs": [],
   "source": [
    "model.summary()"
   ]
  },
  {
   "cell_type": "code",
   "execution_count": null,
   "id": "ae76c0cc-2a5a-4962-876b-0654a4d7b5a5",
   "metadata": {},
   "outputs": [],
   "source": [
    "keras.utils.plot_model(model, \"my_fashion_mnist_model.png\", show_shapes=True)"
   ]
  },
  {
   "cell_type": "code",
   "execution_count": null,
   "id": "98812af3-694a-489e-b2fd-23facf3d683e",
   "metadata": {},
   "outputs": [],
   "source": [
    "model.compile(loss=\"sparse_categorical_crossentropy\",\n",
    "              optimizer=\"nadam\",\n",
    "              metrics=[\"accuracy\"])"
   ]
  },
  {
   "cell_type": "markdown",
   "id": "2afd2c44-0b52-4e08-ac2b-b17e74668b41",
   "metadata": {},
   "source": [
    "Equivalent to:"
   ]
  },
  {
   "cell_type": "markdown",
   "id": "f152b0e5-50cf-4557-93c9-9a8d916aebcb",
   "metadata": {},
   "source": [
    "```python\n",
    "model.compile(loss=keras.losses.sparse_categorical_crossentropy,\n",
    "              optimizer=keras.optimizers.SGD(),\n",
    "              metrics=[keras.metrics.sparse_categorical_accuracy])\n",
    "```"
   ]
  },
  {
   "cell_type": "code",
   "execution_count": null,
   "id": "801827c3-7208-4ec4-8f24-e5e41361c112",
   "metadata": {},
   "outputs": [],
   "source": [
    "history = model.fit(X_train1, y_train1, epochs=10,\n",
    "                    validation_data=(X_valid, y_valid))"
   ]
  },
  {
   "cell_type": "code",
   "execution_count": null,
   "id": "41a4b0ff-de55-4bfe-9c0d-44750f28c8b1",
   "metadata": {},
   "outputs": [],
   "source": [
    "\n",
    "pd.DataFrame(history.history).plot(figsize=(8, 5))\n",
    "plt.grid(True)\n",
    "plt.gca().set_ylim(0, 1)\n",
    "#save_fig(\"keras_learning_curves_plot\")\n",
    "plt.show()"
   ]
  },
  {
   "cell_type": "code",
   "execution_count": null,
   "id": "4a9508d7-a10d-4358-bb8e-034f7f4e3055",
   "metadata": {},
   "outputs": [],
   "source": []
  }
 ],
 "metadata": {
  "kernelspec": {
   "display_name": "Python [conda env:npl-TF-2]",
   "language": "python",
   "name": "conda-env-npl-TF-2-py"
  },
  "language_info": {
   "codemirror_mode": {
    "name": "ipython",
    "version": 3
   },
   "file_extension": ".py",
   "mimetype": "text/x-python",
   "name": "python",
   "nbconvert_exporter": "python",
   "pygments_lexer": "ipython3",
   "version": "3.8.13"
  }
 },
 "nbformat": 4,
 "nbformat_minor": 5
}
