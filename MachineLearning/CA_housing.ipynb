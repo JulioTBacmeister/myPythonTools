{
 "cells": [
  {
   "cell_type": "markdown",
   "id": "ee4fafe8",
   "metadata": {},
   "source": [
    "## Machine learning notebook"
   ]
  },
  {
   "cell_type": "code",
   "execution_count": null,
   "id": "0ced8ff7",
   "metadata": {},
   "outputs": [],
   "source": [
    "import pandas as pd\n",
    "import numpy as np\n",
    "import matplotlib.pyplot as plt\n",
    "from sklearn.model_selection import StratifiedShuffleSplit\n",
    "from sklearn.model_selection import train_test_split\n",
    "from sklearn.impute import SimpleImputer\n",
    "\n"
   ]
  },
  {
   "cell_type": "markdown",
   "id": "3b109ca3",
   "metadata": {},
   "source": [
    "## Read in data"
   ]
  },
  {
   "cell_type": "code",
   "execution_count": null,
   "id": "6ed6db33",
   "metadata": {},
   "outputs": [],
   "source": [
    "\"\"\" \n",
    "Pandas here is a bit like Xarray, i.e., it let's us read in data\n",
    "and maninipulte it aithe statements like data['XYZ'] etc.\n",
    "\"\"\"\n",
    "\n",
    "file='../Datasets/housing/housing.csv'\n",
    "\n",
    "housing = pd.read_csv( file )\n",
    "\n",
    "print(\"got housing data\")\n",
    "\n"
   ]
  },
  {
   "cell_type": "markdown",
   "id": "a297ce8b",
   "metadata": {},
   "source": [
    "## setting up a new category based on income"
   ]
  },
  {
   "cell_type": "code",
   "execution_count": null,
   "id": "7c7ef29e",
   "metadata": {},
   "outputs": [],
   "source": [
    "\"\"\" \n",
    "Set up new income category 'income_cat' as a new key of 'housing'.\n",
    "See, just like xarray dataset.\n",
    "Note: median_income is reported as a numerical value [0,14] i.e. \n",
    "units of 10K$. Hence the odd bin edges for 'bins'.\n",
    "\"\"\"\n",
    "housing[\"income_cat\"] = pd.cut( housing[\"median_income\"],\n",
    "                                bins=[0., 1.5, 3.0, 4.5, 6.0, np.inf],\n",
    "                                labels=[1, 2, 3, 4, 5] )\n",
    "\n",
    "\n",
    "\n",
    "\"\"\" Naive random split \"\"\"\n",
    "train_set_1, test_set_1 =  train_test_split( housing, test_size=0.2, random_state=42 )\n",
    "\n",
    "\n",
    "\"\"\" better splitting that recognizes need to preserve Income stats \"\"\"\n",
    "split = StratifiedShuffleSplit(n_splits=1, test_size=0.2, random_state=42 )\n",
    "\n",
    "for train_index, test_index in split.split( housing, housing[\"income_cat\"]):\n",
    "    strat_train_set = housing.loc[train_index]\n",
    "    strat_test_set  = housing.loc[test_index]\n",
    "\n",
    "    \n",
    "\n"
   ]
  },
  {
   "cell_type": "code",
   "execution_count": null,
   "id": "b3d2c012",
   "metadata": {
    "scrolled": true
   },
   "outputs": [],
   "source": [
    "#print(np.shape(housing))\n",
    "bins=np.arange(6)*1.0+.5\n",
    "\n",
    "d0=housing[\"income_cat\"]\n",
    "hd0=np.histogram(d0,bins=bins)\n",
    "print(hd0[0]/len(d0))\n",
    "\n",
    "fig=plt.figure(1)\n",
    "housing.hist(figsize=(9,9))\n",
    "#plt.title(\"Full data\")\n",
    "plt.suptitle(\"Full data\",fontsize=24)\n",
    "plt.show()\n",
    "fig=plt.figure(2)\n",
    "strat_train_set.hist(figsize=(9,9))\n",
    "plt.suptitle(\"Training data\",fontsize=24)\n",
    "plt.show()"
   ]
  },
  {
   "cell_type": "markdown",
   "id": "3b1ba1cb",
   "metadata": {},
   "source": [
    "## Replace 'housing' pd frame with training data"
   ]
  },
  {
   "cell_type": "code",
   "execution_count": null,
   "id": "c7e35319",
   "metadata": {},
   "outputs": [],
   "source": [
    "\"\"\" \n",
    "Also 'drop' learning target from training set.\n",
    "Not really sure what these lines do\n",
    "\"\"\"    \n",
    "housing = strat_train_set.drop(\"median_house_value\", axis=1 )\n",
    "housing_labels = strat_train_set[\"median_house_value\"].copy()\n",
    "\n",
    "\n",
    "housing_num = housing.drop(\"ocean_proximity\", axis=1 )\n"
   ]
  },
  {
   "cell_type": "markdown",
   "id": "edee8e45",
   "metadata": {
    "scrolled": true
   },
   "source": [
    "## Fancy plot"
   ]
  },
  {
   "cell_type": "code",
   "execution_count": null,
   "id": "b783c266",
   "metadata": {},
   "outputs": [],
   "source": [
    "housing.plot(kind=\"scatter\", x=\"longitude\", y=\"latitude\", alpha=0.4,\n",
    "             s=housing[\"population\"]/100, label=\"population\", figsize=(10,7),\n",
    "             c=\"median_income\", cmap=plt.get_cmap(\"jet\"), colorbar=True,\n",
    "             sharex=False)\n",
    "plt.legend()\n",
    "#save_fig(\"housing_prices_scatterplot\")\n"
   ]
  },
  {
   "cell_type": "code",
   "execution_count": 29,
   "id": "1d804132",
   "metadata": {},
   "outputs": [
    {
     "data": {
      "text/html": [
       "<div>\n",
       "<style scoped>\n",
       "    .dataframe tbody tr th:only-of-type {\n",
       "        vertical-align: middle;\n",
       "    }\n",
       "\n",
       "    .dataframe tbody tr th {\n",
       "        vertical-align: top;\n",
       "    }\n",
       "\n",
       "    .dataframe thead th {\n",
       "        text-align: right;\n",
       "    }\n",
       "</style>\n",
       "<table border=\"1\" class=\"dataframe\">\n",
       "  <thead>\n",
       "    <tr style=\"text-align: right;\">\n",
       "      <th></th>\n",
       "      <th>ocean_proximity</th>\n",
       "    </tr>\n",
       "  </thead>\n",
       "  <tbody>\n",
       "    <tr>\n",
       "      <th>0</th>\n",
       "      <td>NEAR BAY</td>\n",
       "    </tr>\n",
       "    <tr>\n",
       "      <th>1</th>\n",
       "      <td>NEAR BAY</td>\n",
       "    </tr>\n",
       "    <tr>\n",
       "      <th>2</th>\n",
       "      <td>NEAR BAY</td>\n",
       "    </tr>\n",
       "    <tr>\n",
       "      <th>3</th>\n",
       "      <td>NEAR BAY</td>\n",
       "    </tr>\n",
       "    <tr>\n",
       "      <th>4</th>\n",
       "      <td>NEAR BAY</td>\n",
       "    </tr>\n",
       "    <tr>\n",
       "      <th>5</th>\n",
       "      <td>NEAR BAY</td>\n",
       "    </tr>\n",
       "    <tr>\n",
       "      <th>6</th>\n",
       "      <td>NEAR BAY</td>\n",
       "    </tr>\n",
       "    <tr>\n",
       "      <th>7</th>\n",
       "      <td>NEAR BAY</td>\n",
       "    </tr>\n",
       "    <tr>\n",
       "      <th>8</th>\n",
       "      <td>NEAR BAY</td>\n",
       "    </tr>\n",
       "    <tr>\n",
       "      <th>9</th>\n",
       "      <td>NEAR BAY</td>\n",
       "    </tr>\n",
       "  </tbody>\n",
       "</table>\n",
       "</div>"
      ],
      "text/plain": [
       "  ocean_proximity\n",
       "0        NEAR BAY\n",
       "1        NEAR BAY\n",
       "2        NEAR BAY\n",
       "3        NEAR BAY\n",
       "4        NEAR BAY\n",
       "5        NEAR BAY\n",
       "6        NEAR BAY\n",
       "7        NEAR BAY\n",
       "8        NEAR BAY\n",
       "9        NEAR BAY"
      ]
     },
     "execution_count": 29,
     "metadata": {},
     "output_type": "execute_result"
    }
   ],
   "source": [
    "housing_cat = housing[[\"ocean_proximity\"]]\n",
    "housing_cat.head(10)"
   ]
  },
  {
   "cell_type": "code",
   "execution_count": 30,
   "id": "8a0913ba",
   "metadata": {},
   "outputs": [],
   "source": [
    "imputer = SimpleImputer( strategy = \"median\" )\n",
    "\n",
    "imputer.fit( housing_num )\n",
    "\n",
    "X=imputer.transform( housing_num )  # X is an np ndarray\n"
   ]
  },
  {
   "cell_type": "code",
   "execution_count": 33,
   "id": "355cbdb9",
   "metadata": {},
   "outputs": [
    {
     "name": "stdout",
     "output_type": "stream",
     "text": [
      "(16512, 9)\n",
      "[[-1.2146e+02  3.8520e+01  2.9000e+01  3.8730e+03  7.9700e+02  2.2370e+03\n",
      "   7.0600e+02  2.1736e+00  2.0000e+00]\n",
      " [-1.1723e+02  3.3090e+01  7.0000e+00  5.3200e+03  8.5500e+02  2.0150e+03\n",
      "   7.6800e+02  6.3373e+00  5.0000e+00]\n",
      " [-1.1904e+02  3.5370e+01  4.4000e+01  1.6180e+03  3.1000e+02  6.6700e+02\n",
      "   3.0000e+02  2.8750e+00  2.0000e+00]\n",
      " [-1.1713e+02  3.2750e+01  2.4000e+01  1.8770e+03  5.1900e+02  8.9800e+02\n",
      "   4.8300e+02  2.2264e+00  2.0000e+00]\n",
      " [-1.1870e+02  3.4280e+01  2.7000e+01  3.5360e+03  6.4600e+02  1.8370e+03\n",
      "   5.8000e+02  4.4964e+00  3.0000e+00]\n",
      " [-1.2204e+02  3.7960e+01  2.8000e+01  1.2070e+03  2.5200e+02  7.2400e+02\n",
      "   2.5200e+02  3.6964e+00  3.0000e+00]\n",
      " [-1.2203e+02  3.7330e+01  2.3000e+01  4.2210e+03  6.7100e+02  1.7820e+03\n",
      "   6.4100e+02  7.4863e+00  5.0000e+00]\n",
      " [-1.1831e+02  3.4200e+01  3.6000e+01  1.6920e+03  2.6300e+02  7.7800e+02\n",
      "   2.7800e+02  5.0865e+00  4.0000e+00]\n",
      " [-1.2195e+02  3.7270e+01  1.7000e+01  1.3300e+03  2.7100e+02  4.0800e+02\n",
      "   2.5800e+02  1.7171e+00  2.0000e+00]\n",
      " [-1.1828e+02  3.4020e+01  2.9000e+01  5.1500e+02  2.2900e+02  2.6900e+03\n",
      "   2.1700e+02  4.9990e-01  1.0000e+00]]\n"
     ]
    }
   ],
   "source": [
    "print(np.shape(X))\n",
    "print(X[0:10,:])"
   ]
  },
  {
   "cell_type": "code",
   "execution_count": 32,
   "id": "b92810b8",
   "metadata": {},
   "outputs": [
    {
     "data": {
      "text/plain": [
       "[<matplotlib.lines.Line2D at 0x7fdf266e79d0>]"
      ]
     },
     "execution_count": 32,
     "metadata": {},
     "output_type": "execute_result"
    },
    {
     "data": {
      "image/png": "[encoded data removed]",
      "text/plain": [
       "<Figure size 432x288 with 1 Axes>"
      ]
     },
     "metadata": {
      "needs_background": "light"
     },
     "output_type": "display_data"
    }
   ],
   "source": []
  },
  {
   "cell_type": "code",
   "execution_count": null,
   "id": "dbaa0e1d",
   "metadata": {},
   "outputs": [],
   "source": []
  }
 ],
 "metadata": {
  "kernelspec": {
   "display_name": "Python [conda env:mlenv]",
   "language": "python",
   "name": "conda-env-mlenv-py"
  },
  "language_info": {
   "codemirror_mode": {
    "name": "ipython",
    "version": 3
   },
   "file_extension": ".py",
   "mimetype": "text/x-python",
   "name": "python",
   "nbconvert_exporter": "python",
   "pygments_lexer": "ipython3",
   "version": "3.9.12"
  }
 },
 "nbformat": 4,
 "nbformat_minor": 5
}
