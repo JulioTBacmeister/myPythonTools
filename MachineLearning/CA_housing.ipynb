{
 "cells": [
  {
   "cell_type": "markdown",
   "id": "ee4fafe8",
   "metadata": {},
   "source": [
    "## Machine learning notebook"
   ]
  },
  {
   "cell_type": "code",
   "execution_count": null,
   "id": "0ced8ff7",
   "metadata": {},
   "outputs": [],
   "source": [
    "import pandas as pd\n",
    "import numpy as np\n",
    "import matplotlib.pyplot as plt\n",
    "\n",
    "#Data prep\n",
    "from sklearn.model_selection import StratifiedShuffleSplit\n",
    "from sklearn.model_selection import train_test_split\n",
    "from sklearn.impute import SimpleImputer\n",
    "from sklearn.pipeline import Pipeline\n",
    "from sklearn.preprocessing import StandardScaler\n",
    "from sklearn.preprocessing import OneHotEncoder\n",
    "from sklearn.compose import ColumnTransformer\n",
    "\n",
    "from DataPrepUtils import CombinedAttributesAdder as CAA\n",
    "\n",
    "#Models\n",
    "from sklearn.ensemble import RandomForestRegressor\n",
    "from sklearn.tree import DecisionTreeRegressor\n",
    "\n",
    "\n",
    "#Evaluation\n",
    "from sklearn.metrics import mean_squared_error\n",
    "from sklearn.model_selection import cross_val_score\n"
   ]
  },
  {
   "cell_type": "code",
   "execution_count": null,
   "id": "f8868926",
   "metadata": {},
   "outputs": [],
   "source": [
    "def display_scores(scores):\n",
    "    print(\"Scores:\", scores)\n",
    "    print(\"Mean:\", scores.mean())\n",
    "    print(\"Standard deviation:\", scores.std())"
   ]
  },
  {
   "cell_type": "markdown",
   "id": "3b109ca3",
   "metadata": {},
   "source": [
    "## Read in data"
   ]
  },
  {
   "cell_type": "code",
   "execution_count": null,
   "id": "6ed6db33",
   "metadata": {},
   "outputs": [],
   "source": [
    "\"\"\" \n",
    "Pandas here is a bit like Xarray, i.e., it let's us read in data\n",
    "and maninipulte it aithe statements like data['XYZ'] etc.\n",
    "\"\"\"\n",
    "\n",
    "file='../Datasets/housing/housing.csv'\n",
    "\n",
    "housing = pd.read_csv( file )\n",
    "\n",
    "housing_original_DF = housing\n",
    "\n",
    "print(\"got housing data\")\n",
    "\n"
   ]
  },
  {
   "cell_type": "markdown",
   "id": "a297ce8b",
   "metadata": {},
   "source": [
    "## setting up a new category based on income"
   ]
  },
  {
   "cell_type": "code",
   "execution_count": null,
   "id": "7c7ef29e",
   "metadata": {},
   "outputs": [],
   "source": [
    "\"\"\" \n",
    "Set up new income category 'income_cat' as a new key of 'housing'.\n",
    "See, just like xarray dataset.\n",
    "Note: median_income is reported as a numerical value [0,14] i.e. \n",
    "units of 10K$. Hence the odd bin edges for 'bins'.\n",
    "\"\"\"\n",
    "housing[\"income_cat\"] = pd.cut( housing[\"median_income\"],\n",
    "                                bins=[0., 1.5, 3.0, 4.5, 6.0, np.inf],\n",
    "                                labels=[1, 2, 3, 4, 5] )\n",
    "\n",
    "\n",
    "\n",
    "\"\"\" Naive random split \"\"\"\n",
    "train_set_1, test_set_1 =  train_test_split( housing, test_size=0.2, random_state=42 )\n",
    "\n",
    "\n",
    "\"\"\" better splitting that recognizes need to preserve Income stats \"\"\"\n",
    "split = StratifiedShuffleSplit(n_splits=1, test_size=0.2, random_state=42 )\n",
    "\n",
    "for train_index, test_index in split.split( housing, housing[\"income_cat\"]):\n",
    "    strat_train_set = housing.loc[train_index]\n",
    "    strat_test_set  = housing.loc[test_index]\n",
    "\n",
    "    \n",
    "\n"
   ]
  },
  {
   "cell_type": "code",
   "execution_count": null,
   "id": "b3d2c012",
   "metadata": {
    "scrolled": true
   },
   "outputs": [],
   "source": [
    "#print(np.shape(housing))\n",
    "bins=np.arange(6)*1.0+.5\n",
    "\n",
    "d0=housing[\"income_cat\"]\n",
    "hd0=np.histogram(d0,bins=bins)\n",
    "print(hd0[0]/len(d0))\n",
    "\n",
    "fig=plt.figure(1)\n",
    "housing.hist(figsize=(9,9))\n",
    "#plt.title(\"Full data\")\n",
    "plt.suptitle(\"Full data\",fontsize=24)\n",
    "plt.show()\n",
    "fig=plt.figure(2)\n",
    "strat_train_set.hist(figsize=(9,9))\n",
    "plt.suptitle(\"Training data\",fontsize=24)\n",
    "plt.show()"
   ]
  },
  {
   "cell_type": "markdown",
   "id": "3b1ba1cb",
   "metadata": {},
   "source": [
    "## Replace 'housing' pd frame with training data"
   ]
  },
  {
   "cell_type": "code",
   "execution_count": null,
   "id": "3bd3d2e1",
   "metadata": {},
   "outputs": [],
   "source": [
    "\n",
    "# Copy training set back to 'housing'\n",
    "# Also 'drop' learning target from training set.\n",
    "housing = strat_train_set.drop(\"median_house_value\", axis=1 )\n",
    "\n",
    "# In ML book this object was called 'housing_labels'\n",
    "# which is a confusing name. Probably derved from categorical\n",
    "# ML problem where the learning target is a 'label'.\n",
    "# In any case, this is just a Pandas Series copied from the \n",
    "# 'strat_train_set' DataFrame.\n",
    "housing_median_value = strat_train_set[\"median_house_value\"].copy()\n",
    "\n",
    "# Now copy 'housing' to 'housing_num' while executing \n",
    "# 'drop' of the categorical variable 'ocean_proximity'\n",
    "housing_num = housing.drop(\"ocean_proximity\", axis=1 )"
   ]
  },
  {
   "cell_type": "code",
   "execution_count": null,
   "id": "7d0d429f",
   "metadata": {},
   "outputs": [],
   "source": [
    "strat_train_set.columns"
   ]
  },
  {
   "cell_type": "code",
   "execution_count": null,
   "id": "c7e35319",
   "metadata": {},
   "outputs": [],
   "source": [
    "housing.columns"
   ]
  },
  {
   "cell_type": "markdown",
   "id": "5ca40867",
   "metadata": {},
   "source": [
    "### These Pandas objects hide lots of information.  \n",
    "### 'housing_median_value' is a 'Series' which has an index field and a values field.  \n",
    "### So then for example\n",
    "\n",
    "plt.plot(housing_median_value)\n",
    "\n",
    "### is equivalent to \n",
    "\n",
    "plt.plot(housing_median_value.index,housing_median_value.values)"
   ]
  },
  {
   "cell_type": "code",
   "execution_count": null,
   "id": "a5d803ef",
   "metadata": {},
   "outputs": [],
   "source": [
    "plt.plot(housing_median_value.index, housing_median_value.values,'x')\n",
    "plt.plot(strat_train_set['median_house_value'],'.')\n",
    "print(np.shape(housing_median_value.index))"
   ]
  },
  {
   "cell_type": "markdown",
   "id": "edee8e45",
   "metadata": {},
   "source": [
    "## Fancy plot"
   ]
  },
  {
   "cell_type": "code",
   "execution_count": null,
   "id": "b783c266",
   "metadata": {},
   "outputs": [],
   "source": [
    "housing.plot(kind=\"scatter\", x=\"longitude\", y=\"latitude\", alpha=0.4,\n",
    "             s=housing[\"population\"]/100, label=\"population\", figsize=(10,7),\n",
    "             c=\"median_income\", cmap=plt.get_cmap(\"jet\"), colorbar=True,\n",
    "             sharex=False)\n",
    "plt.legend()\n",
    "\n",
    "#save_fig(\"housing_prices_scatterplot\")\n"
   ]
  },
  {
   "cell_type": "code",
   "execution_count": null,
   "id": "1d804132",
   "metadata": {},
   "outputs": [],
   "source": [
    "housing_cat = housing[[\"ocean_proximity\"]]\n",
    "housing_cat.head(10)\n",
    "housing_cat.columns"
   ]
  },
  {
   "cell_type": "code",
   "execution_count": null,
   "id": "8a0913ba",
   "metadata": {},
   "outputs": [],
   "source": [
    "#import importlib\n",
    "#importlib.reload(CAA)\n",
    "\n",
    "imputer = SimpleImputer( strategy = \"median\" )\n",
    "\n",
    "imputer.fit( housing_num )\n",
    "\n",
    "X=imputer.transform( housing_num )  # X is an np ndarray\n",
    "\n",
    "\n",
    "#attr_adder = CAA(add_bedrooms_per_room=False)\n",
    "#housing_extra_attribs_values = attr_adder.transform(X)"
   ]
  },
  {
   "cell_type": "code",
   "execution_count": null,
   "id": "355cbdb9",
   "metadata": {},
   "outputs": [],
   "source": [
    "print(np.shape(X))\n",
    "#print(X[0:10,:])\n",
    "#print(np.shape(housing_extra_attribs_values))"
   ]
  },
  {
   "cell_type": "code",
   "execution_count": null,
   "id": "b92810b8",
   "metadata": {},
   "outputs": [],
   "source": [
    "\n",
    "num_pipeline = Pipeline([\n",
    "        ('imputer', SimpleImputer(strategy=\"median\")),\n",
    "        ('attribs_adder', CAA(add_bedrooms_per_room=True)),\n",
    "        ('std_scaler', StandardScaler()),\n",
    "    ])\n",
    "\n",
    "housing_num_tr = num_pipeline.fit_transform(housing_num)\n",
    "\n",
    "housing_num_tr_DF = pd.DataFrame(\n",
    "    housing_num_tr,\n",
    "    columns=list(housing_num.columns)+[\"rooms_per_household\", \"population_per_household\",\"bedrooms_per_room\"],\n",
    "    index=housing.index)\n",
    "housing_num_tr_DF.head()"
   ]
  },
  {
   "cell_type": "code",
   "execution_count": null,
   "id": "dbaa0e1d",
   "metadata": {},
   "outputs": [],
   "source": [
    "print(np.shape(housing_num_tr))"
   ]
  },
  {
   "cell_type": "code",
   "execution_count": null,
   "id": "b46cd331",
   "metadata": {},
   "outputs": [],
   "source": [
    "num_attribs = list(housing_num)\n",
    "cat_attribs = [\"ocean_proximity\"]\n",
    "\n",
    "full_pipeline = ColumnTransformer([\n",
    "        (\"num\", num_pipeline, num_attribs),\n",
    "        (\"cat\", OneHotEncoder(), cat_attribs),\n",
    "    ])\n",
    "\n",
    "housing_prepared = full_pipeline.fit_transform(housing)"
   ]
  },
  {
   "cell_type": "code",
   "execution_count": null,
   "id": "62285ae6",
   "metadata": {},
   "outputs": [],
   "source": [
    "print(np.shape(housing_prepared))\n",
    "XX=np.asarray(housing_num)"
   ]
  },
  {
   "cell_type": "code",
   "execution_count": null,
   "id": "010beb5c",
   "metadata": {},
   "outputs": [],
   "source": [
    "fig=plt.figure(figsize=(20,9))\n",
    "\n",
    "ax=fig.add_subplot(2,2,1)\n",
    "p1=ax.plot(housing_num['median_income'],'x')\n",
    "ax=fig.add_subplot(2,2,2)\n",
    "p2=ax.plot(housing_num_tr[:,7])\n",
    "ax=fig.add_subplot(2,2,3)\n",
    "p3=ax.plot(housing_num_tr_DF['median_income'],'o')\n",
    "ax=fig.add_subplot(2,2,4)\n",
    "p4=ax.plot(housing_prepared[:,7])\n",
    "\n",
    "his=np.histogram(XX[:,7])\n",
    "print(np.mean(XX[:,7]))\n",
    "print(np.std(XX[:,7]))\n"
   ]
  },
  {
   "cell_type": "code",
   "execution_count": null,
   "id": "63600af2",
   "metadata": {},
   "outputs": [],
   "source": [
    "plt.plot(his[1][1:],his[0])"
   ]
  },
  {
   "cell_type": "markdown",
   "id": "5641d6f0",
   "metadata": {},
   "source": [
    "Now test out some ML models ..."
   ]
  },
  {
   "cell_type": "code",
   "execution_count": null,
   "id": "0a8cb4c7",
   "metadata": {},
   "outputs": [],
   "source": [
    "forest_reg = RandomForestRegressor(n_estimators=100, random_state=42)\n",
    "forest_reg.fit(housing_prepared, housing_median_value)"
   ]
  },
  {
   "cell_type": "code",
   "execution_count": null,
   "id": "26d9f9fd",
   "metadata": {},
   "outputs": [],
   "source": [
    "housing_prediction=forest_reg.predict(housing_prepared)"
   ]
  },
  {
   "cell_type": "code",
   "execution_count": null,
   "id": "cac28194",
   "metadata": {},
   "outputs": [],
   "source": [
    "np.shape(housing_median_value)"
   ]
  },
  {
   "cell_type": "code",
   "execution_count": null,
   "id": "5f795439",
   "metadata": {},
   "outputs": [],
   "source": [
    "plt.scatter(housing_prediction,housing_median_value)"
   ]
  },
  {
   "cell_type": "code",
   "execution_count": null,
   "id": "5ded6b50",
   "metadata": {},
   "outputs": [],
   "source": [
    "error=mean_squared_error(housing_prediction,housing_median_value)"
   ]
  },
  {
   "cell_type": "code",
   "execution_count": null,
   "id": "84434965",
   "metadata": {},
   "outputs": [],
   "source": [
    "print(np.sqrt(error))"
   ]
  },
  {
   "cell_type": "code",
   "execution_count": null,
   "id": "aa8bf2d0",
   "metadata": {},
   "outputs": [],
   "source": [
    "#This cell takes a while to finish\n",
    "\n",
    "scores = cross_val_score(forest_reg, housing_prepared, housing_median_value,\n",
    "                         scoring=\"neg_mean_squared_error\", cv=10)\n",
    "forest_rmse_scores = np.sqrt(-scores)\n",
    "display(forest_rmse_scores)"
   ]
  },
  {
   "cell_type": "code",
   "execution_count": null,
   "id": "f30d90ce",
   "metadata": {},
   "outputs": [],
   "source": [
    "print('Hello')\n",
    "tree_reg = DecisionTreeRegressor(random_state=42,max_depth=None)\n",
    "tree_reg.fit(housing_prepared, housing_median_value)\n",
    "housing_prediction_tree = tree_reg.predict(housing_prepared)\n",
    "print('Hello')\n"
   ]
  },
  {
   "cell_type": "code",
   "execution_count": null,
   "id": "5c2def53",
   "metadata": {},
   "outputs": [],
   "source": [
    "plt.scatter(housing_prediction_tree,housing_median_value)\n",
    "print(tree_reg.get_depth())\n"
   ]
  },
  {
   "cell_type": "code",
   "execution_count": null,
   "id": "878aa386",
   "metadata": {},
   "outputs": [],
   "source": []
  }
 ],
 "metadata": {
  "kernelspec": {
   "display_name": "Python [conda env:mlenv]",
   "language": "python",
   "name": "conda-env-mlenv-py"
  },
  "language_info": {
   "codemirror_mode": {
    "name": "ipython",
    "version": 3
   },
   "file_extension": ".py",
   "mimetype": "text/x-python",
   "name": "python",
   "nbconvert_exporter": "python",
   "pygments_lexer": "ipython3",
   "version": "3.9.12"
  }
 },
 "nbformat": 4,
 "nbformat_minor": 5
}
