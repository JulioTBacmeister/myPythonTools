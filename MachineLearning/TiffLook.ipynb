{
 "cells": [
  {
   "cell_type": "code",
   "execution_count": null,
   "id": "8b407a3e-e4f4-4fbf-b36c-5151c4e292c0",
   "metadata": {},
   "outputs": [],
   "source": [
    "import pandas as pd\n",
    "import numpy as np\n",
    "import matplotlib.pyplot as plt\n",
    "from matplotlib import gridspec\n",
    "\n",
    "\n",
    "import skimage.io as skio\n"
   ]
  },
  {
   "cell_type": "code",
   "execution_count": null,
   "id": "1345edfb-0c97-4eb7-8eeb-17ca52f51563",
   "metadata": {},
   "outputs": [],
   "source": [
    "foo='/Users/juliob/Desktop/A22-49_9yo_Slide158_DAPI-405_PV-488_MBP-594_BCAS1-647_Cos.tif'\n",
    "\n",
    "\n",
    "\n",
    "#foo= '/Users/juliob/Desktop/tiny_Calcarine_27gw6mo_A20-21_Slide63_DAPI_MAP2_MBP_NeuN_63x.tif'\n",
    "imstack2    = skio.imread( foo , plugin=\"tifffile\")"
   ]
  },
  {
   "cell_type": "code",
   "execution_count": null,
   "id": "c6ad0b39-32bf-42e5-a7f5-fe66ccc1a5a9",
   "metadata": {},
   "outputs": [],
   "source": [
    "np.shape(imstack2)\n"
   ]
  },
  {
   "cell_type": "code",
   "execution_count": null,
   "id": "8ca86558-eacc-4b11-841b-139e59882c93",
   "metadata": {},
   "outputs": [],
   "source": [
    "\"\"\"\n",
    "fig = plt.figure(figsize=(4, 10)) \n",
    "gs = gridspec.GridSpec(nrow, ncol, width_ratios=[1, 1, 1],\n",
    "         wspace=0.0, hspace=0.0, top=0.95, bottom=0.05, left=0.17, right=0.845) \n",
    "for i in range(10):\n",
    "    for j in range(3):\n",
    "        im = np.random.rand(28,28)\n",
    "        ax= plt.subplot(gs[i,j])\n",
    "        ax.imshow(im)\n",
    "        ax.set_xticklabels([])\n",
    "        ax.set_yticklabels([])\n",
    "\"\"\"\n",
    "#Channel 1 is DAPI (all nuclei w/ DNA)\n",
    "#Channel 2 \"interneurons\"\n",
    "#Channel 3 Myelin\n",
    "#Channel 4 pre-myelinating oligos\n",
    "\n",
    "# 0-9000 \"into brain\" 1 pixel ~0.7 micron\n",
    "# 0-1000 lateral \n",
    "# \"front to back\"\n",
    "\n",
    "#fig,ax = plt.subplots(4,figsize=(15,30))\n",
    "fig = plt.figure(figsize=(9264/100.,1086/100.))\n",
    "#gs = gridspec.GridSpec(4,1, width_ratios=[1],\n",
    "#         wspace=0.0, hspace=0.0, top=0.95, bottom=0.05, left=0.17, right=0.845) \n",
    "gs = gridspec.GridSpec(4,1,\n",
    "         wspace=0.0, hspace=0.3) \n",
    "\n",
    "for i in np.arange(4):\n",
    "    ax = plt.subplot(gs[i,0])\n",
    "    ax.imshow( imstack2[10,:,:,i].transpose(),vmin=0,vmax=250)#,aspect='equal')\n",
    "    ax.set_title( \"Channel \"+str(i+1) )\n",
    "    #ax.set_xticklabels([])\n",
    "    #ax.set_yticklabels([])\n",
    "    #ax.set_aspect(\"auto\")\n"
   ]
  },
  {
   "cell_type": "code",
   "execution_count": null,
   "id": "2f13599f-a418-4e13-8103-c38e0cf31bdc",
   "metadata": {},
   "outputs": [],
   "source": [
    "\"\"\"\n",
    "fig = plt.figure(figsize=(4, 10)) \n",
    "gs = gridspec.GridSpec(nrow, ncol, width_ratios=[1, 1, 1],\n",
    "         wspace=0.0, hspace=0.0, top=0.95, bottom=0.05, left=0.17, right=0.845) \n",
    "for i in range(10):\n",
    "    for j in range(3):\n",
    "        im = np.random.rand(28,28)\n",
    "        ax= plt.subplot(gs[i,j])\n",
    "        ax.imshow(im)\n",
    "        ax.set_xticklabels([])\n",
    "        ax.set_yticklabels([])\n",
    "\"\"\"\n",
    "\n",
    "\n",
    "\n",
    "#fig,ax = plt.subplots(4,figsize=(15,30))\n",
    "fig = plt.figure(figsize=(9264/100.,1086/100.))\n",
    "#gs = gridspec.GridSpec(4,1, width_ratios=[1],\n",
    "#         wspace=0.0, hspace=0.0, top=0.95, bottom=0.05, left=0.17, right=0.845) \n",
    "gs = gridspec.GridSpec(4,1,\n",
    "         wspace=0.0, hspace=0.) \n",
    "\n",
    "for i in np.arange(4):\n",
    "    ax = plt.subplot(gs[i,0])\n",
    "    ax.imshow( imstack2[0,:,:,i].transpose(),vmin=0,vmax=50)#,aspect='equal')\n",
    "    #ax.set_xticklabels([])\n",
    "    #ax.set_yticklabels([])\n",
    "    #ax.set_aspect(\"auto\")\n"
   ]
  },
  {
   "cell_type": "code",
   "execution_count": null,
   "id": "7be213fc-a603-40f7-bc98-83d0c9971b84",
   "metadata": {},
   "outputs": [],
   "source": [
    "nrow = 10\n",
    "ncol = 3\n",
    "\n",
    "fig = plt.figure(figsize=(4, 10)) \n",
    "\n",
    "gs = gridspec.GridSpec(nrow, ncol, width_ratios=[1, 1, 1],\n",
    "         wspace=0.0, hspace=0.0, top=0.95, bottom=0.05, left=0.17, right=0.845) \n",
    "\n",
    "for i in range(10):\n",
    "    for j in range(3):\n",
    "        im = np.random.rand(28,28)\n",
    "        ax= plt.subplot(gs[i,j])\n",
    "        ax.imshow(im)\n",
    "        ax.set_xticklabels([])\n",
    "        ax.set_yticklabels([])\n"
   ]
  },
  {
   "cell_type": "code",
   "execution_count": null,
   "id": "3b2a5739-3c98-49b8-bf96-8f32e66b0d58",
   "metadata": {},
   "outputs": [],
   "source": []
  }
 ],
 "metadata": {
  "kernelspec": {
   "display_name": "Python [conda env:mlenv-2]",
   "language": "python",
   "name": "conda-env-mlenv-2-py"
  },
  "language_info": {
   "codemirror_mode": {
    "name": "ipython",
    "version": 3
   },
   "file_extension": ".py",
   "mimetype": "text/x-python",
   "name": "python",
   "nbconvert_exporter": "python",
   "pygments_lexer": "ipython3",
   "version": "3.9.12"
  }
 },
 "nbformat": 4,
 "nbformat_minor": 5
}
