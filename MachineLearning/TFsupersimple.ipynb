{
 "cells": [
  {
   "cell_type": "code",
   "execution_count": null,
   "id": "71e2c9ca-679e-4a66-94cd-53437f091b47",
   "metadata": {},
   "outputs": [],
   "source": [
    "import tensorflow as tf\n",
    "\n",
    "\n",
    "from tensorflow import keras\n",
    "from tensorflow.keras import layers\n",
    "#from keras.utils.vis_utils import plot_model\n",
    "\n",
    "import matplotlib.pyplot as plt\n",
    "import numpy as np\n",
    "import pydot\n",
    "\n",
    "#import tfsupersimple"
   ]
  },
  {
   "cell_type": "code",
   "execution_count": null,
   "id": "9bf929d6-0efe-4130-ba47-bcfa1be6aa8c",
   "metadata": {},
   "outputs": [],
   "source": [
    "model = tf.keras.Sequential(  [keras.layers.Dense( units=1, input_shape=[1] ) ]   )\n",
    "\n",
    "keras.utils.plot_model(model, \"supersimple_model.png\", show_shapes=True)\n",
    "\n",
    "model.compile(optimizer='sgd', loss='mean_squared_error')\n",
    "\n",
    "\n",
    "\n",
    "xs = np.array([-1.0, 0.0, 1.0, 2.0, 3.0, 4.0], dtype=float)\n",
    "ys = np.array([-2.0, 1.0, 4.0, 7.0, 10.0, 13.0], dtype=float)\n",
    "\n",
    "model.fit(xs, ys, epochs=50)\n",
    "\n",
    "\n",
    "\n",
    "print(model.predict([1.5, 10.0]))\n"
   ]
  },
  {
   "cell_type": "code",
   "execution_count": null,
   "id": "4c13d119-d698-4a09-a0e8-247c1acc2d13",
   "metadata": {},
   "outputs": [],
   "source": []
  }
 ],
 "metadata": {
  "kernelspec": {
   "display_name": "Python [conda env:mlenv-2]",
   "language": "python",
   "name": "conda-env-mlenv-2-py"
  },
  "language_info": {
   "codemirror_mode": {
    "name": "ipython",
    "version": 3
   },
   "file_extension": ".py",
   "mimetype": "text/x-python",
   "name": "python",
   "nbconvert_exporter": "python",
   "pygments_lexer": "ipython3",
   "version": "3.9.12"
  }
 },
 "nbformat": 4,
 "nbformat_minor": 5
}
