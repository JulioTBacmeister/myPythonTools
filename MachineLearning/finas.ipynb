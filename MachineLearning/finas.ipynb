{
 "cells": [
  {
   "cell_type": "code",
   "execution_count": 1,
   "id": "7f748582",
   "metadata": {},
   "outputs": [],
   "source": [
    "import pandas as pd\n",
    "import numpy as np\n",
    "import matplotlib.pyplot as plt\n",
    "from sklearn.model_selection import StratifiedShuffleSplit\n",
    "from sklearn.model_selection import train_test_split\n",
    "from sklearn.impute import SimpleImputer\n",
    "import seaborn as sn\n",
    "import datetime\n"
   ]
  },
  {
   "cell_type": "code",
   "execution_count": 2,
   "id": "57be2abe",
   "metadata": {},
   "outputs": [],
   "source": [
    "def Spending(All,Category,idens,debug=False,write=True):\n",
    "    ico=[]\n",
    "    shp=np.shape(All)\n",
    "    ilength = shp[0]\n",
    "    maxindx = np.max( All.index )\n",
    "    #print(maxindx,ilength)\n",
    "    #for idx in np.arange():\n",
    "    for idx in All.index:\n",
    "        if (  any(item in str(aaa['Memo'][idx]).upper() for item in idens)):\n",
    "            if( debug==True):\n",
    "                print(aaa['Memo'][idx],aaa['Amount Debit'][idx])\n",
    "            ico.append(idx)\n",
    "            \n",
    "    globals()[Category] = All.loc[ico] \n",
    "    print(Category+\" ====>\", np.sum(globals()[Category]['Amount Debit']))\n",
    "    if (write==True):\n",
    "        CatFile='/Users/juliob/Desktop/grocer/' +Category+'.csv'\n",
    "        globals()[Category].to_csv(CatFile)\n",
    "        \n"
   ]
  },
  {
   "cell_type": "code",
   "execution_count": 3,
   "id": "899bec00",
   "metadata": {},
   "outputs": [],
   "source": [
    "def InitCategory(ncol=30):\n",
    "\n",
    "    colms=['Category']\n",
    "    idata=['ABCDE12345']\n",
    "    ncol=30\n",
    "    for i in np.arange(ncol):\n",
    "        colms.append('code'+str(i+1))\n",
    "        idata.append('ABCDE12345')\n",
    "\n",
    "    df=pd.DataFrame(columns=colms)\n",
    "    df.loc[0]=idata\n",
    "    \n",
    "    return df"
   ]
  },
  {
   "cell_type": "code",
   "execution_count": 4,
   "id": "b84704ea",
   "metadata": {},
   "outputs": [],
   "source": [
    "\"\"\" \n",
    "Pandas here is a bit like Xarray, i.e., it let's us read in data\n",
    "and maninipulte it aithe statements like data['XYZ'] etc.\n",
    "\"\"\"\n",
    "\n",
    "file='/Users/juliob/Desktop/grocer/AllFromDec2021.csv'\n",
    "aaa=pd.read_csv(file,skiprows=[0,1,2] )"
   ]
  },
  {
   "cell_type": "code",
   "execution_count": 5,
   "id": "6fbb02e3",
   "metadata": {},
   "outputs": [
    {
     "data": {
      "text/html": [
       "<div>\n",
       "<style scoped>\n",
       "    .dataframe tbody tr th:only-of-type {\n",
       "        vertical-align: middle;\n",
       "    }\n",
       "\n",
       "    .dataframe tbody tr th {\n",
       "        vertical-align: top;\n",
       "    }\n",
       "\n",
       "    .dataframe thead th {\n",
       "        text-align: right;\n",
       "    }\n",
       "</style>\n",
       "<table border=\"1\" class=\"dataframe\">\n",
       "  <thead>\n",
       "    <tr style=\"text-align: right;\">\n",
       "      <th></th>\n",
       "      <th>Category</th>\n",
       "      <th>code1</th>\n",
       "      <th>code2</th>\n",
       "      <th>code3</th>\n",
       "      <th>code4</th>\n",
       "      <th>code5</th>\n",
       "      <th>code6</th>\n",
       "      <th>code7</th>\n",
       "      <th>code8</th>\n",
       "      <th>code9</th>\n",
       "      <th>...</th>\n",
       "      <th>code21</th>\n",
       "      <th>code22</th>\n",
       "      <th>code23</th>\n",
       "      <th>code24</th>\n",
       "      <th>code25</th>\n",
       "      <th>code26</th>\n",
       "      <th>code27</th>\n",
       "      <th>code28</th>\n",
       "      <th>code29</th>\n",
       "      <th>code30</th>\n",
       "    </tr>\n",
       "  </thead>\n",
       "  <tbody>\n",
       "    <tr>\n",
       "      <th>0</th>\n",
       "      <td>Poo</td>\n",
       "      <td>Tlacui</td>\n",
       "      <td>ABCDE12345</td>\n",
       "      <td>ABCDE12345</td>\n",
       "      <td>gyO~@</td>\n",
       "      <td>ABCDE12345</td>\n",
       "      <td>ABCDE12345</td>\n",
       "      <td>ABCDE12345</td>\n",
       "      <td>ABCDE12345</td>\n",
       "      <td>ABCDE12345</td>\n",
       "      <td>...</td>\n",
       "      <td>ABCDE12345</td>\n",
       "      <td>ABCDE12345</td>\n",
       "      <td>ABCDE12345</td>\n",
       "      <td>ABCDE12345</td>\n",
       "      <td>ABCDE12345</td>\n",
       "      <td>ABCDE12345</td>\n",
       "      <td>ABCDE12345</td>\n",
       "      <td>ABCDE12345</td>\n",
       "      <td>ABCDE12345</td>\n",
       "      <td>ABCDE12345</td>\n",
       "    </tr>\n",
       "  </tbody>\n",
       "</table>\n",
       "<p>1 rows × 31 columns</p>\n",
       "</div>"
      ],
      "text/plain": [
       "  Category   code1       code2       code3  code4       code5       code6  \\\n",
       "0      Poo  Tlacui  ABCDE12345  ABCDE12345  gyO~@  ABCDE12345  ABCDE12345   \n",
       "\n",
       "        code7       code8       code9  ...      code21      code22  \\\n",
       "0  ABCDE12345  ABCDE12345  ABCDE12345  ...  ABCDE12345  ABCDE12345   \n",
       "\n",
       "       code23      code24      code25      code26      code27      code28  \\\n",
       "0  ABCDE12345  ABCDE12345  ABCDE12345  ABCDE12345  ABCDE12345  ABCDE12345   \n",
       "\n",
       "       code29      code30  \n",
       "0  ABCDE12345  ABCDE12345  \n",
       "\n",
       "[1 rows x 31 columns]"
      ]
     },
     "execution_count": 5,
     "metadata": {},
     "output_type": "execute_result"
    }
   ],
   "source": [
    "# Testing out pandas DataFrame creation\n",
    "# This cell has no effect on following cells\n",
    "\n",
    "colms=['Category']\n",
    "idata=['ABCDE12345']\n",
    "ncol=30\n",
    "for i in np.arange(ncol):\n",
    "    colms.append('code'+str(i+1))\n",
    "    idata.append('ABCDE12345')\n",
    "\n",
    "df=pd.DataFrame(columns=colms)\n",
    "col=df.columns\n",
    "df.loc[0]=idata\n",
    "df['Category'].loc[0]='Poo'\n",
    "df[col[1]].loc[0]='Tlacui'\n",
    "df[col[4]].loc[0]='gyO~@'\n",
    "df"
   ]
  },
  {
   "cell_type": "code",
   "execution_count": 6,
   "id": "2fe0e02c",
   "metadata": {},
   "outputs": [],
   "source": [
    "#shp_aaa=np.shape(aaa)\n",
    "#ilength = shp_aaa[0]"
   ]
  },
  {
   "cell_type": "code",
   "execution_count": 7,
   "id": "3a389e1e",
   "metadata": {},
   "outputs": [
    {
     "name": "stdout",
     "output_type": "stream",
     "text": [
      "ToHELOC ====> -26762.0\n"
     ]
    }
   ],
   "source": [
    "idens=(\"TRANSFER TO LOAN\",)\n",
    "Category=\"ToHELOC\"\n",
    "Spending(All=aaa,Category=Category,idens=idens)"
   ]
  },
  {
   "cell_type": "code",
   "execution_count": 8,
   "id": "4d6eaa99",
   "metadata": {},
   "outputs": [
    {
     "name": "stdout",
     "output_type": "stream",
     "text": [
      "FromHELOC ====> 0.0\n",
      "From HELOC 2 <== 72810.0\n"
     ]
    }
   ],
   "source": [
    "idens=(\"FROM LOAN\",)\n",
    "Category=\"FromHELOC\"\n",
    "Spending(All=aaa,Category=Category,idens=idens)\n",
    "print(\"From HELOC 2 <==\", np.sum(FromHELOC['Amount Credit']))"
   ]
  },
  {
   "cell_type": "code",
   "execution_count": 9,
   "id": "454a7d89",
   "metadata": {},
   "outputs": [
    {
     "name": "stdout",
     "output_type": "stream",
     "text": [
      "EatingOut ====> -21715.23\n"
     ]
    }
   ],
   "source": [
    "#Codes for fast-food, restaruarnts and brew pubs\n",
    "restoran=(\"5812 %%\",\"5813 %%\",\"5814 %%\",\"Long s Peak Pub\".upper(),)\n",
    "Category=\"EatingOut\"\n",
    "Spending(All=aaa,Category=Category,idens=restoran)"
   ]
  },
  {
   "cell_type": "code",
   "execution_count": 10,
   "id": "4b0caee5",
   "metadata": {},
   "outputs": [
    {
     "name": "stdout",
     "output_type": "stream",
     "text": [
      "Groceries ====> -26264.09\n"
     ]
    }
   ],
   "source": [
    "#Codes \"\n",
    "restoran=(\"5399 %%\", \"5411 %%\", \"5422 %%\",  \"5462 %%\",  \"5499 %%\",\n",
    "          \"WHOLEFDS\",\"SOOPERS\",\"SPROUTS\",\"SAFEWAY\", \"LONGMONT DAIRY\",\n",
    "          \"SAMSCLUB\",\"SAM'S Club\".upper(),\"TARGET\",\"NATURAL GROCER\",\n",
    "          \"CHEESE IMPORTER\",)\n",
    "\n",
    "Category=\"Groceries\"\n",
    "Spending(All=aaa,Category=Category,idens=restoran)"
   ]
  },
  {
   "cell_type": "code",
   "execution_count": 11,
   "id": "69c540dc",
   "metadata": {},
   "outputs": [
    {
     "name": "stdout",
     "output_type": "stream",
     "text": [
      "PhoneUtilities ====> -9246.289999999999\n"
     ]
    }
   ],
   "source": [
    "#Codes \"\n",
    "restoran=(\"CITY OF LONGMONT\",\"XCEL\",\"SPRINT\",\"LIVELY\")\n",
    "Category=\"PhoneUtilities\"\n",
    "Spending(All=aaa,Category=Category,idens=restoran,write=True)"
   ]
  },
  {
   "cell_type": "code",
   "execution_count": 12,
   "id": "f09bf883",
   "metadata": {},
   "outputs": [
    {
     "name": "stdout",
     "output_type": "stream",
     "text": [
      "Kiddies ====> -22107.0\n"
     ]
    }
   ],
   "source": [
    "#Codes for Kids\n",
    "restoran=(\"LUCAS\",\"JOHN\",\"EVA \",\"CLARA\",\n",
    "          )\n",
    "Category=\"Kiddies\"\n",
    "Spending(All=aaa,Category=Category,idens=restoran)\n",
    "\n",
    "#reset counter\n",
    "#So here we see function could need an \"exclude\" option"
   ]
  },
  {
   "cell_type": "code",
   "execution_count": 13,
   "id": "2fed1799",
   "metadata": {},
   "outputs": [
    {
     "name": "stdout",
     "output_type": "stream",
     "text": [
      "Liquor ====> -2557.5500000000006\n"
     ]
    }
   ],
   "source": [
    "\n",
    "#Codes for liquor stores\"\n",
    "restoran=(\"5921 %%\",\"LIQUOR\")\n",
    "Category=\"Liquor\"\n",
    "Spending(All=aaa,Category=Category,idens=restoran)"
   ]
  },
  {
   "cell_type": "code",
   "execution_count": 14,
   "id": "13adca19",
   "metadata": {},
   "outputs": [
    {
     "name": "stdout",
     "output_type": "stream",
     "text": [
      "Accounted for.    ===> -108572.12\n",
      "Still unaccounted ===> -164130.11\n"
     ]
    }
   ],
   "source": [
    "common_list = set(Groceries.index).intersection(EatingOut.index)\n",
    "AccountedForSet=set(Groceries.index).union(EatingOut.index,Liquor.index,Kiddies.index,\n",
    "                    ToHELOC.index,PhoneUtilities.index)\n",
    "UnAccountedForSet=set(aaa.index).difference(AccountedForSet)\n",
    "\n",
    "# returns items present only in set A\n",
    "# print(A.difference(B)) \n",
    "\n",
    "UnAccountedForIdx=list(UnAccountedForSet)\n",
    "AccountedForIdx=list(AccountedForSet)\n",
    "\n",
    "UnAccountedFor=aaa.loc[UnAccountedForIdx]\n",
    "AccountedFor=aaa.loc[AccountedForIdx]\n",
    "print(\"Accounted for.    ===>\",np.sum(AccountedFor['Amount Debit']))\n",
    "print(\"Still unaccounted ===>\",np.sum(UnAccountedFor['Amount Debit']))"
   ]
  },
  {
   "cell_type": "code",
   "execution_count": 15,
   "id": "94a14e1f",
   "metadata": {},
   "outputs": [
    {
     "name": "stdout",
     "output_type": "stream",
     "text": [
      "PennyMac ====> -31720.780000000006\n"
     ]
    }
   ],
   "source": [
    "#Codes \"\n",
    "restoran=(\"PENNYMAC\",)\n",
    "Category=\"PennyMac\"\n",
    "Spending(All=aaa,Category=Category,idens=restoran)"
   ]
  },
  {
   "cell_type": "code",
   "execution_count": 16,
   "id": "228142ca",
   "metadata": {},
   "outputs": [
    {
     "name": "stdout",
     "output_type": "stream",
     "text": [
      "OtherFixed ====> -17462.96\n"
     ]
    }
   ],
   "source": [
    "#Codes \"\n",
    "restoran=(\"TIAA-CREF\",\"BEST BUY\",\"PAYOFF\",\"NASA FCU\",\"APPLECARD\",\"SALLIE MAE\")\n",
    "Category=\"OtherFixed\"\n",
    "Spending(All=aaa,Category=Category,idens=restoran)"
   ]
  },
  {
   "cell_type": "code",
   "execution_count": 17,
   "id": "a54d6b2e",
   "metadata": {},
   "outputs": [
    {
     "name": "stdout",
     "output_type": "stream",
     "text": [
      "GEICO ====> -6601.12\n"
     ]
    }
   ],
   "source": [
    "#Codes \"\n",
    "restoran=(\"GEICO\",)\n",
    "Category=\"GEICO\"\n",
    "Spending(All=aaa,Category=Category,idens=restoran)"
   ]
  },
  {
   "cell_type": "code",
   "execution_count": 18,
   "id": "a6eebd86",
   "metadata": {},
   "outputs": [
    {
     "name": "stdout",
     "output_type": "stream",
     "text": [
      "CarsFuel ====> -5643.320000000001\n"
     ]
    }
   ],
   "source": [
    "#Codes \"\n",
    "restoran=(\"5511 %%\", \"5521 %%\",\"5532 %%\",\"5533 %%\",\"CIRCLE K\",\"5541 %%\",\"5542 %%\",\n",
    "          \"SHELL SERVICE\",\"MOTOR VEHICLE\",\"FOWLER OF LONGMONT\",\"BOWEN STREET GARAGE\",)\n",
    "Category=\"CarsFuel\"\n",
    "Spending(All=aaa,Category=Category,idens=restoran,write=True)"
   ]
  },
  {
   "cell_type": "code",
   "execution_count": 19,
   "id": "40177dd8",
   "metadata": {},
   "outputs": [
    {
     "name": "stdout",
     "output_type": "stream",
     "text": [
      "GuardianStorage ====> -2422.85\n"
     ]
    }
   ],
   "source": [
    "#Codes \"\n",
    "restoran=(\"GUARDIAN\",)\n",
    "Category=\"GuardianStorage\"\n",
    "Spending(All=aaa,Category=Category,idens=restoran)"
   ]
  },
  {
   "cell_type": "code",
   "execution_count": 20,
   "id": "dc70a746",
   "metadata": {},
   "outputs": [
    {
     "name": "stdout",
     "output_type": "stream",
     "text": [
      "KarenBricken ====> -6864.0\n"
     ]
    }
   ],
   "source": [
    "#Codes \"\n",
    "restoran=(\"KAREN BRICKEN\",\"BE CENTER\",)\n",
    "Category=\"KarenBricken\"\n",
    "Spending(All=aaa,Category=Category,idens=restoran)"
   ]
  },
  {
   "cell_type": "code",
   "execution_count": 21,
   "id": "af794d70",
   "metadata": {},
   "outputs": [
    {
     "name": "stdout",
     "output_type": "stream",
     "text": [
      "HomeHardware ====> -5993.96\n"
     ]
    }
   ],
   "source": [
    "#Codes \"\n",
    "restoran=(\"HOME DEPOT\",\"LOWE'S\",\"ACE HARDWAR\",\"SLADE GLASS\",\"BED BATH\",\"5992 %%\",\n",
    "          \"5193 %%\", \"5261 %%\",\"BIN THERE DUMP\",\"SUMMIT TREE CARE\",\"TEE GEE ROOTER\",\n",
    "          \"BEDBATH\",)\n",
    "Category=\"HomeHardware\"\n",
    "Spending(All=aaa,Category=Category,idens=restoran)"
   ]
  },
  {
   "cell_type": "code",
   "execution_count": 22,
   "id": "a54ef23e",
   "metadata": {},
   "outputs": [
    {
     "name": "stdout",
     "output_type": "stream",
     "text": [
      "Clothes ====> -4208.4\n"
     ]
    }
   ],
   "source": [
    "#Codes \"\n",
    "restoran=(\"MURDOCH\",\"BROWNS SHOE\",\"KOHLS\",\"5931 %%\",\"MACY'S\",\"DICK'S\",\n",
    "          \"DILLARDS\",\"MARSHALLS\",\"JOANN\",\"THREAD\",\"DSW\",\"YARN\",)\n",
    "Category=\"Clothes\"\n",
    "Spending(All=aaa,Category=Category,idens=restoran)"
   ]
  },
  {
   "cell_type": "code",
   "execution_count": 23,
   "id": "617e1e42",
   "metadata": {},
   "outputs": [
    {
     "name": "stdout",
     "output_type": "stream",
     "text": [
      "Office ====> -1408.84\n"
     ]
    }
   ],
   "source": [
    "#Codes \"\n",
    "restoran=(\"OFFICE\",\"STAPLES\",)\n",
    "Category=\"Office\"\n",
    "Spending(All=aaa,Category=Category,idens=restoran)"
   ]
  },
  {
   "cell_type": "code",
   "execution_count": 24,
   "id": "afe16e9d",
   "metadata": {},
   "outputs": [
    {
     "name": "stdout",
     "output_type": "stream",
     "text": [
      "HairCare ====> -2924.74\n"
     ]
    }
   ],
   "source": [
    "#Codes \"\n",
    "restoran=(\"1313 A SALON\",\"ULTA\",)\n",
    "Category=\"HairCare\"\n",
    "Spending(All=aaa,Category=Category,idens=restoran)"
   ]
  },
  {
   "cell_type": "code",
   "execution_count": 25,
   "id": "61713fbc",
   "metadata": {},
   "outputs": [
    {
     "name": "stdout",
     "output_type": "stream",
     "text": [
      "Hotels ====> -5726.89\n"
     ]
    }
   ],
   "source": [
    "#Codes \"\n",
    "restoran=(\"HOTEL\",\"AIRBNB\",\"5947 %%\")\n",
    "Category=\"Hotels\"\n",
    "Spending(All=aaa,Category=Category,idens=restoran)"
   ]
  },
  {
   "cell_type": "code",
   "execution_count": 26,
   "id": "9cc5b315",
   "metadata": {},
   "outputs": [
    {
     "name": "stdout",
     "output_type": "stream",
     "text": [
      "Airlines ====> -2933.43\n"
     ]
    }
   ],
   "source": [
    "#Codes \"\n",
    "restoran=(\"FRONTIER\",\"SPIRIT AIR\",\"AIR CANADA\",\"AMERICAN AIR\",)\n",
    "Category=\"Airlines\"\n",
    "Spending(All=aaa,Category=Category,idens=restoran)"
   ]
  },
  {
   "cell_type": "code",
   "execution_count": 27,
   "id": "06ae44d4",
   "metadata": {},
   "outputs": [
    {
     "name": "stdout",
     "output_type": "stream",
     "text": [
      "Accounted for.    ===> -201359.54\n",
      "Still unaccounted ===> -71342.69\n"
     ]
    }
   ],
   "source": [
    "AccountedForSet=set(AccountedFor.index).union(PennyMac.index,OtherFixed.index,\n",
    "                    GEICO.index,KarenBricken.index,GuardianStorage.index,\n",
    "                    CarsFuel.index,HomeHardware.index,Clothes.index,Office.index,\n",
    "                    HairCare.index,Hotels.index,Airlines.index)\n",
    "UnAccountedForSet=set(aaa.index).difference(AccountedForSet)\n",
    "\n",
    "# returns items present only in set A\n",
    "# print(A.difference(B)) \n",
    "\n",
    "UnAccountedForIdx=list(UnAccountedForSet)\n",
    "AccountedForIdx=list(AccountedForSet)\n",
    "\n",
    "UnAccountedFor=aaa.loc[UnAccountedForIdx]\n",
    "AccountedFor=aaa.loc[AccountedForIdx]\n",
    "print(\"Accounted for.    ===>\",np.sum(AccountedFor['Amount Debit']))\n",
    "print(\"Still unaccounted ===>\",np.sum(UnAccountedFor['Amount Debit']))"
   ]
  },
  {
   "cell_type": "code",
   "execution_count": 28,
   "id": "ab5aec2d",
   "metadata": {},
   "outputs": [
    {
     "name": "stdout",
     "output_type": "stream",
     "text": [
      "Prime ====> -4401.24\n"
     ]
    }
   ],
   "source": [
    "#Codes \"\n",
    "restoran=(\"AMZN\",\"PRIME VIDEO\",\"AMAZON\",\"APPLE\",\"ROKU\",\"HBO\",\"DISNEY\",\"5818 %%\",\n",
    "         \"NETFLIX\",\"SPOTIFY\",)\n",
    "Category=\"Prime\"\n",
    "Spending(All=UnAccountedFor,Category=Category,idens=restoran,write=True)"
   ]
  },
  {
   "cell_type": "code",
   "execution_count": 29,
   "id": "3a4d7c02",
   "metadata": {},
   "outputs": [
    {
     "name": "stdout",
     "output_type": "stream",
     "text": [
      "Donation ====> -920.3999999999999\n"
     ]
    }
   ],
   "source": [
    "#Codes \"\n",
    "restoran=(\"KUVO\",\"ORNIT\",\"WIKIMEDIA\",)\n",
    "Category=\"Donation\"\n",
    "Spending(All=UnAccountedFor,Category=Category,idens=restoran,write=True)"
   ]
  },
  {
   "cell_type": "code",
   "execution_count": 30,
   "id": "ec86d04b",
   "metadata": {},
   "outputs": [
    {
     "name": "stdout",
     "output_type": "stream",
     "text": [
      "Pharma ====> -1218.1799999999998\n"
     ]
    }
   ],
   "source": [
    "#Codes \"\n",
    "restoran=(\"KAISER\",\"WALGREEN\",\"PHARM\",\"8099 %%\",)\n",
    "Category=\"Pharma\"\n",
    "Spending(All=UnAccountedFor,Category=Category,idens=restoran,write=True)"
   ]
  },
  {
   "cell_type": "code",
   "execution_count": 31,
   "id": "165cde7e",
   "metadata": {},
   "outputs": [
    {
     "name": "stdout",
     "output_type": "stream",
     "text": [
      "Guitar ====> -1385.37\n"
     ]
    }
   ],
   "source": [
    "#Codes \"\n",
    "restoran=(\"WELLS FARGO BAN\",\"GUITAR\",)\n",
    "Category=\"Guitar\"\n",
    "Spending(All=UnAccountedFor,Category=Category,idens=restoran,write=True)"
   ]
  },
  {
   "cell_type": "code",
   "execution_count": 32,
   "id": "d4cf3231",
   "metadata": {},
   "outputs": [],
   "source": [
    "ResidSet=set(UnAccountedFor.index).difference(\n",
    "         set(Prime.index).union(Donation.index,Pharma.index,Guitar.index))\n",
    "\n",
    "#UnAccountedForIdx=list(UnAccountedForSet)\n",
    "#UnAccountedFor=UnAccountedFor.loc[UnAccountedForIdx]\n",
    "#UnAccountedFor.sort_values(by=['Amount Debit'],ascending=True,inplace=True)\n",
    "#UnAccountedFor.to_csv('/Users/juliob/Desktop/grocer/UnAccounted.csv')"
   ]
  },
  {
   "cell_type": "code",
   "execution_count": 33,
   "id": "8aa91858",
   "metadata": {},
   "outputs": [
    {
     "name": "stdout",
     "output_type": "stream",
     "text": [
      "Residual.    ===> -63417.5\n"
     ]
    }
   ],
   "source": [
    "ResidIdx=list(ResidSet)\n",
    "Resid=UnAccountedFor.loc[ResidIdx]\n",
    "print(\"Residual.    ===>\",np.sum(Resid['Amount Debit']))\n"
   ]
  },
  {
   "cell_type": "code",
   "execution_count": 34,
   "id": "1f709693",
   "metadata": {},
   "outputs": [],
   "source": [
    "#UnAccountedFor.sort_values(by=['Amount Debit'],ascending=True,inplace=True)\n",
    "#UnAccountedFor.to_csv('/Users/juliob/Desktop/grocer/UnAccounted.csv')\n",
    "Resid.sort_values(by=['Amount Debit'],ascending=True,inplace=True)\n",
    "Resid.to_csv('/Users/juliob/Desktop/grocer/Residual.csv')\n",
    "Prime.to_csv('/Users/juliob/Desktop/grocer/Prime.csv')\n"
   ]
  },
  {
   "cell_type": "code",
   "execution_count": 35,
   "id": "0aea85b7",
   "metadata": {},
   "outputs": [
    {
     "name": "stdout",
     "output_type": "stream",
     "text": [
      "1007\n",
      "637\n"
     ]
    }
   ],
   "source": [
    "soo=-UnAccountedFor['Amount Debit']\n",
    "print(len(soo))\n",
    "soo=-Resid['Amount Debit']\n",
    "print(len(soo))\n",
    "#soo=-Prime['Amount Debit']\n",
    "#print(len(soo))"
   ]
  },
  {
   "cell_type": "code",
   "execution_count": 35,
   "id": "5912e2b0",
   "metadata": {},
   "outputs": [
    {
     "name": "stdout",
     "output_type": "stream",
     "text": [
      "(10999,)\n",
      "63309.75543231202\n"
     ]
    },
    {
     "data": {
      "text/plain": [
       "(0.0, 100000.0)"
      ]
     },
     "execution_count": 35,
     "metadata": {},
     "output_type": "execute_result"
    },
    {
     "data": {
      "image/png": "[encoded data removed]",
      "text/plain": [
       "<Figure size 432x288 with 1 Axes>"
      ]
     },
     "metadata": {
      "needs_background": "light"
     },
     "output_type": "display_data"
    }
   ],
   "source": [
    "bnum=11000\n",
    "bin=np.linspace(0,11000.,num=bnum)\n",
    "abin=0.5*(bin[1:]+bin[0:bnum-1])\n",
    "print(np.shape(abin))\n",
    "\n",
    "hoo=np.histogram(soo,bins=bin)\n",
    "\n",
    "print(np.sum(hoo[0]*abin))\n",
    "ahoo=np.cumsum(hoo[0]*abin)\n",
    "#print(hoo[1])\n",
    "#plt.plot(abin,ahoo)\n",
    "#plt.xlim(0,1000)\n",
    "plt.plot(abin,ahoo)\n",
    "plt.xlim(0,1000)\n",
    "plt.ylim(0,100000.)"
   ]
  },
  {
   "cell_type": "code",
   "execution_count": 39,
   "id": "24bcb01a",
   "metadata": {},
   "outputs": [
    {
     "name": "stdout",
     "output_type": "stream",
     "text": [
      "(10999,)\n"
     ]
    },
    {
     "data": {
      "text/plain": [
       "(0.0, 1000.0)"
      ]
     },
     "execution_count": 39,
     "metadata": {},
     "output_type": "execute_result"
    },
    {
     "data": {
      "image/png": "[encoded data removed]",
      "text/plain": [
       "<Figure size 432x288 with 1 Axes>"
      ]
     },
     "metadata": {
      "needs_background": "light"
     },
     "output_type": "display_data"
    }
   ],
   "source": [
    "bnum=11000\n",
    "bin=np.linspace(0,11000.,num=bnum)\n",
    "abin=0.5*(bin[1:]+bin[0:bnum-1])\n",
    "print(np.shape(abin))\n",
    "\n",
    "hoo=np.histogram(soo,bins=bin)\n",
    "\n",
    "ahoo=np.cumsum(hoo[0])\n",
    "plt.plot(abin,ahoo)\n",
    "plt.xlim(0,1000)\n",
    "plt.ylim(0,1000.)"
   ]
  },
  {
   "cell_type": "code",
   "execution_count": null,
   "id": "d23e7797",
   "metadata": {},
   "outputs": [],
   "source": [
    "#plt.plot( g['Amount Debit'])\n",
    "print(np.sum( g1['Amount Debit'] )+ np.sum(g2['Amount Debit']) + np.sum(g3['Amount Debit']) \n",
    "      + np.sum(g4['Amount Debit'] ) )"
   ]
  },
  {
   "cell_type": "code",
   "execution_count": null,
   "id": "fa0a892f",
   "metadata": {},
   "outputs": [],
   "source": [
    "soo= -aaa['Amount Debit']\n",
    "poo= aaa['Amount Credit']\n",
    "aaa['Date']=pd.to_datetime( aaa['Date'] )\n",
    "#plt.plot(soo)\n",
    "print(np.sum(soo))\n",
    "print(np.sum(poo))\n",
    "aaa['Date'].dt.month[10]\n",
    "\n",
    "dates = aaa['Date']\n",
    "\n",
    "for imo in np.arange(11):\n",
    "    month=imo+1\n",
    "    zz=np.where(dates.dt.month==month)\n",
    "    print(np.shape(zz))\n",
    "    dates[zz[0][0]]\n",
    "    bbb=aaa.iloc[zz[0]]\n",
    "    x=np.sum(bbb['Amount Debit'])\n",
    "    y=np.sum(bbb['Amount Credit'])\n",
    "    print(  \"month\", month,\" debits=\", f'{ x:.1f}', \" credits=\", f'{ y:.1f}' )"
   ]
  },
  {
   "cell_type": "code",
   "execution_count": null,
   "id": "92dbfd4e",
   "metadata": {},
   "outputs": [],
   "source": [
    "gto=[g1,g2,g3,g4]"
   ]
  },
  {
   "cell_type": "code",
   "execution_count": null,
   "id": "62dc0f4c",
   "metadata": {},
   "outputs": [],
   "source": [
    "roo=pd.concat( gto )"
   ]
  },
  {
   "cell_type": "code",
   "execution_count": null,
   "id": "d63b5265",
   "metadata": {},
   "outputs": [],
   "source": [
    "file='/Users/juliob/Desktop/grocer/AllStores.csv'"
   ]
  },
  {
   "cell_type": "code",
   "execution_count": null,
   "id": "b7f9cf51",
   "metadata": {},
   "outputs": [],
   "source": [
    "roo.to_csv(file)"
   ]
  },
  {
   "cell_type": "code",
   "execution_count": null,
   "id": "2c7586d8",
   "metadata": {},
   "outputs": [],
   "source": [
    "print((np.sum( g1['Amount Debit'] )+ np.sum(g2['Amount Debit']) + np.sum(g3['Amount Debit']) \n",
    "      + np.sum(g4['Amount Debit'] ) )/4.5)"
   ]
  },
  {
   "cell_type": "code",
   "execution_count": null,
   "id": "6b07337f",
   "metadata": {},
   "outputs": [],
   "source": []
  }
 ],
 "metadata": {
  "kernelspec": {
   "display_name": "Python [conda env:mlenv]",
   "language": "python",
   "name": "conda-env-mlenv-py"
  },
  "language_info": {
   "codemirror_mode": {
    "name": "ipython",
    "version": 3
   },
   "file_extension": ".py",
   "mimetype": "text/x-python",
   "name": "python",
   "nbconvert_exporter": "python",
   "pygments_lexer": "ipython3",
   "version": "3.9.12"
  }
 },
 "nbformat": 4,
 "nbformat_minor": 5
}
