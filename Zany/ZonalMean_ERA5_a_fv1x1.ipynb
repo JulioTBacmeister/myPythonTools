{
 "cells": [
  {
   "cell_type": "code",
   "execution_count": null,
   "id": "63d15e59-36e8-41b3-b714-04c1b5171cb7",
   "metadata": {},
   "outputs": [],
   "source": [
    "################################################\n",
    "# New style \n",
    "################################################\n",
    "import sys\n",
    "import os\n",
    "\n",
    "workdir_ = '/glade/work/juliob'\n",
    "if ( workdir_ not in sys.path ):\n",
    "    sys.path.append(workdir_)\n",
    "    print( f\" a path to {workdir_} added in {__name__} \")\n",
    "\n",
    "from myPythonTools.Utils import utils as uti\n",
    "from myPythonTools.Utils import numerical_utils as nuti\n",
    "from myPythonTools.Utils import AveragingUtils as Av\n",
    "from myPythonTools.Utils import validation_data as Val\n",
    "from myPythonTools.Utils import PlotUtil as Pu\n",
    "from myPythonTools.Plotting import LatLonMaps as LL \n",
    "from myPythonTools.Plotting import utils as puti\n",
    "from myPythonTools.CASutils import filter_utils as fu \n",
    "\n",
    "from PyRegridding.Utils import GridUtils as GrU\n",
    "from PyRegridding.Utils import MakePressures as MkP\n",
    "from PyRegridding.Drivers import RegridField as RgF\n",
    "\n",
    "\n",
    "# The usual\n",
    "from datetime import date\n",
    "import numpy as np\n",
    "import xarray as xr\n",
    "import matplotlib.pyplot as plt\n",
    "import matplotlib.tri as tri\n",
    "\n",
    "# Some other useful packages \n",
    "import importlib\n",
    "import copy\n",
    "import time\n",
    "import cftime\n",
    "\n",
    "importlib.reload( uti )\n",
    "importlib.reload( puti )\n",
    "importlib.reload( Pu )\n",
    "importlib.reload(Av)\n",
    "importlib.reload(Val)\n",
    "#importlib.reload(vAB)\n",
    "importlib.reload(MkP)\n",
    "importlib.reload(RgF)\n",
    "\n",
    "RgObs={}\n"
   ]
  },
  {
   "cell_type": "raw",
   "id": "96fdd161-01c6-4fff-959a-78a8aebac13e",
   "metadata": {},
   "source": [
    "\n",
    "\n",
    "Dir_in  = '/glade/campaign/cgd/amp/juliob/ERA5/fv1x1_monthly/'\n",
    "Dir_out = '/glade/campaign/cgd/amp/juliob/ERA5/fv1x1_monthly/'\n",
    "#######\n",
    "os.makedirs( Dir_out , exist_ok=True )\n",
    "        \n",
    "for y in np.arange( start=1979, stop=2023 ):\n",
    "    for m in np.arange( start=1, stop=13 ):\n",
    "        \n",
    "        \n",
    "        file_in = f'ERA5.fv1x1_zERA.time.{str(y).zfill(4)}-{str(m).zfill(2)}.nc'\n",
    "        file_out = f'ERA5.fv1x1_zERA_zonal.time.{str(y).zfill(4)}-{str(m).zfill(2)}.nc'\n",
    "        X = xr.open_dataset( f'{Dir_in}/{file_in}' )\n",
    "        Xzon = X.mean(dim='lon')\n",
    "        Xzon.to_netcdf( f'{Dir_in}/{file_out}' )\n",
    "        print(  f' ... Wrote {Dir_in}/{file_out}' )\n",
    "\n"
   ]
  },
  {
   "cell_type": "code",
   "execution_count": null,
   "id": "3688baea-5bd7-4d13-8a56-fc54bbc5ba42",
   "metadata": {},
   "outputs": [],
   "source": [
    "Ug = xr.open_mfdataset( \"/glade/campaign/cgd/amp/juliob/ERA5/fv1x1_monthly/ZY/ERA5.fv1x1_zERA_zonal.time.*.nc\"  )  #f'{Dir_in}/{file_out}'  )"
   ]
  },
  {
   "cell_type": "code",
   "execution_count": null,
   "id": "515ef47d-0c9d-4a93-baba-029f37bc1363",
   "metadata": {},
   "outputs": [],
   "source": [
    "u=Ug.U.values"
   ]
  },
  {
   "cell_type": "code",
   "execution_count": null,
   "id": "7c2ba8ea-844c-4281-8d60-4bdb8a3f99b4",
   "metadata": {},
   "outputs": [],
   "source": [
    "for y in np.arange(44):\n",
    "    plt.plot(  np.average( u[y*12+[5,6,7],10,:], axis=0) )\n",
    "    #plt.plot( u[y*12+6,10,:] )   \n",
    "    #plt.plot( u[y*12+7,10,:] )"
   ]
  },
  {
   "cell_type": "code",
   "execution_count": null,
   "id": "ba6f1ec7-1481-44d5-9a40-d6c71a4c9b75",
   "metadata": {},
   "outputs": [],
   "source": [
    "# Stack over the dimension you're looping on\n",
    "vals = np.stack([\n",
    "    np.average(u[y*12 + [5, 6, 7], 10, :], axis=0)\n",
    "    for y in np.arange(44)\n",
    "])\n",
    "\n",
    "mean = np.mean(vals, axis=0)\n",
    "min_ = np.min(vals, axis=0)\n",
    "max_ = np.max(vals, axis=0)\n",
    "\n",
    "x = np.arange(mean.shape[0])  # or your actual x-axis\n",
    "\n",
    "plt.plot(x, mean, label='Mean')\n",
    "plt.fill_between(x, min_, max_, alpha=0.3, label='Min/Max Envelope')\n",
    "plt.legend()\n",
    "plt.grid(True)\n",
    "plt.title('Zonal mean ± envelope')\n"
   ]
  },
  {
   "cell_type": "code",
   "execution_count": null,
   "id": "74fc98bf-b74a-43d2-a955-ad69a78e825c",
   "metadata": {},
   "outputs": [],
   "source": [
    "vals = np.stack([\n",
    "    np.average(u[y*12 + [5, 6, 7], 10, :], axis=0)\n",
    "    for y in np.arange(44)\n",
    "])\n",
    "\n",
    "mean = np.mean(vals, axis=0)\n",
    "std  = np.std(vals, axis=0)\n",
    "\n",
    "x = np.arange(mean.shape[0])  # or your real x-axis\n",
    "\n",
    "plt.plot(x, mean, label='Mean')\n",
    "plt.fill_between(x, mean - 2*std, mean + 2*std, alpha=0.3, label='±2 Std Dev')\n",
    "plt.legend()\n",
    "plt.grid(True)\n"
   ]
  },
  {
   "cell_type": "code",
   "execution_count": null,
   "id": "369e253b-2df2-4989-812d-a98f33cf653f",
   "metadata": {},
   "outputs": [],
   "source": [
    "import yaml\n",
    "\n",
    "exp_file = 'Utility.yaml'\n",
    "fld='U'\n",
    "#xl= ['control','NOmovmtn', 'NOfronts', 'movmtn_t01','movmtn_t02','movmtn_t03','fronts_t01', 'CMIP6_WACCM' ] #'fmt_tau_amplify_150'] #,'tau_reduce_50','tau_amplify_200'] #'ne240x2_QxQsst']\n",
    "xl= ['control', 'NOmovmtn', ] #'CMIP6_WACCM' ] #'fmt_tau_amplify_150'] #,'tau_reduce_50','tau_amplify_200'] #'ne240x2_QxQsst']\n",
    "\n",
    "exp_file=f'../YAML/{exp_file}'\n",
    "with open( exp_file, 'r') as file:\n",
    "    cfg = yaml.safe_load(file)\n",
    "\n",
    "Al =[]\n",
    "for x in xl:\n",
    "    print( cfg[x]['SrcVgrid'] )\n",
    "    exp, subd, Src, Hkey, Dst, useri = cfg[x]['name'] , cfg[x]['subdir'] , cfg[x]['SrcGrid'] , cfg[x]['Hkey'] , cfg[x]['DstGrid'] , cfg[x]['user'] \n",
    "    ymdPat = '*' #['1990-*' , '1991-*' ] #cfg[x]['ymdPat']\n",
    "    print( exp, subd, Src, Hkey, Dst, useri )\n",
    "    print( ymdPat  )\n",
    "    \n",
    "    A = uti.MakeDict4Exp( exp=exp , user=useri, subd=subd , \n",
    "                        hsPat='cam.h0a' , ymdPat=ymdPat, cmip_fld=fld,\n",
    "                        verbose=True, open_dataset=True )\n",
    "    A['alias']=x\n",
    "    A['Src']=Src\n",
    "    if ('SrcVgrid' in cfg[x]):\n",
    "        A['SrcVgrid']=cfg[x]['SrcVgrid']\n",
    "        print( f\"SrcVgrid for {x} = {A['SrcVgrid']} \")\n",
    "    else:\n",
    "        print( f'No SrcVgrid in {x}' )\n",
    "    A['Hkey']=Hkey\n",
    "    if 'gw_parameters' in cfg[x]:\n",
    "        A['gw_parameters'] = cfg[x]['gw_parameters']\n",
    "    if 'desc' in cfg[x]:\n",
    "        A['desc'] = cfg[x]['desc']\n",
    "    Al.append( A )\n",
    "    print( f'Vertcal levs - {A.X.lev.shape}' )\n",
    "    print( f'{A.exp} Years {len(A.X.time) /12. } \\n')\n"
   ]
  },
  {
   "cell_type": "code",
   "execution_count": null,
   "id": "5891625d-c4dd-4ff6-9fbf-09eacc54a832",
   "metadata": {},
   "outputs": [],
   "source": [
    "%%time\n",
    "all_x_fv1x1_zERA = False #True \n",
    "for A in Al:\n",
    "    Hkey = A['Hkey']\n",
    "    Src  = A['Src']\n",
    "    AAa_s = A.X.U.values\n",
    "    PSa_s = A.X.PS.values\n",
    "    \n",
    "    if (Hkey=='c'):\n",
    "        ########################\n",
    "        # Option 2 from unstructured SE data\n",
    "        ########################\n",
    "        \n",
    "        Dst = 'fv1x1'\n",
    "        DstInfo = GrU.gridInfo(Dst) #,Vgrid=DstVgrid)\n",
    "        lat_a,lon_a = GrU.latlon( scrip= DstInfo['scrip'], Hkey=DstInfo['Hkey'] )\n",
    "    \n",
    "        RegridObj = GrU.regrid_object_lib(RgOb=RgObs, src=Src, dst=Dst)\n",
    "\n",
    "        # Chunk it out for better performance (memory?)...\n",
    "        nt,nz, ny, nx = len( A.X.time ),len( A.X.lev ), len( lat_a), len( lon_a )\n",
    "        if (all_x_fv1x1_zERA == True ):\n",
    "             nz = 137\n",
    "\n",
    "        chnksize=0 #6\n",
    "        if ( chnksize > 0 ):\n",
    "            nchnks = nt // chnksize\n",
    "            print( \"Shape = \",nchnks, nt, nz, ny, nx )\n",
    "            AAa_s_yx = np.zeros( (nchnks*chnksize ,nz,ny,nx) )\n",
    "            for y in np.arange( nchnks ):\n",
    "                AAa_chnk = AAa_s[ y*chnksize:y*chnksize+chnksize , :,: ]\n",
    "                PSa_chnk = PSa_s[ y*chnksize:y*chnksize+chnksize , : ]\n",
    "                AAa_chnk_yx=RgF.Horz(xfld_Src=AAa_chnk , Src=Src, Dst=Dst , RegridObj_In= RegridObj )\n",
    "                if (all_x_fv1x1_zERA == True ):\n",
    "                    PSa_chnk_yx=RgF.Horz(xfld_Src=PSa_chnk , Src=Src, Dst=Dst , RegridObj_In= RegridObj )\n",
    "                    DstVgrid='ERA5'\n",
    "                    SrcVgrid=A['SrcVgrid']\n",
    "                    AAa_chnk_yx_zERA,pmid_zERA,pmid_Src, lev_zERA, lev_Src =RgF.Vert(xfld_Src=AAa_chnk_yx, DstVgrid=DstVgrid, DstTZHkey='tzyx', SrcVgrid=SrcVgrid,  ps_Src=PSa_chnk_yx, long_output=True )\n",
    "                    AAa_s_yx[y*chnksize:y*chnksize+chnksize  , :,:,: ] = AAa_chnk_yx_zERA\n",
    "                    print( \"Chunk shape = \", np.shape(AAa_chnk_yx_zERA ) , \"chunk=\" ,y ,\" of \", nchnks)\n",
    "                    lev_a=lev_zERA\n",
    "                    zlev_a=-7.0*np.log( lev_a/1_000. )\n",
    "                else:\n",
    "                    AAa_s_yx[y*chnksize:y*chnksize+chnksize  , :,:,: ] = AAa_chnk_yx\n",
    "                    lev_a=A.X.lev.values\n",
    "                    zlev_a=-7.0*np.log( lev_a/1_000. )\n",
    "                    \n",
    "        else:\n",
    "            print( \"Shape = \", nt, nz, ny, nx )\n",
    "            AAa_s_yx=RgF.Horz(xfld_Src=AAa_s , Src=Src, Dst=Dst , RegridObj_In= RegridObj )\n",
    "            lev_a=A.X.lev.values\n",
    "            zlev_a=-7.0*np.log( lev_a/1_000. )\n",
    "                \n",
    "            \n",
    "        A['AAa_s_yx']= AAa_s_yx\n",
    "        A['zlev']= zlev_a\n",
    "        A['lev']= lev_a\n",
    "        A['lat']= lat_a\n",
    "        A['lon']= lon_a\n",
    "            \n",
    "        \n"
   ]
  },
  {
   "cell_type": "code",
   "execution_count": null,
   "id": "edb19b2f-5594-4b92-b5d2-e0122c538bfc",
   "metadata": {},
   "outputs": [],
   "source": [
    "for A in Al:\n",
    "    AAa_s_yx = A['AAa_s_yx']\n",
    "    AAa_s_zav = np.average( AAa_s_yx , axis=3)\n",
    "    A['AAa_s_zav'] = AAa_s_zav\n"
   ]
  },
  {
   "cell_type": "code",
   "execution_count": null,
   "id": "0dd40e70-a0dd-406e-a214-1727db25f69b",
   "metadata": {},
   "outputs": [],
   "source": [
    "AAa_s_zav.shape"
   ]
  },
  {
   "cell_type": "code",
   "execution_count": null,
   "id": "cb51a6e5-b932-41c2-8906-92d102a0466b",
   "metadata": {},
   "outputs": [],
   "source": [
    "vals = np.stack([\n",
    "    np.average(AAa_s_zav[y*12 + [5, 6, 7], :, :], axis=0)\n",
    "    for y in np.arange(12)\n",
    "])\n"
   ]
  },
  {
   "cell_type": "code",
   "execution_count": null,
   "id": "8c92da65-0b56-4041-9958-8d8f1a80e68e",
   "metadata": {},
   "outputs": [],
   "source": [
    "import jetaxis as jax\n",
    "importlib.reload( jax )"
   ]
  },
  {
   "cell_type": "code",
   "execution_count": null,
   "id": "29087f7e-305d-4d3b-be70-6d076a7b00dd",
   "metadata": {},
   "outputs": [],
   "source": [
    "Al[1].Src "
   ]
  },
  {
   "cell_type": "code",
   "execution_count": null,
   "id": "fc30e14f-5464-4b9c-90a6-ad0bf876b0c2",
   "metadata": {},
   "outputs": [],
   "source": [
    "jaxes=jax.lat_z( u=vals, lat=lat_a )\n",
    "\n",
    "mean = np.mean(jaxes, axis=0)\n",
    "min_ = np.min(jaxes, axis=0)\n",
    "max_ = np.max(jaxes, axis=0)\n",
    "\n",
    "\n",
    "jaxes2,mean2,min2_,max2_ = jax.make_axes_mean_range( X=Al[1].X, Src=Al[1].Src )\n"
   ]
  },
  {
   "cell_type": "code",
   "execution_count": null,
   "id": "a28c0ab0-8994-4d08-a186-860249c2a2c8",
   "metadata": {},
   "outputs": [],
   "source": [
    "plt.contour( lat_a, zlev_a, np.average( vals , axis=0 )  )\n",
    "plt.plot( mean2 ,zlev_a )\n",
    "plt.fill_betweenx(zlev_a , min2_ , max2_ , alpha=0.3, label='±2 Std Dev')\n"
   ]
  },
  {
   "cell_type": "code",
   "execution_count": null,
   "id": "5219a0a6-2455-4a5e-ac76-97c61b22608f",
   "metadata": {},
   "outputs": [],
   "source": [
    "plt.contour( lat_a, zlev_a, np.average( vals , axis=0 )  )\n",
    "plt.plot( mean ,zlev_a )\n",
    "plt.fill_betweenx(zlev_a , min_ , max_ , alpha=0.3, label='±2 Std Dev')\n"
   ]
  },
  {
   "cell_type": "code",
   "execution_count": null,
   "id": "d1e0e771-137d-4e59-96a5-db7d0e879aa1",
   "metadata": {},
   "outputs": [],
   "source": [
    "plt.contour( lat_a, zlev_a, np.average( vals , axis=0 ) )\n",
    "for year in np.arange( 12 ):\n",
    "    plt.plot( jaxes[year,:],zlev_a )"
   ]
  },
  {
   "cell_type": "code",
   "execution_count": null,
   "id": "44448a06-dbe9-47cc-8240-17117a336a87",
   "metadata": {},
   "outputs": [],
   "source": [
    "\n",
    "\n",
    "\n",
    "\n",
    "print( np.shape( poo ) )\n",
    "print( poo )"
   ]
  },
  {
   "cell_type": "code",
   "execution_count": null,
   "id": "715a4027-7c4a-4e1a-8668-19228245ab73",
   "metadata": {},
   "outputs": [],
   "source": [
    "\n",
    "#print(zlev_a[z])\n",
    "\n",
    "fig,axs=plt.subplots(1,2, figsize=(14,8))\n",
    "axs=axs.flatten()\n",
    "\n",
    "i=0\n",
    "for A in Al:\n",
    "    ax=axs[i]\n",
    "    AAa_s_zav = A['AAa_s_zav']\n",
    "    z=5\n",
    "    print( f'Model level {A['zlev'][z]}' )\n",
    "    vals = np.stack([\n",
    "        np.average(AAa_s_zav[y*12 + [5, 6, 7], z, :], axis=0)\n",
    "        for y in np.arange(12)\n",
    "    ])\n",
    "    \n",
    "    mean = np.mean(vals, axis=0)\n",
    "    std  = np.std(vals, axis=0)\n",
    "    \n",
    "    x = lat_a # np.arange(mean.shape[0])  # or your real x-axis\n",
    "    \n",
    "    ax.plot(x, mean, label=A['alias'])\n",
    "    ax.fill_between(x, mean - 2*std, mean + 2*std, alpha=0.3, label='±2 Std Dev')\n",
    "\n",
    "    z=13\n",
    "    vals = np.stack([\n",
    "        np.average(u[y*12 + [5, 6, 7], z, :], axis=0)\n",
    "        for y in np.arange(44)\n",
    "    ])\n",
    "    \n",
    "    mean = np.mean(vals, axis=0)\n",
    "    std  = np.std(vals, axis=0)\n",
    "    \n",
    "    x = lat_a # np.arange(mean.shape[0])  # or your real x-axis\n",
    "    \n",
    "    ax.plot(x, mean, label='ERA5')\n",
    "    ax.fill_between(x, mean - 2*std, mean + 2*std, alpha=0.3, label='±2 Std Dev')\n",
    "    ax.legend()\n",
    "    ax.grid(True)\n",
    "    ax.set_ylim(-50,130)\n",
    "    ax.set_xlim(-90,0)\n",
    "    i=i+1\n",
    "    \n"
   ]
  },
  {
   "cell_type": "code",
   "execution_count": null,
   "id": "2e7bbcdc-9e34-4cf0-9d9a-de2b67b0ab07",
   "metadata": {},
   "outputs": [],
   "source": [
    "plt.plot( AAa_s_yx[ :, 10, 100, 144] , color='red')\n",
    "#plt.xlim( 0,36)"
   ]
  },
  {
   "cell_type": "code",
   "execution_count": null,
   "id": "4075674f-b35e-47f2-8463-575e3602f3c0",
   "metadata": {},
   "outputs": [],
   "source": [
    "plt.plot( AAa_s_yx[ :, 10, 100, 144] )\n",
    "#plt.xlim( 0,36)"
   ]
  },
  {
   "cell_type": "code",
   "execution_count": null,
   "id": "8cbf9c02-e694-4dde-b5d9-3357a9a7798e",
   "metadata": {},
   "outputs": [],
   "source": [
    "plt.contour( lat_a, zlev_a, np.average( AAa_s_yx[6,:,:,:],axis=2) )"
   ]
  },
  {
   "cell_type": "code",
   "execution_count": null,
   "id": "2810e235-cd29-453d-bf02-126154263bf0",
   "metadata": {},
   "outputs": [],
   "source": [
    "time=Ug.time.values"
   ]
  },
  {
   "cell_type": "code",
   "execution_count": null,
   "id": "c67e17e3-880e-41ac-bd31-cd32ecbdeec2",
   "metadata": {},
   "outputs": [],
   "source": [
    "print( time[0:2] )"
   ]
  },
  {
   "cell_type": "raw",
   "id": "b271e646-fb5c-45cc-a327-13db30b1fe04",
   "metadata": {},
   "source": [
    "uu=X.U.values\n",
    "\n",
    "\n",
    "plt.contour( np.average( uu[0,:,:,:], axis=2 ))\n",
    "\n",
    "Xzon = X.mean(dim='lon')\n",
    "\n",
    "print( f'{Dir_in}/{file_out}') \n",
    "\n",
    "Xzon.to_netcdf( f'{Dir_in}/{file_out}' )"
   ]
  },
  {
   "cell_type": "code",
   "execution_count": null,
   "id": "f99b2bcf-f36e-4618-b220-ce82a4da1f7c",
   "metadata": {},
   "outputs": [],
   "source": []
  }
 ],
 "metadata": {
  "kernelspec": {
   "display_name": "NPL 2025a",
   "language": "python",
   "name": "npl-2025a"
  },
  "language_info": {
   "codemirror_mode": {
    "name": "ipython",
    "version": 3
   },
   "file_extension": ".py",
   "mimetype": "text/x-python",
   "name": "python",
   "nbconvert_exporter": "python",
   "pygments_lexer": "ipython3",
   "version": "3.12.8"
  }
 },
 "nbformat": 4,
 "nbformat_minor": 5
}
