{
 "cells": [
  {
   "cell_type": "markdown",
   "id": "a5ef7353-7672-40fa-aa5f-c2b5a42f0a91",
   "metadata": {},
   "source": [
    "# Cracking open mystery of OpenML file.  Stored as an 'ARFF' file -- whatever th \"heck\" that is ---\n",
    "# Read in using scipy \n",
    "# Convert to Pandas dataframe\n",
    "# Convert pd DF to numpy Array ... "
   ]
  },
  {
   "cell_type": "code",
   "execution_count": null,
   "id": "4d39f84b-c382-47de-9681-fcfbd6152986",
   "metadata": {},
   "outputs": [],
   "source": [
    "import json\n",
    "import pandas as pd\n",
    "from scipy.io import arff\n",
    "import pandas as pd\n",
    "import numpy as np\n",
    "import matplotlib.pyplot as plt"
   ]
  },
  {
   "cell_type": "code",
   "execution_count": null,
   "id": "5627057b-8207-4094-81e8-2c048f38d7d5",
   "metadata": {},
   "outputs": [],
   "source": [
    "#mnistdata='../Datasets/ARFFdata/numbersMNIST.arff'\n",
    "mnistdata='../Datasets/ARFFdata/fashionMNIST.arff'\n",
    "data = arff.loadarff( mnistdata )\n",
    "df = pd.DataFrame(data[0])"
   ]
  },
  {
   "cell_type": "code",
   "execution_count": null,
   "id": "59198e28-ae78-42fb-b4ff-d7553cca1596",
   "metadata": {},
   "outputs": [],
   "source": [
    "df.columns\n",
    "XX=df.to_numpy()"
   ]
  },
  {
   "cell_type": "code",
   "execution_count": null,
   "id": "7caa0cfe-eacf-4d1a-af74-aaa3b3d3f996",
   "metadata": {},
   "outputs": [],
   "source": [
    "X=XX[:,0:784]\n",
    "y=XX[:,784]\n",
    "print(np.shape(XX))\n",
    "print(np.shape(X))\n",
    "print(np.shape(y))\n",
    "print(y[0])\n"
   ]
  },
  {
   "cell_type": "code",
   "execution_count": null,
   "id": "eef041cc-4a90-4e28-abca-4232ef442fce",
   "metadata": {},
   "outputs": [],
   "source": [
    "#df=pd.read_json('52667')"
   ]
  },
  {
   "cell_type": "code",
   "execution_count": null,
   "id": "4a646ed5-123b-4748-98cd-1c2348af43ca",
   "metadata": {},
   "outputs": [],
   "source": [
    "X=np.asarray( np.reshape( X, (70000, 28,28 ) ) ).astype( float )\n"
   ]
  },
  {
   "cell_type": "code",
   "execution_count": null,
   "id": "bdc9ccd0-7bd7-468e-bd64-984903c72421",
   "metadata": {},
   "outputs": [],
   "source": [
    "print(X[0,:,:].dtype)"
   ]
  },
  {
   "cell_type": "code",
   "execution_count": null,
   "id": "f8be051d-4531-45cb-9d1b-e6603212d30d",
   "metadata": {},
   "outputs": [],
   "source": [
    "idx=300\n",
    "print( y[idx] )\n",
    "plt.imshow( X[idx,:,:] , cmap='gray', vmin=0, vmax=255 )"
   ]
  }
 ],
 "metadata": {
  "kernelspec": {
   "display_name": "Python [conda env:npl-TF]",
   "language": "python",
   "name": "conda-env-npl-TF-py"
  },
  "language_info": {
   "codemirror_mode": {
    "name": "ipython",
    "version": 3
   },
   "file_extension": ".py",
   "mimetype": "text/x-python",
   "name": "python",
   "nbconvert_exporter": "python",
   "pygments_lexer": "ipython3",
   "version": "3.8.13"
  }
 },
 "nbformat": 4,
 "nbformat_minor": 5
}
