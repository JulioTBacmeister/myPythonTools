{
 "cells": [
  {
   "cell_type": "code",
   "execution_count": null,
   "id": "d25493e3-1cbd-4a11-8ae4-c116c7eb4ca0",
   "metadata": {},
   "outputs": [],
   "source": [
    "import numpy as np"
   ]
  },
  {
   "cell_type": "code",
   "execution_count": null,
   "id": "59b252fc-ffbc-48c9-98f8-b750f03c9849",
   "metadata": {},
   "outputs": [],
   "source": [
    "\n",
    "list1=np.arange(124) % 12 + 1\n",
    "print(list1)\n",
    "\n",
    "list2=[3]"
   ]
  },
  {
   "cell_type": "code",
   "execution_count": null,
   "id": "56af5707-e99e-4d0d-b0d8-4c319ce097b5",
   "metadata": {},
   "outputs": [],
   "source": [
    "\n",
    "# Store indices and values of common elements\n",
    "common_elements_indices = []\n",
    "theMonth=[] #np.zeros( 10_000) #[]\n",
    "IndexIn1=[]\n",
    "IndexIn2=[]\n",
    "# Check each element in list1\n",
    "icommon=0\n",
    "for idx1, elem1 in enumerate(list1):\n",
    "    for idx2, elem2 in enumerate(list2):\n",
    "        if elem1 == elem2:\n",
    "            print(elem1, idx1, idx2)\n",
    "            \n",
    "            theMonth.append(elem1)\n",
    "            IndexIn1.append(idx1)\n",
    "            IndexIn2.append(idx2)\n",
    "            \n",
    "            #theMonth[icommon]=elem1\n",
    "            icommon += 1\n",
    "            #print(icommon)\n"
   ]
  },
  {
   "cell_type": "code",
   "execution_count": null,
   "id": "81bc7823-4420-4c28-9b8e-1f44816c6bef",
   "metadata": {},
   "outputs": [],
   "source": [
    "print(IndexIn1)"
   ]
  },
  {
   "cell_type": "code",
   "execution_count": null,
   "id": "2ddf919b-976f-4537-8d97-986bc51e2860",
   "metadata": {},
   "outputs": [],
   "source": []
  }
 ],
 "metadata": {
  "kernelspec": {
   "display_name": "NPL 2023b",
   "language": "python",
   "name": "npl-2023b"
  },
  "language_info": {
   "codemirror_mode": {
    "name": "ipython",
    "version": 3
   },
   "file_extension": ".py",
   "mimetype": "text/x-python",
   "name": "python",
   "nbconvert_exporter": "python",
   "pygments_lexer": "ipython3",
   "version": "3.10.12"
  }
 },
 "nbformat": 4,
 "nbformat_minor": 5
}
