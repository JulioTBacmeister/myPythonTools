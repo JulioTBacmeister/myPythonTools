{
 "cells": [
  {
   "cell_type": "code",
   "execution_count": 122,
   "id": "3bfa1601-7145-49db-a592-f6f45b2440e8",
   "metadata": {},
   "outputs": [],
   "source": [
    "import pandas as pd\n",
    "import numpy as np\n",
    "import matplotlib.pyplot as plt\n"
   ]
  },
  {
   "cell_type": "code",
   "execution_count": 115,
   "id": "1841ac21-edd6-4455-9716-7781fdc0fa37",
   "metadata": {},
   "outputs": [],
   "source": [
    "filn='/Users/juliob/Desktop/familia/Outstanding-bills-current-pay.xlsx'"
   ]
  },
  {
   "cell_type": "code",
   "execution_count": 128,
   "id": "e00a8965-2a83-41d9-a226-bd6b3af756cf",
   "metadata": {},
   "outputs": [
    {
     "name": "stdout",
     "output_type": "stream",
     "text": [
      "['01-13-23', '12-30-22', '12-16-22', '12-02-22', '11-18-22', '11-04-22', '10-21-22', '10-07-22', '09-23-22', '09-09-22', '08-26-22', '08-12-22', '07-29-22', '07-15-22', '07-01-22', '06-17-22', '06-03-22', '05-20-22', '05-06-22', '04-23-22', '04-08-22 ', '03-25-22', '03-11-22', '02-25-22', '02-11-22', '01-28-22', '01-14-22', '12-31-21']\n"
     ]
    }
   ],
   "source": [
    "Nsheets=28\n",
    "total_biweekly=np.zeros(Nsheets)\n",
    "isheets=np.arange(Nsheets)\n",
    "#Isheets= tuple ([tuple(e) for e in isheets])\n",
    "Isheets=list( isheets )\n",
    "df=pd.read_excel( filn ,sheet_name=Isheets )\n",
    "poo=pd.ExcelFile(filn)\n",
    "poo.sheet_names\n",
    "SheetNames=poo.sheet_names[0:Nsheets]\n",
    "print(SheetNames)"
   ]
  },
  {
   "cell_type": "code",
   "execution_count": 130,
   "id": "9e6e5a8c-861b-4428-89bd-25abe47b63e0",
   "metadata": {},
   "outputs": [
    {
     "name": "stdout",
     "output_type": "stream",
     "text": [
      "01-13-23 from 1/13/2023 pay 2332\n",
      "12-30-22 from 12/30/2022 pay 3704\n",
      "12-16-22 from 12/16/2022 pay 1294\n",
      "12-02-22 from 12/02/2022 pay 4034\n",
      "11-18-22 from 11/18/2022 pay 1010\n",
      "11-04-22 from 11/04/2022 pay 8633\n",
      "10-21-22 from 10/21/2022 pay 1877\n",
      "10-07-22 from 10/7/2022 pay 3202\n",
      "09-23-22 from 9/23/2022 pay 5176\n",
      "09-09-22 from 9/9/2022 pay 3133\n",
      "08-26-22 from 8/26/2022 pay 4150\n",
      "08-12-22 from 8/12/2022 pay 2023\n",
      "07-29-22 from 7/29/2022 pay 3010\n",
      "07-15-22 from 7/15/2022 pay 1586\n",
      "07-01-22 from 7/1/2022 pay 4140\n",
      "06-17-22 from 6/17/2022 pay 942\n",
      "06-03-22 from 6/03/2022 pay 3384\n",
      "05-20-22 from 5/20/2022 pay 3631\n",
      "[' ' ' ' ' ' ' ' 655 ' ' ' ' 88 ' ' 415 ' ' ' ' ' ' 125 ' ' ' ' ' ' ' '\n",
      " ' ' ' ' ' ' ' ' ' ' ' ' ' ' ' ' ' ' ' ' ' ' ' ' ' ' ' ' ' ' 25 ' ' ' '\n",
      " ' ' ' ' ' ' ' ' 1308]\n",
      "05-06-22 from 4/08/2022 pay 1308\n",
      "04-23-22 from 4/22/2022 pay 3661\n",
      "[' ' 300 258 ' ' 655 192 203 88 ' ' 560 145 ' ' ' ' 125 ' ' 200 60 ' ' ' '\n",
      " ' ' ' ' ' ' ' ' ' ' 67 ' ' ' ' ' ' ' ' ' ' ' ' ' ' ' ' 25 480 ' ' ' ' ' '\n",
      " ' ' ' ' 3358]\n",
      "04-08-22  from 4/08/2022 pay 3358\n",
      "03-25-22 from 3/25/2022 pay 3081\n",
      "03-11-22 from 3/11/2022 pay 2158\n",
      "02-25-22 from 2/25/2022 pay 3080\n",
      "02-11-22 from 2/11/2022 pay 2145\n",
      "01-28-22 from 1/28/2022 pay 3238\n",
      "01-14-22 from 1/14/2022 pay 1993\n",
      "12-31-21 from 12/31/2021 pay 3594\n"
     ]
    }
   ],
   "source": [
    "\n",
    "for nsheet in np.arange(Nsheets):\n",
    "    #print(df[nsheet].columns[0])\n",
    "    QQ=df[nsheet]\n",
    "    qq=np.asarray(QQ)\n",
    "    ii=qq[0:41,3]\n",
    "    if ( \"from 4/08/2022\" in df[nsheet].columns[0] ):\n",
    "        print(ii)\n",
    "    #print(ii)\n",
    "    #print(np.shape(ii))\n",
    "    foo=np.where( (ii==' ') | (ii=='') )\n",
    "    #print(foo)\n",
    "    ii[foo[0]]=0\n",
    "    ix=0\n",
    "    for ix in np.arange(40):\n",
    "        #if( (ii[ix]=='') or (ii[ix]==' ') ):\n",
    "        #    ii[ix]=0\n",
    "        if( (np.isnan(ii[ix])==True) ):\n",
    "            ii[ix]=0\n",
    "            \n",
    "    #print((ii[32]==np.nan),(ii[32]<100000.)) \n",
    "    print(SheetNames[nsheet],df[nsheet].columns[0] , np.sum(ii[0:40]))\n",
    "    total_biweekly[nsheet] = np.sum(ii[0:40])\n",
    "\n",
    "\n",
    " "
   ]
  },
  {
   "cell_type": "code",
   "execution_count": null,
   "id": "61a43964",
   "metadata": {},
   "outputs": [],
   "source": []
  },
  {
   "cell_type": "code",
   "execution_count": 111,
   "id": "b615a704",
   "metadata": {},
   "outputs": [
    {
     "name": "stdout",
     "output_type": "stream",
     "text": [
      "3031.3214285714284\n"
     ]
    },
    {
     "data": {
      "text/plain": [
       "[<matplotlib.lines.Line2D at 0x7fd8b1f5c760>]"
      ]
     },
     "execution_count": 111,
     "metadata": {},
     "output_type": "execute_result"
    },
    {
     "data": {
      "image/png": "[encoded data removed]",
      "text/plain": [
       "<Figure size 432x288 with 1 Axes>"
      ]
     },
     "metadata": {
      "needs_background": "light"
     },
     "output_type": "display_data"
    }
   ],
   "source": [
    "print(np.sum(total_biweekly)/Nsheets)\n",
    "plt.plot(total_biweekly)\n"
   ]
  },
  {
   "cell_type": "code",
   "execution_count": null,
   "id": "7460a7ef",
   "metadata": {},
   "outputs": [],
   "source": []
  },
  {
   "cell_type": "code",
   "execution_count": null,
   "id": "85526ab1-a7fa-4fd2-ba88-8f742e38bf62",
   "metadata": {},
   "outputs": [],
   "source": [
    "j=8.+1/2."
   ]
  },
  {
   "cell_type": "code",
   "execution_count": null,
   "id": "a6c3e513-85ae-49ab-85fc-952227d1d397",
   "metadata": {},
   "outputs": [],
   "source": [
    "v=9.+3./4.\n"
   ]
  },
  {
   "cell_type": "code",
   "execution_count": null,
   "id": "6b241989-3136-4256-993e-5f96d04192a5",
   "metadata": {},
   "outputs": [],
   "source": [
    "rr=v/j\n",
    "print(rr)\n"
   ]
  },
  {
   "cell_type": "code",
   "execution_count": null,
   "id": "72e12bb4-6d94-4b11-83c0-4a6e3ff305ee",
   "metadata": {},
   "outputs": [],
   "source": [
    "print(rr*63./12.)\n"
   ]
  },
  {
   "cell_type": "code",
   "execution_count": null,
   "id": "52bd6d13-19dc-4554-a57d-fe4f49332fe2",
   "metadata": {},
   "outputs": [],
   "source": []
  }
 ],
 "metadata": {
  "kernelspec": {
   "display_name": "Python [conda env:mlenv]",
   "language": "python",
   "name": "conda-env-mlenv-py"
  },
  "language_info": {
   "codemirror_mode": {
    "name": "ipython",
    "version": 3
   },
   "file_extension": ".py",
   "mimetype": "text/x-python",
   "name": "python",
   "nbconvert_exporter": "python",
   "pygments_lexer": "ipython3",
   "version": "3.9.12"
  }
 },
 "nbformat": 4,
 "nbformat_minor": 5
}
