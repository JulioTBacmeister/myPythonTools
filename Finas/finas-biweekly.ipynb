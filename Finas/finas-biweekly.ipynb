{
 "cells": [
  {
   "cell_type": "code",
   "execution_count": null,
   "id": "3bfa1601-7145-49db-a592-f6f45b2440e8",
   "metadata": {},
   "outputs": [],
   "source": [
    "import pandas as pd\n",
    "import numpy as np\n",
    "import matplotlib.pyplot as plt\n"
   ]
  },
  {
   "cell_type": "code",
   "execution_count": null,
   "id": "1841ac21-edd6-4455-9716-7781fdc0fa37",
   "metadata": {},
   "outputs": [],
   "source": [
    "filn='/Users/juliob/Desktop/familia/Outstanding-bills-current-pay.xlsx'"
   ]
  },
  {
   "cell_type": "code",
   "execution_count": null,
   "id": "e00a8965-2a83-41d9-a226-bd6b3af756cf",
   "metadata": {},
   "outputs": [],
   "source": [
    "Nsheets=28\n",
    "total_biweekly=np.zeros(Nsheets)\n",
    "isheets=np.arange(Nsheets)\n",
    "#Isheets= tuple ([tuple(e) for e in isheets])\n",
    "Isheets=list( isheets )\n",
    "df=pd.read_excel( filn ,sheet_name=Isheets )\n",
    "poo=pd.ExcelFile(filn)\n",
    "poo.sheet_names\n",
    "SheetNames=poo.sheet_names[0:Nsheets]\n",
    "print(SheetNames)"
   ]
  },
  {
   "cell_type": "code",
   "execution_count": null,
   "id": "9e6e5a8c-861b-4428-89bd-25abe47b63e0",
   "metadata": {},
   "outputs": [],
   "source": [
    "\n",
    "for nsheet in np.arange(Nsheets):\n",
    "    #print(df[nsheet].columns[0])\n",
    "    QQ=df[nsheet]\n",
    "    qq=np.asarray(QQ)\n",
    "    ii=qq[0:41,3]\n",
    "    if ( \"from 4/08/2022\" in df[nsheet].columns[0] ):\n",
    "        print(ii)\n",
    "    #print(ii)\n",
    "    #print(np.shape(ii))\n",
    "    foo=np.where( (ii==' ') | (ii=='') )\n",
    "    #print(foo)\n",
    "    ii[foo[0]]=0\n",
    "    ix=0\n",
    "    for ix in np.arange(40):\n",
    "        #if( (ii[ix]=='') or (ii[ix]==' ') ):\n",
    "        #    ii[ix]=0\n",
    "        if( (np.isnan(ii[ix])==True) ):\n",
    "            ii[ix]=0\n",
    "            \n",
    "    #print((ii[32]==np.nan),(ii[32]<100000.)) \n",
    "    print(SheetNames[nsheet],df[nsheet].columns[0] , np.sum(ii[0:40]))\n",
    "    total_biweekly[nsheet] = np.sum(ii[0:40])\n",
    "\n",
    "\n",
    " "
   ]
  },
  {
   "cell_type": "code",
   "execution_count": null,
   "id": "61a43964",
   "metadata": {},
   "outputs": [],
   "source": []
  },
  {
   "cell_type": "code",
   "execution_count": null,
   "id": "b615a704",
   "metadata": {},
   "outputs": [],
   "source": [
    "print(np.sum(total_biweekly)/Nsheets)\n",
    "plt.plot(total_biweekly)\n"
   ]
  },
  {
   "cell_type": "code",
   "execution_count": null,
   "id": "7460a7ef",
   "metadata": {},
   "outputs": [],
   "source": []
  },
  {
   "cell_type": "code",
   "execution_count": null,
   "id": "85526ab1-a7fa-4fd2-ba88-8f742e38bf62",
   "metadata": {},
   "outputs": [],
   "source": [
    "j=8.+1/2."
   ]
  },
  {
   "cell_type": "code",
   "execution_count": null,
   "id": "a6c3e513-85ae-49ab-85fc-952227d1d397",
   "metadata": {},
   "outputs": [],
   "source": [
    "v=9.+3./4.\n"
   ]
  },
  {
   "cell_type": "code",
   "execution_count": null,
   "id": "6b241989-3136-4256-993e-5f96d04192a5",
   "metadata": {},
   "outputs": [],
   "source": [
    "rr=v/j\n",
    "print(rr)\n"
   ]
  },
  {
   "cell_type": "code",
   "execution_count": null,
   "id": "72e12bb4-6d94-4b11-83c0-4a6e3ff305ee",
   "metadata": {},
   "outputs": [],
   "source": [
    "print(rr*63./12.)\n"
   ]
  },
  {
   "cell_type": "code",
   "execution_count": null,
   "id": "52bd6d13-19dc-4554-a57d-fe4f49332fe2",
   "metadata": {},
   "outputs": [],
   "source": []
  }
 ],
 "metadata": {
  "kernelspec": {
   "display_name": "Python [conda env:mlenv]",
   "language": "python",
   "name": "conda-env-mlenv-py"
  },
  "language_info": {
   "codemirror_mode": {
    "name": "ipython",
    "version": 3
   },
   "file_extension": ".py",
   "mimetype": "text/x-python",
   "name": "python",
   "nbconvert_exporter": "python",
   "pygments_lexer": "ipython3",
   "version": "3.9.12"
  }
 },
 "nbformat": 4,
 "nbformat_minor": 5
}
