{
 "cells": [
  {
   "cell_type": "markdown",
   "id": "a45c8cb5-3e0d-462b-9f57-8150588fb564",
   "metadata": {},
   "source": [
    "Elena's school data"
   ]
  },
  {
   "cell_type": "code",
   "execution_count": null,
   "id": "8a52fb1c-0452-4734-bf9f-c07b2487875d",
   "metadata": {
    "tags": []
   },
   "outputs": [],
   "source": [
    "import pandas as pd\n",
    "import numpy as np\n",
    "import matplotlib.pyplot as plt\n",
    "from sklearn.model_selection import StratifiedShuffleSplit\n",
    "from sklearn.model_selection import train_test_split\n",
    "from sklearn.impute import SimpleImputer\n",
    "import seaborn as sn\n",
    "import datetime\n"
   ]
  },
  {
   "cell_type": "code",
   "execution_count": null,
   "id": "69a032ff-696f-405e-bb8d-110dfdbb004a",
   "metadata": {},
   "outputs": [],
   "source": [
    "filn='/Users/juliob/myPythonTools/Datasets_2/ColoradoSchools.xlsx'"
   ]
  },
  {
   "cell_type": "code",
   "execution_count": null,
   "id": "90ee0c3d-f8ac-427a-a9e6-e54200c1ea40",
   "metadata": {},
   "outputs": [],
   "source": [
    "df=pd.read_excel( filn )"
   ]
  },
  {
   "cell_type": "code",
   "execution_count": null,
   "id": "66fe8437-9cce-406d-a003-ffb94ec20adc",
   "metadata": {},
   "outputs": [],
   "source": [
    "y=df['Immigrant']\n"
   ]
  },
  {
   "cell_type": "code",
   "execution_count": null,
   "id": "9008e5df-d83d-4050-9539-e8b14230030b",
   "metadata": {},
   "outputs": [],
   "source": [
    "good=np.where( y != '*' )\n",
    "#plt.plot(y)\n"
   ]
  },
  {
   "cell_type": "code",
   "execution_count": null,
   "id": "ba2403d2-da43-4c5e-bb58-bc8a86404f18",
   "metadata": {},
   "outputs": [],
   "source": [
    "print(np.shape(y))"
   ]
  },
  {
   "cell_type": "code",
   "execution_count": null,
   "id": "32b2373c-9607-4763-a9e9-f3f25577fb79",
   "metadata": {},
   "outputs": [],
   "source": [
    "plt.plot(y[good[0]])"
   ]
  },
  {
   "cell_type": "code",
   "execution_count": null,
   "id": "1595440b-a9a7-4e2c-86cd-babd173517d2",
   "metadata": {},
   "outputs": [],
   "source": [
    "columns=df.columns\n",
    "print(np.shape(columns))"
   ]
  },
  {
   "cell_type": "code",
   "execution_count": null,
   "id": "3719429e-2133-4c3e-9f0c-1fd0a9bc924d",
   "metadata": {},
   "outputs": [],
   "source": [
    "qq=np.asarray( df )\n",
    "print(np.shape(qq))\n",
    "print( qq[10,:] )\n",
    "print( (df.iloc[10]))"
   ]
  },
  {
   "cell_type": "code",
   "execution_count": null,
   "id": "763521f5-6025-49cb-98d3-ff98c657ce16",
   "metadata": {},
   "outputs": [],
   "source": [
    "qq=np.asarray(df)\n",
    "columns=df.columns\n",
    "G=np.shape(qq)\n",
    "print(G)\n",
    "print(columns)"
   ]
  },
  {
   "cell_type": "code",
   "execution_count": null,
   "id": "1659f408-1a74-45f8-9117-e990c87758fa",
   "metadata": {},
   "outputs": [],
   "source": [
    "# \"Heal\" data from Pandas DataFrame\n",
    "# Goes row by row (Nrows=G[0])\n",
    "for idx in np.arange(G[0]):\n",
    "#for idx in [10]:\n",
    "    qq0=qq[idx,:]\n",
    "    #print(qq0)\n",
    "    bad=np.where( qq0 == '*')  # | df[icol]=='NA' )\n",
    "    qq0[bad[0]]=-99999.\n",
    "    #print(qq0)\n",
    "    qq[idx,:]=qq0\n",
    "    #print(qq[idx,:])\n",
    "    "
   ]
  },
  {
   "cell_type": "code",
   "execution_count": null,
   "id": "238892d5-297e-429e-b0f2-c74ccf222d97",
   "metadata": {},
   "outputs": [],
   "source": [
    "df2 = pd.DataFrame( qq , columns=columns )"
   ]
  },
  {
   "cell_type": "code",
   "execution_count": null,
   "id": "1f515114-2048-4a00-9906-8276d82399b1",
   "metadata": {},
   "outputs": [],
   "source": [
    "print(qq[10,:])\n",
    "print( (df2.iloc[10]))"
   ]
  },
  {
   "cell_type": "code",
   "execution_count": null,
   "id": "466debee-a808-456e-bfbf-fae5c579180c",
   "metadata": {},
   "outputs": [],
   "source": [
    "plt.plot( df2[\"Gifted and Talented\"]/df2[\"PK-12 Total Enrollment\"])\n",
    "plt.plot( df2[\"Special Education\"]/df2[\"PK-12 Total Enrollment\"])\n",
    "plt.plot( df2[\"Total Minority Count\"]/df2[\"PK-12 Total Enrollment\"])\n",
    "plt.ylim(0,1)"
   ]
  },
  {
   "cell_type": "code",
   "execution_count": null,
   "id": "f70ab939-a531-4126-8b7e-c595f641a723",
   "metadata": {},
   "outputs": [],
   "source": [
    "y1 = df2[\"Gifted and Talented\"]/df2[\"PK-12 Total Enrollment\"]\n",
    "y2 = df2[\"Special Education\"]/df2[\"PK-12 Total Enrollment\"]\n",
    "y3 = df2[\"Total Minority Count\"]/df2[\"PK-12 Total Enrollment\"]\n",
    "y4 = df2[\"Total Minority Count\"]/df2[\"PK-12 Total Enrollment\"]\n",
    "counts1, bins = np.histogram(y1,range=(0,.3),bins=15)\n",
    "counts2, bins = np.histogram(y2,range=(0,.3),bins=15)\n",
    "counts3, bins = np.histogram(y3,range=(0,.3),bins=15)\n",
    "plt.stairs(counts1,bins)\n",
    "plt.stairs(counts2,bins)"
   ]
  },
  {
   "cell_type": "code",
   "execution_count": null,
   "id": "fc12660d-fb5e-4a39-8fb3-ac413ee05402",
   "metadata": {},
   "outputs": [],
   "source": [
    "plt.scatter(y1,y2)\n",
    "#plt.xlim(0,.3)\n",
    "#plt.ylim(0,.3)\n"
   ]
  },
  {
   "cell_type": "code",
   "execution_count": null,
   "id": "fcdb408f-acb1-4727-b45e-5de5183ee85c",
   "metadata": {},
   "outputs": [],
   "source": []
  }
 ],
 "metadata": {
  "kernelspec": {
   "display_name": "Python [conda env:mlenv-2]",
   "language": "python",
   "name": "conda-env-mlenv-2-py"
  },
  "language_info": {
   "codemirror_mode": {
    "name": "ipython",
    "version": 3
   },
   "file_extension": ".py",
   "mimetype": "text/x-python",
   "name": "python",
   "nbconvert_exporter": "python",
   "pygments_lexer": "ipython3",
   "version": "3.9.12"
  }
 },
 "nbformat": 4,
 "nbformat_minor": 5
}
