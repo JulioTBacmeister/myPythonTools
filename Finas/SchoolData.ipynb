{
 "cells": [
  {
   "cell_type": "markdown",
   "id": "a45c8cb5-3e0d-462b-9f57-8150588fb564",
   "metadata": {},
   "source": [
    "Elena's school data"
   ]
  },
  {
   "cell_type": "code",
   "execution_count": 1,
   "id": "8a52fb1c-0452-4734-bf9f-c07b2487875d",
   "metadata": {},
   "outputs": [],
   "source": [
    "import pandas as pd\n",
    "import numpy as np\n",
    "import matplotlib.pyplot as plt\n",
    "from sklearn.model_selection import StratifiedShuffleSplit\n",
    "from sklearn.model_selection import train_test_split\n",
    "from sklearn.impute import SimpleImputer\n",
    "import seaborn as sn\n",
    "import datetime\n"
   ]
  },
  {
   "cell_type": "code",
   "execution_count": 2,
   "id": "69a032ff-696f-405e-bb8d-110dfdbb004a",
   "metadata": {},
   "outputs": [],
   "source": [
    "filn='/Users/juliob/myPythonTools/Datasets_2/ColoradoSchools.xlsx'"
   ]
  },
  {
   "cell_type": "code",
   "execution_count": 3,
   "id": "90ee0c3d-f8ac-427a-a9e6-e54200c1ea40",
   "metadata": {},
   "outputs": [],
   "source": [
    "df=pd.read_excel( filn )"
   ]
  },
  {
   "cell_type": "code",
   "execution_count": 4,
   "id": "66fe8437-9cce-406d-a003-ffb94ec20adc",
   "metadata": {},
   "outputs": [],
   "source": [
    "y=df['Immigrant']\n"
   ]
  },
  {
   "cell_type": "code",
   "execution_count": 5,
   "id": "9008e5df-d83d-4050-9539-e8b14230030b",
   "metadata": {},
   "outputs": [],
   "source": [
    "good=np.where( y != '*' )\n",
    "#plt.plot(y)\n"
   ]
  },
  {
   "cell_type": "code",
   "execution_count": 6,
   "id": "ba2403d2-da43-4c5e-bb58-bc8a86404f18",
   "metadata": {},
   "outputs": [
    {
     "name": "stdout",
     "output_type": "stream",
     "text": [
      "(185,)\n"
     ]
    }
   ],
   "source": [
    "print(np.shape(y))"
   ]
  },
  {
   "cell_type": "code",
   "execution_count": 7,
   "id": "32b2373c-9607-4763-a9e9-f3f25577fb79",
   "metadata": {},
   "outputs": [
    {
     "data": {
      "text/plain": [
       "[<matplotlib.lines.Line2D at 0x7ff7062bf820>]"
      ]
     },
     "execution_count": 7,
     "metadata": {},
     "output_type": "execute_result"
    },
    {
     "data": {
      "image/png": "[encoded data removed]",
      "text/plain": [
       "<Figure size 432x288 with 1 Axes>"
      ]
     },
     "metadata": {
      "needs_background": "light"
     },
     "output_type": "display_data"
    }
   ],
   "source": [
    "plt.plot(y[good[0]])"
   ]
  },
  {
   "cell_type": "code",
   "execution_count": 8,
   "id": "1595440b-a9a7-4e2c-86cd-babd173517d2",
   "metadata": {},
   "outputs": [
    {
     "name": "stdout",
     "output_type": "stream",
     "text": [
      "(38,)\n"
     ]
    }
   ],
   "source": [
    "columns=df.columns\n",
    "print(np.shape(columns))"
   ]
  },
  {
   "cell_type": "code",
   "execution_count": 9,
   "id": "3719429e-2133-4c3e-9f0c-1fd0a9bc924d",
   "metadata": {},
   "outputs": [
    {
     "name": "stdout",
     "output_type": "stream",
     "text": [
      "(185, 38)\n",
      "[2530 'Rocky Ford R-2' 45 'OTERO' 'Outlying Town' 632 632 5 1 0 471 147 0\n",
      " 8 632 485 0.767 421 61 150 482 0.666 0.097 0.763 14 87 0 33 '*' 7 '*' 5\n",
      " 15.0 17.0 12.0 5.0 -7.0 -0.5833333333333334]\n",
      "District Code                                          2530\n",
      "District Name                                Rocky Ford R-2\n",
      "County Code                                              45\n",
      "County Name                                           OTERO\n",
      "District Setting                              Outlying Town\n",
      "K-12 Total Enrollment                                   632\n",
      "PK-12 Total Enrollment                                  632\n",
      "American Indian or Alaskan Native                         5\n",
      "Asian                                                     1\n",
      "Black or African American                                 0\n",
      "Hispanic or Latino                                      471\n",
      "White                                                   147\n",
      "Native Hawaiian or Other Pacific Islander                 0\n",
      "Two or More Races                                         8\n",
      "Total PK-12 Pupil Count                                 632\n",
      "Total Minority Count                                    485\n",
      "Percent Minority                                      0.767\n",
      "FREE LUNCH ELIGIBLE                                     421\n",
      "REDUCED LUNCH ELIGIBLE                                   61\n",
      "PAID LUNCH                                              150\n",
      "FREE AND REDUCED                                        482\n",
      "% FREE                                                0.666\n",
      "% REDUCED                                             0.097\n",
      "% FREE AND REDUCED                                    0.763\n",
      "Gifted and Talented                                      14\n",
      "Special Education                                        87\n",
      "Online                                                    0\n",
      "EL Incl. M1 and M2                                       33\n",
      "Homeless                                                  *\n",
      "Section 504 Handicapped                                   7\n",
      "Immigrant                                                 *\n",
      "Migrant                                                   5\n",
      "Home School 2019                                       15.0\n",
      "Home School 2020                                       17.0\n",
      "Home School 2021                                       12.0\n",
      "Home School 2022                                        5.0\n",
      "Count change from 2021-22                              -7.0\n",
      "% change from 2021-22                             -0.583333\n",
      "Name: 10, dtype: object\n"
     ]
    }
   ],
   "source": [
    "qq=np.asarray( df )\n",
    "print(np.shape(qq))\n",
    "print( qq[10,:] )\n",
    "print( (df.iloc[10]))"
   ]
  },
  {
   "cell_type": "code",
   "execution_count": 10,
   "id": "763521f5-6025-49cb-98d3-ff98c657ce16",
   "metadata": {},
   "outputs": [
    {
     "name": "stdout",
     "output_type": "stream",
     "text": [
      "(185, 38)\n",
      "Index(['District Code', 'District Name', 'County Code', 'County Name',\n",
      "       'District Setting', 'K-12 Total Enrollment', 'PK-12 Total Enrollment',\n",
      "       'American Indian or Alaskan Native', 'Asian',\n",
      "       'Black or African American', 'Hispanic or Latino', 'White',\n",
      "       'Native Hawaiian or Other Pacific Islander', 'Two or More Races',\n",
      "       'Total PK-12 Pupil Count', 'Total Minority Count', 'Percent Minority',\n",
      "       'FREE LUNCH ELIGIBLE', 'REDUCED LUNCH ELIGIBLE', 'PAID LUNCH',\n",
      "       'FREE AND REDUCED', '% FREE', '% REDUCED', '% FREE AND REDUCED',\n",
      "       'Gifted and Talented', 'Special Education', 'Online',\n",
      "       'EL Incl. M1 and M2', 'Homeless', 'Section 504 Handicapped',\n",
      "       'Immigrant', 'Migrant', 'Home School 2019', 'Home School 2020',\n",
      "       'Home School 2021', 'Home School 2022', 'Count change from 2021-22',\n",
      "       '% change from 2021-22'],\n",
      "      dtype='object')\n"
     ]
    }
   ],
   "source": [
    "qq=np.asarray(df)\n",
    "columns=df.columns\n",
    "G=np.shape(qq)\n",
    "print(G)\n",
    "print(columns)"
   ]
  },
  {
   "cell_type": "code",
   "execution_count": 11,
   "id": "1659f408-1a74-45f8-9117-e990c87758fa",
   "metadata": {},
   "outputs": [],
   "source": [
    "# \"Heal\" data from Pandas DataFrame\n",
    "# Goes row by row (Nrows=G[0])\n",
    "for idx in np.arange(G[0]):\n",
    "#for idx in [10]:\n",
    "    qq0=qq[idx,:]\n",
    "    #print(qq0)\n",
    "    bad=np.where( qq0 == '*')  # | df[icol]=='NA' )\n",
    "    qq0[bad[0]]=-99999.\n",
    "    #print(qq0)\n",
    "    qq[idx,:]=qq0\n",
    "    #print(qq[idx,:])\n",
    "    "
   ]
  },
  {
   "cell_type": "code",
   "execution_count": 12,
   "id": "238892d5-297e-429e-b0f2-c74ccf222d97",
   "metadata": {},
   "outputs": [],
   "source": [
    "df2 = pd.DataFrame( qq , columns=columns )"
   ]
  },
  {
   "cell_type": "code",
   "execution_count": 13,
   "id": "1f515114-2048-4a00-9906-8276d82399b1",
   "metadata": {},
   "outputs": [
    {
     "name": "stdout",
     "output_type": "stream",
     "text": [
      "[2530 'Rocky Ford R-2' 45 'OTERO' 'Outlying Town' 632 632 5 1 0 471 147 0\n",
      " 8 632 485 0.767 421 61 150 482 0.666 0.097 0.763 14 87 0 33 -99999.0 7\n",
      " -99999.0 5 15.0 17.0 12.0 5.0 -7.0 -0.5833333333333334]\n",
      "District Code                                          2530\n",
      "District Name                                Rocky Ford R-2\n",
      "County Code                                              45\n",
      "County Name                                           OTERO\n",
      "District Setting                              Outlying Town\n",
      "K-12 Total Enrollment                                   632\n",
      "PK-12 Total Enrollment                                  632\n",
      "American Indian or Alaskan Native                         5\n",
      "Asian                                                     1\n",
      "Black or African American                                 0\n",
      "Hispanic or Latino                                      471\n",
      "White                                                   147\n",
      "Native Hawaiian or Other Pacific Islander                 0\n",
      "Two or More Races                                         8\n",
      "Total PK-12 Pupil Count                                 632\n",
      "Total Minority Count                                    485\n",
      "Percent Minority                                      0.767\n",
      "FREE LUNCH ELIGIBLE                                     421\n",
      "REDUCED LUNCH ELIGIBLE                                   61\n",
      "PAID LUNCH                                              150\n",
      "FREE AND REDUCED                                        482\n",
      "% FREE                                                0.666\n",
      "% REDUCED                                             0.097\n",
      "% FREE AND REDUCED                                    0.763\n",
      "Gifted and Talented                                      14\n",
      "Special Education                                        87\n",
      "Online                                                    0\n",
      "EL Incl. M1 and M2                                       33\n",
      "Homeless                                           -99999.0\n",
      "Section 504 Handicapped                                   7\n",
      "Immigrant                                          -99999.0\n",
      "Migrant                                                   5\n",
      "Home School 2019                                       15.0\n",
      "Home School 2020                                       17.0\n",
      "Home School 2021                                       12.0\n",
      "Home School 2022                                        5.0\n",
      "Count change from 2021-22                              -7.0\n",
      "% change from 2021-22                             -0.583333\n",
      "Name: 10, dtype: object\n"
     ]
    }
   ],
   "source": [
    "print(qq[10,:])\n",
    "print( (df2.iloc[10]))"
   ]
  },
  {
   "cell_type": "code",
   "execution_count": 14,
   "id": "466debee-a808-456e-bfbf-fae5c579180c",
   "metadata": {},
   "outputs": [
    {
     "data": {
      "text/plain": [
       "(0.0, 1.0)"
      ]
     },
     "execution_count": 14,
     "metadata": {},
     "output_type": "execute_result"
    },
    {
     "data": {
      "image/png": "[encoded data removed]",
      "text/plain": [
       "<Figure size 432x288 with 1 Axes>"
      ]
     },
     "metadata": {
      "needs_background": "light"
     },
     "output_type": "display_data"
    }
   ],
   "source": [
    "plt.plot( df2[\"Gifted and Talented\"]/df2[\"PK-12 Total Enrollment\"])\n",
    "plt.plot( df2[\"Special Education\"]/df2[\"PK-12 Total Enrollment\"])\n",
    "plt.plot( df2[\"Total Minority Count\"]/df2[\"PK-12 Total Enrollment\"])\n",
    "plt.ylim(0,1)"
   ]
  },
  {
   "cell_type": "code",
   "execution_count": 15,
   "id": "f70ab939-a531-4126-8b7e-c595f641a723",
   "metadata": {},
   "outputs": [
    {
     "data": {
      "text/plain": [
       "<matplotlib.patches.StepPatch at 0x7ff7065f8df0>"
      ]
     },
     "execution_count": 15,
     "metadata": {},
     "output_type": "execute_result"
    },
    {
     "data": {
      "image/png": "[encoded data removed]",
      "text/plain": [
       "<Figure size 432x288 with 1 Axes>"
      ]
     },
     "metadata": {
      "needs_background": "light"
     },
     "output_type": "display_data"
    }
   ],
   "source": [
    "y1 = df2[\"Gifted and Talented\"]/df2[\"PK-12 Total Enrollment\"]\n",
    "y2 = df2[\"Special Education\"]/df2[\"PK-12 Total Enrollment\"]\n",
    "y3 = df2[\"Total Minority Count\"]/df2[\"PK-12 Total Enrollment\"]\n",
    "y4 = df2[\"Total Minority Count\"]/df2[\"PK-12 Total Enrollment\"]\n",
    "counts1, bins = np.histogram(y1,range=(0,.3),bins=15)\n",
    "counts2, bins = np.histogram(y2,range=(0,.3),bins=15)\n",
    "counts3, bins = np.histogram(y3,range=(0,.3),bins=15)\n",
    "plt.stairs(counts1,bins)\n",
    "plt.stairs(counts2,bins)"
   ]
  },
  {
   "cell_type": "code",
   "execution_count": 16,
   "id": "fc12660d-fb5e-4a39-8fb3-ac413ee05402",
   "metadata": {},
   "outputs": [
    {
     "data": {
      "text/plain": [
       "<matplotlib.collections.PathCollection at 0x7ff70670dbb0>"
      ]
     },
     "execution_count": 16,
     "metadata": {},
     "output_type": "execute_result"
    },
    {
     "data": {
      "image/png": "[encoded data removed]",
      "text/plain": [
       "<Figure size 432x288 with 1 Axes>"
      ]
     },
     "metadata": {
      "needs_background": "light"
     },
     "output_type": "display_data"
    }
   ],
   "source": [
    "plt.scatter(y1,y2)\n",
    "#plt.xlim(0,.3)\n",
    "#plt.ylim(0,.3)\n"
   ]
  },
  {
   "cell_type": "code",
   "execution_count": null,
   "id": "fcdb408f-acb1-4727-b45e-5de5183ee85c",
   "metadata": {},
   "outputs": [],
   "source": []
  }
 ],
 "metadata": {
  "kernelspec": {
   "display_name": "Python [conda env:mlenv-2]",
   "language": "python",
   "name": "conda-env-mlenv-2-py"
  },
  "language_info": {
   "codemirror_mode": {
    "name": "ipython",
    "version": 3
   },
   "file_extension": ".py",
   "mimetype": "text/x-python",
   "name": "python",
   "nbconvert_exporter": "python",
   "pygments_lexer": "ipython3",
   "version": "3.9.12"
  }
 },
 "nbformat": 4,
 "nbformat_minor": 5
}
