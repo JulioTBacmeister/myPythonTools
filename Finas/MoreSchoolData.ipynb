{
 "cells": [
  {
   "cell_type": "markdown",
   "id": "667b7c96-9567-4aeb-b4fd-758ceeea54a9",
   "metadata": {},
   "source": [
    "Elena's school data"
   ]
  },
  {
   "cell_type": "code",
   "execution_count": null,
   "id": "54bff53a-3ede-4b60-aa42-c9500b08aa34",
   "metadata": {
    "tags": []
   },
   "outputs": [],
   "source": [
    "import pandas as pd\n",
    "import numpy as np\n",
    "import matplotlib.pyplot as plt\n",
    "from sklearn.model_selection import StratifiedShuffleSplit\n",
    "from sklearn.model_selection import train_test_split\n",
    "from sklearn.impute import SimpleImputer\n",
    "import seaborn as sn\n",
    "import datetime\n",
    "from scipy import stats\n",
    "import copy"
   ]
  },
  {
   "cell_type": "code",
   "execution_count": null,
   "id": "c2dc731d-f75c-4a1f-9fd6-1921aef556f5",
   "metadata": {},
   "outputs": [],
   "source": [
    "filn1='/Users/juliob/Desktop/grocer/SubmittedTalksAll.xlsx'\n",
    "df1=pd.read_excel( filn1 )\n"
   ]
  },
  {
   "cell_type": "code",
   "execution_count": null,
   "id": "81c0a811-3600-4b1a-a6ff-99ef90092a52",
   "metadata": {},
   "outputs": [],
   "source": [
    "df1.columns"
   ]
  },
  {
   "cell_type": "code",
   "execution_count": null,
   "id": "eb268955-cd4c-4b18-9fbf-c00c4ef58afa",
   "metadata": {},
   "outputs": [],
   "source": [
    "voo=df1['Which CESM working group(s) is/are the best audience for your research:']\n",
    "print(np.shape(voo))"
   ]
  },
  {
   "cell_type": "code",
   "execution_count": null,
   "id": "3eb588f3-63ae-4cf9-82c9-abff14acdbbf",
   "metadata": {},
   "outputs": [],
   "source": [
    "df1c=df1.dropna(subset=['Which CESM working group(s) is/are the best audience for your research:'])"
   ]
  },
  {
   "cell_type": "code",
   "execution_count": null,
   "id": "0ed4f10e-f8dd-42b8-ba00-2e2e7d4c2f0b",
   "metadata": {},
   "outputs": [],
   "source": [
    "voo=df1c['Which CESM working group(s) is/are the best audience for your research:']\n",
    "print(voo)\n",
    "print(np.shape(voo))"
   ]
  },
  {
   "cell_type": "code",
   "execution_count": null,
   "id": "4723f9b2-233d-4a46-a75b-e30103493fd4",
   "metadata": {},
   "outputs": [],
   "source": [
    "plt.plot(oo)"
   ]
  },
  {
   "cell_type": "code",
   "execution_count": null,
   "id": "32175d92-b6c5-4471-a399-2767b9583794",
   "metadata": {},
   "outputs": [],
   "source": [
    "binedg=np.linspace(0,7,num=8)"
   ]
  },
  {
   "cell_type": "code",
   "execution_count": null,
   "id": "7db2b9b3-de42-40b5-ac07-a65df3ed6427",
   "metadata": {},
   "outputs": [],
   "source": [
    "hqr1 = np.histogram(qr1,bins=binedg)\n",
    "hqr2 = np.histogram(qr2,bins=binedg)\n",
    "\n"
   ]
  },
  {
   "cell_type": "code",
   "execution_count": null,
   "id": "465f7601-30db-403f-840a-a92ac59c596d",
   "metadata": {},
   "outputs": [],
   "source": [
    "plt.stairs(edges=hqr1[1],values=hqr1[0],label='CCC' )\n",
    "plt.stairs(edges=hqr2[1],values=hqr2[0],label='FCCH')\n",
    "plt.legend()"
   ]
  },
  {
   "cell_type": "code",
   "execution_count": null,
   "id": "be17e988-03b6-4c86-9453-f36eb80b73b0",
   "metadata": {},
   "outputs": [],
   "source": [
    "df1['QUALITY RATING'].describe()"
   ]
  },
  {
   "cell_type": "code",
   "execution_count": null,
   "id": "f3578b1f-c3a5-47fa-806e-253f87429cb7",
   "metadata": {},
   "outputs": [],
   "source": [
    "df2['QUALITY RATING'].describe()"
   ]
  },
  {
   "cell_type": "code",
   "execution_count": null,
   "id": "ab1d6f1f-a4a8-4d19-9893-d6e8ca726af5",
   "metadata": {},
   "outputs": [],
   "source": [
    "ttest_ind( df1['QUALITY RATING'] , df2['QUALITY RATING'] ,equal_var=False )"
   ]
  },
  {
   "cell_type": "code",
   "execution_count": null,
   "id": "a00ae7c6-ddc7-483c-8e05-815c0ceac2d3",
   "metadata": {},
   "outputs": [],
   "source": [
    "df1c=copy.deepcopy(df1)"
   ]
  },
  {
   "cell_type": "code",
   "execution_count": null,
   "id": "b68e9d22-cdda-484b-affa-885e5b74739d",
   "metadata": {},
   "outputs": [],
   "source": [
    "df1c=df1c.dropna(subset=['QUALITY RATING'])"
   ]
  },
  {
   "cell_type": "code",
   "execution_count": null,
   "id": "febc658b-89b2-40ef-8309-c949e1e60f54",
   "metadata": {},
   "outputs": [],
   "source": [
    "print(len(df1c.index))"
   ]
  },
  {
   "cell_type": "code",
   "execution_count": null,
   "id": "51e019b5-9188-46db-8d84-be492c3166a8",
   "metadata": {},
   "outputs": [],
   "source": [
    "stats.ttest_ind( df1c['QUALITY RATING'] , df2['QUALITY RATING'] ,equal_var=False )"
   ]
  },
  {
   "cell_type": "code",
   "execution_count": null,
   "id": "3c4dad5b-fa32-4fac-8b61-feb3c7830f9d",
   "metadata": {},
   "outputs": [],
   "source": [
    "x=df1c['QUALITY RATING'].values\n",
    "y=df2['QUALITY RATING'].values\n",
    "f = np.var(x, ddof=1)/np.var(y, ddof=1) #calculate F test statistic \n",
    "dfn = x.size-1 #define degrees of freedom numerator \n",
    "dfd = y.size-1 #define degrees of freedom denominator \n",
    "p = 1-stats.f.cdf(f, dfn, dfd) #find p-value of F test statistic \n"
   ]
  },
  {
   "cell_type": "code",
   "execution_count": null,
   "id": "3f7f1d0f-238f-41fa-bafd-8baf489263c0",
   "metadata": {},
   "outputs": [],
   "source": [
    "print(f,p)"
   ]
  },
  {
   "cell_type": "code",
   "execution_count": null,
   "id": "6b74ecb5-f4df-45ad-98f6-449220d8e9fa",
   "metadata": {},
   "outputs": [],
   "source": [
    "print(dfd,dfn)"
   ]
  },
  {
   "cell_type": "code",
   "execution_count": null,
   "id": "9c684692-2049-4afe-85f4-be74a347f515",
   "metadata": {},
   "outputs": [],
   "source": [
    "print(np.var(y,ddof=1))"
   ]
  },
  {
   "cell_type": "code",
   "execution_count": null,
   "id": "c03f5fb4-f03f-47e0-8da0-6bdc89f3470c",
   "metadata": {},
   "outputs": [],
   "source": [
    "print(1-stats.f.cdf(f, dfn, dfd))"
   ]
  },
  {
   "cell_type": "code",
   "execution_count": null,
   "id": "33c30a23-a693-4c71-8ae2-356c2e44b34c",
   "metadata": {},
   "outputs": [],
   "source": [
    "print(1-stats.f.cdf(1./f, dfd, dfn))"
   ]
  },
  {
   "cell_type": "code",
   "execution_count": null,
   "id": "6b96eb3c-361e-4d75-8731-79062713136b",
   "metadata": {},
   "outputs": [],
   "source": [
    "print(1./f)\n"
   ]
  },
  {
   "cell_type": "code",
   "execution_count": null,
   "id": "fe9d91d1-9599-4fdd-ab7c-280718e442f8",
   "metadata": {},
   "outputs": [],
   "source": []
  }
 ],
 "metadata": {
  "kernelspec": {
   "display_name": "Python [conda env:mlenv-2]",
   "language": "python",
   "name": "conda-env-mlenv-2-py"
  },
  "language_info": {
   "codemirror_mode": {
    "name": "ipython",
    "version": 3
   },
   "file_extension": ".py",
   "mimetype": "text/x-python",
   "name": "python",
   "nbconvert_exporter": "python",
   "pygments_lexer": "ipython3",
   "version": "3.9.12"
  }
 },
 "nbformat": 4,
 "nbformat_minor": 5
}
