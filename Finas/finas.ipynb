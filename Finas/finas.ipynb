{
 "cells": [
  {
   "cell_type": "code",
   "execution_count": null,
   "id": "7f748582",
   "metadata": {},
   "outputs": [],
   "source": [
    "import pandas as pd\n",
    "import numpy as np\n",
    "import matplotlib.pyplot as plt\n",
    "from sklearn.model_selection import StratifiedShuffleSplit\n",
    "from sklearn.model_selection import train_test_split\n",
    "from sklearn.impute import SimpleImputer\n",
    "import seaborn as sn\n",
    "import datetime\n"
   ]
  },
  {
   "cell_type": "code",
   "execution_count": null,
   "id": "57be2abe",
   "metadata": {},
   "outputs": [],
   "source": [
    "def Spending(All,Category,idens,debug=False,write=True):\n",
    "    ico=[]\n",
    "    shp=np.shape(All)\n",
    "    ilength = shp[0]\n",
    "    maxindx = np.max( All.index )\n",
    "    #print(maxindx,ilength)\n",
    "    #for idx in np.arange():\n",
    "    for idx in All.index:\n",
    "        if (  any(item in str(aaa['Memo'][idx]).upper() for item in idens)):\n",
    "            if( debug==True):\n",
    "                print(aaa['Memo'][idx],aaa['Amount Debit'][idx])\n",
    "            ico.append(idx)\n",
    "            \n",
    "    globals()[Category] = All.loc[ico] \n",
    "    print(Category+\" ====>\", np.sum(globals()[Category]['Amount Debit']))\n",
    "    if (write==True):\n",
    "        CatFile='/Users/juliob/Desktop/grocer/' +Category+'.csv'\n",
    "        globals()[Category].to_csv(CatFile)\n",
    "        \n"
   ]
  },
  {
   "cell_type": "code",
   "execution_count": null,
   "id": "85e4336e",
   "metadata": {},
   "outputs": [],
   "source": [
    "def Checks(All,Category='Drafts',idens=['DRAFT',],debug=False,write=True):\n",
    "    ico=[]\n",
    "    shp=np.shape(All)\n",
    "    ilength = shp[0]\n",
    "    maxindx = np.max( All.index )\n",
    "    #print(maxindx,ilength)\n",
    "    #for idx in np.arange():\n",
    "    for idx in All.index:\n",
    "        if (  any(item in str(aaa['Description'][idx]).upper() for item in idens)):\n",
    "            if( debug==True):\n",
    "                print(aaa['Memo'][idx],aaa['Amount Debit'][idx])\n",
    "            ico.append(idx)\n",
    "            \n",
    "    globals()[Category] = All.loc[ico] \n",
    "    print(Category+\" ====>\", np.sum(globals()[Category]['Amount Debit']))\n",
    "    if (write==True):\n",
    "        CatFile='/Users/juliob/Desktop/grocer/' +Category+'.csv'\n",
    "        globals()[Category].to_csv(CatFile)\n",
    "        \n"
   ]
  },
  {
   "cell_type": "code",
   "execution_count": null,
   "id": "899bec00",
   "metadata": {},
   "outputs": [],
   "source": [
    "def InitCategory(ncol=30):\n",
    "\n",
    "    colms=['Category']\n",
    "    idata=['ABCDE12345']\n",
    "    ncol=30\n",
    "    for i in np.arange(ncol):\n",
    "        colms.append('code'+str(i+1))\n",
    "        idata.append('ABCDE12345')\n",
    "\n",
    "    df=pd.DataFrame(columns=colms)\n",
    "    df.loc[0]=idata\n",
    "    \n",
    "    return df"
   ]
  },
  {
   "cell_type": "code",
   "execution_count": null,
   "id": "b84704ea",
   "metadata": {},
   "outputs": [],
   "source": [
    "\"\"\" \n",
    "Pandas here is a bit like Xarray, i.e., it let's us read in data\n",
    "and maninipulte it aithe statements like data['XYZ'] etc.\n",
    "\"\"\"\n",
    "\n",
    "file='/Users/juliob/Desktop/grocer/All-Jan-2023.csv'\n",
    "aaa=pd.read_csv(file,skiprows=[0,1,2] )"
   ]
  },
  {
   "cell_type": "code",
   "execution_count": null,
   "id": "6fbb02e3",
   "metadata": {},
   "outputs": [],
   "source": [
    "# Testing out pandas DataFrame creation\n",
    "# This cell has no effect on following cells\n",
    "\n",
    "colms=['Category']\n",
    "idata=['ABCDE12345']\n",
    "ncol=30\n",
    "for i in np.arange(ncol):\n",
    "    colms.append('code'+str(i+1))\n",
    "    idata.append('ABCDE12345')\n",
    "\n",
    "df=pd.DataFrame(columns=colms)\n",
    "col=df.columns\n",
    "df.loc[0]=idata\n",
    "df['Category'].loc[0]='Poo'\n",
    "df[col[1]].loc[0]='Tlacui'\n",
    "df[col[4]].loc[0]='gyO~@'\n",
    "df"
   ]
  },
  {
   "cell_type": "code",
   "execution_count": null,
   "id": "2fe0e02c",
   "metadata": {},
   "outputs": [],
   "source": [
    "#shp_aaa=np.shape(aaa)\n",
    "#ilength = shp_aaa[0]\n",
    "print(\"Total Debits <==\", np.sum(aaa['Amount Debit']))\n",
    "print(\"Total Credits <==\", np.sum(aaa['Amount Credit']))\n",
    "print(\"Difference.   ==>\", np.sum(aaa['Amount Credit']) +  np.sum(aaa['Amount Debit'])  )\n",
    "\n"
   ]
  },
  {
   "cell_type": "code",
   "execution_count": null,
   "id": "3a389e1e",
   "metadata": {},
   "outputs": [],
   "source": [
    "idens=(\"TRANSFER TO LOAN\",\"TRANSFER TO SHARE 0009\")\n",
    "Category=\"ToHELOC\"\n",
    "Spending(All=aaa,Category=Category,idens=idens)"
   ]
  },
  {
   "cell_type": "code",
   "execution_count": null,
   "id": "4d6eaa99",
   "metadata": {},
   "outputs": [],
   "source": [
    "idens=(\"FROM LOAN\",)\n",
    "Category=\"FromHELOC\"\n",
    "Spending(All=aaa,Category=Category,idens=idens)\n",
    "print(\"From HELOC 2 <==\", np.sum(FromHELOC['Amount Credit']))"
   ]
  },
  {
   "cell_type": "code",
   "execution_count": null,
   "id": "454a7d89",
   "metadata": {},
   "outputs": [],
   "source": [
    "#Codes for fast-food, restaruarnts and brew pubs\n",
    "restoran=(\"5812 %%\",\"5813 %%\",\"5814 %%\",\"Long s Peak Pub\".upper(),\"URBAN THAI\",\"NOODLES\",\"SOUTHERN SUN\",)\n",
    "Category=\"EatingOut\"\n",
    "Spending(All=aaa,Category=Category,idens=restoran)"
   ]
  },
  {
   "cell_type": "code",
   "execution_count": null,
   "id": "4b0caee5",
   "metadata": {},
   "outputs": [],
   "source": [
    "#Codes \"\n",
    "restoran=(\"5399 %%\", \"5411 %%\", \"5422 %%\",  \"5462 %%\",  \"5499 %%\",\n",
    "          \"WHOLEFDS\",\"SOOPERS\",\"SPROUTS\",\"SAFEWAY\", \"LONGMONT DAIRY\",\n",
    "          \"SAMSCLUB\",\"SAM'S Club\".upper(),\"SAMS MEMB\",\"TARGET\",\"NATURAL GROCER\",\n",
    "          \"CHEESE IMPORTER\",\"WAL-MART\",\"CITY-MARKET\",\"LUCKY'S\",)\n",
    "\n",
    "Category=\"Groceries\"\n",
    "Spending(All=aaa,Category=Category,idens=restoran)"
   ]
  },
  {
   "cell_type": "code",
   "execution_count": null,
   "id": "69c540dc",
   "metadata": {},
   "outputs": [],
   "source": [
    "#Codes \"\n",
    "restoran=(\"CITY OF LONGMONT\",\"XCEL\",\"SPRINT\",\"LIVELY\")\n",
    "Category=\"PhoneUtilities\"\n",
    "Spending(All=aaa,Category=Category,idens=restoran,write=True)"
   ]
  },
  {
   "cell_type": "code",
   "execution_count": null,
   "id": "f09bf883",
   "metadata": {},
   "outputs": [],
   "source": [
    "#Codes for Kids\n",
    "restoran=(\"LUCAS\",\"JOHN\",\"EVA \",\"CLARA\",\n",
    "          )\n",
    "Category=\"Kiddies\"\n",
    "Spending(All=aaa,Category=Category,idens=restoran)\n",
    "\n",
    "#reset counter\n",
    "#So here we see function could need an \"exclude\" option"
   ]
  },
  {
   "cell_type": "code",
   "execution_count": null,
   "id": "2fed1799",
   "metadata": {},
   "outputs": [],
   "source": [
    "\n",
    "#Codes for liquor stores\"\n",
    "restoran=(\"5921 %%\",\"LIQUOR\")\n",
    "Category=\"Liquor\"\n",
    "Spending(All=aaa,Category=Category,idens=restoran)"
   ]
  },
  {
   "cell_type": "code",
   "execution_count": null,
   "id": "13adca19",
   "metadata": {},
   "outputs": [],
   "source": [
    "common_list = set(Groceries.index).intersection(EatingOut.index)\n",
    "AccountedForSet=set(Groceries.index).union(EatingOut.index,Liquor.index,Kiddies.index,\n",
    "                    ToHELOC.index,PhoneUtilities.index)\n",
    "UnAccountedForSet=set(aaa.index).difference(AccountedForSet)\n",
    "\n",
    "# returns items present only in set A\n",
    "# print(A.difference(B)) \n",
    "\n",
    "UnAccountedForIdx=list(UnAccountedForSet)\n",
    "AccountedForIdx=list(AccountedForSet)\n",
    "\n",
    "UnAccountedFor=aaa.loc[UnAccountedForIdx]\n",
    "AccountedFor=aaa.loc[AccountedForIdx]\n",
    "print(\"Accounted for.    ===>\",np.sum(AccountedFor['Amount Debit']))\n",
    "print(\"Still unaccounted ===>\",np.sum(UnAccountedFor['Amount Debit']))"
   ]
  },
  {
   "cell_type": "code",
   "execution_count": null,
   "id": "94a14e1f",
   "metadata": {},
   "outputs": [],
   "source": [
    "#Codes \"\n",
    "restoran=(\"PENNYMAC\",)\n",
    "Category=\"PennyMac\"\n",
    "Spending(All=aaa,Category=Category,idens=restoran)"
   ]
  },
  {
   "cell_type": "code",
   "execution_count": null,
   "id": "228142ca",
   "metadata": {},
   "outputs": [],
   "source": [
    "#Codes \"\n",
    "restoran=(\"TIAA-CREF\",\"BEST BUY\",\"PAYOFF\",\"NASA FCU\",\"APPLECARD\",\"SALLIE MAE\",)\n",
    "Category=\"OtherFixed\"\n",
    "Spending(All=aaa,Category=Category,idens=restoran)"
   ]
  },
  {
   "cell_type": "code",
   "execution_count": null,
   "id": "a54d6b2e",
   "metadata": {},
   "outputs": [],
   "source": [
    "#Codes \"\n",
    "restoran=(\"GEICO\",)\n",
    "Category=\"GEICO\"\n",
    "Spending(All=aaa,Category=Category,idens=restoran)"
   ]
  },
  {
   "cell_type": "code",
   "execution_count": null,
   "id": "a6eebd86",
   "metadata": {},
   "outputs": [],
   "source": [
    "#Codes \"\n",
    "restoran=(\"5511 %%\", \"5521 %%\",\"5532 %%\",\"5533 %%\",\"CIRCLE K\",\"5541 %%\",\"5542 %%\",\"LOAF N JUG\",\n",
    "          \"SHELL SERVICE\",\"MOTOR VEHICLE\",\"FOWLER OF LONGMONT\",\"BOWEN STREET GARAGE\",\"LOVE'S\",\"MURPHY\",\n",
    "          \"O'REILLY\",)\n",
    "Category=\"CarsFuel\"\n",
    "Spending(All=aaa,Category=Category,idens=restoran,write=True)"
   ]
  },
  {
   "cell_type": "code",
   "execution_count": null,
   "id": "40177dd8",
   "metadata": {},
   "outputs": [],
   "source": [
    "#Codes \"\n",
    "restoran=(\"GUARDIAN\",)\n",
    "Category=\"GuardianStorage\"\n",
    "Spending(All=aaa,Category=Category,idens=restoran)"
   ]
  },
  {
   "cell_type": "code",
   "execution_count": null,
   "id": "dc70a746",
   "metadata": {},
   "outputs": [],
   "source": [
    "#Codes \"\n",
    "restoran=(\"KAREN BRICKEN\",\"BE CENTER\",)\n",
    "Category=\"KarenBricken\"\n",
    "Spending(All=aaa,Category=Category,idens=restoran)"
   ]
  },
  {
   "cell_type": "code",
   "execution_count": null,
   "id": "af794d70",
   "metadata": {},
   "outputs": [],
   "source": [
    "#Codes \"\n",
    "restoran=(\"HOME DEPOT\",\"LOWE'S\",\"ACE HARDWAR\",\"SLADE GLASS\",\"BED BATH\",\"5992 %%\",\n",
    "          \"5193 %%\", \"5261 %%\",\"BIN THERE DUMP\",\"SUMMIT TREE CARE\",\"TEE GEE ROOTER\",\n",
    "          \"BEDBATH\",)\n",
    "Category=\"HomeHardware\"\n",
    "Spending(All=aaa,Category=Category,idens=restoran)"
   ]
  },
  {
   "cell_type": "code",
   "execution_count": null,
   "id": "a54ef23e",
   "metadata": {},
   "outputs": [],
   "source": [
    "#Codes \"\n",
    "restoran=(\"MURDOCH\",\"BROWNS SHOE\",\"KOHLS\",\"5931 %%\",\"MACY'S\",\"DICK'S\",\n",
    "          \"DILLARDS\",\"MARSHALLS\",\"JOANN\",\"THREAD\",\"DSW\",\"YARN\",)\n",
    "Category=\"Clothes\"\n",
    "Spending(All=aaa,Category=Category,idens=restoran)"
   ]
  },
  {
   "cell_type": "code",
   "execution_count": null,
   "id": "617e1e42",
   "metadata": {},
   "outputs": [],
   "source": [
    "#Codes \"\n",
    "restoran=(\"OFFICE\",\"STAPLES\",)\n",
    "Category=\"Office\"\n",
    "Spending(All=aaa,Category=Category,idens=restoran)"
   ]
  },
  {
   "cell_type": "code",
   "execution_count": null,
   "id": "afe16e9d",
   "metadata": {},
   "outputs": [],
   "source": [
    "#Codes \"\n",
    "restoran=(\"1313 A SALON\",\"ULTA\",\"BARBER\",\"ALLURE NAIL\",\"NAILS\",\"FLOYD'S\")\n",
    "Category=\"HairCare\"\n",
    "Spending(All=aaa,Category=Category,idens=restoran)"
   ]
  },
  {
   "cell_type": "code",
   "execution_count": null,
   "id": "61713fbc",
   "metadata": {},
   "outputs": [],
   "source": [
    "#Codes \"\n",
    "restoran=(\"HOTEL\",\"AIRBNB\",\"5947 %%\",\"HOT SPRINGS\",)\n",
    "Category=\"Hotels\"\n",
    "Spending(All=aaa,Category=Category,idens=restoran)"
   ]
  },
  {
   "cell_type": "code",
   "execution_count": null,
   "id": "9cc5b315",
   "metadata": {},
   "outputs": [],
   "source": [
    "#Codes \"\n",
    "restoran=(\"FRONTIER\",\"SPIRIT AIR\",\"SPIRITAIR\",\"FLIGHTHUB\",\"AIR CANADA\",\"AMERICAN AIR\",\"LUFTHANSA\",\"UNITED\",)\n",
    "Category=\"Airlines\"\n",
    "Spending(All=aaa,Category=Category,idens=restoran)"
   ]
  },
  {
   "cell_type": "code",
   "execution_count": null,
   "id": "06ae44d4",
   "metadata": {},
   "outputs": [],
   "source": [
    "AccountedForSet=set(AccountedFor.index).union(PennyMac.index,OtherFixed.index,\n",
    "                    GEICO.index,KarenBricken.index,GuardianStorage.index,\n",
    "                    CarsFuel.index,HomeHardware.index,Clothes.index,Office.index,\n",
    "                    HairCare.index,Hotels.index,Airlines.index)\n",
    "UnAccountedForSet=set(aaa.index).difference(AccountedForSet)\n",
    "\n",
    "# returns items present only in set A\n",
    "# print(A.difference(B)) \n",
    "\n",
    "UnAccountedForIdx=list(UnAccountedForSet)\n",
    "AccountedForIdx=list(AccountedForSet)\n",
    "\n",
    "UnAccountedFor=aaa.loc[UnAccountedForIdx]\n",
    "AccountedFor=aaa.loc[AccountedForIdx]\n",
    "print(\"Accounted for.    ===>\",np.sum(AccountedFor['Amount Debit']))\n",
    "print(\"Still unaccounted ===>\",np.sum(UnAccountedFor['Amount Debit']))"
   ]
  },
  {
   "cell_type": "code",
   "execution_count": null,
   "id": "ab5aec2d",
   "metadata": {},
   "outputs": [],
   "source": [
    "#Codes \"\n",
    "restoran=(\"AMZN\",\"PRIME VIDEO\",\"AMAZON\",\"APPLE\",\"ROKU\",\"HBO\",\"DISNEY\",\"5818 %%\",\n",
    "         \"NETFLIX\",\"SPOTIFY\",)\n",
    "Category=\"Prime\"\n",
    "Spending(All=UnAccountedFor,Category=Category,idens=restoran,write=True)"
   ]
  },
  {
   "cell_type": "code",
   "execution_count": null,
   "id": "3a4d7c02",
   "metadata": {},
   "outputs": [],
   "source": [
    "#Codes \"\n",
    "restoran=(\"KUVO\",\"ORNIT\",\"WIKIMEDIA\",)\n",
    "Category=\"Donation\"\n",
    "Spending(All=UnAccountedFor,Category=Category,idens=restoran,write=True)"
   ]
  },
  {
   "cell_type": "code",
   "execution_count": null,
   "id": "ec86d04b",
   "metadata": {},
   "outputs": [],
   "source": [
    "#Codes \"\n",
    "restoran=(\"KAISER\",\"WALGREEN\",\"PHARM\",\"8099 %%\",)\n",
    "Category=\"Pharma\"\n",
    "Spending(All=UnAccountedFor,Category=Category,idens=restoran,write=True)"
   ]
  },
  {
   "cell_type": "code",
   "execution_count": null,
   "id": "9ba0d59c",
   "metadata": {},
   "outputs": [],
   "source": [
    "#Codes \"\n",
    "restoran=(\"DENTIST\",\"USANA\",\"PERIO\",\"8021 %%\",)\n",
    "Category=\"MiscHealth\"\n",
    "Spending(All=UnAccountedFor,Category=Category,idens=restoran,write=True)"
   ]
  },
  {
   "cell_type": "code",
   "execution_count": null,
   "id": "165cde7e",
   "metadata": {},
   "outputs": [],
   "source": [
    "#Codes \"\n",
    "restoran=(\"WELLS FARGO BAN\",\"GUITAR\",\"GRAVITY PICK\",)\n",
    "Category=\"Guitar\"\n",
    "Spending(All=UnAccountedFor,Category=Category,idens=restoran,write=True)"
   ]
  },
  {
   "cell_type": "code",
   "execution_count": null,
   "id": "257280ed",
   "metadata": {},
   "outputs": [],
   "source": [
    "#Codes \"\n",
    "restoran=(\"PETSMART\",\"VALLEY VET\",\"PETCO\",)\n",
    "Category=\"Animals\"\n",
    "Spending(All=UnAccountedFor,Category=Category,idens=restoran,write=True)"
   ]
  },
  {
   "cell_type": "code",
   "execution_count": null,
   "id": "d4cf3231",
   "metadata": {},
   "outputs": [],
   "source": [
    "ResidSet=set(UnAccountedFor.index).difference(\n",
    "         set(Prime.index).union(Donation.index,Pharma.index,Guitar.index,Animals.index,\n",
    "            MiscHealth.index))\n",
    "\n",
    "#UnAccountedForIdx=list(UnAccountedForSet)\n",
    "#UnAccountedFor=UnAccountedFor.loc[UnAccountedForIdx]\n",
    "#UnAccountedFor.sort_values(by=['Amount Debit'],ascending=True,inplace=True)\n",
    "#UnAccountedFor.to_csv('/Users/juliob/Desktop/grocer/UnAccounted.csv')"
   ]
  },
  {
   "cell_type": "code",
   "execution_count": null,
   "id": "8aa91858",
   "metadata": {},
   "outputs": [],
   "source": [
    "ResidIdx=list(ResidSet)\n",
    "Resid=UnAccountedFor.loc[ResidIdx]\n",
    "print(\"Residual.    ===>\",np.sum(Resid['Amount Debit']))\n"
   ]
  },
  {
   "cell_type": "code",
   "execution_count": null,
   "id": "1f709693",
   "metadata": {},
   "outputs": [],
   "source": [
    "#UnAccountedFor.sort_values(by=['Amount Debit'],ascending=True,inplace=True)\n",
    "#UnAccountedFor.to_csv('/Users/juliob/Desktop/grocer/UnAccounted.csv')\n",
    "Resid.sort_values(by=['Amount Debit'],ascending=True,inplace=True)\n",
    "Resid.to_csv('/Users/juliob/Desktop/grocer/Residual.csv')\n",
    "Prime.to_csv('/Users/juliob/Desktop/grocer/Prime.csv')\n"
   ]
  },
  {
   "cell_type": "code",
   "execution_count": null,
   "id": "0aea85b7",
   "metadata": {},
   "outputs": [],
   "source": [
    "soo=-UnAccountedFor['Amount Debit']\n",
    "print(len(soo))\n",
    "soo=-Resid['Amount Debit']\n",
    "print(len(soo))\n",
    "#soo=-Prime['Amount Debit']\n",
    "#print(len(soo))"
   ]
  },
  {
   "cell_type": "code",
   "execution_count": null,
   "id": "4828dbc0",
   "metadata": {},
   "outputs": [],
   "source": [
    "#Codes \"\n",
    "Checks(All=Resid,write=True)"
   ]
  },
  {
   "cell_type": "code",
   "execution_count": null,
   "id": "5912e2b0",
   "metadata": {},
   "outputs": [],
   "source": [
    "bnum=11000\n",
    "bin=np.linspace(0,11000.,num=bnum)\n",
    "abin=0.5*(bin[1:]+bin[0:bnum-1])\n",
    "print(np.shape(abin))\n",
    "\n",
    "hoo=np.histogram(soo,bins=bin)\n",
    "\n",
    "print(np.sum(hoo[0]*abin))\n",
    "ahoo=np.cumsum(hoo[0]*abin)\n",
    "#print(hoo[1])\n",
    "#plt.plot(abin,ahoo)\n",
    "#plt.xlim(0,1000)\n",
    "plt.plot(abin,ahoo)\n",
    "plt.xlim(0,1000)\n",
    "plt.ylim(0,100000.)\n",
    "plt.xlim(0,300)\n",
    "plt.ylim(0,20_000.)"
   ]
  },
  {
   "cell_type": "code",
   "execution_count": null,
   "id": "24bcb01a",
   "metadata": {},
   "outputs": [],
   "source": [
    "bnum=11000\n",
    "bin=np.linspace(0,11000.,num=bnum)\n",
    "abin=0.5*(bin[1:]+bin[0:bnum-1])\n",
    "print(np.shape(abin))\n",
    "\n",
    "hoo=np.histogram(soo,bins=bin)\n",
    "\n",
    "ahoo=np.cumsum(hoo[0])\n",
    "plt.plot(abin,ahoo)\n",
    "plt.xlim(0,1000)\n",
    "plt.ylim(0,1000.)"
   ]
  },
  {
   "cell_type": "code",
   "execution_count": null,
   "id": "d23e7797",
   "metadata": {},
   "outputs": [],
   "source": [
    "#plt.plot( g['Amount Debit'])\n",
    "print(np.sum( g1['Amount Debit'] )+ np.sum(g2['Amount Debit']) + np.sum(g3['Amount Debit']) \n",
    "      + np.sum(g4['Amount Debit'] ) )"
   ]
  },
  {
   "cell_type": "code",
   "execution_count": null,
   "id": "fa0a892f",
   "metadata": {},
   "outputs": [],
   "source": [
    "soo= -aaa['Amount Debit']\n",
    "poo= aaa['Amount Credit']\n",
    "aaa['Date']=pd.to_datetime( aaa['Date'] )\n",
    "#plt.plot(soo)\n",
    "print(np.sum(soo))\n",
    "print(np.sum(poo))\n",
    "aaa['Date'].dt.month[10]\n",
    "\n",
    "dates = aaa['Date']\n",
    "\n",
    "for imo in np.arange(11):\n",
    "    month=imo+1\n",
    "    zz=np.where(dates.dt.month==month)\n",
    "    print(np.shape(zz))\n",
    "    dates[zz[0][0]]\n",
    "    bbb=aaa.iloc[zz[0]]\n",
    "    x=np.sum(bbb['Amount Debit'])\n",
    "    y=np.sum(bbb['Amount Credit'])\n",
    "    print(  \"month\", month,\" debits=\", f'{ x:.1f}', \" credits=\", f'{ y:.1f}' )"
   ]
  },
  {
   "cell_type": "code",
   "execution_count": null,
   "id": "92dbfd4e",
   "metadata": {},
   "outputs": [],
   "source": [
    "gto=[g1,g2,g3,g4]"
   ]
  },
  {
   "cell_type": "code",
   "execution_count": null,
   "id": "62dc0f4c",
   "metadata": {},
   "outputs": [],
   "source": [
    "roo=pd.concat( gto )"
   ]
  },
  {
   "cell_type": "code",
   "execution_count": null,
   "id": "d63b5265",
   "metadata": {},
   "outputs": [],
   "source": [
    "file='/Users/juliob/Desktop/grocer/AllStores.csv'"
   ]
  },
  {
   "cell_type": "code",
   "execution_count": null,
   "id": "b7f9cf51",
   "metadata": {},
   "outputs": [],
   "source": [
    "roo.to_csv(file)"
   ]
  },
  {
   "cell_type": "code",
   "execution_count": null,
   "id": "2c7586d8",
   "metadata": {},
   "outputs": [],
   "source": [
    "print((np.sum( g1['Amount Debit'] )+ np.sum(g2['Amount Debit']) + np.sum(g3['Amount Debit']) \n",
    "      + np.sum(g4['Amount Debit'] ) )/4.5)"
   ]
  },
  {
   "cell_type": "code",
   "execution_count": null,
   "id": "6b07337f",
   "metadata": {},
   "outputs": [],
   "source": []
  }
 ],
 "metadata": {
  "kernelspec": {
   "display_name": "Python [conda env:mlenv]",
   "language": "python",
   "name": "conda-env-mlenv-py"
  },
  "language_info": {
   "codemirror_mode": {
    "name": "ipython",
    "version": 3
   },
   "file_extension": ".py",
   "mimetype": "text/x-python",
   "name": "python",
   "nbconvert_exporter": "python",
   "pygments_lexer": "ipython3",
   "version": "3.9.12"
  }
 },
 "nbformat": 4,
 "nbformat_minor": 5
}
