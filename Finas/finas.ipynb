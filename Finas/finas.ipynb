{
 "cells": [
  {
   "cell_type": "code",
   "execution_count": 1,
   "id": "7f748582",
   "metadata": {},
   "outputs": [],
   "source": [
    "import pandas as pd\n",
    "import numpy as np\n",
    "import matplotlib.pyplot as plt\n",
    "from sklearn.model_selection import StratifiedShuffleSplit\n",
    "from sklearn.model_selection import train_test_split\n",
    "from sklearn.impute import SimpleImputer\n",
    "import seaborn as sn\n",
    "import datetime\n"
   ]
  },
  {
   "cell_type": "code",
   "execution_count": 2,
   "id": "57be2abe",
   "metadata": {},
   "outputs": [],
   "source": [
    "def Spending(All,Category,idens,debug=False,write=True):\n",
    "    ico=[]\n",
    "    shp=np.shape(All)\n",
    "    ilength = shp[0]\n",
    "    maxindx = np.max( All.index )\n",
    "    #print(maxindx,ilength)\n",
    "    #for idx in np.arange():\n",
    "    for idx in All.index:\n",
    "        if (  any(item in str(aaa['Memo'][idx]).upper() for item in idens)):\n",
    "            if( debug==True):\n",
    "                print(aaa['Memo'][idx],aaa['Amount Debit'][idx])\n",
    "            ico.append(idx)\n",
    "            \n",
    "    globals()[Category] = All.loc[ico] \n",
    "    print(Category+\" ====>\", np.sum(globals()[Category]['Amount Debit']))\n",
    "    if (write==True):\n",
    "        CatFile='/Users/juliob/Desktop/grocer/' +Category+'.csv'\n",
    "        globals()[Category].to_csv(CatFile)\n",
    "        \n"
   ]
  },
  {
   "cell_type": "code",
   "execution_count": 3,
   "id": "85e4336e",
   "metadata": {},
   "outputs": [],
   "source": [
    "def Checks(All,Category='Drafts',idens=['DRAFT',],debug=False,write=True):\n",
    "    ico=[]\n",
    "    shp=np.shape(All)\n",
    "    ilength = shp[0]\n",
    "    maxindx = np.max( All.index )\n",
    "    #print(maxindx,ilength)\n",
    "    #for idx in np.arange():\n",
    "    for idx in All.index:\n",
    "        if (  any(item in str(aaa['Description'][idx]).upper() for item in idens)):\n",
    "            if( debug==True):\n",
    "                print(aaa['Memo'][idx],aaa['Amount Debit'][idx])\n",
    "            ico.append(idx)\n",
    "            \n",
    "    globals()[Category] = All.loc[ico] \n",
    "    print(Category+\" ====>\", np.sum(globals()[Category]['Amount Debit']))\n",
    "    if (write==True):\n",
    "        CatFile='/Users/juliob/Desktop/grocer/' +Category+'.csv'\n",
    "        globals()[Category].to_csv(CatFile)\n",
    "        \n"
   ]
  },
  {
   "cell_type": "code",
   "execution_count": 4,
   "id": "899bec00",
   "metadata": {},
   "outputs": [],
   "source": [
    "def InitCategory(ncol=30):\n",
    "\n",
    "    colms=['Category']\n",
    "    idata=['ABCDE12345']\n",
    "    ncol=30\n",
    "    for i in np.arange(ncol):\n",
    "        colms.append('code'+str(i+1))\n",
    "        idata.append('ABCDE12345')\n",
    "\n",
    "    df=pd.DataFrame(columns=colms)\n",
    "    df.loc[0]=idata\n",
    "    \n",
    "    return df"
   ]
  },
  {
   "cell_type": "code",
   "execution_count": 5,
   "id": "b84704ea",
   "metadata": {},
   "outputs": [
    {
     "data": {
      "text/html": [
       "<div>\n",
       "<style scoped>\n",
       "    .dataframe tbody tr th:only-of-type {\n",
       "        vertical-align: middle;\n",
       "    }\n",
       "\n",
       "    .dataframe tbody tr th {\n",
       "        vertical-align: top;\n",
       "    }\n",
       "\n",
       "    .dataframe thead th {\n",
       "        text-align: right;\n",
       "    }\n",
       "</style>\n",
       "<table border=\"1\" class=\"dataframe\">\n",
       "  <thead>\n",
       "    <tr style=\"text-align: right;\">\n",
       "      <th></th>\n",
       "      <th>Transaction Number</th>\n",
       "      <th>Date</th>\n",
       "      <th>Description</th>\n",
       "      <th>Memo</th>\n",
       "      <th>Amount Debit</th>\n",
       "      <th>Amount Credit</th>\n",
       "      <th>Balance</th>\n",
       "      <th>Check Number</th>\n",
       "      <th>Fees</th>\n",
       "    </tr>\n",
       "  </thead>\n",
       "  <tbody>\n",
       "    <tr>\n",
       "      <th>0</th>\n",
       "      <td>20230325000000[-7:MST]*-29.71*42**Withdrawal</td>\n",
       "      <td>03/25/2023</td>\n",
       "      <td>Withdrawal</td>\n",
       "      <td>SHELL OIL 57445345408 LONGMONT CO Date 03/24/2...</td>\n",
       "      <td>-29.71</td>\n",
       "      <td>NaN</td>\n",
       "      <td>3306.41</td>\n",
       "      <td>NaN</td>\n",
       "      <td>NaN</td>\n",
       "    </tr>\n",
       "    <tr>\n",
       "      <th>1</th>\n",
       "      <td>20230325000000[-7:MST]*-41.52*13**Withdrawal #...</td>\n",
       "      <td>03/25/2023</td>\n",
       "      <td>Withdrawal #000072013602</td>\n",
       "      <td>PETSMART # 1130 1125 S. HOVER STREET LONGMONT ...</td>\n",
       "      <td>-41.52</td>\n",
       "      <td>NaN</td>\n",
       "      <td>3336.12</td>\n",
       "      <td>NaN</td>\n",
       "      <td>NaN</td>\n",
       "    </tr>\n",
       "    <tr>\n",
       "      <th>2</th>\n",
       "      <td>20230325000000[-7:MST]*-19.07*42**Withdrawal</td>\n",
       "      <td>03/25/2023</td>\n",
       "      <td>Withdrawal</td>\n",
       "      <td>STARBUCKS STORE 29706 LAFAYETTE CO Date 03/24/...</td>\n",
       "      <td>-19.07</td>\n",
       "      <td>NaN</td>\n",
       "      <td>3377.64</td>\n",
       "      <td>NaN</td>\n",
       "      <td>NaN</td>\n",
       "    </tr>\n",
       "    <tr>\n",
       "      <th>3</th>\n",
       "      <td>20230325000000[-7:MST]*-75.00*42**Withdrawal</td>\n",
       "      <td>03/25/2023</td>\n",
       "      <td>Withdrawal</td>\n",
       "      <td>TST* The Roost 303-827-3380 CO Date 03/25/23 2...</td>\n",
       "      <td>-75.00</td>\n",
       "      <td>NaN</td>\n",
       "      <td>3396.71</td>\n",
       "      <td>NaN</td>\n",
       "      <td>NaN</td>\n",
       "    </tr>\n",
       "    <tr>\n",
       "      <th>4</th>\n",
       "      <td>20230325000000[-7:MST]*-37.44*42**Withdrawal</td>\n",
       "      <td>03/25/2023</td>\n",
       "      <td>Withdrawal</td>\n",
       "      <td>PY *LONGMONT LONGMONT CO Date 03/24/23 2444500...</td>\n",
       "      <td>-37.44</td>\n",
       "      <td>NaN</td>\n",
       "      <td>3471.71</td>\n",
       "      <td>NaN</td>\n",
       "      <td>NaN</td>\n",
       "    </tr>\n",
       "    <tr>\n",
       "      <th>...</th>\n",
       "      <td>...</td>\n",
       "      <td>...</td>\n",
       "      <td>...</td>\n",
       "      <td>...</td>\n",
       "      <td>...</td>\n",
       "      <td>...</td>\n",
       "      <td>...</td>\n",
       "      <td>...</td>\n",
       "      <td>...</td>\n",
       "    </tr>\n",
       "    <tr>\n",
       "      <th>212</th>\n",
       "      <td>20230220000000[-7:MST]*-60.58*42**Withdrawal</td>\n",
       "      <td>02/20/2023</td>\n",
       "      <td>Withdrawal</td>\n",
       "      <td>LONGTUCKY SPIRITS LONGMONT CO Date 02/19/23 24...</td>\n",
       "      <td>-60.58</td>\n",
       "      <td>NaN</td>\n",
       "      <td>987.38</td>\n",
       "      <td>NaN</td>\n",
       "      <td>NaN</td>\n",
       "    </tr>\n",
       "    <tr>\n",
       "      <th>213</th>\n",
       "      <td>20230220000000[-7:MST]*-56.80*14**Withdrawal B...</td>\n",
       "      <td>02/20/2023</td>\n",
       "      <td>Withdrawal Bill Payment</td>\n",
       "      <td>#000000912445 AFFIRM PAY W9G SAN FRANCISCO CA ...</td>\n",
       "      <td>-56.80</td>\n",
       "      <td>NaN</td>\n",
       "      <td>1047.96</td>\n",
       "      <td>NaN</td>\n",
       "      <td>NaN</td>\n",
       "    </tr>\n",
       "    <tr>\n",
       "      <th>214</th>\n",
       "      <td>20230220000000[-7:MST]*-10.40*42**Withdrawal</td>\n",
       "      <td>02/20/2023</td>\n",
       "      <td>Withdrawal</td>\n",
       "      <td>Wikipedia Gift 877-6009454 CA Date 02/20/23 24...</td>\n",
       "      <td>-10.40</td>\n",
       "      <td>NaN</td>\n",
       "      <td>1104.76</td>\n",
       "      <td>NaN</td>\n",
       "      <td>NaN</td>\n",
       "    </tr>\n",
       "    <tr>\n",
       "      <th>215</th>\n",
       "      <td>20230220000000[-7:MST]*-400.00*12**Withdrawal ...</td>\n",
       "      <td>02/20/2023</td>\n",
       "      <td>Withdrawal Home Banking</td>\n",
       "      <td>Transfer To BACMEISTER,CLARA 0000237413 Share ...</td>\n",
       "      <td>-400.00</td>\n",
       "      <td>NaN</td>\n",
       "      <td>1115.16</td>\n",
       "      <td>NaN</td>\n",
       "      <td>NaN</td>\n",
       "    </tr>\n",
       "    <tr>\n",
       "      <th>216</th>\n",
       "      <td>20230220000000[-7:MST]*1000.00*512**Deposit Ho...</td>\n",
       "      <td>02/20/2023</td>\n",
       "      <td>Deposit Home Banking Transfer</td>\n",
       "      <td>From Loan 0056 Online Banking Transfer 02/19/2...</td>\n",
       "      <td>NaN</td>\n",
       "      <td>1000.0</td>\n",
       "      <td>1515.16</td>\n",
       "      <td>NaN</td>\n",
       "      <td>NaN</td>\n",
       "    </tr>\n",
       "  </tbody>\n",
       "</table>\n",
       "<p>217 rows × 9 columns</p>\n",
       "</div>"
      ],
      "text/plain": [
       "                                    Transaction Number        Date  \\\n",
       "0         20230325000000[-7:MST]*-29.71*42**Withdrawal  03/25/2023   \n",
       "1    20230325000000[-7:MST]*-41.52*13**Withdrawal #...  03/25/2023   \n",
       "2         20230325000000[-7:MST]*-19.07*42**Withdrawal  03/25/2023   \n",
       "3         20230325000000[-7:MST]*-75.00*42**Withdrawal  03/25/2023   \n",
       "4         20230325000000[-7:MST]*-37.44*42**Withdrawal  03/25/2023   \n",
       "..                                                 ...         ...   \n",
       "212       20230220000000[-7:MST]*-60.58*42**Withdrawal  02/20/2023   \n",
       "213  20230220000000[-7:MST]*-56.80*14**Withdrawal B...  02/20/2023   \n",
       "214       20230220000000[-7:MST]*-10.40*42**Withdrawal  02/20/2023   \n",
       "215  20230220000000[-7:MST]*-400.00*12**Withdrawal ...  02/20/2023   \n",
       "216  20230220000000[-7:MST]*1000.00*512**Deposit Ho...  02/20/2023   \n",
       "\n",
       "                       Description  \\\n",
       "0                       Withdrawal   \n",
       "1         Withdrawal #000072013602   \n",
       "2                       Withdrawal   \n",
       "3                       Withdrawal   \n",
       "4                       Withdrawal   \n",
       "..                             ...   \n",
       "212                     Withdrawal   \n",
       "213        Withdrawal Bill Payment   \n",
       "214                     Withdrawal   \n",
       "215        Withdrawal Home Banking   \n",
       "216  Deposit Home Banking Transfer   \n",
       "\n",
       "                                                  Memo  Amount Debit  \\\n",
       "0    SHELL OIL 57445345408 LONGMONT CO Date 03/24/2...        -29.71   \n",
       "1    PETSMART # 1130 1125 S. HOVER STREET LONGMONT ...        -41.52   \n",
       "2    STARBUCKS STORE 29706 LAFAYETTE CO Date 03/24/...        -19.07   \n",
       "3    TST* The Roost 303-827-3380 CO Date 03/25/23 2...        -75.00   \n",
       "4    PY *LONGMONT LONGMONT CO Date 03/24/23 2444500...        -37.44   \n",
       "..                                                 ...           ...   \n",
       "212  LONGTUCKY SPIRITS LONGMONT CO Date 02/19/23 24...        -60.58   \n",
       "213  #000000912445 AFFIRM PAY W9G SAN FRANCISCO CA ...        -56.80   \n",
       "214  Wikipedia Gift 877-6009454 CA Date 02/20/23 24...        -10.40   \n",
       "215  Transfer To BACMEISTER,CLARA 0000237413 Share ...       -400.00   \n",
       "216  From Loan 0056 Online Banking Transfer 02/19/2...           NaN   \n",
       "\n",
       "     Amount Credit  Balance  Check Number  Fees    \n",
       "0              NaN  3306.41           NaN     NaN  \n",
       "1              NaN  3336.12           NaN     NaN  \n",
       "2              NaN  3377.64           NaN     NaN  \n",
       "3              NaN  3396.71           NaN     NaN  \n",
       "4              NaN  3471.71           NaN     NaN  \n",
       "..             ...      ...           ...     ...  \n",
       "212            NaN   987.38           NaN     NaN  \n",
       "213            NaN  1047.96           NaN     NaN  \n",
       "214            NaN  1104.76           NaN     NaN  \n",
       "215            NaN  1115.16           NaN     NaN  \n",
       "216         1000.0  1515.16           NaN     NaN  \n",
       "\n",
       "[217 rows x 9 columns]"
      ]
     },
     "execution_count": 5,
     "metadata": {},
     "output_type": "execute_result"
    }
   ],
   "source": [
    "\"\"\" \n",
    "Pandas here is a bit like Xarray, i.e., it let's us read in data\n",
    "and maninipulte it aithe statements like data['XYZ'] etc.\n",
    "\"\"\"\n",
    "\n",
    "file='/Users/juliob/Desktop/grocer/All-Dec-1-2022-Mar-19-2023.csv'\n",
    "file='/Users/juliob/Desktop/grocer/All-Feb-20-23-Mar-25-23.csv'\n",
    "aaa=pd.read_csv(file,skiprows=[0,1,2] )\n",
    "aaa"
   ]
  },
  {
   "cell_type": "code",
   "execution_count": null,
   "id": "6fbb02e3",
   "metadata": {},
   "outputs": [],
   "source": [
    "# Testing out pandas DataFrame creation\n",
    "# This cell has no effect on following cells\n",
    "\n",
    "colms=['Category']\n",
    "idata=['ABCDE12345']\n",
    "ncol=30\n",
    "for i in np.arange(ncol):\n",
    "    colms.append('code'+str(i+1))\n",
    "    idata.append('ABCDE12345')\n",
    "\n",
    "df=pd.DataFrame(columns=colms)\n",
    "col=df.columns\n",
    "df.loc[0]=idata\n",
    "df['Category'].loc[0]='Poo'\n",
    "df[col[1]].loc[0]='Tlacui'\n",
    "df[col[4]].loc[0]='gyO~@'\n",
    "df"
   ]
  },
  {
   "cell_type": "code",
   "execution_count": null,
   "id": "2fe0e02c",
   "metadata": {},
   "outputs": [],
   "source": [
    "#shp_aaa=np.shape(aaa)\n",
    "#ilength = shp_aaa[0]\n",
    "print(\"Total Debits <==\", np.sum(aaa['Amount Debit']))\n",
    "print(\"Total Credits <==\", np.sum(aaa['Amount Credit']))\n",
    "print(\"Difference.   ==>\", np.sum(aaa['Amount Credit']) +  np.sum(aaa['Amount Debit'])  )\n",
    "\n"
   ]
  },
  {
   "cell_type": "code",
   "execution_count": null,
   "id": "3a389e1e",
   "metadata": {},
   "outputs": [],
   "source": [
    "idens=(\"TRANSFER TO LOAN\",\"TRANSFER TO SHARE 0009\")\n",
    "Category=\"ToHELOC\"\n",
    "Spending(All=aaa,Category=Category,idens=idens)"
   ]
  },
  {
   "cell_type": "code",
   "execution_count": null,
   "id": "4d6eaa99",
   "metadata": {},
   "outputs": [],
   "source": [
    "idens=(\"FROM LOAN\",)\n",
    "Category=\"FromHELOC\"\n",
    "Spending(All=aaa,Category=Category,idens=idens)\n",
    "print(\"From HELOC 2 <==\", np.sum(FromHELOC['Amount Credit']))"
   ]
  },
  {
   "cell_type": "code",
   "execution_count": null,
   "id": "454a7d89",
   "metadata": {},
   "outputs": [],
   "source": [
    "#Codes for fast-food, restaruarnts and brew pubs\n",
    "restoran=(\"5812 %%\",\"5813 %%\",\"5814 %%\",\"Long s Peak Pub\".upper(),\"URBAN THAI\",\"NOODLES\",\"SOUTHERN SUN\",)\n",
    "Category=\"EatingOut\"\n",
    "Spending(All=aaa,Category=Category,idens=restoran)"
   ]
  },
  {
   "cell_type": "code",
   "execution_count": null,
   "id": "4b0caee5",
   "metadata": {},
   "outputs": [],
   "source": [
    "#Codes \"\n",
    "restoran=(\"5399 %%\", \"5411 %%\", \"5422 %%\",  \"5462 %%\",  \"5499 %%\",\n",
    "          \"WHOLEFDS\",\"SOOPERS\",\"SPROUTS\",\"SAFEWAY\", \"LONGMONT DAIRY\",\n",
    "          \"SAMSCLUB\",\"SAM'S Club\".upper(),\"SAMS MEMB\",\"TARGET\",\"NATURAL GROCER\",\n",
    "          \"CHEESE IMPORTER\",\"WAL-MART\",\"CITY-MARKET\",\"LUCKY'S\",)\n",
    "\n",
    "Category=\"Groceries\"\n",
    "Spending(All=aaa,Category=Category,idens=restoran)"
   ]
  },
  {
   "cell_type": "code",
   "execution_count": null,
   "id": "69c540dc",
   "metadata": {},
   "outputs": [],
   "source": [
    "#Codes \"\n",
    "restoran=(\"CITY OF LONGMONT\",\"XCEL\",\"SPRINT\",\"LIVELY\")\n",
    "Category=\"PhoneUtilities\"\n",
    "Spending(All=aaa,Category=Category,idens=restoran,write=True)"
   ]
  },
  {
   "cell_type": "code",
   "execution_count": null,
   "id": "f09bf883",
   "metadata": {},
   "outputs": [],
   "source": [
    "#Codes for Kids\n",
    "restoran=(\"LUCAS\",\"JOHN\",\"EVA \",\"CLARA\",\n",
    "          )\n",
    "Category=\"Kiddies\"\n",
    "Spending(All=aaa,Category=Category,idens=restoran)\n",
    "\n",
    "#reset counter\n",
    "#So here we see function could need an \"exclude\" option"
   ]
  },
  {
   "cell_type": "code",
   "execution_count": null,
   "id": "2fed1799",
   "metadata": {},
   "outputs": [],
   "source": [
    "\n",
    "#Codes for liquor stores\"\n",
    "restoran=(\"5921 %%\",\"LIQUOR\")\n",
    "Category=\"Liquor\"\n",
    "Spending(All=aaa,Category=Category,idens=restoran)"
   ]
  },
  {
   "cell_type": "code",
   "execution_count": null,
   "id": "13adca19",
   "metadata": {},
   "outputs": [],
   "source": [
    "common_list = set(Groceries.index).intersection(EatingOut.index)\n",
    "AccountedForSet=set(Groceries.index).union(EatingOut.index,Liquor.index,Kiddies.index,\n",
    "                    ToHELOC.index,PhoneUtilities.index)\n",
    "UnAccountedForSet=set(aaa.index).difference(AccountedForSet)\n",
    "\n",
    "# returns items present only in set A\n",
    "# print(A.difference(B)) \n",
    "\n",
    "UnAccountedForIdx=list(UnAccountedForSet)\n",
    "AccountedForIdx=list(AccountedForSet)\n",
    "\n",
    "UnAccountedFor=aaa.loc[UnAccountedForIdx]\n",
    "AccountedFor=aaa.loc[AccountedForIdx]\n",
    "print(\"Accounted for.    ===>\",np.sum(AccountedFor['Amount Debit']))\n",
    "print(\"Still unaccounted ===>\",np.sum(UnAccountedFor['Amount Debit']))"
   ]
  },
  {
   "cell_type": "code",
   "execution_count": null,
   "id": "94a14e1f",
   "metadata": {},
   "outputs": [],
   "source": [
    "#Codes \"\n",
    "restoran=(\"PENNYMAC\",)\n",
    "Category=\"PennyMac\"\n",
    "Spending(All=aaa,Category=Category,idens=restoran)"
   ]
  },
  {
   "cell_type": "code",
   "execution_count": null,
   "id": "228142ca",
   "metadata": {},
   "outputs": [],
   "source": [
    "#Codes \"\n",
    "restoran=(\"TIAA-CREF\",\"BEST BUY\",\"PAYOFF\",\"NASA FCU\",\"APPLECARD\",\"SALLIE MAE\",)\n",
    "Category=\"OtherFixed\"\n",
    "Spending(All=aaa,Category=Category,idens=restoran)"
   ]
  },
  {
   "cell_type": "code",
   "execution_count": null,
   "id": "a54d6b2e",
   "metadata": {},
   "outputs": [],
   "source": [
    "#Codes \"\n",
    "restoran=(\"GEICO\",)\n",
    "Category=\"GEICO\"\n",
    "Spending(All=aaa,Category=Category,idens=restoran)"
   ]
  },
  {
   "cell_type": "code",
   "execution_count": null,
   "id": "a6eebd86",
   "metadata": {},
   "outputs": [],
   "source": [
    "#Codes \"\n",
    "restoran=(\"5511 %%\", \"5521 %%\",\"5532 %%\",\"5533 %%\",\"CIRCLE K\",\"5541 %%\",\"5542 %%\",\"LOAF N JUG\",\n",
    "          \"SHELL SERVICE\",\"MOTOR VEHICLE\",\"FOWLER OF LONGMONT\",\"BOWEN STREET GARAGE\",\"LOVE'S\",\"MURPHY\",\n",
    "          \"O'REILLY\",)\n",
    "Category=\"CarsFuel\"\n",
    "Spending(All=aaa,Category=Category,idens=restoran,write=True)"
   ]
  },
  {
   "cell_type": "code",
   "execution_count": null,
   "id": "40177dd8",
   "metadata": {},
   "outputs": [],
   "source": [
    "#Codes \"\n",
    "restoran=(\"GUARDIAN\",)\n",
    "Category=\"GuardianStorage\"\n",
    "Spending(All=aaa,Category=Category,idens=restoran)"
   ]
  },
  {
   "cell_type": "code",
   "execution_count": null,
   "id": "dc70a746",
   "metadata": {},
   "outputs": [],
   "source": [
    "#Codes \"\n",
    "restoran=(\"KAREN BRICKEN\",\"BE CENTER\",)\n",
    "Category=\"KarenBricken\"\n",
    "Spending(All=aaa,Category=Category,idens=restoran)"
   ]
  },
  {
   "cell_type": "code",
   "execution_count": null,
   "id": "af794d70",
   "metadata": {},
   "outputs": [],
   "source": [
    "#Codes \"\n",
    "restoran=(\"HOME DEPOT\",\"LOWE'S\",\"ACE HARDWAR\",\"SLADE GLASS\",\"BED BATH\",\"5992 %%\",\n",
    "          \"5193 %%\", \"5261 %%\",\"BIN THERE DUMP\",\"SUMMIT TREE CARE\",\"TEE GEE ROOTER\",\n",
    "          \"BEDBATH\",)\n",
    "Category=\"HomeHardware\"\n",
    "Spending(All=aaa,Category=Category,idens=restoran)"
   ]
  },
  {
   "cell_type": "code",
   "execution_count": null,
   "id": "a54ef23e",
   "metadata": {},
   "outputs": [],
   "source": [
    "#Codes \"\n",
    "restoran=(\"MURDOCH\",\"BROWNS SHOE\",\"KOHLS\",\"5931 %%\",\"MACY'S\",\"DICK'S\",\n",
    "          \"DILLARDS\",\"MARSHALLS\",\"JOANN\",\"THREAD\",\"DSW\",\"YARN\",)\n",
    "Category=\"Clothes\"\n",
    "Spending(All=aaa,Category=Category,idens=restoran)"
   ]
  },
  {
   "cell_type": "code",
   "execution_count": null,
   "id": "617e1e42",
   "metadata": {},
   "outputs": [],
   "source": [
    "#Codes \"\n",
    "restoran=(\"OFFICE\",\"STAPLES\",)\n",
    "Category=\"Office\"\n",
    "Spending(All=aaa,Category=Category,idens=restoran)"
   ]
  },
  {
   "cell_type": "code",
   "execution_count": null,
   "id": "afe16e9d",
   "metadata": {},
   "outputs": [],
   "source": [
    "#Codes \"\n",
    "restoran=(\"1313 A SALON\",\"ULTA\",\"BARBER\",\"ALLURE NAIL\",\"NAILS\",\"FLOYD'S\")\n",
    "Category=\"HairCare\"\n",
    "Spending(All=aaa,Category=Category,idens=restoran)"
   ]
  },
  {
   "cell_type": "code",
   "execution_count": null,
   "id": "61713fbc",
   "metadata": {},
   "outputs": [],
   "source": [
    "#Codes \"\n",
    "restoran=(\"HOTEL\",\"AIRBNB\",\"5947 %%\",\"HOT SPRINGS\",)\n",
    "Category=\"Hotels\"\n",
    "Spending(All=aaa,Category=Category,idens=restoran)"
   ]
  },
  {
   "cell_type": "code",
   "execution_count": null,
   "id": "9cc5b315",
   "metadata": {},
   "outputs": [],
   "source": [
    "#Codes \"\n",
    "restoran=(\"FRONTIER\",\"SPIRIT AIR\",\"SPIRITAIR\",\"FLIGHTHUB\",\"AIR CANADA\",\"AMERICAN AIR\",\"LUFTHANSA\",\"UNITED\",)\n",
    "Category=\"Airlines\"\n",
    "Spending(All=aaa,Category=Category,idens=restoran)"
   ]
  },
  {
   "cell_type": "code",
   "execution_count": null,
   "id": "06ae44d4",
   "metadata": {},
   "outputs": [],
   "source": [
    "AccountedForSet=set(AccountedFor.index).union(PennyMac.index,OtherFixed.index,\n",
    "                    GEICO.index,KarenBricken.index,GuardianStorage.index,\n",
    "                    CarsFuel.index,HomeHardware.index,Clothes.index,Office.index,\n",
    "                    HairCare.index,Hotels.index,Airlines.index)\n",
    "UnAccountedForSet=set(aaa.index).difference(AccountedForSet)\n",
    "\n",
    "# returns items present only in set A\n",
    "# print(A.difference(B)) \n",
    "\n",
    "UnAccountedForIdx=list(UnAccountedForSet)\n",
    "AccountedForIdx=list(AccountedForSet)\n",
    "\n",
    "UnAccountedFor=aaa.loc[UnAccountedForIdx]\n",
    "AccountedFor=aaa.loc[AccountedForIdx]\n",
    "print(\"Accounted for.    ===>\",np.sum(AccountedFor['Amount Debit']))\n",
    "print(\"Still unaccounted ===>\",np.sum(UnAccountedFor['Amount Debit']))"
   ]
  },
  {
   "cell_type": "code",
   "execution_count": null,
   "id": "ab5aec2d",
   "metadata": {},
   "outputs": [],
   "source": [
    "#Codes \"\n",
    "restoran=(\"AMZN\",\"PRIME VIDEO\",\"AMAZON\",\"APPLE\",\"ROKU\",\"HBO\",\"DISNEY\",\"5818 %%\",\n",
    "         \"NETFLIX\",\"SPOTIFY\",)\n",
    "Category=\"Prime\"\n",
    "Spending(All=UnAccountedFor,Category=Category,idens=restoran,write=True)"
   ]
  },
  {
   "cell_type": "code",
   "execution_count": null,
   "id": "3a4d7c02",
   "metadata": {},
   "outputs": [],
   "source": [
    "#Codes \"\n",
    "restoran=(\"KUVO\",\"ORNIT\",\"WIKIMEDIA\",)\n",
    "Category=\"Donation\"\n",
    "Spending(All=UnAccountedFor,Category=Category,idens=restoran,write=True)"
   ]
  },
  {
   "cell_type": "code",
   "execution_count": null,
   "id": "ec86d04b",
   "metadata": {},
   "outputs": [],
   "source": [
    "#Codes \"\n",
    "restoran=(\"KAISER\",\"WALGREEN\",\"PHARM\",\"8099 %%\",)\n",
    "Category=\"Pharma\"\n",
    "Spending(All=UnAccountedFor,Category=Category,idens=restoran,write=True)"
   ]
  },
  {
   "cell_type": "code",
   "execution_count": null,
   "id": "9ba0d59c",
   "metadata": {},
   "outputs": [],
   "source": [
    "#Codes \"\n",
    "restoran=(\"DENTIST\",\"USANA\",\"PERIO\",\"8021 %%\",)\n",
    "Category=\"MiscHealth\"\n",
    "Spending(All=UnAccountedFor,Category=Category,idens=restoran,write=True)"
   ]
  },
  {
   "cell_type": "code",
   "execution_count": null,
   "id": "165cde7e",
   "metadata": {},
   "outputs": [],
   "source": [
    "#Codes \"\n",
    "restoran=(\"WELLS FARGO BAN\",\"GUITAR\",\"GRAVITY PICK\",)\n",
    "Category=\"Guitar\"\n",
    "Spending(All=UnAccountedFor,Category=Category,idens=restoran,write=True)"
   ]
  },
  {
   "cell_type": "code",
   "execution_count": null,
   "id": "257280ed",
   "metadata": {},
   "outputs": [],
   "source": [
    "#Codes \"\n",
    "restoran=(\"PETSMART\",\"VALLEY VET\",\"PETCO\",)\n",
    "Category=\"Animals\"\n",
    "Spending(All=UnAccountedFor,Category=Category,idens=restoran,write=True)"
   ]
  },
  {
   "cell_type": "code",
   "execution_count": null,
   "id": "d4cf3231",
   "metadata": {},
   "outputs": [],
   "source": [
    "ResidSet=set(UnAccountedFor.index).difference(\n",
    "         set(Prime.index).union(Donation.index,Pharma.index,Guitar.index,Animals.index,\n",
    "            MiscHealth.index))\n",
    "\n",
    "#UnAccountedForIdx=list(UnAccountedForSet)\n",
    "#UnAccountedFor=UnAccountedFor.loc[UnAccountedForIdx]\n",
    "#UnAccountedFor.sort_values(by=['Amount Debit'],ascending=True,inplace=True)\n",
    "#UnAccountedFor.to_csv('/Users/juliob/Desktop/grocer/UnAccounted.csv')"
   ]
  },
  {
   "cell_type": "code",
   "execution_count": null,
   "id": "8aa91858",
   "metadata": {},
   "outputs": [],
   "source": [
    "ResidIdx=list(ResidSet)\n",
    "Resid=UnAccountedFor.loc[ResidIdx]\n",
    "print(\"Residual.    ===>\",np.sum(Resid['Amount Debit']))\n"
   ]
  },
  {
   "cell_type": "code",
   "execution_count": null,
   "id": "1f709693",
   "metadata": {},
   "outputs": [],
   "source": [
    "#UnAccountedFor.sort_values(by=['Amount Debit'],ascending=True,inplace=True)\n",
    "#UnAccountedFor.to_csv('/Users/juliob/Desktop/grocer/UnAccounted.csv')\n",
    "Resid.sort_values(by=['Amount Debit'],ascending=True,inplace=True)\n",
    "Resid.to_csv('/Users/juliob/Desktop/grocer/Residual.csv')\n",
    "Prime.to_csv('/Users/juliob/Desktop/grocer/Prime.csv')\n"
   ]
  },
  {
   "cell_type": "code",
   "execution_count": null,
   "id": "0aea85b7",
   "metadata": {},
   "outputs": [],
   "source": [
    "soo=-UnAccountedFor['Amount Debit']\n",
    "print(len(soo))\n",
    "soo=-Resid['Amount Debit']\n",
    "print(len(soo))\n",
    "#soo=-Prime['Amount Debit']\n",
    "#print(len(soo))"
   ]
  },
  {
   "cell_type": "code",
   "execution_count": null,
   "id": "4828dbc0",
   "metadata": {},
   "outputs": [],
   "source": [
    "#Codes \"\n",
    "Checks(All=Resid,write=True)"
   ]
  },
  {
   "cell_type": "code",
   "execution_count": null,
   "id": "5912e2b0",
   "metadata": {},
   "outputs": [],
   "source": [
    "bnum=11000\n",
    "bin=np.linspace(0,11000.,num=bnum)\n",
    "abin=0.5*(bin[1:]+bin[0:bnum-1])\n",
    "print(np.shape(abin))\n",
    "\n",
    "hoo=np.histogram(soo,bins=bin)\n",
    "\n",
    "print(np.sum(hoo[0]*abin))\n",
    "ahoo=np.cumsum(hoo[0]*abin)\n",
    "#print(hoo[1])\n",
    "#plt.plot(abin,ahoo)\n",
    "#plt.xlim(0,1000)\n",
    "plt.plot(abin,ahoo)\n",
    "plt.xlim(0,1000)\n",
    "plt.ylim(0,100000.)\n",
    "plt.xlim(0,300)\n",
    "plt.ylim(0,20_000.)"
   ]
  },
  {
   "cell_type": "code",
   "execution_count": null,
   "id": "24bcb01a",
   "metadata": {},
   "outputs": [],
   "source": [
    "bnum=11000\n",
    "bin=np.linspace(0,11000.,num=bnum)\n",
    "abin=0.5*(bin[1:]+bin[0:bnum-1])\n",
    "print(np.shape(abin))\n",
    "\n",
    "hoo=np.histogram(soo,bins=bin)\n",
    "\n",
    "ahoo=np.cumsum(hoo[0])\n",
    "plt.plot(abin,ahoo)\n",
    "plt.xlim(0,1000)\n",
    "plt.ylim(0,1000.)"
   ]
  },
  {
   "cell_type": "code",
   "execution_count": null,
   "id": "d23e7797",
   "metadata": {},
   "outputs": [],
   "source": [
    "#plt.plot( g['Amount Debit'])\n",
    "print(np.sum( g1['Amount Debit'] )+ np.sum(g2['Amount Debit']) + np.sum(g3['Amount Debit']) \n",
    "      + np.sum(g4['Amount Debit'] ) )"
   ]
  },
  {
   "cell_type": "code",
   "execution_count": null,
   "id": "fa0a892f",
   "metadata": {},
   "outputs": [],
   "source": [
    "soo= -aaa['Amount Debit']\n",
    "poo= aaa['Amount Credit']\n",
    "aaa['Date']=pd.to_datetime( aaa['Date'] )\n",
    "#plt.plot(soo)\n",
    "print(np.sum(soo))\n",
    "print(np.sum(poo))\n",
    "aaa['Date'].dt.month[10]\n",
    "\n",
    "dates = aaa['Date']\n",
    "\n",
    "for imo in np.arange(11):\n",
    "    month=imo+1\n",
    "    zz=np.where(dates.dt.month==month)\n",
    "    print(np.shape(zz))\n",
    "    dates[zz[0][0]]\n",
    "    bbb=aaa.iloc[zz[0]]\n",
    "    x=np.sum(bbb['Amount Debit'])\n",
    "    y=np.sum(bbb['Amount Credit'])\n",
    "    print(  \"month\", month,\" debits=\", f'{ x:.1f}', \" credits=\", f'{ y:.1f}' )"
   ]
  },
  {
   "cell_type": "code",
   "execution_count": null,
   "id": "92dbfd4e",
   "metadata": {},
   "outputs": [],
   "source": [
    "gto=[g1,g2,g3,g4]"
   ]
  },
  {
   "cell_type": "code",
   "execution_count": null,
   "id": "62dc0f4c",
   "metadata": {},
   "outputs": [],
   "source": [
    "roo=pd.concat( gto )"
   ]
  },
  {
   "cell_type": "code",
   "execution_count": null,
   "id": "d63b5265",
   "metadata": {},
   "outputs": [],
   "source": [
    "file='/Users/juliob/Desktop/grocer/AllStores.csv'"
   ]
  },
  {
   "cell_type": "code",
   "execution_count": null,
   "id": "b7f9cf51",
   "metadata": {},
   "outputs": [],
   "source": [
    "roo.to_csv(file)"
   ]
  },
  {
   "cell_type": "code",
   "execution_count": null,
   "id": "2c7586d8",
   "metadata": {},
   "outputs": [],
   "source": [
    "print((np.sum( g1['Amount Debit'] )+ np.sum(g2['Amount Debit']) + np.sum(g3['Amount Debit']) \n",
    "      + np.sum(g4['Amount Debit'] ) )/4.5)"
   ]
  },
  {
   "cell_type": "code",
   "execution_count": null,
   "id": "6b07337f",
   "metadata": {},
   "outputs": [],
   "source": []
  }
 ],
 "metadata": {
  "kernelspec": {
   "display_name": "Python [conda env:mlenv]",
   "language": "python",
   "name": "conda-env-mlenv-py"
  },
  "language_info": {
   "codemirror_mode": {
    "name": "ipython",
    "version": 3
   },
   "file_extension": ".py",
   "mimetype": "text/x-python",
   "name": "python",
   "nbconvert_exporter": "python",
   "pygments_lexer": "ipython3",
   "version": "3.9.12"
  }
 },
 "nbformat": 4,
 "nbformat_minor": 5
}
