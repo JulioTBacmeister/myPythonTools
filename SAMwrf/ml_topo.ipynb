{
 "cells": [
  {
   "cell_type": "code",
   "execution_count": null,
   "id": "ac051d88-de84-40a7-97e1-7d3d67d9295e",
   "metadata": {},
   "outputs": [],
   "source": [
    "######## load topography and wind vector data #########\n",
    "\n",
    "import numpy as np\n",
    "import pandas as pd\n",
    "import matplotlib.pyplot as plt\n",
    "import xarray as xr\n",
    "\n",
    "\n",
    "import tensorflow as tf\n",
    "from sklearn.preprocessing import StandardScaler\n",
    "from sklearn.model_selection import train_test_split\n",
    "from sklearn.metrics import mean_squared_error\n",
    "\n",
    "from tensorflow import keras\n",
    "from keras.models import Sequential, Model\n",
    "from keras.layers import Dense, Reshape, Conv1D, Conv2D, Flatten, Input, Normalization\n",
    "from keras.optimizers import Adam, SGD, RMSprop\n",
    "\n"
   ]
  },
  {
   "cell_type": "code",
   "execution_count": null,
   "id": "9d841692-c490-4791-9bd2-26f858a323dc",
   "metadata": {},
   "outputs": [],
   "source": [
    "#import h5"
   ]
  },
  {
   "cell_type": "code",
   "execution_count": null,
   "id": "f3738556-49bb-4466-b4b4-0c8d648922f5",
   "metadata": {},
   "outputs": [],
   "source": [
    "# Specify directory for data\n",
    "drct='/glade/p/cesm/amwg_dev/juliob/SAMwrf/Curtains/'\n",
    "# Get data (v7 has corrected ANGLL)\n",
    "tag='ndg04'\n",
    "fi=drct+'SAMwrf_'+tag+'_ML_super_v7.nc'\n",
    "ds=xr.open_dataset( fi )\n",
    "\n"
   ]
  },
  {
   "cell_type": "code",
   "execution_count": null,
   "id": "3f5d860c-2795-496c-87ad-f7c788c5fc9c",
   "metadata": {},
   "outputs": [],
   "source": [
    "mxd = ds['MXDIS']\n",
    "ang = ds['ANGLL']\n",
    "cln = ds['CLNGT']\n",
    "ani = ds['ANISO']\n",
    "sgh = ds['SGH']\n",
    "\n",
    "u=ds['U']\n",
    "v=ds['V']\n",
    "tu = ds['UTEND_NDG']*86400\n",
    "tv = ds['VTEND_NDG']*86400"
   ]
  },
  {
   "cell_type": "code",
   "execution_count": null,
   "id": "3b9eb58f-6cfc-4cc0-a9e1-e4eaf9904312",
   "metadata": {},
   "outputs": [],
   "source": [
    "mxdv = mxd.values\n",
    "angv = ang.values\n",
    "clnv = cln.values\n",
    "aniv = ani.values\n",
    "sghv = sgh.values\n",
    "\n",
    "nT,nL,nS = np.shape(u)"
   ]
  },
  {
   "cell_type": "code",
   "execution_count": null,
   "id": "30dcb316-043c-4390-b20d-99fc2c4dbdf4",
   "metadata": {},
   "outputs": [],
   "source": [
    "ii=np.where(mxd[0,:]>50.)\n",
    "print(np.shape(ii))\n",
    "\n",
    "mxds=mxdv[0,ii[0][:]]\n",
    "clns=clnv[0,ii[0][:]]\n",
    "angs=angv[0,ii[0][:]]\n",
    "anis=aniv[0,ii[0][:]]\n",
    "sghs=sghv[ii[0]]"
   ]
  },
  {
   "cell_type": "code",
   "execution_count": null,
   "id": "c87d1494-e67f-42e9-b4f2-b9dd932c26b9",
   "metadata": {},
   "outputs": [],
   "source": [
    "u=u.values\n",
    "u=u[:,21:,ii[0][:]]\n",
    "u=np.transpose(u, (1,0,2) )\n",
    "nL,nT,nS=np.shape(u)\n",
    "u=np.reshape( u, (nL,nT*nS ) )  ### should normalize each individual variables\n",
    "\n",
    "v=v.values\n",
    "v=v[:,21:,ii[0][:]]\n",
    "v=np.transpose(v, (1,0,2) )\n",
    "v=np.reshape( v, (nL,nT*nS ) )### should normalize each individual variables\n",
    "\n",
    "tu = tu.values\n",
    "tu=tu[:,21:,ii[0][:]]\n",
    "tu=np.transpose(tu, (1,0,2) )\n",
    "tu=np.reshape( tu, (nL,nT*nS ) )### should normalize each individual variables\n",
    "\n",
    "tv = tv.values\n",
    "tv=tv[:,21:,ii[0][:]]\n",
    "tv=np.transpose(tv, (1,0,2) )\n",
    "tv=np.reshape( tv, (nL,nT*nS ) )### should normalize each individual variables"
   ]
  },
  {
   "cell_type": "code",
   "execution_count": null,
   "id": "0fce0143-8dd9-48fb-b5ea-3d142698f12f",
   "metadata": {},
   "outputs": [],
   "source": [
    "angx=np.zeros([1,nT,nS])\n",
    "mxdx=np.zeros([1,nT,nS])\n",
    "clnx=np.zeros([1,nT,nS])\n",
    "anix=np.zeros([1,nT,nS])\n",
    "sghx=np.zeros([1,nT,nS])\n",
    "\n",
    "\n",
    "for iT in np.arange(nT):\n",
    "    angx[0,iT,:]=angs\n",
    "    mxdx[0,iT,:]=mxds\n",
    "    clnx[0,iT,:]=clns\n",
    "    anix[0,iT,:]=anis\n",
    "    sghx[0,iT,:]=sghs\n",
    "    \n",
    "angx = np.reshape( angx, (1,nT*nS ) )\n",
    "mxdx = np.reshape( mxdx, (1,nT*nS ) )\n",
    "clnx = np.reshape( clnx, (1,nT*nS ) )\n",
    "anix = np.reshape( anix, (1,nT*nS ) )\n",
    "sghx = np.reshape( sghx, (1,nT*nS ) )"
   ]
  },
  {
   "cell_type": "code",
   "execution_count": null,
   "id": "66267f71-95a2-440c-a2c3-0b740613075c",
   "metadata": {},
   "outputs": [],
   "source": [
    "cu = u\n",
    "cu[np.where(np.isnan(cu))]=np.nanmean(cu) ### remove nan values\n",
    "\n",
    "cv = v\n",
    "cv[np.where(np.isnan(cv))]=np.nanmean(cv) ### remove nan values\n",
    "\n",
    "ctu = tu\n",
    "ctu[np.where(np.isnan(ctu))]=np.nanmean(ctu) \n",
    "\n",
    "ctv = tv\n",
    "ctv[np.where(np.isnan(ctv))]=np.nanmean(ctv) "
   ]
  },
  {
   "cell_type": "code",
   "execution_count": null,
   "id": "f425f4a1-bcad-4ad2-bea3-e7544736c506",
   "metadata": {},
   "outputs": [],
   "source": [
    "x_total = np.r_[cu,cv,angx,mxdx,clnx,anix,sghx]\n",
    "y_total = np.r_[ctu,ctv]\n",
    "x_total = np.transpose(x_total)\n",
    "y_total = np.transpose(y_total)\n"
   ]
  },
  {
   "cell_type": "code",
   "execution_count": null,
   "id": "3ca7499a-774b-4c92-b783-207c72109c62",
   "metadata": {},
   "outputs": [],
   "source": [
    "##### After data preprocessing, import tensorflow and keras build the CNN regression model, train and test ###########\n",
    "normalizer = Normalization(axis=-1)\n",
    "normalizer.adapt(x_total)\n",
    "print(normalizer.mean.numpy())\n"
   ]
  },
  {
   "cell_type": "code",
   "execution_count": null,
   "id": "030049a6-4be9-4c74-b796-6c621b085650",
   "metadata": {},
   "outputs": [],
   "source": [
    "na = np.arange(0.1,0.99,0.01)\n",
    "score_train = np.zeros(89)\n",
    "score_eval = np.zeros(89)\n",
    "kk = 0\n",
    "\n",
    "for nn in na:\n",
    "\n",
    "    kk=kk+1\n",
    "    x_train, x_test, y_train, y_test = train_test_split(x_total, y_total, test_size=nn, random_state=40) ## split training and test dataset\n",
    "    n_inputs = 27\n",
    "    n_outputs = 22\n",
    "    model = Sequential()\n",
    "    model.add(Dense(20, input_dim=n_inputs, kernel_initializer='he_uniform', activation='relu')) ### MLP\n",
    "    model.add(Dense(n_outputs))\n",
    "    model.compile(loss='mae', optimizer='adam')\n",
    "#add model layers\n",
    "#model.compile(optimizer='Adam',\n",
    "#              loss='mse'), ##### 'mean_absolute_error')\n",
    "\n",
    "\n",
    "    model.fit(x_train, y_train,\n",
    "          batch_size=128,\n",
    "          epochs=10,\n",
    "          verbose=1,\n",
    "          validation_data=(x_test, y_test))\n",
    "\n",
    "    score = model.evaluate(x_test, y_test, verbose=1)\n",
    "    y_pred = model.predict(x_test)\n",
    "    score2 = model.evaluate(x_train, y_train)\n",
    "    \n",
    "##    score_train[kk]=score\n",
    "##    score_eval[kk]=score2"
   ]
  },
  {
   "cell_type": "code",
   "execution_count": null,
   "id": "e61f848e-73ac-4408-b1e7-2dbf67e0b418",
   "metadata": {},
   "outputs": [],
   "source": []
  },
  {
   "cell_type": "code",
   "execution_count": null,
   "id": "02ae5afa-27c7-4bac-a8e7-2babbf96ae87",
   "metadata": {},
   "outputs": [],
   "source": [
    "from sklearn.preprocessing import normalize"
   ]
  },
  {
   "cell_type": "code",
   "execution_count": null,
   "id": "c877836b-dbc9-44d4-a987-dada92c991f1",
   "metadata": {},
   "outputs": [],
   "source": [
    "### open data files ########\n",
    "\n",
    "##fn ='/glade/u/home/ytian/ML_data/SAMwrf_ndg05_ML_super.nc'\n",
    "fn ='/glade/u/home/ytian/ML_data/SAMwrf_ndg04_ML_2010-06.nc'\n",
    "##ds = xr.open_dataset(fn)\n",
    "\n",
    "##drct='/glade/p/cesm/amwg_dev/juliob/SAMwrf/Curtains/'\n",
    "# Get data (v7 has corrected ANGLL)\n",
    "##tag='ndg04'\n",
    "##fn=drct+'SAMwrf_'+tag+'_ML_super_v7.nc '\n",
    "ds=xr.open_dataset( fn )"
   ]
  },
  {
   "cell_type": "code",
   "execution_count": null,
   "id": "93010eb9-1b2b-47b5-baf3-0b2ac7a8bd33",
   "metadata": {},
   "outputs": [],
   "source": [
    "print(list(ds.variables))"
   ]
  },
  {
   "cell_type": "code",
   "execution_count": null,
   "id": "fd4b2057-1022-4571-acb8-449e189ecdfa",
   "metadata": {},
   "outputs": [],
   "source": [
    "print(np.shape(ds['ANGLL']))"
   ]
  },
  {
   "cell_type": "code",
   "execution_count": null,
   "id": "8668a98f-19d9-4dc5-a6ff-1832b852028d",
   "metadata": {},
   "outputs": [],
   "source": []
  },
  {
   "cell_type": "code",
   "execution_count": null,
   "id": "0d1238ae-8ef1-4ff9-aa1f-516a684218ce",
   "metadata": {},
   "outputs": [],
   "source": [
    "mxd = ds['MXDIS']\n",
    "ang = ds['ANGLL']\n",
    "cln = ds['CLNGT']\n",
    "ani = ds['ANISO']\n",
    "sgh = ds['SGH']\n",
    "\n",
    "u=ds['U']\n",
    "v=ds['V']\n",
    "tu = ds['UTEND_NDG']*86400\n",
    "tv = ds['VTEND_NDG']*86400"
   ]
  },
  {
   "cell_type": "code",
   "execution_count": null,
   "id": "ff2677d7-9535-46ad-a4c4-61f5dd708295",
   "metadata": {},
   "outputs": [],
   "source": [
    "print(mxd.shape)"
   ]
  },
  {
   "cell_type": "code",
   "execution_count": null,
   "id": "fb9aea53-f7fa-4e1e-8af7-029073854e2a",
   "metadata": {},
   "outputs": [],
   "source": [
    "print(ang.shape)"
   ]
  },
  {
   "cell_type": "code",
   "execution_count": null,
   "id": "92d85af6-6172-4cd5-9d0e-b5c2856d9560",
   "metadata": {},
   "outputs": [],
   "source": [
    "print(cln.shape)"
   ]
  },
  {
   "cell_type": "code",
   "execution_count": null,
   "id": "9725a5c0-a0a6-4e3a-910a-eec7a29e3117",
   "metadata": {},
   "outputs": [],
   "source": [
    "print(sgh.shape)\n"
   ]
  },
  {
   "cell_type": "code",
   "execution_count": null,
   "id": "cfb2f722-fc2f-4218-80e8-14eb3a05a4ab",
   "metadata": {},
   "outputs": [],
   "source": [
    "print(u.shape)"
   ]
  },
  {
   "cell_type": "code",
   "execution_count": null,
   "id": "06128197-ddf9-406e-be4d-7e482e316bfd",
   "metadata": {},
   "outputs": [],
   "source": [
    "print(tu.shape)"
   ]
  },
  {
   "cell_type": "code",
   "execution_count": null,
   "id": "86008196-45c6-4f3c-8742-5f2a7c83a8b1",
   "metadata": {},
   "outputs": [],
   "source": [
    "mxdv = mxd.values\n",
    "angv = ang.values\n",
    "clnv = cln.values\n",
    "aniv = ani.values\n",
    "sghv = sgh.values\n",
    "\n",
    "nT,nL,nS = np.shape(u)\n",
    "##plt.plot(tu[100,10,:])\n",
    "\n",
    "plt.plot(sgh.values.flatten(),'.')"
   ]
  },
  {
   "cell_type": "code",
   "execution_count": null,
   "id": "07215a68-ac18-465a-860d-c62de418faa5",
   "metadata": {},
   "outputs": [],
   "source": [
    "print(np.shape(mxdv))"
   ]
  },
  {
   "cell_type": "code",
   "execution_count": null,
   "id": "bcd91556-17ee-44b0-8ab6-a923381b03d3",
   "metadata": {},
   "outputs": [],
   "source": [
    "jj=np.where(np.isnan(u))\n",
    "print(jj)"
   ]
  },
  {
   "cell_type": "code",
   "execution_count": null,
   "id": "13b1f205-063e-44aa-ab77-de927d736b8e",
   "metadata": {},
   "outputs": [],
   "source": [
    "u.shape\n",
    "uc = u[~np.isnan(u)]"
   ]
  },
  {
   "cell_type": "code",
   "execution_count": null,
   "id": "f2857610-0a5c-4a2c-b1b2-9cfc8efe5eac",
   "metadata": {},
   "outputs": [],
   "source": [
    "u.shape"
   ]
  },
  {
   "cell_type": "code",
   "execution_count": null,
   "id": "ffd14f2e-f7d6-491e-abc8-7b2aa43e8378",
   "metadata": {},
   "outputs": [],
   "source": [
    "ii=np.where(mxd[0,:]>50.)\n",
    "print(np.shape(ii))\n",
    "\n",
    "mxds=mxdv[0,ii[0][:]]\n",
    "clns=clnv[0,ii[0][:]]\n",
    "angs=angv[0,ii[0][:]]\n",
    "anis=aniv[0,ii[0][:]]\n",
    "sghs=sghv[ii[0]]\n",
    "\n",
    "fig=plt.figure( figsize =(20,9))\n",
    "ax=fig.add_subplot(2,2,1)\n",
    "po=ax.plot( mxds, '.')\n",
    "po=ax.set_title( 'MXDIS' ,fontsize=12, loc='center')\n",
    "ax=fig.add_subplot(2,2,2)\n",
    "po=ax.plot( clns, '.')\n",
    "po=ax.set_title( 'CLNGT' ,fontsize=12, loc='center')\n",
    "ax=fig.add_subplot(2,2,3)\n",
    "po=ax.plot( angs, '.')\n",
    "po=ax.set_title( 'Cos(ANGLL)' ,fontsize=12, loc='center')\n",
    "ax=fig.add_subplot(2,2,4)\n",
    "po=ax.plot( anis, '.')\n",
    "po=ax.set_title( 'Sin (ANGLL)' ,fontsize=12, loc='center')\n"
   ]
  },
  {
   "cell_type": "code",
   "execution_count": null,
   "id": "3c5cf57a-1d01-423b-9895-7480c4f0f0a5",
   "metadata": {},
   "outputs": [],
   "source": [
    "print(np.shape(mxds))"
   ]
  },
  {
   "cell_type": "code",
   "execution_count": null,
   "id": "aa91c75f-630e-4504-a365-1cd08bed751f",
   "metadata": {},
   "outputs": [],
   "source": []
  },
  {
   "cell_type": "code",
   "execution_count": null,
   "id": "77332435-bbbb-414e-bae2-4e9f44745146",
   "metadata": {},
   "outputs": [],
   "source": [
    "u=u.values\n",
    "u=u[:,21:,ii[0][:]]\n",
    "u=np.transpose(u, (1,0,2) )\n",
    "nL,nT,nS=np.shape(u)\n",
    "u=np.reshape( u, (nL,nT*nS ) )  ### should normalize each individual variables\n",
    "\n",
    "v=v.values\n",
    "v=v[:,21:,ii[0][:]]\n",
    "v=np.transpose(v, (1,0,2) )\n",
    "v=np.reshape( v, (nL,nT*nS ) )### should normalize each individual variables\n",
    "\n",
    "tu = tu.values\n",
    "tu=tu[:,21:,ii[0][:]]\n",
    "tu=np.transpose(tu, (1,0,2) )\n",
    "tu=np.reshape( tu, (nL,nT*nS ) )### should normalize each individual variables\n",
    "\n",
    "tv = tv.values\n",
    "tv=tv[:,21:,ii[0][:]]\n",
    "tv=np.transpose(tv, (1,0,2) )\n",
    "tv=np.reshape( tv, (nL,nT*nS ) )### should normalize each individual variables"
   ]
  },
  {
   "cell_type": "code",
   "execution_count": null,
   "id": "d8271666-be2b-40d1-9603-adf9d4579d8d",
   "metadata": {},
   "outputs": [],
   "source": [
    "print(nS)"
   ]
  },
  {
   "cell_type": "code",
   "execution_count": null,
   "id": "e5870451-f6de-4b0c-a1e2-abc091499f54",
   "metadata": {},
   "outputs": [],
   "source": [
    "angx=np.zeros([1,nT,nS])\n",
    "mxdx=np.zeros([1,nT,nS])\n",
    "clnx=np.zeros([1,nT,nS])\n",
    "anix=np.zeros([1,nT,nS])\n",
    "sghx=np.zeros([1,nT,nS])\n",
    "\n",
    "\n",
    "for iT in np.arange(nT):\n",
    "    angx[0,iT,:]=angs\n",
    "    mxdx[0,iT,:]=mxds\n",
    "    clnx[0,iT,:]=clns\n",
    "    anix[0,iT,:]=anis\n",
    "    sghx[0,iT,:]=sghs\n",
    "    \n",
    "angx = np.reshape( angx, (1,nT*nS ) )\n",
    "mxdx = np.reshape( mxdx, (1,nT*nS ) )\n",
    "clnx = np.reshape( clnx, (1,nT*nS ) )\n",
    "anix = np.reshape( anix, (1,nT*nS ) )\n",
    "sghx = np.reshape( sghx, (1,nT*nS ) )"
   ]
  },
  {
   "cell_type": "code",
   "execution_count": null,
   "id": "f2ca8ca3-d3c9-476c-bd33-cc6a07788561",
   "metadata": {},
   "outputs": [],
   "source": [
    "np.shape(tu)"
   ]
  },
  {
   "cell_type": "code",
   "execution_count": null,
   "id": "7536a8ab-c689-426b-8123-1a78313eefc8",
   "metadata": {},
   "outputs": [],
   "source": [
    "np.shape(angs)"
   ]
  },
  {
   "cell_type": "code",
   "execution_count": null,
   "id": "fb6b8398-448d-43d9-b32e-3a7358f09730",
   "metadata": {},
   "outputs": [],
   "source": [
    "plt.plot(clns.flatten(),'.')"
   ]
  },
  {
   "cell_type": "code",
   "execution_count": null,
   "id": "c0626858-724d-427c-91a8-1dd19d302d8c",
   "metadata": {},
   "outputs": [],
   "source": [
    "print(np.shape(mxdx))\n",
    "plt.plot(cln.view())\n",
    "plt.plot(mxdx.values.flatten(),'.')"
   ]
  },
  {
   "cell_type": "code",
   "execution_count": null,
   "id": "b1b192f2-8267-48d5-a268-7b65fd1844f8",
   "metadata": {},
   "outputs": [],
   "source": [
    "np.mean(tu)"
   ]
  },
  {
   "cell_type": "code",
   "execution_count": null,
   "id": "ece12043-f0bd-4914-84fa-ff15a3dad045",
   "metadata": {},
   "outputs": [],
   "source": [
    "cu = u\n",
    "cu[np.where(np.isnan(cu))]=np.nanmean(cu) ### remove nan values\n",
    "\n"
   ]
  },
  {
   "cell_type": "code",
   "execution_count": null,
   "id": "868445dd-b27f-454d-8385-1fe2137795da",
   "metadata": {},
   "outputs": [],
   "source": [
    "cv = v\n",
    "cv[np.where(np.isnan(cv))]=np.nanmean(cv) ### remove nan values\n"
   ]
  },
  {
   "cell_type": "code",
   "execution_count": null,
   "id": "020b1735-9607-4452-9bb0-ae4db80d1ef6",
   "metadata": {},
   "outputs": [],
   "source": [
    "ctu = tu\n",
    "ctu[np.where(np.isnan(ctu))]=np.nanmean(ctu) "
   ]
  },
  {
   "cell_type": "code",
   "execution_count": null,
   "id": "334d3091-7c84-4755-8b94-edd36a9f1faf",
   "metadata": {},
   "outputs": [],
   "source": [
    "np.mean(tv)"
   ]
  },
  {
   "cell_type": "code",
   "execution_count": null,
   "id": "72310ac4-e1c9-43f8-9563-013e96bf1a43",
   "metadata": {},
   "outputs": [],
   "source": [
    "ctv = tv\n",
    "ctv[np.where(np.isnan(ctv))]=np.nanmean(ctv) "
   ]
  },
  {
   "cell_type": "code",
   "execution_count": null,
   "id": "628221b6-7fee-4f38-af9d-151294aafd9d",
   "metadata": {},
   "outputs": [],
   "source": [
    "plt.plot(ctv.flatten(),'.')"
   ]
  },
  {
   "cell_type": "code",
   "execution_count": null,
   "id": "b49cd1e2-c5bd-47e2-a346-53739e3398d7",
   "metadata": {},
   "outputs": [],
   "source": [
    "np.mean(u)"
   ]
  },
  {
   "cell_type": "code",
   "execution_count": null,
   "id": "c79599a4-97f7-4fe1-9aa7-dbdf1cc699aa",
   "metadata": {},
   "outputs": [],
   "source": [
    "ctv.shape"
   ]
  },
  {
   "cell_type": "code",
   "execution_count": null,
   "id": "7fa873f0-0d54-4dee-a787-9a1cfd5767a1",
   "metadata": {},
   "outputs": [],
   "source": [
    "jj=np.where(np.isnan(u))"
   ]
  },
  {
   "cell_type": "code",
   "execution_count": null,
   "id": "86062a0c-7f34-4c2a-b14e-4c2b7906370f",
   "metadata": {},
   "outputs": [],
   "source": [
    "print(jj)"
   ]
  },
  {
   "cell_type": "code",
   "execution_count": null,
   "id": "bc567ee9-a780-4e32-9e79-cdab16161a8d",
   "metadata": {},
   "outputs": [],
   "source": []
  },
  {
   "cell_type": "code",
   "execution_count": null,
   "id": "d2df5d2a-ac80-4ad7-8b09-0853dd6554f5",
   "metadata": {},
   "outputs": [],
   "source": []
  },
  {
   "cell_type": "code",
   "execution_count": null,
   "id": "b409d7a5-0c0b-4a0c-8da0-1d68f3dd91ce",
   "metadata": {},
   "outputs": [],
   "source": [
    "###### standardize each input variable ###########\n",
    "\n",
    "scaler = StandardScaler()\n",
    "scaler.fit(cu)\n",
    "#print(scaler.mean_)\n",
    "cu_scaled = scaler.transform(cu)  ### normalize dataset\n",
    "\n",
    "#print(np.nanmin(u))"
   ]
  },
  {
   "cell_type": "code",
   "execution_count": null,
   "id": "be3d1815-534f-4078-89b3-007b6d9f7a5b",
   "metadata": {},
   "outputs": [],
   "source": [
    "np.mean(cu_scaled)"
   ]
  },
  {
   "cell_type": "code",
   "execution_count": null,
   "id": "0f635d4e-e375-4da4-bb8a-72dda9462c5b",
   "metadata": {},
   "outputs": [],
   "source": [
    "scaler.fit(cv)\n",
    "cv_scaled = scaler.transform(cv)  ### normalize dataset\n"
   ]
  },
  {
   "cell_type": "code",
   "execution_count": null,
   "id": "19afa6e8-7e03-4bdc-9a7e-ebfdf511bac7",
   "metadata": {},
   "outputs": [],
   "source": [
    "np.mean(cv_scaled)"
   ]
  },
  {
   "cell_type": "code",
   "execution_count": null,
   "id": "9e08567f-fe3d-4577-8159-36218c869f55",
   "metadata": {},
   "outputs": [],
   "source": [
    "scaler.fit(ctu)\n",
    "ctu_scaled = scaler.transform(ctu)  ### normalize dataset\n",
    "\n",
    "scaler.fit(ctv)\n",
    "ctv_scaled = scaler.transform(ctv)  ### normalize dataset\n",
    "\n"
   ]
  },
  {
   "cell_type": "code",
   "execution_count": null,
   "id": "8c1ad114-f1c6-4a40-ad64-791e3dca007c",
   "metadata": {},
   "outputs": [],
   "source": [
    "plt.plot(ctv.flatten(),'.')"
   ]
  },
  {
   "cell_type": "code",
   "execution_count": null,
   "id": "925fb23c-084f-4c12-8b55-c3401b0df35f",
   "metadata": {},
   "outputs": [],
   "source": [
    "np.min(ctv)"
   ]
  },
  {
   "cell_type": "code",
   "execution_count": null,
   "id": "3cbca682-da2e-4b5a-bc59-5c8e885d6626",
   "metadata": {},
   "outputs": [],
   "source": []
  },
  {
   "cell_type": "code",
   "execution_count": null,
   "id": "cc59bc49-8ce2-4870-8b16-186499991f2f",
   "metadata": {},
   "outputs": [],
   "source": [
    "def normalize(arr, t_min, t_max):\n",
    "    norm_arr = []\n",
    "    diff = t_max - t_min\n",
    "    diff_arr = max(arr) - min(arr)   \n",
    "    for i in arr:\n",
    "        temp = (((i - min(arr))*diff)/diff_arr) + t_min\n",
    "        norm_arr.append(temp)\n",
    "    return norm_arr\n",
    " "
   ]
  },
  {
   "cell_type": "code",
   "execution_count": null,
   "id": "507f791f-3c76-4bb1-91a2-716edc74d1ef",
   "metadata": {},
   "outputs": [],
   "source": [
    "np.min(clnx)"
   ]
  },
  {
   "cell_type": "code",
   "execution_count": null,
   "id": "e06be4a0-06ac-4e46-b4e9-c3fc87eb6e97",
   "metadata": {},
   "outputs": [],
   "source": [
    "mxdx_scaled = (mxdx-np.min(mxdx))/np.ptp(mxdx)  ### normalize dataset\n",
    "\n",
    "clnx_scaled = (clnx-np.min(clnx))/np.ptp(clnx)  ### normalize dataset\n",
    "\n",
    "angx_scaled = (angx-np.min(angx))/np.ptp(angx)  ### normalize dataset\n",
    "\n",
    "anix_scaled = (anix-np.min(anix))/np.ptp(anix)  ### normalize dataset\n",
    "\n",
    "sghx_scaled = (sghx-np.min(sghx))/np.ptp(sghx)  ### normalize dataset\n"
   ]
  },
  {
   "cell_type": "code",
   "execution_count": null,
   "id": "5718bba5-f120-446b-ae6b-a2e0af7eea30",
   "metadata": {},
   "outputs": [],
   "source": [
    "np.max(sghx_scaled)"
   ]
  },
  {
   "cell_type": "code",
   "execution_count": null,
   "id": "31324bf9-ecaa-4694-a58d-58fdffc953b3",
   "metadata": {},
   "outputs": [],
   "source": [
    "x_total = np.r_[cu_scaled,cv_scaled,angx_scaled,mxdx_scaled,clnx_scaled,anix_scaled,sghx_scaled]\n",
    "y_total = np.r_[ctu_scaled,ctv_scaled]\n"
   ]
  },
  {
   "cell_type": "code",
   "execution_count": null,
   "id": "f9fa22a1-21b6-4598-a6b2-a242f51ed7fe",
   "metadata": {},
   "outputs": [],
   "source": [
    "x_total = np.r_[cu,cv,angx,mxdx,clnx,anix,sghx]\n",
    "y_total = np.r_[ctu,ctv]\n"
   ]
  },
  {
   "cell_type": "code",
   "execution_count": null,
   "id": "8c649faf-ace9-4531-9abd-17943813a228",
   "metadata": {},
   "outputs": [],
   "source": [
    "y_total.shape"
   ]
  },
  {
   "cell_type": "code",
   "execution_count": null,
   "id": "683cd16c-5076-445a-ab72-f1ab6ca1796f",
   "metadata": {},
   "outputs": [],
   "source": [
    "print(y_total.shape)"
   ]
  },
  {
   "cell_type": "code",
   "execution_count": null,
   "id": "996eb3f7-bdff-42f8-9ca7-833d615c7c7d",
   "metadata": {},
   "outputs": [],
   "source": [
    "x_total = np.transpose(x_total)\n",
    "y_total = np.transpose(y_total)\n"
   ]
  },
  {
   "cell_type": "code",
   "execution_count": null,
   "id": "2c6cba09-8d5e-44dc-8460-54e4e3bae4b4",
   "metadata": {},
   "outputs": [],
   "source": [
    "print(y_total.shape)"
   ]
  },
  {
   "cell_type": "code",
   "execution_count": null,
   "id": "c82d594c-49bf-41fb-a2ca-3dcebd992c9b",
   "metadata": {},
   "outputs": [],
   "source": [
    "plt.plot(ctv_scaled.flatten(),'.')"
   ]
  },
  {
   "cell_type": "code",
   "execution_count": null,
   "id": "684b40cf-f5c4-4ed9-a0bb-d7e3d4f5f19c",
   "metadata": {},
   "outputs": [],
   "source": [
    "##x_total = np.stack((u,v,angx,mxdx,clnx,anix),1)\n",
    "##y_total = np.stack((tu,tv),1)"
   ]
  },
  {
   "cell_type": "code",
   "execution_count": null,
   "id": "4c8cfc8f-ea24-494d-a7c1-26915584db11",
   "metadata": {},
   "outputs": [],
   "source": [
    "##### After data preprocessing, import tensorflow and keras build the CNN regression model, train and test ###########\n",
    "normalizer = Normalization(axis=-1)\n",
    "normalizer.adapt(x_total)\n",
    "print(normalizer.mean.numpy())\n"
   ]
  },
  {
   "cell_type": "code",
   "execution_count": null,
   "id": "6abe5755-c82c-463f-b421-60353c30be22",
   "metadata": {},
   "outputs": [],
   "source": [
    "ctu_scaled[:,50000]"
   ]
  },
  {
   "cell_type": "code",
   "execution_count": null,
   "id": "e90566e2-dfcc-4530-b808-0b1f9ebbb594",
   "metadata": {},
   "outputs": [],
   "source": [
    "plt.plot(angx_scaled.flatten(),'.')"
   ]
  },
  {
   "cell_type": "code",
   "execution_count": null,
   "id": "7d3c64bb-fc7f-4d70-a4d3-320c0b25a703",
   "metadata": {},
   "outputs": [],
   "source": [
    "x_total.shape"
   ]
  },
  {
   "cell_type": "code",
   "execution_count": null,
   "id": "f62545d1-d547-46ab-bc74-40603cb731a7",
   "metadata": {},
   "outputs": [],
   "source": [
    "y_total.shape"
   ]
  },
  {
   "cell_type": "code",
   "execution_count": null,
   "id": "39e61e2f-3024-42f6-8245-8ac7acd24c86",
   "metadata": {},
   "outputs": [],
   "source": [
    "y_total[10000,:]"
   ]
  },
  {
   "cell_type": "code",
   "execution_count": null,
   "id": "3cd2fb07-ede3-4f86-ae78-e98942294022",
   "metadata": {},
   "outputs": [],
   "source": [
    "x_total = x_total.reshape(x_total.shape[0], x_total.shape[1])  ### add the third dimension that will be the number of the single input row.\n",
    "print(x_total.shape)"
   ]
  },
  {
   "cell_type": "code",
   "execution_count": null,
   "id": "969103a2-669a-4ee0-913b-18649323c159",
   "metadata": {},
   "outputs": [],
   "source": [
    "y_total = y_total.reshape(y_total.shape[0], y_total.shape[1])\n",
    "print(y_total.shape)"
   ]
  },
  {
   "cell_type": "code",
   "execution_count": null,
   "id": "d14feb71-3221-4048-ae3e-0aab3c8a6506",
   "metadata": {},
   "outputs": [],
   "source": [
    "na = np.arange(0.1,0.99,0.01)"
   ]
  },
  {
   "cell_type": "code",
   "execution_count": null,
   "id": "5fea263d-b91c-44a1-9dbe-3b9b241751f4",
   "metadata": {},
   "outputs": [],
   "source": [
    "print(na)"
   ]
  },
  {
   "cell_type": "code",
   "execution_count": null,
   "id": "e66fc95b-cb3e-41fb-8048-aa4177d9a17c",
   "metadata": {},
   "outputs": [],
   "source": [
    "na["
   ]
  },
  {
   "cell_type": "code",
   "execution_count": null,
   "id": "17b30c2d-579d-4c91-b5ca-5c6f214f56a5",
   "metadata": {},
   "outputs": [],
   "source": []
  },
  {
   "cell_type": "code",
   "execution_count": null,
   "id": "9f3c50fd-a7a7-46cf-af28-a3a5e83723ee",
   "metadata": {},
   "outputs": [],
   "source": [
    "#scaler = StandardScaler()\n",
    "#scaler.fit(TrainDataset)\n",
    "#scaler.mean_,scaler.scale_\n",
    "#x_train_scaled = scaler.transform(TrainDataset)  ### normalize dataset\n",
    "#x_val_scaled = scaler.transform(ValDataset)\n",
    "\n",
    "na = np.arange(0.1,0.99,0.01)\n",
    "score_train = np.zeros(89)\n",
    "score_eval = np.zeros(89)\n",
    "kk = 0\n",
    "\n",
    "for nn in na[20:21]:\n",
    "\n",
    "    kk=kk+1\n",
    "    x_train, x_test, y_train, y_test = train_test_split(x_total, y_total, test_size=nn, random_state=40) ## split training and test dataset\n",
    "    n_inputs = 27\n",
    "    n_outputs = 22\n",
    "    model = Sequential()\n",
    "    model.add(Dense(20, input_dim=n_inputs, kernel_initializer='he_uniform', activation='relu')) ### MLP\n",
    "    model.add(Dense(n_outputs))\n",
    "    model.compile(loss='mae', optimizer='adam')\n",
    "#add model layers\n",
    "#model.compile(optimizer='Adam',\n",
    "#              loss='mse'), ##### 'mean_absolute_error')\n",
    "\n",
    "\n",
    "    model.fit(x_train, y_train,\n",
    "          batch_size=128,\n",
    "          epochs=10,\n",
    "          verbose=1,\n",
    "          validation_data=(x_test, y_test))\n",
    "\n",
    "    score = model.evaluate(x_test, y_test, verbose=1)\n",
    "    y_pred = model.predict(x_test)\n",
    "    score2 = model.evaluate(x_train, y_train)\n",
    "    \n",
    "##    score_train[kk]=score\n",
    "##    score_eval[kk]=score2\n",
    "    \n",
    "    \n",
    "\n"
   ]
  },
  {
   "cell_type": "code",
   "execution_count": null,
   "id": "eba191c4-6ce6-48f4-816a-295fd157a91d",
   "metadata": {},
   "outputs": [],
   "source": [
    "plt.plot(na,score_train)\n",
    "plt.plot(na,score_eval)"
   ]
  },
  {
   "cell_type": "code",
   "execution_count": null,
   "id": "2af4888f-0799-434b-89e8-8a85f8b0e2be",
   "metadata": {},
   "outputs": [],
   "source": [
    "x_test.shape"
   ]
  },
  {
   "cell_type": "code",
   "execution_count": null,
   "id": "749341c5-2f91-4900-9cf5-aefdfa06eb11",
   "metadata": {},
   "outputs": [],
   "source": [
    "x_train[10000,:]"
   ]
  },
  {
   "cell_type": "code",
   "execution_count": null,
   "id": "792e1ad1-b6f6-4f01-b265-5776444936cc",
   "metadata": {},
   "outputs": [],
   "source": [
    "x_train.shape"
   ]
  },
  {
   "cell_type": "code",
   "execution_count": null,
   "id": "d5ebe5d2-d6f9-49d5-8ba9-c4b9be831f38",
   "metadata": {},
   "outputs": [],
   "source": [
    "from sklearn.datasets import make_regression"
   ]
  },
  {
   "cell_type": "code",
   "execution_count": null,
   "id": "2060f206-bdd2-4a77-a916-d8f18f9c4241",
   "metadata": {},
   "outputs": [],
   "source": [
    "X, y = make_regression(n_samples=1000, n_features=10, n_informative=5, n_targets=3, random_state=2)\n"
   ]
  },
  {
   "cell_type": "code",
   "execution_count": null,
   "id": "770be9dd-32f6-4777-bd1c-8769b165a911",
   "metadata": {},
   "outputs": [],
   "source": [
    "y.shape"
   ]
  },
  {
   "cell_type": "code",
   "execution_count": null,
   "id": "13904b04-d2b6-478d-b26b-d596150b25b7",
   "metadata": {},
   "outputs": [],
   "source": [
    "#create model\n",
    "n_inputs = 27\n",
    "n_outputs = 22\n",
    "model = Sequential()\n",
    "model.add(Dense(20, input_dim=n_inputs, kernel_initializer='he_uniform', activation='relu')) ### MLP\n",
    "model.add(Dense(n_outputs))\n",
    "model.compile(loss='mae', optimizer='adam')\n",
    "#add model layers\n",
    "##model.add(Conv2D(64, kernel_size=3, activation=’relu’, input_shape=(np.shape(x_train[1]),np.shape(x_train[2])),1))\n",
    "##model.add(Conv2D(32, kernel_size=3, activation=’relu’))\n",
    "#model.add(Conv1D(32, 2, activation=\"relu\", input_shape=(27, 1)))\n",
    "##model.add(Flatten())\n",
    "##model.add(Dense(64, activation=\"relu\"))\n",
    "##model.add(Dense(1))\n",
    "##model.compile(loss=\"mse\", optimizer=\"adam\")\n",
    "\n",
    "##model.add(Flatten())\n",
    "##model.add(Dense(10, activation=’softmax’))\n",
    "\n",
    "##model = Sequential()\n",
    "##model.add(Dense(512, activation='relu'))\n",
    "##model.add(Dropout(0.5))\n",
    "##model.add(Dense(256, activation='relu'))\n",
    "##model.add(Dropout(0.25))\n",
    "##model.add(Dense(10))\n"
   ]
  },
  {
   "cell_type": "code",
   "execution_count": null,
   "id": "b9a5368f-8b04-4bc7-ad64-bbce92060c8a",
   "metadata": {},
   "outputs": [],
   "source": [
    "model.summary()"
   ]
  },
  {
   "cell_type": "code",
   "execution_count": null,
   "id": "d653b198-ff01-4c5e-93f9-1cee8ac3e83f",
   "metadata": {},
   "outputs": [],
   "source": [
    "#create model\n",
    "model = Sequential()\n",
    "#add model layers\n",
    "model.add(Conv2D(64, kernel_size=3, activation=’relu’, input_shape=(np.shape(x_train[1]),np.shape(x_train[2])),1))\n",
    "model.add(Conv2D(32, kernel_size=3, activation=’relu’))\n",
    "#model.add(Conv1D(32, 2, activation=\"relu\", input_shape=(27, 1)))\n",
    "model.add(Flatten())\n",
    "model.add(Dense(64, activation=\"relu\"))\n",
    "model.add(Dense(1))\n",
    "##model.compile(loss=\"mse\", optimizer=\"adam\")\n",
    "model.summary()"
   ]
  },
  {
   "cell_type": "code",
   "execution_count": null,
   "id": "bb209da3-9cff-4ff6-b133-865a49057d4a",
   "metadata": {},
   "outputs": [],
   "source": [
    "model.compile(optimizer='Adam',\n",
    "              loss='mse'), ##### 'mean_absolute_error')"
   ]
  },
  {
   "cell_type": "code",
   "execution_count": null,
   "id": "c65c856e-52a7-421d-ad30-892eb0e9f2e6",
   "metadata": {},
   "outputs": [],
   "source": [
    "model.fit(x_train, y_train,\n",
    "          batch_size=128,\n",
    "          epochs=10,\n",
    "          verbose=1,\n",
    "          validation_data=(x_test, y_test))"
   ]
  },
  {
   "cell_type": "code",
   "execution_count": null,
   "id": "64da7d2e-25f2-4379-a4bc-bd18839e3e94",
   "metadata": {},
   "outputs": [],
   "source": [
    "score = model.evaluate(x_test, y_test, verbose=1)\n",
    "print('Test loss:', score)"
   ]
  },
  {
   "cell_type": "code",
   "execution_count": null,
   "id": "0261f57b-1baa-4d46-a104-8dd77d95d52b",
   "metadata": {
    "tags": []
   },
   "outputs": [],
   "source": [
    "y_pred = model.predict(x_test)\n",
    "#print(model.evaluate(x_train, y_train))\n",
    "#print(\"MSE: %.4f\" % mean_squared_error(y_test, y_pred))\n"
   ]
  },
  {
   "cell_type": "code",
   "execution_count": null,
   "id": "deac9325-cb69-42a9-b878-c46c24498529",
   "metadata": {},
   "outputs": [],
   "source": [
    "y_pred.shape"
   ]
  },
  {
   "cell_type": "code",
   "execution_count": null,
   "id": "d4fc82c0-93d6-4766-be4b-004684941385",
   "metadata": {},
   "outputs": [],
   "source": [
    "y_test.shape"
   ]
  },
  {
   "cell_type": "code",
   "execution_count": null,
   "id": "486a964a-3ed4-4633-b298-e8068143e1e0",
   "metadata": {},
   "outputs": [],
   "source": [
    "plt.scatter(y_pred.flatten(),y_test.flatten())\n",
    "\n",
    "xx = np.linspace(-40,40,100)\n",
    "plt.plot(xx,xx,'-r')\n"
   ]
  },
  {
   "cell_type": "code",
   "execution_count": null,
   "id": "aa840049-599a-4e6c-afbd-070b2d7ef486",
   "metadata": {},
   "outputs": [],
   "source": []
  },
  {
   "cell_type": "code",
   "execution_count": null,
   "id": "447ff34a-bad1-4629-a05f-c1b7a335b7c8",
   "metadata": {},
   "outputs": [],
   "source": [
    "model.compile(optimizer='Adam',\n",
    "              loss='mse'), ##### 'mean_absolute_error')\n",
    "\n",
    "model.summary()"
   ]
  },
  {
   "cell_type": "code",
   "execution_count": null,
   "id": "fc9095ce-2392-4add-94ce-2c8da74b049f",
   "metadata": {},
   "outputs": [],
   "source": [
    "model.fit(x_train, y_train,\n",
    "          batch_size=128,\n",
    "          epochs=10,\n",
    "          verbose=1,\n",
    "          validation_data=(x_test, y_test))\n"
   ]
  },
  {
   "cell_type": "code",
   "execution_count": null,
   "id": "2241be8b-2c04-4479-88ba-2c2fcd52ac8c",
   "metadata": {},
   "outputs": [],
   "source": [
    "y_train.shape"
   ]
  },
  {
   "cell_type": "code",
   "execution_count": null,
   "id": "b47accea-72c3-43b5-9ba3-658146192077",
   "metadata": {},
   "outputs": [],
   "source": [
    "score = model.evaluate(x_test, y_test, verbose=1)\n",
    "print('Test loss:', score[0])\n",
    "\n",
    "\n"
   ]
  },
  {
   "cell_type": "code",
   "execution_count": null,
   "id": "31d33b38-98d2-4d93-83b3-d485912fae02",
   "metadata": {},
   "outputs": [],
   "source": [
    "y_pred = model.predict(x_test)\n",
    "print(model.evaluate(x_train, y_train))\n",
    "#print(\"MSE: %.4f\" % mean_squared_error(y_test, y_pred))\n"
   ]
  },
  {
   "cell_type": "code",
   "execution_count": null,
   "id": "e26c5c96-0ee5-4804-a21d-ecdb2b57d8fc",
   "metadata": {},
   "outputs": [],
   "source": [
    "x_test.shape"
   ]
  },
  {
   "cell_type": "code",
   "execution_count": null,
   "id": "cbdd3ba4-2237-4cc7-a5ca-bc34d142c12f",
   "metadata": {},
   "outputs": [],
   "source": []
  },
  {
   "cell_type": "code",
   "execution_count": null,
   "id": "2f737eb4-4eb2-4500-9404-a0dbaa8ceb99",
   "metadata": {},
   "outputs": [],
   "source": [
    "x_ax = range(len(ypred))\n",
    "plt.scatter(x_ax, ytest, s=5, color=\"blue\", label=\"original\")\n",
    "plt.plot(x_ax, ypred, lw=0.8, color=\"red\", label=\"predicted\")\n",
    "plt.legend()\n",
    "plt.show()"
   ]
  }
 ],
 "metadata": {
  "kernelspec": {
   "display_name": "Python [conda env:npl-TF]",
   "language": "python",
   "name": "conda-env-npl-TF-py"
  },
  "language_info": {
   "codemirror_mode": {
    "name": "ipython",
    "version": 3
   },
   "file_extension": ".py",
   "mimetype": "text/x-python",
   "name": "python",
   "nbconvert_exporter": "python",
   "pygments_lexer": "ipython3",
   "version": "3.8.13"
  }
 },
 "nbformat": 4,
 "nbformat_minor": 5
}
