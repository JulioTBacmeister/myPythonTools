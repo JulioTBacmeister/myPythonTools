{
 "cells": [
  {
   "cell_type": "code",
   "execution_count": null,
   "id": "5ec9190d-e85b-486c-a52b-1ad225425c80",
   "metadata": {},
   "outputs": [],
   "source": [
    "# Import packages \n",
    "import sys\n",
    "sys.path.append('../Plotting/')\n",
    "\"\"\" Now you can imprt modules in ../Plotting\"\"\"\n",
    "\n",
    "import xarray as xr\n",
    "import numpy as np\n",
    "import matplotlib.pyplot as plt\n",
    "import matplotlib as mpl\n",
    "import matplotlib.tri as tri\n",
    "import matplotlib.colors as colors\n",
    "from scipy import interpolate as intr\n",
    "\n",
    "#Models\n",
    "from sklearn.ensemble import RandomForestRegressor\n",
    "from sklearn.tree import DecisionTreeRegressor\n",
    "\n",
    "\n",
    "#Evaluation\n",
    "from sklearn.metrics import mean_squared_error\n",
    "from sklearn.model_selection import cross_val_score\n",
    "\n",
    "import cartopy\n",
    "import cartopy.crs as ccrs\n",
    "import cartopy.feature as cfeature\n",
    "\n",
    "# Some useful packages \n",
    "import importlib\n",
    "import copy\n",
    "import time\n",
    "\n",
    "# IO packages\n",
    "import pickle\n",
    "from scipy.io import FortranFile\n",
    "\n",
    "\n",
    "# Other modules in myPythonTools\n",
    "import ana as a\n",
    "#import xyp_plot as xyp\n",
    "import ReadForest as RF\n"
   ]
  },
  {
   "cell_type": "code",
   "execution_count": null,
   "id": "236433a5-2bfb-4dee-90cb-41b408b1283d",
   "metadata": {},
   "outputs": [],
   "source": [
    "importlib.reload(RF)"
   ]
  },
  {
   "cell_type": "code",
   "execution_count": null,
   "id": "f9497a70-ae5b-438d-9d28-8b38c0957ffb",
   "metadata": {},
   "outputs": [],
   "source": [
    "# Get_a_Forest returns tuple (A_test, B_test, B_pred)\n",
    "Model1 = RF.Get_a_Forest( tag=\"uvNridge\" , DoPrediction=True )"
   ]
  },
  {
   "cell_type": "code",
   "execution_count": null,
   "id": "ae467dc3-d76b-411f-9919-946219dd6e43",
   "metadata": {},
   "outputs": [],
   "source": [
    "Model2 = RF.Get_a_Forest( tag=\"uvNsgh\" , DoPrediction=True )"
   ]
  },
  {
   "cell_type": "code",
   "execution_count": null,
   "id": "021462e7-0c47-4b05-a6b9-456247f4913c",
   "metadata": {},
   "outputs": [],
   "source": [
    "Model3 = RF.Get_a_Forest( tag=\"uvN\" , DoPrediction=True )"
   ]
  },
  {
   "cell_type": "code",
   "execution_count": null,
   "id": "94342f33-2bf2-4b05-9054-9769305b537a",
   "metadata": {},
   "outputs": [],
   "source": [
    "plt.scatter(Model1[1].flatten(),Model1[2].flatten())"
   ]
  },
  {
   "cell_type": "code",
   "execution_count": null,
   "id": "9dd85a96-c56d-46bf-b3ba-8a3d5c61a299",
   "metadata": {},
   "outputs": [],
   "source": [
    "print(np.shape(Model1[2]))"
   ]
  },
  {
   "cell_type": "code",
   "execution_count": null,
   "id": "601d8f72-b2d8-40a0-ace0-062095e9237b",
   "metadata": {},
   "outputs": [],
   "source": [
    "filename = \"AB_uvNridge.dat\"\n",
    "#filename = \"AB_uvNsgh.dat\"\n",
    "\n",
    "ff=FortranFile( filename , 'r')\n",
    "\n",
    "# Integer data seems to be int64 by default\n",
    "# when using scipy.io.FortranFile\n",
    "ddA = ff.read_record( '<i8'   )\n",
    "ddB = ff.read_record( '<i8'   )\n",
    "\n",
    "# In current code A is a float64, due to inheriting\n",
    "# double precision from ridge data ... . Inheritance must\n",
    "# happen when ridge data and model history output are \n",
    "# concatenated with \" np.r_ \" above\n",
    "qA = ff.read_record( '<f8'   ).reshape( ddA[0], ddA[1] )\n",
    "\n",
    "# B is a float32 since it is composed of model history \n",
    "# output only.\n",
    "qB = ff.read_record( '<f4'   ).reshape( ddB[0], ddB[1] )\n",
    "\n",
    "\n",
    "qA_r = ff.read_record( '<f8'   ).reshape( ddA[0], ddA[1] )\n",
    "\n",
    "qB_r = ff.read_record( '<f4'   ).reshape( ddB[0], ddB[1] )\n",
    "\n",
    "\n",
    "ff.close()\n"
   ]
  },
  {
   "cell_type": "code",
   "execution_count": null,
   "id": "a7c3b6dc-697c-4202-bd64-e6cd44c0ad13",
   "metadata": {},
   "outputs": [],
   "source": [
    "#How to load a \"pickled\" RandomForest model\n",
    "\n",
    "\n",
    "filename = \"random_forest_full_uvNridge.pkl\"\n",
    "#filename = \"random_forest_full_uvNsgh.pkl\"\n",
    "MLfile = filename"
   ]
  },
  {
   "cell_type": "code",
   "execution_count": null,
   "id": "62e4a5c4-2775-4acb-b6f8-20640e9486b4",
   "metadata": {},
   "outputs": [],
   "source": [
    "tic = time.perf_counter()\n",
    "\n",
    "# load model\n",
    "\n",
    "Model = pickle.load(open(filename, \"rb\"))\n",
    "\n",
    "toc = time.perf_counter()\n",
    "\n",
    "LoadingTime = f\"Loaded model in {toc - tic:0.4f} seconds\"\n",
    "print(LoadingTime)"
   ]
  },
  {
   "cell_type": "code",
   "execution_count": null,
   "id": "9bdb373d-40fc-431b-b4a6-3e2ee48e5eb0",
   "metadata": {},
   "outputs": [],
   "source": [
    "A_test  = qA_r[788201:,:]\n",
    "B_test  = qB_r[788201:,:]\n"
   ]
  },
  {
   "cell_type": "markdown",
   "id": "b0742d46-69a0-4697-b3c3-98d953d1cd96",
   "metadata": {},
   "source": [
    "## Loaded model takes a while ...\n",
    "Model prediction in 433.1365 seconds"
   ]
  },
  {
   "cell_type": "code",
   "execution_count": null,
   "id": "63b573d3-f9ec-4083-8515-907e26e99209",
   "metadata": {},
   "outputs": [],
   "source": [
    "tic = time.perf_counter()\n",
    "B_pred=Model.predict(A_test)\n",
    "toc = time.perf_counter()\n",
    "PredictionTime = f\"Model prediction in {toc - tic:0.4f} seconds\"\n",
    "print(PredictionTime)\n"
   ]
  },
  {
   "cell_type": "code",
   "execution_count": null,
   "id": "8e889197-2c5b-473b-9b8c-46bf00fdf003",
   "metadata": {},
   "outputs": [],
   "source": [
    "plt.scatter(B_pred.flatten(),B_test.flatten())"
   ]
  },
  {
   "cell_type": "code",
   "execution_count": null,
   "id": "a5af89b0-e842-4be1-800d-441c5e10c785",
   "metadata": {},
   "outputs": [],
   "source": [
    "y=B_pred\n",
    "x=B_test\n",
    "h2u_adj=np.histogram2d(y.flatten(), x.flatten() ,bins=50 , range=[[-10.,10.],[-10.,10.]] )\n"
   ]
  },
  {
   "cell_type": "code",
   "execution_count": null,
   "id": "72e1d27d-adea-4910-a6f2-4e4cdcc1772f",
   "metadata": {},
   "outputs": [],
   "source": [
    "fig = plt.figure(figsize=(30, 9))\n",
    "\n",
    "\n",
    "cmap=plt.cm.jet\n",
    "#cmap=cm.jet\n",
    "clevs=[1,3,5,10,30,50,100,300,500,1000,3000,5000,10_000,30_000,50_000,100_000 ] #np.logspace(0,3)\n",
    "\n",
    "ax = fig.add_subplot(1, 3, 3 ) # , projection=ccrs.PlateCarree(central_longitude=0))\n",
    "ax.set_aspect('equal','box')\n",
    "cf = ax.contourf(h2u_adj[1][1:],h2u_adj[2][1:],h2u_adj[0],levels=clevs,cmap=cmap,norm=colors.LogNorm())\n",
    "plt.colorbar(cf,ax=ax,shrink=0.6)\n",
    "plt.xlabel(\"$Test~Tendencies $\",fontsize=20)\n",
    "plt.ylabel(\"$ML~Predicted~Tendencies $\",fontsize=20)\n",
    "ax.set_title( MLfile ,fontsize=20 )\n",
    "\n"
   ]
  },
  {
   "cell_type": "code",
   "execution_count": null,
   "id": "a4c4bef8-a095-4329-bb46-48bc86e6e65e",
   "metadata": {},
   "outputs": [],
   "source": [
    "pco = np.corrcoef( x=  B_pred[:,10].flatten(), y = B_test[:,10].flatten() )\n",
    "print(pco)\n",
    "print(mean_squared_error(  B_pred.flatten(), B_test.flatten() ) )"
   ]
  },
  {
   "cell_type": "code",
   "execution_count": null,
   "id": "2f41cfe2-45b2-4d36-a3b1-50eec2ad421b",
   "metadata": {},
   "outputs": [],
   "source": [
    "corrs=np.zeros(22)\n",
    "slope=np.zeros(22)\n",
    "for irow in np.arange(22):\n",
    "    pco = np.corrcoef( x=  B_pred[:,irow].flatten(), y = B_test[:,irow].flatten() )\n",
    "    corrs[irow] = pco[0,1]\n",
    "    pft=np.polyfit( y=  B_pred[:,irow].flatten(), x = B_test[:,irow].flatten() ,deg=1 )\n",
    "    slope[irow] = pft[0]"
   ]
  },
  {
   "cell_type": "code",
   "execution_count": null,
   "id": "7be6277d-916b-46d8-9833-fd8f06315a15",
   "metadata": {},
   "outputs": [],
   "source": [
    "plt.plot(corrs)\n",
    "plt.plot(slope)"
   ]
  },
  {
   "cell_type": "code",
   "execution_count": null,
   "id": "86acb7ca-87b3-4387-9779-d6372977b891",
   "metadata": {},
   "outputs": [],
   "source": [
    "plt.scatter(x=B_test[:,11].flatten(),y=B_pred[:,11].flatten())\n",
    "plt.xlim(-10,10)\n",
    "plt.ylim(-10,10)"
   ]
  },
  {
   "cell_type": "code",
   "execution_count": null,
   "id": "62538dc2-da47-4cee-b8f9-a3e22dd01546",
   "metadata": {},
   "outputs": [],
   "source": [
    "print(np.shape(qA))"
   ]
  },
  {
   "cell_type": "code",
   "execution_count": null,
   "id": "8f0e878d-2046-4319-91a8-1057731df4da",
   "metadata": {},
   "outputs": [],
   "source": [
    "#plt.plot(B_test[1,0:12])\n",
    "#plt.plot(B_pred[1,0:12])\n",
    "plt.scatter(B_pred[:,20].flatten(),B_test[:,20].flatten())"
   ]
  },
  {
   "cell_type": "markdown",
   "id": "662a9e3a-dbf8-45af-8297-ef45649d85dd",
   "metadata": {},
   "source": [
    "## Re-loaded results are exact with ML_ana run from scratch and saved"
   ]
  },
  {
   "cell_type": "code",
   "execution_count": null,
   "id": "9f3a47ff-6412-449f-8a9f-6d72242db227",
   "metadata": {},
   "outputs": [],
   "source": [
    "Ashp = np.shape(qA)\n",
    "\n",
    "idxs=np.arange( Ashp[0] )\n",
    "print( np.shape(idxs) )\n",
    "Ridxs = copy.deepcopy(idxs) \n",
    "\n",
    "\n",
    "tic = time.perf_counter()\n",
    "np.random.shuffle(Ridxs)\n",
    "toc = time.perf_counter()\n",
    "ShuffleTime = f\"Shuffled indices in {toc - tic:0.4f} seconds\"\n",
    "\n",
    "print(ShuffleTime)\n",
    "print( np.shape(Ridxs) )\n",
    "\n",
    "\n",
    "A_r = qA[ Ridxs, :]\n",
    "B_r = qB[ Ridxs, :]\n",
    "\n",
    "A_test  = A_r[788201:,:]\n",
    "B_test  = B_r[788201:,:]\n",
    "\n"
   ]
  },
  {
   "cell_type": "code",
   "execution_count": null,
   "id": "552fdf30-64ca-4146-ae08-c217d4287bd6",
   "metadata": {},
   "outputs": [],
   "source": [
    "tic = time.perf_counter()\n",
    "B_pred=Model.predict(A_test)\n",
    "toc = time.perf_counter()\n",
    "PredictionTime = f\"Model prediction in {toc - tic:0.4f} seconds\"\n",
    "print(PredictionTime)\n"
   ]
  },
  {
   "cell_type": "code",
   "execution_count": null,
   "id": "06f8c769-064f-4a6a-9338-9b9beda29ff8",
   "metadata": {},
   "outputs": [],
   "source": [
    "plt.scatter(B_pred.flatten(),B_test.flatten())\n"
   ]
  },
  {
   "cell_type": "code",
   "execution_count": null,
   "id": "c5c4dcbf-1f30-46f3-98ed-2a5836465ac2",
   "metadata": {},
   "outputs": [],
   "source": [
    "pco = np.corrcoef( x=  B_pred.flatten(), y = B_test.flatten() )\n",
    "print(pco)\n",
    "print(mean_squared_error(  B_pred.flatten(), B_test.flatten() ) )"
   ]
  },
  {
   "cell_type": "code",
   "execution_count": null,
   "id": "c2e0fe69-aee2-4163-903a-2c132e10d027",
   "metadata": {},
   "outputs": [],
   "source": []
  }
 ],
 "metadata": {
  "kernelspec": {
   "display_name": "NPL 2022b",
   "language": "python",
   "name": "npl-2022b"
  },
  "language_info": {
   "codemirror_mode": {
    "name": "ipython",
    "version": 3
   },
   "file_extension": ".py",
   "mimetype": "text/x-python",
   "name": "python",
   "nbconvert_exporter": "python",
   "pygments_lexer": "ipython3",
   "version": "3.8.13"
  }
 },
 "nbformat": 4,
 "nbformat_minor": 5
}
