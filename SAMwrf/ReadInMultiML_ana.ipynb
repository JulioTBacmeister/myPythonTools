{
 "cells": [
  {
   "cell_type": "code",
   "execution_count": null,
   "id": "5ec9190d-e85b-486c-a52b-1ad225425c80",
   "metadata": {},
   "outputs": [],
   "source": [
    "# Import packages \n",
    "import sys\n",
    "sys.path.append('../Plotting/')\n",
    "\"\"\" Now you can imprt modules in ../Plotting\"\"\"\n",
    "\n",
    "import xarray as xr\n",
    "import numpy as np\n",
    "import matplotlib.pyplot as plt\n",
    "import matplotlib as mpl\n",
    "import matplotlib.tri as tri\n",
    "import matplotlib.colors as colors\n",
    "from scipy import interpolate as intr\n",
    "\n",
    "#Models\n",
    "from sklearn.ensemble import RandomForestRegressor\n",
    "from sklearn.tree import DecisionTreeRegressor\n",
    "\n",
    "\n",
    "#Evaluation\n",
    "from sklearn.metrics import mean_squared_error\n",
    "from sklearn.model_selection import cross_val_score\n",
    "\n",
    "import cartopy\n",
    "import cartopy.crs as ccrs\n",
    "import cartopy.feature as cfeature\n",
    "\n",
    "# Some useful packages \n",
    "import importlib\n",
    "import copy\n",
    "import time\n",
    "\n",
    "# IO packages\n",
    "import pickle\n",
    "from scipy.io import FortranFile\n",
    "\n",
    "\n",
    "# Other modules in myPythonTools\n",
    "import ana as a\n",
    "#import xyp_plot as xyp\n",
    "import ReadForest as RF\n"
   ]
  },
  {
   "cell_type": "code",
   "execution_count": null,
   "id": "236433a5-2bfb-4dee-90cb-41b408b1283d",
   "metadata": {},
   "outputs": [],
   "source": [
    "importlib.reload(RF)"
   ]
  },
  {
   "cell_type": "code",
   "execution_count": null,
   "id": "f9497a70-ae5b-438d-9d28-8b38c0957ffb",
   "metadata": {},
   "outputs": [],
   "source": [
    "# Get_a_Forest returns tuple (A_test, B_test, B_pred)\n",
    "Model1 = RF.Get_a_Forest( tag=\"uvNridge\" , DoPrediction=True )"
   ]
  },
  {
   "cell_type": "code",
   "execution_count": null,
   "id": "ae467dc3-d76b-411f-9919-946219dd6e43",
   "metadata": {},
   "outputs": [],
   "source": [
    "Model2 = RF.Get_a_Forest( tag=\"uvNsgh\" , DoPrediction=True )"
   ]
  },
  {
   "cell_type": "code",
   "execution_count": null,
   "id": "021462e7-0c47-4b05-a6b9-456247f4913c",
   "metadata": {},
   "outputs": [],
   "source": [
    "Model3 = RF.Get_a_Forest( tag=\"uvN\" , DoPrediction=True )"
   ]
  },
  {
   "cell_type": "code",
   "execution_count": null,
   "id": "94342f33-2bf2-4b05-9054-9769305b537a",
   "metadata": {},
   "outputs": [],
   "source": [
    "plt.scatter(Model3[1].flatten(),Model3[2].flatten())"
   ]
  },
  {
   "cell_type": "code",
   "execution_count": null,
   "id": "9dd85a96-c56d-46bf-b3ba-8a3d5c61a299",
   "metadata": {},
   "outputs": [],
   "source": [
    "print(np.shape(Model1[2]))"
   ]
  },
  {
   "cell_type": "code",
   "execution_count": null,
   "id": "2f41cfe2-45b2-4d36-a3b1-50eec2ad421b",
   "metadata": {},
   "outputs": [],
   "source": [
    "corrs=np.zeros((22,3))\n",
    "slope=np.zeros((22,3))\n",
    "Models=[Model1,Model2,Model3]\n",
    "imod=0\n",
    "for ModelX in Models:\n",
    "    print(imod)\n",
    "    for irow in np.arange(22):\n",
    "        pco = np.corrcoef( x=  ModelX[2][:,irow].flatten(), y = ModelX[1][:,irow].flatten() )\n",
    "        corrs[irow,imod] = pco[0,1]\n",
    "        pft=np.polyfit( y=  ModelX[2][:,irow].flatten(), x = ModelX[1][:,irow].flatten() ,deg=1 )\n",
    "        slope[irow,imod] = pft[0]\n",
    "    imod=imod+1"
   ]
  },
  {
   "cell_type": "code",
   "execution_count": null,
   "id": "43c79481-3f1f-4711-9b4b-1ae40baef84f",
   "metadata": {},
   "outputs": [],
   "source": [
    "h0file = \"/glade/scratch/juliob/archive/c6_3_59.ne30pg3_L32_SAMwrf.ndg07/atm/hist/c6_3_59.ne30pg3_L32_SAMwrf.ndg07.cam.h0.2010-06.nc\"\n",
    "\n",
    "ds0=xr.open_dataset( h0file )\n",
    "plev= ds0['lev']\n",
    "zlev = -7000. * np.log( plev / 1000. )\n",
    "print(zlev[22:])\n"
   ]
  },
  {
   "cell_type": "code",
   "execution_count": null,
   "id": "b0ac04f0-1f83-455e-9c34-2df61b3e815a",
   "metadata": {},
   "outputs": [],
   "source": [
    "\n",
    "fig=plt.figure( figsize =(21,7))\n",
    "ax=fig.add_subplot(1,2,1)\n",
    "#po=ax.plot( mxd, '.')\n",
    "po=ax.set_title( '$\\partial_t U_{ndg}$' ,fontsize=24, loc='center')\n",
    "\n",
    "plt.xlim(0.,1.0)\n",
    "ax.plot(slope[0:11,2],zlev[21:],color='red',  label = 'just Met' )\n",
    "#ax.plot(slope[0:11,1],zlev[21:],color='blue', label = 'uvNsgh' )\n",
    "ax.plot(slope[0:11,0],zlev[21:],color='cyan', label = 'Met+ridge' )\n",
    "ax.legend(fontsize=18)\n",
    "ax.text( .65, 1500., 'Correlation', rotation=-70.,fontsize=18 )\n",
    "ax.text( .35, 1500., 'Slope', rotation=-60.,fontsize=18 )\n",
    "\n",
    "ax.plot(corrs[0:11,2],zlev[21:],'--',color='red')\n",
    "#ax.plot(corrs[0:11,1],zlev[21:],'--',color='blue')\n",
    "ax.plot(corrs[0:11,0],zlev[21:],'--',color='cyan')\n",
    "\n",
    "ax.set_xlabel('Correlation and Slope', fontsize = 24)\n",
    "plt.xticks(fontsize=18)\n",
    "ax.set_ylabel('Height (m)', fontsize = 24)\n",
    "plt.yticks(fontsize=18)\n",
    "\n",
    "ax=fig.add_subplot(1,2,2)\n",
    "\n",
    "#po=ax.plot( mxd, '.')\n",
    "po=ax.set_title( '$\\partial_t V_{ndg}$' ,fontsize=24, loc='center')\n",
    "\n",
    "print(np.shape(zlev[22:]))\n",
    "print(np.shape(slope[11:,:]))\n",
    "print(np.shape(slope[0:10,:]))\n",
    "\n",
    "plt.xlim(0.,1.0)\n",
    "ax.plot(slope[11:,2],zlev[21:],color='red' , label = 'just Met' )\n",
    "#ax.plot(slope[11:,1],zlev[21:],color='blue', label = 'uvNsgh')\n",
    "ax.plot(slope[11:,0],zlev[21:],color='cyan', label = 'Met+ridge')\n",
    "ax.legend(fontsize=18)\n",
    "ax.text( .65, 1500., 'Correlation', rotation=-70.,fontsize=18 )\n",
    "ax.text( .35, 1500., 'Slope', rotation=-60.,fontsize=18 )\n",
    "\n",
    "ax.plot(corrs[11:,2],zlev[21:],'--',color='red')\n",
    "#ax.plot(corrs[11:,1],zlev[21:],'--',color='blue')\n",
    "ax.plot(corrs[11:,0],zlev[21:],'--',color='cyan')\n",
    "\n",
    "ax.set_xlabel('Correlation and Slope', fontsize = 24)\n",
    "plt.xticks(fontsize=18)\n",
    "ax.set_ylabel('Height (m)', fontsize = 24)\n",
    "plt.yticks(fontsize=18)\n"
   ]
  },
  {
   "cell_type": "code",
   "execution_count": null,
   "id": "c2e0fe69-aee2-4163-903a-2c132e10d027",
   "metadata": {},
   "outputs": [],
   "source": []
  }
 ],
 "metadata": {
  "kernelspec": {
   "display_name": "NPL 2022b",
   "language": "python",
   "name": "npl-2022b"
  },
  "language_info": {
   "codemirror_mode": {
    "name": "ipython",
    "version": 3
   },
   "file_extension": ".py",
   "mimetype": "text/x-python",
   "name": "python",
   "nbconvert_exporter": "python",
   "pygments_lexer": "ipython3",
   "version": "3.8.13"
  }
 },
 "nbformat": 4,
 "nbformat_minor": 5
}
