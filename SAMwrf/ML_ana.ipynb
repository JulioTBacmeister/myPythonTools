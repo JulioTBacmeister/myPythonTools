{
 "cells": [
  {
   "cell_type": "code",
   "execution_count": null,
   "id": "09d7870b-2381-44bc-a36f-ed9efe75a325",
   "metadata": {},
   "outputs": [],
   "source": [
    "# Import packages \n",
    "import sys\n",
    "sys.path.append('../Plotting/')\n",
    "\"\"\" Now you can imprt modules in ../Plotting\"\"\"\n",
    "import xyp_plot as xyp\n",
    "\n",
    "import xarray as xr\n",
    "import numpy as np\n",
    "import matplotlib.pyplot as plt\n",
    "import matplotlib as mpl\n",
    "import matplotlib.tri as tri\n",
    "import matplotlib.colors as colors\n",
    "\n",
    "#Models\n",
    "from sklearn.ensemble import RandomForestRegressor\n",
    "from sklearn.tree import DecisionTreeRegressor\n",
    "\n",
    "\n",
    "#Evaluation\n",
    "from sklearn.metrics import mean_squared_error\n",
    "from sklearn.model_selection import cross_val_score\n",
    "\n",
    "import cartopy\n",
    "import cartopy.crs as ccrs\n",
    "import cartopy.feature as cfeature\n",
    "import ana as a\n",
    "\n",
    "import importlib\n"
   ]
  },
  {
   "cell_type": "code",
   "execution_count": null,
   "id": "2cf4c802-68e1-4a18-ac97-06c963462f38",
   "metadata": {},
   "outputs": [],
   "source": [
    "# Constants\n",
    "Pi=3.141592653589793\n",
    "R_d = 287.0 # J K-1 kg-1\n",
    "C_p = 1005.7 # J K-1 kg-1\n",
    "grav = 9.8 # m s-2\n",
    "kappa = R_d/C_p\n",
    "print(kappa)"
   ]
  },
  {
   "cell_type": "code",
   "execution_count": null,
   "id": "a56e6629-ee6e-4bfa-aeed-4d4277a30c16",
   "metadata": {},
   "outputs": [],
   "source": [
    "# Specify directory for data\n",
    "drct='/glade/p/cesm/amwg_dev/juliob/SAMwrf/Curtains/'\n",
    "tag='ndg04'\n",
    "fi=drct+'SAMwrf_'+tag+'_ML_super_v6.nc'\n",
    "ds=xr.open_dataset( fi )\n"
   ]
  },
  {
   "cell_type": "code",
   "execution_count": null,
   "id": "1b0fee1b-350a-41ef-9a1e-b9afe0a06fdd",
   "metadata": {},
   "outputs": [],
   "source": [
    "MXD=ds['MXDIS']\n",
    "CLN=ds['CLNGT']\n",
    "ANG=ds['ANGLL']\n",
    "SGH=ds['SGH']\n",
    "ANX=ds['ANGLX']\n",
    "print(np.shape(ANG.values.flatten()))\n",
    "print(np.shape(ANX.values.flatten()))\n",
    "plt.xlim(-360,360)\n",
    "plt.ylim(-360,360)\n",
    "#plt.plot(ANX.values.flatten(),'.')\n",
    "#plt.plot(ANG.values.flatten(),'.')\n",
    "plt.scatter(ANG.values.flatten(), ANX.values.flatten() )\n",
    "# Better look at ANGLL in SE"
   ]
  },
  {
   "cell_type": "code",
   "execution_count": null,
   "id": "1212df19-dde0-4c3a-9567-5dbd9601381e",
   "metadata": {},
   "outputs": [],
   "source": [
    "mxd=MXD.values\n",
    "cln=CLN.values\n",
    "ang=ANG.values\n",
    "anx=ANX.values\n",
    "sgh=SGH.values\n",
    "print(mxd.shape)"
   ]
  },
  {
   "cell_type": "code",
   "execution_count": null,
   "id": "c6c28dca-4321-4427-b0b6-18649672ba77",
   "metadata": {},
   "outputs": [],
   "source": [
    "print(list(ds.variables))\n",
    "\n",
    "Utn=ds['UTEND_NDG']*86400.\n",
    "Vtn=ds['VTEND_NDG']*86400.\n",
    "Utc=ds['UTEND_CORE']*86400.\n",
    "Vtc=ds['VTEND_CORE']*86400.\n",
    "Utgw=ds['UTEND_GWDTOT']*86400.\n",
    "Vtgw=ds['VTEND_GWDTOT']*86400.\n",
    "U=ds['U']\n",
    "V=ds['V']\n",
    "T=ds['T']\n",
    "\n",
    "# Save-off dimensions of met-data\n",
    "nT,nL,nS_0=np.shape(U)\n",
    "print( nL,nT,nS_0 )"
   ]
  },
  {
   "cell_type": "code",
   "execution_count": null,
   "id": "aa17f020-1a42-4edf-b12c-7d6ecb742dd1",
   "metadata": {},
   "outputs": [],
   "source": [
    "plt.plot(T[1,:,2000])"
   ]
  },
  {
   "cell_type": "code",
   "execution_count": null,
   "id": "1c08faad-b350-4a54-8c8b-e708eb9e6ba8",
   "metadata": {},
   "outputs": [],
   "source": [
    "#calculate 3D pressure for\n",
    "ps=ds['PS']\n",
    "hyam=ds['hyam']\n",
    "hybm=ds['hybm']\n",
    "#plev=d4['lev']\n",
    "\n",
    "gps=np.average( ps, axis=0 )\n",
    "ghya=np.average( hyam , axis=0 )\n",
    "ghyb=np.average( hybm , axis=0 )\n",
    "p3=a.press(PS=ps,hybm=hybm,hyam=hyam )\n",
    "print(np.shape(p3),np.shape(T))"
   ]
  },
  {
   "cell_type": "code",
   "execution_count": null,
   "id": "35c9a122-5281-40f3-844a-d07eea286968",
   "metadata": {},
   "outputs": [],
   "source": [
    "hybi=ds['hybi']\n",
    "hyai=ds['hyai']\n",
    "\n",
    "p3e=a.press(PS=ps,hybm=hybi,hyam=hyai )"
   ]
  },
  {
   "cell_type": "markdown",
   "id": "fa7a4e7d-a541-490c-b043-49a89319b971",
   "metadata": {},
   "source": [
    "# WARNING !!!!!"
   ]
  },
  {
   "cell_type": "code",
   "execution_count": null,
   "id": "0e47dede-85f8-46b7-af02-d58c6c8f86cf",
   "metadata": {},
   "outputs": [],
   "source": [
    "# DO NOT DO THIS IDL-style CRAP !!!!! :\n",
    "#   > theta=T.values\n",
    "#   > te = T.values\n",
    "#   > theta = calculations .... \n",
    "#\n",
    "# 'te' is modified by this even though it is never on the LHS\n"
   ]
  },
  {
   "cell_type": "code",
   "execution_count": null,
   "id": "589d55a9-4900-49e8-b6e2-8d8559f35044",
   "metadata": {},
   "outputs": [],
   "source": [
    "# Calculate Theta and N-squared (approximately) ...\n",
    "# using a constant\n",
    "\n",
    "theta=np.zeros( (nT, nL, nS_0 )    ) # T.values\n",
    "te=T.values\n",
    "plt.plot(te[1,:,2000])\n",
    "\n",
    "print( id(te) )\n",
    "print( id(theta) )\n",
    "\n",
    "print(np.shape(hybm))\n",
    "for iT in np.arange(nT):\n",
    "    #p3=a.press(PS=ps[iT,:],hybm=hybm[iT,:],hyam=hyam[iT,:] )\n",
    "    theta[iT,:,:] = (( 100_000. / p3[iT,:,:]  )**kappa ) * te[iT,:,:]\n",
    "    #print( iT, end=',')\n",
    "    \n",
    "plt.plot(te[1,:,2000])"
   ]
  },
  {
   "cell_type": "code",
   "execution_count": null,
   "id": "dfc85f71-cecf-41a0-ad39-f8669426f0d9",
   "metadata": {},
   "outputs": [],
   "source": [
    "rho_d = p3 / (R_d * te )\n",
    "#p"
   ]
  },
  {
   "cell_type": "code",
   "execution_count": null,
   "id": "7eb04ab3-e749-464b-85cb-25072bbb33b0",
   "metadata": {},
   "outputs": [],
   "source": [
    "print( np.arange(nL) )\n",
    "print(' .. ')\n",
    "print( np.arange( nL-1,-1,-1))"
   ]
  },
  {
   "cell_type": "code",
   "execution_count": null,
   "id": "e0defb41-6c91-4936-a713-36005c052b44",
   "metadata": {},
   "outputs": [],
   "source": [
    "zhgte=np.zeros( (nT,nL+1,nS_0) )\n",
    "for iL in np.arange(nL-1,-1,-1):\n",
    "    zhgte[:,iL,:] = zhgte[:,iL+1,:] + \\\n",
    "                    ( p3e[:,iL+1,:]-p3e[:,iL,:]  )  \\\n",
    "                    /( grav * rho_d[:,iL,:] )\n",
    "    print(iL,end=',')\n",
    "\n",
    "    "
   ]
  },
  {
   "cell_type": "code",
   "execution_count": null,
   "id": "6d561c65-25ff-4677-b407-9221ee519a1d",
   "metadata": {},
   "outputs": [],
   "source": [
    "#te=T.values\n",
    "\n",
    "zhgtm = 0.5 * (zhgte[:,0:nL,:]+zhgte[:,1:nL+1,:])\n",
    "print(np.shape(zhgtm))\n",
    "\n",
    "plt.plot( theta[1,:,2000] , zhgtm[1,:,2000] )\n",
    "\n",
    "\n",
    "#print( rho_d[1,:,2000] )\n",
    "#print( te[1,:,2000] )\n",
    "#print( p3e[1,:,2000] )\n",
    "#print( geophm[1,:,2000]  )\n",
    "\n"
   ]
  },
  {
   "cell_type": "code",
   "execution_count": null,
   "id": "8d7d2619-1f1e-41d3-ae36-e919f0f42e32",
   "metadata": {},
   "outputs": [],
   "source": [
    "plt.plot(rho_d[1,:,2000] )"
   ]
  },
  {
   "cell_type": "markdown",
   "id": "ed536121-a04a-4f11-b827-4ee8e8604076",
   "metadata": {},
   "source": [
    "## Begin setting up data for ML\n"
   ]
  },
  {
   "cell_type": "markdown",
   "id": "a07b1d19-1c7d-4f69-bea2-9ce4d17a3ad7",
   "metadata": {},
   "source": [
    "## Here we isolate attention to regions with topography"
   ]
  },
  {
   "cell_type": "code",
   "execution_count": null,
   "id": "26b8f882-f631-4c2b-bfec-c6c8aedc6fa4",
   "metadata": {},
   "outputs": [],
   "source": [
    "# Pick out grid cells with MXD[0,:] bigger than 50m.\n",
    "# \n",
    "oo=np.where(mxd[0,:]>50.)\n",
    "print(np.shape(oo))\n",
    "\n",
    "\n",
    "\n",
    "mxd=mxd[0,oo[0][:]]\n",
    "cln=cln[0,oo[0][:]]\n",
    "ang=ang[0,oo[0][:]]\n",
    "angrad=ang*Pi/180.\n",
    "\n",
    "cosrdg=np.cos( angrad )\n",
    "sinrdg=np.sin( angrad )\n",
    "\n",
    "fig=plt.figure( figsize =(20,9))\n",
    "ax=fig.add_subplot(2,2,1)\n",
    "po=ax.plot( mxd, '.')\n",
    "po=ax.set_title( 'MXDIS' ,fontsize=12, loc='center')\n",
    "ax=fig.add_subplot(2,2,2)\n",
    "po=ax.plot( cln, '.')\n",
    "po=ax.set_title( 'CLNGT' ,fontsize=12, loc='center')\n",
    "ax=fig.add_subplot(2,2,3)\n",
    "po=ax.plot( ang,cosrdg, '.')\n",
    "po=ax.set_title( 'Cos(ANGLL)' ,fontsize=12, loc='center')\n",
    "ax=fig.add_subplot(2,2,4)\n",
    "po=ax.plot( ang,sinrdg, '.')\n",
    "po=ax.set_title( 'Sin (ANGLL)' ,fontsize=12, loc='center')"
   ]
  },
  {
   "cell_type": "code",
   "execution_count": null,
   "id": "4d27e3de-9de0-476a-8028-dad6c615d2e3",
   "metadata": {},
   "outputs": [],
   "source": [
    "# Numpy arrays are [nT,nL,ns]\n",
    "# Select columns with MXD>h_crit nS_0=>nS\n",
    "# and restrict to bottom 10-layers\n",
    "# Transpose to [nL,nt,ns_crit]\n",
    "# Then reshape to [nL,nT*ns_crit]\n",
    "u=U.values\n",
    "u=u[:,21:,oo[0][:]]\n",
    "u=np.transpose(u, (1,0,2) )\n",
    "nL,nT,nS=np.shape(u)\n",
    "u=np.reshape( u, (nL,nT*nS ) )/10.\n",
    "\n",
    "v=V.values\n",
    "v=v[:,21:,oo[0][:]]\n",
    "v=np.transpose(v, (1,0,2) )\n",
    "v=np.reshape( v, (nL,nT*nS ) )/10.\n",
    "\n",
    "te=T.values\n",
    "te=te[:,21:,oo[0][:]]\n",
    "te=np.transpose(te, (1,0,2) )\n",
    "te=np.reshape( te, (nL,nT*nS ) )/10.\n"
   ]
  },
  {
   "cell_type": "code",
   "execution_count": null,
   "id": "0ac802eb-13b7-418f-b218-c1dd900c5f1d",
   "metadata": {},
   "outputs": [],
   "source": [
    "utn=Utn.values\n",
    "print(np.shape(utn))\n",
    "plt.plot(utn[100:500,30,:].flatten())"
   ]
  },
  {
   "cell_type": "code",
   "execution_count": null,
   "id": "91c4d74b-fccc-4cdf-9dd1-24f8a9542ce8",
   "metadata": {},
   "outputs": [],
   "source": [
    "# Numpy arrays are [nT,nL,ns]\n",
    "# Select columns with MXD>h_crit ns=>ns_crit\n",
    "# and restrict to bottom 10-layers\n",
    "# Transpose to [nL,nt,ns_crit]\n",
    "# Then reshape to [nL,nT*ns_crit]\n",
    "utn=Utn.values\n",
    "utn=utn[:,21:,oo[0][:]]\n",
    "utn=np.transpose(utn, (1,0,2) )\n",
    "utn=np.reshape( utn, (nL,nT*nS ) )/10.\n",
    "\n",
    "vtn=Vtn.values\n",
    "vtn=vtn[:,21:,oo[0][:]]\n",
    "vtn=np.transpose(vtn, (1,0,2) )\n",
    "vtn=np.reshape( vtn, (nL,nT*nS ) )/10.\n",
    "\n",
    "\n"
   ]
  },
  {
   "cell_type": "code",
   "execution_count": null,
   "id": "c160152c-f415-4f3b-9335-f359e8a09767",
   "metadata": {},
   "outputs": [],
   "source": [
    "mxdx=np.zeros([1,nT,nS])\n",
    "clnx=np.zeros([1,nT,nS])\n",
    "cosrx=np.zeros([1,nT,nS])\n",
    "sinrx=np.zeros([1,nT,nS])\n",
    "for iT in np.arange(nT):\n",
    "    mxdx[0,iT,:]=mxd\n",
    "    clnx[0,iT,:]=cln\n",
    "    cosrx[0,iT,:]=cosrdg\n",
    "    sinrx[0,iT,:]=sinrdg\n",
    "mxdx = np.reshape( mxdx, (1,nT*nS ) )/1000.\n",
    "clnx = np.reshape( clnx, (1,nT*nS ) )/100."
   ]
  },
  {
   "cell_type": "code",
   "execution_count": null,
   "id": "02e83e09-88b8-4a91-a5fd-8d6a51de15b6",
   "metadata": {},
   "outputs": [],
   "source": [
    "print(np.shape(mxdx))\n",
    "plt.plot(cln.view())"
   ]
  },
  {
   "cell_type": "code",
   "execution_count": null,
   "id": "28985946-1f20-4e02-a581-329ecd5e7442",
   "metadata": {},
   "outputs": [],
   "source": [
    "A=np.r_[u,v,mxdx,clnx]\n",
    "B=np.r_[utn,vtn]\n"
   ]
  },
  {
   "cell_type": "code",
   "execution_count": null,
   "id": "2459fcd7-6750-4e5d-8557-9d20154bda11",
   "metadata": {},
   "outputs": [],
   "source": [
    "print(np.shape(A))\n"
   ]
  },
  {
   "cell_type": "code",
   "execution_count": null,
   "id": "eb0e7dcb-5433-4ed1-9543-93de2a1cbe39",
   "metadata": {},
   "outputs": [],
   "source": [
    "A=A[:,0:20000]\n",
    "B=B[:,0:20000]\n",
    "A=np.transpose(A)\n",
    "B=np.transpose(B)\n",
    "\n",
    "print(np.shape(A))\n"
   ]
  },
  {
   "cell_type": "code",
   "execution_count": null,
   "id": "de5f79b0-cc80-4470-b389-b3b56290ce35",
   "metadata": {},
   "outputs": [],
   "source": [
    "forest_reg = RandomForestRegressor(n_estimators=100, random_state=42)"
   ]
  },
  {
   "cell_type": "code",
   "execution_count": null,
   "id": "0996c863-ea07-43d7-a8ec-4acd7c00e689",
   "metadata": {},
   "outputs": [],
   "source": [
    "forest_reg.fit(A, B)"
   ]
  },
  {
   "cell_type": "code",
   "execution_count": null,
   "id": "a0936b5f-0635-402e-8fee-9bfc38623e38",
   "metadata": {},
   "outputs": [],
   "source": [
    "B2=forest_reg.predict(A)"
   ]
  },
  {
   "cell_type": "code",
   "execution_count": null,
   "id": "c45c4d03-ff47-4024-93b9-1b414b607885",
   "metadata": {},
   "outputs": [],
   "source": [
    "plt.scatter(B2.flatten(),B.flatten())"
   ]
  },
  {
   "cell_type": "code",
   "execution_count": null,
   "id": "8e00846c-0180-4677-8c95-427bb5acf569",
   "metadata": {},
   "outputs": [],
   "source": [
    "AA=np.r_[u,v,mxdx,clnx]\n",
    "BB=np.r_[utn,vtn]\n",
    "AA=np.transpose(AA)\n",
    "BB=np.transpose(BB)\n",
    "print(np.shape(BB))\n"
   ]
  },
  {
   "cell_type": "code",
   "execution_count": null,
   "id": "bcd20290-b679-45be-a216-7e1b87528e38",
   "metadata": {},
   "outputs": [],
   "source": [
    "A_val=AA[60000:100000,:]\n",
    "B_val=BB[60000:100000,:]\n"
   ]
  },
  {
   "cell_type": "code",
   "execution_count": null,
   "id": "57cf09c9-68ad-46e0-8d22-b1ee605c3c4d",
   "metadata": {},
   "outputs": [],
   "source": [
    "B_pred=forest_reg.predict(A_val)"
   ]
  },
  {
   "cell_type": "code",
   "execution_count": null,
   "id": "acb4d0f7-65a4-4974-bede-1c903f5a9c24",
   "metadata": {},
   "outputs": [],
   "source": [
    "print(np.shape(B_pred),np.shape(B_val))"
   ]
  },
  {
   "cell_type": "code",
   "execution_count": null,
   "id": "c593d8a5-7ae4-4d3f-a16c-711587fc5b66",
   "metadata": {},
   "outputs": [],
   "source": [
    "plt.scatter(B_pred.flatten(),B_val.flatten())"
   ]
  },
  {
   "cell_type": "code",
   "execution_count": null,
   "id": "a2373337-8864-4a9c-ad51-6d5ab283fa27",
   "metadata": {},
   "outputs": [],
   "source": []
  }
 ],
 "metadata": {
  "kernelspec": {
   "display_name": "NPL 2022b",
   "language": "python",
   "name": "npl-2022b"
  },
  "language_info": {
   "codemirror_mode": {
    "name": "ipython",
    "version": 3
   },
   "file_extension": ".py",
   "mimetype": "text/x-python",
   "name": "python",
   "nbconvert_exporter": "python",
   "pygments_lexer": "ipython3",
   "version": "3.8.13"
  }
 },
 "nbformat": 4,
 "nbformat_minor": 5
}
