{
 "cells": [
  {
   "cell_type": "code",
   "execution_count": null,
   "id": "09d7870b-2381-44bc-a36f-ed9efe75a325",
   "metadata": {},
   "outputs": [],
   "source": [
    "# Import packages \n",
    "import sys\n",
    "sys.path.append('../Plotting/')\n",
    "\"\"\" Now you can imprt modules in ../Plotting\"\"\"\n",
    "import xyp_plot as xyp\n",
    "\n",
    "import xarray as xr\n",
    "import numpy as np\n",
    "import matplotlib.pyplot as plt\n",
    "import matplotlib as mpl\n",
    "import matplotlib.tri as tri\n",
    "import matplotlib.colors as colors\n",
    "from scipy import interpolate as intr\n",
    "\n",
    "#Models\n",
    "from sklearn.ensemble import RandomForestRegressor\n",
    "from sklearn.tree import DecisionTreeRegressor\n",
    "\n",
    "\n",
    "#Evaluation\n",
    "from sklearn.metrics import mean_squared_error\n",
    "from sklearn.model_selection import cross_val_score\n",
    "\n",
    "import cartopy\n",
    "import cartopy.crs as ccrs\n",
    "import cartopy.feature as cfeature\n",
    "import ana as a\n",
    "\n",
    "# Some useful packages \n",
    "import importlib\n",
    "import copy\n",
    "import time\n"
   ]
  },
  {
   "cell_type": "code",
   "execution_count": null,
   "id": "2cf4c802-68e1-4a18-ac97-06c963462f38",
   "metadata": {},
   "outputs": [],
   "source": [
    "# Constants\n",
    "Pi=3.141592653589793\n",
    "R_d = 287.0 # J K-1 kg-1\n",
    "C_p = 1005.7 # J K-1 kg-1\n",
    "grav = 9.8 # m s-2\n",
    "kappa = R_d/C_p\n",
    "print(kappa)"
   ]
  },
  {
   "cell_type": "code",
   "execution_count": null,
   "id": "a56e6629-ee6e-4bfa-aeed-4d4277a30c16",
   "metadata": {},
   "outputs": [],
   "source": [
    "# Specify directory for data\n",
    "drct='/glade/p/cesm/amwg_dev/juliob/SAMwrf/Curtains/'\n",
    "# Get data (v7 has corrected ANGLL)\n",
    "tag='ndg04'\n",
    "fi=drct+'SAMwrf_'+tag+'_ML_super_v7.nc'\n",
    "ds=xr.open_dataset( fi )\n"
   ]
  },
  {
   "cell_type": "code",
   "execution_count": null,
   "id": "1b0fee1b-350a-41ef-9a1e-b9afe0a06fdd",
   "metadata": {},
   "outputs": [],
   "source": [
    "# Get some ridge parameters and other unresolved topo params\n",
    "\n",
    "MXD=ds['MXDIS']\n",
    "CLN=ds['CLNGT']\n",
    "ANG=ds['ANGLL']\n",
    "SGH=ds['SGH']\n",
    "ANX=ds['ANGLX']\n",
    "print(np.shape(ANG.values.flatten()))\n",
    "print(np.shape(ANX.values.flatten()))\n",
    "plt.xlim(-360,360)\n",
    "plt.ylim(-360,360)\n",
    "#plt.plot(ANX.values.flatten(),'.')\n",
    "#plt.plot(ANG.values.flatten(),'.')\n",
    "plt.scatter(ANG.values.flatten(), ANX.values.flatten() )\n",
    "# Better look at ANGLL in SE"
   ]
  },
  {
   "cell_type": "code",
   "execution_count": null,
   "id": "1212df19-dde0-4c3a-9567-5dbd9601381e",
   "metadata": {},
   "outputs": [],
   "source": [
    "mxd=MXD.values\n",
    "cln=CLN.values\n",
    "ang=ANG.values\n",
    "anx=ANX.values\n",
    "sgh=SGH.values\n",
    "print(mxd.shape)"
   ]
  },
  {
   "cell_type": "code",
   "execution_count": null,
   "id": "c6c28dca-4321-4427-b0b6-18649672ba77",
   "metadata": {},
   "outputs": [],
   "source": [
    "# Get nugding tendencies, horz winds and GW tendencies\n",
    "# Note for intial training, results from run w/out GWD param is used - 'ndg04'\n",
    "\n",
    "print(list(ds.variables))\n",
    "\n",
    "Utn=ds['UTEND_NDG']*86400.\n",
    "Vtn=ds['VTEND_NDG']*86400.\n",
    "Utc=ds['UTEND_CORE']*86400.\n",
    "Vtc=ds['VTEND_CORE']*86400.\n",
    "Utgw=ds['UTEND_GWDTOT']*86400.\n",
    "Vtgw=ds['VTEND_GWDTOT']*86400.\n",
    "U=ds['U']\n",
    "V=ds['V']\n",
    "T=ds['T']\n",
    "\n",
    "# Save-off dimensions of met-data\n",
    "nT,nL,nS_0=np.shape(U)\n",
    "print( nL,nT,nS_0 )"
   ]
  },
  {
   "cell_type": "code",
   "execution_count": null,
   "id": "aa17f020-1a42-4edf-b12c-7d6ecb742dd1",
   "metadata": {},
   "outputs": [],
   "source": [
    "plt.plot(Utn[31,0,:])"
   ]
  },
  {
   "cell_type": "code",
   "execution_count": null,
   "id": "1c08faad-b350-4a54-8c8b-e708eb9e6ba8",
   "metadata": {},
   "outputs": [],
   "source": [
    "# Calculate 3D pressure field for full [nT,nL,nS_0] range\n",
    "ps=ds['PS']\n",
    "# These have dims=[nT,nL] ...!!!\n",
    "hyam=ds['hyam']\n",
    "hybm=ds['hybm']\n",
    "\n",
    "tic = time.perf_counter()\n",
    "p3=a.press(PS=ps,hybm=hybm,hyam=hyam )\n",
    "toc = time.perf_counter()\n",
    "P3oTime = f\"mid-level 3D presure in {toc - tic:0.4f} seconds\"\n",
    "print(P3oTime)\n"
   ]
  },
  {
   "cell_type": "code",
   "execution_count": null,
   "id": "35c9a122-5281-40f3-844a-d07eea286968",
   "metadata": {},
   "outputs": [],
   "source": [
    "hybi=ds['hybi']\n",
    "hyai=ds['hyai']\n",
    "\n",
    "tic = time.perf_counter()\n",
    "p3e=a.press(PS=ps,hybm=hybi,hyam=hyai )\n",
    "toc = time.perf_counter()\n",
    "P3eTime = f\"edge 3D presure in {toc - tic:0.4f} seconds\"\n",
    "print(P3eTime)\n",
    "\n"
   ]
  },
  {
   "cell_type": "code",
   "execution_count": null,
   "id": "2e871d56-5fb1-4f01-bec0-194a879539c3",
   "metadata": {},
   "outputs": [],
   "source": [
    "# Testing random number stuff (local cell w/ no side effects)\n",
    "rng=np.random.default_rng(seed=42)\n",
    "uuu=rng.uniform(0,2,1000)\n",
    "\n",
    "huuu,bins=np.histogram(uuu)\n",
    "plt.stairs( huuu, bins  )"
   ]
  },
  {
   "cell_type": "markdown",
   "id": "fa7a4e7d-a541-490c-b043-49a89319b971",
   "metadata": {},
   "source": [
    "# WARNING !!!!!"
   ]
  },
  {
   "cell_type": "code",
   "execution_count": null,
   "id": "0e47dede-85f8-46b7-af02-d58c6c8f86cf",
   "metadata": {},
   "outputs": [],
   "source": [
    "# DO NOT DO THIS !!!!! :\n",
    "#   > theta=T.values\n",
    "#   > te = T.values\n",
    "#   > theta = calculations .... \n",
    "#\n",
    "# '=' in Python is not really a copy. Acts like a pointer.\n",
    "# So, in above 'te' is modified by calculations \n",
    "# even though it is never on the LHS\n",
    "#\n",
    "# Need to use, e.g.,\n",
    "#   > theta =copy.deepcopy(T.values)\n"
   ]
  },
  {
   "cell_type": "code",
   "execution_count": null,
   "id": "589d55a9-4900-49e8-b6e2-8d8559f35044",
   "metadata": {},
   "outputs": [],
   "source": [
    "# Calculate dry Theta at mid-levels\n",
    "# \n",
    "\n",
    "theta=np.zeros( (nT, nL, nS_0 )    ) # T.values\n",
    "te=T.values\n",
    "plt.plot(te[1,:,2000])\n",
    "\n",
    "print( id(te) )\n",
    "print( id(theta) )\n",
    "\n",
    "print(np.shape(hybm))\n",
    "for iT in np.arange(nT):\n",
    "    theta[iT,:,:] = (( 100_000. / p3[iT,:,:]  )**kappa ) * te[iT,:,:]\n",
    "    \n",
    "plt.plot(te[1,:,2000])"
   ]
  },
  {
   "cell_type": "code",
   "execution_count": null,
   "id": "dfc85f71-cecf-41a0-ad39-f8669426f0d9",
   "metadata": {},
   "outputs": [],
   "source": [
    "# Calculate dry air density at mid-levels (kg/m+3)\n",
    "\n",
    "rho_d = p3 / (R_d * te )\n"
   ]
  },
  {
   "cell_type": "code",
   "execution_count": null,
   "id": "7eb04ab3-e749-464b-85cb-25072bbb33b0",
   "metadata": {},
   "outputs": [],
   "source": [
    "print( np.arange(nL) )\n",
    "print(' .. ')\n",
    "print( np.arange( nL-1,-1,-1))"
   ]
  },
  {
   "cell_type": "code",
   "execution_count": null,
   "id": "0b10b05c-c7cb-447b-8514-e47ad55b7af6",
   "metadata": {},
   "outputs": [],
   "source": [
    "# Integrate hydrostatic relation to get heights (i.e. geoph/grav) at edges\n",
    "\n",
    "zhgte=np.zeros( (nT,nL+1,nS_0) )\n",
    "for iL in np.arange(nL-1,-1,-1):\n",
    "    zhgte[:,iL,:] = zhgte[:,iL+1,:] + \\\n",
    "                    ( p3e[:,iL+1,:]-p3e[:,iL,:]  )  \\\n",
    "                    /( grav * rho_d[:,iL,:] )\n",
    "    print(iL,end=',')"
   ]
  },
  {
   "cell_type": "code",
   "execution_count": null,
   "id": "6d561c65-25ff-4677-b407-9221ee519a1d",
   "metadata": {},
   "outputs": [],
   "source": [
    "# Simple averaging to get mid-level heights from edge heights\n",
    "\n",
    "zhgtm = 0.5 * (zhgte[:,0:nL,:]+zhgte[:,1:nL+1,:])\n",
    "print(np.shape(zhgtm))\n",
    "\n",
    "plt.plot( theta[1,:,2000] , zhgtm[1,:,2000] )\n"
   ]
  },
  {
   "cell_type": "code",
   "execution_count": null,
   "id": "2ed38c46-4e4d-4c49-b7f8-2181edf84089",
   "metadata": {},
   "outputs": [],
   "source": [
    "# Calculate Theta values at edges by using 1D linear interpolation in height (w/\n",
    "# extrapolation) from mid-level heights and Theat \n",
    "\n",
    "thetae=np.zeros( (nT,nL+1,nS_0) )\n",
    "for iT in np.arange(nT):\n",
    "    print(iT,end=',')\n",
    "    for iS in np.arange(nS_0):\n",
    "        fint=intr.interp1d( x=zhgtm[iT, :, iS],y=theta[iT,:,iS] , fill_value='extrapolate'  )\n",
    "        thetae[iT, :, iS] = fint( zhgte[iT, :, iS ] )\n"
   ]
  },
  {
   "cell_type": "code",
   "execution_count": null,
   "id": "8d7d2619-1f1e-41d3-ae36-e919f0f42e32",
   "metadata": {},
   "outputs": [],
   "source": [
    "plt.plot( thetae[1,:,2000] , zhgte[1,:,2000] )\n",
    "\n",
    "plt.plot( theta[1,:,2000] , zhgtm[1,:,2000], 'x' )\n",
    "\n",
    "plt.ylim(0,1000)\n",
    "plt.xlim(280,320)\n",
    "#plt.plot(rho_d[1,:,2000] )"
   ]
  },
  {
   "cell_type": "code",
   "execution_count": null,
   "id": "327fa117-c3dd-4680-adcc-54ecf082c709",
   "metadata": {},
   "outputs": [],
   "source": [
    "# Calculate \"N-squared\" from Theta on edges\n",
    "# Simple centered differences\n",
    "nsq = np.zeros( (nT, nL, nS_0 ) )\n",
    "for iL in np.arange( start=1,stop=nL-1):\n",
    "    nsq[:,iL,:] = grav * ( ( thetae[:,iL-1,:]-thetae[:,iL+1,:] ) / \\\n",
    "                           ( zhgte[:,iL-1,:] -zhgte[:,iL+1,:]  ) ) / \\\n",
    "                                theta[:,iL,:] \n",
    "\n",
    "\n",
    "# Take boundary values from adjacent levels\n",
    "nsq[:,nL-1,:]=nsq[:,nL-2,:]\n",
    "nsq[:,0,:]=nsq[:,1,:]\n"
   ]
  },
  {
   "cell_type": "code",
   "execution_count": null,
   "id": "87c7a29b-d1f9-4643-a740-a8fe2d916dad",
   "metadata": {},
   "outputs": [],
   "source": [
    "# Calculate \"N\" (Brunt-Vaisalla freq) from N**2.\n",
    "# Here account for negative (unstable) stratification using np.where\n",
    "#----------------------------------------\n",
    "# Once again, np.where works like this:\n",
    "#  B = np.where( {condition on A} , {value where condition=True}, {value where condition=False} )\n",
    "#  B will have the same shape as A.\n",
    "#  2nd and 3rd arguments can be scalars or shaped like A.\n",
    "\n",
    "n_bv=np.where( nsq>=0., nsq , -nsq )\n",
    "stab=np.where( nsq>=0., 1.0 , -1.0 )\n",
    "n_bv = stab * np.sqrt( n_bv )\n",
    "plt.ylim(0,30000.)\n",
    "#plt.xlim(-0.0001,0.0001)\n",
    "plt.xlim(-0.01,0.04)\n",
    "#plt.plot(  nsq[1,:,2000] , zhgtm[1,:,2000] )\n",
    "plt.plot(  n_bv[1,:,2000] , zhgtm[1,:,2000], '+' )\n"
   ]
  },
  {
   "cell_type": "markdown",
   "id": "ed536121-a04a-4f11-b827-4ee8e8604076",
   "metadata": {},
   "source": [
    "## Begin setting up data for ML\n"
   ]
  },
  {
   "cell_type": "markdown",
   "id": "a07b1d19-1c7d-4f69-bea2-9ce4d17a3ad7",
   "metadata": {},
   "source": [
    "## Here we isolate attention to regions with topography"
   ]
  },
  {
   "cell_type": "code",
   "execution_count": null,
   "id": "26b8f882-f631-4c2b-bfec-c6c8aedc6fa4",
   "metadata": {},
   "outputs": [],
   "source": [
    "# Pick out grid cells with MXD[0,:] bigger than 50m.\n",
    "#\n",
    "# Note here np.where is working more like IDL where.\n",
    "#\n",
    "# With no 2nd and 3rd args np.where documentaion says:\n",
    "#   When only condition is provided, this function is a shorthand for np.asarray(condition).nonzero(). \n",
    "#   Using nonzero directly should be preferred, as it behaves correctly for subclasses. The rest of \n",
    "#   this documentation covers only the case where all three arguments are provided.\n",
    "\n",
    "\n",
    "oo=np.where(mxd[0,:]>50.)\n",
    "print(np.shape(oo))\n",
    "\n",
    "\n",
    "\n",
    "mxd=mxd[0,oo[0][:]]\n",
    "cln=cln[0,oo[0][:]]\n",
    "ang=ang[0,oo[0][:]]\n",
    "sgh=sgh[oo[0][:]] \n",
    "angrad=ang*Pi/180.\n",
    "\n",
    "cosrdg=np.cos( angrad )\n",
    "sinrdg=np.sin( angrad )\n",
    "\n",
    "fig=plt.figure( figsize =(20,9))\n",
    "ax=fig.add_subplot(2,2,1)\n",
    "po=ax.plot( mxd, '.')\n",
    "po=ax.set_title( 'MXDIS' ,fontsize=12, loc='center')\n",
    "ax=fig.add_subplot(2,2,2)\n",
    "po=ax.plot( cln, '.')\n",
    "po=ax.set_title( 'CLNGT' ,fontsize=12, loc='center')\n",
    "ax=fig.add_subplot(2,2,3)\n",
    "po=ax.plot( ang,cosrdg, '.')\n",
    "po=ax.set_title( 'Cos(ANGLL)' ,fontsize=12, loc='center')\n",
    "ax=fig.add_subplot(2,2,4)\n",
    "po=ax.plot( ang,sinrdg, '.')\n",
    "po=ax.set_title( 'Sin (ANGLL)' ,fontsize=12, loc='center')"
   ]
  },
  {
   "cell_type": "code",
   "execution_count": null,
   "id": "4d27e3de-9de0-476a-8028-dad6c615d2e3",
   "metadata": {},
   "outputs": [],
   "source": [
    "# Numpy arrays are [nT,nL,ns]\n",
    "# Select columns with MXD>h_crit nS_0=>nS\n",
    "# and restrict to bottom 10-layers\n",
    "# Transpose to [nL,nt,ns_crit]\n",
    "# Then reshape to [nL,nT*ns_crit]\n",
    "u=U.values\n",
    "u=u[:,21:,oo[0][:]]\n",
    "u=np.transpose(u, (1,0,2) )\n",
    "nL,nT,nS=np.shape(u)\n",
    "u=np.reshape( u, (nL,nT*nS ) )/10.\n",
    "\n",
    "v=V.values\n",
    "v=v[:,21:,oo[0][:]]\n",
    "v=np.transpose(v, (1,0,2) )\n",
    "v=np.reshape( v, (nL,nT*nS ) )/10.\n",
    "\n",
    "te=T.values\n",
    "te=te[:,21:,oo[0][:]]\n",
    "te=np.transpose(te, (1,0,2) )\n",
    "te=np.reshape( te, (nL,nT*nS ) )/10.\n",
    "\n",
    "n_bvx = n_bv[:,21:,oo[0][:]]\n",
    "n_bvx=np.transpose(n_bvx, (1,0,2) )\n",
    "n_bvx=np.reshape( n_bvx , (nL,nT*nS ) )*100.\n"
   ]
  },
  {
   "cell_type": "code",
   "execution_count": null,
   "id": "ad4c23cb-fffd-45b4-a592-1155557e62d7",
   "metadata": {},
   "outputs": [],
   "source": [
    "print( np.shape( te ) )\n",
    "print( np.shape( n_bvx ) )"
   ]
  },
  {
   "cell_type": "code",
   "execution_count": null,
   "id": "0ac802eb-13b7-418f-b218-c1dd900c5f1d",
   "metadata": {},
   "outputs": [],
   "source": [
    "utn=Utn.values\n",
    "print(np.shape(utn))\n",
    "plt.plot(utn[100:500,30,:].flatten())"
   ]
  },
  {
   "cell_type": "code",
   "execution_count": null,
   "id": "91c4d74b-fccc-4cdf-9dd1-24f8a9542ce8",
   "metadata": {},
   "outputs": [],
   "source": [
    "# Numpy arrays are [nT,nL,ns]\n",
    "# Select columns with MXD>h_crit ns=>ns_crit\n",
    "# and restrict to bottom 10-layers\n",
    "# Transpose to [nL,nt,ns_crit]\n",
    "# Then reshape to [nL,nT*ns_crit]\n",
    "utn=Utn.values\n",
    "utn=utn[:,21:,oo[0][:]]\n",
    "utn=np.transpose(utn, (1,0,2) )\n",
    "utn=np.reshape( utn, (nL,nT*nS ) )/10.\n",
    "\n",
    "vtn=Vtn.values\n",
    "vtn=vtn[:,21:,oo[0][:]]\n",
    "vtn=np.transpose(vtn, (1,0,2) )\n",
    "vtn=np.reshape( vtn, (nL,nT*nS ) )/10.\n",
    "\n",
    "\n"
   ]
  },
  {
   "cell_type": "code",
   "execution_count": null,
   "id": "c160152c-f415-4f3b-9335-f359e8a09767",
   "metadata": {},
   "outputs": [],
   "source": [
    "sghx=np.zeros([1,nT,nS])\n",
    "mxdx=np.zeros([1,nT,nS])\n",
    "clnx=np.zeros([1,nT,nS])\n",
    "cosrx=np.zeros([1,nT,nS])\n",
    "sinrx=np.zeros([1,nT,nS])\n",
    "for iT in np.arange(nT):\n",
    "    sghx[0,iT,:]=sgh\n",
    "    mxdx[0,iT,:]=mxd\n",
    "    clnx[0,iT,:]=cln\n",
    "    cosrx[0,iT,:]=cosrdg\n",
    "    sinrx[0,iT,:]=sinrdg\n",
    "sghx = np.reshape( sghx, (1,nT*nS ) )/1000.\n",
    "mxdx = np.reshape( mxdx, (1,nT*nS ) )/1000.\n",
    "clnx = np.reshape( clnx, (1,nT*nS ) )/100.\n",
    "# 4x is a better scaling for these than 10x\n",
    "cosrx=np.reshape( cosrx, (1,nT*nS ) )*4.0 #*10.\n",
    "sinrx=np.reshape( sinrx, (1,nT*nS ) )*4.0 #*10."
   ]
  },
  {
   "cell_type": "code",
   "execution_count": null,
   "id": "02e83e09-88b8-4a91-a5fd-8d6a51de15b6",
   "metadata": {},
   "outputs": [],
   "source": [
    "print(np.shape(mxdx))\n",
    "plt.plot(cln.view())"
   ]
  },
  {
   "cell_type": "markdown",
   "id": "529ba2fa-5053-4c5c-a245-84568c04d7eb",
   "metadata": {},
   "source": [
    "## Creating training data (A) and target ('label') data (B)"
   ]
  },
  {
   "cell_type": "code",
   "execution_count": null,
   "id": "28985946-1f20-4e02-a581-329ecd5e7442",
   "metadata": {},
   "outputs": [],
   "source": [
    "#A=np.r_[u,v,mxdx,clnx,cosrx,sinrx]\n",
    "#A=np.r_[u,v] #,sghx]\n",
    "\n",
    "sinrx=sinrx*0.4\n",
    "cosrx=cosrx*0.4\n",
    "\n",
    "A=np.r_[u,v,n_bvx,mxdx,clnx,cosrx,sinrx]\n",
    "B=np.r_[utn,vtn]\n"
   ]
  },
  {
   "cell_type": "code",
   "execution_count": null,
   "id": "2459fcd7-6750-4e5d-8557-9d20154bda11",
   "metadata": {},
   "outputs": [],
   "source": [
    "print(np.shape(A))\n"
   ]
  },
  {
   "cell_type": "code",
   "execution_count": null,
   "id": "1d9422e8-b74f-4ff5-828a-d200894ec572",
   "metadata": {},
   "outputs": [],
   "source": [
    "#A=A[:,0:20000]\n",
    "#B=B[:,0:20000]\n",
    "A=np.transpose(A)\n",
    "B=np.transpose(B)\n",
    "\n",
    "Ashp = np.shape(A)"
   ]
  },
  {
   "cell_type": "code",
   "execution_count": null,
   "id": "98417b38-7715-4d2d-8e28-d3f29bb7fc5e",
   "metadata": {},
   "outputs": [],
   "source": [
    "idxs=np.arange( Ashp[0] )\n",
    "print( np.shape(idxs) )\n",
    "Ridxs = copy.deepcopy(idxs) \n",
    "\n",
    "\n",
    "tic = time.perf_counter()\n",
    "np.random.shuffle(Ridxs)\n",
    "toc = time.perf_counter()\n",
    "ShuffleTime = f\"Shuffled indices in {toc - tic:0.4f} seconds\"\n",
    "\n",
    "print(ShuffleTime)\n",
    "print( np.shape(Ridxs) )\n",
    "\n",
    "#plt.scatter( idxs, Ridxs)"
   ]
  },
  {
   "cell_type": "code",
   "execution_count": null,
   "id": "c98f6593-aa39-483f-95f0-34abc4c6c4b6",
   "metadata": {},
   "outputs": [],
   "source": [
    "A_r = A[ Ridxs, :]\n",
    "B_r = B[ Ridxs, :]\n",
    "#print( Ridxs[10] )\n",
    "#print( A_r[10,:])\n",
    "#print( A[Ridxs[10],:])"
   ]
  },
  {
   "cell_type": "code",
   "execution_count": null,
   "id": "dc3a529d-c105-49eb-8d39-7d91ae4c0720",
   "metadata": {},
   "outputs": [],
   "source": [
    "A_train = A_r[0:788200,:]\n",
    "B_train = B_r[0:788200,:]\n",
    "A_test  = A_r[788201:,:]\n",
    "B_test  = B_r[788201:,:]\n",
    "\n",
    "A_mini = A_r[0:30_000,:]\n",
    "B_mini = B_r[0:30_000,:]\n"
   ]
  },
  {
   "cell_type": "code",
   "execution_count": null,
   "id": "de5f79b0-cc80-4470-b389-b3b56290ce35",
   "metadata": {},
   "outputs": [],
   "source": [
    "forest_reg = RandomForestRegressor(n_estimators=100, random_state=42)"
   ]
  },
  {
   "cell_type": "code",
   "execution_count": null,
   "id": "0996c863-ea07-43d7-a8ec-4acd7c00e689",
   "metadata": {},
   "outputs": [],
   "source": [
    "tic = time.perf_counter()\n",
    "forest_reg.fit(A_mini, B_mini)\n",
    "#forest_reg.fit(A_train, B_train)\n",
    "toc = time.perf_counter()\n",
    "TrainingTime = f\"Trained model in {toc - tic:0.4f} seconds\"\n",
    "print(TrainingTime)"
   ]
  },
  {
   "cell_type": "code",
   "execution_count": null,
   "id": "a0936b5f-0635-402e-8fee-9bfc38623e38",
   "metadata": {},
   "outputs": [],
   "source": [
    "B_pred=forest_reg.predict(A_test)"
   ]
  },
  {
   "cell_type": "code",
   "execution_count": null,
   "id": "c45c4d03-ff47-4024-93b9-1b414b607885",
   "metadata": {},
   "outputs": [],
   "source": [
    "plt.scatter(B_pred.flatten(),B_test.flatten())"
   ]
  },
  {
   "cell_type": "code",
   "execution_count": null,
   "id": "a2373337-8864-4a9c-ad51-6d5ab283fa27",
   "metadata": {},
   "outputs": [],
   "source": [
    "poo = np.corrcoef( x=  B_pred.flatten(), y = B_test.flatten() )\n",
    "print(poo)\n",
    "print(mean_squared_error(  B_pred.flatten(), B_test.flatten() ) )\n"
   ]
  },
  {
   "cell_type": "code",
   "execution_count": null,
   "id": "6fe18f1b-6e78-4eb7-96d6-e7498fe5c175",
   "metadata": {},
   "outputs": [],
   "source": [
    "plt.plot( cosrx.flatten(),'.')"
   ]
  },
  {
   "cell_type": "code",
   "execution_count": null,
   "id": "69d01264-975c-45e1-af68-f22e2a4047c0",
   "metadata": {},
   "outputs": [],
   "source": [
    "# 155_000 rows : Trained model in 562.1953 seconds\n",
    "# 55_000  rows: r=0.59\n",
    "# 155_000 rows: r=0.636\n",
    "\n",
    "\n",
    "\n",
    "#How to save a RandomForest model\n",
    "\n",
    "#import pickle\n",
    "\n",
    "filename = \"random_forest_full.pkl\"\n",
    "\n",
    "# save model\n",
    "#pickle.dump(forest_reg , open(filename, \"wb\"))\n",
    "\n",
    "#\n",
    "# load model\n",
    "#loaded_model = pickle.load(open(filename, \"rb\"))\n",
    "\n",
    "# you can use loaded model to compute predictions\n",
    "#y_predicted = loaded_model.predict(X)\n",
    "\n"
   ]
  },
  {
   "cell_type": "code",
   "execution_count": null,
   "id": "3dafb308-3838-447f-b4b9-695257d1e2b0",
   "metadata": {},
   "outputs": [],
   "source": []
  }
 ],
 "metadata": {
  "kernelspec": {
   "display_name": "NPL 2022b",
   "language": "python",
   "name": "npl-2022b"
  },
  "language_info": {
   "codemirror_mode": {
    "name": "ipython",
    "version": 3
   },
   "file_extension": ".py",
   "mimetype": "text/x-python",
   "name": "python",
   "nbconvert_exporter": "python",
   "pygments_lexer": "ipython3",
   "version": "3.8.13"
  }
 },
 "nbformat": 4,
 "nbformat_minor": 5
}
