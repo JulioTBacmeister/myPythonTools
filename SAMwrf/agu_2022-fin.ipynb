{
 "cells": [
  {
   "cell_type": "markdown",
   "id": "051458d5-615e-4d81-9efe-caaff4e2baf6",
   "metadata": {},
   "source": [
    "# THIS IS A NEW NOTEBOOK to make poster for AGU 2022"
   ]
  },
  {
   "cell_type": "code",
   "execution_count": 1,
   "id": "cd023771-5005-4a0c-8e2f-2b5159dbaa02",
   "metadata": {},
   "outputs": [
    {
     "name": "stderr",
     "output_type": "stream",
     "text": [
      "ERROR 1: PROJ: proj_create_from_database: Open of /glade/u/apps/opt/conda/envs/npl-2022b/share/proj failed\n"
     ]
    }
   ],
   "source": [
    "# Import packages \n",
    "import sys\n",
    "sys.path.append('../Plotting/')\n",
    "\"\"\" Now you can imprt modules in ../Plotting\"\"\"\n",
    "import xyp_plot as xyp\n",
    "\n",
    "import xarray as xr\n",
    "import numpy as np\n",
    "import matplotlib.pyplot as plt\n",
    "import matplotlib as mpl\n",
    "import matplotlib.tri as tri\n",
    "import matplotlib.colors as colors\n",
    "\n",
    "\n",
    "import cartopy\n",
    "import cartopy.crs as ccrs\n",
    "import cartopy.feature as cfeature\n",
    "import ana as a\n",
    "\n",
    "import importlib\n"
   ]
  },
  {
   "cell_type": "markdown",
   "id": "7fe14a09-210b-42c9-9a3b-f57d806bce32",
   "metadata": {},
   "source": [
    "## Set file names, open data sets, read in"
   ]
  },
  {
   "cell_type": "code",
   "execution_count": null,
   "id": "d0fdd0cf-45b3-48f0-afe5-8c160ebdb9bb",
   "metadata": {},
   "outputs": [],
   "source": [
    "# Specify directory for data\n",
    "drct='/glade/p/cesm/amwg_dev/juliob/SAMwrf/Curtains/'\n",
    "tag='ndg04'\n",
    "f4=drct+'SAMwrf_'+tag+'_ML_super_v3.nc'\n",
    "tag='ndg05'\n",
    "f5=drct+'SAMwrf_'+tag+'_ML_super_v3.nc'\n",
    "tag='ndg06'\n",
    "f6=drct+'SAMwrf_'+tag+'_ML_super_v3.nc'\n",
    "tag='ndg04_nov'\n",
    "f4n=drct+'SAMwrf_'+tag+'_ML_super_v3.nc'\n",
    "\n",
    "\n",
    "d4=xr.open_dataset( f4 )\n",
    "d5=xr.open_dataset( f5 )\n",
    "d6=xr.open_dataset( f6 )\n",
    "d4n=xr.open_dataset( f4n )\n",
    "\n",
    "lev=d4['lev']\n",
    "lon=d4['lon']\n",
    "lat=d4['lat']\n",
    "\n",
    "#print(list(d4))"
   ]
  },
  {
   "cell_type": "markdown",
   "id": "34548ea6-3a64-4e80-baed-b7cda76803d7",
   "metadata": {},
   "source": [
    "## Calculate correlations between UTN and UTGW, and intrpolate onto regular lat lon grid"
   ]
  },
  {
   "cell_type": "code",
   "execution_count": null,
   "id": "25ec19a3-a5d4-47ad-bd1f-d1247cf5f568",
   "metadata": {},
   "outputs": [],
   "source": [
    "utn4=d4['UTEND_NDG']*86400.\n",
    "utn4n=d4n['UTEND_NDG']*86400.\n",
    "utgw5=d5['UTEND_GWDTOT']*86400.\n",
    "utgw6=d6['UTEND_GWDTOT']*86400.\n",
    "vtn4=d4['VTEND_NDG']*86400.\n",
    "vtgw5=d5['VTEND_GWDTOT']*86400.\n",
    "vtgw6=d6['VTEND_GWDTOT']*86400.\n",
    "\n",
    "#means\n",
    "gutn=np.mean(utn4,axis=0)\n",
    "gutnn=np.mean(utn4n,axis=0)\n",
    "gvtn=np.mean(vtn4,axis=0)\n",
    "gutgw=np.mean(utgw5,axis=0)\n",
    "gvtgw=np.mean(vtgw5,axis=0)\n",
    "gutgwi=np.mean(utgw6,axis=0)\n",
    "gvtgwi=np.mean(vtgw6,axis=0)\n",
    "gutnx,xlon,xlat= a.c_o_xy(idata=gutn,lon=lon,lat=lat,dx=0.25,dy=0.25)\n",
    "gutgwx,xlon,xlat= a.c_o_xy(idata=gutgw,lon=lon,lat=lat,dx=0.25,dy=0.25)\n",
    "\n",
    "gutnnx,xlon,xlat= a.c_o_xy(idata=gutnn,lon=lon,lat=lat,dx=0.25,dy=0.25)\n",
    "\n",
    "#std's\n",
    "vutn=np.std(utn4,axis=0)\n",
    "vutgw=np.std(utgw5,axis=0)\n",
    "vutnx,xlon,xlat= a.c_o_xy(idata=vutn,lon=lon,lat=lat,dx=0.25,dy=0.25)\n",
    "vutgwx,xlon,xlat= a.c_o_xy(idata=vutgw,lon=lon,lat=lat,dx=0.25,dy=0.25)\n",
    "\n",
    "#calculate 3D pressure for later use\n",
    "ps=d4['PS']\n",
    "hyam=d4['hyam']\n",
    "hybm=d4['hybm']\n",
    "plev=d4['lev']\n",
    "\n",
    "gps=np.average( ps, axis=0 )\n",
    "ghya=np.average( hyam , axis=0 )\n",
    "ghyb=np.average( hybm , axis=0 )\n",
    "p3=a.press(PS=gps,hybm=ghyb,hyam=ghya )\n",
    "p3x,xlon,xlat= a.c_o_xy(idata=p3,lon=lon,lat=lat,dx=0.25,dy=0.25)\n"
   ]
  },
  {
   "cell_type": "code",
   "execution_count": null,
   "id": "d98957f6-40d8-40f0-a67e-fe24a97811a2",
   "metadata": {},
   "outputs": [],
   "source": [
    "clevs=np.linspace(-20.,20.,num=41)\n",
    "print(clevs)\n",
    "cmap = plt.cm.bwr\n",
    "fig = plt.figure(figsize=(20, 9))\n",
    "levs=[29,26,20,10]\n",
    "ipoo=0\n",
    "#gutnx=gutnnx\n",
    "for L in levs:\n",
    "    ipoo=ipoo+1\n",
    "    \n",
    "    ax1 = fig.add_subplot(2, 4, ipoo , projection=ccrs.PlateCarree(central_longitude=0))\n",
    "    cf = ax1.contourf(xlon, xlat, gutnx[L,:,:],  levels=clevs, cmap=cmap  , transform=ccrs.PlateCarree())\n",
    "    #titl='$\\eta$='+str(np.float(plev[L]/1000.))\n",
    "    titl='$\\eta$='+f\"{np.float(plev[L]/1000.):.2f}\"\n",
    "\n",
    "    ax1.coastlines(resolution='110m')\n",
    "    \n",
    "    gl=ax1.gridlines(linestyle=':', color='black',draw_labels=True)  #, ylabels_right=None)\n",
    "    gl.ylabels_right=False\n",
    "    gl.xlabels_top=False\n",
    "    \n",
    "    ax1.set_title( titl ,fontsize=12, loc='center')\n",
    "    plt.colorbar(cf , ax=ax1 , shrink=0.8,label='$\\mathregular{m~s^{-1}d^{-1}}$')\n",
    "\n",
    "for L in levs:\n",
    "    ipoo=ipoo+1\n",
    "    \n",
    "    ax1 = fig.add_subplot(2, 4, ipoo , projection=ccrs.PlateCarree(central_longitude=0))\n",
    "    cf = ax1.contourf(xlon, xlat, gutnnx[L,:,:],  levels=clevs, cmap=cmap  , transform=ccrs.PlateCarree())\n",
    "    #titl='$\\eta$='+str(np.float(plev[L]/1000.))\n",
    "    titl='$\\eta$='+f\"{np.float(plev[L]/1000.):.2f}\"\n",
    "\n",
    "    ax1.coastlines(resolution='110m')\n",
    "    \n",
    "    gl=ax1.gridlines(linestyle=':', color='black',draw_labels=True)  #, ylabels_right=None)\n",
    "    gl.ylabels_right=False\n",
    "    gl.xlabels_top=False\n",
    "    \n",
    "    ax1.set_title( titl ,fontsize=12, loc='center')\n",
    "    plt.colorbar(cf , ax=ax1 , shrink=0.8,label='$\\mathregular{m~s^{-1}d^{-1}}$')\n"
   ]
  },
  {
   "cell_type": "code",
   "execution_count": null,
   "id": "450c9a35-d274-4ad5-b6c2-cfceaf75a7ba",
   "metadata": {},
   "outputs": [],
   "source": [
    "#importlib.reload(xyp)\n",
    "clevs=np.linspace(-20.,20.,num=41)\n",
    "z3x=-7.*np.log(p3x/100_000.)\n",
    "#xyp.pltxp(gutnx,p3x, xlon[0,:],lats=xlat[:,0],  zlim=[100000.,0.],lat0=-30.)\n",
    "#plt.contourf(gutnx[:,120,:])\n",
    "#plt.colorbar()\n",
    "print(clevs)\n",
    "xyp.pltxp(gutnx,z3x, xlon[0,:],lats=xlat[:,0],  zlim=[0.,30.],lat0=-30.,xlim=[280.,300.],clevs=clevs)\n",
    "plt.title(\"Section at 30S\")\n",
    "plt.xlabel(\"Longitude\")\n",
    "plt.ylabel(\"Z(km)\")"
   ]
  },
  {
   "cell_type": "code",
   "execution_count": null,
   "id": "2f544411-0047-46ef-9788-a2dcf7a026db",
   "metadata": {},
   "outputs": [],
   "source": [
    "#r45,lev,lat,lon = a.corr_utn_utgw(f4,f5)\n",
    "#r46,lev,lat,lon = a.corr_utn_utgw(f4,f6)\n",
    "r45 = a.corr_utn_utgw(f4,f5)\n",
    "r46 = a.corr_utn_utgw(f4,f6)\n",
    "\n",
    "\"\"\" Interpolate to regular 0.25x0.25 grid \"\"\"\n",
    "r45x,xlon,xlat= a.c_o_xy(idata=r45,lon=lon,lat=lat,dx=0.25,dy=0.25)\n",
    "r46x,xlon,xlat= a.c_o_xy(idata=r46,lon=lon,lat=lat,dx=0.25,dy=0.25)"
   ]
  },
  {
   "cell_type": "code",
   "execution_count": null,
   "id": "d824e4b4-1136-41ff-8a3e-84b40318dca0",
   "metadata": {},
   "outputs": [],
   "source": [
    "clevs=np.linspace(-1.,1.,num=41)\n",
    "print(clevs)\n",
    "cmap = plt.cm.bwr\n",
    "fig = plt.figure(figsize=(20, 9))\n",
    "ipoo=0\n",
    "\n",
    "levs=[29,26,20,10]\n",
    "ipoo=0\n",
    "#gutnx=gutnnx\n",
    "for L in levs:\n",
    "    ipoo=ipoo+1\n",
    "    \n",
    "    ax1 = fig.add_subplot(2, 4, ipoo , projection=ccrs.PlateCarree(central_longitude=0))\n",
    "    cf = ax1.contourf(xlon, xlat, r45x[L,:,:],  levels=clevs, cmap=cmap  , transform=ccrs.PlateCarree())\n",
    "    #titl='$\\eta$='+str(np.float(plev[L]/1000.))\n",
    "    titl='$\\eta$='+f\"{np.float(plev[L]/1000.):.2f}\"\n",
    "\n",
    "    ax1.coastlines(resolution='110m')\n",
    "    \n",
    "    gl=ax1.gridlines(linestyle=':', color='black',draw_labels=True)  #, ylabels_right=None)\n",
    "    gl.ylabels_right=False\n",
    "    gl.xlabels_top=False\n",
    "    \n",
    "    ax1.set_title( titl ,fontsize=12, loc='center')\n",
    "    if (ipoo==4):\n",
    "        plt.colorbar(cf , ax=ax1 , shrink=0.8,label='$correlation$')\n",
    "    else:\n",
    "        plt.colorbar(cf , ax=ax1 , shrink=0.8)\n"
   ]
  },
  {
   "cell_type": "code",
   "execution_count": null,
   "id": "d3aa683a-6ccd-4359-8a9b-02252ccf2750",
   "metadata": {},
   "outputs": [],
   "source": [
    "fig=plt.figure(figsize=(15,15))\n",
    "ax = plt.axes(projection=ccrs.PlateCarree(central_longitude=0))\n",
    "\n",
    "ax.add_feature(cartopy.feature.OCEAN, zorder=0)\n",
    "ax.add_feature(cartopy.feature.LAND, zorder=0, edgecolor='black')\n",
    "\n",
    "ax.set_global()\n",
    "ax.gridlines()\n",
    "plt.xlim(-90,-30)\n",
    "plt.ylim(-55,10)\n",
    "L=25\n",
    "ax.quiver(lon, lat, gutn[L,:],gvtn[L,:] )  #, transform=vector_crs)\n",
    "ax.quiver(lon, lat, gutgw[L,:],gvtgw[L,:],scale=250.1 ,color='red')  #, transform=vector_crs)\n",
    "#ax.quiver(lon, lat, gutgwi[L,:],gvtgwi[L,:] ,scale=50,color='green')  #, transform=vector_crs)\n",
    "\n"
   ]
  },
  {
   "cell_type": "code",
   "execution_count": null,
   "id": "1ccd3362-bf88-45aa-b37f-7001dfc25334",
   "metadata": {},
   "outputs": [],
   "source": [
    "\n",
    "fig2 = plt.figure(figsize=(20, 9))\n",
    "ipoo=0\n",
    "for L in levs:\n",
    "    ipoo=ipoo+1\n",
    "    \n",
    "    ax1 = fig2.add_subplot(2, 4, ipoo , projection=ccrs.PlateCarree(central_longitude=0))\n",
    "    cf = ax1.contourf(xlon, xlat, r46x[L,:],  levels=clevs, cmap=cmap  , transform=ccrs.PlateCarree())\n",
    "\n",
    "    ax1.coastlines(resolution='110m')\n",
    "    ax1.gridlines(linestyle=':', color='black')\n",
    "    ax1.set_title(\"Plot using pcolormesh\",fontsize=12, loc='center')\n",
    "    plt.colorbar(cf , ax=ax1 , shrink=0.8)\n"
   ]
  },
  {
   "cell_type": "code",
   "execution_count": null,
   "id": "e9eb6c48-31c8-4d95-9d45-c06eb3edf617",
   "metadata": {},
   "outputs": [],
   "source": []
  },
  {
   "cell_type": "code",
   "execution_count": null,
   "id": "eb77c490-4962-422f-add3-6908dc1991d9",
   "metadata": {},
   "outputs": [],
   "source": [
    "print(np.shape(d5['hybi']))\n",
    "\n",
    "\n",
    "utn4=d4['UTEND_NDG']*86400.\n",
    "gutn4=np.average( np.abs(utn4), axis=0 )\n",
    "utgw5=d5['UTEND_GWDTOT']*86400.\n",
    "gutgw5=np.average( np.abs(utgw5), axis=0 ) \n",
    "\n",
    "oo=np.where( (gutgw5[28,:]>10.) & (gutn4[28,:]>4))\n",
    "print(np.shape(oo))\n",
    "\n",
    "gutgw5x,xlon,xlat= a.c_o_xy(idata=gutgw5,lon=lon,lat=lat,dx=0.25,dy=0.25)\n"
   ]
  },
  {
   "cell_type": "code",
   "execution_count": null,
   "id": "b4ef74fd-bdf3-4b96-9979-1204ab44f889",
   "metadata": {},
   "outputs": [],
   "source": [
    "plt.plot(r45[29,:])\n",
    "plt.xlim(2440,2450)\n",
    "fig = plt.figure(figsize=(10, 9))\n",
    "\n",
    "ax1 = fig.add_subplot(2, 1, 1 ) # , projection=ccrs.PlateCarree(central_longitude=0))\n",
    "cf = ax1.tricontourf(lon,lat,gutn4[28,:])\n",
    "ax1.plot(lon[oo[0][:]],lat[oo[0][:]],'x',color='white')\n",
    "plt.colorbar(cf,ax=ax1)\n",
    "ax1 = fig.add_subplot(2, 1, 2 ) # , projection=ccrs.PlateCarree(central_longitude=0))\n",
    "cf = ax1.tricontourf(lon,lat,gutgw5[28,:])\n",
    "plt.colorbar(cf,ax=ax1)\n"
   ]
  },
  {
   "cell_type": "markdown",
   "id": "34bc0d6f-1a66-4838-8f7b-7aa9bdcc6611",
   "metadata": {},
   "source": [
    "## 2D histograms of high-freq UTN vs UTGW"
   ]
  },
  {
   "cell_type": "code",
   "execution_count": null,
   "id": "4969ba92-cf07-4a02-a2db-c14a11a7c028",
   "metadata": {},
   "outputs": [],
   "source": [
    "fig = plt.figure(figsize=(18, 9))\n",
    "\n",
    "y=d5['UTEND_GWDTOT'][0:,27:,:].values *86400. \n",
    "x=d4['UTEND_NDG'][0:,27:,:].values *86400.\n",
    "h2u=np.histogram2d(x.flatten(), y.flatten() ,bins=50 , range=[[-100.,100.],[-100,100]] )\n",
    "\n",
    "\n",
    "cmap=mpl.colormaps['jet']\n",
    "#cmap=cm.jet\n",
    "clevs=[1,3,5,10,30,50,100,300,500,1000,3000,5000 ] #np.logspace(0,3)\n",
    "\n",
    "ax = fig.add_subplot(1, 2, 1 ) # , projection=ccrs.PlateCarree(central_longitude=0))\n",
    "\n",
    "ax.set_aspect('equal','box')\n",
    "\n",
    "\n",
    "cf = ax.contourf(h2u[1][1:],h2u[2][1:],h2u[0],levels=clevs,cmap=cmap,norm=colors.LogNorm())\n",
    "plt.colorbar(cf,ax=ax,shrink=0.6)\n",
    "plt.xlabel(\"$\\partial_t U_{OGW}$\",fontsize=20)\n",
    "plt.ylabel(\"$\\partial_t U_{nudging}$\",fontsize=20)\n",
    "\n",
    "\"\"\"\n",
    "y=d5['VTEND_GWDTOT'][0:,27:,:].values *86400. \n",
    "x=d4['VTEND_NDG'][0:,27:,:].values *86400.\n",
    "h2v=np.histogram2d(x.flatten(), y.flatten() ,bins=50 , range=[[-100.,100.],[-100,100]] )\n",
    "\n",
    "ax = fig.add_subplot(1, 2, 2 ) # , projection=ccrs.PlateCarree(central_longitude=0))\n",
    "cf = ax.contourf(h2v[1][1:],h2v[2][1:],h2v[0],levels=clevs,cmap=cmap,norm=colors.LogNorm())\n",
    "ax.set_aspect('equal','box')\n",
    "plt.colorbar(cf,ax=ax,shrink=0.6)\n",
    "\"\"\"\n"
   ]
  },
  {
   "cell_type": "code",
   "execution_count": null,
   "id": "ad60902a-ff51-42b4-84ac-3764097fc015",
   "metadata": {},
   "outputs": [],
   "source": [
    "\n",
    "fig2=plt.figure(figsize=(10, 9))\n",
    "#sca=plt.scatter( gutgw5[28,oo[0][:]],gutn4[28,oo[0][:]])\n",
    "\n",
    "sca=plt.scatter( d5['UTEND_GWDTOT'][:,30,:]*86400. , d4['UTEND_NDG'][:,30,:]*86400. )\n",
    "plt.xlim(-100,100)\n",
    "plt.ylim(-100,100)\n",
    "utn4.shape\n",
    "print(r45[29,2446],gps[2446])\n",
    "#plt.plot(r45[29,:])"
   ]
  },
  {
   "cell_type": "code",
   "execution_count": null,
   "id": "fb1164e4-e940-4779-b63f-56d466b9d091",
   "metadata": {},
   "outputs": [],
   "source": [
    "d4['UTEND_GWDTOT'].shape\n"
   ]
  },
  {
   "cell_type": "code",
   "execution_count": null,
   "id": "7f231719-a11a-4441-96ec-e5d530e4e5fa",
   "metadata": {},
   "outputs": [],
   "source": []
  }
 ],
 "metadata": {
  "kernelspec": {
   "display_name": "NPL 2022b",
   "language": "python",
   "name": "npl-2022b"
  },
  "language_info": {
   "codemirror_mode": {
    "name": "ipython",
    "version": 3
   },
   "file_extension": ".py",
   "mimetype": "text/x-python",
   "name": "python",
   "nbconvert_exporter": "python",
   "pygments_lexer": "ipython3",
   "version": "3.8.13"
  }
 },
 "nbformat": 4,
 "nbformat_minor": 5
}
