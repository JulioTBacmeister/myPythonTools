{
 "cells": [
  {
   "cell_type": "markdown",
   "id": "be59ff1d-8064-4dc8-b281-0fac06233e3a",
   "metadata": {},
   "source": [
    "## Import the packages"
   ]
  },
  {
   "cell_type": "code",
   "execution_count": null,
   "id": "2699b96d-8d49-4d5f-a708-c090ffa76949",
   "metadata": {},
   "outputs": [],
   "source": [
    "# Import packages \n",
    "import xarray as xr\n",
    "import numpy as np\n",
    "import matplotlib.pyplot as plt\n",
    "import matplotlib as mpl\n",
    "import cartopy\n",
    "import cartopy.crs as ccrs\n",
    "import cartopy.feature as cfeature"
   ]
  },
  {
   "cell_type": "markdown",
   "id": "95425b2f-8455-4a70-9676-0187e2d3da54",
   "metadata": {},
   "source": [
    "## read Julio files and select the level \"ilev\"\n",
    "\n",
    "Julio wanted to use ilev = 29\n",
    "\n",
    "``this is a quote``"
   ]
  },
  {
   "cell_type": "code",
   "execution_count": null,
   "id": "53cf5d44-d6c7-461f-8265-5fb817f5db13",
   "metadata": {},
   "outputs": [],
   "source": [
    "# read files at one level ilev\n",
    "ilev = 29\n",
    "indir='/glade/work/juliob/myPythonTools/SAMwrf/'\n",
    "infile=indir+'SAMwrf_latlon_timeavg_CORR_UTN_UTGW.nc'\n",
    "ds = xr.open_dataset(infile)\n",
    "var = ds.CORR_UTN_UTGW.isel(lev=ilev)"
   ]
  },
  {
   "cell_type": "markdown",
   "id": "177578ed-9f82-4b4c-9660-b5621068d666",
   "metadata": {},
   "source": [
    "## First quick plot \n",
    "We save the plot in a png file but it can also be copied from the notebook directly and copied in a powerpoint or in an email. Convenient beyond png..."
   ]
  },
  {
   "cell_type": "code",
   "execution_count": null,
   "id": "4cf8b638-5525-47f3-ab42-5a471e8b32d6",
   "metadata": {},
   "outputs": [],
   "source": [
    "# quick plot \n",
    "clevs=np.linspace(-1.,1.,num=41)\n",
    "print(clevs)\n",
    "cmap = plt.cm.bwr\n",
    "fig = plt.figure(figsize=(12, 9))\n",
    "ax1 = fig.add_subplot(2, 1, 1, projection=ccrs.PlateCarree(central_longitude=0))\n",
    "#cf = ax1.pcolormesh(var.lon, var.lat, var, cmap=plt.cm.jet, transform=ccrs.PlateCarree())\n",
    "#cf = ax1.contourf(var.lon, var.lat, var,  levels=clevs, cmap=cmap, transform=ccrs.PlateCarree())\n",
    "cf = ax1.pcolormesh(var.lon, var.lat, var, cmap=cmap,  norm=mpl.colors.BoundaryNorm(clevs, ncolors=cmap.N), transform=ccrs.PlateCarree())\n",
    "ax1.coastlines(resolution='110m')\n",
    "ax1.gridlines(linestyle=':', color='black')\n",
    "plt.colorbar(cf)\n",
    "\n",
    "ax1 = fig.add_subplot(2, 1, 2, projection=ccrs.PlateCarree(central_longitude=0))\n",
    "#cf = ax1.pcolormesh(var.lon, var.lat, var, cmap=plt.cm.jet, transform=ccrs.PlateCarree())\n",
    "cf = ax1.contourf(var.lon, var.lat, var,  levels=clevs, cmap=cmap, transform=ccrs.PlateCarree())\n",
    "#cf = ax1.pcolormesh(var.lon, var.lat, var, cmap=cmap,  norm=mpl.colors.BoundaryNorm(clevs, ncolors=cmap.N), transform=ccrs.PlateCarree())\n",
    "ax1.coastlines(resolution='110m')\n",
    "ax1.gridlines(linestyle=':', color='black')\n",
    "plt.colorbar(cf)\n",
    "\n",
    "plt.show()\n",
    "# save plot\n",
    "#plt.savefig('/glade/scratch/juliob/CORR_UTN_UTGW.png', dpi=600, facecolor='w', edgecolor='w', orientation='portrait')"
   ]
  },
  {
   "cell_type": "markdown",
   "id": "e6ed2053-b18a-46d8-bb24-c3d9246fe02d",
   "metadata": {},
   "source": [
    "## Vector plot"
   ]
  },
  {
   "cell_type": "code",
   "execution_count": null,
   "id": "3d98d34b-abd4-4b73-95dd-a336a97b339e",
   "metadata": {},
   "outputs": [],
   "source": [
    "shape=(20,30)\n",
    "crs = ccrs.RotatedPole(pole_longitude=177.5, pole_latitude=37.5)\n",
    "\n",
    "x = np.linspace(311.9, 391.1, shape[1])\n",
    "y = np.linspace(-23.6, 24.8, shape[0])\n",
    "\n",
    "x2d, y2d = np.meshgrid(x, y)\n",
    "u = 10 * (2 * np.cos(2 * np.deg2rad(x2d) + 3 * np.deg2rad(y2d + 30)) ** 2)\n",
    "v = 20 * np.cos(6 * np.deg2rad(x2d))\n",
    "\n",
    "fig = plt.figure(figsize=(12, 9))\n",
    "\n",
    "ax = plt.axes(projection=ccrs.Orthographic(-10, 45))\n",
    "\n",
    "#ax.add_feature(cartopy.feature.OCEAN, zorder=0)\n",
    "ax.add_feature(cartopy.feature.LAND, zorder=0, edgecolor='black')\n",
    "\n",
    "ax.set_global()\n",
    "ax.gridlines()\n",
    "\n",
    "ax.quiver(x, y, u, v, transform=crs)\n",
    "\n",
    "plt.show()\n",
    "\n"
   ]
  },
  {
   "cell_type": "code",
   "execution_count": null,
   "id": "38b5177f-b431-4303-922b-23c6e463c8e5",
   "metadata": {},
   "outputs": [],
   "source": [
    "# specific contour levels \n",
    "[cmin, cmax, dcontour] = [-1., 1.1, 0.1] \n",
    "clevs = np.arange(cmin, cmax, dcontour)\n",
    "\n",
    "clevs=np.linspace(-1.,1.,num=21)\n",
    "# cmap\n",
    "cmap = plt.cm.bwr\n",
    "\n",
    "fig = plt.figure(figsize=(12, 9))\n",
    "ax1 = fig.add_subplot(1, 2, 1, projection=ccrs.PlateCarree(central_longitude=0))\n",
    "cf = ax1.contourf(var.lon, var.lat, var, levels=clevs, cmap=cmap, transform=ccrs.PlateCarree())\n",
    "ax1.coastlines(resolution='110m')\n",
    "ax1.gridlines(linestyle=':', color='black')\n",
    "ax1.set_title(\"Plot using contourf\",fontsize=12, loc='center')\n",
    "plt.colorbar(cf,  shrink=0.4)\n",
    "\n",
    "cmap = plt.cm.PiYG\n",
    "\n",
    "ax1 = fig.add_subplot(1, 2, 2, projection=ccrs.PlateCarree(central_longitude=0))\n",
    "cf = ax1.pcolormesh(var.lon, var.lat, var, cmap=cmap,  norm=mpl.colors.BoundaryNorm(clevs, ncolors=cmap.N), transform=ccrs.PlateCarree())\n",
    "ax1.coastlines(resolution='110m')\n",
    "ax1.gridlines(linestyle=':', color='black')\n",
    "ax1.set_title(\"Plot using pcolormesh\",fontsize=12, loc='center')\n",
    "plt.colorbar(cf,  shrink=0.4)\n",
    "\n",
    "\n",
    "# save plot\n",
    "#plt.savefig('/glade/scratch/hannay/CORR_UTN_UTGW.png', dpi=600, facecolor='w', edgecolor='w', orientation='portrait')"
   ]
  },
  {
   "cell_type": "code",
   "execution_count": null,
   "id": "8f63396a-de24-420e-9b2a-8d2ff99a2afb",
   "metadata": {},
   "outputs": [],
   "source": [
    "# specific contour levels \n",
    "[cmin, cmax, dcontour] = [-1., 1.1, 0.1] \n",
    "clevs = np.arange(cmin, cmax, dcontour)\n",
    "\n",
    "# cmap\n",
    "cmap = plt.cm.bwr\n",
    "\n",
    "fig = plt.figure(figsize=(12, 9))\n",
    "ax1 = fig.add_subplot(1, 2, 1, projection=ccrs.PlateCarree(central_longitude=0))\n",
    "cf = ax1.contourf(var.lon, var.lat, var,  clevs, cmap=cmap, transform=ccrs.PlateCarree())\n",
    "ax1.coastlines(resolution='110m')\n",
    "ax1.gridlines(linestyle=':', color='black')\n",
    "ax1.set_title(\"Plot using contourf\",fontsize=12, loc='center')\n",
    "plt.colorbar(cf,  shrink=0.4)\n",
    "\n",
    "cmap = plt.cm.PiYG\n",
    "\n",
    "ax1 = fig.add_subplot(1, 2, 2, projection=ccrs.PlateCarree(central_longitude=0))\n",
    "cf = ax1.pcolormesh(var.lon, var.lat, var, cmap=cmap,  norm=mpl.colors.BoundaryNorm(clevs, ncolors=cmap.N), transform=ccrs.PlateCarree())\n",
    "ax1.coastlines(resolution='110m')\n",
    "ax1.gridlines(linestyle=':', color='black')\n",
    "ax1.set_title(\"Plot using pcolormesh\",fontsize=12, loc='center')\n",
    "plt.colorbar(cf,  shrink=0.4)\n",
    "\n",
    "\n",
    "# save plot\n",
    "plt.savefig('/glade/scratch/hannay/CORR_UTN_UTGW.png', dpi=600, facecolor='w', edgecolor='w', orientation='portrait')"
   ]
  },
  {
   "cell_type": "code",
   "execution_count": null,
   "id": "bab6fb3f-7fa5-4256-abb7-4c4b221203f5",
   "metadata": {},
   "outputs": [],
   "source": [
    "# specific contour levels \n",
    "[cmin, cmax, dcontour] = [-1., 1.1, 0.1] \n",
    "clevs = np.arange(cmin, cmax, dcontour)\n",
    "\n",
    "# cmap\n",
    "cmap = plt.cm.bwr\n",
    "\n",
    "fig = plt.figure(figsize=(12, 9))\n",
    "ax1 = fig.add_subplot(1, 2, 1, projection=ccrs.PlateCarree(central_longitude=0))\n",
    "cf = ax1.contourf(var.lon, var.lat, var,  clevs, cmap=cmap, transform=ccrs.PlateCarree())\n",
    "ax1.coastlines(resolution='110m')\n",
    "ax1.gridlines(linestyle=':', color='black')\n",
    "ax1.set_title(\"Plot using contourf\",fontsize=12, loc='center')\n",
    "plt.colorbar(cf,  shrink=0.4)\n",
    "\n",
    "cmap = plt.cm.PiYG\n",
    "\n",
    "ax1 = fig.add_subplot(1, 2, 2, projection=ccrs.PlateCarree(central_longitude=0))\n",
    "cf = ax1.pcolormesh(var.lon, var.lat, var, cmap=cmap,  norm=mpl.colors.BoundaryNorm(clevs, ncolors=cmap.N), transform=ccrs.PlateCarree())\n",
    "ax1.coastlines(resolution='110m')\n",
    "ax1.gridlines(linestyle=':', color='black')\n",
    "ax1.set_title(\"Plot using pcolormesh\",fontsize=12, loc='center')\n",
    "plt.colorbar(cf,  shrink=0.4)\n",
    "\n",
    "\n",
    "# save plot\n",
    "plt.savefig('/glade/scratch/hannay/CORR_UTN_UTGW.png', dpi=600, facecolor='w', edgecolor='w', orientation='portrait')"
   ]
  },
  {
   "cell_type": "markdown",
   "id": "f5504892-8572-4418-b830-5e252de823d0",
   "metadata": {},
   "source": [
    "## Make the plot global\n",
    "\n",
    "I am just playing around to show the option"
   ]
  },
  {
   "cell_type": "code",
   "execution_count": null,
   "id": "c2154fe3-1bd4-4a0b-a8dd-d0b6e0b83bbf",
   "metadata": {},
   "outputs": [],
   "source": [
    "# Let's let at the plot in a global map for fun \n",
    "fig = plt.figure(figsize=(10, 10))\n",
    "ax1 = fig.add_subplot(1, 1, 1, projection=ccrs.PlateCarree(central_longitude=0))\n",
    "cf = ax1.pcolormesh(var.lon, var.lat, var, cmap=plt.cm.jet, transform=ccrs.PlateCarree())\n",
    "ax1.coastlines(resolution='110m')\n",
    "ax1.gridlines(linestyle=':', color='black')\n",
    "ax1.set_global()\n",
    "plt.colorbar(cf, shrink=0.5)\n",
    "\n",
    "# save plot\n",
    "plt.savefig('/glade/scratch/juliob/CORR_UTN_UTGW.png', dpi=600, facecolor='w', edgecolor='w', orientation='portrait')"
   ]
  },
  {
   "cell_type": "markdown",
   "id": "614b97d3-1a26-4d8b-8602-096412a01bc3",
   "metadata": {},
   "source": [
    "## Subplots and different projections\n",
    "\n",
    "Here is to demonstrate how to add several subplots. \n",
    "\n",
    "I am also doing different projections. There are more. "
   ]
  },
  {
   "cell_type": "code",
   "execution_count": null,
   "id": "648391e1-616f-43bd-aa01-378769c14a6c",
   "metadata": {},
   "outputs": [],
   "source": [
    "\n",
    "fig = plt.figure(figsize=(10, 10))\n",
    "\n",
    "ax1 = fig.add_subplot(2, 2, 1, projection=ccrs.PlateCarree(central_longitude=0))\n",
    "cf = ax1.pcolormesh(var.lon, var.lat, var, cmap=plt.cm.jet, transform=ccrs.PlateCarree())\n",
    "ax1.coastlines(resolution='110m')\n",
    "ax1.gridlines(linestyle=':', color='black')\n",
    "plt.colorbar(cf, shrink=0.5)\n",
    "ax1.set_global()\n",
    "\n",
    "ax2 = fig.add_subplot(2, 2, 2, projection=ccrs.Robinson(central_longitude=0))\n",
    "cf = ax2.pcolormesh(var.lon, var.lat, var, cmap=plt.cm.jet, transform=ccrs.PlateCarree())\n",
    "ax2.coastlines(resolution='110m')\n",
    "ax2.gridlines(linestyle=':', color='black')\n",
    "plt.colorbar(cf, shrink=0.5)\n",
    "ax2.set_global()\n",
    "\n",
    "ax2 = fig.add_subplot(2, 2, 3, projection=ccrs.Robinson(central_longitude=-60))\n",
    "cf = ax2.pcolormesh(var.lon, var.lat, var, cmap=plt.cm.jet, transform=ccrs.PlateCarree())\n",
    "ax2.coastlines(resolution='110m')\n",
    "ax2.gridlines(linestyle=':', color='black')\n",
    "plt.colorbar(cf, shrink=0.5)\n",
    "ax2.set_global()\n",
    "\n",
    "\n",
    "# save plot\n",
    "plt.savefig('/glade/scratch/juliob/CORR_UTN_UTGW-2.png', dpi=600, facecolor='w', edgecolor='w', orientation='portrait')"
   ]
  },
  {
   "cell_type": "markdown",
   "id": "4f4137c3-5c9f-4e32-a7ab-779faa09c345",
   "metadata": {},
   "source": [
    "## Colormaps \n",
    "\n",
    "Many examples of can be find here (https://matplotlib.org/stable/tutorials/colors/colormaps.html)"
   ]
  },
  {
   "cell_type": "code",
   "execution_count": null,
   "id": "f9327a34-3253-408f-8ca5-bec503ab9f65",
   "metadata": {},
   "outputs": [],
   "source": [
    "# change the colormap \n",
    "# remove the grid lines\n",
    "\n",
    "cmap = plt.cm.bwr\n",
    "\n",
    "fig = plt.figure(figsize=(12, 9))\n",
    "ax1 = fig.add_subplot(1, 1, 1, projection=ccrs.PlateCarree(central_longitude=0))\n",
    "cf = ax1.pcolormesh(var.lon, var.lat, var, cmap=cmap, transform=ccrs.PlateCarree())\n",
    "ax1.coastlines(resolution='110m')\n",
    "#ax1.gridlines(linestyle=':', color='black')\n",
    "plt.colorbar(cf)\n",
    "\n",
    "# save plot\n",
    "plt.savefig('/glade/scratch/juliob/CORR_UTN_UTGW.png', dpi=600, facecolor='w', edgecolor='w', \n",
    "            orientation='portrait')"
   ]
  },
  {
   "cell_type": "code",
   "execution_count": null,
   "id": "31b09990-6052-436b-b4f3-7eaba3033a32",
   "metadata": {},
   "outputs": [],
   "source": [
    "# more color maps\n",
    "\n",
    "fig = plt.figure(figsize=(12, 9))\n",
    "\n",
    "cmap = plt.cm.tab20c\n",
    "ax1 = fig.add_subplot(2, 2, 1, projection=ccrs.PlateCarree(central_longitude=0))\n",
    "cf = ax1.pcolormesh(var.lon, var.lat, var, cmap=cmap, transform=ccrs.PlateCarree())\n",
    "ax1.coastlines(resolution='110m')\n",
    "ax1.gridlines(linestyle=':', color='black')\n",
    "plt.colorbar(cf)\n",
    "\n",
    "cmap = plt.cm.inferno  \n",
    "ax1 = fig.add_subplot(2, 2, 2, projection=ccrs.PlateCarree(central_longitude=0))\n",
    "cf = ax1.pcolormesh(var.lon, var.lat, var, cmap=cmap, transform=ccrs.PlateCarree())\n",
    "ax1.coastlines(resolution='110m')\n",
    "ax1.gridlines(linestyle=':', color='black')\n",
    "plt.colorbar(cf)\n",
    "\n",
    "cmap = plt.cm.gist_earth\n",
    "ax1 = fig.add_subplot(2, 2, 3, projection=ccrs.PlateCarree(central_longitude=0))\n",
    "cf = ax1.pcolormesh(var.lon, var.lat, var, cmap=cmap, transform=ccrs.PlateCarree())\n",
    "ax1.coastlines(resolution='110m')\n",
    "ax1.gridlines(linestyle=':', color='black')\n",
    "plt.colorbar(cf)\n",
    "\n",
    "cmap = plt.cm.YlOrRd   \n",
    "ax1 = fig.add_subplot(2, 2, 4, projection=ccrs.PlateCarree(central_longitude=0))\n",
    "cf = ax1.pcolormesh(var.lon, var.lat, var, cmap=cmap, transform=ccrs.PlateCarree())\n",
    "ax1.coastlines(resolution='110m')\n",
    "ax1.gridlines(linestyle=':', color='black')\n",
    "plt.colorbar(cf)\n",
    "\n",
    "\n",
    "# save plot\n",
    "plt.savefig('/glade/scratch/hannay/CORR_UTN_UTGW.png', dpi=600, facecolor='w', edgecolor='w', \n",
    "            orientation='portrait')"
   ]
  },
  {
   "cell_type": "markdown",
   "id": "aca1f3df-bc41-426e-94d8-87926684e465",
   "metadata": {},
   "source": []
  },
  {
   "cell_type": "markdown",
   "id": "11322add-9fe2-4bb9-8721-30d714579899",
   "metadata": {},
   "source": [
    "## use contourf versus mesh + shrinking of colorbar\n",
    "\n",
    "I don't understand well teh differences yet but sometimes you cannot use mesh if you turned you xarray into array"
   ]
  },
  {
   "cell_type": "code",
   "execution_count": null,
   "id": "7fde8c0a-01c1-47a1-8810-f9018c2e9987",
   "metadata": {},
   "outputs": [],
   "source": [
    "# use contourf instead of mesh\n",
    "\n",
    "fig = plt.figure(figsize=(12, 9))\n",
    "\n",
    "cmap = plt.cm.gist_earth\n",
    "\n",
    "ax1 = fig.add_subplot(1, 2, 1, projection=ccrs.PlateCarree(central_longitude=0))\n",
    "cf = ax1.contourf(var.lon, var.lat, var, cmap=cmap, transform=ccrs.PlateCarree())\n",
    "ax1.coastlines(resolution='110m')\n",
    "ax1.gridlines(linestyle=':', color='black')\n",
    "plt.colorbar(cf,  shrink=0.6)\n",
    "\n",
    "ax1 = fig.add_subplot(1, 2, 2, projection=ccrs.PlateCarree(central_longitude=0))\n",
    "cf = ax1.pcolormesh(var.lon, var.lat, var, cmap=cmap, transform=ccrs.PlateCarree())\n",
    "ax1.coastlines(resolution='110m')\n",
    "ax1.gridlines(linestyle=':', color='black')\n",
    "plt.colorbar(cf,  shrink=0.4)\n",
    "\n",
    "# save plot\n",
    "plt.savefig('/glade/scratch/hannay/CORR_UTN_UTGW.png', dpi=600, facecolor='w', edgecolor='w', orientation='portrait')"
   ]
  },
  {
   "cell_type": "markdown",
   "id": "348c6cf4-38da-4bb6-a83b-335491968d4a",
   "metadata": {},
   "source": [
    "## zooming + adding a title"
   ]
  },
  {
   "cell_type": "code",
   "execution_count": null,
   "id": "475e19bc-7727-4498-bb12-6651abcc1a38",
   "metadata": {},
   "outputs": [],
   "source": [
    "#  add a title and zoom on a region\n",
    "cmap = plt.cm.tab20c\n",
    "fig = plt.figure(figsize=(12, 9))\n",
    "ax1 = fig.add_subplot(1, 1, 1, projection=ccrs.PlateCarree(central_longitude=0))\n",
    "cf = ax1.contourf(var.lon, var.lat, var, cmap=cmap, transform=ccrs.PlateCarree())\n",
    "ax1.coastlines(resolution='110m')\n",
    "ax1.gridlines(linestyle=':', color='black')\n",
    "ax1.set_title(\"Plot of South America\",fontsize=12, loc='center')\n",
    "ax1.set_xlim(-90,-60)\n",
    "ax1.set_ylim(-60,0)\n",
    "plt.colorbar(cf)\n",
    "\n",
    "# save plot\n",
    "plt.savefig('/glade/scratch/hannay/CORR_UTN_UTGW.png', dpi=600, facecolor='w', edgecolor='w', orientation='portrait')"
   ]
  },
  {
   "cell_type": "markdown",
   "id": "0b5b460c-bd06-4fe3-b994-9428a452914e",
   "metadata": {},
   "source": [
    "## Add specification of contour levels"
   ]
  },
  {
   "cell_type": "code",
   "execution_count": null,
   "id": "dd70a6eb",
   "metadata": {},
   "outputs": [],
   "source": [
    "# specific contour levels \n",
    "[cmin, cmax, dcontour] = [-1., 1.1, 0.1] \n",
    "clevs = np.arange(cmin, cmax, dcontour)\n",
    "\n",
    "# cmap\n",
    "cmap = plt.cm.bwr\n",
    "\n",
    "fig = plt.figure(figsize=(12, 9))\n",
    "ax1 = fig.add_subplot(1, 2, 1, projection=ccrs.PlateCarree(central_longitude=0))\n",
    "cf = ax1.contourf(var.lon, var.lat, var,  clevs, cmap=cmap, transform=ccrs.PlateCarree())\n",
    "ax1.coastlines(resolution='110m')\n",
    "ax1.gridlines(linestyle=':', color='black')\n",
    "ax1.set_title(\"Plot using contourf\",fontsize=12, loc='center')\n",
    "plt.colorbar(cf,  shrink=0.4)\n",
    "\n",
    "cmap = plt.cm.PiYG\n",
    "\n",
    "ax1 = fig.add_subplot(1, 2, 2, projection=ccrs.PlateCarree(central_longitude=0))\n",
    "cf = ax1.pcolormesh(var.lon, var.lat, var, cmap=cmap,  norm=mpl.colors.BoundaryNorm(clevs, ncolors=cmap.N), transform=ccrs.PlateCarree())\n",
    "ax1.coastlines(resolution='110m')\n",
    "ax1.gridlines(linestyle=':', color='black')\n",
    "ax1.set_title(\"Plot using pcolormesh\",fontsize=12, loc='center')\n",
    "plt.colorbar(cf,  shrink=0.4)\n",
    "\n",
    "\n",
    "# save plot\n",
    "plt.savefig('/glade/scratch/hannay/CORR_UTN_UTGW.png', dpi=600, facecolor='w', edgecolor='w', orientation='portrait')"
   ]
  },
  {
   "cell_type": "code",
   "execution_count": null,
   "id": "c54b4e57",
   "metadata": {},
   "outputs": [],
   "source": [
    "# specific contour levels \n",
    "[cmin, cmax, dcontour] = [-1., 1.1, 0.1] \n",
    "clevs = np.arange(cmin, cmax, dcontour)\n",
    "\n",
    "# cmap\n",
    "cmap = plt.cm.bwr\n",
    "\n",
    "fig = plt.figure(figsize=(12, 9))\n",
    "ax1 = fig.add_subplot(1, 2, 1, projection=ccrs.PlateCarree(central_longitude=0))\n",
    "cf = ax1.contourf(var.lon, var.lat, var,  clevs, cmap=cmap, transform=ccrs.PlateCarree())\n",
    "ax1.coastlines(resolution='110m')\n",
    "ax1.gridlines(linestyle=':', color='black')\n",
    "ax1.set_title(\"Plot using contourf\",fontsize=12, loc='center')\n",
    "plt.colorbar(cf,  shrink=0.4)\n",
    "\n",
    "cmap = plt.cm.PiYG\n",
    "\n",
    "ax1 = fig.add_subplot(1, 2, 2, projection=ccrs.PlateCarree(central_longitude=0))\n",
    "cf = ax1.pcolormesh(var.lon, var.lat, var, cmap=cmap,  norm=mpl.colors.BoundaryNorm(clevs, ncolors=cmap.N), transform=ccrs.PlateCarree())\n",
    "ax1.coastlines(resolution='110m')\n",
    "ax1.gridlines(linestyle=':', color='black')\n",
    "ax1.set_title(\"Plot using pcolormesh\",fontsize=12, loc='center')\n",
    "plt.colorbar(cf,  shrink=0.4)\n",
    "\n",
    "\n",
    "# save plot\n",
    "plt.savefig('/glade/scratch/hannay/CORR_UTN_UTGW.png', dpi=600, facecolor='w', edgecolor='w', orientation='portrait')"
   ]
  },
  {
   "cell_type": "markdown",
   "id": "17c8f742-3d88-47f1-8f8c-920ad66fe65b",
   "metadata": {},
   "source": [
    "## Test Cell"
   ]
  },
  {
   "cell_type": "code",
   "execution_count": null,
   "id": "654d0f90-633b-43e7-a21f-3c5adec57e7a",
   "metadata": {},
   "outputs": [],
   "source": [
    "print(\"haahaa\")"
   ]
  },
  {
   "cell_type": "code",
   "execution_count": null,
   "id": "3d3c10b5-96ad-4b5d-a1ab-297bccd587b7",
   "metadata": {},
   "outputs": [],
   "source": []
  }
 ],
 "metadata": {
  "kernelspec": {
   "display_name": "NPL (conda)",
   "language": "python",
   "name": "npl-conda"
  },
  "language_info": {
   "codemirror_mode": {
    "name": "ipython",
    "version": 3
   },
   "file_extension": ".py",
   "mimetype": "text/x-python",
   "name": "python",
   "nbconvert_exporter": "python",
   "pygments_lexer": "ipython3",
   "version": "3.7.12"
  }
 },
 "nbformat": 4,
 "nbformat_minor": 5
}
