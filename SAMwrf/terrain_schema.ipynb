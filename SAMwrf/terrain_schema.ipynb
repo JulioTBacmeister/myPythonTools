{
 "cells": [
  {
   "cell_type": "code",
   "execution_count": null,
   "id": "4092a36a-0927-4f16-9778-2463cab3d47f",
   "metadata": {},
   "outputs": [],
   "source": [
    "# Import packages \n",
    "import sys\n",
    "sys.path.append('../Plotting/')\n",
    "\"\"\" Now you can imprt modules in ../Plotting\"\"\"\n",
    "import xyp_plot as xyp\n",
    "\n",
    "import xarray as xr\n",
    "import numpy as np\n",
    "import matplotlib.pyplot as plt\n",
    "import matplotlib as mpl\n",
    "import matplotlib.tri as tri\n",
    "import matplotlib.colors as colors\n",
    "\n"
   ]
  },
  {
   "cell_type": "code",
   "execution_count": null,
   "id": "aaa69b1b-9473-498f-ba8f-148e187c54de",
   "metadata": {},
   "outputs": [],
   "source": [
    "x=np.linspace(-100.,100.,num=1000)\n",
    "\n",
    "h1=200.*np.exp( -(x/5.)**2 )\n",
    "\n",
    "kernel_size = 100\n",
    "kernel = np.ones(kernel_size) / kernel_size\n",
    "h2 = np.convolve(h1, kernel, mode='same')\n",
    "\n",
    "\n",
    "#plt.plot( h1 )\n",
    "#plt.plot( h2 )\n",
    "\n",
    "zees=np.linspace(1000.,0,num=40)\n",
    "\n",
    "X,Z = np.meshgrid( x, zees )\n",
    "\n",
    "#plt.contour(Z)\n",
    "\n",
    "sig1=Z*0.\n",
    "sig2=Z*0.\n",
    "\n",
    "for L in np.arange(40):\n",
    "    sig1[L,:] = (Z[L,:]-h1)/(1000.-h1)\n",
    "    sig2[L,:] = (Z[L,:]-h2)/(1000.-h2)\n",
    "\n",
    "clevs=np.linspace(0,1,num=11)\n",
    "clevo=np.linspace(0,1,num=10)+0.5\n",
    "    \n",
    "plt.contour(X,Z,sig1,levels=clevs)\n",
    "plt.contour(X,Z,sig2,levels=clevs)\n",
    "#plt.contour(X,Z,sig2,levels=clevo)\n",
    "plt.fill(x,h1)\n",
    "plt.fill(x,h2)\n",
    "plt.ylim(0,1000.)\n",
    "plt.xlim(-100.,100.)"
   ]
  },
  {
   "cell_type": "code",
   "execution_count": null,
   "id": "5e4584f9-0770-4ebc-92e0-ebff889389ab",
   "metadata": {},
   "outputs": [],
   "source": []
  }
 ],
 "metadata": {
  "kernelspec": {
   "display_name": "NPL (conda)",
   "language": "python",
   "name": "npl-conda"
  },
  "language_info": {
   "codemirror_mode": {
    "name": "ipython",
    "version": 3
   },
   "file_extension": ".py",
   "mimetype": "text/x-python",
   "name": "python",
   "nbconvert_exporter": "python",
   "pygments_lexer": "ipython3",
   "version": "3.7.12"
  }
 },
 "nbformat": 4,
 "nbformat_minor": 5
}
