{
 "cells": [
  {
   "cell_type": "code",
   "execution_count": null,
   "id": "311d6318-6c0d-4044-9786-4f97ba84cfb4",
   "metadata": {},
   "outputs": [],
   "source": [
    "################################################\n",
    "# New style \n",
    "################################################\n",
    "import sys\n",
    "import os\n",
    "\n",
    "# Cartopy for pretty maps\n",
    "# Done first because of compatibilty issues\n",
    "# with ESMF\n",
    "import cartopy\n",
    "import cartopy.crs as ccrs\n",
    "import cartopy.feature as cfeature\n",
    "\n",
    "\n",
    "workdir_ = '/glade/work/juliob'\n",
    "if ( workdir_ not in sys.path ):\n",
    "    sys.path.append(workdir_)\n",
    "    print( f\" a path to {workdir_} added in {__name__} \")\n",
    "\n",
    "from myPythonTools.Utils import utils as uti\n",
    "from myPythonTools.Utils import numerical_utils as nuti\n",
    "from myPythonTools.Utils import AveragingUtils as Av\n",
    "from myPythonTools.Utils import validation_data as Val\n",
    "from myPythonTools.Utils import PlotUtil as Pu\n",
    "from myPythonTools.Plotting import LatLonMaps as LL \n",
    "from myPythonTools.CASutils import filter_utils as fu \n",
    "\n",
    "from PyRegridding.Utils import GridUtils as GrU\n",
    "from PyRegridding.Utils import MakePressures as MkP\n",
    "from PyRegridding.Drivers import RegridField as RgF\n",
    "from PyRegridding.Regridder import scripGen\n",
    "\n",
    "\n",
    "# The usual\n",
    "from datetime import date\n",
    "import numpy as np\n",
    "import xarray as xr\n",
    "import pandas as pd\n",
    "import matplotlib.pyplot as plt\n",
    "import matplotlib.tri as tri\n",
    "\n",
    "# Some other useful packages \n",
    "import importlib\n",
    "import copy\n",
    "import time\n",
    "import cftime\n",
    "\n",
    "importlib.reload( uti )\n",
    "importlib.reload( nuti )\n",
    "importlib.reload( Pu )\n",
    "importlib.reload(Av)\n",
    "importlib.reload(Val)\n",
    "#importlib.reload(vAB)\n",
    "importlib.reload(MkP)\n",
    "importlib.reload(RgF)\n",
    "importlib.reload(LL)\n"
   ]
  },
  {
   "cell_type": "code",
   "execution_count": null,
   "id": "2420c45e-34fd-4a60-9a38-125dbaf2afda",
   "metadata": {},
   "outputs": [],
   "source": [
    "fname='/glade/campaign/cgd/amp/juliob/LoonData/loon_GW_momentum_fluxes.csv'"
   ]
  },
  {
   "cell_type": "code",
   "execution_count": null,
   "id": "f2e07cac-39d3-4631-ae9e-613195e6c669",
   "metadata": {},
   "outputs": [],
   "source": [
    "df = pd.read_csv(fname)\n",
    "print(df.head())  "
   ]
  },
  {
   "cell_type": "code",
   "execution_count": null,
   "id": "d3f1bcd5-b2e3-4a98-82d4-bb485216f236",
   "metadata": {},
   "outputs": [],
   "source": [
    "print(df.columns)"
   ]
  },
  {
   "cell_type": "code",
   "execution_count": null,
   "id": "11cee133-961f-4b4c-be5f-0e80a5642d1d",
   "metadata": {},
   "outputs": [],
   "source": [
    "print( df.flight_id[100_000])"
   ]
  },
  {
   "cell_type": "code",
   "execution_count": null,
   "id": "2a68a39d-aeca-4ff8-bfbf-f1847665b4f8",
   "metadata": {},
   "outputs": [],
   "source": [
    "unique_values = df['flight_id'].unique()\n",
    "\n",
    "print(unique_values)  # Display the unique values"
   ]
  },
  {
   "cell_type": "code",
   "execution_count": null,
   "id": "8f4910f3-2c31-4829-9af4-bcec43c96858",
   "metadata": {},
   "outputs": [],
   "source": []
  }
 ],
 "metadata": {
  "kernelspec": {
   "display_name": "NPL 2024b",
   "language": "python",
   "name": "npl-2024b"
  },
  "language_info": {
   "codemirror_mode": {
    "name": "ipython",
    "version": 3
   },
   "file_extension": ".py",
   "mimetype": "text/x-python",
   "name": "python",
   "nbconvert_exporter": "python",
   "pygments_lexer": "ipython3",
   "version": "3.11.9"
  }
 },
 "nbformat": 4,
 "nbformat_minor": 5
}
