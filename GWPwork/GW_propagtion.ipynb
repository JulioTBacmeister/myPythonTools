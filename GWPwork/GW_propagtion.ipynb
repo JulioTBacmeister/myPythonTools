{
 "cells": [
  {
   "cell_type": "code",
   "execution_count": null,
   "id": "9d271227-c053-41bb-b608-994673260d97",
   "metadata": {},
   "outputs": [],
   "source": [
    "#workdir_ = '/glade/work/juliob/'\n",
    "import sys\n",
    "#######################################\n",
    "# Leave this for now. But it should change to better\n",
    "# method as here:\n",
    "import os\n",
    "This_module_path = os.getcwd()  #os.path.dirname(os.path.abspath(__file__))\n",
    "workdir_ = os.path.join(This_module_path, '../../' )\n",
    "# sys.path.append(utils_path)\n",
    "# print( f\" a path added in {__name__} {utils_path} \")\n",
    "\n",
    "print( f\" In {__name__} we have This_module_path={This_module_path} \" )\n",
    "print( f\" In {__name__} we have workdir_={workdir_} \" )\n",
    "\n",
    "# The usual\n",
    "from datetime import date\n",
    "import numpy as np\n",
    "import xarray as xr\n",
    "import matplotlib.pyplot as plt\n",
    "import matplotlib.tri as tri\n",
    "\n",
    "# Cartopy for pretty maps\n",
    "import cartopy\n",
    "import cartopy.crs as ccrs\n",
    "import cartopy.feature as cfeature\n",
    "\n",
    "# Some other useful packages \n",
    "import importlib\n",
    "import copy\n",
    "import time\n",
    "import cftime\n",
    "\n",
    "\n",
    "\n",
    "########################################\n",
    "# Now import your own stuff\n",
    "########################################\n",
    "\n",
    "#From in here\n",
    "import gw_common as GWc\n",
    "import gw_movmtn as GWmm\n",
    "\n",
    "sys.path.append(workdir_ + 'myPythonTools/Utils/')\n",
    "import AveragingUtils as Av\n",
    "import PlotUtil as Pu\n",
    "import utils as uti\n",
    "import numerical_utils as nuti\n",
    "import validation_data as Val\n",
    "import shr_const\n",
    "from shr_const import ShrConst as Cs\n",
    "\n",
    "sys.path.append(workdir_ + 'myPythonTools/Plotting/')\n",
    "import LatLonMaps as LL\n",
    "\n",
    "\n",
    "sys.path.append(workdir_ + 'PyRegridding/Regridder/')\n",
    "import var_A_x_B as vAB\n",
    "import esmfRegrid as erg\n",
    "\n",
    "sys.path.append(workdir_ + 'PyRegridding/Utils/')\n",
    "import MakePressures as MkP\n",
    "import GridUtils as GrU\n",
    "\n",
    "\n",
    "\n",
    "importlib.reload( GWmm )\n",
    "importlib.reload( GWc )\n",
    "importlib.reload( LL )\n",
    "importlib.reload( uti )\n",
    "importlib.reload( Pu )\n",
    "importlib.reload(Av)\n",
    "importlib.reload(Val)\n",
    "importlib.reload(vAB)\n",
    "importlib.reload(MkP)\n"
   ]
  },
  {
   "cell_type": "code",
   "execution_count": null,
   "id": "0bce27e3-ee7f-48af-97dc-4c6c27074b06",
   "metadata": {},
   "outputs": [],
   "source": [
    "#####\n",
    "\n",
    "date=[2010,11,15,0]\n",
    "\n",
    "year=date[0]\n",
    "month=date[1]\n",
    "day=date[2]\n",
    "hour=date[3]\n",
    "\n",
    "hour0 = ( hour//6 )*6\n",
    "ihe = hour - hour0\n",
    "\n",
    "print( year,month,day,hour0 , ihe)"
   ]
  },
  {
   "cell_type": "code",
   "execution_count": null,
   "id": "3033ee5a-492c-4090-a7ee-7108844a405c",
   "metadata": {},
   "outputs": [],
   "source": [
    "seconds = hour * 3600\n",
    "timetag = f'{year:04d}-{month:02d}-{day:02d}-{seconds:05d}'\n"
   ]
  },
  {
   "cell_type": "code",
   "execution_count": null,
   "id": "5d54fb69-3df8-4d1c-aa9f-caced15942f4",
   "metadata": {},
   "outputs": [],
   "source": [
    "#----------------------------------------------------\n",
    "#  Get CAM experiment\n",
    "#-----------------------------------------------------\n",
    "expA = \"c160mm_ne30pg3_FMTndg_cciasi_x04\"\n",
    "A1 = uti.MakeDict4Exp( exp=expA ,\n",
    "                     user='juliob',\n",
    "                     subd='hist',  #cfg[x_]['grid'] , \n",
    "                     hsPat='cam.h1i',\n",
    "                     ymdPat= timetag ,\n",
    "                     verbose=True, open_dataset=True )\n",
    "A3 = uti.MakeDict4Exp( exp=expA ,\n",
    "                     user='juliob',\n",
    "                     subd='hist',  #cfg[x_]['grid'] , \n",
    "                     hsPat='cam.h3i',\n",
    "                     ymdPat= timetag ,\n",
    "                     verbose=True, open_dataset=True )\n"
   ]
  },
  {
   "cell_type": "code",
   "execution_count": null,
   "id": "5ab8922e-ca99-48ba-91e8-74260192b6a9",
   "metadata": {},
   "outputs": [],
   "source": [
    "plt.plot( A3.X.XPWP_SRC_MOVMTN[0,:].values.flatten() )"
   ]
  },
  {
   "cell_type": "code",
   "execution_count": null,
   "id": "cfa4872f-ca62-4195-9add-f5a6842d4a42",
   "metadata": {},
   "outputs": [],
   "source": [
    "\n",
    "k5000=68\n",
    "zlev=-7.0*np.log( A1.X.lev.values/1_000. )\n",
    "print(A1.X.lev[k5000].values)\n",
    "print(zlev[k5000])\n",
    "\n",
    "u_se = A1.X.UEGW[0,k5000,:].values\n",
    "v_se = A1.X.VEGW[0,k5000,:].values"
   ]
  },
  {
   "cell_type": "code",
   "execution_count": null,
   "id": "8cf08416-6d12-4326-99d2-17f8a0758e9c",
   "metadata": {},
   "outputs": [],
   "source": [
    "\n",
    "u_fv,lat_fv,lon_fv = vAB.Hregrid( avar=u_se, agrid='ne30pg3', bgrid='fv1x1' )\n",
    "v_fv,lat_fv,lon_fv = vAB.Hregrid( avar=v_se, agrid='ne30pg3', bgrid='fv1x1' )\n",
    "zeta_fv = nuti.Sphere_Curl2( u_fv , v_fv , lat_fv, lon_fv, wrap=True )\n",
    "zeta_se,lat_se,lon_se = vAB.Hregrid( avar=zeta_fv , agrid='fv1x1' ,bgrid='ne30pg3')\n"
   ]
  },
  {
   "cell_type": "code",
   "execution_count": null,
   "id": "dabe7328-f9b0-4878-aa73-6e0ea6d17017",
   "metadata": {},
   "outputs": [],
   "source": [
    "\n",
    "fig,ax=plt.subplots(1,3,squeeze=False,figsize=(21,6))\n",
    "\n",
    "co00=ax[0,0].contourf(lon_fv,lat_fv,np.abs(zeta_fv))\n",
    "co01=ax[0,1].tricontourf(lon_se,lat_se,np.abs(zeta_se))\n",
    "co02=ax[0,2].tricontourf(lon_se,lat_se, A3.X.XPWP_SRC_MOVMTN[0,:].values)\n",
    "\n",
    "cb00=plt.colorbar(co00,ax=ax[0,0])\n",
    "cb01=plt.colorbar(co01,ax=ax[0,1])\n",
    "cb02=plt.colorbar(co02,ax=ax[0,2])\n",
    "\n"
   ]
  },
  {
   "cell_type": "code",
   "execution_count": null,
   "id": "6294b1de-0575-4e33-a5cd-01944db844a9",
   "metadata": {},
   "outputs": [],
   "source": [
    "fig,ax=plt.subplots(1,3,figsize=(20,8))\n",
    "ax[0].plot(A3.X.XPWP_SRC_MOVMTN[0,:].values)\n",
    "ax[1].plot(100*np.abs(zeta_se))\n",
    "ax[2].scatter( A3.X.XPWP_SRC_MOVMTN[0,:].values , np.abs(zeta_se) )\n",
    "\n",
    "\n",
    "avgmomflux= np.sum( A3.X.XPWP_SRC_MOVMTN[0,:].values * A3.X.area.values ) / np.sum( A3.X.area.values ) \n",
    "print( avgmomflux )"
   ]
  },
  {
   "cell_type": "code",
   "execution_count": null,
   "id": "44353b3b-4b16-4dc5-9de2-5a77a1ef4538",
   "metadata": {},
   "outputs": [],
   "source": [
    "    fvInfo = GrU.gridInfo(Dst) #,Vgrid=DstVgrid)\n",
    "    fvHkey = fvInfo['Hkey']\n",
    "    fv_type =fvInfo['type']\n",
    "    fv_scrip =fvInfo['scrip']\n",
    "    fv_TopoFile = fvInfo['TopoFile']\n",
    "\n",
    "    seInfo = GrU.gridInfo(Dst) #,Vgrid=DstVgrid)\n",
    "    seHkey = seInfo['Hkey']\n",
    "    se_type =seInfo['type']\n",
    "    se_scrip =seInfo['scrip']\n",
    "    se_TopoFile = seInfo['TopoFile']\n",
    "\n",
    "    print(f'Creating Bilinear map {se_scrip} => {fv_scrip}')\n",
    "    RegridMethod = \"BILINEAR\"\n",
    "    regrd_x, srcf_x , dstf_x  = erg.Regrid( srcScrip = se_scrip , \n",
    "                                    srcType  = se_type  ,\n",
    "                                    dstScrip = fv_scrip ,\n",
    "                                    dstType  = fv_type  ,\n",
    "                                    RegridMethod = RegridMethod )\n",
    "\n",
    "\n",
    "    Slice_Src = xfld_Src[tin,:]\n",
    "    Slice_Dst = erg.HorzRG( aSrc = Slice_Src , \n",
    "                        regrd = regrd , \n",
    "                        srcField= srcf , \n",
    "                        dstField= dstf , \n",
    "                        srcGridkey= srcHkey ,\n",
    "                        dstGridkey= dstHkey )\n",
    "    xfld_Dst[tin,:,:] = Slice_Dst\n"
   ]
  },
  {
   "cell_type": "code",
   "execution_count": null,
   "id": "5fa9a1e1-85e3-48ba-aafe-5968bd3826f5",
   "metadata": {},
   "outputs": [],
   "source": [
    "A1_X_copy = copy.deepcopy( A1.X )"
   ]
  },
  {
   "cell_type": "code",
   "execution_count": null,
   "id": "a935ef85-79b3-4559-8364-04b6a0869ea4",
   "metadata": {},
   "outputs": [],
   "source": [
    "\n",
    "\n",
    "\n",
    "\n",
    "\n",
    "# Assuming ds is your xarray dataset and 'latitude' is a variable with dimension 'ncol'\n",
    "latitude_range = (-90, -45)  # Example latitude range\n",
    "\n",
    "# Identify the indices where latitude falls within the specified range\n",
    "#latitude_mask = A1.X['lat'].where(\n",
    "#    (A1.X['lat'] >= latitude_range[0]) & (A1.X['lat'] <= latitude_range[1]) )\n",
    "\n",
    "latitude_mask = np.where(\n",
    "    (A1.X['lat'].values >= latitude_range[0]) & (A1.X['lat'].values <= latitude_range[1]) )\n",
    "\n",
    "\n",
    "\n",
    "#latitude_mask = latitude_mask.compute()\n",
    "\n",
    "# Get the indices where the condition is True\n",
    "#latitude_indices = np.where(latitude_mask.values)[0]\n",
    "\n",
    "print( len(latitude_mask[0]))\n",
    "# Select data using these indices\n",
    "#selected_data = ds.isel(ncol=latitude_indices)\n",
    "\n",
    "latitude_indices=latitude_mask[0]\n",
    "\n",
    "#print(selected_data)\n"
   ]
  },
  {
   "cell_type": "code",
   "execution_count": null,
   "id": "bfe79b12-bd39-40b6-be30-209088d6b619",
   "metadata": {},
   "outputs": [],
   "source": [
    "#selected_data = ds.isel(ncol=slice(8000, 11001))\n",
    "\n",
    "A1.X = A1.X.isel(ncol=latitude_indices )\n",
    "\n",
    "\n",
    "#selected_data = ds.isel(ncol=slice(8000, 11001))\n",
    "\n",
    "A3.X = A3.X.isel(ncol=latitude_indices )\n"
   ]
  },
  {
   "cell_type": "code",
   "execution_count": null,
   "id": "e39b92f9-ad72-4474-a730-42f946b6dbc0",
   "metadata": {},
   "outputs": [],
   "source": [
    "#######################\n",
    "# get constants to use here\n"
   ]
  },
  {
   "cell_type": "code",
   "execution_count": null,
   "id": "9f14c712-bc86-4d0e-bd14-21c57ce7aff0",
   "metadata": {},
   "outputs": [],
   "source": [
    "\n",
    "pifc = A1.X.PINT[0,:,:].values.T\n",
    "te = A1.X.TEGW[0,:,:].values.T\n",
    "uu = A1.X.UEGW[0,:,:].values.T\n",
    "vv = A1.X.VEGW[0,:,:].values.T\n",
    "xpwp = A3.X.XPWP_SRC_MOVMTN[0,:].values.T\n"
   ]
  },
  {
   "cell_type": "code",
   "execution_count": null,
   "id": "77fb45c6-e51e-4805-a783-a42e3aed0ba0",
   "metadata": {},
   "outputs": [],
   "source": [
    "band_movmtn = GWc.BandType( ngwv=0, dc=5., kwv=2*np.pi/(100_000.) )"
   ]
  },
  {
   "cell_type": "code",
   "execution_count": null,
   "id": "6d85c6f5-68d3-49a4-9509-2d2e3066dc81",
   "metadata": {},
   "outputs": [],
   "source": [
    "PP=GWc.PType(ifc=pifc)"
   ]
  },
  {
   "cell_type": "code",
   "execution_count": null,
   "id": "520e13fc-6c5d-44ce-b46a-b7504788fe7a",
   "metadata": {},
   "outputs": [],
   "source": [
    "######################\n",
    "from shr_const import ShrConst as Cs\n",
    "cpair=Cs.CPDAIR\n",
    "ncol=te.shape[0]"
   ]
  },
  {
   "cell_type": "code",
   "execution_count": null,
   "id": "a1143523-7b13-4001-8ab5-c4ca22d447bc",
   "metadata": {},
   "outputs": [],
   "source": [
    "rhoi, nm, ni =GWc.gw_prof(ncol, PP, cpair, te)"
   ]
  },
  {
   "cell_type": "code",
   "execution_count": null,
   "id": "df36111a-90b6-45be-8ff3-780d8ce9667c",
   "metadata": {},
   "outputs": [],
   "source": [
    "zm = A3.X.Z3[0,:,:].values.T\n"
   ]
  },
  {
   "cell_type": "code",
   "execution_count": null,
   "id": "72b9b700-0e05-4263-b220-e9c9a648d313",
   "metadata": {},
   "outputs": [],
   "source": [
    "####\n",
    "ncol,pver = np.shape( zm )\n",
    "ngwv = band_movmtn.ngwv\n",
    "netdt=np.zeros( (ncol,pver) )\n",
    "netdt_shcu=np.zeros( (ncol,pver) )\n",
    "src_level = np.zeros(ncol, dtype=int)\n",
    "tend_level = np.zeros(ncol, dtype=int)\n",
    "ubi=np.zeros( (ncol,pver+1) )\n",
    "ubm=np.zeros( (ncol,pver) )\n",
    "tau=np.zeros( (ncol, 2*ngwv+1, pver+1) )\n",
    "c = np.zeros((ncol, 2*ngwv+1) )\n",
    "xv= np.zeros( ncol )\n",
    "yv= np.zeros( ncol )\n",
    "hdepth= np.zeros( ncol )\n",
    "\n",
    "aack= GWmm.gw_movmtn_src(ncol , band_movmtn , uu, vv, netdt, netdt_shcu, xpwp , zm, src_level, tend_level, tau, ubm, ubi, xv, yv, c, hdepth)"
   ]
  },
  {
   "cell_type": "code",
   "execution_count": null,
   "id": "abbed135-08c7-4a09-9b82-a7f53bd0b059",
   "metadata": {},
   "outputs": [],
   "source": [
    "###########################################################\n",
    "# Complete init of arguments to gw_drag_prof \n",
    "# '#'-commented indicates this was init somewhere above\n",
    "###########################################################\n",
    "\n",
    "pcnst=1\n",
    "# Initialize the integer arrays\n",
    "#src_level = np.zeros(ncol, dtype=int)\n",
    "#tend_level = np.zeros(ncol, dtype=int)\n",
    "\n",
    "# Initialize the real arrays (using float64 for real(r8))\n",
    "dt = 1.0\n",
    "#te = np.zeros((ncol, pver))\n",
    "piln = np.log( PP.ifc )  # Log of interface pressures.\n",
    "#rhoi = np.zeros((ncol, pver+1))\n",
    "#nm = np.zeros((ncol, pver))\n",
    "#ni = np.zeros((ncol, pver+1))\n",
    "#ubm = np.zeros((ncol, pver))\n",
    "#ubi = np.zeros((ncol, pver+1))\n",
    "#xv = np.zeros(ncol)\n",
    "#yv = np.zeros(ncol)\n",
    "effgw = np.zeros(ncol) + 1.0\n",
    "\n",
    "#\n",
    "#c = np.zeros((ncol, 2*ngwv+1))\n",
    "kvtt = np.zeros((ncol, pver+1))\n",
    "\n",
    "# Assuming q has some third dimension, let's set it to 5 for now\n",
    "q = np.zeros((ncol, pver, pcnst))\n",
    "dse = np.zeros((ncol, pver))\n",
    "vramp = np.zeros(1)  # Assuming vramp is a pointer to a single-element array\n",
    "\n",
    "#tau = np.zeros((ncol, 2*ngwv+1, pver+1))\n",
    "utgw = np.zeros((ncol, pver))\n",
    "vtgw = np.zeros((ncol, pver))\n",
    "ttgw = np.zeros((ncol, pver))\n",
    "\n",
    "# Assuming qtgw has the same third dimension as q\n",
    "qtgw = np.zeros((ncol, pver, pcnst))\n",
    "egwdffi = np.zeros((ncol, pver+1))\n",
    "gwut = np.zeros((ncol, pver, 2*ngwv+1))\n",
    "\n",
    "dttdf = np.zeros((ncol, pver))\n",
    "dttke = np.zeros((ncol, pver))\n",
    "\n",
    "# Optional arguments\n",
    "ro_adjust = None # np.zeros((ncol, 2*ngwv+1, pver+1))\n",
    "kwvrdg = None #np.zeros(ncol)\n",
    "satfac_in = 2.0  # Assuming 2.0 for backward compatibility\n",
    "lapply_effgw_in = False\n",
    "lapply_vdiff = False\n",
    "tau_diag = np.zeros((ncol, pver+1))\n",
    "\n",
    "# Example function call\n",
    "goo = GWc.gw_drag_prof(ncol, band_movmtn, PP , src_level, tend_level, dt, \n",
    "                te, vramp,   \n",
    "                piln, rhoi,    nm,   ni,  ubm,  ubi,  xv,    yv,   \n",
    "                effgw,      c, kvtt, q,   dse,  tau,  utgw,  vtgw, \n",
    "                ttgw, qtgw, egwdffi,   gwut, dttdf, dttke, ro_adjust, \n",
    "                kwvrdg, satfac_in, lapply_effgw_in, lapply_vdiff, tau_diag ,\n",
    "                perform_second_half=False, tau_0_ubc=False, do_vertical_diffusion=False )\n"
   ]
  },
  {
   "cell_type": "code",
   "execution_count": null,
   "id": "1cd222a9-0918-4a83-ace5-0ddcc5f0c272",
   "metadata": {},
   "outputs": [],
   "source": [
    "plt.plot( tau[1125,0,:] , 'o')\n",
    "plt.plot( A1.X.TAU_DIAG_MOVMTN[0,:,1125] )\n",
    "plt.plot( A1.X.TAU_MOVMTN[0,:,1125] )"
   ]
  },
  {
   "cell_type": "code",
   "execution_count": null,
   "id": "b0bf7d00-e0b8-48e2-9d6a-b6b7104cf062",
   "metadata": {},
   "outputs": [],
   "source": [
    "A1_X_copy"
   ]
  },
  {
   "cell_type": "code",
   "execution_count": null,
   "id": "350673fd-dcbf-4c10-a9d4-fafb94ef2ab1",
   "metadata": {},
   "outputs": [],
   "source": [
    "tau2 = 0.*A1_X_copy['TAU_MOVMTN'].values"
   ]
  },
  {
   "cell_type": "code",
   "execution_count": null,
   "id": "96590610-bac8-49cd-a91f-f425fae4719c",
   "metadata": {},
   "outputs": [],
   "source": [
    "print( np.shape(TAU2_global))\n",
    "print( np.shape(tau))\n",
    "print( np.shape(tau2))\n",
    "tau_reshaped = np.transpose(np.squeeze(tau, axis=1), (1, 0))\n",
    "print( np.shape(tau_reshaped))"
   ]
  },
  {
   "cell_type": "code",
   "execution_count": null,
   "id": "09b6a205-8cfa-4728-bd67-48bdb09b24ff",
   "metadata": {},
   "outputs": [],
   "source": [
    "latitude_indices.shape"
   ]
  },
  {
   "cell_type": "code",
   "execution_count": null,
   "id": "223e083b-bc6e-4022-afb4-4e1156781db2",
   "metadata": {},
   "outputs": [],
   "source": [
    "print( tau2[0,10,latitude_indices].shape) \n",
    "print( tau_reshaped.shape)  # Adjust dimensions if necessary\n"
   ]
  },
  {
   "cell_type": "code",
   "execution_count": null,
   "id": "dc8a405f-df27-4151-be30-bdb546a2aee8",
   "metadata": {},
   "outputs": [],
   "source": []
  }
 ],
 "metadata": {
  "kernelspec": {
   "display_name": "NPL 2023b",
   "language": "python",
   "name": "npl-2023b"
  },
  "language_info": {
   "codemirror_mode": {
    "name": "ipython",
    "version": 3
   },
   "file_extension": ".py",
   "mimetype": "text/x-python",
   "name": "python",
   "nbconvert_exporter": "python",
   "pygments_lexer": "ipython3",
   "version": "3.10.12"
  }
 },
 "nbformat": 4,
 "nbformat_minor": 5
}
