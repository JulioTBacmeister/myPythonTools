{
 "cells": [
  {
   "cell_type": "code",
   "execution_count": null,
   "id": "0f26b618-6706-4809-a231-05ed3a4825e5",
   "metadata": {},
   "outputs": [],
   "source": [
    "################################################\n",
    "# New style \n",
    "################################################\n",
    "import sys\n",
    "import os\n",
    "\n",
    "# Cartopy for pretty maps\n",
    "# Done first because of compatibilty issues\n",
    "# with ESMF\n",
    "import cartopy\n",
    "import cartopy.crs as ccrs\n",
    "import cartopy.feature as cfeature\n",
    "\n",
    "\n",
    "workdir_ = '/glade/work/juliob'\n",
    "if ( workdir_ not in sys.path ):\n",
    "    sys.path.append(workdir_)\n",
    "    print( f\" a path to {workdir_} added in {__name__} \")\n",
    "\n",
    "from myPythonTools.Utils import utils as uti\n",
    "from myPythonTools.Utils import numerical_utils as nuti\n",
    "from myPythonTools.Utils import AveragingUtils as Av\n",
    "from myPythonTools.Utils import validation_data as Val\n",
    "from myPythonTools.Utils import PlotUtil as Pu\n",
    "from myPythonTools.Plotting import LatLonMaps as LL \n",
    "from myPythonTools.CASutils import filter_utils as fu \n",
    "\n",
    "from PyRegridding.Utils import GridUtils as GrU\n",
    "from PyRegridding.Utils import MakePressures as MkP\n",
    "from PyRegridding.Drivers import RegridField as RgF\n",
    "from PyRegridding.Regridder import scripGen\n",
    "\n",
    "\n",
    "# The usual\n",
    "from datetime import date\n",
    "import numpy as np\n",
    "import xarray as xr\n",
    "import matplotlib.pyplot as plt\n",
    "import matplotlib.tri as tri\n",
    "\n",
    "# Some other useful packages \n",
    "import importlib\n",
    "import copy\n",
    "import time\n",
    "import cftime\n",
    "\n",
    "importlib.reload( uti )\n",
    "importlib.reload( nuti )\n",
    "importlib.reload( Pu )\n",
    "importlib.reload(Av)\n",
    "importlib.reload(Val)\n",
    "#importlib.reload(vAB)\n",
    "importlib.reload(MkP)\n",
    "importlib.reload(RgF)\n",
    "importlib.reload(LL)\n",
    "\n",
    "\n",
    "try:\n",
    "    RgObs\n",
    "except NameError:\n",
    "    RgObs = {}\n",
    "# OR ???\n",
    "#RgObs=globals().get(\"RgObs\", {} )          \n"
   ]
  },
  {
   "cell_type": "code",
   "execution_count": null,
   "id": "e54eaeec-fc51-4bdc-b1ac-8a524a7f70fe",
   "metadata": {},
   "outputs": [],
   "source": [
    "fn='/glade/derecho/scratch/juliob/archive/c64_48_gwR2_ne30pg3_FMTHIST_devel_02/atm/hist/c64_48_gwR2_ne30pg3_FMTHIST_devel_02.cam.h1i.1985-07-15-00000.nc'\n",
    "fn2='/glade/derecho/scratch/juliob/archive/c64_48_gwR2_ne30pg3_FMTHIST_devel_04/atm/hist/c64_48_gwR2_ne30pg3_FMTHIST_devel_04.cam.h1i.1985-07-15-00000.nc'\n",
    "\n",
    "\n",
    "X=xr.open_dataset( fn )\n",
    "X2=xr.open_dataset( fn2 )\n",
    "\n",
    "\n",
    "u=X.U.values\n",
    "v=X.V.values\n",
    "zeta=X.VORT4GW.values\n",
    "u2=X2.U.values\n"
   ]
  },
  {
   "cell_type": "code",
   "execution_count": null,
   "id": "7b54075b-47a4-4ee2-967e-ee4713c8fe18",
   "metadata": {},
   "outputs": [],
   "source": [
    "print( X.lev[91-10].values )\n"
   ]
  },
  {
   "cell_type": "code",
   "execution_count": null,
   "id": "b3931e6a-4b41-4ce6-86ec-3871a3a6e91d",
   "metadata": {},
   "outputs": [],
   "source": [
    "\n",
    "plt.plot(u[0,20,:])\n",
    "plt.plot((u2-u)[0,20,:])\n"
   ]
  },
  {
   "cell_type": "code",
   "execution_count": null,
   "id": "6a38a80b-33dd-4e79-8987-9b7e6531177d",
   "metadata": {},
   "outputs": [],
   "source": [
    "X"
   ]
  },
  {
   "cell_type": "code",
   "execution_count": null,
   "id": "fbda521c-d068-4bc7-a8ab-5bd991f431ad",
   "metadata": {},
   "outputs": [],
   "source": [
    "########################\n",
    "# Option 2 from unstructured SE data\n",
    "########################\n",
    "Src='ne30pg3'\n",
    "Dst ='fv1x1'\n",
    "\n",
    "DstInfo = GrU.gridInfo(Dst) #,Vgrid=DstVgrid)\n",
    "lat_a,lon_a = GrU.latlon( scrip= DstInfo['scrip'], Hkey=DstInfo['Hkey'] )\n",
    "lev_a=X.lev.values\n",
    "zlev_a=-7.0*np.log( lev_a/1_000. )\n",
    "\n",
    "\n",
    "RegridObj = GrU.regrid_object_lib(RgOb=RgObs, src=Src, dst=Dst, RegridMethod='BILINEAR' )\n",
    "\n",
    "u_yx=RgF.Horz(xfld_Src=u , Src=Src, Dst=Dst , RegridObj_In= RegridObj )\n",
    "v_yx=RgF.Horz(xfld_Src=v , Src=Src, Dst=Dst , RegridObj_In= RegridObj )\n",
    "zeta_yx = RgF.Horz(xfld_Src=zeta , Src=Src, Dst=Dst , RegridObj_In= RegridObj )"
   ]
  },
  {
   "cell_type": "code",
   "execution_count": null,
   "id": "e816c433-08a5-4577-a499-43f20dbd1868",
   "metadata": {},
   "outputs": [],
   "source": [
    "zeta_yx.shape"
   ]
  },
  {
   "cell_type": "code",
   "execution_count": null,
   "id": "0261a153-75cb-48ae-b968-f655d318b401",
   "metadata": {},
   "outputs": [],
   "source": [
    "plt.contourf( zeta_yx[0,90,:,:] )"
   ]
  },
  {
   "cell_type": "code",
   "execution_count": null,
   "id": "5bd7db39-c91a-4ff8-be70-86b64fa0922c",
   "metadata": {},
   "outputs": [],
   "source": [
    "nt,nz,ny,nx = np.shape( u_yx )\n",
    "curluv_yx = np.zeros( (nt,nz,ny,nx ) )\n",
    "\n",
    "for t in np.arange( nt ):\n",
    "    for z in np.arange( nz) :\n",
    "        curluv_yx[t,z,:,:] =nuti.Sphere_Curl2( f_x=u_yx[t,z,:,:] , f_y=v_yx[t,z,:,:] , lat=lat_a , lon=lon_a , wrap=True )"
   ]
  },
  {
   "cell_type": "code",
   "execution_count": null,
   "id": "8033810d-cdb7-43d4-819f-658c12733794",
   "metadata": {},
   "outputs": [],
   "source": [
    "plt.contourf( curluv_yx[0,90,:,:] )"
   ]
  },
  {
   "cell_type": "code",
   "execution_count": null,
   "id": "8f4bd944-43fa-472a-ae44-176b46c8f0a9",
   "metadata": {},
   "outputs": [],
   "source": [
    "dolev = 21 #np.linspace(-1,1,num=21)\n",
    "olev = 0.0002 * np.linspace(-1,1,num=51)\n",
    "# Create a figure with a 2x2 grid of subplots\n",
    "fig, ax = plt.subplots(1, 2, figsize=(20, 5))\n",
    "\n",
    "# Flatten axs to easily access each subplot by index\n",
    "ax = ax.flatten()\n",
    "\n",
    "#GGG\n",
    "k=70\n",
    "co=ax[0].contourf(  zeta_yx[0,90,:,:] , levels = olev, cmap='bwr' )\n",
    "cb=plt.colorbar( co )\n",
    "co=ax[1].contourf(  curluv_yx[0,90,:,:], levels = olev , cmap='bwr' )\n",
    "cb=plt.colorbar( co )\n"
   ]
  },
  {
   "cell_type": "code",
   "execution_count": null,
   "id": "d9ba3542-3922-49b1-aa46-3d0214ac7f57",
   "metadata": {},
   "outputs": [],
   "source": [
    "\n",
    "y=30\n",
    "plt.plot( curluv_yx[0,90,y,:])\n",
    "plt.plot( zeta_yx[0,90,y,:])\n"
   ]
  },
  {
   "cell_type": "code",
   "execution_count": null,
   "id": "3cad8ad6-0d67-4859-9f04-2b352130fdea",
   "metadata": {},
   "outputs": [],
   "source": [
    "plt.contourf( lon_a, zlev_a, zeta_yx[0,:,35,:],levels=olev, cmap='bwr' )\n",
    "plt.ylim(0,30)"
   ]
  },
  {
   "cell_type": "code",
   "execution_count": null,
   "id": "e011f355-0790-4209-8c44-33dbef730c64",
   "metadata": {},
   "outputs": [],
   "source": [
    "ddoo= (curluv_yx - zeta_yx)**2"
   ]
  },
  {
   "cell_type": "code",
   "execution_count": null,
   "id": "46ab7a36-b0d4-4826-82d6-3215283a831e",
   "metadata": {},
   "outputs": [],
   "source": [
    "plt.plot( np.average( ddoo[0,40,:,:], axis=1 ) )"
   ]
  },
  {
   "cell_type": "code",
   "execution_count": null,
   "id": "e742838f-c403-4376-9a96-591616d8d8ff",
   "metadata": {},
   "outputs": [],
   "source": [
    "X"
   ]
  },
  {
   "cell_type": "code",
   "execution_count": null,
   "id": "4892dee7-766f-4508-ba30-4ed3cdf49a13",
   "metadata": {},
   "outputs": [],
   "source": [
    "\n",
    "plt.plot(X.XPWP_SRC_MOVMTN.values.flatten() )\n",
    "plt.plot(10*np.abs(X.VORT4GW[0,80,:].values.flatten() ))\n"
   ]
  },
  {
   "cell_type": "code",
   "execution_count": null,
   "id": "27db4f3d-42ed-40cc-8e72-3d3cb511941c",
   "metadata": {},
   "outputs": [],
   "source": [
    "\n",
    "plt.scatter( X.XPWP_SRC_MOVMTN.values.flatten()  , np.abs(X.VORT4GW[0,92,:].values.flatten() ) )\n"
   ]
  },
  {
   "cell_type": "code",
   "execution_count": null,
   "id": "415a00f5-ae1f-49fa-abf4-c31732f08e71",
   "metadata": {},
   "outputs": [],
   "source": [
    "\n",
    "#plt.scatter( X.XPWP_SRC_MOVMTN.values.flatten()  , X2.XPWP_SRC_MOVMTN.values.flatten() , s=.1  )\n",
    "plt.scatter( X.UCELL_MOVMTN.values.flatten()  , X.XPWP_SRC_MOVMTN.values.flatten() , s=.5 , alpha=.2 )\n",
    "plt.scatter( X2.UCELL_MOVMTN.values.flatten()  , X2.XPWP_SRC_MOVMTN.values.flatten() , s=.5 , alpha=.2 )\n",
    "#plt.xlim(0,.02)\n",
    "#plt.ylim(0,.02)\n",
    "\n"
   ]
  },
  {
   "cell_type": "code",
   "execution_count": null,
   "id": "55150a4e-7ce5-4e50-8611-7d963f9b69ba",
   "metadata": {},
   "outputs": [],
   "source": [
    "\n",
    "#plt.scatter( X.XPWP_SRC_MOVMTN.values.flatten()  , X2.XPWP_SRC_MOVMTN.values.flatten() , s=.1  )\n",
    "plt.scatter( X.UCELL_MOVMTN.values[0,:]  , X.TAU_MOVMTN.values[0,10,:] , s=5 , alpha=.2 )\n",
    "plt.scatter( X2.UCELL_MOVMTN.values[0,:]  , X2.TAU_MOVMTN.values[0,10,:] , s=5 , alpha=.2 )\n",
    "#plt.xlim(0,.02)\n",
    "#plt.ylim(0,.02)\n",
    "\n"
   ]
  },
  {
   "cell_type": "code",
   "execution_count": null,
   "id": "ead94d02-38f9-41e6-9b95-ce7af885d8e7",
   "metadata": {},
   "outputs": [],
   "source": [
    "\n",
    "#plt.scatter( X.XPWP_SRC_MOVMTN.values.flatten()  , X2.XPWP_SRC_MOVMTN.values.flatten() , s=.1  )\n",
    "#plt.scatter( np.average( np.abs(X2.VORT4GW.values[0,83:,:]),axis=0)  , X2.XPWP_SRC_MOVMTN.values[0,:] , s=5 , alpha=.2 )\n",
    "#plt.plot( 0.0125*1.e4*np.average( np.abs(X2.VORT4GW.values[0,83:,:]),axis=0)  , alpha=.1 )\n",
    "#plt.plot( X2.XPWP_SRC_MOVMTN.values[0,:] , alpha=.1 )\n",
    "plt.plot( 0.0125*1.e4*np.average( np.abs(X2.VORT4GW.values[0,83:,:]),axis=0) - X2.XPWP_SRC_MOVMTN.values[0,:]  )\n",
    "\n",
    "#plt.xlim(0,.02)\n",
    "#plt.ylim(0,.02)\n",
    "\n"
   ]
  },
  {
   "cell_type": "code",
   "execution_count": null,
   "id": "e7601509-5d2e-486a-8bd3-8c20c809a350",
   "metadata": {},
   "outputs": [],
   "source": [
    "plt.hist( X.XPWP_SRC_MOVMTN.values.flatten(), bins=50 )"
   ]
  },
  {
   "cell_type": "code",
   "execution_count": null,
   "id": "bb836c54-fe93-4ec5-9b00-1dd638331534",
   "metadata": {},
   "outputs": [],
   "source": [
    "\n",
    "plt.hist( np.abs(X.UCELL_MOVMTN[0,:].values.flatten() ), bins=np.linspace(0,51) ,alpha=.2)\n",
    "plt.hist( np.abs(X2.UCELL_MOVMTN[0,:].values.flatten() ), bins=np.linspace(0,51), alpha=.2 )\n"
   ]
  },
  {
   "cell_type": "code",
   "execution_count": null,
   "id": "e00b6c9a-cfc3-4e56-ae02-696446459ffc",
   "metadata": {},
   "outputs": [],
   "source": [
    "X2"
   ]
  },
  {
   "cell_type": "code",
   "execution_count": null,
   "id": "0fc3b0cf-9e33-4250-981d-916be41c55ca",
   "metadata": {},
   "outputs": [],
   "source": []
  }
 ],
 "metadata": {
  "kernelspec": {
   "display_name": "NPL 2024b",
   "language": "python",
   "name": "npl-2024b"
  },
  "language_info": {
   "codemirror_mode": {
    "name": "ipython",
    "version": 3
   },
   "file_extension": ".py",
   "mimetype": "text/x-python",
   "name": "python",
   "nbconvert_exporter": "python",
   "pygments_lexer": "ipython3",
   "version": "3.11.9"
  }
 },
 "nbformat": 4,
 "nbformat_minor": 5
}
