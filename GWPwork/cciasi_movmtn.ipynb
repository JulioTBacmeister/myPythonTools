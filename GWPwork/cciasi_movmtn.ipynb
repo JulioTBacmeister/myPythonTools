{
 "cells": [
  {
   "cell_type": "code",
   "execution_count": null,
   "id": "d65063bc-3f7e-4bb3-aac9-7c4084107d03",
   "metadata": {},
   "outputs": [],
   "source": [
    "#workdir_ = '/glade/work/juliob/'\n",
    "import sys\n",
    "#######################################\n",
    "# Leave this for now. But it should change to better\n",
    "# method as here:\n",
    "import os\n",
    "This_module_path = os.getcwd()  #os.path.dirname(os.path.abspath(__file__))\n",
    "workdir_ = os.path.join(This_module_path, '../../' )\n",
    "# sys.path.append(utils_path)\n",
    "# print( f\" a path added in {__name__} {utils_path} \")\n",
    "\n",
    "print( f\" In {__name__} we have This_module_path={This_module_path} \" )\n",
    "print( f\" In {__name__} we have workdir_={workdir_} \" )\n",
    "########################################\n",
    "sys.path.append(workdir_ + 'myPythonTools/GenlTools/')\n",
    "sys.path.append(workdir_ + 'myPythonTools/Utils/')\n",
    "#sys.path.append(workdir_ + 'PyRegridding/Regridder/')\n",
    "sys.path.append(workdir_ + 'PyRegridding/Utils/')\n",
    "sys.path.append(workdir_ + 'myPythonTools/Plotting/')\n",
    "\n",
    "# Own local packages\n",
    "import AveragingUtils as Av\n",
    "#import VertRegridFlexLL as Vrg  # This is toxic for some reason\n",
    "import PlotUtil as Pu\n",
    "import utils as uti\n",
    "import validation_data as Val\n",
    "import var_A_x_B as vAB\n",
    "import MakePressures as MkP\n",
    "import GridUtils as GrU\n",
    "import LatLonMaps as LL\n",
    "\n",
    "# The usual\n",
    "from datetime import date\n",
    "import numpy as np\n",
    "import xarray as xr\n",
    "import matplotlib.pyplot as plt\n",
    "import matplotlib.tri as tri\n",
    "\n",
    "# Cartopy for pretty maps\n",
    "import cartopy\n",
    "import cartopy.crs as ccrs\n",
    "import cartopy.feature as cfeature\n",
    "\n",
    "# Some other useful packages \n",
    "import importlib\n",
    "import copy\n",
    "import time\n",
    "import cftime\n",
    "\n",
    "importlib.reload( LL )\n",
    "importlib.reload( uti )\n",
    "importlib.reload( Pu )\n",
    "importlib.reload(Av)\n",
    "importlib.reload(Val)\n",
    "importlib.reload(vAB)\n",
    "importlib.reload(MkP)\n"
   ]
  },
  {
   "cell_type": "code",
   "execution_count": null,
   "id": "c1be71f3-d9e1-4aa1-be7d-f41d4ff5c933",
   "metadata": {},
   "outputs": [],
   "source": [
    "\n",
    "\n",
    "X=xr.open_dataset('/glade/campaign/cgd/amp/juliob/amwg_dev/Concordiasi/cciasi_flux_6h.nc')"
   ]
  },
  {
   "cell_type": "code",
   "execution_count": null,
   "id": "3e25550a-94ca-489b-bd23-259536f493fd",
   "metadata": {},
   "outputs": [],
   "source": [
    "X"
   ]
  },
  {
   "cell_type": "code",
   "execution_count": null,
   "id": "bdc27927-e83d-4bcf-8f38-27a258033c6c",
   "metadata": {},
   "outputs": [],
   "source": [
    "nobs = X.number_of_observations.values\n",
    "print(np.shape(nobs))\n",
    "plt.plot( np.sum( nobs, axis=(1,2) ) )"
   ]
  },
  {
   "cell_type": "code",
   "execution_count": null,
   "id": "6d76445a-f59e-4f7c-b283-fc181c6d8be4",
   "metadata": {},
   "outputs": [],
   "source": [
    "print(X.time.values)"
   ]
  },
  {
   "cell_type": "code",
   "execution_count": null,
   "id": "eca7832b-4556-4402-a7d7-650daaa51612",
   "metadata": {},
   "outputs": [],
   "source": [
    "\n",
    "#plt.contourf( X.longitude, X.latitude, X.absolute_momentum_flux.values[156,:,:] )\n",
    "plt.contourf( X.longitude, X.latitude,X.number_of_observations.values[156,:,:] ,levels=[10,20,50])\n",
    "plt.colorbar()\n"
   ]
  },
  {
   "cell_type": "code",
   "execution_count": null,
   "id": "d2dae78d-00eb-42ef-8919-142e5f3259a5",
   "metadata": {},
   "outputs": [],
   "source": [
    "from datetime import datetime, timedelta\n",
    "\n",
    "def day_of_year_to_date(year, day_of_year):\n",
    "    # Create a date object for January 1st of the given year\n",
    "    jan_first = datetime(year, 1, 1)\n",
    "    # Add the day_of_year to this date (subtract 1 because day_of_year is 1-based)\n",
    "    target_date = jan_first + timedelta(days=day_of_year - 1)\n",
    "    return target_date\n"
   ]
  },
  {
   "cell_type": "code",
   "execution_count": null,
   "id": "516060d5-3701-425f-b26b-041c53123806",
   "metadata": {},
   "outputs": [],
   "source": [
    "date=day_of_year_to_date(2010, X.time[364].values)\n",
    "print(date.strftime(\"%Y-%m-%d:%H\"))"
   ]
  },
  {
   "cell_type": "code",
   "execution_count": null,
   "id": "cc46bc02-19dc-4d14-b618-dce0b5104e3a",
   "metadata": {},
   "outputs": [],
   "source": [
    "\n",
    "amf=X.absolute_momentum_flux.values\n",
    "nob=X.number_of_observations.values\n",
    "lat=X.latitude.values\n",
    "lon=X.longitude.values"
   ]
  },
  {
   "cell_type": "code",
   "execution_count": null,
   "id": "70d01ca9-c883-4aef-af96-f9b3775371b9",
   "metadata": {},
   "outputs": [],
   "source": [
    "amf.shape"
   ]
  },
  {
   "cell_type": "code",
   "execution_count": null,
   "id": "44f28e6e-cc31-40e4-a8fe-efa74dfe712f",
   "metadata": {},
   "outputs": [],
   "source": [
    "plt.plot( nob.flatten(),'.' )\n",
    "plt.ylim(0,10)\n",
    "\n",
    "amf0=np.where( nob>=4 , amf, 0. )#np.nan )"
   ]
  },
  {
   "cell_type": "code",
   "execution_count": null,
   "id": "4422a598-0484-4007-98b0-93697b7ac7d5",
   "metadata": {},
   "outputs": [],
   "source": [
    "amf0r=np.roll(amf0,shift=72,axis=2)\n",
    "nobr=np.roll(nob,shift=72,axis=2)\n",
    "\n",
    "lat_e=0.5*(lat[1:]+lat[:-1])\n",
    "print(lat_e.shape)"
   ]
  },
  {
   "cell_type": "code",
   "execution_count": null,
   "id": "5ff26cd5-f077-421e-aba8-14b8d40e90af",
   "metadata": {},
   "outputs": [],
   "source": [
    "\n",
    "mflv=np.linspace(0,60,num=21)\n",
    "#plt.contourf( lon,lat,np.sum(amf0r[120:161,:,:],axis=0), levels=mflv)\n",
    "plt.contourf( lon,lat,np.sum(nobr[120:161,:,:],axis=0), levels=mflv)\n",
    "#plt.contour( nob[156,:,:], levels=31, colors='black' )\n",
    "plt.ylim(-90,90)\n",
    "plt.colorbar()"
   ]
  },
  {
   "cell_type": "markdown",
   "id": "8762a475-9182-497e-928c-93c6c23cd4f7",
   "metadata": {},
   "source": [
    "Create cciasi scrip file \n",
    "lat_e=-88.75+np.arange(19)*2.5\n",
    "lon_e=1.25+np.arange(143)*2.5\n",
    "\n",
    "x | x .... x | x \n",
    "0             360"
   ]
  },
  {
   "cell_type": "code",
   "execution_count": null,
   "id": "de1b4acc-a279-42e9-a655-2c7dbd42ba9e",
   "metadata": {},
   "outputs": [],
   "source": [
    "import esmpy as ESMF\n",
    "# Import packages \n",
    "import sys\n",
    "\n",
    "# import modules in other directories\n",
    "sys.path.append('../../PyRegridding/Regridder/')\n",
    "import scripGen as SG\n",
    "import esmfRegrid as erg\n",
    "\n",
    "import importlib\n",
    "importlib.reload( SG )\n",
    "\n",
    "#Rdry = Con.Rdry() # "
   ]
  },
  {
   "cell_type": "code",
   "execution_count": null,
   "id": "b301b418-e377-4c60-9a92-dce3c918c064",
   "metadata": {},
   "outputs": [],
   "source": [
    "# Define your longitude values\n",
    "#lon = np.arange(1.25, 361.25, 2.5)\n",
    "lon = np.arange( 0., 360., 2.5 )\n",
    "#lat = -88.75 + np.arange(19)  # Example latitudes for the sake of completeness\n",
    "lat = -87.5 + np.arange(19)*2.5\n",
    "dso=SG.latlon_to_scrip( longitudes=lon, latitudes=lat, file_out='CCIASI_scrip.nc',  SkipAreaCheck=True )\n",
    "\n",
    "\n",
    "\n"
   ]
  },
  {
   "cell_type": "code",
   "execution_count": null,
   "id": "51dab56e-30bc-4c8c-beeb-f53b2fe217e1",
   "metadata": {},
   "outputs": [],
   "source": [
    "# Create a grid\n",
    "srcgrid = ESMF.Grid(np.array([len(lat), len(lon)]), staggerloc=ESMF.StaggerLoc.CORNER, coord_sys=ESMF.CoordSys.SPH_DEG)\n",
    "\n",
    "# Define the coordinates for the grid\n",
    "srcgrid_corner_lon = srcgrid.get_coords(0, staggerloc=ESMF.StaggerLoc.CORNER)\n",
    "srcgrid_corner_lat = srcgrid.get_coords(1, staggerloc=ESMF.StaggerLoc.CORNER)\n",
    "\n",
    "# Assign values to the grid corners\n",
    "# This is a simplification; usually, you'd have more complex logic to assign these\n",
    "srcgrid_corner_lon[:, :] = np.roll(lon, -1)  # Ensure cyclic nature\n",
    "srcgrid_corner_lat[:, :] = lat\n",
    "\n",
    "# Define source field on the grid\n",
    "srcfield = ESMF.Field(srcgrid, name='srcfield')\n",
    "\n",
    "# Define the destination grid similarly...\n",
    "\n",
    "# Perform regridding\n",
    "regrid = ESMF.Regrid(srcfield, dstfield, regrid_method=ESMF.RegridMethod.BILINEAR)\n",
    "regrid(srcfield, dstfield)"
   ]
  },
  {
   "cell_type": "code",
   "execution_count": null,
   "id": "04697776-065d-4cd3-b711-fa6219218857",
   "metadata": {},
   "outputs": [],
   "source": []
  }
 ],
 "metadata": {
  "kernelspec": {
   "display_name": "NPL 2023b",
   "language": "python",
   "name": "npl-2023b"
  },
  "language_info": {
   "codemirror_mode": {
    "name": "ipython",
    "version": 3
   },
   "file_extension": ".py",
   "mimetype": "text/x-python",
   "name": "python",
   "nbconvert_exporter": "python",
   "pygments_lexer": "ipython3",
   "version": "3.10.12"
  }
 },
 "nbformat": 4,
 "nbformat_minor": 5
}
