{
 "cells": [
  {
   "cell_type": "code",
   "execution_count": null,
   "id": "abda101d-5eee-4761-b122-27066e2274d0",
   "metadata": {},
   "outputs": [],
   "source": [
    "################################################\n",
    "# New style \n",
    "################################################\n",
    "import sys\n",
    "import os\n",
    "\n",
    "workdir_ = '/glade/work/juliob'\n",
    "if ( workdir_ not in sys.path ):\n",
    "    sys.path.append(workdir_)\n",
    "    print( f\" a path to {workdir_} added in {__name__} \")\n",
    "\n",
    "# Cartopy for pretty maps\n",
    "import cartopy\n",
    "import cartopy.crs as ccrs\n",
    "import cartopy.feature as cfeature\n",
    "\n",
    "from myPythonTools.Utils import utils as uti\n",
    "from myPythonTools.Utils import numerical_utils as nuti\n",
    "from myPythonTools.Utils import AveragingUtils as Av\n",
    "from myPythonTools.Utils import validation_data as Val\n",
    "from myPythonTools.Utils import PlotUtil as Pu\n",
    "from myPythonTools.Plotting import LatLonMaps as LL \n",
    "from myPythonTools.CASutils import filter_utils as fu \n",
    "\n",
    "from PyRegridding.Utils import GridUtils as GrU\n",
    "from PyRegridding.Utils import MakePressures as MkP\n",
    "from PyRegridding.Drivers import RegridField as RgF\n",
    "from PyRegridding.Utils import MyConstants as Con\n",
    "\n",
    "\n",
    "# The usual\n",
    "from datetime import date\n",
    "import numpy as np\n",
    "import xarray as xr\n",
    "import matplotlib.pyplot as plt\n",
    "import matplotlib.tri as tri\n",
    "\n",
    "\n",
    "# Some other useful packages \n",
    "import importlib\n",
    "import copy\n",
    "import time\n",
    "import cftime\n",
    "\n",
    "importlib.reload( fu )\n",
    "importlib.reload( uti )\n",
    "importlib.reload( Pu )\n",
    "importlib.reload(Av)\n",
    "importlib.reload(Val)\n",
    "#importlib.reload(vAB)\n",
    "importlib.reload(MkP)\n",
    "importlib.reload(RgF)\n",
    "\n",
    "Rgas = Con.Rdry() # 287.0 # J K-1 kg-1\n",
    "grav = Con.grav() # 9.8\n"
   ]
  },
  {
   "cell_type": "code",
   "execution_count": null,
   "id": "187de81d-0941-4d2a-9d2c-a0392ad6a121",
   "metadata": {},
   "outputs": [],
   "source": [
    "\n",
    "### Make a list of files\n",
    "import yaml\n",
    "#from box import Box\n",
    "\n",
    "\n",
    "with open('configure_ana_plots.yaml', 'r') as file:\n",
    "    cfg = yaml.safe_load(file)\n",
    "\n",
    "\n",
    "##########################\n",
    "# CHOOSE DATE TO LOOK AT\n",
    "############################\n",
    "ymdPat = '2004-06-07-*'\n",
    "\n",
    "######################################################\n",
    "season = cfg['plot']['season']\n",
    "valData  = cfg['validation']['data']\n",
    "valYears = cfg['validation']['years']\n",
    "\n",
    "x='ne240x2' #_smth'\n",
    "\n",
    "xl= ['oldCTL', 'c153_ne120_x2' ,'ne240x2', 'newCTL' ] #'ne240x2_QxQsst']\n",
    "\n",
    "exp, subd, Src, Hkey, Dst, useri = cfg[x]['name'] , cfg[x]['subdir'] , cfg[x]['SrcGrid'] , cfg[x]['Hkey'] , cfg[x]['DstGrid'] , cfg[x]['user'] \n",
    "\n",
    "\n",
    "\n",
    "print( exp, subd, Src, Hkey, Dst, useri )\n",
    "print( ymdPat , season )\n",
    "print( valData , valYears )\n",
    "\n",
    "A = uti.MakeDict4Exp( exp=exp , user=useri, subd=subd , \n",
    "                 hsPat='cam.h1i' , ymdPat=ymdPat,verbose=True, open_dataset=True )\n",
    "A['Src']=Src\n",
    "A['Hkey']=Hkey\n",
    "\n",
    "\n",
    "\n"
   ]
  },
  {
   "cell_type": "code",
   "execution_count": null,
   "id": "3879d790-0590-4160-94e8-8ce3c46fd94a",
   "metadata": {},
   "outputs": [],
   "source": [
    "\n",
    "am=A.X.hyam.values\n",
    "ai=A.X.hyai.values\n",
    "bm=A.X.hybm.values\n",
    "bi=A.X.hybi.values\n",
    "ps=A.X.PS.values\n",
    "te=A.X.T.values\n",
    "\n",
    "\n",
    "pmid,pint,delp=MkP.Pressure( am=am, bm=bm, ai=ai, bi=bi, ps=ps , p_00=100_000., Gridkey='tzc' )\n",
    "\n",
    "Topo=xr.open_dataset( A.X.topography_file )\n",
    "topo=Topo.PHIS/grav\n",
    "\n",
    "z3e , z3o = MkP.GeopHeight( te, delp, pmid, topo=topo, Gridkey='tzc')"
   ]
  },
  {
   "cell_type": "code",
   "execution_count": null,
   "id": "6f2a736b-22f2-4ad8-8ce0-b2d90ae70367",
   "metadata": {},
   "outputs": [],
   "source": [
    "og=A.X.OMEGA.values\n",
    "uu=A.X.U.values\n",
    "vv=A.X.V.values\n"
   ]
  },
  {
   "cell_type": "code",
   "execution_count": null,
   "id": "dd9a9294-2d06-4dc1-ba23-3ac534cfdcd0",
   "metadata": {},
   "outputs": [],
   "source": [
    "RgObs={}\n",
    "RegridObj = GrU.regrid_object_lib(RgOb=RgObs, src=A.Src, dst='latlonOxO',RegridMethod='BILINEAR')\n"
   ]
  },
  {
   "cell_type": "code",
   "execution_count": null,
   "id": "fec865de-adc2-44e2-993c-76dd58c0e2b5",
   "metadata": {},
   "outputs": [],
   "source": [
    "uu_xO=RgF.Horz(xfld_Src=uu , RegridObj_In= RegridObj ) \n",
    "vv_xO=RgF.Horz(xfld_Src=vv , RegridObj_In= RegridObj ) \n",
    "og_xO=RgF.Horz(xfld_Src=og , RegridObj_In= RegridObj ) \n",
    "z3o_xO=RgF.Horz(xfld_Src=z3o , RegridObj_In= RegridObj ) \n",
    "z3e_xO=RgF.Horz(xfld_Src=z3e , RegridObj_In= RegridObj ) \n",
    "te_xO=RgF.Horz(xfld_Src=te , RegridObj_In= RegridObj ) \n",
    "\n",
    "\n",
    "cpair= Con.cpair()\n",
    "dse_xO = cpair * te_xO + grav * z3o_xO\n"
   ]
  },
  {
   "cell_type": "code",
   "execution_count": null,
   "id": "3d3d93ed-679c-4de4-be72-3000d5f6fed5",
   "metadata": {},
   "outputs": [],
   "source": [
    "# Only possible on lat-lon field\n",
    "\n",
    "\n",
    "lat_xO,lon_xO =GrU.latlon(grid='latlonOxO' )\n",
    "nt,nz,ny,nx=np.shape( uu_xO )\n",
    "\n",
    "zeta_xO=np.zeros((nt,nz,ny,nx) )\n",
    "for t in np.arange( nt ):\n",
    "    for z in np.arange(nz):\n",
    "        if ( (z%10)==0):\n",
    "            print( f'time {t}, z {z}' ) \n",
    "        zeta_xO [t,z,:,:] = nuti.Sphere_Curl2( uu_xO[t,z,:,:] , vv_xO[t,z,:,:] , lat_xO, lon_xO, wrap=True )\n",
    "\n",
    "\n",
    "\n",
    "og_xO_f=np.zeros((nt,nz, ny,nx) )\n",
    "for t in np.arange( nt ):\n",
    "    for z in np.arange( nz ):\n",
    "        if ( (t%1)==0) and ( (z%10)==0):\n",
    "            print( f'time {t} z {z}' ) \n",
    "        og_xO_f[t,z,:,:]=fu.filterk_np( og_xO[t,z,:,:] , kmin=0,kmax=20,dimlon=1 )\n",
    "\n",
    "\n"
   ]
  },
  {
   "cell_type": "code",
   "execution_count": null,
   "id": "295f96fb-5718-42fd-9537-16e85eb9ee20",
   "metadata": {},
   "outputs": [],
   "source": [
    "print( ' .... stopping '  )"
   ]
  },
  {
   "cell_type": "code",
   "execution_count": null,
   "id": "694e7c16-c7f7-42a5-8d50-cd88537676c2",
   "metadata": {},
   "outputs": [],
   "source": [
    "print( ' .... stopping '  )"
   ]
  },
  {
   "cell_type": "code",
   "execution_count": null,
   "id": "678ba9b2-f61f-4707-9323-bf942ac8ec7d",
   "metadata": {},
   "outputs": [],
   "source": [
    "print( ' .... stopping '  )"
   ]
  },
  {
   "cell_type": "code",
   "execution_count": null,
   "id": "1df61baf-5d74-4db8-80c1-63bb73dc412f",
   "metadata": {},
   "outputs": [],
   "source": [
    "Lon_xO = np.tile( lon_xO, (nt,nz,ny,1) )"
   ]
  },
  {
   "cell_type": "code",
   "execution_count": null,
   "id": "01784ce5-4a26-4493-8cbd-b7ea853ec1be",
   "metadata": {},
   "outputs": [],
   "source": [
    "plt.contour( Lon_xO[0,0,:,:] )"
   ]
  },
  {
   "cell_type": "code",
   "execution_count": null,
   "id": "b4c9a024-d891-463e-aaf2-7f5080121a57",
   "metadata": {},
   "outputs": [],
   "source": [
    "print(lat_xO[8*42] )"
   ]
  },
  {
   "cell_type": "code",
   "execution_count": null,
   "id": "5566e081-db8b-461b-9b52-737c6c2643d4",
   "metadata": {},
   "outputs": [],
   "source": [
    "plev=A.X.lev.values\n",
    "zlev=-7.0*np.log(plev/1_000.)\n",
    "\n",
    "t,z,y = 0,0,600\n",
    "\n",
    "#co=plt.contourf( lon_xO, zlev, uu_xO[0,:,8*42,:] ,cmap='bwr')\n",
    "c2=plt.contourf( Lon_xO[t,:,y,:], z3o_xO[t,:,y,:], og_xO[t,:,y,:] ,cmap='bwr',levels=51,alpha=1)\n",
    "l2=plt.plot( Lon_xO[t,92,y,:],z3e_xO[t,93,y,:] )\n",
    "plt.ylim( 0,20000) \n",
    "plt.colorbar(c2)"
   ]
  },
  {
   "cell_type": "code",
   "execution_count": null,
   "id": "9f520222-e370-47cd-aa3e-77e62eadd72a",
   "metadata": {},
   "outputs": [],
   "source": [
    "plt.contourf( z3e_xO[t,93,:,:] )"
   ]
  },
  {
   "cell_type": "code",
   "execution_count": null,
   "id": "d26caa38-7bf4-4f3b-ba6f-ecfb02621e3b",
   "metadata": {},
   "outputs": [],
   "source": [
    "# Assuming your dataset is named 'ds' and the longitude coordinate is named 'lon'\n",
    "#Topo['lon'] = xr.where(Topo['lon'] > 180, Topo['lon'] - 360, Topo['lon'])\n",
    "# Roll the dataset along the longitude axis\n",
    "#Topo = Topo.roll(lon=len(Topo['lon']) // 2, roll_coords=True)"
   ]
  },
  {
   "cell_type": "code",
   "execution_count": null,
   "id": "de05b075-1146-4bf0-b7fc-40499afeec15",
   "metadata": {},
   "outputs": [],
   "source": [
    "Topo2=xr.open_dataset(\"../AnimationFiles/Topo_ne240_OxO_remap.nc\" )\n",
    "\n",
    "\n",
    "topo2=Topo2.TopoHt.values\n",
    "levels_topo=[1.,10.]  #,100.,500.,1000.,3000.,5000.]\n",
    "\n"
   ]
  },
  {
   "cell_type": "code",
   "execution_count": null,
   "id": "41f15381-211b-42c2-92f7-164d41b4fa56",
   "metadata": {},
   "outputs": [],
   "source": [
    "plt.contour(topo2,levels=[1,10,100])"
   ]
  },
  {
   "cell_type": "code",
   "execution_count": null,
   "id": "bf8df032-c60d-42f8-84c1-d842bf472590",
   "metadata": {},
   "outputs": [],
   "source": [
    "dog_xO = og_xO - og_xO_f\n",
    "for z in np.arange( nz ):\n",
    "    dog_xO[:,z,:,:] = (1./9.8)*(1_000./plev[z]) * dog_xO[:,z,:,:] "
   ]
  },
  {
   "cell_type": "code",
   "execution_count": null,
   "id": "b1040343-6313-49d9-9dd3-0176bf14cb17",
   "metadata": {},
   "outputs": [],
   "source": [
    "topo_xO = z3e_xO[0,93,:,:]"
   ]
  },
  {
   "cell_type": "code",
   "execution_count": null,
   "id": "97d3f058-3db9-4abf-9ee6-b68bee1ae1ca",
   "metadata": {},
   "outputs": [],
   "source": [
    "target_plevs = [ 932.0, 856., 499., 227.0,  58., 2.8]\n",
    "lev_sel = uti.find_nearest_plev_indices(plev=plev , target_levels=target_plevs )\n",
    "lat_sel= uti.find_nearest_plev_indices(plev=lat_xO  , target_levels=[-41.])\n",
    "print(lat_xO[lat_sel])"
   ]
  },
  {
   "cell_type": "code",
   "execution_count": null,
   "id": "8c5c489b-3713-450c-9f3f-b0bcbef2219d",
   "metadata": {},
   "outputs": [],
   "source": [
    "t,z,y,x = 2,lev_sel[4],lat_sel[0],-999\n",
    "x0,x1=0,140\n",
    "print(zlev[z] )"
   ]
  },
  {
   "cell_type": "code",
   "execution_count": null,
   "id": "a9f8a113-5750-4a4c-b9c1-395e224236cc",
   "metadata": {},
   "outputs": [],
   "source": [
    "MapProj =ccrs.PlateCarree() #ccrs.Orthographic(0, -90.)\n",
    "DataProj = ccrs.PlateCarree()\n",
    "# Get the name of the projection\n",
    "proj_name = MapProj.__class__.__name__\n",
    "levy=np.linspace(-10,10,num=41) #[-10,-5,-1,-.5,-.1,-.05,-.01,0,.01,.05,.1,.5,1,5,10]\n",
    "volev = 0.0002 * np.linspace(-1,1,num=5)\n",
    "\n",
    "#fig, ax = plt.subplots(figsize=(10,10) , projection=MapProj )\n",
    "fig = plt.figure(figsize=( 20, 10 ))\n",
    "Axes = Pu.axes_def(n=1,nxplo=1,nyplo=1 ) \n",
    "ax = fig.add_axes( Axes ) #, projection=MapProj)\n",
    "c2=ax.contourf( lon_xO, lat_xO, dog_xO[t,z,:,:] ,cmap='bwr',levels=0.1*levy,alpha=1 ,extend='both' )#, transform=DataProj )\n",
    "c3=ax.contour( lon_xO, lat_xO, topo_xO[:,:] ,cmap='terrain',levels=[1,100,300,500,1000],alpha=.2 )#, transform=DataProj )\n",
    "c4=ax.contour( lon_xO, lat_xO, zeta_xO[t,lev_sel[2],:,:] ,colors='black',levels=volev,alpha=.2 )#, transform=DataProj )\n",
    "\n",
    "oo=r\"$\\omega'/g \\rho$\"\n",
    "annot= ax.text( 0.05,.05,A.X.time[t].dt.strftime('%Y-%m-%d %HZ').values , transform=ax.transAxes, fontsize=20, bbox=dict(facecolor='white') )\n",
    "annot2= ax.text( 0.4,.99, f'{oo} at Z={zlev[z]:.0f} km' , transform=ax.transAxes, fontsize=20, bbox=dict(facecolor='white') )\n",
    "degree_symbol = '\\u00B0'\n",
    "ax.set_xlabel( f'Longitude ({degree_symbol}E)', fontsize=16)\n",
    "ax.set_ylabel( f'Latitude ({degree_symbol})' ,fontsize=16 )\n",
    "\n",
    "loo=ax.plot( [x0,x1], [0,0]+lat_xO[y])\n",
    "cbar=plt.colorbar(c2,ax=ax,shrink=0.7,label=r\"m s$^{-1}$\")"
   ]
  },
  {
   "cell_type": "code",
   "execution_count": null,
   "id": "44b00300-cf10-4f09-bb08-83e2eae138e9",
   "metadata": {},
   "outputs": [],
   "source": [
    "degree_symbol = '\\u00B0'\n",
    "\n",
    "from matplotlib.colors import BoundaryNorm\n",
    "\n",
    "#co=plt.contourf( lon_xO, zlev, uu_xO[0,:,8*42,:] ,cmap='bwr')\n",
    "levy=[-10,-5,-3,-1,-.5,-.1,-.05,-.01,0,.01,.05,.1,.5,1,3,5,10]\n",
    "levy2=[-10,-1,-.1,-.01,0,.01,.1,1,10]\n",
    "volev = 0.0002 * np.linspace(-1,1,num=51)\n",
    "uulev=np.linspace(-20,20,num=11)\n",
    "\n",
    "# Create a BoundaryNorm for uniform colors\n",
    "norm = BoundaryNorm(levy, ncolors=256, clip=True)\n",
    "\n",
    "# Create a figure with a 2x2 grid of subplots\n",
    "fig, ax = plt.subplots(1, 3, figsize=(30, 5))\n",
    "\n",
    "# Flatten axs to easily access each subplot by index\n",
    "ax = ax.flatten()\n",
    "\n",
    "\n",
    "n=0\n",
    "\n",
    "c2=ax[n].contourf( Lon_xO[t,:,y,:] , z3o_xO[t,:,y,:] , dog_xO[t,:,y,:] ,cmap='bwr',levels=levy,norm=norm, alpha=1)\n",
    "#c3=plt.contour(  Lon_xO[t,:,y,:] ,  z3o_xO[t,:,y,:] , zeta_xO[t,:,y,:] ,colors='black',levels=21, alpha=0.2)\n",
    "c3=ax[n].contour(  Lon_xO[t,:,y,:] ,  z3o_xO[t,:,y,:] , dse_xO[t,:,y,:] ,colors='black',levels=cpair*270.+grav*np.linspace(0,15000,num=31) , alpha=0.2)\n",
    "ax[n].plot( lon_xO, topo_xO[y,:]  ) \n",
    "ax[n].set_xlim((x0,x1))\n",
    "ax[n].set_ylim(0,25_000)\n",
    "ax[n].set_ylabel( 'Z(m)', fontsize=16)\n",
    "ax[n].set_xlabel( f'Longitude ({degree_symbol}E)', fontsize=16)\n",
    "plt.colorbar(c2,label=r'm s$^{-1}$')\n",
    "\n",
    "n=1\n",
    "\n",
    "c3=ax[n].contourf(  Lon_xO[t,:,y,:] ,  z3o_xO[t,:,y,:] , zeta_xO[t,:,y,:] ,cmap='plasma',levels=volev , alpha=0.5)\n",
    "#c2=ax[n].contour( Lon_xO[t,:,y,:] , z3o_xO[t,:,y,:] , dog_xO[t,:,y,:] ,colors='green',levels=levy2,norm=norm, alpha=.15)\n",
    "c4=ax[n].contour(  Lon_xO[t,:,y,:] ,  z3o_xO[t,:,y,:] , dse_xO[t,:,y,:] ,colors='black',levels=cpair*270.+grav*np.linspace(0,15000,num=31) , alpha=0.2)\n",
    "ax[n].plot( lon_xO, topo_xO[y,:]  ) \n",
    "ax[n].set_xlim((x0,x1))\n",
    "ax[n].set_ylim(0,25_000)\n",
    "ax[n].set_ylabel( 'Z(m)', fontsize=16)\n",
    "ax[n].set_xlabel( f'Longitude ({degree_symbol}E)', fontsize=16)\n",
    "plt.colorbar(c3,label=r'm s$^{-1}$')\n",
    "\n",
    "n=2\n",
    "\n",
    "c3=ax[n].contourf(  Lon_xO[t,:,y,:] ,  z3o_xO[t,:,y,:] , np.average(uu_xO[t,:,y-2*24:y+2*24,:],axis=1) ,cmap='bwr',levels=uulev , alpha=0.5)\n",
    "#c2=ax[n].contour( Lon_xO[t,:,y,:] , z3o_xO[t,:,y,:] , dog_xO[t,:,y,:] ,colors='green',levels=levy2,norm=norm, alpha=.15)\n",
    "c4=ax[n].contour(  Lon_xO[t,:,y,:] ,  z3o_xO[t,:,y,:] , dse_xO[t,:,y,:] ,colors='black',levels=cpair*270.+grav*np.linspace(0,15000,num=31) , alpha=0.2)\n",
    "ax[n].plot( lon_xO, topo_xO[y,:]  ) \n",
    "ax[n].set_xlim((x0,x1))\n",
    "ax[n].set_ylim(0,25_000)\n",
    "ax[n].set_ylabel( 'Z(m)', fontsize=16)\n",
    "ax[n].set_xlabel( f'Longitude ({degree_symbol}E)', fontsize=16)\n",
    "plt.colorbar(c3,label=r'm s$^{-1}$')\n",
    "\n"
   ]
  },
  {
   "cell_type": "code",
   "execution_count": null,
   "id": "a584336b-d0e8-4f9d-bf39-8d790d8c4ecf",
   "metadata": {},
   "outputs": [],
   "source": [
    "from matplotlib.colors import BoundaryNorm\n",
    "fig = plt.figure(figsize=( 10, 5 ))\n",
    "Axes = Pu.axes_def(n=1,nxplo=1,nyplo=1 ) \n",
    "ax = fig.add_axes( Axes )\n",
    "\n",
    "#co=plt.contourf( lon_xO, zlev, uu_xO[0,:,8*42,:] ,cmap='bwr')\n",
    "levy=[-10,-5,-3,-1,-.5,-.1,-.05,-.01,0,.01,.05,.1,.5,1,3,5,10]\n",
    "\n",
    "# Create a BoundaryNorm for uniform colors\n",
    "norm = BoundaryNorm(levy, ncolors=256, clip=True)\n",
    "\n",
    "c2=ax.contourf( Lon_xO[t,:,y,:] , z3o_xO[t,:,y,:] , dog_xO[t,:,y,:] ,cmap='bwr',levels=levy,norm=norm, alpha=1)\n",
    "#c3=plt.contour(  Lon_xO[t,:,y,:] ,  z3o_xO[t,:,y,:] , zeta_xO[t,:,y,:] ,colors='black',levels=21, alpha=0.2)\n",
    "c3=ax.contour(  Lon_xO[t,:,y,:] ,  z3o_xO[t,:,y,:] , dse_xO[t,:,y,:] ,colors='black',levels=cpair*270.+grav*np.linspace(0,15000,num=31) , alpha=0.2)\n",
    "ax.plot( lon_xO, topo_xO[y,:]  ) \n",
    "ax.set_xlim((x0,x1))\n",
    "ax.set_ylim(0,25_000)\n",
    "ax.set_ylabel( 'Z(m)', fontsize=16)\n",
    "degree_symbol = '\\u00B0'\n",
    "ax.set_xlabel( f'Longitude ({degree_symbol}E)', fontsize=16)\n",
    "plt.colorbar(c2,label=r'm s$^{-1}$')"
   ]
  },
  {
   "cell_type": "code",
   "execution_count": null,
   "id": "a416938c-cbee-4675-b262-eff8ccb1ef0a",
   "metadata": {},
   "outputs": [],
   "source": [
    "from matplotlib.colors import BoundaryNorm\n",
    "fig = plt.figure(figsize=( 10, 5 ))\n",
    "Axes = Pu.axes_def(n=1,nxplo=1,nyplo=1 ) \n",
    "ax = fig.add_axes( Axes )\n",
    "\n",
    "#co=plt.contourf( lon_xO, zlev, uu_xO[0,:,8*42,:] ,cmap='bwr')\n",
    "levy=[-10,-5,-3,-1,-.5,-.1,-.05,-.01,0,.01,.05,.1,.5,1,3,5,10]\n",
    "levy2=[-10,-1,-.1,-.01,0,.01,.1,1,10]\n",
    "volev = 0.0002 * np.linspace(-1,1,num=51)\n",
    "\n",
    "# Create a BoundaryNorm for uniform colors\n",
    "norm = BoundaryNorm(levy, ncolors=256, clip=True)\n",
    "\n",
    "#c2=ax.contourf( Lon_xO[t,:,y,:] , z3o_xO[t,:,y,:] , dog_xO[t,:,y,:] ,cmap='bwr',levels=levy,norm=norm, alpha=.5)\n",
    "#c3=plt.contour(  Lon_xO[t,:,y,:] ,  z3o_xO[t,:,y,:] , zeta_xO[t,:,y,:] ,colors='black',levels=21, alpha=0.2)\n",
    "c3=ax.contourf(  Lon_xO[t,:,y,:] ,  z3o_xO[t,:,y,:] , zeta_xO[t,:,y,:] ,cmap='plasma',levels=volev , alpha=0.5)\n",
    "#c2=ax.contour( Lon_xO[t,:,y,:] , z3o_xO[t,:,y,:] , dog_xO[t,:,y,:] ,colors='green',levels=levy2,norm=norm, alpha=.15)\n",
    "c4=ax.contour(  Lon_xO[t,:,y,:] ,  z3o_xO[t,:,y,:] , dse_xO[t,:,y,:] ,colors='black',levels=cpair*270.+grav*np.linspace(0,15000,num=31) , alpha=0.2)\n",
    "ax.plot( lon_xO, topo_xO[y,:]  ) \n",
    "ax.set_xlim((x0,x1))\n",
    "ax.set_ylim(0,25_000)\n",
    "ax.set_ylabel( 'Z(m)', fontsize=16)\n",
    "degree_symbol = '\\u00B0'\n",
    "ax.set_xlabel( f'Longitude ({degree_symbol}E)', fontsize=16)\n",
    "plt.colorbar(c3,label=r'm s$^{-1}$')"
   ]
  },
  {
   "cell_type": "code",
   "execution_count": null,
   "id": "cfaddaf3-f047-4d6a-82fa-30f78e362b77",
   "metadata": {},
   "outputs": [],
   "source": [
    "print(uu_xO.shape)"
   ]
  },
  {
   "cell_type": "code",
   "execution_count": null,
   "id": "d8864eec-9d47-4d78-b111-ad929cce2ecf",
   "metadata": {},
   "outputs": [],
   "source": []
  }
 ],
 "metadata": {
  "kernelspec": {
   "display_name": "NPL 2023b",
   "language": "python",
   "name": "npl-2023b"
  },
  "language_info": {
   "codemirror_mode": {
    "name": "ipython",
    "version": 3
   },
   "file_extension": ".py",
   "mimetype": "text/x-python",
   "name": "python",
   "nbconvert_exporter": "python",
   "pygments_lexer": "ipython3",
   "version": "3.10.12"
  }
 },
 "nbformat": 4,
 "nbformat_minor": 5
}
