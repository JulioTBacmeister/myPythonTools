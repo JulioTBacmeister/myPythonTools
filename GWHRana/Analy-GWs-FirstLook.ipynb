{
 "cells": [
  {
   "cell_type": "code",
   "execution_count": null,
   "id": "abda101d-5eee-4761-b122-27066e2274d0",
   "metadata": {},
   "outputs": [],
   "source": [
    "#workdir_ = '/glade/work/juliob/'\n",
    "import sys\n",
    "#######################################\n",
    "# Leave this for now. But it should change to better\n",
    "# method as here:\n",
    "import os\n",
    "This_module_path = os.getcwd()  #os.path.dirname(os.path.abspath(__file__))\n",
    "workdir_ = os.path.join(This_module_path, '../../' )\n",
    "# sys.path.append(utils_path)\n",
    "# print( f\" a path added in {__name__} {utils_path} \")\n",
    "\n",
    "print( f\" In {__name__} we have This_module_path={This_module_path} \" )\n",
    "print( f\" In {__name__} we have workdir_={workdir_} \" )\n",
    "########################################\n",
    "sys.path.append(workdir_ + 'myPythonTools/GenlTools/')\n",
    "sys.path.append(workdir_ + 'myPythonTools/Utils/')\n",
    "sys.path.append(workdir_ + 'myPythonTools/Plotting/')\n",
    "sys.path.append(workdir_ + 'myPythonTools/CASutils/')\n",
    "#sys.path.append(workdir_ + 'PyRegridding/Regridder/')\n",
    "sys.path.append(workdir_ + 'PyRegridding/Utils/')\n",
    "\n",
    "# Own local packages\n",
    "import AveragingUtils as Av\n",
    "#import VertRegridFlexLL as Vrg  # This is toxic for some reason\n",
    "import PlotUtil as Pu\n",
    "import utils as uti\n",
    "import numerical_utils as nuti\n",
    "import validation_data as Val\n",
    "import var_A_x_B as vAB\n",
    "import MakePressures as MkP\n",
    "import GridUtils as GrU\n",
    "import LatLonMaps as LL\n",
    "import filter_utils as fu\n",
    "\n",
    "sys.path.append(workdir_ + 'PyRegridding/Drivers/')\n",
    "import RegridField as RgF\n",
    "\n",
    "# The usual\n",
    "from datetime import date\n",
    "import numpy as np\n",
    "import xarray as xr\n",
    "import matplotlib.pyplot as plt\n",
    "import matplotlib.tri as tri\n",
    "\n",
    "# Cartopy for pretty maps\n",
    "import cartopy\n",
    "import cartopy.crs as ccrs\n",
    "import cartopy.feature as cfeature\n",
    "\n",
    "# Some other useful packages \n",
    "import importlib\n",
    "import copy\n",
    "import time\n",
    "import cftime\n",
    "import yaml\n",
    "#from box import Box\n",
    "\n",
    "importlib.reload( LL )\n",
    "importlib.reload( uti )\n",
    "importlib.reload( nuti )\n",
    "importlib.reload( Pu )\n",
    "importlib.reload(Av)\n",
    "importlib.reload(Val)\n",
    "importlib.reload(vAB)\n",
    "importlib.reload(MkP)\n",
    "importlib.reload(GrU)\n"
   ]
  },
  {
   "cell_type": "code",
   "execution_count": null,
   "id": "7f484563-5fc4-4fec-b099-2e084861622f",
   "metadata": {},
   "outputs": [],
   "source": [
    "%%time\n",
    "##########################################################\n",
    "# Generate regirdding objetcs to be usedf later on\n",
    "#---------------------------------------------------------\n",
    "\n",
    "RgOb_ne240_x_ne16 = RgF.Horz( Src='ne240pg3', Dst='ne16pg3' ) \n",
    "\n",
    "RgOb_ne16_x_ne240 = RgF.Horz(  Src='ne16pg3' , Dst='ne240pg3' , RegridMethod='BILINEAR' ) \n",
    "\n",
    "RgOb_ne240_x_llOxO = RgF.Horz( Src='ne240pg3', Dst='latlonOxO' ) \n"
   ]
  },
  {
   "cell_type": "raw",
   "id": "f10ad488-aa0f-4ab4-9d14-f28b531c39f4",
   "metadata": {},
   "source": [
    "import dill\n",
    "\n",
    "# Let's say `esmf_object` holds your time-consuming ESMF calculation result\n",
    "filename = '/glade/work/juliob/GridFiles/Pickles/RgOb_ne240_x_ne16.pkl'\n",
    "\n",
    "# Open a file in write-binary mode and use pickle to save the object\n",
    "with open(filename, 'wb') as file:\n",
    "    dill.dump(RgOb_ne240_x_ne16[1] , file)\n"
   ]
  },
  {
   "cell_type": "code",
   "execution_count": null,
   "id": "b7161d43-5ee8-4b07-babe-b819899d2394",
   "metadata": {},
   "outputs": [],
   "source": [
    "\n",
    "\n",
    "with open('configure_plots.yaml', 'r') as file:\n",
    "    cfg = yaml.safe_load(file)\n",
    "\n",
    "\n",
    "######################################################\n",
    "\n",
    "x='ne240x2'\n",
    "#x='oldCTL' #'waccmL135'\n",
    "exp, subd, Src, Hkey, Dst, useri = cfg[x]['name'] , cfg[x]['subdir'] , cfg[x]['SrcGrid'] , cfg[x]['Hkey'] , cfg[x]['DstGrid'] , cfg[x]['user'] \n",
    "ymdPat = cfg[x]['ymdPat']\n",
    "hsPat = cfg[x]['hsPat']\n",
    "print( exp, subd, Src, Hkey, Dst, useri )\n",
    "\n",
    "year,month,day,hour = 1985,1,1,0\n",
    "second = hour  * 3600\n",
    "ymdPat=str( year ).zfill(4) + '-' + str(month).zfill(2) + '-' + str(day).zfill(2) + '-' + str(second).zfill(5)\n",
    "\n",
    "ymdPat='2004-07-15-*'\n",
    "A = uti.MakeDict4Exp( exp=exp , user=useri, subd=subd , \n",
    "                     hsPat=hsPat , ymdPat=ymdPat,verbose=True, open_dataset=True )\n",
    "\n"
   ]
  },
  {
   "cell_type": "code",
   "execution_count": null,
   "id": "595158e7-53cf-481c-a284-04596748c92b",
   "metadata": {},
   "outputs": [],
   "source": [
    "Topo=xr.open_dataset(A.X.topography_file)\n",
    "topoO=Topo.PHIS.values / 9.8"
   ]
  },
  {
   "cell_type": "code",
   "execution_count": null,
   "id": "07dcdb26-d6e6-416a-b674-444408e2055a",
   "metadata": {},
   "outputs": [],
   "source": [
    "ogO=A.X.OMEGA.values\n",
    "\n",
    "print(ogO.shape)\n",
    "\n",
    "ogOx2=RgF.Horz(xfld_Src=ogO , Src='ne240pg3', Dst='ne16pg3' , RegridObj_In=  RgOb_ne240_x_ne16  ) \n",
    "\n",
    "ogOx2xO=RgF.Horz(xfld_Src=ogOx2 , Src='ne16pg3' , Dst='ne240pg3', RegridObj_In= RgOb_ne16_x_ne240  ) \n",
    "\n",
    "latO,lonO = GrU.latlon( grid='ne240pg3' )\n",
    "\n",
    "print( ogO.shape )\n",
    "print( ogOx2.shape )\n",
    "print( ogOx2xO.shape )\n",
    "\n"
   ]
  },
  {
   "cell_type": "code",
   "execution_count": null,
   "id": "ced90a8a-3305-4391-9b61-3cd5f9b872f0",
   "metadata": {},
   "outputs": [],
   "source": [
    "A.X.area\n",
    "print( np.sum(A.X.area.values ) , 4.*np.pi )"
   ]
  },
  {
   "cell_type": "code",
   "execution_count": null,
   "id": "09c0666f-54fc-4c43-bb66-83fe06663614",
   "metadata": {},
   "outputs": [],
   "source": [
    "#A.X.area\n",
    "\n",
    "print( np.sum( A.X.area.values*ogOx2xO[0,:] ) , 4.*np.pi )\n",
    "\n",
    "#plt.plot( ogOx2xO[0,:] )"
   ]
  },
  {
   "cell_type": "code",
   "execution_count": null,
   "id": "0a9815d6-41b4-40fc-a6fc-35abd7f4e1c7",
   "metadata": {},
   "outputs": [],
   "source": [
    "dog = ogO - ogOx2xO"
   ]
  },
  {
   "cell_type": "code",
   "execution_count": null,
   "id": "8419810d-8f75-4977-9ab7-a367aff6d279",
   "metadata": {},
   "outputs": [],
   "source": [
    "topoll =RgF.Horz(xfld_Src=topoO , Src='ne240pg3', Dst='latlonOxO' , RegridObj_In=  RgOb_ne240_x_llOxO  ) \n"
   ]
  },
  {
   "cell_type": "code",
   "execution_count": null,
   "id": "51a1d24e-955e-47bf-846b-6dddb11094ac",
   "metadata": {},
   "outputs": [],
   "source": [
    "dogll =RgF.Horz(xfld_Src=dog , Src='ne240pg3', Dst='latlonOxO' , RegridObj_In=  RgOb_ne240_x_llOxO  ) \n"
   ]
  },
  {
   "cell_type": "code",
   "execution_count": null,
   "id": "ce249245-a639-4881-8a7a-60d583345517",
   "metadata": {},
   "outputs": [],
   "source": [
    "ogOll =RgF.Horz(xfld_Src=ogO , Src='ne240pg3', Dst='latlonOxO' , RegridObj_In=  RgOb_ne240_x_llOxO  ) \n",
    "ogOx2xOll =RgF.Horz(xfld_Src=ogOx2xO , Src='ne240pg3', Dst='latlonOxO' , RegridObj_In=  RgOb_ne240_x_llOxO  ) \n"
   ]
  },
  {
   "cell_type": "code",
   "execution_count": null,
   "id": "fd1f44b6-d4f9-44b9-94c4-f70155d8db66",
   "metadata": {},
   "outputs": [],
   "source": [
    "\n",
    "dolev = np.linspace(-1,1,num=21)\n",
    "olev = np.linspace(-10,10,num=21)\n",
    "# Create a figure with a 2x2 grid of subplots\n",
    "fig, ax = plt.subplots(1, 3, figsize=(20, 5))\n",
    "\n",
    "# Flatten axs to easily access each subplot by index\n",
    "ax = ax.flatten()\n",
    "\n",
    "\n",
    "k=70\n",
    "co=ax[0].contourf( ogOll[0,k,:,:] , levels = 0.5*olev, cmap='bwr' )\n",
    "ax[0].set_xlim((500,1000))\n",
    "ax[0].set_ylim((100,400))\n",
    "cb=plt.colorbar( co )\n",
    "co=ax[1].contourf( ogOx2xOll[0,k,:,:] , levels = 0.5*olev , cmap='bwr' )\n",
    "ax[1].set_xlim((500,1000))\n",
    "ax[1].set_ylim((100,400))\n",
    "cb=plt.colorbar( co )\n",
    "co=ax[2].contourf( dogll[0,k,:,:] , levels = 2*dolev , cmap='bwr' )\n",
    "ax[2].set_xlim((500,1000))\n",
    "ax[2].set_ylim((100,400))\n",
    "cb=plt.colorbar( co )\n",
    "#plt.colorbar()"
   ]
  },
  {
   "cell_type": "code",
   "execution_count": null,
   "id": "f5bd3860-1f1a-4b19-8477-9a484aa94dff",
   "metadata": {},
   "outputs": [],
   "source": [
    "toot = (A.X.time[0].values.item() ).strftime('%Y-%m-%d:%HZ')\n",
    "print( toot )"
   ]
  },
  {
   "cell_type": "code",
   "execution_count": null,
   "id": "1f4b3229-2589-48e3-b9f8-035302ed1df7",
   "metadata": {},
   "outputs": [],
   "source": [
    "A.exp"
   ]
  },
  {
   "cell_type": "code",
   "execution_count": null,
   "id": "429ecfd6-5d57-4792-b85b-a10dbb014643",
   "metadata": {},
   "outputs": [],
   "source": [
    "plev=A.X.lev.values\n",
    "#print(plev)\n",
    "zlev= -7.0 * np.log( plev / 1000. )"
   ]
  },
  {
   "cell_type": "code",
   "execution_count": null,
   "id": "5521e940-21bb-4812-80a8-4d1a66015f4d",
   "metadata": {},
   "outputs": [],
   "source": [
    "klist=[90,85, 80,75, 68, 65, 57 , 50 ,38,30,20,10 ]\n",
    "klist=[85, 80, 68, 57 , 38,11 ]\n",
    "\n",
    "zlev[klist]"
   ]
  },
  {
   "cell_type": "code",
   "execution_count": null,
   "id": "468e87b4-b72e-4aca-bfa2-18b81e489e96",
   "metadata": {},
   "outputs": [],
   "source": [
    "\n",
    "\n",
    "dolev = np.linspace(-1,1,num=21)\n",
    "olev = np.linspace(-10,10,num=21)\n",
    "# Create a figure with a 2x2 grid of subplots\n",
    "fig, ax = plt.subplots(3, 4, figsize=(28, 15))\n",
    "\n",
    "# Flatten axs to easily access each subplot by index\n",
    "ax = ax.flatten()\n",
    "\n",
    "t=0\n",
    "toot = (A.X.time[t].values.item() ).strftime('%Y-%m-%d:%HZ')\n",
    "klist=[90,84, 80,75, 68, 65, 57 , 50 ,38,30,20,10 ]\n",
    "p=0\n",
    "for k in klist:\n",
    "    print( plev[k] , zlev[k] )\n",
    "    scak = 500./ plev[k]\n",
    "    #co=ax[p].contourf( scak*ogOll[0,k,:,:] , levels = 0.5*olev , cmap='bwr' )\n",
    "    co=ax[p].contourf( scak*dogll[t,k,:,:] , levels = 2*dolev , cmap='bwr' )\n",
    "    co2 = ax[p].contour( topoll , levels = [1,10,1000], colors='black' )\n",
    "    #ax[p].set_xlim((500,1000))\n",
    "    #ax[p].set_ylim((100,400))\n",
    "    ax[p].set_xlim((200,1300))\n",
    "    ax[p].set_ylim((100,700))\n",
    "    ax[p].set_title( f'{plev[k]:.1f} hPa, {zlev[k]:.1f} km' )\n",
    "    cb=plt.colorbar( co )\n",
    "    p=p+1\n",
    "fig.suptitle( f'{A.exp}, time={toot}' , fontsize=20)\n",
    "#plt.colorbar()\n",
    "FigName=f'Hpass-omega.png'\n",
    "Pu.save_link(png_filename = FigName )\n"
   ]
  },
  {
   "cell_type": "code",
   "execution_count": null,
   "id": "e0d4bb24-2c5e-43c3-800f-8a39093f7ee4",
   "metadata": {},
   "outputs": [],
   "source": [
    "\n",
    "\n",
    "dolev = np.linspace(-1,1,num=21)\n",
    "olev = np.linspace(-10,10,num=21)\n",
    "# Create a figure with a 2x2 grid of subplots\n",
    "fig, ax = plt.subplots(3, 4, figsize=(28, 15))\n",
    "\n",
    "# Flatten axs to easily access each subplot by index\n",
    "ax = ax.flatten()\n",
    "\n",
    "t=0\n",
    "toot = (A.X.time[t].values.item() ).strftime('%Y-%m-%d:%HZ')\n",
    "klist=[90,85, 80,75, 70, 65, 60 , 50 ,40,30,20,10 ]\n",
    "p=0\n",
    "for k in klist:\n",
    "    print( plev[k] , zlev[k] )\n",
    "    scak = 500./ plev[k]\n",
    "    co=ax[p].contourf( scak*ogOll[t,k,:,:] , levels = 0.5*olev , cmap='bwr' )\n",
    "    co2 = ax[p].contour( topoll , levels = [1,10,1000], colors='black' )\n",
    "    #ax[p].set_xlim((500,1000))\n",
    "    #ax[p].set_ylim((100,400))\n",
    "    ax[p].set_xlim((200,1300))\n",
    "    ax[p].set_ylim((100,700))\n",
    "    ax[p].set_title( f'{plev[k]:.1f} hPa, {zlev[k]:.1f} km' )\n",
    "    cb=plt.colorbar( co )\n",
    "    p=p+1\n",
    "fig.suptitle( f'{A.exp}, time={toot}' , fontsize=20)\n",
    "#plt.colorbar()\n",
    "FigName=f'Raw-omega.png'\n",
    "Pu.save_link(png_filename = FigName )\n"
   ]
  },
  {
   "cell_type": "code",
   "execution_count": null,
   "id": "7f1eb3d1-84f0-4efb-9aa9-0a2b46e647a4",
   "metadata": {},
   "outputs": [],
   "source": [
    "###"
   ]
  },
  {
   "cell_type": "code",
   "execution_count": null,
   "id": "77898eed-f530-44ca-8fa2-52b96f57b645",
   "metadata": {},
   "outputs": [],
   "source": [
    "###"
   ]
  },
  {
   "cell_type": "code",
   "execution_count": null,
   "id": "82d766b7-3496-44b0-a76f-26157c198dba",
   "metadata": {},
   "outputs": [],
   "source": [
    "###\n",
    "poo=1"
   ]
  },
  {
   "cell_type": "code",
   "execution_count": null,
   "id": "5f4696c8-458b-40ef-9b10-0c5168773f83",
   "metadata": {},
   "outputs": [],
   "source": [
    "###\n",
    "xoo=poo"
   ]
  },
  {
   "cell_type": "code",
   "execution_count": null,
   "id": "0e0546ec-7c4a-4e69-9bbc-0d43ca5d6831",
   "metadata": {},
   "outputs": [],
   "source": [
    "\n",
    "plt.plot(ogOll[0,k,210,:] )\n",
    "plt.plot(ogOx2xOll[0,k,210,:] )\n",
    "#plt.plot(dogll[0,k,200,:] )\n"
   ]
  },
  {
   "cell_type": "code",
   "execution_count": null,
   "id": "7eb2c0fe-e926-4507-a56f-e6e4bdd44f92",
   "metadata": {},
   "outputs": [],
   "source": [
    "print( np.min(te))\n",
    "\n",
    "# Get the indices of the minimum value\n",
    "min_index = np.unravel_index(np.argmin(te), te.shape)\n",
    "print( min_index )"
   ]
  },
  {
   "cell_type": "code",
   "execution_count": null,
   "id": "16b0b1f6-6848-4a81-94ea-78d2429366e7",
   "metadata": {},
   "outputs": [],
   "source": [
    "print( te[ min_index[0] , min_index[1] ])"
   ]
  },
  {
   "cell_type": "code",
   "execution_count": null,
   "id": "fb6f3819-e036-43c5-b18a-315c553d56b3",
   "metadata": {},
   "outputs": [],
   "source": [
    "plt.plot ( te[ : , min_index[1] ] )"
   ]
  },
  {
   "cell_type": "code",
   "execution_count": null,
   "id": "e6efbf52-81f9-452e-9ac3-a42c3e75098e",
   "metadata": {},
   "outputs": [],
   "source": [
    "fig = plt.figure(figsize=( 20, 10 ))\n",
    "plt.tricontourf( A.X.lon, A.X.lat, te[123,:] )"
   ]
  },
  {
   "cell_type": "code",
   "execution_count": null,
   "id": "5052dd59-e734-420d-b68c-168d8d193e56",
   "metadata": {},
   "outputs": [],
   "source": [
    "# Find all indices where values are below 220\n",
    "below_220_indices = np.where(te < 222)\n",
    "\n",
    "# Convert these to a list of (row, col) pairs\n",
    "below_220_coords = list(zip(below_220_indices[0], below_220_indices[1]))\n",
    "\n"
   ]
  },
  {
   "cell_type": "code",
   "execution_count": null,
   "id": "4f80a7ae-4e89-4bf0-9656-9d1f17b4e38a",
   "metadata": {},
   "outputs": [],
   "source": [
    "plt.tricontourf( lonO, latO, ogO[0,:]-ogOx2xO[0,80,:] )"
   ]
  },
  {
   "cell_type": "code",
   "execution_count": null,
   "id": "8e43bf18-e091-4541-b231-5abf951e9551",
   "metadata": {},
   "outputs": [],
   "source": [
    "plt.tricontourf( lonO, latO, ogO[0,:]-ogOx2xO[0,:] ,levels=21, cmap='bwr' )"
   ]
  },
  {
   "cell_type": "code",
   "execution_count": null,
   "id": "ff3c146e-824f-4a6c-a797-c724bff72613",
   "metadata": {},
   "outputs": [],
   "source": [
    "plt.plot( ogO[0,80,:])\n",
    "plt.plot( ogOx2xO[0,80,:])"
   ]
  },
  {
   "cell_type": "code",
   "execution_count": null,
   "id": "13bf8629-abe0-418b-bd3a-082a390e1c7f",
   "metadata": {},
   "outputs": [],
   "source": [
    "%%time\n",
    "RegridObj = RgF.Horz(Src='ne240pg3', Dst='latlonOxO' )\n"
   ]
  },
  {
   "cell_type": "code",
   "execution_count": null,
   "id": "d8df78fe-b171-4710-8684-530358fa1856",
   "metadata": {},
   "outputs": [],
   "source": [
    "\n"
   ]
  },
  {
   "cell_type": "code",
   "execution_count": null,
   "id": "89c3751d-cbbb-4839-a230-d79ddf170761",
   "metadata": {},
   "outputs": [],
   "source": [
    "print(\"poo poo \")"
   ]
  },
  {
   "cell_type": "code",
   "execution_count": null,
   "id": "9ae288e6-ea40-4e37-83e2-35e0415efc22",
   "metadata": {},
   "outputs": [],
   "source": [
    "from scipy.ndimage import gaussian_filter as GF\n",
    "from matplotlib.ticker import FuncFormatter\n",
    "\n",
    "# Conversion function: km to degrees longitude\n",
    "def km_to_lon(x, km_per_deg=111):\n",
    "    return x / km_per_deg\n",
    "# Conversion function: m to degrees longitude\n",
    "def m_to_lon(x, m_per_deg=68_000):\n",
    "    return (x / m_per_deg)-180.\n",
    "\n",
    "# Create a formatter function using the conversion function\n",
    "def longitude_formatter(x, pos):\n",
    "    return f'{m_to_lon(x):.1f}°'\n",
    "\n",
    "# Define tick positions in degrees and convert to km\n",
    "#tick_positions_deg = [60, 120, 180, 240, 300]\n",
    "tick_positions_deg = [-120, -60, 0, 60, 120]\n",
    "tick_positions_m = [(deg+180.)* 68_000 for deg in tick_positions_deg]  # Assuming 68 km per degree\n",
    "\n",
    "\n",
    "pog44km  = np.sqrt(np.average( (og44km[:,j0:j1,:])**2,axis=1) )\n",
    "pzeta1km = np.sqrt( np.average( (zeta1km[:,j0:j1,:])**2,axis=1) )\n",
    "pzeta5km = np.sqrt( np.average( (zeta5km[:,j0:j1,:])**2,axis=1) )\n",
    "pog1km   = np.sqrt( np.average( (og1km[:,j0:j1,:])**2,axis=1) )\n",
    "pog10km  = np.sqrt( np.average((og10km[:,j0:j1,:])**2,axis=1) )\n",
    "pog20km  = np.sqrt( np.average((og20km[:,j0:j1,:])**2,axis=1) )\n",
    "pshflx   = np.average( (shflx[:,j0:j1,:]),axis=1)\n",
    "pwp1km   = np.average( (wp1km[:,j0:j1,:]),axis=1)\n",
    "pthp1km   = np.average( (thp1km[:,j0:j1,:]),axis=1)\n",
    "\n",
    "\n",
    "xx=np.linspace(0,1.,num=nx)*( 2.*np.pi*6_371_000* np.cos( np.radians( -52. ) ))\n",
    "#xx=np.linspace(-0.5,0.5,num=nx)*( 2.*np.pi*6_371_000* np.cos( np.radians( -52. ) ))\n",
    "tt=np.linspace(0,1.,num=nt)*6.*3600.*nt\n",
    "fig,ax=plt.subplots(1,2,squeeze=False,figsize=(14,6))\n",
    "#plt.contour(pog44km  ,colors='black',levels=5 )\n",
    "cn0=ax[0,0].contourf(  xx,tt, GF( pog20km,sigma=[2,5] ), cmap='inferno',levels=np.linspace(0.,.08,num=11) )#, linestyles='solid' )#[-4,-3,-2])#,colors='blue',levels=5 )\n",
    "ln0=ax[0,0].plot( tt*5 , tt, color='black'  ,  label='5ms$^{-1}$'   )\n",
    "ln0=ax[0,0].plot( tt*10 , tt, '--', color='black' ,  label='10ms$^{-1}$' )\n",
    "ln0=ax[0,0].plot( tt*20 , tt, '-.', color='black' ,  label='20ms$^{-1}$' )\n",
    "ax[0,0].set_xlim( 0,xx.max())\n",
    "# Set the tick positions and formatter for the x-axis\n",
    "ax[0, 0].set_xticks(tick_positions_m)\n",
    "ax[0, 0].xaxis.set_major_formatter(FuncFormatter(longitude_formatter))\n",
    "ax[0,0].legend()\n",
    "ax[0,0].set_title( '$\\omega (20km)$' )\n",
    "\n",
    "cn1=ax[0,1].contourf(  xx,tt, GF( pzeta1km,sigma=[2,5] ) ,cmap='inferno',levels=15)# , linestyles='solid' )#[-4,-3,-2])#,colors='blue',levels=5 )\n",
    "ln1=ax[0,1].plot( tt*5 , tt, color='black' )\n",
    "ln1=ax[0,1].plot( tt*10 , tt, '--', color='black' )\n",
    "ln1=ax[0,1].plot( tt*20 , tt, '-.', color='black' )\n",
    "ax[0,1].set_xlim( 0,xx.max())\n",
    "# Set the formatter for the x-axis\n",
    "ax[0, 1].set_xticks(tick_positions_m)\n",
    "ax[0, 1].xaxis.set_major_formatter(FuncFormatter(longitude_formatter))\n",
    "ax[0,1].set_title( '$\\zeta (5km)$' )\n",
    "\n",
    "\n",
    "fig.colorbar(cn0, ax=ax[0, 0], orientation='vertical')\n",
    "fig.colorbar(cn1, ax=ax[0, 1], orientation='vertical')\n",
    "#plt.contour(pshflx   ,colors='orange')\n",
    "\n",
    "print( np.max(xx)) "
   ]
  },
  {
   "cell_type": "code",
   "execution_count": null,
   "id": "ac8c82b7-99fd-4875-9283-f466443d73f2",
   "metadata": {},
   "outputs": [],
   "source": [
    "print( 6_371_000* np.cos( np.radians( -52. ) ))"
   ]
  },
  {
   "cell_type": "code",
   "execution_count": null,
   "id": "c794ed42-11e9-4076-8110-1d7bf6b72927",
   "metadata": {},
   "outputs": [],
   "source": [
    "\n",
    "fig,ax=plt.subplots(1,2,squeeze=False,figsize=(14,6) )\n",
    "ax[0,0].scatter( GF(pzeta5km,sigma=[2,25])[0:,1000:2000].flatten() , GF((pog20km),sigma=[2,5])[:,1000:2000].flatten() ,s=.1)\n",
    "ax[0,0].set_xlabel( '$\\zeta (5km) $')\n",
    "ax[0,0].set_ylabel( '$\\omega (20km) $')\n",
    "ax[0,1].scatter( GF(pzeta5km,sigma=[2,25])[0:,1000:2000].flatten() , GF((pog10km),sigma=[2,5])[:,1000:2000].flatten() ,s=.1)\n",
    "ax[0,1].set_xlabel( '$\\zeta (5km) $')\n",
    "ax[0,1].set_ylabel( '$\\omega (10km) $')\n",
    "#plt.plot( np.log(pog20km)[:,1000:2000].flatten())"
   ]
  },
  {
   "cell_type": "code",
   "execution_count": null,
   "id": "0fb66d11-4cd1-4d8c-87a9-fcfc34cdbb82",
   "metadata": {},
   "outputs": [],
   "source": [
    "import numpy as np\n",
    "import scipy.ndimage\n",
    "import matplotlib.pyplot as plt\n",
    "\n",
    "# Example 2D array\n",
    "data = np.random.rand(100, 100)\n",
    "\n",
    "# Define 1D kernels for x and y directions\n",
    "kernel_x = np.array([1, 2, 1]) / 4  # Normalize so the sum is 1\n",
    "kernel_y = np.array([1, 4, 6, 4, 1]) / 16  # Normalize so the sum is 1\n",
    "\n",
    "# Apply the kernel along the x-direction\n",
    "smoothed_data_x = scipy.ndimage.convolve1d(data, kernel_x, axis=1)\n",
    "\n",
    "# Apply the kernel along the y-direction\n",
    "smoothed_data = scipy.ndimage.convolve1d(smoothed_data_x, kernel_y, axis=0)\n",
    "\n",
    "# Plot the original and smoothed data\n",
    "fig, ax = plt.subplots(1, 2, figsize=(12, 6))\n",
    "ax[0].imshow(data, cmap='viridis')\n",
    "ax[0].set_title('Original Data')\n",
    "ax[1].imshow(smoothed_data, cmap='viridis')\n",
    "ax[1].set_title('Smoothed Data with Separable Kernels')\n",
    "plt.show()"
   ]
  },
  {
   "cell_type": "code",
   "execution_count": null,
   "id": "31efa4c3-d81f-46ef-ba13-3ba2257ec55a",
   "metadata": {},
   "outputs": [],
   "source": [
    "og44km_var=np.average( og44km**2 , axis=0)"
   ]
  },
  {
   "cell_type": "code",
   "execution_count": null,
   "id": "b82fb719-12bc-44bb-ac16-2ab2a1b4f138",
   "metadata": {},
   "outputs": [],
   "source": [
    "zeta5km_var=np.average( zeta5km**2 , axis=0)"
   ]
  },
  {
   "cell_type": "code",
   "execution_count": null,
   "id": "1af82f99-dabc-4c39-bb3e-e5a6a8a2e3b1",
   "metadata": {},
   "outputs": [],
   "source": [
    "og44km_var.shape"
   ]
  },
  {
   "cell_type": "code",
   "execution_count": null,
   "id": "e2f75e66-ee31-4259-8e3f-e987c343bc3d",
   "metadata": {},
   "outputs": [],
   "source": [
    "plt.contourf( np.sqrt(og44km_var) ,levels=21)"
   ]
  },
  {
   "cell_type": "code",
   "execution_count": null,
   "id": "15f59b4d-f2cb-4a89-ab5d-fe996923bcb6",
   "metadata": {},
   "outputs": [],
   "source": [
    "\n",
    "LL.Maps( fields=[np.sqrt(og44km_var )],lons=[lon_x],lats=[lat_x] ,clevs=[21],cmaps=['gist_ncar'])"
   ]
  },
  {
   "cell_type": "code",
   "execution_count": null,
   "id": "ed8ebff7-00e6-41f3-a4d9-140714a9a146",
   "metadata": {},
   "outputs": [],
   "source": [
    "\n",
    "LL.Maps( fields=[np.sqrt(zeta5km_var )],lons=[lon_x],lats=[lat_x] ,clevs=[np.linspace(0.,0.0001,num=21)],cmaps=['gist_ncar'])"
   ]
  },
  {
   "cell_type": "code",
   "execution_count": null,
   "id": "370a6fe0-ab6c-45d1-aa0e-2d4d7c5955a1",
   "metadata": {},
   "outputs": [],
   "source": []
  }
 ],
 "metadata": {
  "kernelspec": {
   "display_name": "NPL 2023b",
   "language": "python",
   "name": "npl-2023b"
  },
  "language_info": {
   "codemirror_mode": {
    "name": "ipython",
    "version": 3
   },
   "file_extension": ".py",
   "mimetype": "text/x-python",
   "name": "python",
   "nbconvert_exporter": "python",
   "pygments_lexer": "ipython3",
   "version": "3.10.12"
  }
 },
 "nbformat": 4,
 "nbformat_minor": 5
}
