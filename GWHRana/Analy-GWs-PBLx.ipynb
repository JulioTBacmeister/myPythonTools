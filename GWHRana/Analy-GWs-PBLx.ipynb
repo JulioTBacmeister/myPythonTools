{
 "cells": [
  {
   "cell_type": "code",
   "execution_count": null,
   "id": "abda101d-5eee-4761-b122-27066e2274d0",
   "metadata": {},
   "outputs": [],
   "source": [
    "#workdir_ = '/glade/work/juliob/'\n",
    "import sys\n",
    "#######################################\n",
    "# Leave this for now. But it should change to better\n",
    "# method as here:\n",
    "import os\n",
    "This_module_path = os.getcwd()  #os.path.dirname(os.path.abspath(__file__))\n",
    "workdir_ = os.path.join(This_module_path, '../../' )\n",
    "# sys.path.append(utils_path)\n",
    "# print( f\" a path added in {__name__} {utils_path} \")\n",
    "\n",
    "print( f\" In {__name__} we have This_module_path={This_module_path} \" )\n",
    "print( f\" In {__name__} we have workdir_={workdir_} \" )\n",
    "########################################\n",
    "sys.path.append(workdir_ + 'myPythonTools/GenlTools/')\n",
    "sys.path.append(workdir_ + 'myPythonTools/Utils/')\n",
    "sys.path.append(workdir_ + 'myPythonTools/Plotting/')\n",
    "sys.path.append(workdir_ + 'myPythonTools/CASutils/')\n",
    "#sys.path.append(workdir_ + 'PyRegridding/Regridder/')\n",
    "sys.path.append(workdir_ + 'PyRegridding/Utils/')\n",
    "\n",
    "# # #\n",
    "# Own local packages\n",
    "import AveragingUtils as Av\n",
    "#import VertRegridFlexLL as Vrg  # This is toxic for some reason\n",
    "import PlotUtil as Pu\n",
    "import utils as uti\n",
    "import numerical_utils as nuti\n",
    "import validation_data as Val\n",
    "import var_A_x_B as vAB\n",
    "import MakePressures as MkP\n",
    "import GridUtils as GrU\n",
    "import LatLonMaps as LL\n",
    "import filter_utils as fu\n",
    "\n",
    "# The usual\n",
    "from datetime import date\n",
    "import numpy as np\n",
    "import xarray as xr\n",
    "import matplotlib.pyplot as plt\n",
    "import matplotlib.tri as tri\n",
    "\n",
    "# Cartopy for pretty maps\n",
    "import cartopy\n",
    "import cartopy.crs as ccrs\n",
    "import cartopy.feature as cfeature\n",
    "\n",
    "# Some other useful packages \n",
    "import importlib\n",
    "import copy\n",
    "import time\n",
    "import cftime\n",
    "\n",
    "importlib.reload( LL )\n",
    "importlib.reload( uti )\n",
    "importlib.reload( nuti )\n",
    "importlib.reload( Pu )\n",
    "importlib.reload(Av)\n",
    "importlib.reload(Val)\n",
    "importlib.reload(vAB)\n",
    "importlib.reload(MkP)\n"
   ]
  },
  {
   "cell_type": "code",
   "execution_count": null,
   "id": "187de81d-0941-4d2a-9d2c-a0392ad6a121",
   "metadata": {},
   "outputs": [],
   "source": [
    "OurMonth = '2004-07'\n",
    "exp='c153_topfix_ne240pg3_FMTHIST_xic_x02'\n",
    "#exp='fmthist_MM_control_TEM_2'\n",
    "B = uti.MakeDict4Exp( exp=exp , user='juliob', subd='regridded' , hsPat='cam.h1i' , ymdPat=f'{OurMonth}-*' ,verbose=True, open_dataset=True, shift_lons=True )\n",
    "\n",
    "#Q = uti.MakeDict4Exp( exp=exp , user='juliob', subd='regridded' , hsPat='cam.h0' , ymdPat='1994-07*' ,verbose=True, open_dataset=True )\n",
    "#phis=Q.X.PHIS.values/9.8"
   ]
  },
  {
   "cell_type": "code",
   "execution_count": null,
   "id": "c9da2df3-00f0-490a-bb92-469fc342cd05",
   "metadata": {},
   "outputs": [],
   "source": [
    "####\n",
    "C = uti.MakeDict4Exp( exp=exp , user='juliob', subd='regridded' , hsPat='cam.h2i' , ymdPat=f'{OurMonth}-*' ,verbose=True, open_dataset=True , shift_lons=True)"
   ]
  },
  {
   "cell_type": "code",
   "execution_count": null,
   "id": "de4b0505-74be-42e2-91f3-928431f3c314",
   "metadata": {},
   "outputs": [],
   "source": [
    "####\n",
    "D = uti.MakeDict4Exp( exp=exp , user='juliob', subd='regridded' , hsPat='cam.h3i' , ymdPat=f'{OurMonth}-*' ,verbose=True, open_dataset=True , shift_lons=True)"
   ]
  },
  {
   "cell_type": "code",
   "execution_count": null,
   "id": "7cb58b2c-7d7d-4993-92fb-6aefe4ecdabb",
   "metadata": {},
   "outputs": [],
   "source": [
    "D.X"
   ]
  },
  {
   "cell_type": "code",
   "execution_count": null,
   "id": "481f2c43-8a29-4599-81cf-d5de5b1e538e",
   "metadata": {},
   "outputs": [],
   "source": [
    "######################################\n",
    "# Subsample C in time if necessary\n",
    "######################################\n",
    "if (C.X.dims['time'] > B.X.dims['time']):\n",
    "    C.X = C.X.sel( time=B.X.time )"
   ]
  },
  {
   "cell_type": "code",
   "execution_count": null,
   "id": "e57945b0-9592-43d4-b11a-8efcb965a17e",
   "metadata": {},
   "outputs": [],
   "source": [
    "########\n",
    "ps=C.X.PS.values\n",
    "\n",
    "\"\"\"\n",
    "lon0,lat0=100.,-50.\n",
    "zoog = np.where( (np.abs(lat_x - lat0)<1)&(np.abs(lon_x - lon0)<1) )\n",
    "print(zoog[0])\n",
    "\"\"\""
   ]
  },
  {
   "cell_type": "code",
   "execution_count": null,
   "id": "50830be9-1bf3-4ef0-9f6c-fb7205a4e071",
   "metadata": {},
   "outputs": [],
   "source": [
    "########################\n",
    "# Some useful vars\n",
    "########################\n",
    "\n",
    "hyai_x=B.X.hyai.values\n",
    "hybi_x=B.X.hybi.values\n",
    "hyam_x=B.X.hyam.values\n",
    "hybm_x=B.X.hybm.values\n",
    "\n",
    "#ps_x =B.X.PS.values\n",
    "lon_x=B.X.lon.values\n",
    "lat_x=B.X.lat.values\n",
    "lev_x=B.X.lev.values\n",
    "zlev_x=-7.0*np.log( lev_x/1_000. )\n"
   ]
  },
  {
   "cell_type": "code",
   "execution_count": null,
   "id": "5cd12dab-0a8a-42a7-bfbd-60cc19b4c185",
   "metadata": {},
   "outputs": [],
   "source": [
    "\n",
    "k_44=10\n",
    "print(zlev_x[k_44])\n",
    "k_01=80\n",
    "print(zlev_x[k_01])\n",
    "k_20=38\n",
    "print(zlev_x[k_20])\n",
    "k_05=68\n",
    "print(zlev_x[k_05])\n",
    "k_10=58\n",
    "print(zlev_x[k_10])\n"
   ]
  },
  {
   "cell_type": "code",
   "execution_count": null,
   "id": "c3792bd7-bd1f-4eab-aba1-5a096f037292",
   "metadata": {},
   "outputs": [],
   "source": [
    "# Only possible on lat-lon field\n",
    "\n",
    "og44km=B.X.OMEGA[:, k_44, :, :].values\n",
    "nt,nz,ny,nx = np.shape( B.X.OMEGA )\n",
    "ss=np.zeros((nt,ny,nx) )\n",
    "for t in np.arange( nt ):\n",
    "    if ( (t%10)==0):\n",
    "        print( f'time {t}' ) \n",
    "    ss[t,:,:]=fu.filterk( B.X.OMEGA[t,k_44,:,:] , kmin=0,kmax=20,dimlon=1 )\n",
    "og44km = og44km - ss\n",
    "\n",
    "og1km=B.X.OMEGA[:, k_01, :, :].values\n",
    "ss=np.zeros((nt,ny,nx) )\n",
    "for t in np.arange( nt ):\n",
    "    if ( (t%10)==0):\n",
    "        print( f'time {t}' ) \n",
    "    ss[t,:,:]=fu.filterk( B.X.OMEGA[t,k_01,:,:] , kmin=0,kmax=20,dimlon=1 )\n",
    "og1km = og1km - ss\n",
    "\n",
    "og20km=B.X.OMEGA[:, k_20, :, :].values\n",
    "ss=np.zeros((nt,ny,nx) )\n",
    "for t in np.arange( nt ):\n",
    "    if ( (t%10)==0):\n",
    "        print( f'time {t}' ) \n",
    "    ss[t,:,:]=fu.filterk( B.X.OMEGA[t,k_20,:,:] , kmin=0,kmax=20,dimlon=1 )\n",
    "og20km = og20km - ss\n",
    "\n",
    "og10km=B.X.OMEGA[:, k_10, :, :].values\n",
    "ss=np.zeros((nt,ny,nx) )\n",
    "for t in np.arange( nt ):\n",
    "    if ( (t%10)==0):\n",
    "        print( f'time {t}' ) \n",
    "og10km = og10km - ss\n"
   ]
  },
  {
   "cell_type": "code",
   "execution_count": null,
   "id": "98276901-087b-4acd-86e9-817a5666868d",
   "metadata": {},
   "outputs": [],
   "source": [
    "###\n",
    "print(f'hoo ')"
   ]
  },
  {
   "cell_type": "code",
   "execution_count": null,
   "id": "4aee9d20-505d-4a07-8ec8-dd8ab6b3fb56",
   "metadata": {},
   "outputs": [],
   "source": [
    "###\n",
    "print(f'hoo ')"
   ]
  },
  {
   "cell_type": "code",
   "execution_count": null,
   "id": "83fe76a0-2985-4643-b7d6-8260a81532a6",
   "metadata": {},
   "outputs": [],
   "source": [
    "###\n",
    "print(f'hoo ')"
   ]
  },
  {
   "cell_type": "code",
   "execution_count": null,
   "id": "944ea92a-6e50-4b17-98ec-d0fd01ba2406",
   "metadata": {},
   "outputs": [],
   "source": [
    "###\n",
    "\n",
    "\n",
    "u1km=B.X.U[:, k_01, :, : ].values\n",
    "v1km=B.X.V[:, k_01, :, : ].values\n",
    "\n"
   ]
  },
  {
   "cell_type": "code",
   "execution_count": null,
   "id": "a081ec12-f308-4ede-b43c-44902b115f9f",
   "metadata": {},
   "outputs": [],
   "source": [
    "###\n",
    "\n",
    "\n",
    "u5km=B.X.U[:, k_05, :, : ].values\n",
    "v5km=B.X.V[:, k_05, :, : ].values\n",
    "\n"
   ]
  },
  {
   "cell_type": "code",
   "execution_count": null,
   "id": "f2861d7f-32c5-4b37-a580-06ce829caf46",
   "metadata": {},
   "outputs": [],
   "source": [
    "###\n",
    "\n",
    "\n",
    "upwp1km=D.X.UPWP_CLUBB[:, k_01, :, : ].values\n",
    "vpwp1km=D.X.VPWP_CLUBB[:, k_01, :, : ].values\n",
    "wp1km=D.X.WP2_CLUBB[:, k_01, :, : ].values\n",
    "thp1km=D.X.THLP2_CLUBB[:, k_01, :, : ].values\n",
    "\n"
   ]
  },
  {
   "cell_type": "code",
   "execution_count": null,
   "id": "023604d1-ca8c-481b-ac39-9fb352be48f9",
   "metadata": {},
   "outputs": [],
   "source": [
    "%%time\n",
    "zeta1km=np.zeros((nt,ny,nx) )\n",
    "for t in np.arange( nt ):\n",
    "    if ( (t%10)==0):\n",
    "        print( f'time {t}' ) \n",
    "    zeta1km [t,:,:] = nuti.Sphere_Curl2( u1km[t,:,:] , v1km[t,:,:] , lat_x, lon_x, wrap=True )"
   ]
  },
  {
   "cell_type": "code",
   "execution_count": null,
   "id": "921cadc0-baeb-4438-b6a7-7df5094458fc",
   "metadata": {},
   "outputs": [],
   "source": [
    "%%time\n",
    "zeta5km=np.zeros((nt,ny,nx) )\n",
    "for t in np.arange( nt ):\n",
    "    if ( (t%10)==0):\n",
    "        print( f'time {t}' ) \n",
    "    zeta5km [t,:,:] = nuti.Sphere_Curl2( u5km[t,:,:] , v5km[t,:,:] , lat_x, lon_x, wrap=True )"
   ]
  },
  {
   "cell_type": "code",
   "execution_count": null,
   "id": "c53f0aed-f87a-4993-8979-7e4b5d0c50b1",
   "metadata": {},
   "outputs": [],
   "source": [
    "shflx=C.X.SHFLX.values\n",
    "\n"
   ]
  },
  {
   "cell_type": "code",
   "execution_count": null,
   "id": "bdba891c-4c91-47c1-b59b-7ffceb201e06",
   "metadata": {},
   "outputs": [],
   "source": [
    "print(  2.*np.pi*6371. * np.cos( np.radians( -52. ) ) /360. )"
   ]
  },
  {
   "cell_type": "code",
   "execution_count": null,
   "id": "b9a0d5d4-98f8-4994-96a6-e858c9fade31",
   "metadata": {},
   "outputs": [],
   "source": [
    "j0,j1=285,399\n",
    "print( lat_x[[j0,j1]] )"
   ]
  },
  {
   "cell_type": "code",
   "execution_count": null,
   "id": "0985cb93-b75e-4d0c-a8a9-88e70e9fa489",
   "metadata": {},
   "outputs": [],
   "source": [
    "from scipy.ndimage import gaussian_filter as GF\n",
    "from matplotlib.ticker import FuncFormatter\n",
    "\n",
    "# Conversion function: km to degrees longitude\n",
    "def km_to_lon(x, km_per_deg=111):\n",
    "    return x / km_per_deg\n",
    "# Conversion function: m to degrees longitude\n",
    "def m_to_lon(x, m_per_deg=68_000):\n",
    "    return (x / m_per_deg)-180.\n",
    "\n",
    "# Create a formatter function using the conversion function\n",
    "def longitude_formatter(x, pos):\n",
    "    return f'{m_to_lon(x):.1f}°'\n",
    "\n",
    "# Define tick positions in degrees and convert to km\n",
    "#tick_positions_deg = [60, 120, 180, 240, 300]\n",
    "tick_positions_deg = [-120, -60, 0, 60, 120]\n",
    "tick_positions_m = [(deg+180.)* 68_000 for deg in tick_positions_deg]  # Assuming 68 km per degree\n",
    "\n",
    "\n",
    "pog44km  = np.sqrt(np.average( (og44km[:,j0:j1,:])**2,axis=1) )\n",
    "pzeta1km = np.sqrt( np.average( (zeta1km[:,j0:j1,:])**2,axis=1) )\n",
    "pzeta5km = np.sqrt( np.average( (zeta5km[:,j0:j1,:])**2,axis=1) )\n",
    "pog1km   = np.sqrt( np.average( (og1km[:,j0:j1,:])**2,axis=1) )\n",
    "pog10km  = np.sqrt( np.average((og10km[:,j0:j1,:])**2,axis=1) )\n",
    "pog20km  = np.sqrt( np.average((og20km[:,j0:j1,:])**2,axis=1) )\n",
    "pshflx   = np.average( (shflx[:,j0:j1,:]),axis=1)\n",
    "pwp1km   = np.average( (wp1km[:,j0:j1,:]),axis=1)\n",
    "pthp1km   = np.average( (thp1km[:,j0:j1,:]),axis=1)\n",
    "\n",
    "\n",
    "xx=np.linspace(0,1.,num=nx)*( 2.*np.pi*6_371_000* np.cos( np.radians( -52. ) ))\n",
    "#xx=np.linspace(-0.5,0.5,num=nx)*( 2.*np.pi*6_371_000* np.cos( np.radians( -52. ) ))\n",
    "tt=np.linspace(0,1.,num=nt)*6.*3600.*nt\n",
    "fig,ax=plt.subplots(1,2,squeeze=False,figsize=(14,6))\n",
    "#plt.contour(pog44km  ,colors='black',levels=5 )\n",
    "cn0=ax[0,0].contourf(  xx,tt, GF( pog20km,sigma=[2,5] ), cmap='inferno',levels=np.linspace(0.,.08,num=11) )#, linestyles='solid' )#[-4,-3,-2])#,colors='blue',levels=5 )\n",
    "ln0=ax[0,0].plot( tt*5 , tt, color='black'  ,  label='5ms$^{-1}$'   )\n",
    "ln0=ax[0,0].plot( tt*10 , tt, '--', color='black' ,  label='10ms$^{-1}$' )\n",
    "ln0=ax[0,0].plot( tt*20 , tt, '-.', color='black' ,  label='20ms$^{-1}$' )\n",
    "ax[0,0].set_xlim( 0,xx.max())\n",
    "# Set the tick positions and formatter for the x-axis\n",
    "ax[0, 0].set_xticks(tick_positions_m)\n",
    "ax[0, 0].xaxis.set_major_formatter(FuncFormatter(longitude_formatter))\n",
    "ax[0,0].legend()\n",
    "ax[0,0].set_title( '$\\omega (20km)$' )\n",
    "\n",
    "cn1=ax[0,1].contourf(  xx,tt, GF( pzeta1km,sigma=[2,5] ) ,cmap='inferno',levels=15)# , linestyles='solid' )#[-4,-3,-2])#,colors='blue',levels=5 )\n",
    "ln1=ax[0,1].plot( tt*5 , tt, color='black' )\n",
    "ln1=ax[0,1].plot( tt*10 , tt, '--', color='black' )\n",
    "ln1=ax[0,1].plot( tt*20 , tt, '-.', color='black' )\n",
    "ax[0,1].set_xlim( 0,xx.max())\n",
    "# Set the formatter for the x-axis\n",
    "ax[0, 1].set_xticks(tick_positions_m)\n",
    "ax[0, 1].xaxis.set_major_formatter(FuncFormatter(longitude_formatter))\n",
    "ax[0,1].set_title( '$\\zeta (5km)$' )\n",
    "\n",
    "\n",
    "fig.colorbar(cn0, ax=ax[0, 0], orientation='vertical')\n",
    "fig.colorbar(cn1, ax=ax[0, 1], orientation='vertical')\n",
    "#plt.contour(pshflx   ,colors='orange')\n",
    "\n",
    "print( np.max(xx)) "
   ]
  },
  {
   "cell_type": "code",
   "execution_count": null,
   "id": "ac8c82b7-99fd-4875-9283-f466443d73f2",
   "metadata": {},
   "outputs": [],
   "source": [
    "print( 6_371_000* np.cos( np.radians( -52. ) ))"
   ]
  },
  {
   "cell_type": "code",
   "execution_count": null,
   "id": "c794ed42-11e9-4076-8110-1d7bf6b72927",
   "metadata": {},
   "outputs": [],
   "source": [
    "\n",
    "fig,ax=plt.subplots(1,2,squeeze=False,figsize=(14,6) )\n",
    "ax[0,0].scatter( GF(pzeta5km,sigma=[2,25])[0:,1000:2000].flatten() , GF((pog20km),sigma=[2,5])[:,1000:2000].flatten() ,s=.1)\n",
    "ax[0,0].set_xlabel( '$\\zeta (5km) $')\n",
    "ax[0,0].set_ylabel( '$\\omega (20km) $')\n",
    "ax[0,1].scatter( GF(pzeta5km,sigma=[2,25])[0:,1000:2000].flatten() , GF((pog10km),sigma=[2,5])[:,1000:2000].flatten() ,s=.1)\n",
    "ax[0,1].set_xlabel( '$\\zeta (5km) $')\n",
    "ax[0,1].set_ylabel( '$\\omega (10km) $')\n",
    "#plt.plot( np.log(pog20km)[:,1000:2000].flatten())"
   ]
  },
  {
   "cell_type": "code",
   "execution_count": null,
   "id": "0fb66d11-4cd1-4d8c-87a9-fcfc34cdbb82",
   "metadata": {},
   "outputs": [],
   "source": [
    "import numpy as np\n",
    "import scipy.ndimage\n",
    "import matplotlib.pyplot as plt\n",
    "\n",
    "# Example 2D array\n",
    "data = np.random.rand(100, 100)\n",
    "\n",
    "# Define 1D kernels for x and y directions\n",
    "kernel_x = np.array([1, 2, 1]) / 4  # Normalize so the sum is 1\n",
    "kernel_y = np.array([1, 4, 6, 4, 1]) / 16  # Normalize so the sum is 1\n",
    "\n",
    "# Apply the kernel along the x-direction\n",
    "smoothed_data_x = scipy.ndimage.convolve1d(data, kernel_x, axis=1)\n",
    "\n",
    "# Apply the kernel along the y-direction\n",
    "smoothed_data = scipy.ndimage.convolve1d(smoothed_data_x, kernel_y, axis=0)\n",
    "\n",
    "# Plot the original and smoothed data\n",
    "fig, ax = plt.subplots(1, 2, figsize=(12, 6))\n",
    "ax[0].imshow(data, cmap='viridis')\n",
    "ax[0].set_title('Original Data')\n",
    "ax[1].imshow(smoothed_data, cmap='viridis')\n",
    "ax[1].set_title('Smoothed Data with Separable Kernels')\n",
    "plt.show()"
   ]
  },
  {
   "cell_type": "code",
   "execution_count": null,
   "id": "31efa4c3-d81f-46ef-ba13-3ba2257ec55a",
   "metadata": {},
   "outputs": [],
   "source": [
    "og44km_var=np.average( og44km**2 , axis=0)"
   ]
  },
  {
   "cell_type": "code",
   "execution_count": null,
   "id": "b82fb719-12bc-44bb-ac16-2ab2a1b4f138",
   "metadata": {},
   "outputs": [],
   "source": [
    "zeta5km_var=np.average( zeta5km**2 , axis=0)"
   ]
  },
  {
   "cell_type": "code",
   "execution_count": null,
   "id": "1af82f99-dabc-4c39-bb3e-e5a6a8a2e3b1",
   "metadata": {},
   "outputs": [],
   "source": [
    "og44km_var.shape"
   ]
  },
  {
   "cell_type": "code",
   "execution_count": null,
   "id": "e2f75e66-ee31-4259-8e3f-e987c343bc3d",
   "metadata": {},
   "outputs": [],
   "source": [
    "plt.contourf( np.sqrt(og44km_var) ,levels=21)"
   ]
  },
  {
   "cell_type": "code",
   "execution_count": null,
   "id": "15f59b4d-f2cb-4a89-ab5d-fe996923bcb6",
   "metadata": {},
   "outputs": [],
   "source": [
    "\n",
    "LL.Maps( fields=[np.sqrt(og44km_var )],lons=[lon_x],lats=[lat_x] ,clevs=[21],cmaps=['gist_ncar'])"
   ]
  },
  {
   "cell_type": "code",
   "execution_count": null,
   "id": "ed8ebff7-00e6-41f3-a4d9-140714a9a146",
   "metadata": {},
   "outputs": [],
   "source": [
    "\n",
    "LL.Maps( fields=[np.sqrt(zeta5km_var )],lons=[lon_x],lats=[lat_x] ,clevs=[np.linspace(0.,0.0001,num=21)],cmaps=['gist_ncar'])"
   ]
  },
  {
   "cell_type": "code",
   "execution_count": null,
   "id": "370a6fe0-ab6c-45d1-aa0e-2d4d7c5955a1",
   "metadata": {},
   "outputs": [],
   "source": []
  }
 ],
 "metadata": {
  "kernelspec": {
   "display_name": "NPL 2023b",
   "language": "python",
   "name": "npl-2023b"
  },
  "language_info": {
   "codemirror_mode": {
    "name": "ipython",
    "version": 3
   },
   "file_extension": ".py",
   "mimetype": "text/x-python",
   "name": "python",
   "nbconvert_exporter": "python",
   "pygments_lexer": "ipython3",
   "version": "3.10.12"
  }
 },
 "nbformat": 4,
 "nbformat_minor": 5
}
