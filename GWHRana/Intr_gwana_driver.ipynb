{
 "cells": [
  {
   "cell_type": "code",
   "execution_count": null,
   "id": "fec58349-be3b-4ed3-b71c-a6d667f215c2",
   "metadata": {},
   "outputs": [],
   "source": [
    "import numpy as np\n",
    "import xarray as xr\n",
    "\n",
    "from myPythonTools.Utils import utils as uti\n",
    "\n",
    "import phs2_xy_gwana as ph2\n",
    "\n",
    "import importlib\n",
    "\n",
    "importlib.reload(ph2)"
   ]
  },
  {
   "cell_type": "code",
   "execution_count": null,
   "id": "43ea8c3a-2d0c-4bf4-a9c6-ab771a2ecd5f",
   "metadata": {},
   "outputs": [],
   "source": [
    "dex = ph2.xpyp_calcs(out_before_wrt=True)\n"
   ]
  },
  {
   "cell_type": "code",
   "execution_count": null,
   "id": "c21406bd-cff0-4139-9def-79270242cc6f",
   "metadata": {},
   "outputs": [],
   "source": [
    "print( np.shape(dex['devUW']))\n",
    "print( np.shape(dex['time']))\n",
    "print( np.shape(dex['lev']))\n",
    "print( np.shape(dex['lat']))\n",
    "print( np.shape(dex['lon']))\n"
   ]
  },
  {
   "cell_type": "code",
   "execution_count": null,
   "id": "1b8c8790-2ae0-47b2-ac12-7892903e7dda",
   "metadata": {},
   "outputs": [],
   "source": [
    "##################################\n",
    "\n",
    "coords = dict( \n",
    "    lon  = ( [\"lon\"],dex['lon'] ),\n",
    "    lat  = ( [\"lat\"],dex['lat'] ),\n",
    "    lev  = ( [\"lev\"],dex['lev']),\n",
    "    time = ( [\"time\"], dex['time'] ) )\n"
   ]
  },
  {
   "cell_type": "code",
   "execution_count": null,
   "id": "ce7469bf-671f-497d-b4f2-3853f8631254",
   "metadata": {},
   "outputs": [],
   "source": [
    "Xout = xr.Dataset( coords=coords  )"
   ]
  },
  {
   "cell_type": "code",
   "execution_count": null,
   "id": "a05bcb19-bc52-4c95-a878-a0b11e65d4c5",
   "metadata": {},
   "outputs": [],
   "source": [
    "oop='/glade/derecho/scratch/juliob/poonut.nc'"
   ]
  },
  {
   "cell_type": "code",
   "execution_count": null,
   "id": "4fca037f-a989-40bc-8cb1-2ddb07d23127",
   "metadata": {},
   "outputs": [],
   "source": [
    "Dar = xr.DataArray( data=dex['devUW'] , dims=('time','lev','lat','lon',),\n",
    "                            attrs=dict( description='up_omegap',units='Steradians',) ,) \n",
    "\n",
    "Xout['uPomegaP'] = Dar\n",
    "\n",
    "\"\"\"\n",
    "Dar = xr.DataArray( data=dex['devWW'], dims=('time','lev','lat','lon',),\n",
    "                            attrs=dict( description='omegap+2',units='Pa+2 s-2',) ,) \n",
    "\n",
    "Xout['omegaP2'] = Dar\n",
    "\n",
    "Dar = xr.DataArray( data=dex['devUU'], dims=('time','lev','lat','lon',),\n",
    "                            attrs=dict( description='up_omegap',units='Steradians',) ,) \n",
    "\n",
    "Xout['uP2'] = Dar\n",
    "\n",
    "\n",
    "Dar = xr.DataArray( data=dex['varTS'], dims=('time','lat','lon',),\n",
    "                            attrs=dict( description='up_omegap',units='Steradians',) ,) \n",
    "\n",
    "Xout['tsP2'] = Dar\n",
    "\n",
    "\"\"\"\n",
    "\n",
    "#Xout.to_netcdf( Bdiro+outname )\n"
   ]
  },
  {
   "cell_type": "code",
   "execution_count": null,
   "id": "f0b07d3a-db16-4d50-a3be-c69e0572700d",
   "metadata": {},
   "outputs": [],
   "source": [
    "Xout.to_netcdf( oop )"
   ]
  },
  {
   "cell_type": "code",
   "execution_count": null,
   "id": "d0c37fe1-32a1-450b-8365-ceaf3227892a",
   "metadata": {},
   "outputs": [],
   "source": []
  }
 ],
 "metadata": {
  "kernelspec": {
   "display_name": "NPL 2024b",
   "language": "python",
   "name": "npl-2024b"
  },
  "language_info": {
   "codemirror_mode": {
    "name": "ipython",
    "version": 3
   },
   "file_extension": ".py",
   "mimetype": "text/x-python",
   "name": "python",
   "nbconvert_exporter": "python",
   "pygments_lexer": "ipython3",
   "version": "3.11.9"
  }
 },
 "nbformat": 4,
 "nbformat_minor": 5
}
