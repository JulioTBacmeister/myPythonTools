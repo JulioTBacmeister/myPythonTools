{
 "cells": [
  {
   "cell_type": "code",
   "execution_count": null,
   "id": "f449ecf1-a781-4d5f-b959-e25af220a672",
   "metadata": {},
   "outputs": [],
   "source": [
    "################################################\n",
    "# New style \n",
    "################################################\n",
    "import sys\n",
    "import os\n",
    "\n",
    "workdir_ = '/glade/work/juliob'\n",
    "if ( workdir_ not in sys.path ):\n",
    "    sys.path.append(workdir_)\n",
    "    print( f\" a path to {workdir_} added in {__name__} \")\n",
    "\n",
    "import importlib\n",
    "\n",
    "\n",
    "# Cartopy for pretty maps\n",
    "import cartopy\n",
    "import cartopy.crs as ccrs\n",
    "import cartopy.feature as cfeature\n",
    "\n",
    "\n",
    "\n",
    "\n",
    "from myPythonTools.Utils import utils as uti\n",
    "from myPythonTools.Utils import numerical_utils as nuti\n",
    "from myPythonTools.Utils import AveragingUtils as Av\n",
    "from myPythonTools.Utils import validation_data as Val\n",
    "from myPythonTools.Utils import PlotUtil as Pu\n",
    "from myPythonTools.Plotting import LatLonMaps as LL \n",
    "from myPythonTools.CASutils import filter_utils as fu \n",
    "\n",
    "from PyRegridding.Utils import GridUtils as GrU\n",
    "from PyRegridding.Utils import MakePressures as MkP\n",
    "from PyRegridding.Drivers import RegridField as RgF\n",
    "# This contains all the data\n",
    "#----------------------------\n",
    "from PyRegridding.Regridder import GlobalVarClass\n",
    "## importlib.reload( GlobalVarClass )\n",
    "from PyRegridding.Regridder.GlobalVarClass import Gv\n",
    "from PyRegridding.Regridder import ReadInSrc as rdS\n",
    "from PyRegridding.Regridder import Initialize as Ini\n",
    "\n",
    "\n",
    "import WriteVQ as wVQ\n",
    "\n",
    "# The usual\n",
    "from datetime import date\n",
    "import numpy as np\n",
    "import xarray as xr\n",
    "import matplotlib.pyplot as plt\n",
    "import matplotlib.tri as tri\n",
    "\n",
    "# Some other useful packages \n",
    "import copy\n",
    "import time\n",
    "import cftime\n",
    "\n",
    "\n",
    "\n",
    "importlib.reload( uti )\n",
    "importlib.reload( Pu )\n",
    "importlib.reload(Av)\n",
    "importlib.reload(Val)\n",
    "#importlib.reload(vAB)\n",
    "importlib.reload(MkP)\n",
    "importlib.reload(RgF)\n",
    "importlib.reload(rdS)\n",
    "importlib.reload(Ini)\n",
    "importlib.reload(wVQ)\n"
   ]
  },
  {
   "cell_type": "code",
   "execution_count": null,
   "id": "6bffd37b-5fe0-4b7c-8898-f6f6b9027592",
   "metadata": {},
   "outputs": [],
   "source": [
    "\n",
    "rc=Ini.prep(Dst = 'fv1x1', DstVgrid='L93',  Src='ERA5', WOsrf=False , RegridMethod=None , IC_for_pg=False )"
   ]
  },
  {
   "cell_type": "code",
   "execution_count": null,
   "id": "f2f6c8cf-478c-4f4c-b2a4-5173c5d43881",
   "metadata": {},
   "outputs": [],
   "source": [
    "\n",
    "rc=rdS.get_ERA5_just_VQ( year=2010, month=11, day=1, hour0=0)"
   ]
  },
  {
   "cell_type": "code",
   "execution_count": null,
   "id": "350c5af3-5d6e-44db-a12f-4f789879af97",
   "metadata": {},
   "outputs": [],
   "source": [
    "rc=wVQ.write_netcdf()"
   ]
  },
  {
   "cell_type": "code",
   "execution_count": null,
   "id": "25687675-0ac2-45ea-9e3e-28fda8426913",
   "metadata": {},
   "outputs": [],
   "source": [
    "poo=xr.open_dataset( '/glade/campaign/cgd/amp/juliob/ERA5/Fluxes/VQ//e5.oper.an.ml.VQ.2010110100_2010110105.nc' )"
   ]
  },
  {
   "cell_type": "code",
   "execution_count": null,
   "id": "e0ade0ab-df3e-460c-908a-8f56a2476701",
   "metadata": {},
   "outputs": [],
   "source": [
    "poo.VQ\n"
   ]
  },
  {
   "cell_type": "code",
   "execution_count": null,
   "id": "8fb2a266-1ed5-49a7-8a0b-8ea238597b69",
   "metadata": {},
   "outputs": [],
   "source": []
  }
 ],
 "metadata": {
  "kernelspec": {
   "display_name": "NPL 2025a",
   "language": "python",
   "name": "npl-2025a"
  },
  "language_info": {
   "codemirror_mode": {
    "name": "ipython",
    "version": 3
   },
   "file_extension": ".py",
   "mimetype": "text/x-python",
   "name": "python",
   "nbconvert_exporter": "python",
   "pygments_lexer": "ipython3",
   "version": "3.12.8"
  }
 },
 "nbformat": 4,
 "nbformat_minor": 5
}
