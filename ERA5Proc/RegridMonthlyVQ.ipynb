{
 "cells": [
  {
   "cell_type": "code",
   "execution_count": null,
   "id": "b0048983-2d44-4eaf-9847-4b594743775b",
   "metadata": {},
   "outputs": [],
   "source": [
    "################################################\n",
    "# New style \n",
    "################################################\n",
    "import sys\n",
    "import os\n",
    "\n",
    "workdir_ = '/glade/work/juliob'\n",
    "if ( workdir_ not in sys.path ):\n",
    "    sys.path.append(workdir_)\n",
    "    print( f\" a path to {workdir_} added in {__name__} \")\n",
    "\n",
    "from myPythonTools.Utils import utils as uti\n",
    "from myPythonTools.Utils import numerical_utils as nuti\n",
    "from myPythonTools.Utils import AveragingUtils as Av\n",
    "from myPythonTools.Utils import validation_data as Val\n",
    "from myPythonTools.Utils import PlotUtil as Pu\n",
    "from myPythonTools.Plotting import LatLonMaps as LL \n",
    "from myPythonTools.CASutils import filter_utils as fu \n",
    "\n",
    "from PyRegridding.Utils import GridUtils as GrU\n",
    "from PyRegridding.Utils import MakePressures as MkP\n",
    "from PyRegridding.Drivers import RegridField as RgF\n",
    "\n",
    "\n",
    "# The usual\n",
    "from datetime import date\n",
    "import numpy as np\n",
    "import xarray as xr\n",
    "import matplotlib.pyplot as plt\n",
    "import matplotlib.tri as tri\n",
    "\n",
    "# Cartopy for pretty maps\n",
    "import cartopy\n",
    "import cartopy.crs as ccrs\n",
    "import cartopy.feature as cfeature\n",
    "\n",
    "# Some other useful packages \n",
    "import importlib\n",
    "import copy\n",
    "import time\n",
    "import cftime\n",
    "\n",
    "importlib.reload( uti )\n",
    "importlib.reload( Pu )\n",
    "importlib.reload(Av)\n",
    "importlib.reload(Val)\n",
    "#importlib.reload(vAB)\n",
    "importlib.reload(MkP)\n",
    "importlib.reload(RgF)\n",
    "\n",
    "\n",
    "############################\n",
    "# Initialize dict for regridding\n",
    "############################\n",
    "RgObs={}\n"
   ]
  },
  {
   "cell_type": "code",
   "execution_count": null,
   "id": "302f1506-96ff-4fde-8974-e4fc33258ba1",
   "metadata": {},
   "outputs": [],
   "source": [
    "Src = 'ERA5'\n",
    "SrcInfo = GrU.gridInfo(Src) #,Vgrid=DstVgrid)\n",
    "\n",
    "Dst = 'fv1x1'\n",
    "DstInfo = GrU.gridInfo(Dst) #,Vgrid=DstVgrid)\n",
    "lat_x,lon_x = GrU.latlon( scrip= DstInfo['scrip'], Hkey=DstInfo['Hkey'] )\n",
    "\n",
    "RegridObj = GrU.regrid_object_lib(RgOb=RgObs, src=Src, dst=Dst, RegridMethod='CONSERVE_2ND')"
   ]
  },
  {
   "cell_type": "code",
   "execution_count": null,
   "id": "090009c1-097a-4ad5-95a3-e4b0e3c9b75d",
   "metadata": {},
   "outputs": [],
   "source": [
    "lev_a=A.X.lev.values\n",
    "zlev_a=-7.0*np.log( lev_a/1_000. )\n",
    "\n",
    "AAa_s_yx=RgF.Horz(xfld_Src=AAa_s , Src=Src, Dst=Dst , RegridObj_In= RegridObj )\n",
    "A['AA_s_yx'] = AAa_s_yx"
   ]
  },
  {
   "cell_type": "code",
   "execution_count": null,
   "id": "cd4c9480-7813-4c31-b788-a9cf3fc9265d",
   "metadata": {},
   "outputs": [],
   "source": [
    "SuperDir = \"/glade/campaign/cgd/amp/juliob/ERA5\"\n",
    "\n",
    "#for year in np.arange( start=1994, stop=1995 ):\n",
    "#    for month in np.arange( start=1, stop=13 ):\n",
    "for year in np.arange( start=1991, stop=1995 ):\n",
    "    for month in np.arange( start=1, stop=13 ):\n",
    "        \n",
    "        fixed_monthly_dir = f\"{SuperDir}/Fluxes/VQ/monthly/fixed-{str(year).zfill(4)}/\"\n",
    "        fixed_monthly_fil = f\"{fixed_monthly_dir}/e5.oper.an.ml.VQ.{str(year).zfill(4)}-{str(month).zfill(2)}.nc\"\n",
    "        regrd_monthly_dir = f\"{SuperDir}/Fluxes/VQ/monthly/{Dst}-{str(year).zfill(4)}/\"\n",
    "        regrd_monthly_fil = f\"{regrd_monthly_dir}/e5.oper.an.ml.VQ.{Dst}.{str(year).zfill(4)}-{str(month).zfill(2)}.nc\"\n",
    "        os.makedirs( regrd_monthly_dir , exist_ok=True )\n",
    "        \n",
    "        \n",
    "        print(f\"Open {fixed_monthly_fil}\" )\n",
    "        Mly = xr.open_dataset( fixed_monthly_fil )  \n",
    "        Mly = Mly.drop_vars('DateStamp',errors='ignore')\n",
    "        Mly = Mly.drop_vars('times_in_avg',errors='ignore')\n",
    "        Mly = Mly.drop_dims('days', errors='ignore')\n",
    "\n",
    "        print( list(Mly.data_vars) )\n",
    "\n",
    "        vars = list(Mly.data_vars)\n",
    "        coords = dict( \n",
    "            longitude  = ( [\"longitude\"],lon_x ),\n",
    "            latitude   = ( [\"latitude\"],lat_x ),\n",
    "            lev  = ( [\"lev\"],Mly.lev.values),\n",
    "            ilev = ( [\"ilev\"],Mly.ilev.values ),\n",
    "            time = ( [\"time\"],Mly.time.values ), )\n",
    "            #time = ( [\"time\"],np.datetime64(f\"{str(year).zfill(4)}-{str(month).zfill(2)}-15T00:00:00\",\"ns\") ), ) \n",
    "            \n",
    "        Mly_rg = xr.Dataset( coords=coords  )\n",
    "\n",
    "        for var in vars:\n",
    "            print( f'{var} ..: Dims - {Mly[var].dims} ')\n",
    "            print( f'{var} ..: Attr - {Mly[var].attrs} ')\n",
    "\n",
    "            aa   = Mly[var].values        \n",
    "            if ('longitude' in Mly[var].dims) and ('latitude' in Mly[var].dims):\n",
    "                aa_x = RgF.Horz(xfld_Src=aa , Src=Src, Dst=Dst , RegridObj_In= RegridObj ) \n",
    "            else:\n",
    "                aa_x = aa\n",
    "\n",
    "            if ( var == 'a_half'):\n",
    "                attrs=dict( description='interface hybrid eta coordinate A-coeff ',units='Pa',) \n",
    "            elif ( var == 'b_half'):\n",
    "                attrs=dict( description='interface hybrid eta coordinate B-coeff ',units='1',) \n",
    "            elif ( var == 'a_model'):\n",
    "                attrs=dict( description='mid-level hybrid eta coordinate A-coeff ',units='Pa',) \n",
    "            elif ( var == 'b_model'):\n",
    "                attrs=dict( description='mid-level hybrid eta coordinate B-coeff ',units='1',) \n",
    "            elif ( var == 'SP'):\n",
    "                attrs=dict( description='Surface Pressure',units='Pa',) \n",
    "            elif ( var == 'DELP'):\n",
    "                attrs=dict( description='layer Pressure thickness',units='Pa',) \n",
    "            elif ( var == 'VQ'):\n",
    "                attrs=dict( description='meridional q-flux',units='(m s-1)(kg kg-1)',) \n",
    "            elif ( var == 'dPVQ'):\n",
    "                attrs=dict( description='p-thickness weighted meridional q-flux',units='Pa (m s-1)(kg kg-1)',) \n",
    "            else:\n",
    "                attrs=None\n",
    "        \n",
    "            Dar = xr.DataArray( data=aa_x , dims=(Mly[var].dims),\n",
    "                                attrs=attrs ,) \n",
    "\n",
    "            Mly_rg[var] = Dar\n",
    "\n",
    "        print( f'write to {regrd_monthly_fil} ')\n",
    "        Mly_rg.to_netcdf( regrd_monthly_fil ) \n",
    "\n",
    "        \n",
    "        \"\"\"\n",
    "        \n",
    "        \n",
    "        flds=['SP','VQ','DELP','dPVQ','DateStamp','times_in_avg']\n",
    "        for fld in flds:\n",
    "            Mly[fld] = Mly[fld].expand_dims(time=[np.datetime64(f\"{str(year).zfill(4)}-{str(month).zfill(2)}-15T00:00:00\",\"ns\")])\n",
    "        \n",
    "        Mly.to_netcdf( fixed_monthly_fil )\n",
    "        print( f\"    .. Wrote {fixed_monthly_fil}\")\n",
    "        \"\"\""
   ]
  },
  {
   "cell_type": "code",
   "execution_count": null,
   "id": "d463e9e4-a6b8-4cf9-8366-adb7b7463fb1",
   "metadata": {},
   "outputs": [],
   "source": [
    "Mly_rg.dPVQ"
   ]
  },
  {
   "cell_type": "code",
   "execution_count": null,
   "id": "ffa57da1-3f26-4a49-a530-a5d5a492dd37",
   "metadata": {},
   "outputs": [],
   "source": [
    "\n",
    "dpvq_m =Mly.dPVQ.values\n"
   ]
  },
  {
   "cell_type": "code",
   "execution_count": null,
   "id": "71d71aee-7c22-418f-9668-7e1cc9bf33eb",
   "metadata": {},
   "outputs": [],
   "source": [
    "dpvq_d_m = np.average( dpvq_d , axis=0)"
   ]
  },
  {
   "cell_type": "code",
   "execution_count": null,
   "id": "8d70950b-3424-46c4-9336-3350c6545862",
   "metadata": {},
   "outputs": [],
   "source": [
    "err= dpvq_m.flatten() - dpvq_d_m.flatten()"
   ]
  },
  {
   "cell_type": "code",
   "execution_count": null,
   "id": "78ac71d8-bee9-464a-a824-7400b4c04d5c",
   "metadata": {},
   "outputs": [],
   "source": [
    "a=dpvq_m.flatten()\n",
    "print( np.sqrt(np.mean((a - np.mean(a))**2)) )\n"
   ]
  },
  {
   "cell_type": "code",
   "execution_count": null,
   "id": "76ff4537-c7d9-46e2-93b7-7fed2968f084",
   "metadata": {},
   "outputs": [],
   "source": [
    "print( np.sqrt( np.average( err**2 )) )"
   ]
  },
  {
   "cell_type": "code",
   "execution_count": null,
   "id": "3c3c2b79-5df1-4235-a5fe-e1a80e871468",
   "metadata": {},
   "outputs": [],
   "source": [
    "\n",
    "plt.plot( err )\n"
   ]
  },
  {
   "cell_type": "code",
   "execution_count": null,
   "id": "99149f7e-54bc-4076-8ee1-72e64eef4594",
   "metadata": {},
   "outputs": [],
   "source": []
  }
 ],
 "metadata": {
  "kernelspec": {
   "display_name": "NPL 2025a",
   "language": "python",
   "name": "npl-2025a"
  },
  "language_info": {
   "codemirror_mode": {
    "name": "ipython",
    "version": 3
   },
   "file_extension": ".py",
   "mimetype": "text/x-python",
   "name": "python",
   "nbconvert_exporter": "python",
   "pygments_lexer": "ipython3",
   "version": "3.12.8"
  }
 },
 "nbformat": 4,
 "nbformat_minor": 5
}
