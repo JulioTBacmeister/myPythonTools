{
 "cells": [
  {
   "cell_type": "code",
   "execution_count": null,
   "id": "b0048983-2d44-4eaf-9847-4b594743775b",
   "metadata": {},
   "outputs": [],
   "source": [
    "################################################\n",
    "# New style \n",
    "################################################\n",
    "import sys\n",
    "import os\n",
    "import glob \n",
    "workdir_ = '/glade/work/juliob'\n",
    "if ( workdir_ not in sys.path ):\n",
    "    sys.path.append(workdir_)\n",
    "    print( f\" a path to {workdir_} added in {__name__} \")\n",
    "\n",
    "from myPythonTools.Utils import utils as uti\n",
    "from myPythonTools.Utils import numerical_utils as nuti\n",
    "from myPythonTools.Utils import AveragingUtils as Av\n",
    "from myPythonTools.Utils import validation_data as Val\n",
    "from myPythonTools.Utils import PlotUtil as Pu\n",
    "from myPythonTools.Plotting import LatLonMaps as LL \n",
    "from myPythonTools.CASutils import filter_utils as fu \n",
    "\n",
    "from PyRegridding.Utils import GridUtils as GrU\n",
    "from PyRegridding.Utils import MakePressures as MkP\n",
    "from PyRegridding.Drivers import RegridField as RgF\n",
    "\n",
    "\n",
    "# The usual\n",
    "from datetime import date\n",
    "import numpy as np\n",
    "import xarray as xr\n",
    "import matplotlib.pyplot as plt\n",
    "import matplotlib.tri as tri\n",
    "\n",
    "# Cartopy for pretty maps\n",
    "import cartopy\n",
    "import cartopy.crs as ccrs\n",
    "import cartopy.feature as cfeature\n",
    "\n",
    "# Some other useful packages \n",
    "import importlib\n",
    "import copy\n",
    "import time\n",
    "import cftime\n",
    "\n",
    "importlib.reload( uti )\n",
    "importlib.reload( Pu )\n",
    "importlib.reload(Av)\n",
    "importlib.reload(Val)\n",
    "#importlib.reload(vAB)\n",
    "importlib.reload(MkP)\n",
    "importlib.reload(RgF)\n"
   ]
  },
  {
   "cell_type": "code",
   "execution_count": null,
   "id": "c13671c4-2d46-4cca-9fa6-8f7b568dfb6c",
   "metadata": {},
   "outputs": [],
   "source": [
    "def drop_dates_var(ds):\n",
    "    ds=ds.drop_vars('DateStamp',errors='ignore')\n",
    "    ds=ds.drop_vars('times_in_avg',errors='ignore')\n",
    "    ds=ds.drop_dims('days', errors='ignore')\n",
    "    return ds"
   ]
  },
  {
   "cell_type": "code",
   "execution_count": null,
   "id": "cd4c9480-7813-4c31-b788-a9cf3fc9265d",
   "metadata": {},
   "outputs": [],
   "source": [
    "SuperDir = \"/glade/campaign/cgd/amp/juliob/ERA5\"\n",
    "\n",
    "year=1991\n",
    "\n",
    "Dst='fv1x1'\n",
    "path=[]\n",
    "years=[1991,1992,1993,1994]\n",
    "for year in years:\n",
    "    regrd_monthly_dir = f\"{SuperDir}/Fluxes/VQ/monthly/{Dst}-{str(year).zfill(4)}/\"\n",
    "    regrd_monthly_fil = f\"{regrd_monthly_dir}/e5.oper.an.ml.VQ.{Dst}.{str(year).zfill(4)}-*.nc\"\n",
    "    newpath=sorted( glob.glob( regrd_monthly_fil ) )\n",
    "    #print(ymdPat_, newpath)\n",
    "    path = path + newpath\n",
    "\n",
    "print( path )\n",
    "#Mly = xr.open_mfdataset( fixed_monthly_fil , preprocess=drop_dates_var, combine='by_coords' )  \n",
    "        "
   ]
  },
  {
   "cell_type": "code",
   "execution_count": null,
   "id": "d463e9e4-a6b8-4cf9-8366-adb7b7463fb1",
   "metadata": {},
   "outputs": [],
   "source": [
    "Mly = xr.open_mfdataset( path , combine='by_coords' )  \n",
    "Mly"
   ]
  },
  {
   "cell_type": "code",
   "execution_count": null,
   "id": "2bf4458d-72e8-421d-a485-e430b10bef28",
   "metadata": {},
   "outputs": [],
   "source": [
    "print(Mly.VQ.shape)\n",
    "vq=Mly.VQ.values"
   ]
  },
  {
   "cell_type": "code",
   "execution_count": null,
   "id": "cd207a2f-a692-4ea2-8bfa-0d3e7fa581e5",
   "metadata": {},
   "outputs": [],
   "source": [
    "vq_t=np.average( vq , axis=0 )\n",
    "vq_tx = np.average( vq_t , axis=2 )\n",
    "plt.contour( vq_tx )"
   ]
  },
  {
   "cell_type": "code",
   "execution_count": null,
   "id": "d08c4449-eddc-4cb2-ad6d-42cf1b58b70c",
   "metadata": {},
   "outputs": [],
   "source": [
    "\n",
    "\n",
    "Mly_t=Mly.mean( dim='time' )"
   ]
  },
  {
   "cell_type": "code",
   "execution_count": null,
   "id": "1a55627e-d3ef-48e2-9848-54cfeb6a50c4",
   "metadata": {},
   "outputs": [],
   "source": [
    "Mly_tx=Mly_t.mean( dim='longitude' )"
   ]
  },
  {
   "cell_type": "code",
   "execution_count": null,
   "id": "0df25408-97b3-4a36-b3e4-8c9cd0c8fe78",
   "metadata": {},
   "outputs": [],
   "source": [
    "Mly_tx"
   ]
  },
  {
   "cell_type": "code",
   "execution_count": null,
   "id": "71d71aee-7c22-418f-9668-7e1cc9bf33eb",
   "metadata": {},
   "outputs": [],
   "source": [
    "vq_tx= Mly_tx.VQ.values"
   ]
  },
  {
   "cell_type": "code",
   "execution_count": null,
   "id": "8d70950b-3424-46c4-9336-3350c6545862",
   "metadata": {},
   "outputs": [],
   "source": [
    "err= dpvq_m.flatten() - dpvq_d_m.flatten()"
   ]
  },
  {
   "cell_type": "code",
   "execution_count": null,
   "id": "78ac71d8-bee9-464a-a824-7400b4c04d5c",
   "metadata": {},
   "outputs": [],
   "source": [
    "a=dpvq_m.flatten()\n",
    "print( np.sqrt(np.mean((a - np.mean(a))**2)) )\n"
   ]
  },
  {
   "cell_type": "code",
   "execution_count": null,
   "id": "76ff4537-c7d9-46e2-93b7-7fed2968f084",
   "metadata": {},
   "outputs": [],
   "source": [
    "print( np.sqrt( np.average( err**2 )) )"
   ]
  },
  {
   "cell_type": "code",
   "execution_count": null,
   "id": "3c3c2b79-5df1-4235-a5fe-e1a80e871468",
   "metadata": {},
   "outputs": [],
   "source": [
    "\n",
    "plt.plot( err )\n"
   ]
  },
  {
   "cell_type": "code",
   "execution_count": null,
   "id": "99149f7e-54bc-4076-8ee1-72e64eef4594",
   "metadata": {},
   "outputs": [],
   "source": []
  }
 ],
 "metadata": {
  "kernelspec": {
   "display_name": "NPL 2025a",
   "language": "python",
   "name": "npl-2025a"
  },
  "language_info": {
   "codemirror_mode": {
    "name": "ipython",
    "version": 3
   },
   "file_extension": ".py",
   "mimetype": "text/x-python",
   "name": "python",
   "nbconvert_exporter": "python",
   "pygments_lexer": "ipython3",
   "version": "3.12.8"
  }
 },
 "nbformat": 4,
 "nbformat_minor": 5
}
